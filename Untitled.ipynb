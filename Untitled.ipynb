{
 "cells": [
  {
   "cell_type": "code",
   "execution_count": 1,
   "metadata": {},
   "outputs": [
    {
     "ename": "ModuleNotFoundError",
     "evalue": "No module named 'sympy'",
     "output_type": "error",
     "traceback": [
      "\u001b[0;31m---------------------------------------------------------------------------\u001b[0m",
      "\u001b[0;31mModuleNotFoundError\u001b[0m                       Traceback (most recent call last)",
      "\u001b[1;32m/workspaces/Kalyan-Jupyter-Notebooks/Untitled.ipynb Cell 1'\u001b[0m in \u001b[0;36m<cell line: 1>\u001b[0;34m()\u001b[0m\n\u001b[0;32m----> <a href='vscode-notebook-cell://codespaces%2Btalktokalyan-kalyan-jupyter-notebooks-v6j6pvw63p496/workspaces/Kalyan-Jupyter-Notebooks/Untitled.ipynb#ch0000000vscode-remote?line=0'>1</a>\u001b[0m \u001b[39mimport\u001b[39;00m \u001b[39msympy\u001b[39;00m \u001b[39mas\u001b[39;00m \u001b[39msym\u001b[39;00m\n\u001b[1;32m      <a href='vscode-notebook-cell://codespaces%2Btalktokalyan-kalyan-jupyter-notebooks-v6j6pvw63p496/workspaces/Kalyan-Jupyter-Notebooks/Untitled.ipynb#ch0000000vscode-remote?line=1'>2</a>\u001b[0m \u001b[39mimport\u001b[39;00m \u001b[39mnumpy\u001b[39;00m \u001b[39mas\u001b[39;00m \u001b[39mnp\u001b[39;00m\n\u001b[1;32m      <a href='vscode-notebook-cell://codespaces%2Btalktokalyan-kalyan-jupyter-notebooks-v6j6pvw63p496/workspaces/Kalyan-Jupyter-Notebooks/Untitled.ipynb#ch0000000vscode-remote?line=2'>3</a>\u001b[0m \u001b[39mimport\u001b[39;00m \u001b[39mplotly\u001b[39;00m\u001b[39m.\u001b[39;00m\u001b[39mgraph_objects\u001b[39;00m \u001b[39mas\u001b[39;00m \u001b[39mgo\u001b[39;00m\n",
      "\u001b[0;31mModuleNotFoundError\u001b[0m: No module named 'sympy'"
     ]
    }
   ],
   "source": [
    "import sympy as sym\n",
    "import numpy as np\n",
    "import plotly.graph_objects as go\n",
    "\n",
    "############ Budget Line Trace ############\n",
    "def get_budget_line():\n",
    "\n",
    "    #print(x)\n",
    "    # Parameters defining the Budget Constraint\n",
    "    p1 = p1\n",
    "    p2 = p2\n",
    "    inc = inc\n",
    "    X = sym.symbols('X')\n",
    "    # Structure of Budget Line\n",
    "    Y = (inc - p1*(X))/p2        # Good 2 on Y axis\n",
    "\n",
    "    m = sym.diff(Y,X)\n",
    "    slope_list = [float(m) for i in range(rng)]\n",
    "    print(type(float(m)))\n",
    "    print(m)\n",
    "\n",
    "    #m_float= convert(m)\n",
    "    # Generate functions from input parameters\n",
    "    f = sym.lambdify(X, Y, modules=[\"numpy\"]) # sympy module\n",
    "    #fprime = sym.lambdify(x, m, modules=[\"numpy\"]) # sympy module\n",
    "\n",
    "\n",
    "    trace_budgetline = go.Scatter(x= x, y= f(x), customdata= slope_list, name='Budget line',     \n",
    "                                  hovertemplate ='<i>Budget slope</i>: %{customdata:.3f}<br>'+\n",
    "                                                  '<b>Y</b>: %{y}<br>'+\n",
    "                                                  '<b>X</b>: %{x}<br>',)\n",
    "\n",
    "    # Figure Layout & other components\n",
    "    bl_layout = go.Layout(\n",
    "        title = dict(text='Budget Line'),\n",
    "        xaxis=dict(title=\"Good-1 (x1) units\"),\n",
    "        yaxis=dict(title=\"Good-2 (x2) units\"),\n",
    "        grid=None\n",
    "        )\n",
    "\n",
    "    fig2 = go.Figure(layout=bl_layout)\n",
    "    fig2.add_trace(trace_budgetline)\n",
    "        \n",
    "    return fig2\n",
    "fig2 = get_budget_line(1,3,100,20,20)\n",
    "fig2.show()"
   ]
  }
 ],
 "metadata": {
  "interpreter": {
   "hash": "949777d72b0d2535278d3dc13498b2535136f6dfe0678499012e853ee9abcab1"
  },
  "kernelspec": {
   "display_name": "Python 3.10.4 64-bit",
   "language": "python",
   "name": "python3"
  },
  "language_info": {
   "codemirror_mode": {
    "name": "ipython",
    "version": 3
   },
   "file_extension": ".py",
   "mimetype": "text/x-python",
   "name": "python",
   "nbconvert_exporter": "python",
   "pygments_lexer": "ipython3",
   "version": "3.10.4"
  }
 },
 "nbformat": 4,
 "nbformat_minor": 4
}
