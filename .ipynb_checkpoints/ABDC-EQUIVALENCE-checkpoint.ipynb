{
 "cells": [
  {
   "cell_type": "code",
   "execution_count": 155,
   "metadata": {},
   "outputs": [
    {
     "name": "stdout",
     "output_type": "stream",
     "text": [
      "Index(['Journal Title', 'Publisher', 'ISSN', 'ISSN Online', 'Year Inception',\n",
      "       'Field of Research', '2019 Rating', 'NEWISSN', 'NEWISSNONLINE'],\n",
      "      dtype='object')\n"
     ]
    },
    {
     "name": "stderr",
     "output_type": "stream",
     "text": [
      "/Users/kalyan/opt/anaconda3/lib/python3.8/site-packages/IPython/core/interactiveshell.py:3418: DtypeWarning: Columns (5) have mixed types.Specify dtype option on import or set low_memory=False.\n",
      "  exec(code_obj, self.user_global_ns, self.user_ns)\n",
      "<ipython-input-155-72ad8100c59d>:27: FutureWarning: The default value of regex will change from True to False in a future version.\n",
      "  scimagojr_master['Categories']=scimagojr_master['Categories'].str.replace(\"\\(Q1\\)\",\"\")\n",
      "<ipython-input-155-72ad8100c59d>:28: FutureWarning: The default value of regex will change from True to False in a future version.\n",
      "  scimagojr_master['Categories']=scimagojr_master['Categories'].str.replace(\"\\(Q2\\)\",\"\")\n",
      "<ipython-input-155-72ad8100c59d>:29: FutureWarning: The default value of regex will change from True to False in a future version.\n",
      "  scimagojr_master['Categories']=scimagojr_master['Categories'].str.replace(\"\\(Q3\\)\",\"\")\n",
      "<ipython-input-155-72ad8100c59d>:30: FutureWarning: The default value of regex will change from True to False in a future version.\n",
      "  scimagojr_master['Categories']=scimagojr_master['Categories'].str.replace(\"\\(Q4\\)\",\"\")\n"
     ]
    },
    {
     "name": "stdout",
     "output_type": "stream",
     "text": [
      "0                                [Hematology, ;, Oncology]\n",
      "1        [Epidemiology, ;, Health, Information, Managem...\n",
      "2                   [Cell, Biology, ;, Molecular, Biology]\n",
      "3                           [Economics, and, Econometrics]\n",
      "4        [Biomaterials, ;, Electronic,, Optical, and, M...\n",
      "                               ...                        \n",
      "32947                          [Medicine, (miscellaneous)]\n",
      "32948                          [Medicine, (miscellaneous)]\n",
      "32949                          [Medicine, (miscellaneous)]\n",
      "32950                          [Medicine, (miscellaneous)]\n",
      "32951    [Immunology;, Medicine, (miscellaneous);, Micr...\n",
      "Name: Categories, Length: 32952, dtype: object\n",
      "Maximum num of categories: 12\n"
     ]
    },
    {
     "ename": "KeyError",
     "evalue": "'Category_1'",
     "output_type": "error",
     "traceback": [
      "\u001b[0;31m---------------------------------------------------------------------------\u001b[0m",
      "\u001b[0;31mKeyError\u001b[0m                                  Traceback (most recent call last)",
      "\u001b[0;32m~/opt/anaconda3/lib/python3.8/site-packages/pandas/core/indexes/base.py\u001b[0m in \u001b[0;36mget_loc\u001b[0;34m(self, key, method, tolerance)\u001b[0m\n\u001b[1;32m   3360\u001b[0m             \u001b[0;32mtry\u001b[0m\u001b[0;34m:\u001b[0m\u001b[0;34m\u001b[0m\u001b[0;34m\u001b[0m\u001b[0m\n\u001b[0;32m-> 3361\u001b[0;31m                 \u001b[0;32mreturn\u001b[0m \u001b[0mself\u001b[0m\u001b[0;34m.\u001b[0m\u001b[0m_engine\u001b[0m\u001b[0;34m.\u001b[0m\u001b[0mget_loc\u001b[0m\u001b[0;34m(\u001b[0m\u001b[0mcasted_key\u001b[0m\u001b[0;34m)\u001b[0m\u001b[0;34m\u001b[0m\u001b[0;34m\u001b[0m\u001b[0m\n\u001b[0m\u001b[1;32m   3362\u001b[0m             \u001b[0;32mexcept\u001b[0m \u001b[0mKeyError\u001b[0m \u001b[0;32mas\u001b[0m \u001b[0merr\u001b[0m\u001b[0;34m:\u001b[0m\u001b[0;34m\u001b[0m\u001b[0;34m\u001b[0m\u001b[0m\n",
      "\u001b[0;32m~/opt/anaconda3/lib/python3.8/site-packages/pandas/_libs/index.pyx\u001b[0m in \u001b[0;36mpandas._libs.index.IndexEngine.get_loc\u001b[0;34m()\u001b[0m\n",
      "\u001b[0;32m~/opt/anaconda3/lib/python3.8/site-packages/pandas/_libs/index.pyx\u001b[0m in \u001b[0;36mpandas._libs.index.IndexEngine.get_loc\u001b[0;34m()\u001b[0m\n",
      "\u001b[0;32mpandas/_libs/hashtable_class_helper.pxi\u001b[0m in \u001b[0;36mpandas._libs.hashtable.PyObjectHashTable.get_item\u001b[0;34m()\u001b[0m\n",
      "\u001b[0;32mpandas/_libs/hashtable_class_helper.pxi\u001b[0m in \u001b[0;36mpandas._libs.hashtable.PyObjectHashTable.get_item\u001b[0;34m()\u001b[0m\n",
      "\u001b[0;31mKeyError\u001b[0m: 'Category_1'",
      "\nThe above exception was the direct cause of the following exception:\n",
      "\u001b[0;31mKeyError\u001b[0m                                  Traceback (most recent call last)",
      "\u001b[0;32m<ipython-input-155-72ad8100c59d>\u001b[0m in \u001b[0;36m<module>\u001b[0;34m\u001b[0m\n\u001b[1;32m     51\u001b[0m     \u001b[0mi\u001b[0m\u001b[0;34m=\u001b[0m\u001b[0mi\u001b[0m\u001b[0;34m+\u001b[0m\u001b[0;36m1\u001b[0m\u001b[0;34m\u001b[0m\u001b[0;34m\u001b[0m\u001b[0m\n\u001b[1;32m     52\u001b[0m \u001b[0;34m\u001b[0m\u001b[0m\n\u001b[0;32m---> 53\u001b[0;31m \u001b[0mprint\u001b[0m\u001b[0;34m(\u001b[0m\u001b[0mscopus_not_in_abdc\u001b[0m\u001b[0;34m[\u001b[0m\u001b[0;34m'Category_1'\u001b[0m\u001b[0;34m]\u001b[0m\u001b[0;34m.\u001b[0m\u001b[0munique\u001b[0m\u001b[0;34m(\u001b[0m\u001b[0;34m)\u001b[0m\u001b[0;34m)\u001b[0m\u001b[0;34m\u001b[0m\u001b[0;34m\u001b[0m\u001b[0m\n\u001b[0m\u001b[1;32m     54\u001b[0m \u001b[0;34m\u001b[0m\u001b[0m\n\u001b[1;32m     55\u001b[0m \u001b[0;31m#Boolean filter: Look for exclusively SCOPUS journals (which are not available in ABDC list)\u001b[0m\u001b[0;34m\u001b[0m\u001b[0;34m\u001b[0m\u001b[0;34m\u001b[0m\u001b[0m\n",
      "\u001b[0;32m~/opt/anaconda3/lib/python3.8/site-packages/pandas/core/frame.py\u001b[0m in \u001b[0;36m__getitem__\u001b[0;34m(self, key)\u001b[0m\n\u001b[1;32m   3453\u001b[0m             \u001b[0;32mif\u001b[0m \u001b[0mself\u001b[0m\u001b[0;34m.\u001b[0m\u001b[0mcolumns\u001b[0m\u001b[0;34m.\u001b[0m\u001b[0mnlevels\u001b[0m \u001b[0;34m>\u001b[0m \u001b[0;36m1\u001b[0m\u001b[0;34m:\u001b[0m\u001b[0;34m\u001b[0m\u001b[0;34m\u001b[0m\u001b[0m\n\u001b[1;32m   3454\u001b[0m                 \u001b[0;32mreturn\u001b[0m \u001b[0mself\u001b[0m\u001b[0;34m.\u001b[0m\u001b[0m_getitem_multilevel\u001b[0m\u001b[0;34m(\u001b[0m\u001b[0mkey\u001b[0m\u001b[0;34m)\u001b[0m\u001b[0;34m\u001b[0m\u001b[0;34m\u001b[0m\u001b[0m\n\u001b[0;32m-> 3455\u001b[0;31m             \u001b[0mindexer\u001b[0m \u001b[0;34m=\u001b[0m \u001b[0mself\u001b[0m\u001b[0;34m.\u001b[0m\u001b[0mcolumns\u001b[0m\u001b[0;34m.\u001b[0m\u001b[0mget_loc\u001b[0m\u001b[0;34m(\u001b[0m\u001b[0mkey\u001b[0m\u001b[0;34m)\u001b[0m\u001b[0;34m\u001b[0m\u001b[0;34m\u001b[0m\u001b[0m\n\u001b[0m\u001b[1;32m   3456\u001b[0m             \u001b[0;32mif\u001b[0m \u001b[0mis_integer\u001b[0m\u001b[0;34m(\u001b[0m\u001b[0mindexer\u001b[0m\u001b[0;34m)\u001b[0m\u001b[0;34m:\u001b[0m\u001b[0;34m\u001b[0m\u001b[0;34m\u001b[0m\u001b[0m\n\u001b[1;32m   3457\u001b[0m                 \u001b[0mindexer\u001b[0m \u001b[0;34m=\u001b[0m \u001b[0;34m[\u001b[0m\u001b[0mindexer\u001b[0m\u001b[0;34m]\u001b[0m\u001b[0;34m\u001b[0m\u001b[0;34m\u001b[0m\u001b[0m\n",
      "\u001b[0;32m~/opt/anaconda3/lib/python3.8/site-packages/pandas/core/indexes/base.py\u001b[0m in \u001b[0;36mget_loc\u001b[0;34m(self, key, method, tolerance)\u001b[0m\n\u001b[1;32m   3361\u001b[0m                 \u001b[0;32mreturn\u001b[0m \u001b[0mself\u001b[0m\u001b[0;34m.\u001b[0m\u001b[0m_engine\u001b[0m\u001b[0;34m.\u001b[0m\u001b[0mget_loc\u001b[0m\u001b[0;34m(\u001b[0m\u001b[0mcasted_key\u001b[0m\u001b[0;34m)\u001b[0m\u001b[0;34m\u001b[0m\u001b[0;34m\u001b[0m\u001b[0m\n\u001b[1;32m   3362\u001b[0m             \u001b[0;32mexcept\u001b[0m \u001b[0mKeyError\u001b[0m \u001b[0;32mas\u001b[0m \u001b[0merr\u001b[0m\u001b[0;34m:\u001b[0m\u001b[0;34m\u001b[0m\u001b[0;34m\u001b[0m\u001b[0m\n\u001b[0;32m-> 3363\u001b[0;31m                 \u001b[0;32mraise\u001b[0m \u001b[0mKeyError\u001b[0m\u001b[0;34m(\u001b[0m\u001b[0mkey\u001b[0m\u001b[0;34m)\u001b[0m \u001b[0;32mfrom\u001b[0m \u001b[0merr\u001b[0m\u001b[0;34m\u001b[0m\u001b[0;34m\u001b[0m\u001b[0m\n\u001b[0m\u001b[1;32m   3364\u001b[0m \u001b[0;34m\u001b[0m\u001b[0m\n\u001b[1;32m   3365\u001b[0m         \u001b[0;32mif\u001b[0m \u001b[0mis_scalar\u001b[0m\u001b[0;34m(\u001b[0m\u001b[0mkey\u001b[0m\u001b[0;34m)\u001b[0m \u001b[0;32mand\u001b[0m \u001b[0misna\u001b[0m\u001b[0;34m(\u001b[0m\u001b[0mkey\u001b[0m\u001b[0;34m)\u001b[0m \u001b[0;32mand\u001b[0m \u001b[0;32mnot\u001b[0m \u001b[0mself\u001b[0m\u001b[0;34m.\u001b[0m\u001b[0mhasnans\u001b[0m\u001b[0;34m:\u001b[0m\u001b[0;34m\u001b[0m\u001b[0;34m\u001b[0m\u001b[0m\n",
      "\u001b[0;31mKeyError\u001b[0m: 'Category_1'"
     ]
    }
   ],
   "source": [
    "##################################################################\n",
    "# Establishing Equivalence between Scopus and ABDC Journal lists #\n",
    "##################################################################\n",
    "import pandas as pd\n",
    "\n",
    "directory = '/Users/kalyan/OneDrive-IIMV/OneDrive - IIM VIZAG/IIM Vizag/IIMV-AdminWork/ABDC-Scopus-Equivalence/'\n",
    "\n",
    "# Import ABDC MASTER FILE available @ https://abdc.edu.au/research/abdc-journal-quality-list/\n",
    "\n",
    "abdc_master = pd.read_excel('/Users/kalyan/OneDrive-IIMV/OneDrive - IIM VIZAG/IIM Vizag/IIMV-AdminWork/ABDC-Scopus-Equivalence/abdc_jql_2019_v12.xlsx', \n",
    "                            header=8,dtype={'ISSN':str,'ISSN Online':str})\n",
    "#abdc_master = pd.read_excel(directory/ 'abdc_jql_2019_v12.xlsx', header=8)\n",
    "abdc_master['NEWISSN'] = abdc_master['ISSN'].str[:4] + abdc_master['ISSN'].str[-5:]\n",
    "abdc_master['NEWISSNONLINE'] = abdc_master['ISSN Online'].str[:4] + abdc_master['ISSN Online'].str[-5:-1]\n",
    "abdc_master['NEWISSN']=abdc_master['NEWISSN'].str.replace(\"\\t\",\"\")\n",
    "abdc_master['NEWISSNONLINE'] =abdc_master['NEWISSNONLINE'].str.replace(\"\\t\",\"\")\n",
    "abdc_master[['NEWISSN', 'NEWISSNONLINE']]\n",
    "print(abdc_master.columns)\n",
    "\n",
    "# Import SCIMAGO JR MASTER FILE available @ https://www.scimagojr.com/journalrank.php\n",
    "scimagojr_master = pd.read_csv('/Users/kalyan/OneDrive-IIMV/OneDrive - IIM VIZAG/IIM Vizag/IIMV-AdminWork/ABDC-Scopus-Equivalence/scimagojr 2020.csv', \n",
    "                            sep=';', dtype={'Issn':str})\n",
    "new = scimagojr_master['Issn'].str.split(\",\",n=1, expand=True)\n",
    "scimagojr_master['NEWISSN_1']= new[0]\n",
    "scimagojr_master['NEWISSN_2']= new[1]\n",
    "scimagojr_master['Categories_Backup']=scimagojr_master['Categories']\n",
    "scimagojr_master['Categories']=scimagojr_master['Categories'].str.replace(\"\\(Q1\\)\",\"\")\n",
    "scimagojr_master['Categories']=scimagojr_master['Categories'].str.replace(\"\\(Q2\\)\",\"\")\n",
    "scimagojr_master['Categories']=scimagojr_master['Categories'].str.replace(\"\\(Q3\\)\",\"\")\n",
    "scimagojr_master['Categories']=scimagojr_master['Categories'].str.replace(\"\\(Q4\\)\",\"\")\n",
    "# Strip whitespaces before and after string\n",
    "scimagojr_master['Categories']=scimagojr_master['Categories'].str.strip()\n",
    "#scimagojr_master['Categories']=scimagojr_master['Categories'].str.lstrip()\n",
    "\n",
    "tmp=scimagojr_master['Categories'].str.split()\n",
    "print(tmp)\n",
    "\n",
    "\n",
    "# Code to identify and split as many categories a journal belongs to.\n",
    "# First identify maximum number of categories\n",
    "scimagojr_master['Num_Categories']=scimagojr_master.Categories.str.count(\";\")\n",
    "print(\"Maximum num of categories:\",scimagojr_master.Num_Categories.max())\n",
    "cat = scimagojr_master['Categories'].str.split(\";\",n=scimagojr_master.Num_Categories.max(), expand=True)\n",
    "\n",
    "\n",
    "# create one column each for categories of a journal\n",
    "i = 0\n",
    "while i<scimagojr_master.Num_Categories.max():\n",
    "    scimagojr_master['Category_{}'.format(i+1)]= cat[i]\n",
    "    #print(i)\n",
    "    i=i+1\n",
    "    \n",
    "print(scopus_not_in_abdc['Category_1'].unique())\n",
    "\n",
    "#Boolean filter: Look for exclusively SCOPUS journals (which are not available in ABDC list)\n",
    "scopus_not_in_abdc = scimagojr_master[~(scimagojr_master.NEWISSN_1.isin(abdc_master['NEWISSN']) \n",
    "                                        | \n",
    "                                        scimagojr_master.NEWISSN_2.isin(abdc_master['NEWISSN']))]\n",
    "print(scimagojr_master.shape[0],scopus_not_in_abdc.shape[0])\n",
    "print(scopus_not_in_abdc.columns)\n",
    "pd.crosstab(scopus_not_in_abdc['Category_1']=='Economics and Econometrics',scopus_not_in_abdc['SJR Best Quartile'])\n",
    "\n",
    "print(scopus_not_in_abdc[scopus_not_in_abdc['Category_1']=='Economics and Econometrics'][['Title', 'Issn']])\n"
   ]
  },
  {
   "cell_type": "code",
   "execution_count": 10,
   "metadata": {},
   "outputs": [
    {
     "name": "stdout",
     "output_type": "stream",
     "text": [
      "Index(['Journal Title', 'Publisher', 'ISSN', 'ISSN Online', 'Year Inception',\n",
      "       'Field of Research', '2019 Rating', 'NEWISSN', 'NEWISSNONLINE'],\n",
      "      dtype='object')\n",
      "Index(['Scopus Source ID', 'Title', 'Citation Count', 'Scholarly Output',\n",
      "       'Percent Cited', 'CiteScore 2020', 'SNIP', 'SJR',\n",
      "       'Scopus ASJC Code (Sub-subject Area)', 'Scopus Sub-Subject Area',\n",
      "       'Percentile', 'RANK', 'Rank Out Of', 'Publisher', 'Type', 'Open Access',\n",
      "       'Quartile', 'Top 10% (CiteScore Percentile)', 'URL Scopus Source ID',\n",
      "       'Print ISSN', 'E-ISSN', 'Print-ISSN'],\n",
      "      dtype='object')\n"
     ]
    },
    {
     "name": "stderr",
     "output_type": "stream",
     "text": [
      "<ipython-input-10-1bae4b6bc542>:29: SettingWithCopyWarning: \n",
      "A value is trying to be set on a copy of a slice from a DataFrame.\n",
      "Try using .loc[row_indexer,col_indexer] = value instead\n",
      "\n",
      "See the caveats in the documentation: https://pandas.pydata.org/pandas-docs/stable/user_guide/indexing.html#returning-a-view-versus-a-copy\n",
      "  scopus_not_in_abdc['SJR_Deciles'] = pd.qcut(scopus_not_in_abdc.SJR, q=10,labels=False)\n"
     ]
    }
   ],
   "source": [
    "##################################################################\n",
    "# Establishing Equivalence between Scopus and ABDC Journal lists #\n",
    "##################################################################\n",
    "import pandas as pd\n",
    "import openpyxl as opyxl\n",
    "dir = '/Users/kalyan/OneDrive-IIMV/OneDrive - IIM VIZAG/IIM Vizag/IIMV-AdminWork/ABDC-Scopus-Equivalence/'\n",
    "\n",
    "# Import ABDC MASTER FILE available @ https://abdc.edu.au/research/abdc-journal-quality-list/\n",
    "abdc_master = pd.read_excel('{}/abdc_jql_2019_v12.xlsx'.format(dir),header=8,dtype={'ISSN':str,'ISSN Online':str})\n",
    "abdc_master['NEWISSN'] = abdc_master['ISSN'].str[:4] + abdc_master['ISSN'].str[-5:]\n",
    "abdc_master['NEWISSNONLINE'] = abdc_master['ISSN Online'].str[:4] + abdc_master['ISSN Online'].str[-5:-1]\n",
    "abdc_master['NEWISSN']=abdc_master['NEWISSN'].str.replace(\"\\t\",\"\")\n",
    "abdc_master['NEWISSNONLINE'] =abdc_master['NEWISSNONLINE'].str.replace(\"\\t\",\"\")\n",
    "#abdc_master[['NEWISSN', 'NEWISSNONLINE']]\n",
    "print(abdc_master.columns)\n",
    "\n",
    "# Import SCOPUS SOURCE LIST MASTER FILE available @ https://www.scopus.com/sources.uri?zone=TopNavBar&origin=searchbasic\n",
    "scopus_master = pd.read_excel('{}/CiteScore 2011-2020 new methodology - May 2021 2.xlsx'.format(dir), \n",
    "                            sheet_name='CiteScore 2020', dtype={'Print ISSN':str, 'E-ISSN':str})\n",
    "scopus_master['Print-ISSN']=scopus_master['Print ISSN']\n",
    "print(scopus_master.columns)\n",
    "#Boolean filter: Look for exclusively SCOPUS journals (which are not available in ABDC list)\n",
    "scopus_not_in_abdc = scopus_master[~(\n",
    "                                    scopus_master['Print-ISSN'].isin(abdc_master['NEWISSN']) \n",
    "                                        | \n",
    "                                    scopus_master['E-ISSN'].isin(abdc_master['NEWISSNONLINE'])\n",
    "                                    )]\n",
    "# Generate Decile information based on SJR score\n",
    "scopus_not_in_abdc['SJR_Deciles'] = pd.qcut(scopus_not_in_abdc.SJR, q=10,labels=False)\n",
    "# Create tabulations of number of titles within each decile based on SJR score\n",
    "new_df = pd.DataFrame(pd.crosstab(scopus_not_in_abdc['Scopus Sub-Subject Area'],scopus_not_in_abdc['SJR_Deciles']))\n",
    "\n",
    "df2=scopus_not_in_abdc[scopus_not_in_abdc['Scopus Sub-Subject Area']=='Economics and Econometrics'][['Title','SJR','SJR_Deciles','Quartile']]\n",
    "\n",
    "# Write to Excel file\n",
    "path = '{}/SCOPUS-ABDC-EQUIVALENCE.xlsx'.format(dir)\n",
    "with pd.ExcelWriter(path) as writer:\n",
    "    new_df.to_excel(writer, sheet_name='SJR_DECILES')\n",
    "    df2.to_excel(writer, sheet_name='Econ')\n",
    "#### END ####"
   ]
  },
  {
   "cell_type": "code",
   "execution_count": null,
   "metadata": {},
   "outputs": [],
   "source": []
  }
 ],
 "metadata": {
  "kernelspec": {
   "display_name": "Python 3",
   "language": "python",
   "name": "python3"
  },
  "language_info": {
   "codemirror_mode": {
    "name": "ipython",
    "version": 3
   },
   "file_extension": ".py",
   "mimetype": "text/x-python",
   "name": "python",
   "nbconvert_exporter": "python",
   "pygments_lexer": "ipython3",
   "version": "3.8.5"
  }
 },
 "nbformat": 4,
 "nbformat_minor": 4
}
