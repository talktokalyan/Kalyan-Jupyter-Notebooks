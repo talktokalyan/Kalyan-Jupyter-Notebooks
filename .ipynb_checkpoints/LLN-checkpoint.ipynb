{
 "cells": [
  {
   "cell_type": "markdown",
   "metadata": {},
   "source": [
    "# Law of Large Numbers"
   ]
  },
  {
   "cell_type": "markdown",
   "metadata": {},
   "source": [
    "%%latex\n",
    "\\textbf{Strong Law (LLN):} Sample average converges \\textit{almost surely a.s} to population mean. \n",
    "Mathematically speaking, as N $\\to \\infty$\n",
    "\n",
    "\\begin{equation} \\bar{X}_N=\\frac{X_1 +X_2+...+X_N}{N} \\to \\mu \\end{equation} \n",
    "\n",
    "The probability that, as the number of trials N goes to infinity, the average of the observations converges to the expected value, is equal to one\n",
    "\\\\ $$Pr(\\lim_{N\\to\\infty} \\bar{X}_N = \\mu)=1 $$\n",
    "\\textbf{Weak Law (LLN) Khinchin law :}  The sample average converges in \\textit{probability} towards the expected value. \n",
    "$$\\lim_{N\\to\\infty} Pr(| \\bar{X}_N - \\mu|>\\epsilon) = 0$$"
   ]
  },
  {
   "cell_type": "code",
   "execution_count": 87,
   "metadata": {},
   "outputs": [],
   "source": [
    "## LAW OF LARGE NUMBERS\n",
    "\n",
    "import numpy as np\n",
    "import matplotlib.pyplot as plt\n",
    "import seaborn as sns\n",
    "import scipy.stats as spstats\n",
    "\n",
    "def lln(ssize,dist):\n",
    "    #print(ssize,dist)\n",
    "    #print(type(ssize),type(dist))\n",
    "    \n",
    "    np.random.seed(200) # set seed for reproducability of results\n",
    "    \n",
    "    \"PLOT SAMPLE DISTRIBUTION\"\n",
    "    ss = ssize\n",
    "    dist_type = dist\n",
    "    \n",
    "    def normal():\n",
    "        th_std_norm = spstats.norm(0,1) #  Std normal\n",
    "        samp_std_norm = th_std_norm.rvs(ss)     \n",
    "        return th_std_norm, samp_std_norm\n",
    "    def uniform():\n",
    "        th_uniform = spstats.uniform(0,1) # Uniform: a=lowerbound =0.0 ; b=upperbound =1.0\n",
    "        samp_uniform = th_uniform.rvs(ss)     \n",
    "        return th_uniform, samp_uniform \n",
    "    def binomial():\n",
    "        th_binomial = spstats.binomial(n=10,p=0.5,size=ss) # Num trials = 10, prob= 0.5\n",
    "        samp_binomial = th_binomial.rvs(ss)     \n",
    "        return th_binomial, samp_binomial \n",
    "    def poisson():\n",
    "        #tmp = np.random.poisson(lam=2,size=ss) \n",
    "        th_poisson = spstats.poisson(lam=2,size=ss) #lam = average occurence of discrete event\n",
    "        samp_poisson = th_poisson.rvs(ss)     \n",
    "        return th_poisson, samp_poisson    \n",
    "    def logistic():\n",
    "        # tmp = np.random.logistic(loc=0,scale=2,size=ss) #default: loc =mean of the peak= 0; scale =standard deviation=1\n",
    "        th_logistic = spstats.logistic(lam=2,size=ss) #lam = average occurence of discrete event\n",
    "        samp_logistic = th_logistic.rvs(ss)     \n",
    "        return th_logistic, samp_logistic \n",
    "    def multinomial():\n",
    "        #tmp = np.random.multinomial(n=6,pvals=[1/6, 1/6, 1/6, 1/6, 1/6, 1/6],size=ss) #default(dice roll): n= numoutcomes=6; pvals=[1/6, 1/6, 1/6, 1/6, 1/6, 1/6]\n",
    "        th_multionomial = spstats.multinomial(n=6,pvals=[1/6, 1/6, 1/6, 1/6, 1/6, 1/6]) #lam = average occurence of discrete event\n",
    "        samp_multinomial = th_multionomial.rvs(ss)     \n",
    "        return th_multionomial, samp_multinomial\n",
    "    def exponential():\n",
    "        #tmp = np.random.exponential(scale=1,size=ss) #default: scale =inverse of rate =1.0.\n",
    "        th_exponential = spstats.expon(scale=1) #default: scale =inverse of rate =1.0.\n",
    "        samp_exponential = th_exponential.rvs(ss)     \n",
    "        return th_exponential, samp_exponential    \n",
    "    def chisquare():\n",
    "        #tmp = np.random.chisquare(df=5,size=ss) #df - (degree of freedom).\n",
    "        th_chisquare = spstats.chisquare(df=5) #default: scale =inverse of rate =1.0.\n",
    "        samp_chisquare = th_chisquare.rvs(ss)     \n",
    "        return th_chisquare, samp_chisquare \n",
    "    def rayleigh():\n",
    "        #tmp = np.random.rayleigh(scale=1.0,size=ss) #default:scale - (standard deviation)=1.0\n",
    "        th_rayleigh = spstats.rayleigh(scale=1.0) #default: scale =inverse of rate =1.0.\n",
    "        samp_rayleigh = th_rayleigh.rvs(ss)     \n",
    "        return th_rayleigh, samp_rayleigh \n",
    "    def pareto():\n",
    "        #tmp = np.random.pareto(a=2,size=ss) # a - shape parameter.\n",
    "        th_pareto = spstats.pareto(a=2) # a - shape parameter\n",
    "        samp_pareto = th_pareto.rvs(ss)     \n",
    "        return th_pareto, samp_pareto\n",
    "    def zipf():\n",
    "        #tmp = np.random.zipf(a=2, size=ss) # a - shape parameter.\n",
    "        th_zipf = spstats.zipf(a=2) # a - shape parameter\n",
    "        samp_zipf = th_zipf.rvs(ss)     \n",
    "        return th_zipf, samp_zipf\n",
    "    def the_count():\n",
    "        print(\"No distribution chosen\")\n",
    "    \n",
    "    # Dispatcher aides in calling different functions based on parameters.    \n",
    "    dispatcher = {\n",
    "        'Normal': normal, 'Uniform': uniform, 'Binomial': binomial, 'Poisson': poisson, 'Logistic': logistic, \n",
    "        'Multinomial': multinomial, 'Exponential': exponential, 'Chi-square': chisquare, 'Rayleigh': rayleigh, \n",
    "        'Pareto': pareto, 'Zipf': zipf, 'The_count': the_count\n",
    "    }\n",
    "\n",
    "    x, y = dispatcher[dist_type]() # Assign return value of different function calls (normal,uniform,etc.) to x.\n",
    "    #print(x)\n",
    "    \n",
    "    fig, ax = plt.subplots(1,1,sharey=True,figsize = (5,5))\n",
    "\n",
    "    pop_mu = x.mean()\n",
    "    pop_sigma = x.std()\n",
    "    sample_mu = y.mean()\n",
    "    sample_sigma = y.std()\n",
    "    min_xlim, max_xlim = plt.xlim()\n",
    "    min_ylim, max_ylim = plt.ylim()\n",
    "    #print(min_xlim, max_xlim,min_ylim, max_ylim)\n",
    "    boxtext = '\\n'.join((\n",
    "    r'Population $\\mu=%.3f$' % (pop_mu, ),\n",
    "    r'Population $\\sigma=%.3f$' % (pop_sigma, ),\n",
    "    r'Sample Size:%.f ' % (ss, ),\n",
    "    r'Sample Mean:%.3f' % (sample_mu, ),\n",
    "    r'Sample S.D:%.3f' % (sample_sigma, ),\n",
    "    ))\n",
    "    props = dict(boxstyle='round', facecolor='grey', alpha=0.5)\n",
    "    #sns.distplot(x,color='Green')\n",
    "    ax.hist(y,bins=50,color='Green',density=1)\n",
    "    ax.axvline(x.mean(), color='blue', linestyle=':', linewidth=1.5)\n",
    "    ax.axvline(y.mean(), color='green', linestyle='-', linewidth=1)\n",
    "    fig.text(1,1, boxtext, fontsize=12,ha='left', va='top', bbox=props)\n",
    "    ax.set_title(\"Distribution of {} Random Sample (Size ={})\".format(dist_type,ss))\n",
    "    ax.set_xlabel(\"Outcome (x)\")\n",
    "    ax.set_ylabel(\"Density\")\n",
    "    fig.savefig('lln.png', bbox_inches=\"tight\")\n",
    "    #print(type(fig))\n",
    "    #print(type(ax))\n",
    "    return x\n"
   ]
  },
  {
   "cell_type": "code",
   "execution_count": 90,
   "metadata": {},
   "outputs": [
    {
     "data": {
      "image/png": "[encoded data removed]",
      "text/plain": [
       "<Figure size 360x360 with 1 Axes>"
      ]
     },
     "metadata": {
      "needs_background": "light"
     },
     "output_type": "display_data"
    }
   ],
   "source": [
    "y= lln(5070,'Normal')\n"
   ]
  },
  {
   "cell_type": "code",
   "execution_count": null,
   "metadata": {},
   "outputs": [],
   "source": []
  }
 ],
 "metadata": {
  "kernelspec": {
   "display_name": "Python 3",
   "language": "python",
   "name": "python3"
  },
  "language_info": {
   "codemirror_mode": {
    "name": "ipython",
    "version": 3
   },
   "file_extension": ".py",
   "mimetype": "text/x-python",
   "name": "python",
   "nbconvert_exporter": "python",
   "pygments_lexer": "ipython3",
   "version": "3.7.2"
  }
 },
 "nbformat": 4,
 "nbformat_minor": 4
}
