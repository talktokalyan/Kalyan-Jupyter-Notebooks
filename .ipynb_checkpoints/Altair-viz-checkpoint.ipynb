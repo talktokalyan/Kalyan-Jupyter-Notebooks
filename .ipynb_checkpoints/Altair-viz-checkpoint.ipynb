{
 "cells": [
  {
   "cell_type": "code",
   "execution_count": 1,
   "id": "structured-dragon",
   "metadata": {},
   "outputs": [
    {
     "name": "stdout",
     "output_type": "stream",
     "text": [
      "Displaying chart at http://localhost:19688/\n"
     ]
    }
   ],
   "source": [
    "import pandas as pd\n",
    "import altair as alt\n",
    "import altair_viewer as av\n",
    "#import datapane as dp\n",
    "#alt.renderers.enable('altair_viewer')\n",
    "alt.renderers.enable('notebook')\n",
    "\n",
    "dataset = pd.read_csv('https://covid.ourworldindata.org/data/owid-covid-data.csv')\n",
    "df = dataset.groupby(['continent', 'date'])['new_cases_smoothed_per_million'].mean().reset_index()\n",
    "\n",
    "plot = alt.Chart(df).mark_area(opacity=0.4, stroke='black').encode(\n",
    "    x='date:T',\n",
    "    y=alt.Y('new_cases_smoothed_per_million:Q', stack=None),\n",
    "    color=alt.Color('continent:N', scale=alt.Scale(scheme='set1')),\n",
    "    tooltip='continent:N'\n",
    ").interactive().properties(width='container')\n",
    "\n",
    "plot.show()"
   ]
  },
  {
   "cell_type": "code",
   "execution_count": null,
   "id": "seeing-matthew",
   "metadata": {},
   "outputs": [],
   "source": []
  }
 ],
 "metadata": {
  "kernelspec": {
   "display_name": "Python 3",
   "language": "python",
   "name": "python3"
  },
  "language_info": {
   "codemirror_mode": {
    "name": "ipython",
    "version": 3
   },
   "file_extension": ".py",
   "mimetype": "text/x-python",
   "name": "python",
   "nbconvert_exporter": "python",
   "pygments_lexer": "ipython3",
   "version": "3.7.2"
  }
 },
 "nbformat": 4,
 "nbformat_minor": 5
}
