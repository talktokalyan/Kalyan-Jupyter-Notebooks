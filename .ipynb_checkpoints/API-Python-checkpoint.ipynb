{
 "cells": [
  {
   "cell_type": "code",
   "execution_count": null,
   "metadata": {},
   "outputs": [],
   "source": [
    "import requests\n",
    "from datetime import date, timedelta\n",
    "\n",
    "today = date.today()\n",
    "yesterday = today - timedelta(days=1)\n",
    "country = \"germany\"\n",
    "endpoint = f\"https://api.covid19api.com/country/{country}/status/confirmed\"\n",
    "params = {\"from\": str(yesterday), \"to\": str(today)}\n",
    "\n",
    "response = requests.get(endpoint, params=params).json()\n",
    "total_confirmed = 0\n",
    "for day in response:\n",
    "    cases = day.get(\"Cases\", 0)\n",
    "    total_confirmed += cases\n",
    "\n",
    "print(f\"Total Confirmed Covid-19 cases in {country}: {total_confirmed}\")"
   ]
  }
 ],
 "metadata": {
  "kernelspec": {
   "display_name": "Python 3",
   "language": "python",
   "name": "python3"
  },
  "language_info": {
   "codemirror_mode": {
    "name": "ipython",
    "version": 3
   },
   "file_extension": ".py",
   "mimetype": "text/x-python",
   "name": "python",
   "nbconvert_exporter": "python",
   "pygments_lexer": "ipython3",
   "version": "3.8.5"
  }
 },
 "nbformat": 4,
 "nbformat_minor": 4
}
