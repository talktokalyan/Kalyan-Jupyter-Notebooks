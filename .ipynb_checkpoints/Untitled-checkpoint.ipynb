{
 "cells": [
  {
   "cell_type": "code",
   "execution_count": 1,
   "metadata": {},
   "outputs": [
    {
     "ename": "TypeError",
     "evalue": "get_budget_line() takes 0 positional arguments but 5 were given",
     "output_type": "error",
     "traceback": [
      "\u001b[0;31m---------------------------------------------------------------------------\u001b[0m",
      "\u001b[0;31mTypeError\u001b[0m                                 Traceback (most recent call last)",
      "\u001b[0;32m<ipython-input-1-d029f3931d55>\u001b[0m in \u001b[0;36m<module>\u001b[0;34m\u001b[0m\n\u001b[1;32m     43\u001b[0m \u001b[0;34m\u001b[0m\u001b[0m\n\u001b[1;32m     44\u001b[0m     \u001b[0;32mreturn\u001b[0m \u001b[0mfig2\u001b[0m\u001b[0;34m\u001b[0m\u001b[0;34m\u001b[0m\u001b[0m\n\u001b[0;32m---> 45\u001b[0;31m \u001b[0mfig2\u001b[0m \u001b[0;34m=\u001b[0m \u001b[0mget_budget_line\u001b[0m\u001b[0;34m(\u001b[0m\u001b[0;36m1\u001b[0m\u001b[0;34m,\u001b[0m\u001b[0;36m3\u001b[0m\u001b[0;34m,\u001b[0m\u001b[0;36m100\u001b[0m\u001b[0;34m,\u001b[0m\u001b[0;36m20\u001b[0m\u001b[0;34m,\u001b[0m\u001b[0;36m20\u001b[0m\u001b[0;34m)\u001b[0m\u001b[0;34m\u001b[0m\u001b[0;34m\u001b[0m\u001b[0m\n\u001b[0m\u001b[1;32m     46\u001b[0m \u001b[0mfig2\u001b[0m\u001b[0;34m.\u001b[0m\u001b[0mshow\u001b[0m\u001b[0;34m(\u001b[0m\u001b[0;34m)\u001b[0m\u001b[0;34m\u001b[0m\u001b[0;34m\u001b[0m\u001b[0m\n",
      "\u001b[0;31mTypeError\u001b[0m: get_budget_line() takes 0 positional arguments but 5 were given"
     ]
    }
   ],
   "source": [
    "import sympy as sym\n",
    "import numpy as np\n",
    "import plotly.graph_objects as go\n",
    "\n",
    "############ Budget Line Trace ############\n",
    "def get_budget_line():\n",
    "\n",
    "    #print(x)\n",
    "    # Parameters defining the Budget Constraint\n",
    "    p1 = p1\n",
    "    p2 = p2\n",
    "    inc = inc\n",
    "    X = sym.symbols('X')\n",
    "    # Structure of Budget Line\n",
    "    Y = (inc - p1*(X))/p2        # Good 2 on Y axis\n",
    "\n",
    "    m = sym.diff(Y,X)\n",
    "    slope_list = [float(m) for i in range(rng)]\n",
    "    print(type(float(m)))\n",
    "    print(m)\n",
    "\n",
    "    #m_float= convert(m)\n",
    "    # Generate functions from input parameters\n",
    "    f = sym.lambdify(X, Y, modules=[\"numpy\"]) # sympy module\n",
    "    #fprime = sym.lambdify(x, m, modules=[\"numpy\"]) # sympy module\n",
    "\n",
    "\n",
    "    trace_budgetline = go.Scatter(x= x, y= f(x), customdata= slope_list, name='Budget line',     \n",
    "                                  hovertemplate ='<i>Budget slope</i>: %{customdata:.3f}<br>'+\n",
    "                                                  '<b>Y</b>: %{y}<br>'+\n",
    "                                                  '<b>X</b>: %{x}<br>',)\n",
    "\n",
    "    # Figure Layout & other components\n",
    "    bl_layout = go.Layout(\n",
    "        title = dict(text='Budget Line'),\n",
    "        xaxis=dict(title=\"Good-1 (x1) units\"),\n",
    "        yaxis=dict(title=\"Good-2 (x2) units\"),\n",
    "        grid=None\n",
    "        )\n",
    "\n",
    "    fig2 = go.Figure(layout=bl_layout)\n",
    "    fig2.add_trace(trace_budgetline)\n",
    "        \n",
    "    return fig2\n",
    "fig2 = get_budget_line(1,3,100,20,20)\n",
    "fig2.show()"
   ]
  },
  {
   "cell_type": "code",
   "execution_count": null,
   "metadata": {},
   "outputs": [],
   "source": []
  },
  {
   "cell_type": "code",
   "execution_count": null,
   "metadata": {},
   "outputs": [],
   "source": []
  }
 ],
 "metadata": {
  "kernelspec": {
   "display_name": "Python 3",
   "language": "python",
   "name": "python3"
  },
  "language_info": {
   "codemirror_mode": {
    "name": "ipython",
    "version": 3
   },
   "file_extension": ".py",
   "mimetype": "text/x-python",
   "name": "python",
   "nbconvert_exporter": "python",
   "pygments_lexer": "ipython3",
   "version": "3.8.5"
  }
 },
 "nbformat": 4,
 "nbformat_minor": 4
}
