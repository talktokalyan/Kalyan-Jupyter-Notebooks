{
 "cells": [
  {
   "cell_type": "code",
   "execution_count": 72,
   "metadata": {},
   "outputs": [
    {
     "name": "stdout",
     "output_type": "stream",
     "text": [
      "ABDC\n",
      "SCOPUS\n",
      "S0:  59344\n",
      "S1:  49274\n",
      "S2:  32567\n",
      "S3:  32507\n",
      "S4:  32507\n"
     ]
    }
   ],
   "source": [
    "##################################################################\n",
    "# Establishing Equivalence between Scopus and ABDC Journal lists #\n",
    "##################################################################\n",
    "import pandas as pd\n",
    "import openpyxl as opyxl\n",
    "dir = '/Users/kalyan/OneDrive-IIMV/OneDrive - IIM VIZAG/IIM Vizag/IIMV-AdminWork/ABDC-Scopus-Equivalence/'\n",
    "\n",
    "print(\"ABDC\")\n",
    "\n",
    "# Import ABDC MASTER FILE available @ https://abdc.edu.au/research/abdc-journal-quality-list/\n",
    "abdc_master = pd.read_excel('{}/abdc_jql_2019_v12.xlsx'.format(dir),header=8,dtype={'ISSN':str,'ISSN Online':str})\n",
    "#abdc_master['NEWISSN'] = abdc_master['ISSN'].str[:4] + abdc_master['ISSN'].str[-5:]\n",
    "#abdc_master['NEWISSNONLINE'] = abdc_master['ISSN Online'].str[:4] + abdc_master['ISSN Online'].str[-5:-1]\n",
    "abdc_master['NEWISSN'] = abdc_master['ISSN'].str.replace(\"-\",\"\")\n",
    "abdc_master['NEWISSN']=abdc_master['NEWISSN'].str.replace(\"\\t\",\"\")\n",
    "abdc_master['NEWISSNONLINE'] = abdc_master['ISSN Online'].str.replace(\"-\",\"\")\n",
    "abdc_master['NEWISSNONLINE'] =abdc_master['NEWISSNONLINE'].str.replace(\"\\t\",\"\")\n",
    "abdc_master['NEWISSN']=abdc_master['NEWISSN'].str.lstrip(\"0\")\n",
    "abdc_master['NEWISSNONLINE']=abdc_master['NEWISSNONLINE'].str.lstrip(\"0\")\n",
    "abdc_master['NEWISSN'].fillna(\"MISSING\", inplace=True)\n",
    "abdc_master['NEWISSNONLINE'].fillna(\"-MISSING\", inplace=True)\n",
    "abdc_master['Unique-ISSN']=abdc_master['NEWISSN']+abdc_master['NEWISSNONLINE']\n",
    "\n",
    "print(\"SCOPUS\")\n",
    "\n",
    "# Import SCOPUS SOURCE LIST MASTER FILE available @ https://www.scopus.com/sources.uri?zone=TopNavBar&origin=searchbasic\n",
    "scopus_master = pd.read_excel('{}/CiteScore 2011-2020 new methodology - May 2021.xlsx'.format(dir), \n",
    "                            sheet_name='CiteScore 2020', dtype={'Print ISSN':str, 'E-ISSN':str})\n",
    "\n",
    "scopus_master['Print-ISSN']=scopus_master['Print ISSN']\n",
    "scopus_master['Print-ISSN']=scopus_master['Print-ISSN'].str.lstrip(\"0\")\n",
    "scopus_master['E-ISSN']=scopus_master['E-ISSN'].str.lstrip(\"0\")\n",
    "scopus_master['Print-ISSN'].fillna(\"MISSING\", inplace=True)\n",
    "scopus_master['E-ISSN'].fillna(\"-MISSING\", inplace=True)\n",
    "scopus_master['Unique-ISSN']=scopus_master['Print-ISSN']+scopus_master['E-ISSN']\n",
    "#Boolean filter: Look for exclusively SCOPUS journals (which are not available in ABDC list)\n",
    "# Step-0\n",
    "scopus_not_in_abdc = scopus_master\n",
    "print(\"S0: \" , len(scopus_not_in_abdc.index))\n",
    "# Step-1\n",
    "scopus_not_in_abdc = scopus_not_in_abdc[~(scopus_not_in_abdc['Print-ISSN'].isin(abdc_master['NEWISSN']))]\n",
    "print(\"S1: \" , len(scopus_not_in_abdc.index))\n",
    "# Step-2 \n",
    "scopus_not_in_abdc = scopus_not_in_abdc[~(scopus_not_in_abdc['E-ISSN'].isin(abdc_master['NEWISSNONLINE']))]\n",
    "print(\"S2: \" , len(scopus_not_in_abdc.index))\n",
    "# Step-3\n",
    "scopus_not_in_abdc = scopus_not_in_abdc[~(scopus_not_in_abdc['E-ISSN'].isin(abdc_master['NEWISSN']))]\n",
    "print(\"S3: \" , len(scopus_not_in_abdc.index))\n",
    "# Step-4\n",
    "scopus_not_in_abdc = scopus_not_in_abdc[~(scopus_not_in_abdc['Print-ISSN'].isin(abdc_master['NEWISSNONLINE']))]\n",
    "print(\"S4: \" , len(scopus_not_in_abdc.index))\n",
    "# Step-5\n",
    "scopus_not_in_abdc = scopus_not_in_abdc[~(scopus_not_in_abdc['Title'].isin(abdc_master['Journal Title']))]\n",
    "print(\"S5: \" , len(scopus_not_in_abdc.index))\n",
    "\n",
    "## DATA PREPARATION TO WRITE TO EXCEL FILE\n",
    "# ABDC MASTER\n",
    "df0=abdc_master[['Journal Title','NEWISSN','NEWISSNONLINE','Unique-ISSN']]\n",
    "\n",
    "# List SCOPUS Subject Sub-Area and write to Excel\n",
    "df1 =  scopus_not_in_abdc.groupby(['Scopus ASJC Code (Sub-subject Area)','Scopus Sub-Subject Area']).size().reset_index().rename(columns={0:'count'}) \n",
    "\n",
    "# Generate Decile information based on SJR score\n",
    "scopus_not_in_abdc['SJR_Deciles'] = pd.qcut(scopus_not_in_abdc.SJR, q=10,labels=False)\n",
    "# Create tabulations of number of titles within each decile based on SJR score\n",
    "df2 = pd.DataFrame(pd.crosstab(scopus_not_in_abdc['Scopus Sub-Subject Area'],scopus_not_in_abdc['SJR_Deciles']))\n",
    "\n",
    "Econ =[2000,2001,2002]\n",
    "\n",
    "df3=scopus_not_in_abdc[scopus_not_in_abdc['Scopus ASJC Code (Sub-subject Area)'].isin(Econ)][['Scopus ASJC Code (Sub-subject Area)','Title','Print-ISSN','E-ISSN','SJR','SJR_Deciles','Quartile']]\n",
    "df3.sort_values(by =['SJR'], ascending=False)\n",
    "\n",
    "\n",
    "# Write to Excel file\n",
    "path = '{}/SCOPUS-ABDC-EQUIVALENCE.xlsx'.format(dir)\n",
    "with pd.ExcelWriter(path) as writer:\n",
    "    df0.to_excel(writer, sheet_name='ABDC-MASTER')\n",
    "    df1.to_excel(writer, sheet_name='SCOPUS-SUB-SUBJECT-AREAS')\n",
    "    df2.to_excel(writer, sheet_name='SJR-DECILES-SUMMARY')\n",
    "    df3.to_excel(writer, sheet_name='Economics')\n",
    "#### END ####\n",
    "\n"
   ]
  },
  {
   "cell_type": "code",
   "execution_count": 70,
   "metadata": {},
   "outputs": [
    {
     "name": "stdout",
     "output_type": "stream",
     "text": [
      "Your selected dataframe has 23 columns.\n",
      "There are 1 columns that have missing values.\n"
     ]
    },
    {
     "data": {
      "text/html": [
       "<div>\n",
       "<style scoped>\n",
       "    .dataframe tbody tr th:only-of-type {\n",
       "        vertical-align: middle;\n",
       "    }\n",
       "\n",
       "    .dataframe tbody tr th {\n",
       "        vertical-align: top;\n",
       "    }\n",
       "\n",
       "    .dataframe thead th {\n",
       "        text-align: right;\n",
       "    }\n",
       "</style>\n",
       "<table border=\"1\" class=\"dataframe\">\n",
       "  <thead>\n",
       "    <tr style=\"text-align: right;\">\n",
       "      <th></th>\n",
       "      <th>Missing Values</th>\n",
       "      <th>% of Total Values</th>\n",
       "    </tr>\n",
       "  </thead>\n",
       "  <tbody>\n",
       "    <tr>\n",
       "      <th>Print ISSN</th>\n",
       "      <td>5694</td>\n",
       "      <td>9.6</td>\n",
       "    </tr>\n",
       "  </tbody>\n",
       "</table>\n",
       "</div>"
      ],
      "text/plain": [
       "            Missing Values  % of Total Values\n",
       "Print ISSN            5694                9.6"
      ]
     },
     "execution_count": 70,
     "metadata": {},
     "output_type": "execute_result"
    }
   ],
   "source": [
    "def missing_values_table(df):\n",
    "    mis_val = df.isnull().sum()\n",
    "    mis_val_percent = 100 * df.isnull().sum() / len(df)\n",
    "    mis_val_table = pd.concat([mis_val, mis_val_percent], axis=1)\n",
    "    mis_val_table_ren_columns = mis_val_table.rename(\n",
    "    columns = {0 : 'Missing Values', 1 : '% of Total Values'})\n",
    "    mis_val_table_ren_columns = mis_val_table_ren_columns[\n",
    "        mis_val_table_ren_columns.iloc[:,1] != 0].sort_values(\n",
    "    '% of Total Values', ascending=False).round(1)\n",
    "    print (\"Your selected dataframe has \" + str(df.shape[1]) + \" columns.\\n\"      \n",
    "        \"There are \" + str(mis_val_table_ren_columns.shape[0]) +\n",
    "            \" columns that have missing values.\")\n",
    "    return mis_val_table_ren_columns\n",
    "\n",
    "#print(missing_values_table(abdc_master))\n",
    "missing_values_table(scopus_master)\n",
    "#abdc_master['NEWISSN'].isnull().sum()\n",
    "#abdc_master[abdc_master['NEWSISSN'].isnull()]\n",
    "\n"
   ]
  },
  {
   "cell_type": "code",
   "execution_count": null,
   "metadata": {},
   "outputs": [],
   "source": []
  }
 ],
 "metadata": {
  "kernelspec": {
   "display_name": "Python 3",
   "language": "python",
   "name": "python3"
  },
  "language_info": {
   "codemirror_mode": {
    "name": "ipython",
    "version": 3
   },
   "file_extension": ".py",
   "mimetype": "text/x-python",
   "name": "python",
   "nbconvert_exporter": "python",
   "pygments_lexer": "ipython3",
   "version": "3.8.5"
  }
 },
 "nbformat": 4,
 "nbformat_minor": 4
}
