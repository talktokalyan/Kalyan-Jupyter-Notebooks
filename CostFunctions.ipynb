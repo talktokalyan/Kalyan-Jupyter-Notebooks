{
 "cells": [
  {
   "cell_type": "code",
   "execution_count": 2,
   "metadata": {},
   "outputs": [
    {
     "ename": "NameError",
     "evalue": "name 'x' is not defined",
     "output_type": "error",
     "traceback": [
      "\u001b[0;31m---------------------------------------------------------------------------\u001b[0m",
      "\u001b[0;31mNameError\u001b[0m                                 Traceback (most recent call last)",
      "\u001b[1;32m/workspaces/Kalyan-Jupyter-Notebooks/CostFunctions.ipynb Cell 1'\u001b[0m in \u001b[0;36m<cell line: 32>\u001b[0;34m()\u001b[0m\n\u001b[1;32m     <a href='vscode-notebook-cell://codespaces%2Btalktokalyan-kalyan-jupyter-notebooks-v6j6pvw63p496/workspaces/Kalyan-Jupyter-Notebooks/CostFunctions.ipynb#ch0000000vscode-remote?line=29'>30</a>\u001b[0m     fig \u001b[39m=\u001b[39m avc\n\u001b[1;32m     <a href='vscode-notebook-cell://codespaces%2Btalktokalyan-kalyan-jupyter-notebooks-v6j6pvw63p496/workspaces/Kalyan-Jupyter-Notebooks/CostFunctions.ipynb#ch0000000vscode-remote?line=30'>31</a>\u001b[0m     \u001b[39mreturn\u001b[39;00m fig\n\u001b[0;32m---> <a href='vscode-notebook-cell://codespaces%2Btalktokalyan-kalyan-jupyter-notebooks-v6j6pvw63p496/workspaces/Kalyan-Jupyter-Notebooks/CostFunctions.ipynb#ch0000000vscode-remote?line=31'>32</a>\u001b[0m fig \u001b[39m=\u001b[39m cost_functions(\u001b[39m3\u001b[39m\u001b[39m*\u001b[39m(x\u001b[39m*\u001b[39m\u001b[39m*\u001b[39m\u001b[39m0.5\u001b[39m)\u001b[39m-\u001b[39msym\u001b[39m.\u001b[39msin(x),\u001b[39m500\u001b[39m,\u001b[39mTrue\u001b[39;00m,\u001b[39mTrue\u001b[39;00m)\n\u001b[1;32m     <a href='vscode-notebook-cell://codespaces%2Btalktokalyan-kalyan-jupyter-notebooks-v6j6pvw63p496/workspaces/Kalyan-Jupyter-Notebooks/CostFunctions.ipynb#ch0000000vscode-remote?line=32'>33</a>\u001b[0m fig\u001b[39m.\u001b[39mshow()\n",
      "\u001b[0;31mNameError\u001b[0m: name 'x' is not defined"
     ]
    }
   ],
   "source": [
    "import sympy as sym\n",
    "from sympy import symbols\n",
    "from sympy.plotting import plot, plot_parametric, plot3d_parametric_surface, plot3d_parametric_line, plot3d\n",
    "\n",
    "import plotly.graph_objects as go\n",
    "import numpy as np\n",
    "import matplotlib.pyplot as plt\n",
    "\n",
    "import plotly.tools as tls\n",
    "from plotly.offline import download_plotlyjs, init_notebook_mode, iplot\n",
    "\n",
    "def cost_functions(vcost,fix_cost,fix_cost_yn=True,var_cost=True):\n",
    "    var_cost = vcost # assign symbolic function to an expression\n",
    "    fix_cost = 500\n",
    "    total_cost = var_cost + fix_cost\n",
    "    marg_cost = sym.diff(total_cost, x,1)\n",
    "\n",
    "    avg_var_cost = sym.simplify(var_cost/x)\n",
    "    avg_fix_cost = sym.simplify(500/x)\n",
    "    avg_total_cost = avg_var_cost + avg_fix_cost\n",
    "\n",
    "    avc = sym.plot(avg_var_cost, (x,1,10), show=False)\n",
    "    afc = sym.plot(avg_fix_cost, (x,1,10), show=False)\n",
    "    atc = sym.plot(avg_total_cost, (x,1,10), show=False)\n",
    "    mc = sym.plot(marg_cost, (x,1,10), show=False)\n",
    "\n",
    "    avc.extend(afc)\n",
    "    avc.extend(atc)\n",
    "    avc.extend(mc)\n",
    "    fig = avc\n",
    "    return fig\n",
    "fig = cost_functions(3*(x**0.5)-sym.sin(x),500,True,True)\n",
    "fig.show()\n",
    "\n"
   ]
  },
  {
   "cell_type": "code",
   "execution_count": null,
   "metadata": {},
   "outputs": [
    {
     "name": "stdout",
     "output_type": "stream",
     "text": [
      "9*x**2 - 4*x\n"
     ]
    },
    {
     "data": {
      "image/png": "[encoded data removed]",
      "text/plain": [
       "<Figure size 432x288 with 1 Axes>"
      ]
     },
     "metadata": {
      "needs_background": "light"
     },
     "output_type": "display_data"
    }
   ],
   "source": [
    "from sympy import *\n",
    "import numpy as np\n",
    "import matplotlib.pyplot as plt\n",
    "import plotly.graph_objects as go\n",
    "import plotly.tools as tls\n",
    "from plotly.offline import download_plotlyjs, init_notebook_mode, iplot\n",
    "\n",
    "\n",
    "f =  3*x**3 - 2*x**2  # sympy module\n",
    "g = diff(f,x)\n",
    "print(g)\n",
    "fx = lambdify(x, f, modules=['numpy']) # sympy module\n",
    "gx = lambdify(x, g, modules=['numpy']) # sympy module\n",
    "xvals = np.linspace(1,10,50)\n",
    "\n",
    "fig = plt.plot(xvals, fx(xvals), label='Total Cost fx')\n",
    "plt.plot(xvals, gx(xvals), label='Marginal Cost gx')\n",
    "plt.legend()\n",
    "plt.show()\n"
   ]
  },
  {
   "cell_type": "code",
   "execution_count": null,
   "metadata": {},
   "outputs": [],
   "source": [
    "### WORKING EXAMPLE\n",
    "from sympy import *\n",
    "import numpy as np\n",
    "import matplotlib.pyplot as plt\n",
    "import plotly.graph_objects as go\n",
    "\n",
    "def get_cost_functions(var_cost = '3*x**2-2*x' , fix_cost=0, max_output=10):\n",
    "    xmax = max_output\n",
    "    vc = var_cost\n",
    "    fc = fix_cost\n",
    "    tc =  vc + \"+\" + str(fc)  # sympy module\n",
    "    mc = diff(tc,x)\n",
    "    #print(tc, mc)\n",
    "    vc_x = lambdify(x, vc, modules=['numpy']) # sympy module\n",
    "    tc_x = lambdify(x, tc, modules=['numpy']) # sympy module\n",
    "    mc_x = lambdify(x, mc, modules=['numpy']) # sympy module\n",
    "\n",
    "    xvals = np.linspace(1,xmax,50)\n",
    "    print(xvals)\n",
    "    trace_avc = go.Scatter(x= xvals, y= vc_x(xvals)/xvals, name='Average Variable Cost (AVC)')\n",
    "    trace_afc = go.Scatter(x= xvals, y= fc/xvals, name='Average Fixed Cost (AFC)')\n",
    "    trace_atc = go.Scatter(x= xvals, y= tc_x(xvals)/xvals, name='Average Total Cost (ATC)')\n",
    "    #trace_tc = go.Scatter(x= xvals, y= tc_x(xvals), name='Total Cost (TC)')\n",
    "    trace_mc = go.Scatter(x= xvals, y= mc_x(xvals), name='Marginal Cost (MC)')\n",
    "\n",
    "    cost_layout = go.Layout(\n",
    "        title = dict(text='Economic Cost functions for {} in Output(x) terms'.format(tc)),\n",
    "        xaxis=dict(title=\"Number of Units of Output (x)\"),\n",
    "        yaxis=dict(title=\"Cost components\")\n",
    "        )\n",
    "    fig = go.Figure(data=[trace_avc, trace_afc, trace_atc, trace_mc], layout = cost_layout)\n",
    "    fig.show()\n",
    "    return fig\n",
    "\n"
   ]
  }
 ],
 "metadata": {
  "interpreter": {
   "hash": "949777d72b0d2535278d3dc13498b2535136f6dfe0678499012e853ee9abcab1"
  },
  "kernelspec": {
   "display_name": "Python 3.10.4 64-bit",
   "language": "python",
   "name": "python3"
  },
  "language_info": {
   "codemirror_mode": {
    "name": "ipython",
    "version": 3
   },
   "file_extension": ".py",
   "mimetype": "text/x-python",
   "name": "python",
   "nbconvert_exporter": "python",
   "pygments_lexer": "ipython3",
   "version": "3.10.4"
  }
 },
 "nbformat": 4,
 "nbformat_minor": 4
}
