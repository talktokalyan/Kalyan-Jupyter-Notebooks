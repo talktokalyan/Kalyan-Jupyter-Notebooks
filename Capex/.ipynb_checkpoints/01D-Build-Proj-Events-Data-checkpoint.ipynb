{
 "cells": [
  {
   "cell_type": "markdown",
   "metadata": {},
   "source": [
    "# CAPEX PROJECT EVENTS "
   ]
  },
  {
   "cell_type": "markdown",
   "metadata": {},
   "source": [
    "### Build Appended files with [Abandoned, Completed and Outstanding] project status CMIE Capex (2014-22)"
   ]
  },
  {
   "cell_type": "code",
   "execution_count": 12,
   "metadata": {},
   "outputs": [
    {
     "name": "stdout",
     "output_type": "stream",
     "text": [
      "Events data not found\n",
      "Events data not found\n",
      "Events data not found\n",
      "Events data not found\n",
      "Events data not found\n",
      "Events data not found\n",
      "Events data not found\n",
      "Events data not found\n",
      "Events data not found\n",
      "Events data not found\n",
      "Events data not found\n",
      "Events data not found\n",
      "Events data not found\n",
      "Events data not found\n",
      "Events data not found\n",
      "Events data not found\n",
      "Events data not found\n",
      "Events data not found\n",
      "Events data not found\n",
      "Events data not found\n",
      "Events data not found\n",
      "Events data not found\n",
      "Events data not found\n",
      "Events data not found\n",
      "Events data not found\n",
      "Events data not found\n",
      "Events data not found\n",
      "Events data not found\n",
      "Events data not found\n",
      "(138221, 10)\n",
      "FINITO\n"
     ]
    }
   ],
   "source": [
    "### pick Project events file in each of  [Abandoned, Completed and Outstanding]  folder and append to proc_data folder\n",
    "\n",
    "import os\n",
    "import pandas as pd\n",
    "import re\n",
    "\n",
    "folder_list = ['Completed', 'Abandoned', 'Outstanding']\n",
    "\n",
    "# List to store data from all XLSX files\n",
    "data = []\n",
    "\n",
    "for stub in folder_list: \n",
    "    # Parent folder path\n",
    "    parent_folder = f'/Users/kalyan/Library/CloudStorage/OneDrive-IIMVIZAG/Python-Exercise-KK/Kalyan-Jupyter-Notebooks/Capex/raw_data/{stub}/'\n",
    "    #print('Level:0 ' + stub + parent_folder)\n",
    "\n",
    "    # Iterate through files in the folder\n",
    "    for filename in os.listdir(parent_folder):\n",
    "        if filename.endswith('_Events_total.xlsx'):\n",
    "            #print(filename)\n",
    "            file_path = os.path.join(parent_folder, filename)\n",
    "\n",
    "            # Read XLSX file into a DataFrame\n",
    "            df = pd.read_excel(file_path)\n",
    "\n",
    "            # Append the DataFrame to the data list\n",
    "            data.append(df)\n",
    "        else :\n",
    "            print(\"Events data not found\")\n",
    "\n",
    "# Concatenate all DataFrames in the data list\n",
    "events_df = pd.concat(data)\n",
    "events_df.drop(['FY','Quarter'], axis=1, inplace = True)\n",
    "\n",
    "# Output file path and name\n",
    "# Folder path containing the XLSX files\n",
    "out_folder_path = '/Users/kalyan/Library/CloudStorage/OneDrive-IIMVIZAG/Python-Exercise-KK/Kalyan-Jupyter-Notebooks/Capex/proc_data/'\n",
    "\n",
    "out_file_name = 'Capex_Events_Total.xlsx'\n",
    "out_file_path = os.path.join(out_folder_path, out_file_name)\n",
    "\n",
    "# Save the combined DataFrame into Excel\n",
    "events_df.to_excel((out_file_path), index=False)\n",
    "print(events_df.shape)\n",
    "print('FINITO')\n"
   ]
  },
  {
   "cell_type": "code",
   "execution_count": null,
   "metadata": {},
   "outputs": [],
   "source": []
  }
 ],
 "metadata": {
  "kernelspec": {
   "display_name": "Python 3 (ipykernel)",
   "language": "python",
   "name": "python3"
  },
  "language_info": {
   "codemirror_mode": {
    "name": "ipython",
    "version": 3
   },
   "file_extension": ".py",
   "mimetype": "text/x-python",
   "name": "python",
   "nbconvert_exporter": "python",
   "pygments_lexer": "ipython3",
   "version": "3.11.3"
  }
 },
 "nbformat": 4,
 "nbformat_minor": 4
}
