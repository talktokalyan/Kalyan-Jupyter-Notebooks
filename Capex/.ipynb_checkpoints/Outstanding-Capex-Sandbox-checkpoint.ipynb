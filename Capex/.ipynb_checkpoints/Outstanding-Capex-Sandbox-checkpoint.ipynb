{
 "cells": [
  {
   "cell_type": "markdown",
   "metadata": {},
   "source": [
    "## Append Outstanding Projects"
   ]
  },
  {
   "cell_type": "markdown",
   "metadata": {},
   "source": [
    "### Outstanding"
   ]
  },
  {
   "cell_type": "code",
   "execution_count": 2,
   "metadata": {},
   "outputs": [
    {
     "name": "stdout",
     "output_type": "stream",
     "text": [
      "No match found.\n",
      "Finished\n"
     ]
    }
   ],
   "source": [
    "import os\n",
    "import pandas as pd\n",
    "import re\n",
    "\n",
    "# Folder path containing the XLSX files\n",
    "folder_path = '/Users/kalyan/Library/CloudStorage/OneDrive-IIMVIZAG/Python-Exercise-KK/Kalyan-Jupyter-Notebooks/Capex/raw_data/Merge_Out_Ann/'\n",
    "\n",
    "# List to store data from all XLSX files\n",
    "data = []\n",
    "\n",
    "# Iterate through files in the folder\n",
    "for filename in os.listdir(folder_path):\n",
    "    if filename.endswith('.xlsx'):\n",
    "        file_path = os.path.join(folder_path, filename)\n",
    "               \n",
    "        # Extract substring from file name\n",
    "        \n",
    "        # Regular expression pattern to extract financial year and quarter\n",
    "        pattern = r\"F(\\d{2}-\\d{2})_Q(\\d)\"\n",
    "\n",
    "        # Extract financial year and quarter using regex\n",
    "        match = re.search(pattern, filename)\n",
    "\n",
    "        if match:\n",
    "            financial_year = match.group(1)\n",
    "            quarter = match.group(2)\n",
    "#             print(\"Financial Year:\", financial_year)\n",
    "#             print(\"Quarter:\", quarter)\n",
    "        else:\n",
    "            print(\"No match found.\")\n",
    "    \n",
    "        #substring = filename.split('_')[1]\n",
    "        \n",
    "        # Read XLSX file into a DataFrame\n",
    "        df = pd.read_excel(file_path)\n",
    "        \n",
    "        # Add a new column with the extracted substring\n",
    "        df['FY'] = financial_year\n",
    "        df['Quarter'] = quarter\n",
    "        df['Type'] = 'Outstanding'\n",
    "\n",
    "        # Append the DataFrame to the data list\n",
    "        data.append(df)\n",
    "\n",
    "# Concatenate all DataFrames in the data list\n",
    "combined_df = pd.concat(data)\n",
    "\n",
    "out_folder_path = '/Users/kalyan/Library/CloudStorage/OneDrive-IIMVIZAG/Python-Exercise-KK/Kalyan-Jupyter-Notebooks/Capex/proc_data/'\n",
    "out_file_name = 'Outstanding.xlsx'\n",
    "out_file_path = os.path.join(out_folder_path, out_file_name)\n",
    "# Print the combined DataFrame\n",
    "#print(combined_df)\n",
    "combined_df.to_excel((out_file_path), index=False)\n",
    "\n",
    "print('Finished')"
   ]
  },
  {
   "cell_type": "markdown",
   "metadata": {},
   "source": [
    "### Completed"
   ]
  },
  {
   "cell_type": "code",
   "execution_count": 4,
   "metadata": {},
   "outputs": [
    {
     "name": "stdout",
     "output_type": "stream",
     "text": [
      "Finished\n"
     ]
    }
   ],
   "source": [
    "import os\n",
    "import pandas as pd\n",
    "import re\n",
    "\n",
    "# Folder path containing the XLSX files\n",
    "folder_path = '/Users/kalyan/Library/CloudStorage/OneDrive-IIMVIZAG/Python-Exercise-KK/Kalyan-Jupyter-Notebooks/Capex/raw_data/Merge_Com_Ann/'\n",
    "\n",
    "# List to store data from all XLSX files\n",
    "data = []\n",
    "\n",
    "# Iterate through files in the folder\n",
    "for filename in os.listdir(folder_path):\n",
    "    if filename.endswith('.xlsx'):\n",
    "        file_path = os.path.join(folder_path, filename)\n",
    "               \n",
    "        # Extract substring from file name\n",
    "        \n",
    "        # Regular expression pattern to extract financial year and quarter\n",
    "        pattern = r\"F(\\d{2}-\\d{2})_Q(\\d)\"\n",
    "\n",
    "        # Extract financial year and quarter using regex\n",
    "        match = re.search(pattern, filename)\n",
    "\n",
    "        if match:\n",
    "            financial_year = match.group(1)\n",
    "            quarter = match.group(2)\n",
    "#             print(\"Financial Year:\", financial_year)\n",
    "#             print(\"Quarter:\", quarter)\n",
    "        else:\n",
    "            print(\"No match found.\")\n",
    "    \n",
    "        #substring = filename.split('_')[1]\n",
    "        \n",
    "        # Read XLSX file into a DataFrame\n",
    "        df = pd.read_excel(file_path)\n",
    "        \n",
    "        # Add a new column with the extracted substring\n",
    "        df['FY'] = financial_year\n",
    "        df['Quarter'] = quarter\n",
    "        df['Type'] = 'Completed'\n",
    "\n",
    "        # Append the DataFrame to the data list\n",
    "        data.append(df)\n",
    "\n",
    "# Concatenate all DataFrames in the data list\n",
    "combined_df = pd.concat(data)\n",
    "\n",
    "out_folder_path = '/Users/kalyan/Library/CloudStorage/OneDrive-IIMVIZAG/Python-Exercise-KK/Kalyan-Jupyter-Notebooks/Capex/proc_data/'\n",
    "out_file_name = 'Completed.xlsx'\n",
    "out_file_path = os.path.join(out_folder_path, out_file_name)\n",
    "# Print the combined DataFrame\n",
    "#print(combined_df)\n",
    "combined_df.to_excel((out_file_path), index=False)\n",
    "\n",
    "print('Finished')"
   ]
  },
  {
   "cell_type": "markdown",
   "metadata": {},
   "source": [
    "### Abandoned"
   ]
  },
  {
   "cell_type": "code",
   "execution_count": 3,
   "metadata": {},
   "outputs": [
    {
     "name": "stdout",
     "output_type": "stream",
     "text": [
      "Finished\n"
     ]
    }
   ],
   "source": [
    "import os\n",
    "import pandas as pd\n",
    "import re\n",
    "\n",
    "# Folder path containing the XLSX files\n",
    "folder_path = '/Users/kalyan/Library/CloudStorage/OneDrive-IIMVIZAG/Python-Exercise-KK/Kalyan-Jupyter-Notebooks/Capex/raw_data/Merge_Abn_Ann/'\n",
    "\n",
    "# List to store data from all XLSX files\n",
    "data = []\n",
    "\n",
    "# Iterate through files in the folder\n",
    "for filename in os.listdir(folder_path):\n",
    "    if filename.endswith('.xlsx'):\n",
    "        file_path = os.path.join(folder_path, filename)\n",
    "               \n",
    "        # Extract substring from file name\n",
    "        \n",
    "        # Regular expression pattern to extract financial year and quarter\n",
    "        pattern = r\"F(\\d{2}-\\d{2})_Q(\\d)\"\n",
    "\n",
    "        # Extract financial year and quarter using regex\n",
    "        match = re.search(pattern, filename)\n",
    "\n",
    "        if match:\n",
    "            financial_year = match.group(1)\n",
    "            quarter = match.group(2)\n",
    "#             print(\"Financial Year:\", financial_year)\n",
    "#             print(\"Quarter:\", quarter)\n",
    "        else:\n",
    "            print(\"No match found.\")\n",
    "    \n",
    "        #substring = filename.split('_')[1]\n",
    "        \n",
    "        # Read XLSX file into a DataFrame\n",
    "        df = pd.read_excel(file_path)\n",
    "        \n",
    "        # Add a new column with the extracted substring\n",
    "        df['FY'] = financial_year\n",
    "        df['Quarter'] = quarter\n",
    "        df['Type'] = 'Abandoned'\n",
    "\n",
    "        # Append the DataFrame to the data list\n",
    "        data.append(df)\n",
    "\n",
    "# Concatenate all DataFrames in the data list\n",
    "combined_df = pd.concat(data)\n",
    "\n",
    "out_folder_path = '/Users/kalyan/Library/CloudStorage/OneDrive-IIMVIZAG/Python-Exercise-KK/Kalyan-Jupyter-Notebooks/Capex/proc_data/'\n",
    "out_file_name = 'Abandoned.xlsx'\n",
    "out_file_path = os.path.join(out_folder_path, out_file_name)\n",
    "# Print the combined DataFrame\n",
    "#print(combined_df)\n",
    "combined_df.to_excel((out_file_path), index=False)\n",
    "\n",
    "print('Finished')"
   ]
  },
  {
   "cell_type": "markdown",
   "metadata": {},
   "source": [
    "### Append All Projects"
   ]
  },
  {
   "cell_type": "code",
   "execution_count": null,
   "metadata": {},
   "outputs": [],
   "source": []
  },
  {
   "cell_type": "code",
   "execution_count": null,
   "metadata": {},
   "outputs": [],
   "source": [
    "import pandas as pd\n",
    "import glob\n",
    "\n",
    "# getting excel files to be merged from the Desktop \n",
    "path = \"/Users/kalyan/Library/CloudStorage/OneDrive-IIMVIZAG/Kalyan-Research/Internship-Uthistha Sai/\"\n",
    "\n",
    "# read all the files with extension .xlsx i.e. excel \n",
    "filenames = glob.glob(path + \"/*.xlsx\")\n",
    "print('File names:', filenames)\n",
    "\n",
    "# empty data frame for the new output excel file with the merged excel files\n",
    "outputxlsx = pd.DataFrame()\n",
    "\n",
    "# for loop to iterate all excel files\n",
    "for file in filenames:\n",
    "   # using concat for excel files\n",
    "   # after reading them with read_excel()\n",
    "   df = pd.concat(pd.read_excel( file, sheet_name=None), ignore_index=True, sort=False)\n",
    "\n",
    "   # appending data of excel files\n",
    "   outputxlsx = outputxlsx.append( df, ignore_index=True)\n",
    "\n",
    "print('Final Excel sheet now generated at the same location:')\n",
    "outputxlsx.to_excel(\"C:/Users/amit_/Desktop/Output.xlsx\", index=False)"
   ]
  }
 ],
 "metadata": {
  "kernelspec": {
   "display_name": "Python 3",
   "language": "python",
   "name": "python3"
  },
  "language_info": {
   "codemirror_mode": {
    "name": "ipython",
    "version": 3
   },
   "file_extension": ".py",
   "mimetype": "text/x-python",
   "name": "python",
   "nbconvert_exporter": "python",
   "pygments_lexer": "ipython3",
   "version": "3.8.5"
  }
 },
 "nbformat": 4,
 "nbformat_minor": 4
}
