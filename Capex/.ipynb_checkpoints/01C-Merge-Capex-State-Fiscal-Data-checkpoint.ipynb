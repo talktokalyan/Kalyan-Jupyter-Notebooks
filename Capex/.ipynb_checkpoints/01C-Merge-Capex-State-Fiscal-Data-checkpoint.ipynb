{
 "cells": [
  {
   "cell_type": "code",
   "execution_count": 61,
   "id": "6931ad35",
   "metadata": {},
   "outputs": [
    {
     "name": "stdout",
     "output_type": "stream",
     "text": [
      "Folder:/Users/kalyan/Library/CloudStorage/OneDrive-IIMVIZAG/Python-Exercise-KK/Kalyan-Jupyter-Notebooks/Capex/proc_data/\n",
      "Folder:/Users/kalyan/Library/CloudStorage/OneDrive-IIMVIZAG/Python-Exercise-KK/Kalyan-Jupyter-Notebooks/Capex/raw_data/\n",
      "(270, 30)\n",
      "(81197, 56)\n",
      "FINITO\n"
     ]
    }
   ],
   "source": [
    "### MERGE ######  \n",
    "import os\n",
    "import pandas as pd\n",
    "import numpy as np\n",
    "\n",
    "# Parent folder path\n",
    "parent_folder = f'/Users/kalyan/Library/CloudStorage/OneDrive-IIMVIZAG/Python-Exercise-KK/Kalyan-Jupyter-Notebooks/Capex/proc_data/'\n",
    "print('Folder:' + parent_folder)\n",
    "\n",
    "# Parent folder path\n",
    "concord_folder = f'/Users/kalyan/Library/CloudStorage/OneDrive-IIMVIZAG/Python-Exercise-KK/Kalyan-Jupyter-Notebooks/Capex/raw_data/'\n",
    "print('Folder:' + concord_folder)\n",
    "\n",
    "# merge master with state code and region\n",
    "df_st = pd.read_excel(os.path.join(concord_folder, 'Concordance-Tables-Capex.xlsx'), sheet_name = 'state-concord') # state numeric code and region\n",
    "df2 = pd.read_excel(os.path.join(parent_folder, 'Fiscal_Merged.xlsx'))\n",
    "df2 = df2.rename(columns={'Years':'Year'})\n",
    "df3 = pd.read_excel(os.path.join(parent_folder, 'Gross_Merged_LF.xlsx'))\n",
    "df4 = pd.read_excel(os.path.join(parent_folder, 'Merged_Net_GDP.xlsx'))\n",
    "\n",
    "dflist =[df2,df3,df4]\n",
    "\n",
    "for i in dflist:\n",
    "    i = i.rename(columns={'Year':'FY'}, inplace = True)\n",
    "\n",
    "cc = ['State', 'FY']\n",
    "\n",
    "# Merge Fiscal data\n",
    "merged_fiscal = pd.merge(df2, df3, on=cc, how='inner').merge(df4, on = cc, how='inner').merge(\n",
    "    df_st[['st_name_rbi','st_ut_code','region']], \n",
    "         left_on = ['State'], right_on = ['st_name_rbi'], how= 'left')\n",
    "\n",
    "# Define the common pattern to remove\n",
    "pattern1 = 'Gross State Value Added by Economic Activity - '\n",
    "pattern2 = 'Net State Value Added by Economic Activity - '\n",
    "\n",
    "# Rename columns using str.replace\n",
    "merged_fiscal.columns = merged_fiscal.columns.str.replace(pattern1, 'GSVA-')\n",
    "merged_fiscal.columns = merged_fiscal.columns.str.replace(pattern2, 'NSVA-')\n",
    "\n",
    "#Split values based on hyphen and save the part before hyphen in a new column\n",
    "merged_fiscal['FY'] = merged_fiscal['FY'].str.split('-').str[0].str[-2:] + '-' + merged_fiscal['FY'].str.split('-').str[1].str[-2:]\n",
    "\n",
    "print(merged_fiscal.shape)\n",
    "\n",
    "df1 = pd.read_excel(os.path.join(parent_folder, 'Capex-Projects-Total.xlsx'))\n",
    "\n",
    "merged_capex_fiscal = pd.merge(df1, merged_fiscal, on=['st_ut_code','FY'], how='left')\n",
    "print(merged_capex_fiscal.shape)\n",
    "\n",
    "\n",
    "### Write Merged file to Excel \n",
    "out_folder_path = '/Users/kalyan/Library/CloudStorage/OneDrive-IIMVIZAG/Python-Exercise-KK/Kalyan-Jupyter-Notebooks/Capex/proc_data/'\n",
    "out_file_name = 'Final-Capex.xlsx'\n",
    "out_file_path = os.path.join(out_folder_path, out_file_name)\n",
    "\n",
    "merged_capex_fiscal.to_excel((out_file_path), index=False)\n",
    "\n",
    "print('FINITO')\n"
   ]
  },
  {
   "cell_type": "code",
   "execution_count": 55,
   "id": "1a87fa31",
   "metadata": {},
   "outputs": [
    {
     "name": "stdout",
     "output_type": "stream",
     "text": [
      "  Column_with_Hyphen after_Hyphen    FY\n",
      "0            value-1            1  ue-1\n",
      "1            value-2            2  ue-2\n",
      "2            value-3            3  ue-3\n"
     ]
    }
   ],
   "source": [
    "import pandas as pd\n",
    "\n",
    "# Sample data\n",
    "data = {\n",
    "    'Column_with_Hyphen': ['value-1', 'value-2', 'value-3']\n",
    "}\n",
    "\n",
    "# Create a DataFrame\n",
    "df = pd.DataFrame(data)\n",
    "\n",
    "# Split values based on hyphen and save the part before hyphen in a new column\n",
    "df['after_Hyphen'] = df['Column_with_Hyphen'].str.split('-').str[1]\n",
    "\n",
    "df['FY'] = df['Column_with_Hyphen'].str.split('-').str[0].str[-2:] + '-' + df['Column_with_Hyphen'].str.split('-').str[1].str[-2:]\n",
    "\n",
    "\n",
    "print(df)\n"
   ]
  },
  {
   "cell_type": "code",
   "execution_count": null,
   "id": "9d924976",
   "metadata": {},
   "outputs": [],
   "source": []
  }
 ],
 "metadata": {
  "kernelspec": {
   "display_name": "Python 3 (ipykernel)",
   "language": "python",
   "name": "python3"
  },
  "language_info": {
   "codemirror_mode": {
    "name": "ipython",
    "version": 3
   },
   "file_extension": ".py",
   "mimetype": "text/x-python",
   "name": "python",
   "nbconvert_exporter": "python",
   "pygments_lexer": "ipython3",
   "version": "3.11.3"
  }
 },
 "nbformat": 4,
 "nbformat_minor": 5
}
