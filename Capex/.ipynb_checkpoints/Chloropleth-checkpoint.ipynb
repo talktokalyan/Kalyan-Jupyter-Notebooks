{
 "cells": [
  {
   "cell_type": "markdown",
   "metadata": {},
   "source": [
    "## Chloropleth example using Capex Data\n",
    "1. PreRequisites:\n",
    "    1. Download Capex Investments from IIMV Library -> CMIE Capex -> Outstanding aggregates\n",
    "    2. D/L Shape Files from https://github.com/AnujTiwari/India-State-and-Country-Shapefile-Updated-Jan-2020\n",
    "    3. Convert Shape Files to JSON using Shape2GeoJson.ipynb --> India-States-KK.json \n",
    "    (Remember to use EPSG:4326 datum)\n",
    "    3. Do it Once: Do manual editing in JSON file: Change mis-spelt names\n",
    "        1. Change 'Arunanchal Pradesh' to 'Arunachal Pradesh'\n",
    "        2. Change 'Dadara & Nagar Havelli' to 'Dadra & Nagar Haveli'\n",
    "        3. Change 'Andaman & Nicobar Island' to 'Andaman & Nicobar'\n",
    "        4. Manually Change 'Telengana' to 'Telangana' ; \n",
    "            'Jammu and Kashmir' to 'Jammu & Kashmir';\n",
    "            'Daman and Diu and Dadra and Nagar Haveli' to 'Dadra & nagar Haveli and Daman & Diu';\n",
    "            'Tamilnadu' to 'Tamil Nadu'; \n",
    "            'Chhattishgarh' to 'Chattisgarh'\n",
    "    4. Do it as many times we get new data: Do manual editing in Capex Excel Data file: \n",
    "            1. Make Copy of aaaa.xls in 'rawdata' folder. Name appropriately 'Outstanding' etc.\n",
    "      \n",
    "\n",
    "\n",
    "\n"
   ]
  },
  {
   "cell_type": "code",
   "execution_count": 4,
   "metadata": {},
   "outputs": [
    {
     "name": "stdout",
     "output_type": "stream",
     "text": [
      "dict_keys(['State_Name'])\n",
      "{'Andaman & Nicobar': 'Andaman & Nicobar', 'Chandigarh': 'Chandigarh', 'Dadra & Nagar Haveli and Daman & Diu': 'Dadra & Nagar Haveli and Daman & Diu', 'Delhi': 'Delhi', 'Haryana': 'Haryana', 'Jharkhand': 'Jharkhand', 'Karnataka': 'Karnataka', 'Kerala': 'Kerala', 'Lakshadweep': 'Lakshadweep', 'Madhya Pradesh': 'Madhya Pradesh', 'Maharashtra': 'Maharashtra', 'Odisha': 'Odisha', 'Puducherry': 'Puducherry', 'Tamil Nadu': 'Tamil Nadu', 'Chhattisgarh': 'Chhattisgarh', 'Telangana': 'Telangana', 'Andhra Pradesh': 'Andhra Pradesh', 'Goa': 'Goa', 'Himachal Pradesh': 'Himachal Pradesh', 'Punjab': 'Punjab', 'Rajasthan': 'Rajasthan', 'Gujarat': 'Gujarat', 'Uttarakhand': 'Uttarakhand', 'Uttar Pradesh': 'Uttar Pradesh', 'Sikkim': 'Sikkim', 'Assam': 'Assam', 'Arunachal Pradesh': 'Arunachal Pradesh', 'Nagaland': 'Nagaland', 'Manipur': 'Manipur', 'Mizoram': 'Mizoram', 'Tripura': 'Tripura', 'Meghalaya': 'Meghalaya', 'West Bengal': 'West Bengal', 'Bihar': 'Bihar', 'Ladakh': 'Ladakh', 'Jammu & Kashmir': 'Jammu & Kashmir'}\n"
     ]
    }
   ],
   "source": [
    "import json\n",
    "import numpy as np\n",
    "import pandas as pd\n",
    "import plotly.express as px\n",
    "#import plotly.io as pio\n",
    "#pio.renderers.default = 'browser'\n",
    "\n",
    "## Loading Map\n",
    "india_states = json.load(open(\"./raw_data/India-GeoJson/India-States-KK.geojson\", \"r\")) # ShapeFile 2 GeoJson\n",
    "\n",
    "\n",
    "print(india_states['features'][0]['properties'].keys())\n",
    "\n",
    "state_id_map = {}\n",
    "for feature in india_states[\"features\"]:\n",
    "    feature[\"id\"] = feature[\"properties\"][\"State_Name\"]\n",
    "    state_id_map[feature[\"properties\"][\"State_Name\"]] = feature[\"id\"]\n",
    "#     state_id_map[feature[\"properties\"][\"st_nm\"]] = feature[\"id\"]\n",
    "\n",
    "print(state_id_map)  \n",
    "\n",
    "# ### Reading Excel file\n",
    "df = pd.read_excel(\"./raw_data/Completed_Project_State_wise.xls\", skiprows=3, nrows= 37)\n",
    "\n",
    "df[\"id\"] = df[\"State\"]\n",
    "# df[\"id\"] = df[\"State\"].apply(lambda x: state_id_map[x])\n",
    "# # df[\"Density\"] = df[\"Density[a]\"].apply(lambda x: int(x.split(\"/\")[0].replace(\",\", \"\")))\n",
    "# # df[\"State\"] = df[\"State\"].str.upper()\n",
    "# # print(df[\"State\"].unique())\n",
    "\n",
    "df['Mar 2023'] =df['Mar 2023'].fillna(0)\n",
    "# df['Completion val'] = df['Mar 2023']/100\n",
    "# print(df.columns)\n",
    "\n",
    "fig = px.choropleth(\n",
    "    df,\n",
    "    locations=\"id\",\n",
    "    geojson=india_states,\n",
    "    color=\"Mar 2023\",\n",
    "#     color_continuous_scale=px.colors.diverging.BrBG,\n",
    "    color_continuous_scale=   'ylgnbu' , # 'Rainbow', #'ylgnbu', # rdylbu, spectral, viridis\n",
    "    hover_name=\"State\",\n",
    "    hover_data=[\"Mar 2023\"],\n",
    "    title=\"Completed Projects (INR Millions)\",\n",
    ")\n",
    "fig.update_geos(fitbounds=\"locations\", visible=False)\n",
    "\n",
    "#fig.show()\n"
   ]
  },
  {
   "cell_type": "code",
   "execution_count": null,
   "metadata": {},
   "outputs": [],
   "source": []
  }
 ],
 "metadata": {
  "kernelspec": {
   "display_name": "Python 3 (ipykernel)",
   "language": "python",
   "name": "python3"
  },
  "language_info": {
   "codemirror_mode": {
    "name": "ipython",
    "version": 3
   },
   "file_extension": ".py",
   "mimetype": "text/x-python",
   "name": "python",
   "nbconvert_exporter": "python",
   "pygments_lexer": "ipython3",
   "version": "3.11.3"
  }
 },
 "nbformat": 4,
 "nbformat_minor": 4
}
