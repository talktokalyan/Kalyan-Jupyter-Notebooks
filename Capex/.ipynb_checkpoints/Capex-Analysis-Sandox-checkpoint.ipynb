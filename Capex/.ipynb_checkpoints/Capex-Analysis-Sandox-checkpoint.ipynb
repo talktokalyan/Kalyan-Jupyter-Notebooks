{
 "cells": [
  {
   "cell_type": "markdown",
   "metadata": {},
   "source": [
    "# Capex Project Announcement Trends\n",
    "\n",
    "## State-Wise Trends\n",
    "\n"
   ]
  },
  {
   "cell_type": "code",
   "execution_count": 96,
   "metadata": {},
   "outputs": [
    {
     "data": {
      "application/vnd.plotly.v1+json": {
       "config": {
        "plotlyServerURL": "https://plotly.com"
       },
       "data": [
        {
         "name": "Bihar",
         "type": "bar",
         "x": [
          "june-2019",
          "sep-2019",
          "dec-2019",
          "march-2020",
          "june-2020",
          "sep-2020",
          "dec-2020",
          "march-2021",
          "june-2021",
          "sep-2021",
          "dec-2021",
          "march-2022",
          "june-2022",
          "sep-2022",
          "dec-2022",
          "march-2023"
         ],
         "xaxis": "x",
         "y": [
          210,
          231,
          229,
          179,
          178,
          187,
          191,
          157,
          163,
          182,
          191,
          166,
          126,
          110,
          95,
          84
         ],
         "yaxis": "y"
        },
        {
         "name": "Jharkhand",
         "type": "bar",
         "x": [
          "june-2019",
          "sep-2019",
          "dec-2019",
          "march-2020",
          "june-2020",
          "sep-2020",
          "dec-2020",
          "march-2021",
          "june-2021",
          "sep-2021",
          "dec-2021",
          "march-2022",
          "june-2022",
          "sep-2022",
          "dec-2022",
          "march-2023"
         ],
         "xaxis": "x",
         "y": [
          213,
          208,
          198,
          202,
          198,
          185,
          229,
          286,
          291,
          292,
          230,
          230,
          226,
          190,
          181,
          160
         ],
         "yaxis": "y"
        },
        {
         "name": "Odisha",
         "type": "bar",
         "x": [
          "june-2019",
          "sep-2019",
          "dec-2019",
          "march-2020",
          "june-2020",
          "sep-2020",
          "dec-2020",
          "march-2021",
          "june-2021",
          "sep-2021",
          "dec-2021",
          "march-2022",
          "june-2022",
          "sep-2022",
          "dec-2022",
          "march-2023"
         ],
         "xaxis": "x",
         "y": [
          415,
          396,
          400,
          390,
          378,
          363,
          370,
          366,
          349,
          342,
          343,
          345,
          359,
          350,
          375,
          390
         ],
         "yaxis": "y"
        },
        {
         "name": "Tripura",
         "type": "bar",
         "x": [
          "june-2019",
          "sep-2019",
          "dec-2019",
          "march-2020",
          "june-2020",
          "sep-2020",
          "dec-2020",
          "march-2021",
          "june-2021",
          "sep-2021",
          "dec-2021",
          "march-2022",
          "june-2022",
          "sep-2022",
          "dec-2022",
          "march-2023"
         ],
         "xaxis": "x",
         "y": [
          39,
          38,
          39,
          36,
          34,
          34,
          27,
          27,
          24,
          28,
          23,
          23,
          17,
          16,
          20,
          18
         ],
         "yaxis": "y"
        },
        {
         "name": "Chhattisgarh",
         "type": "bar",
         "x": [
          "june-2019",
          "sep-2019",
          "dec-2019",
          "march-2020",
          "june-2020",
          "sep-2020",
          "dec-2020",
          "march-2021",
          "june-2021",
          "sep-2021",
          "dec-2021",
          "march-2022",
          "june-2022",
          "sep-2022",
          "dec-2022",
          "march-2023"
         ],
         "xaxis": "x2",
         "y": [
          176,
          172,
          186,
          192,
          188,
          185,
          186,
          187,
          185,
          185,
          180,
          177,
          200,
          192,
          187,
          179
         ],
         "yaxis": "y2"
        },
        {
         "name": "NCT of Delhi",
         "type": "bar",
         "x": [
          "june-2019",
          "sep-2019",
          "dec-2019",
          "march-2020",
          "june-2020",
          "sep-2020",
          "dec-2020",
          "march-2021",
          "june-2021",
          "sep-2021",
          "dec-2021",
          "march-2022",
          "june-2022",
          "sep-2022",
          "dec-2022",
          "march-2023"
         ],
         "xaxis": "x2",
         "y": [
          197,
          207,
          197,
          208,
          196,
          195,
          193,
          192,
          163,
          157,
          145,
          136,
          127,
          111,
          116,
          113
         ],
         "yaxis": "y2"
        },
        {
         "name": "Haryana",
         "type": "bar",
         "x": [
          "june-2019",
          "sep-2019",
          "dec-2019",
          "march-2020",
          "june-2020",
          "sep-2020",
          "dec-2020",
          "march-2021",
          "june-2021",
          "sep-2021",
          "dec-2021",
          "march-2022",
          "june-2022",
          "sep-2022",
          "dec-2022",
          "march-2023"
         ],
         "xaxis": "x2",
         "y": [
          285,
          263,
          229,
          228,
          215,
          209,
          206,
          197,
          178,
          172,
          180,
          196,
          204,
          212,
          201,
          200
         ],
         "yaxis": "y2"
        },
        {
         "name": "Himachal Pradesh",
         "type": "bar",
         "x": [
          "june-2019",
          "sep-2019",
          "dec-2019",
          "march-2020",
          "june-2020",
          "sep-2020",
          "dec-2020",
          "march-2021",
          "june-2021",
          "sep-2021",
          "dec-2021",
          "march-2022",
          "june-2022",
          "sep-2022",
          "dec-2022",
          "march-2023"
         ],
         "xaxis": "x2",
         "y": [
          362,
          397,
          392,
          385,
          383,
          372,
          378,
          326,
          324,
          267,
          292,
          310,
          278,
          249,
          294,
          314
         ],
         "yaxis": "y2"
        },
        {
         "name": "Madhya Pradesh",
         "type": "bar",
         "x": [
          "june-2019",
          "sep-2019",
          "dec-2019",
          "march-2020",
          "june-2020",
          "sep-2020",
          "dec-2020",
          "march-2021",
          "june-2021",
          "sep-2021",
          "dec-2021",
          "march-2022",
          "june-2022",
          "sep-2022",
          "dec-2022",
          "march-2023"
         ],
         "xaxis": "x2",
         "y": [
          383,
          424,
          425,
          384,
          418,
          420,
          424,
          383,
          433,
          430,
          428,
          442,
          372,
          344,
          339,
          308
         ],
         "yaxis": "y2"
        },
        {
         "name": "Punjab",
         "type": "bar",
         "x": [
          "june-2019",
          "sep-2019",
          "dec-2019",
          "march-2020",
          "june-2020",
          "sep-2020",
          "dec-2020",
          "march-2021",
          "june-2021",
          "sep-2021",
          "dec-2021",
          "march-2022",
          "june-2022",
          "sep-2022",
          "dec-2022",
          "march-2023"
         ],
         "xaxis": "x2",
         "y": [
          186,
          190,
          171,
          181,
          172,
          166,
          162,
          163,
          150,
          129,
          120,
          109,
          125,
          127,
          119,
          118
         ],
         "yaxis": "y2"
        },
        {
         "name": "Uttar Pradesh",
         "type": "bar",
         "x": [
          "june-2019",
          "sep-2019",
          "dec-2019",
          "march-2020",
          "june-2020",
          "sep-2020",
          "dec-2020",
          "march-2021",
          "june-2021",
          "sep-2021",
          "dec-2021",
          "march-2022",
          "june-2022",
          "sep-2022",
          "dec-2022",
          "march-2023"
         ],
         "xaxis": "x2",
         "y": [
          362,
          355,
          336,
          350,
          338,
          365,
          348,
          348,
          336,
          331,
          310,
          305,
          297,
          283,
          290,
          287
         ],
         "yaxis": "y2"
        },
        {
         "name": "Uttarakhand",
         "type": "bar",
         "x": [
          "june-2019",
          "sep-2019",
          "dec-2019",
          "march-2020",
          "june-2020",
          "sep-2020",
          "dec-2020",
          "march-2021",
          "june-2021",
          "sep-2021",
          "dec-2021",
          "march-2022",
          "june-2022",
          "sep-2022",
          "dec-2022",
          "march-2023"
         ],
         "xaxis": "x2",
         "y": [
          130,
          136,
          135,
          125,
          122,
          109,
          100,
          102,
          98,
          108,
          107,
          107,
          101,
          90,
          93,
          86
         ],
         "yaxis": "y2"
        },
        {
         "name": "Arunachal Pradesh",
         "type": "bar",
         "x": [
          "june-2019",
          "sep-2019",
          "dec-2019",
          "march-2020",
          "june-2020",
          "sep-2020",
          "dec-2020",
          "march-2021",
          "june-2021",
          "sep-2021",
          "dec-2021",
          "march-2022",
          "june-2022",
          "sep-2022",
          "dec-2022",
          "march-2023"
         ],
         "xaxis": "x3",
         "y": [
          73,
          77,
          81,
          85,
          86,
          77,
          78,
          64,
          57,
          58,
          56,
          76,
          49,
          49,
          52,
          46
         ],
         "yaxis": "y3"
        },
        {
         "name": "Assam",
         "type": "bar",
         "x": [
          "june-2019",
          "sep-2019",
          "dec-2019",
          "march-2020",
          "june-2020",
          "sep-2020",
          "dec-2020",
          "march-2021",
          "june-2021",
          "sep-2021",
          "dec-2021",
          "march-2022",
          "june-2022",
          "sep-2022",
          "dec-2022",
          "march-2023"
         ],
         "xaxis": "x3",
         "y": [
          145,
          140,
          132,
          147,
          140,
          137,
          123,
          96,
          105,
          91,
          98,
          100,
          84,
          91,
          90,
          86
         ],
         "yaxis": "y3"
        },
        {
         "name": "Manipur",
         "type": "bar",
         "x": [
          "june-2019",
          "sep-2019",
          "dec-2019",
          "march-2020",
          "june-2020",
          "sep-2020",
          "dec-2020",
          "march-2021",
          "june-2021",
          "sep-2021",
          "dec-2021",
          "march-2022",
          "june-2022",
          "sep-2022",
          "dec-2022",
          "march-2023"
         ],
         "xaxis": "x3",
         "y": [
          35,
          40,
          37,
          26,
          22,
          19,
          17,
          20,
          19,
          19,
          24,
          17,
          16,
          18,
          19,
          20
         ],
         "yaxis": "y3"
        },
        {
         "name": "Meghalaya",
         "type": "bar",
         "x": [
          "june-2019",
          "sep-2019",
          "dec-2019",
          "march-2020",
          "june-2020",
          "sep-2020",
          "dec-2020",
          "march-2021",
          "june-2021",
          "sep-2021",
          "dec-2021",
          "march-2022",
          "june-2022",
          "sep-2022",
          "dec-2022",
          "march-2023"
         ],
         "xaxis": "x3",
         "y": [
          42,
          44,
          45,
          45,
          46,
          47,
          43,
          36,
          33,
          29,
          28,
          28,
          26,
          25,
          22,
          20
         ],
         "yaxis": "y3"
        },
        {
         "name": "Mizoram",
         "type": "bar",
         "x": [
          "june-2019",
          "sep-2019",
          "dec-2019",
          "march-2020",
          "june-2020",
          "sep-2020",
          "dec-2020",
          "march-2021",
          "june-2021",
          "sep-2021",
          "dec-2021",
          "march-2022",
          "june-2022",
          "sep-2022",
          "dec-2022",
          "march-2023"
         ],
         "xaxis": "x3",
         "y": [
          33,
          32,
          32,
          34,
          33,
          37,
          37,
          37,
          36,
          46,
          44,
          46,
          42,
          41,
          40,
          39
         ],
         "yaxis": "y3"
        },
        {
         "name": "Nagaland",
         "type": "bar",
         "x": [
          "june-2019",
          "sep-2019",
          "dec-2019",
          "march-2020",
          "june-2020",
          "sep-2020",
          "dec-2020",
          "march-2021",
          "june-2021",
          "sep-2021",
          "dec-2021",
          "march-2022",
          "june-2022",
          "sep-2022",
          "dec-2022",
          "march-2023"
         ],
         "xaxis": "x3",
         "y": [
          20,
          22,
          22,
          24,
          22,
          20,
          22,
          20,
          18,
          14,
          13,
          13,
          9,
          9,
          9,
          8
         ],
         "yaxis": "y3"
        },
        {
         "name": "Sikkim",
         "type": "bar",
         "x": [
          "june-2019",
          "sep-2019",
          "dec-2019",
          "march-2020",
          "june-2020",
          "sep-2020",
          "dec-2020",
          "march-2021",
          "june-2021",
          "sep-2021",
          "dec-2021",
          "march-2022",
          "june-2022",
          "sep-2022",
          "dec-2022",
          "march-2023"
         ],
         "xaxis": "x3",
         "y": [
          18,
          18,
          19,
          21,
          20,
          23,
          25,
          25,
          20,
          23,
          22,
          21,
          20,
          19,
          18,
          16
         ],
         "yaxis": "y3"
        },
        {
         "name": "Andhra Pradesh",
         "type": "bar",
         "x": [
          "june-2019",
          "sep-2019",
          "dec-2019",
          "march-2020",
          "june-2020",
          "sep-2020",
          "dec-2020",
          "march-2021",
          "june-2021",
          "sep-2021",
          "dec-2021",
          "march-2022",
          "june-2022",
          "sep-2022",
          "dec-2022",
          "march-2023"
         ],
         "xaxis": "x4",
         "y": [
          457,
          429,
          425,
          409,
          388,
          392,
          358,
          389,
          359,
          319,
          323,
          300,
          292,
          285,
          293,
          287
         ],
         "yaxis": "y4"
        },
        {
         "name": "Karnataka",
         "type": "bar",
         "x": [
          "june-2019",
          "sep-2019",
          "dec-2019",
          "march-2020",
          "june-2020",
          "sep-2020",
          "dec-2020",
          "march-2021",
          "june-2021",
          "sep-2021",
          "dec-2021",
          "march-2022",
          "june-2022",
          "sep-2022",
          "dec-2022",
          "march-2023"
         ],
         "xaxis": "x4",
         "y": [
          539,
          544,
          573,
          618,
          595,
          571,
          577,
          611,
          567,
          541,
          548,
          694,
          739,
          737,
          755,
          832
         ],
         "yaxis": "y4"
        },
        {
         "name": "Kerala",
         "type": "bar",
         "x": [
          "june-2019",
          "sep-2019",
          "dec-2019",
          "march-2020",
          "june-2020",
          "sep-2020",
          "dec-2020",
          "march-2021",
          "june-2021",
          "sep-2021",
          "dec-2021",
          "march-2022",
          "june-2022",
          "sep-2022",
          "dec-2022",
          "march-2023"
         ],
         "xaxis": "x4",
         "y": [
          330,
          317,
          324,
          318,
          311,
          301,
          270,
          307,
          294,
          278,
          274,
          266,
          258,
          239,
          250,
          253
         ],
         "yaxis": "y4"
        },
        {
         "name": "Tamil Nadu",
         "type": "bar",
         "x": [
          "june-2019",
          "sep-2019",
          "dec-2019",
          "march-2020",
          "june-2020",
          "sep-2020",
          "dec-2020",
          "march-2021",
          "june-2021",
          "sep-2021",
          "dec-2021",
          "march-2022",
          "june-2022",
          "sep-2022",
          "dec-2022",
          "march-2023"
         ],
         "xaxis": "x4",
         "y": [
          592,
          633,
          614,
          639,
          606,
          587,
          578,
          546,
          539,
          554,
          593,
          564,
          548,
          593,
          580,
          512
         ],
         "yaxis": "y4"
        },
        {
         "name": "Telangana",
         "type": "bar",
         "x": [
          "june-2019",
          "sep-2019",
          "dec-2019",
          "march-2020",
          "june-2020",
          "sep-2020",
          "dec-2020",
          "march-2021",
          "june-2021",
          "sep-2021",
          "dec-2021",
          "march-2022",
          "june-2022",
          "sep-2022",
          "dec-2022",
          "march-2023"
         ],
         "xaxis": "x4",
         "y": [
          327,
          326,
          320,
          319,
          289,
          284,
          247,
          255,
          207,
          208,
          213,
          224,
          233,
          222,
          216,
          220
         ],
         "yaxis": "y4"
        },
        {
         "name": "Jammu & Kashmir",
         "type": "bar",
         "x": [
          "june-2019",
          "sep-2019",
          "dec-2019",
          "march-2020",
          "june-2020",
          "sep-2020",
          "dec-2020",
          "march-2021",
          "june-2021",
          "sep-2021",
          "dec-2021",
          "march-2022",
          "june-2022",
          "sep-2022",
          "dec-2022",
          "march-2023"
         ],
         "xaxis": "x5",
         "y": [
          92,
          90,
          92,
          90,
          87,
          76,
          91,
          97,
          94,
          87,
          78,
          78,
          81,
          84,
          83,
          138
         ],
         "yaxis": "y5"
        },
        {
         "name": "Andaman & Nicobar",
         "type": "bar",
         "x": [
          "june-2019",
          "sep-2019",
          "dec-2019",
          "march-2020",
          "june-2020",
          "sep-2020",
          "dec-2020",
          "march-2021",
          "june-2021",
          "sep-2021",
          "dec-2021",
          "march-2022",
          "june-2022",
          "sep-2022",
          "dec-2022",
          "march-2023"
         ],
         "xaxis": "x5",
         "y": [
          37,
          39,
          39,
          40,
          40,
          43,
          42,
          39,
          39,
          39,
          40,
          37,
          29,
          28,
          28,
          28
         ],
         "yaxis": "y5"
        },
        {
         "name": "Chandigarh",
         "type": "bar",
         "x": [
          "june-2019",
          "sep-2019",
          "dec-2019",
          "march-2020",
          "june-2020",
          "sep-2020",
          "dec-2020",
          "march-2021",
          "june-2021",
          "sep-2021",
          "dec-2021",
          "march-2022",
          "june-2022",
          "sep-2022",
          "dec-2022",
          "march-2023"
         ],
         "xaxis": "x5",
         "y": [
          37,
          38,
          38,
          34,
          33,
          34,
          31,
          31,
          27,
          26,
          20,
          19,
          18,
          19,
          16,
          14
         ],
         "yaxis": "y5"
        },
        {
         "name": "Dadra & Nagar Haveli and Daman & Diu",
         "type": "bar",
         "x": [
          "june-2019",
          "sep-2019",
          "dec-2019",
          "march-2020",
          "june-2020",
          "sep-2020",
          "dec-2020",
          "march-2021",
          "june-2021",
          "sep-2021",
          "dec-2021",
          "march-2022",
          "june-2022",
          "sep-2022",
          "dec-2022",
          "march-2023"
         ],
         "xaxis": "x5",
         "y": [
          22,
          22,
          19,
          20,
          21,
          19,
          19,
          21,
          20,
          20,
          17,
          16,
          13,
          11,
          9,
          9
         ],
         "yaxis": "y5"
        },
        {
         "name": "Ladakh",
         "type": "bar",
         "x": [
          "june-2019",
          "sep-2019",
          "dec-2019",
          "march-2020",
          "june-2020",
          "sep-2020",
          "dec-2020",
          "march-2021",
          "june-2021",
          "sep-2021",
          "dec-2021",
          "march-2022",
          "june-2022",
          "sep-2022",
          "dec-2022",
          "march-2023"
         ],
         "xaxis": "x5",
         "y": [
          15,
          13,
          14,
          17,
          19,
          21,
          20,
          17,
          17,
          21,
          14,
          12,
          12,
          11,
          11,
          10
         ],
         "yaxis": "y5"
        },
        {
         "name": "Lakshadweep",
         "type": "bar",
         "x": [
          "june-2019",
          "sep-2019",
          "dec-2019",
          "march-2020",
          "june-2020",
          "sep-2020",
          "dec-2020",
          "march-2021",
          "june-2021",
          "sep-2021",
          "dec-2021",
          "march-2022",
          "june-2022",
          "sep-2022",
          "dec-2022",
          "march-2023"
         ],
         "xaxis": "x5",
         "y": [
          10,
          12,
          12,
          11,
          11,
          9,
          7,
          7,
          11,
          11,
          11,
          11,
          10,
          8,
          9,
          11
         ],
         "yaxis": "y5"
        },
        {
         "name": "Puducherry",
         "type": "bar",
         "x": [
          "june-2019",
          "sep-2019",
          "dec-2019",
          "march-2020",
          "june-2020",
          "sep-2020",
          "dec-2020",
          "march-2021",
          "june-2021",
          "sep-2021",
          "dec-2021",
          "march-2022",
          "june-2022",
          "sep-2022",
          "dec-2022",
          "march-2023"
         ],
         "xaxis": "x5",
         "y": [
          25,
          26,
          25,
          30,
          31,
          30,
          28,
          27,
          25,
          25,
          27,
          31,
          29,
          41,
          41,
          43
         ],
         "yaxis": "y5"
        },
        {
         "name": "Goa",
         "type": "bar",
         "x": [
          "june-2019",
          "sep-2019",
          "dec-2019",
          "march-2020",
          "june-2020",
          "sep-2020",
          "dec-2020",
          "march-2021",
          "june-2021",
          "sep-2021",
          "dec-2021",
          "march-2022",
          "june-2022",
          "sep-2022",
          "dec-2022",
          "march-2023"
         ],
         "xaxis": "x6",
         "y": [
          109,
          120,
          110,
          102,
          99,
          101,
          115,
          99,
          102,
          112,
          115,
          126,
          75,
          71,
          75,
          78
         ],
         "yaxis": "y6"
        },
        {
         "name": "Gujarat",
         "type": "bar",
         "x": [
          "june-2019",
          "sep-2019",
          "dec-2019",
          "march-2020",
          "june-2020",
          "sep-2020",
          "dec-2020",
          "march-2021",
          "june-2021",
          "sep-2021",
          "dec-2021",
          "march-2022",
          "june-2022",
          "sep-2022",
          "dec-2022",
          "march-2023"
         ],
         "xaxis": "x6",
         "y": [
          777,
          747,
          766,
          773,
          848,
          968,
          782,
          749,
          601,
          584,
          693,
          716,
          634,
          605,
          556,
          528
         ],
         "yaxis": "y6"
        },
        {
         "name": "Maharashtra",
         "type": "bar",
         "x": [
          "june-2019",
          "sep-2019",
          "dec-2019",
          "march-2020",
          "june-2020",
          "sep-2020",
          "dec-2020",
          "march-2021",
          "june-2021",
          "sep-2021",
          "dec-2021",
          "march-2022",
          "june-2022",
          "sep-2022",
          "dec-2022",
          "march-2023"
         ],
         "xaxis": "x6",
         "y": [
          1041,
          993,
          1025,
          1015,
          968,
          948,
          918,
          900,
          863,
          838,
          847,
          911,
          929,
          890,
          923,
          926
         ],
         "yaxis": "y6"
        },
        {
         "name": "Rajasthan",
         "type": "bar",
         "x": [
          "june-2019",
          "sep-2019",
          "dec-2019",
          "march-2020",
          "june-2020",
          "sep-2020",
          "dec-2020",
          "march-2021",
          "june-2021",
          "sep-2021",
          "dec-2021",
          "march-2022",
          "june-2022",
          "sep-2022",
          "dec-2022",
          "march-2023"
         ],
         "xaxis": "x6",
         "y": [
          284,
          285,
          268,
          309,
          302,
          299,
          284,
          331,
          305,
          293,
          268,
          347,
          334,
          330,
          308,
          490
         ],
         "yaxis": "y6"
        },
        {
         "name": "West Bengal",
         "type": "bar",
         "x": [
          "june-2019",
          "sep-2019",
          "dec-2019",
          "march-2020",
          "june-2020",
          "sep-2020",
          "dec-2020",
          "march-2021",
          "june-2021",
          "sep-2021",
          "dec-2021",
          "march-2022",
          "june-2022",
          "sep-2022",
          "dec-2022",
          "march-2023"
         ],
         "xaxis": "x6",
         "y": [
          277,
          266,
          250,
          241,
          235,
          237,
          226,
          231,
          219,
          219,
          231,
          229,
          238,
          230,
          224,
          199
         ],
         "yaxis": "y6"
        }
       ],
       "layout": {
        "height": 1000,
        "showlegend": true,
        "template": {
         "data": {
          "bar": [
           {
            "error_x": {
             "color": "#2a3f5f"
            },
            "error_y": {
             "color": "#2a3f5f"
            },
            "marker": {
             "line": {
              "color": "#E5ECF6",
              "width": 0.5
             },
             "pattern": {
              "fillmode": "overlay",
              "size": 10,
              "solidity": 0.2
             }
            },
            "type": "bar"
           }
          ],
          "barpolar": [
           {
            "marker": {
             "line": {
              "color": "#E5ECF6",
              "width": 0.5
             },
             "pattern": {
              "fillmode": "overlay",
              "size": 10,
              "solidity": 0.2
             }
            },
            "type": "barpolar"
           }
          ],
          "carpet": [
           {
            "aaxis": {
             "endlinecolor": "#2a3f5f",
             "gridcolor": "white",
             "linecolor": "white",
             "minorgridcolor": "white",
             "startlinecolor": "#2a3f5f"
            },
            "baxis": {
             "endlinecolor": "#2a3f5f",
             "gridcolor": "white",
             "linecolor": "white",
             "minorgridcolor": "white",
             "startlinecolor": "#2a3f5f"
            },
            "type": "carpet"
           }
          ],
          "choropleth": [
           {
            "colorbar": {
             "outlinewidth": 0,
             "ticks": ""
            },
            "type": "choropleth"
           }
          ],
          "contour": [
           {
            "colorbar": {
             "outlinewidth": 0,
             "ticks": ""
            },
            "colorscale": [
             [
              0,
              "#0d0887"
             ],
             [
              0.1111111111111111,
              "#46039f"
             ],
             [
              0.2222222222222222,
              "#7201a8"
             ],
             [
              0.3333333333333333,
              "#9c179e"
             ],
             [
              0.4444444444444444,
              "#bd3786"
             ],
             [
              0.5555555555555556,
              "#d8576b"
             ],
             [
              0.6666666666666666,
              "#ed7953"
             ],
             [
              0.7777777777777778,
              "#fb9f3a"
             ],
             [
              0.8888888888888888,
              "#fdca26"
             ],
             [
              1,
              "#f0f921"
             ]
            ],
            "type": "contour"
           }
          ],
          "contourcarpet": [
           {
            "colorbar": {
             "outlinewidth": 0,
             "ticks": ""
            },
            "type": "contourcarpet"
           }
          ],
          "heatmap": [
           {
            "colorbar": {
             "outlinewidth": 0,
             "ticks": ""
            },
            "colorscale": [
             [
              0,
              "#0d0887"
             ],
             [
              0.1111111111111111,
              "#46039f"
             ],
             [
              0.2222222222222222,
              "#7201a8"
             ],
             [
              0.3333333333333333,
              "#9c179e"
             ],
             [
              0.4444444444444444,
              "#bd3786"
             ],
             [
              0.5555555555555556,
              "#d8576b"
             ],
             [
              0.6666666666666666,
              "#ed7953"
             ],
             [
              0.7777777777777778,
              "#fb9f3a"
             ],
             [
              0.8888888888888888,
              "#fdca26"
             ],
             [
              1,
              "#f0f921"
             ]
            ],
            "type": "heatmap"
           }
          ],
          "heatmapgl": [
           {
            "colorbar": {
             "outlinewidth": 0,
             "ticks": ""
            },
            "colorscale": [
             [
              0,
              "#0d0887"
             ],
             [
              0.1111111111111111,
              "#46039f"
             ],
             [
              0.2222222222222222,
              "#7201a8"
             ],
             [
              0.3333333333333333,
              "#9c179e"
             ],
             [
              0.4444444444444444,
              "#bd3786"
             ],
             [
              0.5555555555555556,
              "#d8576b"
             ],
             [
              0.6666666666666666,
              "#ed7953"
             ],
             [
              0.7777777777777778,
              "#fb9f3a"
             ],
             [
              0.8888888888888888,
              "#fdca26"
             ],
             [
              1,
              "#f0f921"
             ]
            ],
            "type": "heatmapgl"
           }
          ],
          "histogram": [
           {
            "marker": {
             "pattern": {
              "fillmode": "overlay",
              "size": 10,
              "solidity": 0.2
             }
            },
            "type": "histogram"
           }
          ],
          "histogram2d": [
           {
            "colorbar": {
             "outlinewidth": 0,
             "ticks": ""
            },
            "colorscale": [
             [
              0,
              "#0d0887"
             ],
             [
              0.1111111111111111,
              "#46039f"
             ],
             [
              0.2222222222222222,
              "#7201a8"
             ],
             [
              0.3333333333333333,
              "#9c179e"
             ],
             [
              0.4444444444444444,
              "#bd3786"
             ],
             [
              0.5555555555555556,
              "#d8576b"
             ],
             [
              0.6666666666666666,
              "#ed7953"
             ],
             [
              0.7777777777777778,
              "#fb9f3a"
             ],
             [
              0.8888888888888888,
              "#fdca26"
             ],
             [
              1,
              "#f0f921"
             ]
            ],
            "type": "histogram2d"
           }
          ],
          "histogram2dcontour": [
           {
            "colorbar": {
             "outlinewidth": 0,
             "ticks": ""
            },
            "colorscale": [
             [
              0,
              "#0d0887"
             ],
             [
              0.1111111111111111,
              "#46039f"
             ],
             [
              0.2222222222222222,
              "#7201a8"
             ],
             [
              0.3333333333333333,
              "#9c179e"
             ],
             [
              0.4444444444444444,
              "#bd3786"
             ],
             [
              0.5555555555555556,
              "#d8576b"
             ],
             [
              0.6666666666666666,
              "#ed7953"
             ],
             [
              0.7777777777777778,
              "#fb9f3a"
             ],
             [
              0.8888888888888888,
              "#fdca26"
             ],
             [
              1,
              "#f0f921"
             ]
            ],
            "type": "histogram2dcontour"
           }
          ],
          "mesh3d": [
           {
            "colorbar": {
             "outlinewidth": 0,
             "ticks": ""
            },
            "type": "mesh3d"
           }
          ],
          "parcoords": [
           {
            "line": {
             "colorbar": {
              "outlinewidth": 0,
              "ticks": ""
             }
            },
            "type": "parcoords"
           }
          ],
          "pie": [
           {
            "automargin": true,
            "type": "pie"
           }
          ],
          "scatter": [
           {
            "marker": {
             "colorbar": {
              "outlinewidth": 0,
              "ticks": ""
             }
            },
            "type": "scatter"
           }
          ],
          "scatter3d": [
           {
            "line": {
             "colorbar": {
              "outlinewidth": 0,
              "ticks": ""
             }
            },
            "marker": {
             "colorbar": {
              "outlinewidth": 0,
              "ticks": ""
             }
            },
            "type": "scatter3d"
           }
          ],
          "scattercarpet": [
           {
            "marker": {
             "colorbar": {
              "outlinewidth": 0,
              "ticks": ""
             }
            },
            "type": "scattercarpet"
           }
          ],
          "scattergeo": [
           {
            "marker": {
             "colorbar": {
              "outlinewidth": 0,
              "ticks": ""
             }
            },
            "type": "scattergeo"
           }
          ],
          "scattergl": [
           {
            "marker": {
             "colorbar": {
              "outlinewidth": 0,
              "ticks": ""
             }
            },
            "type": "scattergl"
           }
          ],
          "scattermapbox": [
           {
            "marker": {
             "colorbar": {
              "outlinewidth": 0,
              "ticks": ""
             }
            },
            "type": "scattermapbox"
           }
          ],
          "scatterpolar": [
           {
            "marker": {
             "colorbar": {
              "outlinewidth": 0,
              "ticks": ""
             }
            },
            "type": "scatterpolar"
           }
          ],
          "scatterpolargl": [
           {
            "marker": {
             "colorbar": {
              "outlinewidth": 0,
              "ticks": ""
             }
            },
            "type": "scatterpolargl"
           }
          ],
          "scatterternary": [
           {
            "marker": {
             "colorbar": {
              "outlinewidth": 0,
              "ticks": ""
             }
            },
            "type": "scatterternary"
           }
          ],
          "surface": [
           {
            "colorbar": {
             "outlinewidth": 0,
             "ticks": ""
            },
            "colorscale": [
             [
              0,
              "#0d0887"
             ],
             [
              0.1111111111111111,
              "#46039f"
             ],
             [
              0.2222222222222222,
              "#7201a8"
             ],
             [
              0.3333333333333333,
              "#9c179e"
             ],
             [
              0.4444444444444444,
              "#bd3786"
             ],
             [
              0.5555555555555556,
              "#d8576b"
             ],
             [
              0.6666666666666666,
              "#ed7953"
             ],
             [
              0.7777777777777778,
              "#fb9f3a"
             ],
             [
              0.8888888888888888,
              "#fdca26"
             ],
             [
              1,
              "#f0f921"
             ]
            ],
            "type": "surface"
           }
          ],
          "table": [
           {
            "cells": {
             "fill": {
              "color": "#EBF0F8"
             },
             "line": {
              "color": "white"
             }
            },
            "header": {
             "fill": {
              "color": "#C8D4E3"
             },
             "line": {
              "color": "white"
             }
            },
            "type": "table"
           }
          ]
         },
         "layout": {
          "annotationdefaults": {
           "arrowcolor": "#2a3f5f",
           "arrowhead": 0,
           "arrowwidth": 1
          },
          "autotypenumbers": "strict",
          "coloraxis": {
           "colorbar": {
            "outlinewidth": 0,
            "ticks": ""
           }
          },
          "colorscale": {
           "diverging": [
            [
             0,
             "#8e0152"
            ],
            [
             0.1,
             "#c51b7d"
            ],
            [
             0.2,
             "#de77ae"
            ],
            [
             0.3,
             "#f1b6da"
            ],
            [
             0.4,
             "#fde0ef"
            ],
            [
             0.5,
             "#f7f7f7"
            ],
            [
             0.6,
             "#e6f5d0"
            ],
            [
             0.7,
             "#b8e186"
            ],
            [
             0.8,
             "#7fbc41"
            ],
            [
             0.9,
             "#4d9221"
            ],
            [
             1,
             "#276419"
            ]
           ],
           "sequential": [
            [
             0,
             "#0d0887"
            ],
            [
             0.1111111111111111,
             "#46039f"
            ],
            [
             0.2222222222222222,
             "#7201a8"
            ],
            [
             0.3333333333333333,
             "#9c179e"
            ],
            [
             0.4444444444444444,
             "#bd3786"
            ],
            [
             0.5555555555555556,
             "#d8576b"
            ],
            [
             0.6666666666666666,
             "#ed7953"
            ],
            [
             0.7777777777777778,
             "#fb9f3a"
            ],
            [
             0.8888888888888888,
             "#fdca26"
            ],
            [
             1,
             "#f0f921"
            ]
           ],
           "sequentialminus": [
            [
             0,
             "#0d0887"
            ],
            [
             0.1111111111111111,
             "#46039f"
            ],
            [
             0.2222222222222222,
             "#7201a8"
            ],
            [
             0.3333333333333333,
             "#9c179e"
            ],
            [
             0.4444444444444444,
             "#bd3786"
            ],
            [
             0.5555555555555556,
             "#d8576b"
            ],
            [
             0.6666666666666666,
             "#ed7953"
            ],
            [
             0.7777777777777778,
             "#fb9f3a"
            ],
            [
             0.8888888888888888,
             "#fdca26"
            ],
            [
             1,
             "#f0f921"
            ]
           ]
          },
          "colorway": [
           "#636efa",
           "#EF553B",
           "#00cc96",
           "#ab63fa",
           "#FFA15A",
           "#19d3f3",
           "#FF6692",
           "#B6E880",
           "#FF97FF",
           "#FECB52"
          ],
          "font": {
           "color": "#2a3f5f"
          },
          "geo": {
           "bgcolor": "white",
           "lakecolor": "white",
           "landcolor": "#E5ECF6",
           "showlakes": true,
           "showland": true,
           "subunitcolor": "white"
          },
          "hoverlabel": {
           "align": "left"
          },
          "hovermode": "closest",
          "mapbox": {
           "style": "light"
          },
          "paper_bgcolor": "white",
          "plot_bgcolor": "#E5ECF6",
          "polar": {
           "angularaxis": {
            "gridcolor": "white",
            "linecolor": "white",
            "ticks": ""
           },
           "bgcolor": "#E5ECF6",
           "radialaxis": {
            "gridcolor": "white",
            "linecolor": "white",
            "ticks": ""
           }
          },
          "scene": {
           "xaxis": {
            "backgroundcolor": "#E5ECF6",
            "gridcolor": "white",
            "gridwidth": 2,
            "linecolor": "white",
            "showbackground": true,
            "ticks": "",
            "zerolinecolor": "white"
           },
           "yaxis": {
            "backgroundcolor": "#E5ECF6",
            "gridcolor": "white",
            "gridwidth": 2,
            "linecolor": "white",
            "showbackground": true,
            "ticks": "",
            "zerolinecolor": "white"
           },
           "zaxis": {
            "backgroundcolor": "#E5ECF6",
            "gridcolor": "white",
            "gridwidth": 2,
            "linecolor": "white",
            "showbackground": true,
            "ticks": "",
            "zerolinecolor": "white"
           }
          },
          "shapedefaults": {
           "line": {
            "color": "#2a3f5f"
           }
          },
          "ternary": {
           "aaxis": {
            "gridcolor": "white",
            "linecolor": "white",
            "ticks": ""
           },
           "baxis": {
            "gridcolor": "white",
            "linecolor": "white",
            "ticks": ""
           },
           "bgcolor": "#E5ECF6",
           "caxis": {
            "gridcolor": "white",
            "linecolor": "white",
            "ticks": ""
           }
          },
          "title": {
           "x": 0.05
          },
          "xaxis": {
           "automargin": true,
           "gridcolor": "white",
           "linecolor": "white",
           "ticks": "",
           "title": {
            "standoff": 15
           },
           "zerolinecolor": "white",
           "zerolinewidth": 2
          },
          "yaxis": {
           "automargin": true,
           "gridcolor": "white",
           "linecolor": "white",
           "ticks": "",
           "title": {
            "standoff": 15
           },
           "zerolinecolor": "white",
           "zerolinewidth": 2
          }
         }
        },
        "title": {
         "text": "Capex announcements by Indian states Region"
        },
        "width": 1000,
        "xaxis": {
         "anchor": "y",
         "domain": [
          0,
          1
         ]
        },
        "xaxis2": {
         "anchor": "y2",
         "domain": [
          0,
          1
         ]
        },
        "xaxis3": {
         "anchor": "y3",
         "domain": [
          0,
          1
         ]
        },
        "xaxis4": {
         "anchor": "y4",
         "domain": [
          0,
          1
         ]
        },
        "xaxis5": {
         "anchor": "y5",
         "domain": [
          0,
          1
         ]
        },
        "xaxis6": {
         "anchor": "y6",
         "domain": [
          0,
          1
         ]
        },
        "yaxis": {
         "anchor": "x",
         "domain": [
          0.875,
          1
         ],
         "title": {
          "text": "Region: East"
         }
        },
        "yaxis2": {
         "anchor": "x2",
         "domain": [
          0.7,
          0.825
         ],
         "title": {
          "text": "Region: North"
         }
        },
        "yaxis3": {
         "anchor": "x3",
         "domain": [
          0.525,
          0.65
         ],
         "title": {
          "text": "Region: North-East"
         }
        },
        "yaxis4": {
         "anchor": "x4",
         "domain": [
          0.35,
          0.475
         ],
         "title": {
          "text": "Region: South"
         }
        },
        "yaxis5": {
         "anchor": "x5",
         "domain": [
          0.175,
          0.3
         ],
         "title": {
          "text": "Region: UT"
         }
        },
        "yaxis6": {
         "anchor": "x6",
         "domain": [
          0,
          0.125
         ],
         "title": {
          "text": "Region: West"
         }
        }
       }
      },
      "text/html": [
       "<div>                            <div id=\"d19618b0-ba81-4e50-aac0-383ed9ba782e\" class=\"plotly-graph-div\" style=\"height:1000px; width:1000px;\"></div>            <script type=\"text/javascript\">                require([\"plotly\"], function(Plotly) {                    window.PLOTLYENV=window.PLOTLYENV || {};                                    if (document.getElementById(\"d19618b0-ba81-4e50-aac0-383ed9ba782e\")) {                    Plotly.newPlot(                        \"d19618b0-ba81-4e50-aac0-383ed9ba782e\",                        [{\"name\":\"Bihar\",\"type\":\"bar\",\"x\":[\"june-2019\",\"sep-2019\",\"dec-2019\",\"march-2020\",\"june-2020\",\"sep-2020\",\"dec-2020\",\"march-2021\",\"june-2021\",\"sep-2021\",\"dec-2021\",\"march-2022\",\"june-2022\",\"sep-2022\",\"dec-2022\",\"march-2023\"],\"xaxis\":\"x\",\"y\":[210,231,229,179,178,187,191,157,163,182,191,166,126,110,95,84],\"yaxis\":\"y\"},{\"name\":\"Jharkhand\",\"type\":\"bar\",\"x\":[\"june-2019\",\"sep-2019\",\"dec-2019\",\"march-2020\",\"june-2020\",\"sep-2020\",\"dec-2020\",\"march-2021\",\"june-2021\",\"sep-2021\",\"dec-2021\",\"march-2022\",\"june-2022\",\"sep-2022\",\"dec-2022\",\"march-2023\"],\"xaxis\":\"x\",\"y\":[213,208,198,202,198,185,229,286,291,292,230,230,226,190,181,160],\"yaxis\":\"y\"},{\"name\":\"Odisha\",\"type\":\"bar\",\"x\":[\"june-2019\",\"sep-2019\",\"dec-2019\",\"march-2020\",\"june-2020\",\"sep-2020\",\"dec-2020\",\"march-2021\",\"june-2021\",\"sep-2021\",\"dec-2021\",\"march-2022\",\"june-2022\",\"sep-2022\",\"dec-2022\",\"march-2023\"],\"xaxis\":\"x\",\"y\":[415,396,400,390,378,363,370,366,349,342,343,345,359,350,375,390],\"yaxis\":\"y\"},{\"name\":\"Tripura\",\"type\":\"bar\",\"x\":[\"june-2019\",\"sep-2019\",\"dec-2019\",\"march-2020\",\"june-2020\",\"sep-2020\",\"dec-2020\",\"march-2021\",\"june-2021\",\"sep-2021\",\"dec-2021\",\"march-2022\",\"june-2022\",\"sep-2022\",\"dec-2022\",\"march-2023\"],\"xaxis\":\"x\",\"y\":[39,38,39,36,34,34,27,27,24,28,23,23,17,16,20,18],\"yaxis\":\"y\"},{\"name\":\"Chhattisgarh\",\"type\":\"bar\",\"x\":[\"june-2019\",\"sep-2019\",\"dec-2019\",\"march-2020\",\"june-2020\",\"sep-2020\",\"dec-2020\",\"march-2021\",\"june-2021\",\"sep-2021\",\"dec-2021\",\"march-2022\",\"june-2022\",\"sep-2022\",\"dec-2022\",\"march-2023\"],\"xaxis\":\"x2\",\"y\":[176,172,186,192,188,185,186,187,185,185,180,177,200,192,187,179],\"yaxis\":\"y2\"},{\"name\":\"NCT of Delhi\",\"type\":\"bar\",\"x\":[\"june-2019\",\"sep-2019\",\"dec-2019\",\"march-2020\",\"june-2020\",\"sep-2020\",\"dec-2020\",\"march-2021\",\"june-2021\",\"sep-2021\",\"dec-2021\",\"march-2022\",\"june-2022\",\"sep-2022\",\"dec-2022\",\"march-2023\"],\"xaxis\":\"x2\",\"y\":[197,207,197,208,196,195,193,192,163,157,145,136,127,111,116,113],\"yaxis\":\"y2\"},{\"name\":\"Haryana\",\"type\":\"bar\",\"x\":[\"june-2019\",\"sep-2019\",\"dec-2019\",\"march-2020\",\"june-2020\",\"sep-2020\",\"dec-2020\",\"march-2021\",\"june-2021\",\"sep-2021\",\"dec-2021\",\"march-2022\",\"june-2022\",\"sep-2022\",\"dec-2022\",\"march-2023\"],\"xaxis\":\"x2\",\"y\":[285,263,229,228,215,209,206,197,178,172,180,196,204,212,201,200],\"yaxis\":\"y2\"},{\"name\":\"Himachal Pradesh\",\"type\":\"bar\",\"x\":[\"june-2019\",\"sep-2019\",\"dec-2019\",\"march-2020\",\"june-2020\",\"sep-2020\",\"dec-2020\",\"march-2021\",\"june-2021\",\"sep-2021\",\"dec-2021\",\"march-2022\",\"june-2022\",\"sep-2022\",\"dec-2022\",\"march-2023\"],\"xaxis\":\"x2\",\"y\":[362,397,392,385,383,372,378,326,324,267,292,310,278,249,294,314],\"yaxis\":\"y2\"},{\"name\":\"Madhya Pradesh\",\"type\":\"bar\",\"x\":[\"june-2019\",\"sep-2019\",\"dec-2019\",\"march-2020\",\"june-2020\",\"sep-2020\",\"dec-2020\",\"march-2021\",\"june-2021\",\"sep-2021\",\"dec-2021\",\"march-2022\",\"june-2022\",\"sep-2022\",\"dec-2022\",\"march-2023\"],\"xaxis\":\"x2\",\"y\":[383,424,425,384,418,420,424,383,433,430,428,442,372,344,339,308],\"yaxis\":\"y2\"},{\"name\":\"Punjab\",\"type\":\"bar\",\"x\":[\"june-2019\",\"sep-2019\",\"dec-2019\",\"march-2020\",\"june-2020\",\"sep-2020\",\"dec-2020\",\"march-2021\",\"june-2021\",\"sep-2021\",\"dec-2021\",\"march-2022\",\"june-2022\",\"sep-2022\",\"dec-2022\",\"march-2023\"],\"xaxis\":\"x2\",\"y\":[186,190,171,181,172,166,162,163,150,129,120,109,125,127,119,118],\"yaxis\":\"y2\"},{\"name\":\"Uttar Pradesh\",\"type\":\"bar\",\"x\":[\"june-2019\",\"sep-2019\",\"dec-2019\",\"march-2020\",\"june-2020\",\"sep-2020\",\"dec-2020\",\"march-2021\",\"june-2021\",\"sep-2021\",\"dec-2021\",\"march-2022\",\"june-2022\",\"sep-2022\",\"dec-2022\",\"march-2023\"],\"xaxis\":\"x2\",\"y\":[362,355,336,350,338,365,348,348,336,331,310,305,297,283,290,287],\"yaxis\":\"y2\"},{\"name\":\"Uttarakhand\",\"type\":\"bar\",\"x\":[\"june-2019\",\"sep-2019\",\"dec-2019\",\"march-2020\",\"june-2020\",\"sep-2020\",\"dec-2020\",\"march-2021\",\"june-2021\",\"sep-2021\",\"dec-2021\",\"march-2022\",\"june-2022\",\"sep-2022\",\"dec-2022\",\"march-2023\"],\"xaxis\":\"x2\",\"y\":[130,136,135,125,122,109,100,102,98,108,107,107,101,90,93,86],\"yaxis\":\"y2\"},{\"name\":\"Arunachal Pradesh\",\"type\":\"bar\",\"x\":[\"june-2019\",\"sep-2019\",\"dec-2019\",\"march-2020\",\"june-2020\",\"sep-2020\",\"dec-2020\",\"march-2021\",\"june-2021\",\"sep-2021\",\"dec-2021\",\"march-2022\",\"june-2022\",\"sep-2022\",\"dec-2022\",\"march-2023\"],\"xaxis\":\"x3\",\"y\":[73,77,81,85,86,77,78,64,57,58,56,76,49,49,52,46],\"yaxis\":\"y3\"},{\"name\":\"Assam\",\"type\":\"bar\",\"x\":[\"june-2019\",\"sep-2019\",\"dec-2019\",\"march-2020\",\"june-2020\",\"sep-2020\",\"dec-2020\",\"march-2021\",\"june-2021\",\"sep-2021\",\"dec-2021\",\"march-2022\",\"june-2022\",\"sep-2022\",\"dec-2022\",\"march-2023\"],\"xaxis\":\"x3\",\"y\":[145,140,132,147,140,137,123,96,105,91,98,100,84,91,90,86],\"yaxis\":\"y3\"},{\"name\":\"Manipur\",\"type\":\"bar\",\"x\":[\"june-2019\",\"sep-2019\",\"dec-2019\",\"march-2020\",\"june-2020\",\"sep-2020\",\"dec-2020\",\"march-2021\",\"june-2021\",\"sep-2021\",\"dec-2021\",\"march-2022\",\"june-2022\",\"sep-2022\",\"dec-2022\",\"march-2023\"],\"xaxis\":\"x3\",\"y\":[35,40,37,26,22,19,17,20,19,19,24,17,16,18,19,20],\"yaxis\":\"y3\"},{\"name\":\"Meghalaya\",\"type\":\"bar\",\"x\":[\"june-2019\",\"sep-2019\",\"dec-2019\",\"march-2020\",\"june-2020\",\"sep-2020\",\"dec-2020\",\"march-2021\",\"june-2021\",\"sep-2021\",\"dec-2021\",\"march-2022\",\"june-2022\",\"sep-2022\",\"dec-2022\",\"march-2023\"],\"xaxis\":\"x3\",\"y\":[42,44,45,45,46,47,43,36,33,29,28,28,26,25,22,20],\"yaxis\":\"y3\"},{\"name\":\"Mizoram\",\"type\":\"bar\",\"x\":[\"june-2019\",\"sep-2019\",\"dec-2019\",\"march-2020\",\"june-2020\",\"sep-2020\",\"dec-2020\",\"march-2021\",\"june-2021\",\"sep-2021\",\"dec-2021\",\"march-2022\",\"june-2022\",\"sep-2022\",\"dec-2022\",\"march-2023\"],\"xaxis\":\"x3\",\"y\":[33,32,32,34,33,37,37,37,36,46,44,46,42,41,40,39],\"yaxis\":\"y3\"},{\"name\":\"Nagaland\",\"type\":\"bar\",\"x\":[\"june-2019\",\"sep-2019\",\"dec-2019\",\"march-2020\",\"june-2020\",\"sep-2020\",\"dec-2020\",\"march-2021\",\"june-2021\",\"sep-2021\",\"dec-2021\",\"march-2022\",\"june-2022\",\"sep-2022\",\"dec-2022\",\"march-2023\"],\"xaxis\":\"x3\",\"y\":[20,22,22,24,22,20,22,20,18,14,13,13,9,9,9,8],\"yaxis\":\"y3\"},{\"name\":\"Sikkim\",\"type\":\"bar\",\"x\":[\"june-2019\",\"sep-2019\",\"dec-2019\",\"march-2020\",\"june-2020\",\"sep-2020\",\"dec-2020\",\"march-2021\",\"june-2021\",\"sep-2021\",\"dec-2021\",\"march-2022\",\"june-2022\",\"sep-2022\",\"dec-2022\",\"march-2023\"],\"xaxis\":\"x3\",\"y\":[18,18,19,21,20,23,25,25,20,23,22,21,20,19,18,16],\"yaxis\":\"y3\"},{\"name\":\"Andhra Pradesh\",\"type\":\"bar\",\"x\":[\"june-2019\",\"sep-2019\",\"dec-2019\",\"march-2020\",\"june-2020\",\"sep-2020\",\"dec-2020\",\"march-2021\",\"june-2021\",\"sep-2021\",\"dec-2021\",\"march-2022\",\"june-2022\",\"sep-2022\",\"dec-2022\",\"march-2023\"],\"xaxis\":\"x4\",\"y\":[457,429,425,409,388,392,358,389,359,319,323,300,292,285,293,287],\"yaxis\":\"y4\"},{\"name\":\"Karnataka\",\"type\":\"bar\",\"x\":[\"june-2019\",\"sep-2019\",\"dec-2019\",\"march-2020\",\"june-2020\",\"sep-2020\",\"dec-2020\",\"march-2021\",\"june-2021\",\"sep-2021\",\"dec-2021\",\"march-2022\",\"june-2022\",\"sep-2022\",\"dec-2022\",\"march-2023\"],\"xaxis\":\"x4\",\"y\":[539,544,573,618,595,571,577,611,567,541,548,694,739,737,755,832],\"yaxis\":\"y4\"},{\"name\":\"Kerala\",\"type\":\"bar\",\"x\":[\"june-2019\",\"sep-2019\",\"dec-2019\",\"march-2020\",\"june-2020\",\"sep-2020\",\"dec-2020\",\"march-2021\",\"june-2021\",\"sep-2021\",\"dec-2021\",\"march-2022\",\"june-2022\",\"sep-2022\",\"dec-2022\",\"march-2023\"],\"xaxis\":\"x4\",\"y\":[330,317,324,318,311,301,270,307,294,278,274,266,258,239,250,253],\"yaxis\":\"y4\"},{\"name\":\"Tamil Nadu\",\"type\":\"bar\",\"x\":[\"june-2019\",\"sep-2019\",\"dec-2019\",\"march-2020\",\"june-2020\",\"sep-2020\",\"dec-2020\",\"march-2021\",\"june-2021\",\"sep-2021\",\"dec-2021\",\"march-2022\",\"june-2022\",\"sep-2022\",\"dec-2022\",\"march-2023\"],\"xaxis\":\"x4\",\"y\":[592,633,614,639,606,587,578,546,539,554,593,564,548,593,580,512],\"yaxis\":\"y4\"},{\"name\":\"Telangana\",\"type\":\"bar\",\"x\":[\"june-2019\",\"sep-2019\",\"dec-2019\",\"march-2020\",\"june-2020\",\"sep-2020\",\"dec-2020\",\"march-2021\",\"june-2021\",\"sep-2021\",\"dec-2021\",\"march-2022\",\"june-2022\",\"sep-2022\",\"dec-2022\",\"march-2023\"],\"xaxis\":\"x4\",\"y\":[327,326,320,319,289,284,247,255,207,208,213,224,233,222,216,220],\"yaxis\":\"y4\"},{\"name\":\"Jammu & Kashmir\",\"type\":\"bar\",\"x\":[\"june-2019\",\"sep-2019\",\"dec-2019\",\"march-2020\",\"june-2020\",\"sep-2020\",\"dec-2020\",\"march-2021\",\"june-2021\",\"sep-2021\",\"dec-2021\",\"march-2022\",\"june-2022\",\"sep-2022\",\"dec-2022\",\"march-2023\"],\"xaxis\":\"x5\",\"y\":[92,90,92,90,87,76,91,97,94,87,78,78,81,84,83,138],\"yaxis\":\"y5\"},{\"name\":\"Andaman & Nicobar\",\"type\":\"bar\",\"x\":[\"june-2019\",\"sep-2019\",\"dec-2019\",\"march-2020\",\"june-2020\",\"sep-2020\",\"dec-2020\",\"march-2021\",\"june-2021\",\"sep-2021\",\"dec-2021\",\"march-2022\",\"june-2022\",\"sep-2022\",\"dec-2022\",\"march-2023\"],\"xaxis\":\"x5\",\"y\":[37,39,39,40,40,43,42,39,39,39,40,37,29,28,28,28],\"yaxis\":\"y5\"},{\"name\":\"Chandigarh\",\"type\":\"bar\",\"x\":[\"june-2019\",\"sep-2019\",\"dec-2019\",\"march-2020\",\"june-2020\",\"sep-2020\",\"dec-2020\",\"march-2021\",\"june-2021\",\"sep-2021\",\"dec-2021\",\"march-2022\",\"june-2022\",\"sep-2022\",\"dec-2022\",\"march-2023\"],\"xaxis\":\"x5\",\"y\":[37,38,38,34,33,34,31,31,27,26,20,19,18,19,16,14],\"yaxis\":\"y5\"},{\"name\":\"Dadra & Nagar Haveli and Daman & Diu\",\"type\":\"bar\",\"x\":[\"june-2019\",\"sep-2019\",\"dec-2019\",\"march-2020\",\"june-2020\",\"sep-2020\",\"dec-2020\",\"march-2021\",\"june-2021\",\"sep-2021\",\"dec-2021\",\"march-2022\",\"june-2022\",\"sep-2022\",\"dec-2022\",\"march-2023\"],\"xaxis\":\"x5\",\"y\":[22,22,19,20,21,19,19,21,20,20,17,16,13,11,9,9],\"yaxis\":\"y5\"},{\"name\":\"Ladakh\",\"type\":\"bar\",\"x\":[\"june-2019\",\"sep-2019\",\"dec-2019\",\"march-2020\",\"june-2020\",\"sep-2020\",\"dec-2020\",\"march-2021\",\"june-2021\",\"sep-2021\",\"dec-2021\",\"march-2022\",\"june-2022\",\"sep-2022\",\"dec-2022\",\"march-2023\"],\"xaxis\":\"x5\",\"y\":[15,13,14,17,19,21,20,17,17,21,14,12,12,11,11,10],\"yaxis\":\"y5\"},{\"name\":\"Lakshadweep\",\"type\":\"bar\",\"x\":[\"june-2019\",\"sep-2019\",\"dec-2019\",\"march-2020\",\"june-2020\",\"sep-2020\",\"dec-2020\",\"march-2021\",\"june-2021\",\"sep-2021\",\"dec-2021\",\"march-2022\",\"june-2022\",\"sep-2022\",\"dec-2022\",\"march-2023\"],\"xaxis\":\"x5\",\"y\":[10,12,12,11,11,9,7,7,11,11,11,11,10,8,9,11],\"yaxis\":\"y5\"},{\"name\":\"Puducherry\",\"type\":\"bar\",\"x\":[\"june-2019\",\"sep-2019\",\"dec-2019\",\"march-2020\",\"june-2020\",\"sep-2020\",\"dec-2020\",\"march-2021\",\"june-2021\",\"sep-2021\",\"dec-2021\",\"march-2022\",\"june-2022\",\"sep-2022\",\"dec-2022\",\"march-2023\"],\"xaxis\":\"x5\",\"y\":[25,26,25,30,31,30,28,27,25,25,27,31,29,41,41,43],\"yaxis\":\"y5\"},{\"name\":\"Goa\",\"type\":\"bar\",\"x\":[\"june-2019\",\"sep-2019\",\"dec-2019\",\"march-2020\",\"june-2020\",\"sep-2020\",\"dec-2020\",\"march-2021\",\"june-2021\",\"sep-2021\",\"dec-2021\",\"march-2022\",\"june-2022\",\"sep-2022\",\"dec-2022\",\"march-2023\"],\"xaxis\":\"x6\",\"y\":[109,120,110,102,99,101,115,99,102,112,115,126,75,71,75,78],\"yaxis\":\"y6\"},{\"name\":\"Gujarat\",\"type\":\"bar\",\"x\":[\"june-2019\",\"sep-2019\",\"dec-2019\",\"march-2020\",\"june-2020\",\"sep-2020\",\"dec-2020\",\"march-2021\",\"june-2021\",\"sep-2021\",\"dec-2021\",\"march-2022\",\"june-2022\",\"sep-2022\",\"dec-2022\",\"march-2023\"],\"xaxis\":\"x6\",\"y\":[777,747,766,773,848,968,782,749,601,584,693,716,634,605,556,528],\"yaxis\":\"y6\"},{\"name\":\"Maharashtra\",\"type\":\"bar\",\"x\":[\"june-2019\",\"sep-2019\",\"dec-2019\",\"march-2020\",\"june-2020\",\"sep-2020\",\"dec-2020\",\"march-2021\",\"june-2021\",\"sep-2021\",\"dec-2021\",\"march-2022\",\"june-2022\",\"sep-2022\",\"dec-2022\",\"march-2023\"],\"xaxis\":\"x6\",\"y\":[1041,993,1025,1015,968,948,918,900,863,838,847,911,929,890,923,926],\"yaxis\":\"y6\"},{\"name\":\"Rajasthan\",\"type\":\"bar\",\"x\":[\"june-2019\",\"sep-2019\",\"dec-2019\",\"march-2020\",\"june-2020\",\"sep-2020\",\"dec-2020\",\"march-2021\",\"june-2021\",\"sep-2021\",\"dec-2021\",\"march-2022\",\"june-2022\",\"sep-2022\",\"dec-2022\",\"march-2023\"],\"xaxis\":\"x6\",\"y\":[284,285,268,309,302,299,284,331,305,293,268,347,334,330,308,490],\"yaxis\":\"y6\"},{\"name\":\"West Bengal\",\"type\":\"bar\",\"x\":[\"june-2019\",\"sep-2019\",\"dec-2019\",\"march-2020\",\"june-2020\",\"sep-2020\",\"dec-2020\",\"march-2021\",\"june-2021\",\"sep-2021\",\"dec-2021\",\"march-2022\",\"june-2022\",\"sep-2022\",\"dec-2022\",\"march-2023\"],\"xaxis\":\"x6\",\"y\":[277,266,250,241,235,237,226,231,219,219,231,229,238,230,224,199],\"yaxis\":\"y6\"}],                        {\"height\":1000,\"showlegend\":true,\"template\":{\"data\":{\"bar\":[{\"error_x\":{\"color\":\"#2a3f5f\"},\"error_y\":{\"color\":\"#2a3f5f\"},\"marker\":{\"line\":{\"color\":\"#E5ECF6\",\"width\":0.5},\"pattern\":{\"fillmode\":\"overlay\",\"size\":10,\"solidity\":0.2}},\"type\":\"bar\"}],\"barpolar\":[{\"marker\":{\"line\":{\"color\":\"#E5ECF6\",\"width\":0.5},\"pattern\":{\"fillmode\":\"overlay\",\"size\":10,\"solidity\":0.2}},\"type\":\"barpolar\"}],\"carpet\":[{\"aaxis\":{\"endlinecolor\":\"#2a3f5f\",\"gridcolor\":\"white\",\"linecolor\":\"white\",\"minorgridcolor\":\"white\",\"startlinecolor\":\"#2a3f5f\"},\"baxis\":{\"endlinecolor\":\"#2a3f5f\",\"gridcolor\":\"white\",\"linecolor\":\"white\",\"minorgridcolor\":\"white\",\"startlinecolor\":\"#2a3f5f\"},\"type\":\"carpet\"}],\"choropleth\":[{\"colorbar\":{\"outlinewidth\":0,\"ticks\":\"\"},\"type\":\"choropleth\"}],\"contour\":[{\"colorbar\":{\"outlinewidth\":0,\"ticks\":\"\"},\"colorscale\":[[0.0,\"#0d0887\"],[0.1111111111111111,\"#46039f\"],[0.2222222222222222,\"#7201a8\"],[0.3333333333333333,\"#9c179e\"],[0.4444444444444444,\"#bd3786\"],[0.5555555555555556,\"#d8576b\"],[0.6666666666666666,\"#ed7953\"],[0.7777777777777778,\"#fb9f3a\"],[0.8888888888888888,\"#fdca26\"],[1.0,\"#f0f921\"]],\"type\":\"contour\"}],\"contourcarpet\":[{\"colorbar\":{\"outlinewidth\":0,\"ticks\":\"\"},\"type\":\"contourcarpet\"}],\"heatmap\":[{\"colorbar\":{\"outlinewidth\":0,\"ticks\":\"\"},\"colorscale\":[[0.0,\"#0d0887\"],[0.1111111111111111,\"#46039f\"],[0.2222222222222222,\"#7201a8\"],[0.3333333333333333,\"#9c179e\"],[0.4444444444444444,\"#bd3786\"],[0.5555555555555556,\"#d8576b\"],[0.6666666666666666,\"#ed7953\"],[0.7777777777777778,\"#fb9f3a\"],[0.8888888888888888,\"#fdca26\"],[1.0,\"#f0f921\"]],\"type\":\"heatmap\"}],\"heatmapgl\":[{\"colorbar\":{\"outlinewidth\":0,\"ticks\":\"\"},\"colorscale\":[[0.0,\"#0d0887\"],[0.1111111111111111,\"#46039f\"],[0.2222222222222222,\"#7201a8\"],[0.3333333333333333,\"#9c179e\"],[0.4444444444444444,\"#bd3786\"],[0.5555555555555556,\"#d8576b\"],[0.6666666666666666,\"#ed7953\"],[0.7777777777777778,\"#fb9f3a\"],[0.8888888888888888,\"#fdca26\"],[1.0,\"#f0f921\"]],\"type\":\"heatmapgl\"}],\"histogram\":[{\"marker\":{\"pattern\":{\"fillmode\":\"overlay\",\"size\":10,\"solidity\":0.2}},\"type\":\"histogram\"}],\"histogram2d\":[{\"colorbar\":{\"outlinewidth\":0,\"ticks\":\"\"},\"colorscale\":[[0.0,\"#0d0887\"],[0.1111111111111111,\"#46039f\"],[0.2222222222222222,\"#7201a8\"],[0.3333333333333333,\"#9c179e\"],[0.4444444444444444,\"#bd3786\"],[0.5555555555555556,\"#d8576b\"],[0.6666666666666666,\"#ed7953\"],[0.7777777777777778,\"#fb9f3a\"],[0.8888888888888888,\"#fdca26\"],[1.0,\"#f0f921\"]],\"type\":\"histogram2d\"}],\"histogram2dcontour\":[{\"colorbar\":{\"outlinewidth\":0,\"ticks\":\"\"},\"colorscale\":[[0.0,\"#0d0887\"],[0.1111111111111111,\"#46039f\"],[0.2222222222222222,\"#7201a8\"],[0.3333333333333333,\"#9c179e\"],[0.4444444444444444,\"#bd3786\"],[0.5555555555555556,\"#d8576b\"],[0.6666666666666666,\"#ed7953\"],[0.7777777777777778,\"#fb9f3a\"],[0.8888888888888888,\"#fdca26\"],[1.0,\"#f0f921\"]],\"type\":\"histogram2dcontour\"}],\"mesh3d\":[{\"colorbar\":{\"outlinewidth\":0,\"ticks\":\"\"},\"type\":\"mesh3d\"}],\"parcoords\":[{\"line\":{\"colorbar\":{\"outlinewidth\":0,\"ticks\":\"\"}},\"type\":\"parcoords\"}],\"pie\":[{\"automargin\":true,\"type\":\"pie\"}],\"scatter\":[{\"marker\":{\"colorbar\":{\"outlinewidth\":0,\"ticks\":\"\"}},\"type\":\"scatter\"}],\"scatter3d\":[{\"line\":{\"colorbar\":{\"outlinewidth\":0,\"ticks\":\"\"}},\"marker\":{\"colorbar\":{\"outlinewidth\":0,\"ticks\":\"\"}},\"type\":\"scatter3d\"}],\"scattercarpet\":[{\"marker\":{\"colorbar\":{\"outlinewidth\":0,\"ticks\":\"\"}},\"type\":\"scattercarpet\"}],\"scattergeo\":[{\"marker\":{\"colorbar\":{\"outlinewidth\":0,\"ticks\":\"\"}},\"type\":\"scattergeo\"}],\"scattergl\":[{\"marker\":{\"colorbar\":{\"outlinewidth\":0,\"ticks\":\"\"}},\"type\":\"scattergl\"}],\"scattermapbox\":[{\"marker\":{\"colorbar\":{\"outlinewidth\":0,\"ticks\":\"\"}},\"type\":\"scattermapbox\"}],\"scatterpolar\":[{\"marker\":{\"colorbar\":{\"outlinewidth\":0,\"ticks\":\"\"}},\"type\":\"scatterpolar\"}],\"scatterpolargl\":[{\"marker\":{\"colorbar\":{\"outlinewidth\":0,\"ticks\":\"\"}},\"type\":\"scatterpolargl\"}],\"scatterternary\":[{\"marker\":{\"colorbar\":{\"outlinewidth\":0,\"ticks\":\"\"}},\"type\":\"scatterternary\"}],\"surface\":[{\"colorbar\":{\"outlinewidth\":0,\"ticks\":\"\"},\"colorscale\":[[0.0,\"#0d0887\"],[0.1111111111111111,\"#46039f\"],[0.2222222222222222,\"#7201a8\"],[0.3333333333333333,\"#9c179e\"],[0.4444444444444444,\"#bd3786\"],[0.5555555555555556,\"#d8576b\"],[0.6666666666666666,\"#ed7953\"],[0.7777777777777778,\"#fb9f3a\"],[0.8888888888888888,\"#fdca26\"],[1.0,\"#f0f921\"]],\"type\":\"surface\"}],\"table\":[{\"cells\":{\"fill\":{\"color\":\"#EBF0F8\"},\"line\":{\"color\":\"white\"}},\"header\":{\"fill\":{\"color\":\"#C8D4E3\"},\"line\":{\"color\":\"white\"}},\"type\":\"table\"}]},\"layout\":{\"annotationdefaults\":{\"arrowcolor\":\"#2a3f5f\",\"arrowhead\":0,\"arrowwidth\":1},\"autotypenumbers\":\"strict\",\"coloraxis\":{\"colorbar\":{\"outlinewidth\":0,\"ticks\":\"\"}},\"colorscale\":{\"diverging\":[[0,\"#8e0152\"],[0.1,\"#c51b7d\"],[0.2,\"#de77ae\"],[0.3,\"#f1b6da\"],[0.4,\"#fde0ef\"],[0.5,\"#f7f7f7\"],[0.6,\"#e6f5d0\"],[0.7,\"#b8e186\"],[0.8,\"#7fbc41\"],[0.9,\"#4d9221\"],[1,\"#276419\"]],\"sequential\":[[0.0,\"#0d0887\"],[0.1111111111111111,\"#46039f\"],[0.2222222222222222,\"#7201a8\"],[0.3333333333333333,\"#9c179e\"],[0.4444444444444444,\"#bd3786\"],[0.5555555555555556,\"#d8576b\"],[0.6666666666666666,\"#ed7953\"],[0.7777777777777778,\"#fb9f3a\"],[0.8888888888888888,\"#fdca26\"],[1.0,\"#f0f921\"]],\"sequentialminus\":[[0.0,\"#0d0887\"],[0.1111111111111111,\"#46039f\"],[0.2222222222222222,\"#7201a8\"],[0.3333333333333333,\"#9c179e\"],[0.4444444444444444,\"#bd3786\"],[0.5555555555555556,\"#d8576b\"],[0.6666666666666666,\"#ed7953\"],[0.7777777777777778,\"#fb9f3a\"],[0.8888888888888888,\"#fdca26\"],[1.0,\"#f0f921\"]]},\"colorway\":[\"#636efa\",\"#EF553B\",\"#00cc96\",\"#ab63fa\",\"#FFA15A\",\"#19d3f3\",\"#FF6692\",\"#B6E880\",\"#FF97FF\",\"#FECB52\"],\"font\":{\"color\":\"#2a3f5f\"},\"geo\":{\"bgcolor\":\"white\",\"lakecolor\":\"white\",\"landcolor\":\"#E5ECF6\",\"showlakes\":true,\"showland\":true,\"subunitcolor\":\"white\"},\"hoverlabel\":{\"align\":\"left\"},\"hovermode\":\"closest\",\"mapbox\":{\"style\":\"light\"},\"paper_bgcolor\":\"white\",\"plot_bgcolor\":\"#E5ECF6\",\"polar\":{\"angularaxis\":{\"gridcolor\":\"white\",\"linecolor\":\"white\",\"ticks\":\"\"},\"bgcolor\":\"#E5ECF6\",\"radialaxis\":{\"gridcolor\":\"white\",\"linecolor\":\"white\",\"ticks\":\"\"}},\"scene\":{\"xaxis\":{\"backgroundcolor\":\"#E5ECF6\",\"gridcolor\":\"white\",\"gridwidth\":2,\"linecolor\":\"white\",\"showbackground\":true,\"ticks\":\"\",\"zerolinecolor\":\"white\"},\"yaxis\":{\"backgroundcolor\":\"#E5ECF6\",\"gridcolor\":\"white\",\"gridwidth\":2,\"linecolor\":\"white\",\"showbackground\":true,\"ticks\":\"\",\"zerolinecolor\":\"white\"},\"zaxis\":{\"backgroundcolor\":\"#E5ECF6\",\"gridcolor\":\"white\",\"gridwidth\":2,\"linecolor\":\"white\",\"showbackground\":true,\"ticks\":\"\",\"zerolinecolor\":\"white\"}},\"shapedefaults\":{\"line\":{\"color\":\"#2a3f5f\"}},\"ternary\":{\"aaxis\":{\"gridcolor\":\"white\",\"linecolor\":\"white\",\"ticks\":\"\"},\"baxis\":{\"gridcolor\":\"white\",\"linecolor\":\"white\",\"ticks\":\"\"},\"bgcolor\":\"#E5ECF6\",\"caxis\":{\"gridcolor\":\"white\",\"linecolor\":\"white\",\"ticks\":\"\"}},\"title\":{\"x\":0.05},\"xaxis\":{\"automargin\":true,\"gridcolor\":\"white\",\"linecolor\":\"white\",\"ticks\":\"\",\"title\":{\"standoff\":15},\"zerolinecolor\":\"white\",\"zerolinewidth\":2},\"yaxis\":{\"automargin\":true,\"gridcolor\":\"white\",\"linecolor\":\"white\",\"ticks\":\"\",\"title\":{\"standoff\":15},\"zerolinecolor\":\"white\",\"zerolinewidth\":2}}},\"title\":{\"text\":\"Capex announcements by Indian states Region\"},\"width\":1000,\"xaxis\":{\"anchor\":\"y\",\"domain\":[0.0,1.0]},\"xaxis2\":{\"anchor\":\"y2\",\"domain\":[0.0,1.0]},\"xaxis3\":{\"anchor\":\"y3\",\"domain\":[0.0,1.0]},\"xaxis4\":{\"anchor\":\"y4\",\"domain\":[0.0,1.0]},\"xaxis5\":{\"anchor\":\"y5\",\"domain\":[0.0,1.0]},\"xaxis6\":{\"anchor\":\"y6\",\"domain\":[0.0,1.0]},\"yaxis\":{\"anchor\":\"x\",\"domain\":[0.875,1.0],\"title\":{\"text\":\"Region: East\"}},\"yaxis2\":{\"anchor\":\"x2\",\"domain\":[0.7,0.825],\"title\":{\"text\":\"Region: North\"}},\"yaxis3\":{\"anchor\":\"x3\",\"domain\":[0.525,0.65],\"title\":{\"text\":\"Region: North-East\"}},\"yaxis4\":{\"anchor\":\"x4\",\"domain\":[0.35,0.475],\"title\":{\"text\":\"Region: South\"}},\"yaxis5\":{\"anchor\":\"x5\",\"domain\":[0.175,0.3],\"title\":{\"text\":\"Region: UT\"}},\"yaxis6\":{\"anchor\":\"x6\",\"domain\":[0.0,0.125],\"title\":{\"text\":\"Region: West\"}}},                        {\"responsive\": true}                    ).then(function(){\n",
       "                            \n",
       "var gd = document.getElementById('d19618b0-ba81-4e50-aac0-383ed9ba782e');\n",
       "var x = new MutationObserver(function (mutations, observer) {{\n",
       "        var display = window.getComputedStyle(gd).display;\n",
       "        if (!display || display === 'none') {{\n",
       "            console.log([gd, 'removed!']);\n",
       "            Plotly.purge(gd);\n",
       "            observer.disconnect();\n",
       "        }}\n",
       "}});\n",
       "\n",
       "// Listen for the removal of the full notebook cells\n",
       "var notebookContainer = gd.closest('#notebook-container');\n",
       "if (notebookContainer) {{\n",
       "    x.observe(notebookContainer, {childList: true});\n",
       "}}\n",
       "\n",
       "// Listen for the clearing of the current output cell\n",
       "var outputEl = gd.closest('.output');\n",
       "if (outputEl) {{\n",
       "    x.observe(outputEl, {childList: true});\n",
       "}}\n",
       "\n",
       "                        })                };                });            </script>        </div>"
      ]
     },
     "metadata": {},
     "output_type": "display_data"
    }
   ],
   "source": [
    "from plotly.subplots import make_subplots\n",
    "import plotly.graph_objects as go\n",
    "import pandas as pd\n",
    "from plotly import tools\n",
    "\n",
    "df = pd.read_excel('/Users/kalyan/Library/CloudStorage/OneDrive-IIMVIZAG/Kalyan-Research/Internship-Uthistha Sai/Work_CMIE/analysis/Agg_Ann_no. of projects.xlsx'\n",
    "                  , sheet_name='Sheet1', usecols= \"A:R\")\n",
    "\n",
    "# print(df.columns)\n",
    "\n",
    "\n",
    "# Group DataFrame by Category\n",
    "grouped_df = df.groupby('Region')\n",
    "\n",
    "# print(grouped_df)\n",
    "\n",
    "# Create subplots with shared x-axis and y-axis\n",
    "fig = make_subplots(rows=len(grouped_df), cols=1, shared_xaxes=False, shared_yaxes=True)\n",
    "\n",
    "# Iterate over each category\n",
    "for i, (category, category_data) in enumerate(grouped_df):\n",
    "#     print(i,category, category_data)\n",
    "    # Add scatter trace for each state in the category\n",
    "    for _, row in category_data.iterrows():\n",
    "        fig.add_trace(go.Bar(x=df.columns[2:], y=row.values[2:], name=row['State']), row=i + 1, col=1)\n",
    "        # Update subplot title\n",
    "        fig.update_yaxes(title_text=\"Region: \" + category, row=i + 1, col=1)\n",
    "#         fig.update_xaxes(title_text=\"Quarters\", row=i, col=1)\n",
    "\n",
    "# Update layout\n",
    "fig.update_layout(height=1000, width=1000, title_text='Capex announcements by Indian states Region', \n",
    "                  showlegend=True, legend_tracegroupgap = 200,)\n",
    "\n",
    "# Show the plot\n",
    "fig.show()\n"
   ]
  },
  {
   "cell_type": "code",
   "execution_count": 95,
   "metadata": {},
   "outputs": [
    {
     "data": {
      "application/vnd.plotly.v1+json": {
       "config": {
        "plotlyServerURL": "https://plotly.com"
       },
       "data": [
        {
         "name": "AP",
         "type": "scatter",
         "x": [
          "june-2019",
          "sep-2019",
          "dec-2019",
          "mar-2020",
          "june-2020",
          "sep-2020",
          "dec-2020",
          "mar-2021",
          "june-2021",
          "sep-2021",
          "dec-2021",
          "mar-2022"
         ],
         "xaxis": "x",
         "y": [
          23,
          34,
          67,
          76,
          76,
          84,
          97,
          99,
          106,
          104,
          127,
          137
         ],
         "yaxis": "y"
        },
        {
         "name": "Bihar",
         "type": "scatter",
         "x": [
          "june-2019",
          "sep-2019",
          "dec-2019",
          "mar-2020",
          "june-2020",
          "sep-2020",
          "dec-2020",
          "mar-2021",
          "june-2021",
          "sep-2021",
          "dec-2021",
          "mar-2022"
         ],
         "xaxis": "x2",
         "y": [
          34,
          13,
          25,
          34,
          44,
          53,
          65,
          75,
          64,
          73,
          85,
          55
         ],
         "yaxis": "y2"
        },
        {
         "name": "Kashmir",
         "type": "scatter",
         "x": [
          "june-2019",
          "sep-2019",
          "dec-2019",
          "mar-2020",
          "june-2020",
          "sep-2020",
          "dec-2020",
          "mar-2021",
          "june-2021",
          "sep-2021",
          "dec-2021",
          "mar-2022"
         ],
         "xaxis": "x3",
         "y": [
          51,
          45,
          86,
          61,
          11,
          45,
          66,
          56,
          12,
          15,
          86,
          26
         ],
         "yaxis": "y3"
        },
        {
         "name": "Delhi",
         "type": "scatter",
         "x": [
          "june-2019",
          "sep-2019",
          "dec-2019",
          "mar-2020",
          "june-2020",
          "sep-2020",
          "dec-2020",
          "mar-2021",
          "june-2021",
          "sep-2021",
          "dec-2021",
          "mar-2022"
         ],
         "xaxis": "x3",
         "y": [
          45,
          23,
          16,
          15,
          5,
          3,
          6,
          6,
          6,
          8,
          12,
          22
         ],
         "yaxis": "y3"
        }
       ],
       "layout": {
        "height": 600,
        "showlegend": true,
        "template": {
         "data": {
          "bar": [
           {
            "error_x": {
             "color": "#2a3f5f"
            },
            "error_y": {
             "color": "#2a3f5f"
            },
            "marker": {
             "line": {
              "color": "#E5ECF6",
              "width": 0.5
             },
             "pattern": {
              "fillmode": "overlay",
              "size": 10,
              "solidity": 0.2
             }
            },
            "type": "bar"
           }
          ],
          "barpolar": [
           {
            "marker": {
             "line": {
              "color": "#E5ECF6",
              "width": 0.5
             },
             "pattern": {
              "fillmode": "overlay",
              "size": 10,
              "solidity": 0.2
             }
            },
            "type": "barpolar"
           }
          ],
          "carpet": [
           {
            "aaxis": {
             "endlinecolor": "#2a3f5f",
             "gridcolor": "white",
             "linecolor": "white",
             "minorgridcolor": "white",
             "startlinecolor": "#2a3f5f"
            },
            "baxis": {
             "endlinecolor": "#2a3f5f",
             "gridcolor": "white",
             "linecolor": "white",
             "minorgridcolor": "white",
             "startlinecolor": "#2a3f5f"
            },
            "type": "carpet"
           }
          ],
          "choropleth": [
           {
            "colorbar": {
             "outlinewidth": 0,
             "ticks": ""
            },
            "type": "choropleth"
           }
          ],
          "contour": [
           {
            "colorbar": {
             "outlinewidth": 0,
             "ticks": ""
            },
            "colorscale": [
             [
              0,
              "#0d0887"
             ],
             [
              0.1111111111111111,
              "#46039f"
             ],
             [
              0.2222222222222222,
              "#7201a8"
             ],
             [
              0.3333333333333333,
              "#9c179e"
             ],
             [
              0.4444444444444444,
              "#bd3786"
             ],
             [
              0.5555555555555556,
              "#d8576b"
             ],
             [
              0.6666666666666666,
              "#ed7953"
             ],
             [
              0.7777777777777778,
              "#fb9f3a"
             ],
             [
              0.8888888888888888,
              "#fdca26"
             ],
             [
              1,
              "#f0f921"
             ]
            ],
            "type": "contour"
           }
          ],
          "contourcarpet": [
           {
            "colorbar": {
             "outlinewidth": 0,
             "ticks": ""
            },
            "type": "contourcarpet"
           }
          ],
          "heatmap": [
           {
            "colorbar": {
             "outlinewidth": 0,
             "ticks": ""
            },
            "colorscale": [
             [
              0,
              "#0d0887"
             ],
             [
              0.1111111111111111,
              "#46039f"
             ],
             [
              0.2222222222222222,
              "#7201a8"
             ],
             [
              0.3333333333333333,
              "#9c179e"
             ],
             [
              0.4444444444444444,
              "#bd3786"
             ],
             [
              0.5555555555555556,
              "#d8576b"
             ],
             [
              0.6666666666666666,
              "#ed7953"
             ],
             [
              0.7777777777777778,
              "#fb9f3a"
             ],
             [
              0.8888888888888888,
              "#fdca26"
             ],
             [
              1,
              "#f0f921"
             ]
            ],
            "type": "heatmap"
           }
          ],
          "heatmapgl": [
           {
            "colorbar": {
             "outlinewidth": 0,
             "ticks": ""
            },
            "colorscale": [
             [
              0,
              "#0d0887"
             ],
             [
              0.1111111111111111,
              "#46039f"
             ],
             [
              0.2222222222222222,
              "#7201a8"
             ],
             [
              0.3333333333333333,
              "#9c179e"
             ],
             [
              0.4444444444444444,
              "#bd3786"
             ],
             [
              0.5555555555555556,
              "#d8576b"
             ],
             [
              0.6666666666666666,
              "#ed7953"
             ],
             [
              0.7777777777777778,
              "#fb9f3a"
             ],
             [
              0.8888888888888888,
              "#fdca26"
             ],
             [
              1,
              "#f0f921"
             ]
            ],
            "type": "heatmapgl"
           }
          ],
          "histogram": [
           {
            "marker": {
             "pattern": {
              "fillmode": "overlay",
              "size": 10,
              "solidity": 0.2
             }
            },
            "type": "histogram"
           }
          ],
          "histogram2d": [
           {
            "colorbar": {
             "outlinewidth": 0,
             "ticks": ""
            },
            "colorscale": [
             [
              0,
              "#0d0887"
             ],
             [
              0.1111111111111111,
              "#46039f"
             ],
             [
              0.2222222222222222,
              "#7201a8"
             ],
             [
              0.3333333333333333,
              "#9c179e"
             ],
             [
              0.4444444444444444,
              "#bd3786"
             ],
             [
              0.5555555555555556,
              "#d8576b"
             ],
             [
              0.6666666666666666,
              "#ed7953"
             ],
             [
              0.7777777777777778,
              "#fb9f3a"
             ],
             [
              0.8888888888888888,
              "#fdca26"
             ],
             [
              1,
              "#f0f921"
             ]
            ],
            "type": "histogram2d"
           }
          ],
          "histogram2dcontour": [
           {
            "colorbar": {
             "outlinewidth": 0,
             "ticks": ""
            },
            "colorscale": [
             [
              0,
              "#0d0887"
             ],
             [
              0.1111111111111111,
              "#46039f"
             ],
             [
              0.2222222222222222,
              "#7201a8"
             ],
             [
              0.3333333333333333,
              "#9c179e"
             ],
             [
              0.4444444444444444,
              "#bd3786"
             ],
             [
              0.5555555555555556,
              "#d8576b"
             ],
             [
              0.6666666666666666,
              "#ed7953"
             ],
             [
              0.7777777777777778,
              "#fb9f3a"
             ],
             [
              0.8888888888888888,
              "#fdca26"
             ],
             [
              1,
              "#f0f921"
             ]
            ],
            "type": "histogram2dcontour"
           }
          ],
          "mesh3d": [
           {
            "colorbar": {
             "outlinewidth": 0,
             "ticks": ""
            },
            "type": "mesh3d"
           }
          ],
          "parcoords": [
           {
            "line": {
             "colorbar": {
              "outlinewidth": 0,
              "ticks": ""
             }
            },
            "type": "parcoords"
           }
          ],
          "pie": [
           {
            "automargin": true,
            "type": "pie"
           }
          ],
          "scatter": [
           {
            "marker": {
             "colorbar": {
              "outlinewidth": 0,
              "ticks": ""
             }
            },
            "type": "scatter"
           }
          ],
          "scatter3d": [
           {
            "line": {
             "colorbar": {
              "outlinewidth": 0,
              "ticks": ""
             }
            },
            "marker": {
             "colorbar": {
              "outlinewidth": 0,
              "ticks": ""
             }
            },
            "type": "scatter3d"
           }
          ],
          "scattercarpet": [
           {
            "marker": {
             "colorbar": {
              "outlinewidth": 0,
              "ticks": ""
             }
            },
            "type": "scattercarpet"
           }
          ],
          "scattergeo": [
           {
            "marker": {
             "colorbar": {
              "outlinewidth": 0,
              "ticks": ""
             }
            },
            "type": "scattergeo"
           }
          ],
          "scattergl": [
           {
            "marker": {
             "colorbar": {
              "outlinewidth": 0,
              "ticks": ""
             }
            },
            "type": "scattergl"
           }
          ],
          "scattermapbox": [
           {
            "marker": {
             "colorbar": {
              "outlinewidth": 0,
              "ticks": ""
             }
            },
            "type": "scattermapbox"
           }
          ],
          "scatterpolar": [
           {
            "marker": {
             "colorbar": {
              "outlinewidth": 0,
              "ticks": ""
             }
            },
            "type": "scatterpolar"
           }
          ],
          "scatterpolargl": [
           {
            "marker": {
             "colorbar": {
              "outlinewidth": 0,
              "ticks": ""
             }
            },
            "type": "scatterpolargl"
           }
          ],
          "scatterternary": [
           {
            "marker": {
             "colorbar": {
              "outlinewidth": 0,
              "ticks": ""
             }
            },
            "type": "scatterternary"
           }
          ],
          "surface": [
           {
            "colorbar": {
             "outlinewidth": 0,
             "ticks": ""
            },
            "colorscale": [
             [
              0,
              "#0d0887"
             ],
             [
              0.1111111111111111,
              "#46039f"
             ],
             [
              0.2222222222222222,
              "#7201a8"
             ],
             [
              0.3333333333333333,
              "#9c179e"
             ],
             [
              0.4444444444444444,
              "#bd3786"
             ],
             [
              0.5555555555555556,
              "#d8576b"
             ],
             [
              0.6666666666666666,
              "#ed7953"
             ],
             [
              0.7777777777777778,
              "#fb9f3a"
             ],
             [
              0.8888888888888888,
              "#fdca26"
             ],
             [
              1,
              "#f0f921"
             ]
            ],
            "type": "surface"
           }
          ],
          "table": [
           {
            "cells": {
             "fill": {
              "color": "#EBF0F8"
             },
             "line": {
              "color": "white"
             }
            },
            "header": {
             "fill": {
              "color": "#C8D4E3"
             },
             "line": {
              "color": "white"
             }
            },
            "type": "table"
           }
          ]
         },
         "layout": {
          "annotationdefaults": {
           "arrowcolor": "#2a3f5f",
           "arrowhead": 0,
           "arrowwidth": 1
          },
          "autotypenumbers": "strict",
          "coloraxis": {
           "colorbar": {
            "outlinewidth": 0,
            "ticks": ""
           }
          },
          "colorscale": {
           "diverging": [
            [
             0,
             "#8e0152"
            ],
            [
             0.1,
             "#c51b7d"
            ],
            [
             0.2,
             "#de77ae"
            ],
            [
             0.3,
             "#f1b6da"
            ],
            [
             0.4,
             "#fde0ef"
            ],
            [
             0.5,
             "#f7f7f7"
            ],
            [
             0.6,
             "#e6f5d0"
            ],
            [
             0.7,
             "#b8e186"
            ],
            [
             0.8,
             "#7fbc41"
            ],
            [
             0.9,
             "#4d9221"
            ],
            [
             1,
             "#276419"
            ]
           ],
           "sequential": [
            [
             0,
             "#0d0887"
            ],
            [
             0.1111111111111111,
             "#46039f"
            ],
            [
             0.2222222222222222,
             "#7201a8"
            ],
            [
             0.3333333333333333,
             "#9c179e"
            ],
            [
             0.4444444444444444,
             "#bd3786"
            ],
            [
             0.5555555555555556,
             "#d8576b"
            ],
            [
             0.6666666666666666,
             "#ed7953"
            ],
            [
             0.7777777777777778,
             "#fb9f3a"
            ],
            [
             0.8888888888888888,
             "#fdca26"
            ],
            [
             1,
             "#f0f921"
            ]
           ],
           "sequentialminus": [
            [
             0,
             "#0d0887"
            ],
            [
             0.1111111111111111,
             "#46039f"
            ],
            [
             0.2222222222222222,
             "#7201a8"
            ],
            [
             0.3333333333333333,
             "#9c179e"
            ],
            [
             0.4444444444444444,
             "#bd3786"
            ],
            [
             0.5555555555555556,
             "#d8576b"
            ],
            [
             0.6666666666666666,
             "#ed7953"
            ],
            [
             0.7777777777777778,
             "#fb9f3a"
            ],
            [
             0.8888888888888888,
             "#fdca26"
            ],
            [
             1,
             "#f0f921"
            ]
           ]
          },
          "colorway": [
           "#636efa",
           "#EF553B",
           "#00cc96",
           "#ab63fa",
           "#FFA15A",
           "#19d3f3",
           "#FF6692",
           "#B6E880",
           "#FF97FF",
           "#FECB52"
          ],
          "font": {
           "color": "#2a3f5f"
          },
          "geo": {
           "bgcolor": "white",
           "lakecolor": "white",
           "landcolor": "#E5ECF6",
           "showlakes": true,
           "showland": true,
           "subunitcolor": "white"
          },
          "hoverlabel": {
           "align": "left"
          },
          "hovermode": "closest",
          "mapbox": {
           "style": "light"
          },
          "paper_bgcolor": "white",
          "plot_bgcolor": "#E5ECF6",
          "polar": {
           "angularaxis": {
            "gridcolor": "white",
            "linecolor": "white",
            "ticks": ""
           },
           "bgcolor": "#E5ECF6",
           "radialaxis": {
            "gridcolor": "white",
            "linecolor": "white",
            "ticks": ""
           }
          },
          "scene": {
           "xaxis": {
            "backgroundcolor": "#E5ECF6",
            "gridcolor": "white",
            "gridwidth": 2,
            "linecolor": "white",
            "showbackground": true,
            "ticks": "",
            "zerolinecolor": "white"
           },
           "yaxis": {
            "backgroundcolor": "#E5ECF6",
            "gridcolor": "white",
            "gridwidth": 2,
            "linecolor": "white",
            "showbackground": true,
            "ticks": "",
            "zerolinecolor": "white"
           },
           "zaxis": {
            "backgroundcolor": "#E5ECF6",
            "gridcolor": "white",
            "gridwidth": 2,
            "linecolor": "white",
            "showbackground": true,
            "ticks": "",
            "zerolinecolor": "white"
           }
          },
          "shapedefaults": {
           "line": {
            "color": "#2a3f5f"
           }
          },
          "ternary": {
           "aaxis": {
            "gridcolor": "white",
            "linecolor": "white",
            "ticks": ""
           },
           "baxis": {
            "gridcolor": "white",
            "linecolor": "white",
            "ticks": ""
           },
           "bgcolor": "#E5ECF6",
           "caxis": {
            "gridcolor": "white",
            "linecolor": "white",
            "ticks": ""
           }
          },
          "title": {
           "x": 0.05
          },
          "xaxis": {
           "automargin": true,
           "gridcolor": "white",
           "linecolor": "white",
           "ticks": "",
           "title": {
            "standoff": 15
           },
           "zerolinecolor": "white",
           "zerolinewidth": 2
          },
          "yaxis": {
           "automargin": true,
           "gridcolor": "white",
           "linecolor": "white",
           "ticks": "",
           "title": {
            "standoff": 15
           },
           "zerolinecolor": "white",
           "zerolinewidth": 2
          }
         }
        },
        "title": {
         "text": "Announced Projects - Category-wise breakup"
        },
        "width": 800,
        "xaxis": {
         "anchor": "y",
         "domain": [
          0,
          1
         ],
         "matches": "x3",
         "showticklabels": false,
         "title": {
          "text": "Quarters"
         }
        },
        "xaxis2": {
         "anchor": "y2",
         "domain": [
          0,
          1
         ],
         "matches": "x3",
         "showticklabels": false,
         "title": {
          "text": "Quarters"
         }
        },
        "xaxis3": {
         "anchor": "y3",
         "domain": [
          0,
          1
         ],
         "title": {
          "text": "Quarters"
         }
        },
        "yaxis": {
         "anchor": "x",
         "domain": [
          0.7333333333333333,
          1
         ],
         "title": {
          "text": "Category: A"
         }
        },
        "yaxis2": {
         "anchor": "x2",
         "domain": [
          0.36666666666666664,
          0.6333333333333333
         ],
         "title": {
          "text": "Category: B"
         }
        },
        "yaxis3": {
         "anchor": "x3",
         "domain": [
          0,
          0.26666666666666666
         ],
         "title": {
          "text": "Category: C"
         }
        }
       }
      },
      "text/html": [
       "<div>                            <div id=\"d0318052-5b2a-4882-b7db-3ebfe4ce4c26\" class=\"plotly-graph-div\" style=\"height:600px; width:800px;\"></div>            <script type=\"text/javascript\">                require([\"plotly\"], function(Plotly) {                    window.PLOTLYENV=window.PLOTLYENV || {};                                    if (document.getElementById(\"d0318052-5b2a-4882-b7db-3ebfe4ce4c26\")) {                    Plotly.newPlot(                        \"d0318052-5b2a-4882-b7db-3ebfe4ce4c26\",                        [{\"name\":\"AP\",\"type\":\"scatter\",\"x\":[\"june-2019\",\"sep-2019\",\"dec-2019\",\"mar-2020\",\"june-2020\",\"sep-2020\",\"dec-2020\",\"mar-2021\",\"june-2021\",\"sep-2021\",\"dec-2021\",\"mar-2022\"],\"xaxis\":\"x\",\"y\":[23,34,67,76,76,84,97,99,106,104,127,137],\"yaxis\":\"y\"},{\"name\":\"Bihar\",\"type\":\"scatter\",\"x\":[\"june-2019\",\"sep-2019\",\"dec-2019\",\"mar-2020\",\"june-2020\",\"sep-2020\",\"dec-2020\",\"mar-2021\",\"june-2021\",\"sep-2021\",\"dec-2021\",\"mar-2022\"],\"xaxis\":\"x2\",\"y\":[34,13,25,34,44,53,65,75,64,73,85,55],\"yaxis\":\"y2\"},{\"name\":\"Kashmir\",\"type\":\"scatter\",\"x\":[\"june-2019\",\"sep-2019\",\"dec-2019\",\"mar-2020\",\"june-2020\",\"sep-2020\",\"dec-2020\",\"mar-2021\",\"june-2021\",\"sep-2021\",\"dec-2021\",\"mar-2022\"],\"xaxis\":\"x3\",\"y\":[51,45,86,61,11,45,66,56,12,15,86,26],\"yaxis\":\"y3\"},{\"name\":\"Delhi\",\"type\":\"scatter\",\"x\":[\"june-2019\",\"sep-2019\",\"dec-2019\",\"mar-2020\",\"june-2020\",\"sep-2020\",\"dec-2020\",\"mar-2021\",\"june-2021\",\"sep-2021\",\"dec-2021\",\"mar-2022\"],\"xaxis\":\"x3\",\"y\":[45,23,16,15,5,3,6,6,6,8,12,22],\"yaxis\":\"y3\"}],                        {\"height\":600,\"showlegend\":true,\"template\":{\"data\":{\"bar\":[{\"error_x\":{\"color\":\"#2a3f5f\"},\"error_y\":{\"color\":\"#2a3f5f\"},\"marker\":{\"line\":{\"color\":\"#E5ECF6\",\"width\":0.5},\"pattern\":{\"fillmode\":\"overlay\",\"size\":10,\"solidity\":0.2}},\"type\":\"bar\"}],\"barpolar\":[{\"marker\":{\"line\":{\"color\":\"#E5ECF6\",\"width\":0.5},\"pattern\":{\"fillmode\":\"overlay\",\"size\":10,\"solidity\":0.2}},\"type\":\"barpolar\"}],\"carpet\":[{\"aaxis\":{\"endlinecolor\":\"#2a3f5f\",\"gridcolor\":\"white\",\"linecolor\":\"white\",\"minorgridcolor\":\"white\",\"startlinecolor\":\"#2a3f5f\"},\"baxis\":{\"endlinecolor\":\"#2a3f5f\",\"gridcolor\":\"white\",\"linecolor\":\"white\",\"minorgridcolor\":\"white\",\"startlinecolor\":\"#2a3f5f\"},\"type\":\"carpet\"}],\"choropleth\":[{\"colorbar\":{\"outlinewidth\":0,\"ticks\":\"\"},\"type\":\"choropleth\"}],\"contour\":[{\"colorbar\":{\"outlinewidth\":0,\"ticks\":\"\"},\"colorscale\":[[0.0,\"#0d0887\"],[0.1111111111111111,\"#46039f\"],[0.2222222222222222,\"#7201a8\"],[0.3333333333333333,\"#9c179e\"],[0.4444444444444444,\"#bd3786\"],[0.5555555555555556,\"#d8576b\"],[0.6666666666666666,\"#ed7953\"],[0.7777777777777778,\"#fb9f3a\"],[0.8888888888888888,\"#fdca26\"],[1.0,\"#f0f921\"]],\"type\":\"contour\"}],\"contourcarpet\":[{\"colorbar\":{\"outlinewidth\":0,\"ticks\":\"\"},\"type\":\"contourcarpet\"}],\"heatmap\":[{\"colorbar\":{\"outlinewidth\":0,\"ticks\":\"\"},\"colorscale\":[[0.0,\"#0d0887\"],[0.1111111111111111,\"#46039f\"],[0.2222222222222222,\"#7201a8\"],[0.3333333333333333,\"#9c179e\"],[0.4444444444444444,\"#bd3786\"],[0.5555555555555556,\"#d8576b\"],[0.6666666666666666,\"#ed7953\"],[0.7777777777777778,\"#fb9f3a\"],[0.8888888888888888,\"#fdca26\"],[1.0,\"#f0f921\"]],\"type\":\"heatmap\"}],\"heatmapgl\":[{\"colorbar\":{\"outlinewidth\":0,\"ticks\":\"\"},\"colorscale\":[[0.0,\"#0d0887\"],[0.1111111111111111,\"#46039f\"],[0.2222222222222222,\"#7201a8\"],[0.3333333333333333,\"#9c179e\"],[0.4444444444444444,\"#bd3786\"],[0.5555555555555556,\"#d8576b\"],[0.6666666666666666,\"#ed7953\"],[0.7777777777777778,\"#fb9f3a\"],[0.8888888888888888,\"#fdca26\"],[1.0,\"#f0f921\"]],\"type\":\"heatmapgl\"}],\"histogram\":[{\"marker\":{\"pattern\":{\"fillmode\":\"overlay\",\"size\":10,\"solidity\":0.2}},\"type\":\"histogram\"}],\"histogram2d\":[{\"colorbar\":{\"outlinewidth\":0,\"ticks\":\"\"},\"colorscale\":[[0.0,\"#0d0887\"],[0.1111111111111111,\"#46039f\"],[0.2222222222222222,\"#7201a8\"],[0.3333333333333333,\"#9c179e\"],[0.4444444444444444,\"#bd3786\"],[0.5555555555555556,\"#d8576b\"],[0.6666666666666666,\"#ed7953\"],[0.7777777777777778,\"#fb9f3a\"],[0.8888888888888888,\"#fdca26\"],[1.0,\"#f0f921\"]],\"type\":\"histogram2d\"}],\"histogram2dcontour\":[{\"colorbar\":{\"outlinewidth\":0,\"ticks\":\"\"},\"colorscale\":[[0.0,\"#0d0887\"],[0.1111111111111111,\"#46039f\"],[0.2222222222222222,\"#7201a8\"],[0.3333333333333333,\"#9c179e\"],[0.4444444444444444,\"#bd3786\"],[0.5555555555555556,\"#d8576b\"],[0.6666666666666666,\"#ed7953\"],[0.7777777777777778,\"#fb9f3a\"],[0.8888888888888888,\"#fdca26\"],[1.0,\"#f0f921\"]],\"type\":\"histogram2dcontour\"}],\"mesh3d\":[{\"colorbar\":{\"outlinewidth\":0,\"ticks\":\"\"},\"type\":\"mesh3d\"}],\"parcoords\":[{\"line\":{\"colorbar\":{\"outlinewidth\":0,\"ticks\":\"\"}},\"type\":\"parcoords\"}],\"pie\":[{\"automargin\":true,\"type\":\"pie\"}],\"scatter\":[{\"marker\":{\"colorbar\":{\"outlinewidth\":0,\"ticks\":\"\"}},\"type\":\"scatter\"}],\"scatter3d\":[{\"line\":{\"colorbar\":{\"outlinewidth\":0,\"ticks\":\"\"}},\"marker\":{\"colorbar\":{\"outlinewidth\":0,\"ticks\":\"\"}},\"type\":\"scatter3d\"}],\"scattercarpet\":[{\"marker\":{\"colorbar\":{\"outlinewidth\":0,\"ticks\":\"\"}},\"type\":\"scattercarpet\"}],\"scattergeo\":[{\"marker\":{\"colorbar\":{\"outlinewidth\":0,\"ticks\":\"\"}},\"type\":\"scattergeo\"}],\"scattergl\":[{\"marker\":{\"colorbar\":{\"outlinewidth\":0,\"ticks\":\"\"}},\"type\":\"scattergl\"}],\"scattermapbox\":[{\"marker\":{\"colorbar\":{\"outlinewidth\":0,\"ticks\":\"\"}},\"type\":\"scattermapbox\"}],\"scatterpolar\":[{\"marker\":{\"colorbar\":{\"outlinewidth\":0,\"ticks\":\"\"}},\"type\":\"scatterpolar\"}],\"scatterpolargl\":[{\"marker\":{\"colorbar\":{\"outlinewidth\":0,\"ticks\":\"\"}},\"type\":\"scatterpolargl\"}],\"scatterternary\":[{\"marker\":{\"colorbar\":{\"outlinewidth\":0,\"ticks\":\"\"}},\"type\":\"scatterternary\"}],\"surface\":[{\"colorbar\":{\"outlinewidth\":0,\"ticks\":\"\"},\"colorscale\":[[0.0,\"#0d0887\"],[0.1111111111111111,\"#46039f\"],[0.2222222222222222,\"#7201a8\"],[0.3333333333333333,\"#9c179e\"],[0.4444444444444444,\"#bd3786\"],[0.5555555555555556,\"#d8576b\"],[0.6666666666666666,\"#ed7953\"],[0.7777777777777778,\"#fb9f3a\"],[0.8888888888888888,\"#fdca26\"],[1.0,\"#f0f921\"]],\"type\":\"surface\"}],\"table\":[{\"cells\":{\"fill\":{\"color\":\"#EBF0F8\"},\"line\":{\"color\":\"white\"}},\"header\":{\"fill\":{\"color\":\"#C8D4E3\"},\"line\":{\"color\":\"white\"}},\"type\":\"table\"}]},\"layout\":{\"annotationdefaults\":{\"arrowcolor\":\"#2a3f5f\",\"arrowhead\":0,\"arrowwidth\":1},\"autotypenumbers\":\"strict\",\"coloraxis\":{\"colorbar\":{\"outlinewidth\":0,\"ticks\":\"\"}},\"colorscale\":{\"diverging\":[[0,\"#8e0152\"],[0.1,\"#c51b7d\"],[0.2,\"#de77ae\"],[0.3,\"#f1b6da\"],[0.4,\"#fde0ef\"],[0.5,\"#f7f7f7\"],[0.6,\"#e6f5d0\"],[0.7,\"#b8e186\"],[0.8,\"#7fbc41\"],[0.9,\"#4d9221\"],[1,\"#276419\"]],\"sequential\":[[0.0,\"#0d0887\"],[0.1111111111111111,\"#46039f\"],[0.2222222222222222,\"#7201a8\"],[0.3333333333333333,\"#9c179e\"],[0.4444444444444444,\"#bd3786\"],[0.5555555555555556,\"#d8576b\"],[0.6666666666666666,\"#ed7953\"],[0.7777777777777778,\"#fb9f3a\"],[0.8888888888888888,\"#fdca26\"],[1.0,\"#f0f921\"]],\"sequentialminus\":[[0.0,\"#0d0887\"],[0.1111111111111111,\"#46039f\"],[0.2222222222222222,\"#7201a8\"],[0.3333333333333333,\"#9c179e\"],[0.4444444444444444,\"#bd3786\"],[0.5555555555555556,\"#d8576b\"],[0.6666666666666666,\"#ed7953\"],[0.7777777777777778,\"#fb9f3a\"],[0.8888888888888888,\"#fdca26\"],[1.0,\"#f0f921\"]]},\"colorway\":[\"#636efa\",\"#EF553B\",\"#00cc96\",\"#ab63fa\",\"#FFA15A\",\"#19d3f3\",\"#FF6692\",\"#B6E880\",\"#FF97FF\",\"#FECB52\"],\"font\":{\"color\":\"#2a3f5f\"},\"geo\":{\"bgcolor\":\"white\",\"lakecolor\":\"white\",\"landcolor\":\"#E5ECF6\",\"showlakes\":true,\"showland\":true,\"subunitcolor\":\"white\"},\"hoverlabel\":{\"align\":\"left\"},\"hovermode\":\"closest\",\"mapbox\":{\"style\":\"light\"},\"paper_bgcolor\":\"white\",\"plot_bgcolor\":\"#E5ECF6\",\"polar\":{\"angularaxis\":{\"gridcolor\":\"white\",\"linecolor\":\"white\",\"ticks\":\"\"},\"bgcolor\":\"#E5ECF6\",\"radialaxis\":{\"gridcolor\":\"white\",\"linecolor\":\"white\",\"ticks\":\"\"}},\"scene\":{\"xaxis\":{\"backgroundcolor\":\"#E5ECF6\",\"gridcolor\":\"white\",\"gridwidth\":2,\"linecolor\":\"white\",\"showbackground\":true,\"ticks\":\"\",\"zerolinecolor\":\"white\"},\"yaxis\":{\"backgroundcolor\":\"#E5ECF6\",\"gridcolor\":\"white\",\"gridwidth\":2,\"linecolor\":\"white\",\"showbackground\":true,\"ticks\":\"\",\"zerolinecolor\":\"white\"},\"zaxis\":{\"backgroundcolor\":\"#E5ECF6\",\"gridcolor\":\"white\",\"gridwidth\":2,\"linecolor\":\"white\",\"showbackground\":true,\"ticks\":\"\",\"zerolinecolor\":\"white\"}},\"shapedefaults\":{\"line\":{\"color\":\"#2a3f5f\"}},\"ternary\":{\"aaxis\":{\"gridcolor\":\"white\",\"linecolor\":\"white\",\"ticks\":\"\"},\"baxis\":{\"gridcolor\":\"white\",\"linecolor\":\"white\",\"ticks\":\"\"},\"bgcolor\":\"#E5ECF6\",\"caxis\":{\"gridcolor\":\"white\",\"linecolor\":\"white\",\"ticks\":\"\"}},\"title\":{\"x\":0.05},\"xaxis\":{\"automargin\":true,\"gridcolor\":\"white\",\"linecolor\":\"white\",\"ticks\":\"\",\"title\":{\"standoff\":15},\"zerolinecolor\":\"white\",\"zerolinewidth\":2},\"yaxis\":{\"automargin\":true,\"gridcolor\":\"white\",\"linecolor\":\"white\",\"ticks\":\"\",\"title\":{\"standoff\":15},\"zerolinecolor\":\"white\",\"zerolinewidth\":2}}},\"title\":{\"text\":\"Announced Projects - Category-wise breakup\"},\"width\":800,\"xaxis\":{\"anchor\":\"y\",\"domain\":[0.0,1.0],\"matches\":\"x3\",\"showticklabels\":false,\"title\":{\"text\":\"Quarters\"}},\"xaxis2\":{\"anchor\":\"y2\",\"domain\":[0.0,1.0],\"matches\":\"x3\",\"showticklabels\":false,\"title\":{\"text\":\"Quarters\"}},\"xaxis3\":{\"anchor\":\"y3\",\"domain\":[0.0,1.0],\"title\":{\"text\":\"Quarters\"}},\"yaxis\":{\"anchor\":\"x\",\"domain\":[0.7333333333333333,1.0],\"title\":{\"text\":\"Category: A\"}},\"yaxis2\":{\"anchor\":\"x2\",\"domain\":[0.36666666666666664,0.6333333333333333],\"title\":{\"text\":\"Category: B\"}},\"yaxis3\":{\"anchor\":\"x3\",\"domain\":[0.0,0.26666666666666666],\"title\":{\"text\":\"Category: C\"}}},                        {\"responsive\": true}                    ).then(function(){\n",
       "                            \n",
       "var gd = document.getElementById('d0318052-5b2a-4882-b7db-3ebfe4ce4c26');\n",
       "var x = new MutationObserver(function (mutations, observer) {{\n",
       "        var display = window.getComputedStyle(gd).display;\n",
       "        if (!display || display === 'none') {{\n",
       "            console.log([gd, 'removed!']);\n",
       "            Plotly.purge(gd);\n",
       "            observer.disconnect();\n",
       "        }}\n",
       "}});\n",
       "\n",
       "// Listen for the removal of the full notebook cells\n",
       "var notebookContainer = gd.closest('#notebook-container');\n",
       "if (notebookContainer) {{\n",
       "    x.observe(notebookContainer, {childList: true});\n",
       "}}\n",
       "\n",
       "// Listen for the clearing of the current output cell\n",
       "var outputEl = gd.closest('.output');\n",
       "if (outputEl) {{\n",
       "    x.observe(outputEl, {childList: true});\n",
       "}}\n",
       "\n",
       "                        })                };                });            </script>        </div>"
      ]
     },
     "metadata": {},
     "output_type": "display_data"
    }
   ],
   "source": [
    "import plotly.graph_objects as go\n",
    "from plotly.subplots import make_subplots\n",
    "import pandas as pd\n",
    "\n",
    "# Sample DataFrame\n",
    "# data = {\n",
    "#     'State': ['AP', 'Bihar', 'Kashmir', 'Delhi'],\n",
    "#     'Category': ['A', 'B', 'C', 'C'],\n",
    "#     'Q1': [23, 34, 51, 45],\n",
    "#     'Q2': [34, 13, 45, 23],\n",
    "#     'Q3': [67, 25, 86, 16],\n",
    "\n",
    "# }\n",
    "data = {\n",
    "    'State': ['AP', 'Bihar', 'Kashmir', 'Delhi'], \n",
    "    'Category': ['A', 'B', 'C', 'C'],\n",
    "    'june-2019': [23,34,51,45],\n",
    "    'sep-2019': [34,13,45,23],\n",
    "    'dec-2019': [67, 25, 86, 16],\n",
    "    'mar-2020': [76,34,61,15],\n",
    "    'june-2020': [76,44,11,5],\n",
    "    'sep-2020': [84,53,45,3],\n",
    "    'dec-2020': [97, 65, 66, 6],\n",
    "    'mar-2021':[99, 75, 56, 6],\n",
    "    'june-2021': [106,64,12,6],\n",
    "    'sep-2021': [104,73,15,8],\n",
    "    'dec-2021': [127, 85, 86, 12],\n",
    "    'mar-2022': [137, 55, 26, 22],\n",
    "}\n",
    "\n",
    "df = pd.DataFrame(data)\n",
    "\n",
    "# Get unique categories\n",
    "categories = df['Category'].unique()\n",
    "\n",
    "# Create subplots with shared x-axis and y-axis\n",
    "fig = make_subplots(rows=len(categories), cols=1, shared_xaxes=True, shared_yaxes=True)\n",
    "\n",
    "# Iterate over each category\n",
    "for i, category in enumerate(categories, 1):\n",
    "    category_data = df[df['Category'] == category]\n",
    "    \n",
    "    # Add scatter trace for each state in the category\n",
    "    for _, row in category_data.iterrows():\n",
    "        fig.add_trace(go.Scatter(x=df.columns[2:], y=row[2:], name=row['State']), row=i, col=1)\n",
    "\n",
    "    # Update subplot title\n",
    "    fig.update_yaxes(title_text=\"Category: \" + category, row=i, col=1)\n",
    "    fig.update_xaxes(title_text=\"Quarters\", row=i, col=1)\n",
    "\n",
    "# Update subplot layout\n",
    "fig.update_layout(height=600, width=800, showlegend=True)\n",
    "fig.update_layout(title_text=\"Announced Projects - Category-wise breakup\", showlegend=True)\n",
    "\n",
    "# Show the plot\n",
    "fig.show()\n"
   ]
  },
  {
   "cell_type": "code",
   "execution_count": 114,
   "metadata": {},
   "outputs": [
    {
     "name": "stdout",
     "output_type": "stream",
     "text": [
      "col:june-2019\n",
      "2019\n",
      "june-2018\n",
      "col:sep-2019\n",
      "2019\n",
      "sep-2018\n",
      "col:dec-2019\n",
      "2019\n",
      "dec-2018\n",
      "col:mar-2020\n",
      "2020\n",
      "mar-2019\n",
      "col:june-2020\n",
      "2020\n",
      "june-2019\n",
      "col:sep-2020\n",
      "2020\n",
      "sep-2019\n",
      "col:dec-2020\n",
      "2020\n",
      "dec-2019\n",
      "col:mar-2021\n",
      "2021\n",
      "mar-2020\n",
      "col:june-2021\n",
      "2021\n",
      "june-2020\n",
      "col:sep-2021\n",
      "2021\n",
      "sep-2020\n",
      "col:dec-2021\n",
      "2021\n",
      "dec-2020\n",
      "col:mar-2022\n",
      "2022\n",
      "mar-2021\n",
      "     State Category  june-2019  sep-2019  dec-2019  mar-2020  june-2020  \\\n",
      "0       AP        A         23        34        67        76         76   \n",
      "1    Bihar        B         34        13        25        34         44   \n",
      "2  Kashmir        C         51        45        86        61         11   \n",
      "3    Delhi        C         45        23        16        15          5   \n",
      "\n",
      "   sep-2020  dec-2020  mar-2021  june-2021  sep-2021  dec-2021  mar-2022  \n",
      "0        84        97        99        106       104       127       137  \n",
      "1        53        65        75         64        73        85        55  \n",
      "2        45        66        56         12        15        86        26  \n",
      "3         3         6         6          6         8        12        22  \n"
     ]
    }
   ],
   "source": [
    "import plotly.graph_objects as go\n",
    "from plotly.subplots import make_subplots\n",
    "import pandas as pd\n",
    "\n",
    "\n",
    "# Sample DataFrame\n",
    "data = {\n",
    "    'State': ['AP', 'Bihar', 'Kashmir', 'Delhi'], \n",
    "    'Category': ['A', 'B', 'C', 'C'],\n",
    "    'june-2019': [23,34,51,45],\n",
    "    'sep-2019': [34,13,45,23],\n",
    "    'dec-2019': [67, 25, 86, 16],\n",
    "    'mar-2020': [76,34,61,15],\n",
    "    'june-2020': [76,44,11,5],\n",
    "    'sep-2020': [84,53,45,3],\n",
    "    'dec-2020': [97, 65, 66, 6],\n",
    "    'mar-2021':[99, 75, 56, 6],\n",
    "    'june-2021': [106,64,12,6],\n",
    "    'sep-2021': [104,73,15,8],\n",
    "    'dec-2021': [127, 85, 86, 12],\n",
    "    'mar-2022': [137, 55, 26, 22],\n",
    "}\n",
    "\n",
    "df = pd.DataFrame(data)\n",
    "\n",
    "# # Calculate year-on-year growth for each quarter\n",
    "# df_growth = df.copy()\n",
    "# quarters = df.columns[2:]\n",
    "\n",
    "# print(quarters)\n",
    "# # Iterate over the quarters\n",
    "# for i in range(1, len(quarters)):\n",
    "#     curr_quarter = quarters[i]\n",
    "#     prev_quarter = quarters[i-1]\n",
    "    \n",
    "#     # Calculate year-on-year growth\n",
    "#     df_growth[curr_quarter] = ((df[curr_quarter] - df[prev_quarter]) / df[prev_quarter]) * 100\n",
    "\n",
    "# # Print the DataFrame with year-on-year growth\n",
    "# print(df_growth)\n",
    "\n",
    "\n",
    "\n",
    "# Calculate year-on-year growth\n",
    "df_yoy = df.copy()\n",
    "\n",
    "for col in df_yoy.columns[2:]:\n",
    "    print('col:'+ col)\n",
    "    year = int(col.split('-')[1])\n",
    "    print( year)\n",
    "    prev_year_col = col.replace(str(year), str(year-1))\n",
    "    print(prev_year_col)\n",
    "#     df_yoy[col] = (df_yoy[col] - df_yoy[prev_year_col]) / df_yoy[prev_year_col] * 100\n",
    "\n",
    "print(df_yoy)"
   ]
  },
  {
   "cell_type": "code",
   "execution_count": 109,
   "metadata": {},
   "outputs": [
    {
     "name": "stdout",
     "output_type": "stream",
     "text": [
      "<bound method BaseForest.fit of RandomForestClassifier()>\n",
      "Accuracy: 1.0\n",
      "     State Category  june-2019  sep-2019  dec-2019  mar-2020  june-2020  \\\n",
      "0       AP        A         23        34        67        76         76   \n",
      "1    Bihar        B         34        13        25        34         44   \n",
      "2  Kashmir        C         51        45        86        61         11   \n",
      "3    Delhi        C         45        23        16        15          5   \n",
      "\n",
      "   sep-2020  dec-2020  mar-2021  june-2021  sep-2021  dec-2021  mar-2022 type  \n",
      "0        84        97        99        106       104       127       137       \n",
      "1        53        65        75         64        73        85        55       \n",
      "2        45        66        56         12        15        86        26       \n",
      "3         3         6         6          6         8        12        22       \n"
     ]
    }
   ],
   "source": [
    "import pandas as pd\n",
    "from sklearn.model_selection import train_test_split\n",
    "from sklearn.ensemble import RandomForestClassifier\n",
    "from sklearn.metrics import accuracy_score\n",
    "\n",
    "# Load the DataFrame with year-on-year growth rates\n",
    "# df_growth = pd.read_csv('your_data.csv')  # Replace 'your_data.csv' with the actual file path or DataFrame\n",
    "\n",
    "# Sample DataFrame\n",
    "data = {\n",
    "    'State': ['AP', 'Bihar', 'Kashmir', 'Delhi'], \n",
    "    'Category': ['A', 'B', 'C', 'C'],\n",
    "    'june-2019': [23,34,51,45],\n",
    "    'sep-2019': [34,13,45,23],\n",
    "    'dec-2019': [67, 25, 86, 16],\n",
    "    'mar-2020': [76,34,61,15],\n",
    "    'june-2020': [76,44,11,5],\n",
    "    'sep-2020': [84,53,45,3],\n",
    "    'dec-2020': [97, 65, 66, 6],\n",
    "    'mar-2021':[99, 75, 56, 6],\n",
    "    'june-2021': [106,64,12,6],\n",
    "    'sep-2021': [104,73,15,8],\n",
    "    'dec-2021': [127, 85, 86, 12],\n",
    "    'mar-2022': [137, 55, 26, 22],\n",
    "}\n",
    "\n",
    "df = pd.DataFrame(data)\n",
    "# Define the features (X) and the target variable (y)\n",
    "features = df.drop(['State', 'Category'], axis=1)  # Exclude non-feature columns\n",
    "df['type']=\"\"\n",
    "target = df['type']  # Assuming 'type' is the target variable column\n",
    "\n",
    "# Split the data into training and testing sets\n",
    "X_train, X_test, y_train, y_test = train_test_split(features, target, test_size=0.2, random_state=42)\n",
    "\n",
    "# Create a Random Forest Classifier model\n",
    "model = RandomForestClassifier()\n",
    "\n",
    "# Train the model on the training data\n",
    "model.fit(X_train, y_train)\n",
    "\n",
    "# Make predictions on the testing data\n",
    "y_pred = model.predict(X_test)\n",
    "\n",
    "# Calculate the accuracy of the model\n",
    "accuracy = accuracy_score(y_test, y_pred)\n",
    "print(\"Accuracy:\", accuracy)\n",
    "print(df)"
   ]
  },
  {
   "cell_type": "code",
   "execution_count": 92,
   "metadata": {},
   "outputs": [
    {
     "name": "stdout",
     "output_type": "stream",
     "text": [
      "Empty DataFrame\n",
      "Columns: []\n",
      "Index: [0, 1, 2, 3]\n"
     ]
    }
   ],
   "source": [
    "import pandas as pd\n",
    "\n",
    "# Sample DataFrame\n",
    "data = {\n",
    "    'State': ['AP', 'Bihar', 'Kashmir', 'Delhi'],\n",
    "    'Category': ['A', 'B', 'A', 'C'],\n",
    "    'june-19': [23, 34, 51, 45],\n",
    "    'sep-19': [34, 13, 45, 23],\n",
    "    'dec-19': [67, 25, 86, 16],\n",
    "    'mar-20': [76, 34, 61, 15],\n",
    "    'june-20': [76, 44, 11, 5],\n",
    "    'sep-20': [84, 53, 45, 3],\n",
    "    'dec-20': [97, 65, 66, 6],\n",
    "    'mar-21': [99, 75, 56, 6],\n",
    "    'june-21': [106, 64, 12, 6],\n",
    "    'sep-21': [104, 73, 15, 8],\n",
    "    'dec-21': [127, 85, 86, 12],\n",
    "    'mar-22': [137, 55, 26, 22],\n",
    "}\n",
    "\n",
    "df = pd.DataFrame(data)\n",
    "\n",
    "# Extract the quarterly columns\n",
    "quarterly_columns = df.columns[df.columns.str.contains('\\d{4}-\\d{2}')]\n",
    "\n",
    "# Calculate quarter-on-quarter growth\n",
    "df_growth = df[quarterly_columns].pct_change()\n",
    "\n",
    "# Print the quarter-on-quarter growth DataFrame\n",
    "print(df_growth)\n"
   ]
  },
  {
   "cell_type": "code",
   "execution_count": null,
   "metadata": {},
   "outputs": [],
   "source": []
  }
 ],
 "metadata": {
  "kernelspec": {
   "display_name": "Python 3",
   "language": "python",
   "name": "python3"
  },
  "language_info": {
   "codemirror_mode": {
    "name": "ipython",
    "version": 3
   },
   "file_extension": ".py",
   "mimetype": "text/x-python",
   "name": "python",
   "nbconvert_exporter": "python",
   "pygments_lexer": "ipython3",
   "version": "3.8.5"
  }
 },
 "nbformat": 4,
 "nbformat_minor": 4
}
