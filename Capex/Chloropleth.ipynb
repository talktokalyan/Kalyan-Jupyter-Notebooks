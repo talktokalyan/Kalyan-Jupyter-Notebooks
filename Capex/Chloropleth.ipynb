{
 "cells": [
  {
   "cell_type": "markdown",
   "metadata": {},
   "source": [
    "## Chloropleth example using Capex Data\n",
    "1. PreRequisites:\n",
    "    1. Download Capex Investments from IIMV Library -> CMIE Capex -> Outstanding aggregates\n",
    "    2. D/L Shape Files from https://github.com/AnujTiwari/India-State-and-Country-Shapefile-Updated-Jan-2020\n",
    "    3. Convert Shape Files to JSON using Shape2GeoJson.ipynb --> India-States-KK.json \n",
    "    (Remember to use EPSG:4326 datum)\n",
    "    3. Do it Once: Do manual editing in JSON file: Change mis-spelt names\n",
    "        1. Change 'Arunanchal Pradesh' to 'Arunachal Pradesh'\n",
    "        2. Change 'Dadara & Nagar Havelli' to 'Dadra & Nagar Haveli'\n",
    "        3. Change 'Andaman & Nicobar Island' to 'Andaman & Nicobar'\n",
    "        4. Manually Change 'Telengana' to 'Telangana' ; \n",
    "            'Jammu and Kashmir' to 'Jammu & Kashmir';\n",
    "            'Daman and Diu and Dadra and Nagar Haveli' to 'Dadra & nagar Haveli and Daman & Diu';\n",
    "            'Tamilnadu' to 'Tamil Nadu'; \n",
    "            'Chhattishgarh' to 'Chattisgarh'\n",
    "    4. Do it as many times we get new data: Do manual editing in Capex Excel Data file: \n",
    "            1. Make Copy of aaaa.xls in 'rawdata' folder. Name appropriately 'Outstanding' etc.\n",
    "      \n",
    "\n",
    "\n",
    "\n"
   ]
  },
  {
   "cell_type": "code",
   "execution_count": 1,
   "metadata": {},
   "outputs": [
    {
     "ename": "FileNotFoundError",
     "evalue": "[Errno 2] No such file or directory: './raw_data/India-GeoJson/India-States-KK.geojson'",
     "output_type": "error",
     "traceback": [
      "\u001b[0;31m---------------------------------------------------------------------------\u001b[0m",
      "\u001b[0;31mFileNotFoundError\u001b[0m                         Traceback (most recent call last)",
      "Cell \u001b[0;32mIn[1], line 10\u001b[0m\n\u001b[1;32m      5\u001b[0m \u001b[38;5;28;01mimport\u001b[39;00m \u001b[38;5;21;01mplotly\u001b[39;00m\u001b[38;5;21;01m.\u001b[39;00m\u001b[38;5;21;01mexpress\u001b[39;00m \u001b[38;5;28;01mas\u001b[39;00m \u001b[38;5;21;01mpx\u001b[39;00m\n\u001b[1;32m      6\u001b[0m \u001b[38;5;66;03m#import plotly.io as pio\u001b[39;00m\n\u001b[1;32m      7\u001b[0m \u001b[38;5;66;03m#pio.renderers.default = 'browser'\u001b[39;00m\n\u001b[1;32m      8\u001b[0m \n\u001b[1;32m      9\u001b[0m \u001b[38;5;66;03m## Loading Map\u001b[39;00m\n\u001b[0;32m---> 10\u001b[0m india_states \u001b[38;5;241m=\u001b[39m json\u001b[38;5;241m.\u001b[39mload(\u001b[38;5;28mopen\u001b[39m(\u001b[38;5;124m\"\u001b[39m\u001b[38;5;124m./raw_data/India-GeoJson/India-States-KK.geojson\u001b[39m\u001b[38;5;124m\"\u001b[39m, \u001b[38;5;124m\"\u001b[39m\u001b[38;5;124mr\u001b[39m\u001b[38;5;124m\"\u001b[39m)) \u001b[38;5;66;03m# ShapeFile 2 GeoJson\u001b[39;00m\n\u001b[1;32m     13\u001b[0m \u001b[38;5;28mprint\u001b[39m(india_states[\u001b[38;5;124m'\u001b[39m\u001b[38;5;124mfeatures\u001b[39m\u001b[38;5;124m'\u001b[39m][\u001b[38;5;241m0\u001b[39m][\u001b[38;5;124m'\u001b[39m\u001b[38;5;124mproperties\u001b[39m\u001b[38;5;124m'\u001b[39m]\u001b[38;5;241m.\u001b[39mkeys())\n\u001b[1;32m     15\u001b[0m state_id_map \u001b[38;5;241m=\u001b[39m {}\n",
      "File \u001b[0;32m~/anaconda3/lib/python3.11/site-packages/IPython/core/interactiveshell.py:284\u001b[0m, in \u001b[0;36m_modified_open\u001b[0;34m(file, *args, **kwargs)\u001b[0m\n\u001b[1;32m    277\u001b[0m \u001b[38;5;28;01mif\u001b[39;00m file \u001b[38;5;129;01min\u001b[39;00m {\u001b[38;5;241m0\u001b[39m, \u001b[38;5;241m1\u001b[39m, \u001b[38;5;241m2\u001b[39m}:\n\u001b[1;32m    278\u001b[0m     \u001b[38;5;28;01mraise\u001b[39;00m \u001b[38;5;167;01mValueError\u001b[39;00m(\n\u001b[1;32m    279\u001b[0m         \u001b[38;5;124mf\u001b[39m\u001b[38;5;124m\"\u001b[39m\u001b[38;5;124mIPython won\u001b[39m\u001b[38;5;124m'\u001b[39m\u001b[38;5;124mt let you open fd=\u001b[39m\u001b[38;5;132;01m{\u001b[39;00mfile\u001b[38;5;132;01m}\u001b[39;00m\u001b[38;5;124m by default \u001b[39m\u001b[38;5;124m\"\u001b[39m\n\u001b[1;32m    280\u001b[0m         \u001b[38;5;124m\"\u001b[39m\u001b[38;5;124mas it is likely to crash IPython. If you know what you are doing, \u001b[39m\u001b[38;5;124m\"\u001b[39m\n\u001b[1;32m    281\u001b[0m         \u001b[38;5;124m\"\u001b[39m\u001b[38;5;124myou can use builtins\u001b[39m\u001b[38;5;124m'\u001b[39m\u001b[38;5;124m open.\u001b[39m\u001b[38;5;124m\"\u001b[39m\n\u001b[1;32m    282\u001b[0m     )\n\u001b[0;32m--> 284\u001b[0m \u001b[38;5;28;01mreturn\u001b[39;00m io_open(file, \u001b[38;5;241m*\u001b[39margs, \u001b[38;5;241m*\u001b[39m\u001b[38;5;241m*\u001b[39mkwargs)\n",
      "\u001b[0;31mFileNotFoundError\u001b[0m: [Errno 2] No such file or directory: './raw_data/India-GeoJson/India-States-KK.geojson'"
     ]
    }
   ],
   "source": [
    "#Generate Choloropleth\n",
    "import json\n",
    "import numpy as np\n",
    "import pandas as pd\n",
    "import plotly.express as px\n",
    "#import plotly.io as pio\n",
    "#pio.renderers.default = 'browser'\n",
    "\n",
    "## Loading Map\n",
    "india_states = json.load(open(\"./raw_data/India-GeoJson/India-States-KK.geojson\", \"r\")) # ShapeFile 2 GeoJson\n",
    "\n",
    "\n",
    "print(india_states['features'][0]['properties'].keys())\n",
    "\n",
    "state_id_map = {}\n",
    "for feature in india_states[\"features\"]:\n",
    "    feature[\"id\"] = feature[\"properties\"][\"State_Name\"]\n",
    "    state_id_map[feature[\"properties\"][\"State_Name\"]] = feature[\"id\"]\n",
    "#     state_id_map[feature[\"properties\"][\"st_nm\"]] = feature[\"id\"]\n",
    "\n",
    "print(state_id_map)  \n",
    "\n",
    "# ### Reading Excel file\n",
    "df = pd.read_excel(\"./raw_data/Completed_Project_State_wise.xls\", skiprows=3, nrows= 37)\n",
    "\n",
    "df[\"id\"] = df[\"State\"]\n",
    "# df[\"id\"] = df[\"State\"].apply(lambda x: state_id_map[x])\n",
    "# # df[\"Density\"] = df[\"Density[a]\"].apply(lambda x: int(x.split(\"/\")[0].replace(\",\", \"\")))\n",
    "# # df[\"State\"] = df[\"State\"].str.upper()\n",
    "# # print(df[\"State\"].unique())\n",
    "\n",
    "df['Mar 2023'] =df['Mar 2023'].fillna(0)\n",
    "# df['Completion val'] = df['Mar 2023']/100\n",
    "# print(df.columns)\n",
    "\n",
    "fig = px.choropleth(\n",
    "    df,\n",
    "    locations=\"id\",\n",
    "    geojson=india_states,\n",
    "    color=\"Mar 2023\",\n",
    "#     color_continuous_scale=px.colors.diverging.BrBG,\n",
    "    color_continuous_scale=   'ylgnbu' , # 'Rainbow', #'ylgnbu', # rdylbu, spectral, viridis\n",
    "    hover_name=\"State\",\n",
    "    hover_data=[\"Mar 2023\"],\n",
    "    title=\"Completed Projects (INR Millions)\",\n",
    ")\n",
    "fig.update_geos(fitbounds=\"locations\", visible=False)\n",
    "\n",
    "#fig.show()\n"
   ]
  },
  {
   "cell_type": "code",
   "execution_count": null,
   "metadata": {},
   "outputs": [],
   "source": []
  }
 ],
 "metadata": {
  "kernelspec": {
   "display_name": "Python 3 (ipykernel)",
   "language": "python",
   "name": "python3"
  },
  "language_info": {
   "codemirror_mode": {
    "name": "ipython",
    "version": 3
   },
   "file_extension": ".py",
   "mimetype": "text/x-python",
   "name": "python",
   "nbconvert_exporter": "python",
   "pygments_lexer": "ipython3",
   "version": "3.11.3"
  }
 },
 "nbformat": 4,
 "nbformat_minor": 4
}
