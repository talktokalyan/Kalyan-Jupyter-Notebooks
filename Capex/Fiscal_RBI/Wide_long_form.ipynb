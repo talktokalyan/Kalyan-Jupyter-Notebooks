{
 "cells": [
  {
   "cell_type": "code",
   "execution_count": 4,
   "id": "eea6534a",
   "metadata": {},
   "outputs": [
    {
     "name": "stdout",
     "output_type": "stream",
     "text": [
      "Long format DataFrame successfully written to Excel file.\n"
     ]
    }
   ],
   "source": [
    "import pandas as pd\n",
    "\n",
    "# Read the Excel file into a Pandas DataFrame\n",
    "file_path = r\"C:\\Users\\hp\\Downloads\\Table 26 Net State Domestic Product (Current Prices).XLSX\"\n",
    "sheet_name = 'Sheet1'\n",
    "df = pd.read_excel(file_path, sheet_name=sheet_name)\n",
    "\n",
    "# Get the column names except for the 'Years' column\n",
    "column_names = df.columns[1:]\n",
    "\n",
    "df.rename(columns={df.columns[0]: 'Years'}, inplace=True)\n",
    "# Convert the data to long form\n",
    "df_long = pd.melt(df, id_vars=['Years'], value_vars=column_names, var_name='State', value_name='Net State Domestic Product')\n",
    "# Create a new Excel file\n",
    "new_file_path = r\"C:\\Users\\hp\\Downloads\\GDP\\Table 26 Net State Domestic Product (Current Prices)_LF.xlsx\"\n",
    "\n",
    "# Write the resulting long format DataFrame to the new Excel file using 'openpyxl' engine\n",
    "df_long.to_excel(new_file_path, index=False, sheet_name='Sheet1', engine='openpyxl')\n",
    "\n",
    "# Print a message indicating successful writing of the DataFrame\n",
    "print(\"Long format DataFrame successfully written to Excel file.\")"
   ]
  }
 ],
 "metadata": {
  "kernelspec": {
   "display_name": "Python 3 (ipykernel)",
   "language": "python",
   "name": "python3"
  },
  "language_info": {
   "codemirror_mode": {
    "name": "ipython",
    "version": 3
   },
   "file_extension": ".py",
   "mimetype": "text/x-python",
   "name": "python",
   "nbconvert_exporter": "python",
   "pygments_lexer": "ipython3",
   "version": "3.11.3"
  }
 },
 "nbformat": 4,
 "nbformat_minor": 5
}
