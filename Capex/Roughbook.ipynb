{
 "cells": [
  {
   "cell_type": "code",
   "execution_count": 46,
   "id": "fd68ea18",
   "metadata": {},
   "outputs": [
    {
     "name": "stdout",
     "output_type": "stream",
     "text": [
      "['Bids invited' 'Announcement' 'Project cost' 'Implementation started'\n",
      " 'Bids awarded' 'Land acquired' 'Construction commenced' 'IEM filed'\n",
      " 'Initial Commissioning Date' 'Completed' 'Environment clearance sought'\n",
      " 'Environmental clearance received' 'Expenditure incurred till'\n",
      " 'Physical progress' 'Foundation stone laid' 'No information'\n",
      " 'Construction completed' 'No information upto'\n",
      " 'Commercial production commenced'\n",
      " 'Initial Commissioning Date For Product/unit'\n",
      " 'Completed For Product/unit' 'MoU signed'\n",
      " 'Construction commencement expected' 'EAC recommendation received'\n",
      " 'CRZ clearance received' 'Land acquisition awaited'\n",
      " 'State Govt approval received' 'PPA signed' 'BoD approval received'\n",
      " 'Financial closure achieved' 'Loan sanctioned' 'Trial run commenced'\n",
      " 'Initial Commissioning Date - Estd. By CMIE' 'Transferred from'\n",
      " 'Central Govt approval received' 'Budgetary allocation' 'Bids cancelled'\n",
      " 'Letter of Intent (LoI) received' 'Forest clearance sought' 'FC received'\n",
      " 'Implementation stalled on' 'Stalled upto'\n",
      " 'Construction completion expected'\n",
      " 'Commercial production commenced For Product/unit'\n",
      " 'Approved by Planning Commission' 'Machinery ordered'\n",
      " 'Machinery installed' 'CCEA approval received'\n",
      " 'SEZ Board formal approval received' 'Trial run expected'\n",
      " 'Consultants appointed' 'Stalled on' 'Cabinet approval received'\n",
      " 'Partially commissioned' 'Licence agreement signed'\n",
      " 'Central Govt. approval sought' 'Contract cancelled'\n",
      " 'State Govt. approval sought' 'Land acquisition problem'\n",
      " 'Initial Commissioning Date - Estd. By CMIE For Product/unit'\n",
      " 'Licence received' 'Comm. Prod Expected' 'PPA cancelled'\n",
      " 'SEZ Board notified' 'Funds not tied-up' 'Completion By'\n",
      " 'Partially commissioned by' 'Comm. Prod Expected For Product/unit'\n",
      " 'Contract mode changed' 'Feasibility report prepared'\n",
      " 'Land acquisition problem resolved' 'PIB approval received'\n",
      " 'FAC recommendation received' 'Abandoned on' 'Shelved on'\n",
      " 'Land acquired returned' 'Land allotment cancelled'\n",
      " 'Co-promoters Invited' 'Formal approval cancelled by SEZ Board (BoA)'\n",
      " 'Completion By For Product/unit' 'Completion By - Estd. By CMIE'\n",
      " 'SEZ Board In-principle appr Received' 'Bids opening deferred'\n",
      " 'FIPB approval received' 'Coal linkage sought' 'Coal linkage granted'\n",
      " 'MoU cancelled' 'CEA in-principle appr received'\n",
      " 'Completion By - Estd. By CMIE For Product/unit']\n",
      "(272802, 12)\n",
      "Index(['Company Name', 'Project Name', 'Cost (Rs.million)', 'Project Status',\n",
      "       'Last Updated On', 'Event', 'Company Code', 'Project No.', 'Type',\n",
      "       'Date', 'stage_id', 'sub_stage_id'],\n",
      "      dtype='object')\n",
      "Company Name                 object\n",
      "Project Name                 object\n",
      "Cost (Rs.million)           float64\n",
      "Project Status               object\n",
      "Last Updated On              object\n",
      "Event                        object\n",
      "Company Code                  int64\n",
      "Project No.                   int64\n",
      "Type                         object\n",
      "Date                 datetime64[ns]\n",
      "stage_id                     object\n",
      "sub_stage_id                 object\n",
      "dtype: object\n",
      "Type          Abandoned  Completed  Outstanding\n",
      "sub_stage_id                                   \n",
      "A1                346.0     7358.0      18777.0\n",
      "A2                 48.0      264.0        912.0\n",
      "A3                  1.0      234.0         71.0\n",
      "A4                  1.0        NaN          1.0\n",
      "A5                 17.0      381.0        290.0\n",
      "...                 ...        ...          ...\n",
      "H8                215.0    11853.0      16869.0\n",
      "H9                  NaN     7358.0          NaN\n",
      "I3                  7.0     2636.0       6081.0\n",
      "I4                427.0     9976.0      23966.0\n",
      "I7                  2.0       66.0        175.0\n",
      "\n",
      "[89 rows x 3 columns]\n",
      "['D2' 'A1' 'I4' 'G1' 'D6' 'F4' 'G6' 'A3' 'H8' 'H9' 'B8' 'C7' 'I3' 'G9'\n",
      " 'G3' 'H24' 'G8' 'H26' 'H18' 'H5' 'H14' 'A2' 'G5' 'C24' 'C23' 'F1' 'C4'\n",
      " 'C18' 'A5' 'E6' 'E4' 'H2' 'H7' 'I7' 'C3' 'E1' 'D5' 'C2' 'B9' 'C22' 'H20'\n",
      " 'H23' 'G7' 'H16' 'C6' 'G2' 'G4' 'C13' 'C10' 'H1' 'D3' 'H21' 'C5' 'H4'\n",
      " 'B4' 'B6' 'D7' 'B7' 'F2' 'H6' 'C1' 'H15' 'H29' 'C9' 'E3' 'H13' 'H3' 'H11'\n",
      " 'D8' 'B2' 'F3' 'C12' 'C25' 'H19' 'H22' 'F5' 'F6' 'A4' 'H28' 'H10' 'H12'\n",
      " 'C11' 'D4' 'B10' 'B12' 'C17' 'B1' 'C16' 'H17']\n"
     ]
    }
   ],
   "source": [
    "from plotly.subplots import make_subplots\n",
    "import plotly.graph_objects as go\n",
    "import pandas as pd\n",
    "from plotly import tools\n",
    "import plotly.express as px\n",
    "import os \n",
    "\n",
    "# Folder path containing the XLSX files\n",
    "in_folder_path = '/Users/kalyan/Library/CloudStorage/OneDrive-IIMVIZAG/Python-Exercise-KK/Kalyan-Jupyter-Notebooks/Capex/proc_data'\n",
    "\n",
    "# filename_1 = \"Project_CapEx_Final.xlsx\"\n",
    "filename_1 = \"Capex_Events_Total.xlsx\"\n",
    "\n",
    "file_path_1 = os.path.join(in_folder_path, filename_1)\n",
    "\n",
    "df = pd.read_excel(file_path_1 , sheet_name='Sheet1')\n",
    "\n",
    "print(df['Event'].unique())\n",
    "\n",
    "print(df.shape)\n",
    "\n",
    "print(df.columns)\n",
    "\n",
    "print(df.dtypes)\n",
    "# Perform pivot operation\n",
    "pivot_df = df.pivot_table(index='sub_stage_id', columns='Type', values = 'Cost (Rs.million)', aggfunc='count')\n",
    "print(pivot_df)\n",
    "\n",
    "print(df['sub_stage_id'].unique())\n",
    "\n",
    "### Write Merged file to Excel \n",
    "out_folder_path = '/Users/kalyan/Library/CloudStorage/OneDrive-IIMVIZAG/Python-Exercise-KK/Kalyan-Jupyter-Notebooks/Capex/proc_data/'\n",
    "out_file_name = 'Events.xlsx'\n",
    "out_file_path = os.path.join(out_folder_path, out_file_name)\n",
    "\n",
    "pivot_df.to_excel((out_file_path), index = True)\n",
    "\n"
   ]
  },
  {
   "cell_type": "code",
   "execution_count": 102,
   "id": "3bec0e24",
   "metadata": {},
   "outputs": [
    {
     "name": "stdout",
     "output_type": "stream",
     "text": [
      "          Name       Owner               Event     Status       Date  \\\n",
      "0  Project ABC  State Govt           Announced  Completed 2023-05-10   \n",
      "1  Project ABC  State Govt  Permission Receipt  Completed 2023-06-29   \n",
      "2  Project ABC  State Govt           Completed  Completed 2023-08-18   \n",
      "3  Project DEF         Pvt           Announced  Completed 2023-06-23   \n",
      "4  Project DEF         Pvt  Permission Receipt  Completed 2023-07-15   \n",
      "\n",
      "  sub_stage_id stage_id Appended_sub_stage_id  \n",
      "0           A1        A                A1B1C1  \n",
      "1           B1        B                A1B1C1  \n",
      "2           C1        C                A1B1C1  \n",
      "3           A1        A                  A1B1  \n",
      "4           B1        B                  A1B1  \n"
     ]
    }
   ],
   "source": [
    "import pandas as pd\n",
    "\n",
    "# Sample DataFrame\n",
    "data = {\n",
    "    'Name': {\"0\":\"Project ABC\",\"1\":\"Project ABC\",\"2\":\"Project ABC\",\"3\":\"Project DEF\",\"4\":\"Project DEF\"},\n",
    "    'Owner': {\"0\":\"State Govt\",\"1\":\"State Govt\",\"2\":\"State Govt\",\"3\":\"Pvt\",\"4\":\"Pvt\"},\n",
    "    'Event': {\"0\":\"Announced\",\"1\":\"Permission Receipt\",\"2\":\"Completed\",\"3\":\"Announced\",\"4\":\"Permission Receipt\"},\n",
    "    'Status': {\"0\":\"Completed\",\"1\":\"Completed\",\"2\":\"Completed\",\"3\":\"Completed\",\"4\":\"Completed\"},\n",
    "    'Date': {\"0\":1683676800000,\"1\":1687996800000,\"2\":1692316800000,\"3\":1687478400000,\"4\":1689379200000},\n",
    "    'sub_stage_id': {\"0\":\"A1\",\"1\":\"B1\",\"2\":\"C1\",\"3\":\"A1\",\"4\":\"B1\"},\n",
    "    'stage_id': {\"0\":\"A\",\"1\":\"B\",\"2\":\"C\",\"3\":\"A\",\"4\":\"B\"}\n",
    "}\n",
    "\n",
    "df = pd.DataFrame(data)\n",
    "\n",
    "# Convert 'Date' column to datetime\n",
    "df['Date'] = pd.to_datetime(df['Date'], unit='ms')\n",
    "\n",
    "# Create a new column 'Appended_sub_stage_id' with appended 'sub_stage_id' values by 'Name'\n",
    "df['Appended_sub_stage_id'] = df.groupby('Name')['sub_stage_id'].transform(lambda x: ''.join(x))\n",
    "\n",
    "print(df)\n"
   ]
  },
  {
   "cell_type": "code",
   "execution_count": 100,
   "id": "b284c24e",
   "metadata": {},
   "outputs": [
    {
     "name": "stdout",
     "output_type": "stream",
     "text": [
      "['Name', 'Owner', 'Status']\n",
      "          Name       Owner     Status        Date_A1        Date_B1  \\\n",
      "0  Project ABC  State Govt  Completed  1683676800000  1687996800000   \n",
      "1  Project DEF         Pvt  Completed  1687478400000  1689379200000   \n",
      "\n",
      "         Date_C1   Event_A1            Event_B1   Event_C1  \n",
      "0  1692316800000  Announced  Permission Receipt  Completed  \n",
      "1  1692144000000  Announced  Permission Receipt  Completed  \n"
     ]
    }
   ],
   "source": [
    "import pandas as pd\n",
    "\n",
    "# Given JSON data\n",
    "{\"Name\":{\"0\":\"Project ABC\",\"1\":\"Project ABC\",\"2\":\"Project ABC\",\"3\":\"Project DEF\",\"4\":\"Project DEF\"},\"Owner\":{\"0\":\"State Govt\",\"1\":\"State Govt\",\"2\":\"State Govt\",\"3\":\"Pvt\",\"4\":\"Pvt\"},\"Event\":{\"0\":\"Announced\",\"1\":\"Permission Receipt\",\"2\":\"Completed\",\"3\":\"Announced\",\"4\":\"Permission Receipt\"},\"Status\":{\"0\":\"Completed\",\"1\":\"Completed\",\"2\":\"Completed\",\"3\":\"Completed\",\"4\":\"Completed\"},\"Date\":{\"0\":1683676800000,\"1\":1687996800000,\"2\":1692316800000,\"3\":1687478400000,\"4\":1689379200000},\"sub_stage_id\":{\"0\":\"A1\",\"1\":\"B1\",\"2\":\"C1\",\"3\":\"A1\",\"4\":\"B1\"},\"stage_id\":{\"0\":\"A\",\"1\":\"B\",\"2\":\"C\",\"3\":\"A\",\"4\":\"B\"}}\n",
    "\n",
    "df = pd.DataFrame(data)\n",
    "\n",
    "master_list = df.columns\n",
    "col_list = ['sub_stage_id'] # column whose row values will be appended to column heading \n",
    "val_list = ['Date', 'Event',] # columns which will be created by suffixing the sub_stage_id\n",
    "idx_list = [item for item in master_list if item not in col_list and item not in val_list]\n",
    "print(idx_list)\n",
    "# Pivot the DataFrame to wide format\n",
    "wide_df = df.pivot(index = idx_list, columns = col_list, values = val_list).reset_index()\n",
    "\n",
    "# Flatten the multi-level column index\n",
    "wide_df.columns = [f'{col[0]}_{col[1]}' if isinstance(col, tuple) else col for col in wide_df.columns]\n",
    "\n",
    "# Remove trailing underscores from column headings\n",
    "wide_df.columns = wide_df.columns.str.rstrip('_')\n",
    "\n",
    "print(wide_df)\n"
   ]
  },
  {
   "cell_type": "code",
   "execution_count": 109,
   "id": "d5de50a1",
   "metadata": {},
   "outputs": [
    {
     "name": "stdout",
     "output_type": "stream",
     "text": [
      "        Date  Value     FY Quarter\n",
      "0 2022-09-28     10  22-23       3\n",
      "1 2022-09-22     20  22-23       3\n",
      "2 2022-04-28     15  22-23       2\n",
      "3 2023-08-01     25  23-24       3\n",
      "4 2019-04-18     30  19-20       2\n"
     ]
    }
   ],
   "source": [
    "import pandas as pd\n",
    "\n",
    "# Sample DataFrame\n",
    "data = {'Date': pd.to_datetime(['28/09/2022  12:00:00 AM', '22/09/2022  12:00:00 AM ', '28/04/2022  12:00:00 AM', \n",
    "                                '08/01/2023  12:00:00 AM', '18/04/2019  12:00:00 AM']),\n",
    "        'Value': [10, 20, 15, 25, 30]}\n",
    "\n",
    "df = pd.DataFrame(data)\n",
    "\n",
    "# Function to generate fiscal year column in 'YY-YY' format\n",
    "def generate_fiscal_year(date):\n",
    "    year = date.year\n",
    "    fiscal_year = f'{str(year)[-2:]}-{str(year+1)[-2:]}'\n",
    "    return fiscal_year\n",
    "\n",
    "# Function to generate fiscal year quarter in 'FY-YY-Qx' format\n",
    "def generate_fiscal_year_quarter(date):\n",
    "    year = date.year\n",
    "    quarter = (date.month - 1) // 3 + 1\n",
    "    fiscal_year_quarter = f'{quarter}'\n",
    "    return fiscal_year_quarter\n",
    "\n",
    "# Apply the functions to create new columns\n",
    "df['FY'] = df['Date'].apply(generate_fiscal_year)\n",
    "df['Quarter'] = df['Date'].apply(generate_fiscal_year_quarter)\n",
    "\n",
    "print(df)\n"
   ]
  },
  {
   "cell_type": "code",
   "execution_count": 120,
   "id": "cc6f0af2",
   "metadata": {},
   "outputs": [
    {
     "name": "stdout",
     "output_type": "stream",
     "text": [
      "   Score1  Score2  Score3\n",
      "0      85      92      80\n",
      "1      90      88      85\n",
      "2      78      95      88\n",
      "    Name  Score1  Score2  Score3  MaxScore\n",
      "0   John      85      92      80        92\n",
      "1  Alice      90      88      85        90\n",
      "2    Bob      78      95      88        95\n"
     ]
    }
   ],
   "source": [
    "import pandas as pd\n",
    "\n",
    "# Sample DataFrame\n",
    "data = {'Name': ['John', 'Alice', 'Bob'],\n",
    "        'Score1': [85, 90, 78],\n",
    "        'Score2': [92, 88, 95],\n",
    "        'Score3': [80, 85, 88]}\n",
    "\n",
    "df = pd.DataFrame(data)\n",
    "\n",
    "# Select maximum score among 'Score1', 'Score2', and 'Score3' for each row\n",
    "# Select columns based on a wildcard mask\n",
    "selected_columns = df.filter(regex='Score')\n",
    "print(selected_columns)\n",
    "df['MaxScore'] = selected_columns.max(axis=1)\n",
    "\n",
    "print(df)\n"
   ]
  },
  {
   "cell_type": "code",
   "execution_count": 121,
   "id": "0342b721",
   "metadata": {},
   "outputs": [
    {
     "name": "stdout",
     "output_type": "stream",
     "text": [
      "    Name  Score_Math  Score_English  Score_Science MaxScoreColumn\n",
      "0   John          85             92             80  Score_English\n",
      "1  Alice          90             88             85     Score_Math\n",
      "2    Bob          78             95             88  Score_English\n"
     ]
    }
   ],
   "source": [
    "import pandas as pd\n",
    "\n",
    "# Sample DataFrame\n",
    "data = {'Name': ['John', 'Alice', 'Bob'],\n",
    "        'Score_Math': [85, 90, 78],\n",
    "        'Score_English': [92, 88, 95],\n",
    "        'Score_Science': [80, 85, 88]}\n",
    "\n",
    "df = pd.DataFrame(data)\n",
    "\n",
    "# Select columns based on a wildcard mask\n",
    "selected_columns = df.filter(regex='^Score_')\n",
    "\n",
    "# Find the column name containing the maximum value for each row\n",
    "df['MaxScoreColumn'] = selected_columns.idxmax(axis=1)\n",
    "\n",
    "print(df)\n"
   ]
  },
  {
   "cell_type": "code",
   "execution_count": 122,
   "id": "4d94ea8f",
   "metadata": {},
   "outputs": [
    {
     "name": "stdout",
     "output_type": "stream",
     "text": [
      "  Category  Value NewColumn\n",
      "0        A     10         X\n",
      "1        B     20         Y\n",
      "2        C     30         Z\n",
      "3        A     15         X\n",
      "4        B     25         Y\n",
      "5        C     35         Z\n"
     ]
    }
   ],
   "source": [
    "import pandas as pd\n",
    "import numpy as np\n",
    "\n",
    "# Sample DataFrame\n",
    "data = {'Category': ['A', 'B', 'C', 'A', 'B', 'C'],\n",
    "        'Value': [10, 20, 30, 15, 25, 35]}\n",
    "\n",
    "df = pd.DataFrame(data)\n",
    "\n",
    "# Define conditions and corresponding values\n",
    "conditions = [\n",
    "    df['Category'] == 'A',\n",
    "    df['Category'] == 'B',\n",
    "    df['Category'] == 'C'\n",
    "]\n",
    "values = ['X', 'Y', 'Z']\n",
    "\n",
    "# Create a new column based on the conditions\n",
    "df['NewColumn'] = np.select(conditions, values, default='Other')\n",
    "\n",
    "print(df)\n"
   ]
  },
  {
   "cell_type": "code",
   "execution_count": 1,
   "id": "7b107acb",
   "metadata": {},
   "outputs": [
    {
     "name": "stdout",
     "output_type": "stream",
     "text": [
      "   ID  Value1  Value2\n",
      "0   1      10     NaN\n",
      "1   2      20   200.0\n",
      "2   3      30   300.0\n"
     ]
    }
   ],
   "source": [
    "import pandas as pd\n",
    "\n",
    "# Sample DataFrames\n",
    "data1 = {'ID': [1, 2, 3],\n",
    "         'Value1': [10, 20, 30]}\n",
    "data2 = {'ID': [2, 3, 4],\n",
    "         'Value2': [200, 300, 400]}\n",
    "\n",
    "df1 = pd.DataFrame(data1)\n",
    "df2 = pd.DataFrame(data2)\n",
    "\n",
    "# Perform left merge\n",
    "merged_df = df1.merge(df2, on='ID', how='left')\n",
    "\n",
    "print(merged_df)\n"
   ]
  },
  {
   "cell_type": "code",
   "execution_count": null,
   "id": "93a633b7",
   "metadata": {},
   "outputs": [],
   "source": []
  }
 ],
 "metadata": {
  "kernelspec": {
   "display_name": "Python 3 (ipykernel)",
   "language": "python",
   "name": "python3"
  },
  "language_info": {
   "codemirror_mode": {
    "name": "ipython",
    "version": 3
   },
   "file_extension": ".py",
   "mimetype": "text/x-python",
   "name": "python",
   "nbconvert_exporter": "python",
   "pygments_lexer": "ipython3",
   "version": "3.11.3"
  }
 },
 "nbformat": 4,
 "nbformat_minor": 5
}
