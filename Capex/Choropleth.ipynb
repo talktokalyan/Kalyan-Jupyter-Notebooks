{
 "cells": [
  {
   "cell_type": "markdown",
   "metadata": {},
   "source": [
    "## Chloropleth example using Capex Data\n",
    "1. PreRequisites:\n",
    "    1. Download Capex Investments from IIMV Library -> CMIE Capex -> Outstanding aggregates\n",
    "    2. D/L Shape Files from https://github.com/AnujTiwari/India-State-and-Country-Shapefile-Updated-Jan-2020\n",
    "    3. Convert Shape Files to JSON using Shape2GeoJson.ipynb --> India-States-KK.json \n",
    "    (Remember to use EPSG:4326 datum)\n",
    "    3. Do it Once: Do manual editing in JSON file: Change mis-spelt names\n",
    "        1. Change 'Arunanchal Pradesh' to 'Arunachal Pradesh'\n",
    "        2. Change 'Dadara & Nagar Havelli' to 'Dadra & Nagar Haveli'\n",
    "        3. Change 'Andaman & Nicobar Island' to 'Andaman & Nicobar'\n",
    "        4. Manually Change 'Telengana' to 'Telangana' ; \n",
    "            'Jammu and Kashmir' to 'Jammu & Kashmir';\n",
    "            'Daman and Diu and Dadra and Nagar Haveli' to 'Dadra & nagar Haveli and Daman & Diu';\n",
    "            'Tamilnadu' to 'Tamil Nadu'; \n",
    "            'Chhattishgarh' to 'Chattisgarh'\n",
    "    4. Do it as many times we get new data: Do manual editing in Capex Excel Data file: \n",
    "            1. Make Copy of aaaa.xls in 'rawdata' folder. Name appropriately 'Outstanding' etc.\n",
    "      \n",
    "\n",
    "\n",
    "\n"
   ]
  },
  {
   "cell_type": "code",
   "execution_count": 2,
   "metadata": {},
   "outputs": [
    {
     "name": "stdout",
     "output_type": "stream",
     "text": [
      "dict_keys(['ROWID', 'STUDIO_ID', 'STATE'])\n",
      "{'PONDICHERRY': 'PONDICHERRY', 'PUNJAB': 'PUNJAB', 'RAJASTHAN': 'RAJASTHAN', 'SIKKIM': 'SIKKIM', 'TAMIL NADU': 'TAMIL NADU', 'TRIPURA': 'TRIPURA', 'LADAKH': 'LADAKH', 'Jammu AND Kashmir': 'Jammu AND Kashmir', 'ANDAMAN AND NICOBAR ISLANDS': 'ANDAMAN AND NICOBAR ISLANDS', 'ANDHRA PRADESH': 'ANDHRA PRADESH', 'ARUNACHAL PRADESH': 'ARUNACHAL PRADESH', 'ASSAM': 'ASSAM', 'BIHAR': 'BIHAR', 'CHANDIGARH': 'CHANDIGARH', 'DELHI': 'DELHI', 'GOA': 'GOA', 'GUJARAT': 'GUJARAT', 'HARYANA': 'HARYANA', 'HIMACHAL PRADESH': 'HIMACHAL PRADESH', 'KARNATAKA': 'KARNATAKA', 'KERALA': 'KERALA', 'LAKSHADWEEP': 'LAKSHADWEEP', 'MADHYA PRADESH': 'MADHYA PRADESH', 'MAHARASHTRA': 'MAHARASHTRA', 'MANIPUR': 'MANIPUR', 'MEGHALAYA': 'MEGHALAYA', 'MIZORAM': 'MIZORAM', 'NAGALAND': 'NAGALAND', 'ODISHA': 'ODISHA', 'UTTAR PRADESH': 'UTTAR PRADESH', 'WEST BENGAL': 'WEST BENGAL', 'DADAR AND NAGAR HAVELI': 'DADAR AND NAGAR HAVELI', 'DAMAN AND DIU': 'DAMAN AND DIU', 'TELANGANA': 'TELANGANA', 'PUDUCHERRY': 'PUDUCHERRY', 'Jharkhand': 'Jharkhand', 'Chhattisgarh': 'Chhattisgarh'}\n"
     ]
    },
    {
     "ename": "FileNotFoundError",
     "evalue": "[Errno 2] No such file or directory: './raw_data/Completed_Project_State_wise.xls'",
     "output_type": "error",
     "traceback": [
      "\u001b[0;31m---------------------------------------------------------------------------\u001b[0m",
      "\u001b[0;31mFileNotFoundError\u001b[0m                         Traceback (most recent call last)",
      "Cell \u001b[0;32mIn[2], line 24\u001b[0m\n\u001b[1;32m     21\u001b[0m \u001b[38;5;28mprint\u001b[39m(state_id_map)  \n\u001b[1;32m     23\u001b[0m \u001b[38;5;66;03m# ### Reading Excel file\u001b[39;00m\n\u001b[0;32m---> 24\u001b[0m df \u001b[38;5;241m=\u001b[39m pd\u001b[38;5;241m.\u001b[39mread_excel(\u001b[38;5;124m\"\u001b[39m\u001b[38;5;124m./raw_data/Completed_Project_State_wise.xls\u001b[39m\u001b[38;5;124m\"\u001b[39m, skiprows\u001b[38;5;241m=\u001b[39m\u001b[38;5;241m3\u001b[39m, nrows\u001b[38;5;241m=\u001b[39m \u001b[38;5;241m37\u001b[39m)\n\u001b[1;32m     26\u001b[0m \u001b[38;5;66;03m# df[\"id\"] = df[\"State\"]\u001b[39;00m\n\u001b[1;32m     27\u001b[0m df[\u001b[38;5;124m\"\u001b[39m\u001b[38;5;124mid\u001b[39m\u001b[38;5;124m\"\u001b[39m] \u001b[38;5;241m=\u001b[39m df[\u001b[38;5;124m\"\u001b[39m\u001b[38;5;124mSTATE\u001b[39m\u001b[38;5;124m\"\u001b[39m]\n",
      "File \u001b[0;32m~/anaconda3/lib/python3.11/site-packages/pandas/util/_decorators.py:211\u001b[0m, in \u001b[0;36mdeprecate_kwarg.<locals>._deprecate_kwarg.<locals>.wrapper\u001b[0;34m(*args, **kwargs)\u001b[0m\n\u001b[1;32m    209\u001b[0m     \u001b[38;5;28;01melse\u001b[39;00m:\n\u001b[1;32m    210\u001b[0m         kwargs[new_arg_name] \u001b[38;5;241m=\u001b[39m new_arg_value\n\u001b[0;32m--> 211\u001b[0m \u001b[38;5;28;01mreturn\u001b[39;00m func(\u001b[38;5;241m*\u001b[39margs, \u001b[38;5;241m*\u001b[39m\u001b[38;5;241m*\u001b[39mkwargs)\n",
      "File \u001b[0;32m~/anaconda3/lib/python3.11/site-packages/pandas/util/_decorators.py:331\u001b[0m, in \u001b[0;36mdeprecate_nonkeyword_arguments.<locals>.decorate.<locals>.wrapper\u001b[0;34m(*args, **kwargs)\u001b[0m\n\u001b[1;32m    325\u001b[0m \u001b[38;5;28;01mif\u001b[39;00m \u001b[38;5;28mlen\u001b[39m(args) \u001b[38;5;241m>\u001b[39m num_allow_args:\n\u001b[1;32m    326\u001b[0m     warnings\u001b[38;5;241m.\u001b[39mwarn(\n\u001b[1;32m    327\u001b[0m         msg\u001b[38;5;241m.\u001b[39mformat(arguments\u001b[38;5;241m=\u001b[39m_format_argument_list(allow_args)),\n\u001b[1;32m    328\u001b[0m         \u001b[38;5;167;01mFutureWarning\u001b[39;00m,\n\u001b[1;32m    329\u001b[0m         stacklevel\u001b[38;5;241m=\u001b[39mfind_stack_level(),\n\u001b[1;32m    330\u001b[0m     )\n\u001b[0;32m--> 331\u001b[0m \u001b[38;5;28;01mreturn\u001b[39;00m func(\u001b[38;5;241m*\u001b[39margs, \u001b[38;5;241m*\u001b[39m\u001b[38;5;241m*\u001b[39mkwargs)\n",
      "File \u001b[0;32m~/anaconda3/lib/python3.11/site-packages/pandas/io/excel/_base.py:482\u001b[0m, in \u001b[0;36mread_excel\u001b[0;34m(io, sheet_name, header, names, index_col, usecols, squeeze, dtype, engine, converters, true_values, false_values, skiprows, nrows, na_values, keep_default_na, na_filter, verbose, parse_dates, date_parser, thousands, decimal, comment, skipfooter, convert_float, mangle_dupe_cols, storage_options)\u001b[0m\n\u001b[1;32m    480\u001b[0m \u001b[38;5;28;01mif\u001b[39;00m \u001b[38;5;129;01mnot\u001b[39;00m \u001b[38;5;28misinstance\u001b[39m(io, ExcelFile):\n\u001b[1;32m    481\u001b[0m     should_close \u001b[38;5;241m=\u001b[39m \u001b[38;5;28;01mTrue\u001b[39;00m\n\u001b[0;32m--> 482\u001b[0m     io \u001b[38;5;241m=\u001b[39m ExcelFile(io, storage_options\u001b[38;5;241m=\u001b[39mstorage_options, engine\u001b[38;5;241m=\u001b[39mengine)\n\u001b[1;32m    483\u001b[0m \u001b[38;5;28;01melif\u001b[39;00m engine \u001b[38;5;129;01mand\u001b[39;00m engine \u001b[38;5;241m!=\u001b[39m io\u001b[38;5;241m.\u001b[39mengine:\n\u001b[1;32m    484\u001b[0m     \u001b[38;5;28;01mraise\u001b[39;00m \u001b[38;5;167;01mValueError\u001b[39;00m(\n\u001b[1;32m    485\u001b[0m         \u001b[38;5;124m\"\u001b[39m\u001b[38;5;124mEngine should not be specified when passing \u001b[39m\u001b[38;5;124m\"\u001b[39m\n\u001b[1;32m    486\u001b[0m         \u001b[38;5;124m\"\u001b[39m\u001b[38;5;124man ExcelFile - ExcelFile already has the engine set\u001b[39m\u001b[38;5;124m\"\u001b[39m\n\u001b[1;32m    487\u001b[0m     )\n",
      "File \u001b[0;32m~/anaconda3/lib/python3.11/site-packages/pandas/io/excel/_base.py:1652\u001b[0m, in \u001b[0;36mExcelFile.__init__\u001b[0;34m(self, path_or_buffer, engine, storage_options)\u001b[0m\n\u001b[1;32m   1650\u001b[0m     ext \u001b[38;5;241m=\u001b[39m \u001b[38;5;124m\"\u001b[39m\u001b[38;5;124mxls\u001b[39m\u001b[38;5;124m\"\u001b[39m\n\u001b[1;32m   1651\u001b[0m \u001b[38;5;28;01melse\u001b[39;00m:\n\u001b[0;32m-> 1652\u001b[0m     ext \u001b[38;5;241m=\u001b[39m inspect_excel_format(\n\u001b[1;32m   1653\u001b[0m         content_or_path\u001b[38;5;241m=\u001b[39mpath_or_buffer, storage_options\u001b[38;5;241m=\u001b[39mstorage_options\n\u001b[1;32m   1654\u001b[0m     )\n\u001b[1;32m   1655\u001b[0m     \u001b[38;5;28;01mif\u001b[39;00m ext \u001b[38;5;129;01mis\u001b[39;00m \u001b[38;5;28;01mNone\u001b[39;00m:\n\u001b[1;32m   1656\u001b[0m         \u001b[38;5;28;01mraise\u001b[39;00m \u001b[38;5;167;01mValueError\u001b[39;00m(\n\u001b[1;32m   1657\u001b[0m             \u001b[38;5;124m\"\u001b[39m\u001b[38;5;124mExcel file format cannot be determined, you must specify \u001b[39m\u001b[38;5;124m\"\u001b[39m\n\u001b[1;32m   1658\u001b[0m             \u001b[38;5;124m\"\u001b[39m\u001b[38;5;124man engine manually.\u001b[39m\u001b[38;5;124m\"\u001b[39m\n\u001b[1;32m   1659\u001b[0m         )\n",
      "File \u001b[0;32m~/anaconda3/lib/python3.11/site-packages/pandas/io/excel/_base.py:1525\u001b[0m, in \u001b[0;36minspect_excel_format\u001b[0;34m(content_or_path, storage_options)\u001b[0m\n\u001b[1;32m   1522\u001b[0m \u001b[38;5;28;01mif\u001b[39;00m \u001b[38;5;28misinstance\u001b[39m(content_or_path, \u001b[38;5;28mbytes\u001b[39m):\n\u001b[1;32m   1523\u001b[0m     content_or_path \u001b[38;5;241m=\u001b[39m BytesIO(content_or_path)\n\u001b[0;32m-> 1525\u001b[0m \u001b[38;5;28;01mwith\u001b[39;00m get_handle(\n\u001b[1;32m   1526\u001b[0m     content_or_path, \u001b[38;5;124m\"\u001b[39m\u001b[38;5;124mrb\u001b[39m\u001b[38;5;124m\"\u001b[39m, storage_options\u001b[38;5;241m=\u001b[39mstorage_options, is_text\u001b[38;5;241m=\u001b[39m\u001b[38;5;28;01mFalse\u001b[39;00m\n\u001b[1;32m   1527\u001b[0m ) \u001b[38;5;28;01mas\u001b[39;00m handle:\n\u001b[1;32m   1528\u001b[0m     stream \u001b[38;5;241m=\u001b[39m handle\u001b[38;5;241m.\u001b[39mhandle\n\u001b[1;32m   1529\u001b[0m     stream\u001b[38;5;241m.\u001b[39mseek(\u001b[38;5;241m0\u001b[39m)\n",
      "File \u001b[0;32m~/anaconda3/lib/python3.11/site-packages/pandas/io/common.py:865\u001b[0m, in \u001b[0;36mget_handle\u001b[0;34m(path_or_buf, mode, encoding, compression, memory_map, is_text, errors, storage_options)\u001b[0m\n\u001b[1;32m    856\u001b[0m         handle \u001b[38;5;241m=\u001b[39m \u001b[38;5;28mopen\u001b[39m(\n\u001b[1;32m    857\u001b[0m             handle,\n\u001b[1;32m    858\u001b[0m             ioargs\u001b[38;5;241m.\u001b[39mmode,\n\u001b[0;32m   (...)\u001b[0m\n\u001b[1;32m    861\u001b[0m             newline\u001b[38;5;241m=\u001b[39m\u001b[38;5;124m\"\u001b[39m\u001b[38;5;124m\"\u001b[39m,\n\u001b[1;32m    862\u001b[0m         )\n\u001b[1;32m    863\u001b[0m     \u001b[38;5;28;01melse\u001b[39;00m:\n\u001b[1;32m    864\u001b[0m         \u001b[38;5;66;03m# Binary mode\u001b[39;00m\n\u001b[0;32m--> 865\u001b[0m         handle \u001b[38;5;241m=\u001b[39m \u001b[38;5;28mopen\u001b[39m(handle, ioargs\u001b[38;5;241m.\u001b[39mmode)\n\u001b[1;32m    866\u001b[0m     handles\u001b[38;5;241m.\u001b[39mappend(handle)\n\u001b[1;32m    868\u001b[0m \u001b[38;5;66;03m# Convert BytesIO or file objects passed with an encoding\u001b[39;00m\n",
      "\u001b[0;31mFileNotFoundError\u001b[0m: [Errno 2] No such file or directory: './raw_data/Completed_Project_State_wise.xls'"
     ]
    }
   ],
   "source": [
    "#Generate Choropleth\n",
    "import json\n",
    "import numpy as np\n",
    "import pandas as pd\n",
    "import plotly.express as px\n",
    "#import plotly.io as pio\n",
    "#pio.renderers.default = 'browser'\n",
    "\n",
    "## Loading Map\n",
    "india_states = json.load(open(\"/Users/kalyan/Library/CloudStorage/OneDrive-Personal/KK-Python/Kalyan-Jupyter-Notebooks/data/geom_data/INDIA_STATES.geojson\", \"r\")) # ShapeFile 2 GeoJson\n",
    "\n",
    "\n",
    "print(india_states['features'][0]['properties'].keys())\n",
    "\n",
    "state_id_map = {}\n",
    "for feature in india_states[\"features\"]:\n",
    "    feature[\"id\"] = feature[\"properties\"][\"STATE\"]\n",
    "    state_id_map[feature[\"properties\"][\"STATE\"]] = feature[\"id\"]\n",
    "#     state_id_map[feature[\"properties\"][\"st_nm\"]] = feature[\"id\"]\n",
    "\n",
    "print(state_id_map)  \n",
    "\n",
    "# ### Reading Excel file\n",
    "df = pd.read_excel(\"./raw_data/Completed_Project_State_wise.xls\", skiprows=3, nrows= 37)\n",
    "\n",
    "# df[\"id\"] = df[\"State\"]\n",
    "df[\"id\"] = df[\"STATE\"]\n",
    "\n",
    "# df[\"id\"] = df[\"State\"].apply(lambda x: state_id_map[x])\n",
    "# # df[\"Density\"] = df[\"Density[a]\"].apply(lambda x: int(x.split(\"/\")[0].replace(\",\", \"\")))\n",
    "# # df[\"State\"] = df[\"State\"].str.upper()\n",
    "# # print(df[\"State\"].unique())\n",
    "\n",
    "df['Mar 2023'] =df['Mar 2023'].fillna(0)\n",
    "# df['Completion val'] = df['Mar 2023']/100\n",
    "# print(df.columns)\n",
    "\n",
    "fig = px.choropleth(\n",
    "    df,\n",
    "    locations=\"id\",\n",
    "    geojson=india_states,\n",
    "    color=\"Mar 2023\",\n",
    "#     color_continuous_scale=px.colors.diverging.BrBG,\n",
    "    color_continuous_scale=   'ylgnbu' , # 'Rainbow', #'ylgnbu', # rdylbu, spectral, viridis\n",
    "    hover_name=\"State\",\n",
    "    hover_data=[\"Mar 2023\"],\n",
    "    title=\"Completed Projects (INR Millions)\",\n",
    ")\n",
    "fig.update_geos(fitbounds=\"locations\", visible=False)\n",
    "\n",
    "#fig.show()\n"
   ]
  },
  {
   "cell_type": "code",
   "execution_count": null,
   "metadata": {},
   "outputs": [],
   "source": []
  }
 ],
 "metadata": {
  "kernelspec": {
   "display_name": "Python 3 (ipykernel)",
   "language": "python",
   "name": "python3"
  },
  "language_info": {
   "codemirror_mode": {
    "name": "ipython",
    "version": 3
   },
   "file_extension": ".py",
   "mimetype": "text/x-python",
   "name": "python",
   "nbconvert_exporter": "python",
   "pygments_lexer": "ipython3",
   "version": "3.11.3"
  }
 },
 "nbformat": 4,
 "nbformat_minor": 4
}
