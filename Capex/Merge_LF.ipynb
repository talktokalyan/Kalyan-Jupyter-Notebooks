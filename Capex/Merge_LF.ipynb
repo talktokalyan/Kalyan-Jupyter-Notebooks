{
 "cells": [
  {
   "cell_type": "code",
   "execution_count": 1,
   "id": "d480c38d",
   "metadata": {
    "scrolled": true
   },
   "outputs": [
    {
     "data": {
      "text/plain": [
       "Years                              0\n",
       "State                              0\n",
       "Gross Fiscal Deficit               0\n",
       "Revenue Deficit                   62\n",
       "Primary Deficit                   62\n",
       "Own Tax Revenue                   62\n",
       "Own Non-Tax Revenue               62\n",
       " Interest Payments                62\n",
       "State-wise Pension                62\n",
       "State-wise Capital Expenditure    93\n",
       "Capital Outlay                    31\n",
       "Social Sector Expenditure         93\n",
       "dtype: int64"
      ]
     },
     "execution_count": 1,
     "metadata": {},
     "output_type": "execute_result"
    }
   ],
   "source": [
    "import glob\n",
    "import pandas as pd\n",
    "\n",
    "# Specifying the path to Excel files\n",
    "path = r\"C:\\Users\\hp\\Music\\Documents\\Intern_IIMV\\Fiscal_RBI\\Fiscal_LF\"\n",
    "# Get the list of Excel files in the path\n",
    "file_list = glob.glob(path + \"/*.xlsx\")\n",
    "\n",
    "# Initial DataFrame to store the merged data\n",
    "merged_df = pd.DataFrame()\n",
    "\n",
    "# Iterate through each file and merge the data into the merged_df DataFrame\n",
    "for file in file_list:\n",
    "    df = pd.read_excel(file)\n",
    "    \n",
    "    # Assuming the two common columns are named \"Year\" and \"State\"\n",
    "    common_cols = [\"State\",\"Years\"]\n",
    "    \n",
    "    # Get the different column name by excluding the common columns\n",
    "    different_col = [col for col in df.columns if col not in common_cols]\n",
    "    \n",
    "    # Merge the data based on the common columns\n",
    "    if merged_df.empty:\n",
    "        merged_df = df\n",
    "    else:\n",
    "        merged_df = pd.merge(merged_df, df[common_cols + different_col], on=common_cols, suffixes=('', '_{}'.format(file)), how='left')\n",
    "\n",
    "# Export the merged DataFrame to an Excel file\n",
    "merged_df.to_excel(r\"C:\\Users\\hp\\Music\\Documents\\Intern_IIMV\\Fiscal_RBI\\Merged_Fiscal.xlsx\", index=False)\n",
    "merged_df.isnull().sum()"
   ]
  },
  {
   "cell_type": "code",
   "execution_count": 23,
   "id": "6075766d",
   "metadata": {
    "scrolled": true
   },
   "outputs": [
    {
     "data": {
      "text/html": [
       "<div>\n",
       "<style scoped>\n",
       "    .dataframe tbody tr th:only-of-type {\n",
       "        vertical-align: middle;\n",
       "    }\n",
       "\n",
       "    .dataframe tbody tr th {\n",
       "        vertical-align: top;\n",
       "    }\n",
       "\n",
       "    .dataframe thead th {\n",
       "        text-align: right;\n",
       "    }\n",
       "</style>\n",
       "<table border=\"1\" class=\"dataframe\">\n",
       "  <thead>\n",
       "    <tr style=\"text-align: right;\">\n",
       "      <th></th>\n",
       "      <th>State</th>\n",
       "      <th>Year</th>\n",
       "      <th>Gross State Domestic Product</th>\n",
       "      <th>Gross State Value Added by Economic Activity - Agriculture</th>\n",
       "      <th>Gross State Value Added by Economic Activity - Manufacturing</th>\n",
       "      <th>Gross State Value Added by Economic Activity - Construction</th>\n",
       "      <th>Gross State Value Added by Economic Activity - Industry</th>\n",
       "      <th>Gross State Value Added by Economic Activity - Banking and Insurance</th>\n",
       "      <th>Gross State Value Added by Economic Activity - Services</th>\n",
       "    </tr>\n",
       "  </thead>\n",
       "  <tbody>\n",
       "    <tr>\n",
       "      <th>369</th>\n",
       "      <td>Telangana</td>\n",
       "      <td>2021-22</td>\n",
       "      <td>114811470.0</td>\n",
       "      <td>8738098.0</td>\n",
       "      <td>12211459.0</td>\n",
       "      <td>3920239</td>\n",
       "      <td>20494276</td>\n",
       "      <td>5465910</td>\n",
       "      <td>63867140</td>\n",
       "    </tr>\n",
       "    <tr>\n",
       "      <th>370</th>\n",
       "      <td>Tripura</td>\n",
       "      <td>2021-22</td>\n",
       "      <td>6477808.0</td>\n",
       "      <td>1353602.0</td>\n",
       "      <td>168862.0</td>\n",
       "      <td>314763</td>\n",
       "      <td>1171012</td>\n",
       "      <td>176974</td>\n",
       "      <td>2740202</td>\n",
       "    </tr>\n",
       "    <tr>\n",
       "      <th>371</th>\n",
       "      <td>Uttar Pradesh</td>\n",
       "      <td>2021-22</td>\n",
       "      <td>186322112.0</td>\n",
       "      <td>28964021.0</td>\n",
       "      <td>19509059.0</td>\n",
       "      <td>17409428</td>\n",
       "      <td>44685410</td>\n",
       "      <td>6726129</td>\n",
       "      <td>79041075</td>\n",
       "    </tr>\n",
       "    <tr>\n",
       "      <th>372</th>\n",
       "      <td>Uttarakhand</td>\n",
       "      <td>2021-22</td>\n",
       "      <td>25383197.0</td>\n",
       "      <td>1338710.0</td>\n",
       "      <td>7846745.0</td>\n",
       "      <td>1943895</td>\n",
       "      <td>10831471</td>\n",
       "      <td>859594</td>\n",
       "      <td>10094697</td>\n",
       "    </tr>\n",
       "    <tr>\n",
       "      <th>373</th>\n",
       "      <td>West Bengal</td>\n",
       "      <td>2021-22</td>\n",
       "      <td>NaN</td>\n",
       "      <td>NaN</td>\n",
       "      <td>NaN</td>\n",
       "      <td>-</td>\n",
       "      <td>-</td>\n",
       "      <td>-</td>\n",
       "      <td>-</td>\n",
       "    </tr>\n",
       "  </tbody>\n",
       "</table>\n",
       "</div>"
      ],
      "text/plain": [
       "             State     Year   Gross State Domestic Product  \\\n",
       "369      Telangana  2021-22                    114811470.0   \n",
       "370        Tripura  2021-22                      6477808.0   \n",
       "371  Uttar Pradesh  2021-22                    186322112.0   \n",
       "372    Uttarakhand  2021-22                     25383197.0   \n",
       "373    West Bengal  2021-22                            NaN   \n",
       "\n",
       "     Gross State Value Added by Economic Activity - Agriculture  \\\n",
       "369                                          8738098.0            \n",
       "370                                          1353602.0            \n",
       "371                                         28964021.0            \n",
       "372                                          1338710.0            \n",
       "373                                                NaN            \n",
       "\n",
       "     Gross State Value Added by Economic Activity - Manufacturing  \\\n",
       "369                                         12211459.0              \n",
       "370                                           168862.0              \n",
       "371                                         19509059.0              \n",
       "372                                          7846745.0              \n",
       "373                                                NaN              \n",
       "\n",
       "    Gross State Value Added by Economic Activity - Construction  \\\n",
       "369                                            3920239            \n",
       "370                                             314763            \n",
       "371                                           17409428            \n",
       "372                                            1943895            \n",
       "373                                                  -            \n",
       "\n",
       "    Gross State Value Added by Economic Activity - Industry  \\\n",
       "369                                           20494276        \n",
       "370                                            1171012        \n",
       "371                                           44685410        \n",
       "372                                           10831471        \n",
       "373                                                  -        \n",
       "\n",
       "    Gross State Value Added by Economic Activity - Banking and Insurance   \\\n",
       "369                                            5465910                      \n",
       "370                                             176974                      \n",
       "371                                            6726129                      \n",
       "372                                             859594                      \n",
       "373                                                  -                      \n",
       "\n",
       "    Gross State Value Added by Economic Activity - Services   \n",
       "369                                           63867140        \n",
       "370                                            2740202        \n",
       "371                                           79041075        \n",
       "372                                           10094697        \n",
       "373                                                  -        "
      ]
     },
     "execution_count": 23,
     "metadata": {},
     "output_type": "execute_result"
    }
   ],
   "source": [
    "merged_df.tail()\n"
   ]
  },
  {
   "cell_type": "code",
   "execution_count": 2,
   "id": "80ec6e19",
   "metadata": {},
   "outputs": [],
   "source": [
    "df2=pd.read_excel(r\"C:\\Users\\hp\\Music\\Documents\\Intern_IIMV\\Fiscal_RBI\\Fiscal_LF\\Table 162 State-wise Capital Expenditure_LF.xlsx\")"
   ]
  },
  {
   "cell_type": "code",
   "execution_count": 3,
   "id": "a4af09d3",
   "metadata": {
    "scrolled": false
   },
   "outputs": [
    {
     "data": {
      "text/plain": [
       "Years                             0\n",
       "State                             0\n",
       "State-wise Capital Expenditure    0\n",
       "dtype: int64"
      ]
     },
     "execution_count": 3,
     "metadata": {},
     "output_type": "execute_result"
    }
   ],
   "source": [
    "df2.isnull().sum()"
   ]
  }
 ],
 "metadata": {
  "kernelspec": {
   "display_name": "Python 3 (ipykernel)",
   "language": "python",
   "name": "python3"
  },
  "language_info": {
   "codemirror_mode": {
    "name": "ipython",
    "version": 3
   },
   "file_extension": ".py",
   "mimetype": "text/x-python",
   "name": "python",
   "nbconvert_exporter": "python",
   "pygments_lexer": "ipython3",
   "version": "3.11.3"
  }
 },
 "nbformat": 4,
 "nbformat_minor": 5
}
