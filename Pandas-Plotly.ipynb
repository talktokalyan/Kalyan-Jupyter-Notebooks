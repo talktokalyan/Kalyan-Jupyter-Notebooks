{
 "cells": [
  {
   "cell_type": "code",
   "execution_count": 1,
   "metadata": {},
   "outputs": [
    {
     "data": {
      "text/plain": [
       "'https://plotly.com/~talktokalyan/11/'"
      ]
     },
     "execution_count": 1,
     "metadata": {},
     "output_type": "execute_result"
    }
   ],
   "source": [
    "import pandas as pd\n",
    "pd.options.plotting.backend = \"plotly\"\n",
    "df1 = pd.DataFrame(dict(a=[1,3,2], b=[3,2,1]))\n",
    "df2 = pd.DataFrame(dict(a=[10,31], b=[30,23]))\n",
    "\n",
    "# using Plotly Express via the Pandas backend\n",
    "fig1 = df1.plot.bar()\n",
    "#fig1.show()\n",
    "\n",
    "# using Plotly Express directly\n",
    "import plotly.express as px\n",
    "fig2 = px.bar(df2)\n",
    "#fig2.show()\n",
    "\n",
    "from chart_studio.plotly import plot\n",
    "import plotly.graph_objs as go\n",
    "\n",
    "fig = go.Figure(data=[go.Bar(y=[1, 3, 2])])\n",
    "plot(fig1, auto_open=True)\n",
    "plot(fig2, auto_open=True)"
   ]
  },
  {
   "cell_type": "code",
   "execution_count": null,
   "metadata": {},
   "outputs": [],
   "source": []
  }
 ],
 "metadata": {
  "kernelspec": {
   "display_name": "Python 3",
   "language": "python",
   "name": "python3"
  },
  "language_info": {
   "codemirror_mode": {
    "name": "ipython",
    "version": 3
   },
   "file_extension": ".py",
   "mimetype": "text/x-python",
   "name": "python",
   "nbconvert_exporter": "python",
   "pygments_lexer": "ipython3",
   "version": "3.7.7"
  }
 },
 "nbformat": 4,
 "nbformat_minor": 4
}
