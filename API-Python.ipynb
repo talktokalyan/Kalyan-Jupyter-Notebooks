{
 "cells": [
  {
   "cell_type": "code",
   "execution_count": 7,
   "metadata": {},
   "outputs": [
    {
     "name": "stdout",
     "output_type": "stream",
     "text": [
      "2021-02-25 2021-02-20\n",
      "Total Confirmed Covid-19 cases in japan: 1701493\n"
     ]
    }
   ],
   "source": [
    "import requests\n",
    "from datetime import date, timedelta\n",
    "\n",
    "today = date.today()\n",
    "yesterday = today - timedelta(days=5)\n",
    "print(today, yesterday)\n",
    "country = \"japan\"\n",
    "endpoint = f\"https://api.covid19api.com/country/{country}/status/confirmed\"\n",
    "params = {\"from\": str(yesterday), \"to\": str(today)}\n",
    "\n",
    "response = requests.get(endpoint, params=params).json()\n",
    "total_confirmed = 0\n",
    "for day in response:\n",
    "    cases = day.get(\"Cases\", 0)\n",
    "    total_confirmed += cases\n",
    "\n",
    "print(f\"Total Confirmed Covid-19 cases in {country}: {total_confirmed}\")"
   ]
  },
  {
   "cell_type": "code",
   "execution_count": 20,
   "metadata": {},
   "outputs": [
    {
     "name": "stdout",
     "output_type": "stream",
     "text": [
      "Why Read Moby-Dick? (2011-10-20) | A “brilliant and provocative” (The New Yorker) celebration of Melville’s masterpiece—from the bestselling author of In the Heart of the Sea and Valiant Ambition One of the greatest American novels finds its perfect contemporary champion in Why Read Moby-Dick?, Nathaniel Philbrick’s enlightening and entertaining tour through Melville’s classic. As he did in his National Book Award–winning bestseller In the Heart of the Sea, Philbrick brings a sailor’s eye and an adventurer’s passion to unfolding the story behind an epic American journey. He skillfully navigates Melville’s world and illuminates the book’s humor and unforgettable characters—finding the thread that binds Ishmael and Ahab to our own time and, indeed, to all times. An ideal match between author and subject, Why Read Moby-Dick? will start conversations, inspire arguments, and make a powerful case that this classic tale waits to be discovered anew. “Gracefully written [with an] infectious enthusiasm…”—New York Times Book Review\n",
      "Moby Dick (1892) | A literary classic that wasn't recognized for its merits until decades after its publication, Herman Melville's Moby-Dick tells the tale of a whaling ship and its crew, who are carried progressively further out to sea by the fiery Captain Ahab. Obsessed with killing the massive whale, which had previously bitten off Ahab's leg, the seasoned seafarer steers his ship to confront the creature, while the rest of the shipmates, including the young narrator, Ishmael, and the harpoon expert, Queequeg, must contend with their increasingly dire journey. The book invariably lands on any short list of the greatest American novels.\n"
     ]
    },
    {
     "ename": "KeyError",
     "evalue": "'description'",
     "output_type": "error",
     "traceback": [
      "\u001b[0;31m---------------------------------------------------------------------------\u001b[0m",
      "\u001b[0;31mKeyError\u001b[0m                                  Traceback (most recent call last)",
      "\u001b[0;32m<ipython-input-20-55efd398fe56>\u001b[0m in \u001b[0;36m<module>\u001b[0;34m\u001b[0m\n\u001b[1;32m     11\u001b[0m     \u001b[0mtitle\u001b[0m \u001b[0;34m=\u001b[0m \u001b[0mvolume\u001b[0m\u001b[0;34m[\u001b[0m\u001b[0;34m\"title\"\u001b[0m\u001b[0;34m]\u001b[0m\u001b[0;34m\u001b[0m\u001b[0;34m\u001b[0m\u001b[0m\n\u001b[1;32m     12\u001b[0m     \u001b[0mpublished\u001b[0m \u001b[0;34m=\u001b[0m \u001b[0mvolume\u001b[0m\u001b[0;34m[\u001b[0m\u001b[0;34m\"publishedDate\"\u001b[0m\u001b[0;34m]\u001b[0m\u001b[0;34m\u001b[0m\u001b[0;34m\u001b[0m\u001b[0m\n\u001b[0;32m---> 13\u001b[0;31m     \u001b[0mdescription\u001b[0m \u001b[0;34m=\u001b[0m \u001b[0mvolume\u001b[0m\u001b[0;34m[\u001b[0m\u001b[0;34m\"description\"\u001b[0m\u001b[0;34m]\u001b[0m\u001b[0;34m\u001b[0m\u001b[0;34m\u001b[0m\u001b[0m\n\u001b[0m\u001b[1;32m     14\u001b[0m     \u001b[0mprint\u001b[0m\u001b[0;34m(\u001b[0m\u001b[0;34mf\"{title} ({published}) | {description}\"\u001b[0m\u001b[0;34m)\u001b[0m\u001b[0;34m\u001b[0m\u001b[0;34m\u001b[0m\u001b[0m\n",
      "\u001b[0;31mKeyError\u001b[0m: 'description'"
     ]
    }
   ],
   "source": [
    "import requests\n",
    "\n",
    "endpoint = \"https://www.googleapis.com/books/v1/volumes\"\n",
    "query = \"moby dick\"\n",
    "\n",
    "params = {\"q\": query, \"maxResults\": 3}\n",
    "response = requests.get(endpoint, params=params).json()\n",
    "\n",
    "for book in response[\"items\"]:\n",
    "    volume = book[\"volumeInfo\"]\n",
    "    title = volume[\"title\"]\n",
    "    published = volume[\"publishedDate\"]\n",
    "    description = volume[\"description\"]\n",
    "    print(f\"{title} ({published}) | {description}\")"
   ]
  },
  {
   "cell_type": "code",
   "execution_count": null,
   "metadata": {},
   "outputs": [],
   "source": []
  }
 ],
 "metadata": {
  "kernelspec": {
   "display_name": "Python 3",
   "language": "python",
   "name": "python3"
  },
  "language_info": {
   "codemirror_mode": {
    "name": "ipython",
    "version": 3
   },
   "file_extension": ".py",
   "mimetype": "text/x-python",
   "name": "python",
   "nbconvert_exporter": "python",
   "pygments_lexer": "ipython3",
   "version": "3.8.5"
  }
 },
 "nbformat": 4,
 "nbformat_minor": 4
}
