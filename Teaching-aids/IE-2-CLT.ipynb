{
 "cells": [
  {
   "cell_type": "markdown",
   "metadata": {},
   "source": [
    "# CENTRAL LIMIT THEOREM"
   ]
  },
  {
   "cell_type": "markdown",
   "metadata": {},
   "source": [
    "%%latex\n",
    "\\textbf{Central Lmit Thereom (CLT1)):} "
   ]
  },
  {
   "cell_type": "code",
   "execution_count": 5,
   "metadata": {},
   "outputs": [
    {
     "name": "stdout",
     "output_type": "stream",
     "text": [
      "uniform\n"
     ]
    },
    {
     "data": {
      "image/png": "[encoded data removed]",
      "text/plain": [
       "<Figure size 432x288 with 1 Axes>"
      ]
     },
     "metadata": {
      "needs_background": "light"
     },
     "output_type": "display_data"
    }
   ],
   "source": [
    "'''## CENTRAL LIMIT THEOREM '''\n",
    "\n",
    "import numpy as np\n",
    "import matplotlib.pyplot as plt\n",
    "import statistics as stat # inbuilt function necessary to get mean of a list\n",
    "\n",
    "#Define Function '''Sampling Distribution that recreates a sampling distribution'''\n",
    "\n",
    "def sampling_dist(rep,ss,dist):\n",
    "    np.random.seed(1500)\n",
    "    R = rep # Number of Replications of the sampling\n",
    "    mean_list = [] # mu declared as a list\n",
    "    N = ss # Size of Sample\n",
    "    if dist =='normal':\n",
    "        print(dist)\n",
    "    elif dist =='uniform':\n",
    "        print(dist)\n",
    "    else:\n",
    "        print('Underlying Distribution Unrecognized')\n",
    "    for i in range(R):\n",
    "            x = np.empty(N+1)\n",
    "            j = 0\n",
    "            e = 0\n",
    "            # Sample \n",
    "            for j in range(N):          \n",
    "                x[j+1] = np.random.rand() # Random NORMAL Values\n",
    "                j = j+1\n",
    "            e = x.mean() # Mean of one sample\n",
    "           # print(e)\n",
    "            mean_list.append(e) # Append consecutive means into a pre-defined list\n",
    "    return mean_list,R,ss\n",
    "\n",
    "mu_list,R,ss = sampling_dist(1000,1000,'uniform') # Function call & Assignment: Sampling Means Array \n",
    "#print(mu_list)\n",
    "mom = stat.mean(mu_list) # Mean of Sample Means\n",
    "stdom = stat.stdev(mu_list) # Analytical Standard error of Sampling Distribution\n",
    "plt.hist(mu_list,bins=50,color='blue',alpha=0.5,density=1)\n",
    "plt.axvline(mom,color='k',linestyle='dashed',linewidth=1)\n",
    "boxtext = '\\n'.join((\n",
    "    r'Num. Replications=%i' % (R, ),\n",
    "    r'Sample-Size=%i' % (ss, ),\n",
    "    r'$\\mu=%3.3f$' % (mom, ),\n",
    "    r'Std Err=%.3f' % (stdom, ) \n",
    "    ))\n",
    "min_xlim, max_xlim = plt.xlim()\n",
    "min_ylim, max_ylim = plt.ylim()\n",
    "props = dict(boxstyle='round', facecolor='cyan', alpha=0.5)\n",
    "plt.text(min_xlim+0.02,max_ylim*1.5, boxtext, fontsize=12,verticalalignment='top',bbox=props)\n",
    "plt.title('Sampling Distribution of Means')\n",
    "plt.show()"
   ]
  },
  {
   "cell_type": "code",
   "execution_count": null,
   "metadata": {},
   "outputs": [],
   "source": []
  }
 ],
 "metadata": {
  "kernelspec": {
   "display_name": "Python 3",
   "language": "python",
   "name": "python3"
  },
  "language_info": {
   "codemirror_mode": {
    "name": "ipython",
    "version": 3
   },
   "file_extension": ".py",
   "mimetype": "text/x-python",
   "name": "python",
   "nbconvert_exporter": "python",
   "pygments_lexer": "ipython3",
   "version": "3.8.5"
  }
 },
 "nbformat": 4,
 "nbformat_minor": 4
}
