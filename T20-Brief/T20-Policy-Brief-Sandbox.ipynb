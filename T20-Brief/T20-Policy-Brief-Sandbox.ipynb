{
 "cells": [
  {
   "cell_type": "markdown",
   "metadata": {},
   "source": [
    "## Mnemonics\n",
    "\n",
    "-  GDP @ Constant Prices\n",
    "    -  INWD2ONLC - India GDP Constant US Dollar (2010)"
   ]
  },
  {
   "cell_type": "code",
   "execution_count": 25,
   "metadata": {},
   "outputs": [
    {
     "name": "stderr",
     "output_type": "stream",
     "text": [
      "2023-03-08 09:51:26,427 P[26381] [MainThread 4553860608] Error: no proxy address identified.\n",
      "Check if Eikon Desktop or Eikon API Proxy is running.\n",
      "2023-03-08 09:51:26,431 P[26381] [MainThread 4553860608] Error on handshake url http://127.0.0.1:9000/api/handshake : ConnectError('All connection attempts failed')\n",
      "2023-03-08 09:51:26,431 P[26381] [MainThread 4553860608] Error on handshake url http://127.0.0.1:9000/api/handshake : ConnectError('All connection attempts failed')\n",
      "2023-03-08 09:51:26,432 P[26381] [MainThread 4553860608] Port number was not identified, cannot send any request\n",
      "2023-03-08 09:51:26,438 P[26381] [MainThread 4553860608] Eikon Proxy not running or cannot be reached. Please read the documentation on troubleshooting\n"
     ]
    },
    {
     "ename": "EikonError",
     "evalue": "Error code 401 | Eikon Proxy not running or cannot be reached. Please read the documentation on troubleshooting",
     "output_type": "error",
     "traceback": [
      "\u001b[0;31m---------------------------------------------------------------------------\u001b[0m",
      "\u001b[0;31mEikonError\u001b[0m                                Traceback (most recent call last)",
      "\u001b[0;32m<ipython-input-25-7c258095d4cd>\u001b[0m in \u001b[0;36m<module>\u001b[0;34m\u001b[0m\n\u001b[1;32m     18\u001b[0m \u001b[0;34m\u001b[0m\u001b[0m\n\u001b[1;32m     19\u001b[0m \u001b[0;31m### Getting Symbology\u001b[0m\u001b[0;34m\u001b[0m\u001b[0;34m\u001b[0m\u001b[0;34m\u001b[0m\u001b[0m\n\u001b[0;32m---> 20\u001b[0;31m \u001b[0msymbology_df\u001b[0m \u001b[0;34m=\u001b[0m \u001b[0mek\u001b[0m\u001b[0;34m.\u001b[0m\u001b[0mget_symbology\u001b[0m\u001b[0;34m(\u001b[0m\u001b[0mrics\u001b[0m\u001b[0;34m,\u001b[0m \u001b[0mfrom_symbol_type\u001b[0m\u001b[0;34m=\u001b[0m\u001b[0;34m'RIC'\u001b[0m\u001b[0;34m,\u001b[0m \u001b[0mto_symbol_type\u001b[0m\u001b[0;34m=\u001b[0m\u001b[0;34m[\u001b[0m\u001b[0;34m'ISIN'\u001b[0m\u001b[0;34m,\u001b[0m \u001b[0;34m'ticker'\u001b[0m\u001b[0;34m,\u001b[0m\u001b[0;34m'SEDOL'\u001b[0m\u001b[0;34m]\u001b[0m\u001b[0;34m)\u001b[0m\u001b[0;34m\u001b[0m\u001b[0;34m\u001b[0m\u001b[0m\n\u001b[0m\u001b[1;32m     21\u001b[0m \u001b[0msymbology_df\u001b[0m\u001b[0;34m\u001b[0m\u001b[0;34m\u001b[0m\u001b[0m\n\u001b[1;32m     22\u001b[0m \u001b[0;34m\u001b[0m\u001b[0m\n",
      "\u001b[0;32m~/opt/anaconda3/lib/python3.8/site-packages/eikon/symbology.py\u001b[0m in \u001b[0;36mget_symbology\u001b[0;34m(symbol, from_symbol_type, to_symbol_type, raw_output, debug, best_match)\u001b[0m\n\u001b[1;32m    115\u001b[0m \u001b[0;34m\u001b[0m\u001b[0m\n\u001b[1;32m    116\u001b[0m     \u001b[0mpayload\u001b[0m \u001b[0;34m=\u001b[0m \u001b[0;34m{\u001b[0m\u001b[0;34m'symbols'\u001b[0m\u001b[0;34m:\u001b[0m \u001b[0msymbol\u001b[0m\u001b[0;34m,\u001b[0m \u001b[0;34m'from'\u001b[0m\u001b[0;34m:\u001b[0m \u001b[0mfrom_symbol_type\u001b[0m\u001b[0;34m,\u001b[0m \u001b[0;34m'to'\u001b[0m\u001b[0;34m:\u001b[0m \u001b[0mto_symbol_type\u001b[0m\u001b[0;34m,\u001b[0m \u001b[0;34m'bestMatchOnly'\u001b[0m\u001b[0;34m:\u001b[0m \u001b[0mbest_match\u001b[0m\u001b[0;34m}\u001b[0m\u001b[0;34m\u001b[0m\u001b[0;34m\u001b[0m\u001b[0m\n\u001b[0;32m--> 117\u001b[0;31m     \u001b[0mresult\u001b[0m \u001b[0;34m=\u001b[0m \u001b[0meikon\u001b[0m\u001b[0;34m.\u001b[0m\u001b[0mjson_requests\u001b[0m\u001b[0;34m.\u001b[0m\u001b[0msend_json_request\u001b[0m\u001b[0;34m(\u001b[0m\u001b[0mSymbology_UDF_endpoint\u001b[0m\u001b[0;34m,\u001b[0m \u001b[0mpayload\u001b[0m\u001b[0;34m,\u001b[0m \u001b[0mdebug\u001b[0m\u001b[0;34m=\u001b[0m\u001b[0mdebug\u001b[0m\u001b[0;34m)\u001b[0m\u001b[0;34m\u001b[0m\u001b[0;34m\u001b[0m\u001b[0m\n\u001b[0m\u001b[1;32m    118\u001b[0m \u001b[0;34m\u001b[0m\u001b[0m\n\u001b[1;32m    119\u001b[0m     \u001b[0;32mif\u001b[0m \u001b[0mraw_output\u001b[0m\u001b[0;34m:\u001b[0m\u001b[0;34m\u001b[0m\u001b[0;34m\u001b[0m\u001b[0m\n",
      "\u001b[0;32m~/opt/anaconda3/lib/python3.8/site-packages/eikon/json_requests.py\u001b[0m in \u001b[0;36msend_json_request\u001b[0;34m(entity, payload, debug)\u001b[0m\n\u001b[1;32m    147\u001b[0m             \u001b[0merror_msg\u001b[0m \u001b[0;34m=\u001b[0m \u001b[0;34m'Eikon Proxy not running or cannot be reached. Please read the documentation on troubleshooting'\u001b[0m\u001b[0;34m\u001b[0m\u001b[0;34m\u001b[0m\u001b[0m\n\u001b[1;32m    148\u001b[0m             \u001b[0mlogger\u001b[0m\u001b[0;34m.\u001b[0m\u001b[0merror\u001b[0m\u001b[0;34m(\u001b[0m\u001b[0merror_msg\u001b[0m\u001b[0;34m)\u001b[0m\u001b[0;34m\u001b[0m\u001b[0;34m\u001b[0m\u001b[0m\n\u001b[0;32m--> 149\u001b[0;31m             \u001b[0;32mraise\u001b[0m \u001b[0mEikonError\u001b[0m\u001b[0;34m(\u001b[0m\u001b[0;36m401\u001b[0m\u001b[0;34m,\u001b[0m \u001b[0merror_msg\u001b[0m\u001b[0;34m)\u001b[0m\u001b[0;34m\u001b[0m\u001b[0;34m\u001b[0m\u001b[0m\n\u001b[0m\u001b[1;32m    150\u001b[0m \u001b[0;34m\u001b[0m\u001b[0m\n\u001b[1;32m    151\u001b[0m \u001b[0;34m\u001b[0m\u001b[0m\n",
      "\u001b[0;31mEikonError\u001b[0m: Error code 401 | Eikon Proxy not running or cannot be reached. Please read the documentation on troubleshooting"
     ]
    }
   ],
   "source": [
    "\n",
    "import eikon as ek  # the Eikon Python wrapper package\n",
    "import numpy as np  # NumPy\n",
    "import pandas as pd  # pandas\n",
    "import cufflinks as cf  # Cufflinks\n",
    "\n",
    "ek.set_app_key('0999f7ba5a704212ad4e1f382863870c4615e33e')\n",
    "\n",
    "rics = [\n",
    "    'RELI.NS',  # Reliance Industries Ltd\n",
    "    'JUBI.NS',  # Jubilant Foodworks Ltd\n",
    "    '.BSESN',  # BSE Sensex stock index\n",
    "    '.NIFVIX',  # India VIX volatility index\n",
    "    'INR=',  # INR/USD exchange rate\n",
    "    'XAU=',  # Gold price\n",
    "    'IN10YT=RR',  # 10yr Bund price\n",
    "]\n",
    "\n",
    "\n",
    "### Getting Symbology\n",
    "symbology_df = ek.get_symbology(rics, from_symbol_type='RIC', to_symbol_type=['ISIN', 'ticker','SEDOL'])\n",
    "symbology_df\n",
    "\n",
    "### First get the list of valid RICS which have valid ISIN.\n",
    "isin_list = list(symbology_df.ISIN.values)\n",
    "isin_list\n",
    "\n",
    "\n",
    "### Getting Timeseries for FX closing price.\n",
    "data1 = ek.get_timeseries(['INWD2ONLC','XAU=','INR=','THB=','CNY=','JPY='],  # the RICs\n",
    "                         fields='CLOSE',  # close field\n",
    "                         start_date='2020-04-01',  # start date\n",
    "                         end_date='2020-05-31')  # end date\n",
    "data1.normalize().iplot()\n",
    "\n",
    "### Getting Timeseries for EQUITY RICS.\n",
    "data2 = ek.get_timeseries(rics[:3],  # the RICs\n",
    "                         fields='CLOSE',  # close field\n",
    "                         start_date='2022-04-01',  # start date\n",
    "                         end_date='2022-05-31')  # end date\n",
    "data2.normalize().iplot()\n",
    "\n",
    "\n",
    "### GET DATA ON CLOSING DATA & RETURN\n",
    "price_data, err = ek.get_data(rics, ['TR.PriceClose', 'TR.Volume', 'TR.PriceLow',\n",
    "                                        'TR.TotalReturnYTD', 'TR.TotalReturn52WK'])\n",
    "price_data\n",
    "\n",
    "cols = ['YTD Total Return', '52 Week Total Return']\n",
    "price_data[:2].set_index('Instrument')[cols].iplot(kind='bar')\n",
    "\n",
    "#### GET DATA OF INDEX COMPONENTS\n",
    "sensex_data = ek.get_data('0#.BSESN', fields=['TR.CommonName', 'TR.PriceClose',\n",
    "                                      'TR.Volume', 'TR.TotalReturnYTD'])[0]\n",
    "sensex_data\n",
    "# #sensex_data.set_index('Company Common Name')['YTD Total Return'].sort_values().iplot(kind='bar', color='green')\n",
    "# sensex_data['YTD Total Return'].sort_values().iplot(kind='bar', color='green')\n",
    "\n",
    "\n",
    "### GET DATA WITH Parameter Values\n",
    "price_data2, err = ek.get_data('0#.BSESN',fields=['TR.CommonName','TR.Employees', \n",
    "                                            {'TR.TreasuryStockCommon':{'params':{'Scale': 3, 'Curn': 'INR'}}},\n",
    "                                            {'TR.CommonStock':{'params':{'Scale': 3, 'Curn': 'INR'},'sort_dir':'asc'}}\n",
    "                                                 ])\n",
    "price_data2\n"
   ]
  },
  {
   "cell_type": "markdown",
   "metadata": {},
   "source": [
    "## Refinitiv DataStream (Historical Time Series Retrieval)"
   ]
  },
  {
   "cell_type": "code",
   "execution_count": 24,
   "metadata": {},
   "outputs": [
    {
     "name": "stdout",
     "output_type": "stream",
     "text": [
      "Help on Datastream in module DatastreamDSWS.DS_Response object:\n",
      "\n",
      "class Datastream(builtins.object)\n",
      " |  Datastream(username, password, config=None, dataSource=None, proxy=None, sslCer=None)\n",
      " |  \n",
      " |  Datastream helps to retrieve data from DSWS web rest service\n",
      " |  \n",
      " |  Methods defined here:\n",
      " |  \n",
      " |  __init__(self, username, password, config=None, dataSource=None, proxy=None, sslCer=None)\n",
      " |      Initialize self.  See help(type(self)) for accurate signature.\n",
      " |  \n",
      " |  get_bundle_data(self, bundleRequest=None, retName=False)\n",
      " |      This Function processes a multiple JSON format data requests to provide\n",
      " |      data response from DSWS web in the form of python Dataframe.\n",
      " |      Use post_user_request to form each JSON data request and append to a List\n",
      " |      to pass the bundleRequset.\n",
      " |      \n",
      " |       Args:\n",
      " |          bundleRequest: List, expects list of Datarequests \n",
      " |          retName: bool, default False, to be set to True if the Instrument\n",
      " |                      names and Datatype names are to be returned\n",
      " |      \n",
      " |       Returns:\n",
      " |             DataFrame.\n",
      " |  \n",
      " |  get_data(self, tickers, fields=None, start='', end='', freq='', kind=1)\n",
      " |      This Function processes a single JSON format request to provide\n",
      " |       data response from DSWS web in the form of python Dataframe\n",
      " |       \n",
      " |       Args:\n",
      " |           tickers: string, Dataypes \n",
      " |           fields: List, default None\n",
      " |           start: string, default ''\n",
      " |           end : string, default ''\n",
      " |           freq : string, default '', By deafult DSWS treats as Daily freq\n",
      " |           kind: int, default 1, indicates Timeseries as output\n",
      " |           retName: bool, default False, to be set to True if the Instrument\n",
      " |                       names and Datatype names are to be returned\n",
      " |      \n",
      " |      Returns:\n",
      " |              DataFrame.\n",
      " |  \n",
      " |  post_user_request(self, tickers, fields=None, start='', end='', freq='', kind=1, retName=False)\n",
      " |      This function helps to form requests for get_bundle_data. \n",
      " |        Each request is converted to JSON format.\n",
      " |        \n",
      " |        Args:\n",
      " |           tickers: string, Dataypes \n",
      " |           fields: List, default None\n",
      " |           start: string, default ''\n",
      " |           end : string, default ''\n",
      " |           freq : string, default '', By deafult DSWS treats as Daily freq\n",
      " |           kind: int, default 1, indicates Timeseries as output\n",
      " |      \n",
      " |      Returns:\n",
      " |              Dictionary\n",
      " |  \n",
      " |  ----------------------------------------------------------------------\n",
      " |  Data descriptors defined here:\n",
      " |  \n",
      " |  __dict__\n",
      " |      dictionary for instance variables (if defined)\n",
      " |  \n",
      " |  __weakref__\n",
      " |      list of weak references to the object (if defined)\n",
      " |  \n",
      " |  ----------------------------------------------------------------------\n",
      " |  Data and other attributes defined here:\n",
      " |  \n",
      " |  appID = 'PythonLib-1.1.0'\n",
      " |  \n",
      " |  certfile = None\n",
      " |  \n",
      " |  dataSource = None\n",
      " |  \n",
      " |  password = ''\n",
      " |  \n",
      " |  tokenResp = None\n",
      " |  \n",
      " |  url = 'https://product.datastream.com'\n",
      " |  \n",
      " |  username = ''\n",
      "\n",
      "get_data : Exception Occured\n",
      "(<class 'Exception'>, Exception('Invalid Token Value'), <traceback object at 0x7fd8fdb4f180>)\n",
      "None\n",
      "None\n"
     ]
    },
    {
     "name": "stderr",
     "output_type": "stream",
     "text": [
      "Traceback (most recent call last):\n",
      "  File \"/Users/kalyan/opt/anaconda3/lib/python3.8/site-packages/DatastreamDSWS/DS_Response.py\", line 146, in get_data\n",
      "    raise Exception(\"Invalid Token Value\")\n",
      "Exception: Invalid Token Value\n"
     ]
    }
   ],
   "source": [
    "import DatastreamDSWS as dsws\n",
    "ds = dsws.Datastream(username = 'student1@iimv.ac.in', password = 'tr@IIMV1')\n",
    "help (ds)\n",
    "df = ds.get_data(tickers = \"INWD2ONLC\", fields = \"X\", start = '2021-01-01', end = '2021-12-31', freq = 'Q')\n",
    "print(df)"
   ]
  },
  {
   "cell_type": "code",
   "execution_count": 13,
   "metadata": {},
   "outputs": [
    {
     "name": "stdout",
     "output_type": "stream",
     "text": [
      "Index(['Australia', 'Brazil', 'Canada', 'China', 'France', 'Germany', 'India',\n",
      "       'Indonesia', 'Italy', 'Japan', 'Mexico', 'Russia', 'Saudi Arabia',\n",
      "       'South Africa', 'South Korea', 'Turkey', 'United Kingdom',\n",
      "       'United States'],\n",
      "      dtype='object')\n"
     ]
    },
    {
     "ename": "KeyError",
     "evalue": "\"None of [Index([('Argentina', 'Australia', 'Brazil', 'Canada', 'China', 'France', 'Germany', 'India', 'Indonesia', 'Italy', 'Japan', 'Mexico', 'Russia', 'Saudi Arabia', 'South Africa', 'South Korea', 'Turkey', 'United Kingdom', 'United States')], dtype='object')] are in the [columns]\"",
     "output_type": "error",
     "traceback": [
      "\u001b[0;31m---------------------------------------------------------------------------\u001b[0m",
      "\u001b[0;31mKeyError\u001b[0m                                  Traceback (most recent call last)",
      "\u001b[0;32m<ipython-input-13-c31384603c6d>\u001b[0m in \u001b[0;36m<module>\u001b[0;34m\u001b[0m\n\u001b[1;32m     13\u001b[0m      'United Kingdom','United States',]]\n\u001b[1;32m     14\u001b[0m \u001b[0;34m\u001b[0m\u001b[0m\n\u001b[0;32m---> 15\u001b[0;31m \u001b[0mdf_epu\u001b[0m\u001b[0;34m=\u001b[0m\u001b[0mdf\u001b[0m\u001b[0;34m[\u001b[0m\u001b[0mg20_countries\u001b[0m\u001b[0;34m]\u001b[0m\u001b[0;34m\u001b[0m\u001b[0;34m\u001b[0m\u001b[0m\n\u001b[0m\u001b[1;32m     16\u001b[0m \u001b[0;34m\u001b[0m\u001b[0m\n\u001b[1;32m     17\u001b[0m \u001b[0mdf_epu\u001b[0m\u001b[0;34m.\u001b[0m\u001b[0mhead\u001b[0m\u001b[0;34m(\u001b[0m\u001b[0;34m)\u001b[0m\u001b[0;34m\u001b[0m\u001b[0;34m\u001b[0m\u001b[0m\n",
      "\u001b[0;32m~/opt/anaconda3/lib/python3.8/site-packages/pandas/core/frame.py\u001b[0m in \u001b[0;36m__getitem__\u001b[0;34m(self, key)\u001b[0m\n\u001b[1;32m   3459\u001b[0m             \u001b[0;32mif\u001b[0m \u001b[0mis_iterator\u001b[0m\u001b[0;34m(\u001b[0m\u001b[0mkey\u001b[0m\u001b[0;34m)\u001b[0m\u001b[0;34m:\u001b[0m\u001b[0;34m\u001b[0m\u001b[0;34m\u001b[0m\u001b[0m\n\u001b[1;32m   3460\u001b[0m                 \u001b[0mkey\u001b[0m \u001b[0;34m=\u001b[0m \u001b[0mlist\u001b[0m\u001b[0;34m(\u001b[0m\u001b[0mkey\u001b[0m\u001b[0;34m)\u001b[0m\u001b[0;34m\u001b[0m\u001b[0;34m\u001b[0m\u001b[0m\n\u001b[0;32m-> 3461\u001b[0;31m             \u001b[0mindexer\u001b[0m \u001b[0;34m=\u001b[0m \u001b[0mself\u001b[0m\u001b[0;34m.\u001b[0m\u001b[0mloc\u001b[0m\u001b[0;34m.\u001b[0m\u001b[0m_get_listlike_indexer\u001b[0m\u001b[0;34m(\u001b[0m\u001b[0mkey\u001b[0m\u001b[0;34m,\u001b[0m \u001b[0maxis\u001b[0m\u001b[0;34m=\u001b[0m\u001b[0;36m1\u001b[0m\u001b[0;34m)\u001b[0m\u001b[0;34m[\u001b[0m\u001b[0;36m1\u001b[0m\u001b[0;34m]\u001b[0m\u001b[0;34m\u001b[0m\u001b[0;34m\u001b[0m\u001b[0m\n\u001b[0m\u001b[1;32m   3462\u001b[0m \u001b[0;34m\u001b[0m\u001b[0m\n\u001b[1;32m   3463\u001b[0m         \u001b[0;31m# take() does not accept boolean indexers\u001b[0m\u001b[0;34m\u001b[0m\u001b[0;34m\u001b[0m\u001b[0;34m\u001b[0m\u001b[0m\n",
      "\u001b[0;32m~/opt/anaconda3/lib/python3.8/site-packages/pandas/core/indexing.py\u001b[0m in \u001b[0;36m_get_listlike_indexer\u001b[0;34m(self, key, axis)\u001b[0m\n\u001b[1;32m   1312\u001b[0m             \u001b[0mkeyarr\u001b[0m\u001b[0;34m,\u001b[0m \u001b[0mindexer\u001b[0m\u001b[0;34m,\u001b[0m \u001b[0mnew_indexer\u001b[0m \u001b[0;34m=\u001b[0m \u001b[0max\u001b[0m\u001b[0;34m.\u001b[0m\u001b[0m_reindex_non_unique\u001b[0m\u001b[0;34m(\u001b[0m\u001b[0mkeyarr\u001b[0m\u001b[0;34m)\u001b[0m\u001b[0;34m\u001b[0m\u001b[0;34m\u001b[0m\u001b[0m\n\u001b[1;32m   1313\u001b[0m \u001b[0;34m\u001b[0m\u001b[0m\n\u001b[0;32m-> 1314\u001b[0;31m         \u001b[0mself\u001b[0m\u001b[0;34m.\u001b[0m\u001b[0m_validate_read_indexer\u001b[0m\u001b[0;34m(\u001b[0m\u001b[0mkeyarr\u001b[0m\u001b[0;34m,\u001b[0m \u001b[0mindexer\u001b[0m\u001b[0;34m,\u001b[0m \u001b[0maxis\u001b[0m\u001b[0;34m)\u001b[0m\u001b[0;34m\u001b[0m\u001b[0;34m\u001b[0m\u001b[0m\n\u001b[0m\u001b[1;32m   1315\u001b[0m \u001b[0;34m\u001b[0m\u001b[0m\n\u001b[1;32m   1316\u001b[0m         if needs_i8_conversion(ax.dtype) or isinstance(\n",
      "\u001b[0;32m~/opt/anaconda3/lib/python3.8/site-packages/pandas/core/indexing.py\u001b[0m in \u001b[0;36m_validate_read_indexer\u001b[0;34m(self, key, indexer, axis)\u001b[0m\n\u001b[1;32m   1372\u001b[0m                 \u001b[0;32mif\u001b[0m \u001b[0muse_interval_msg\u001b[0m\u001b[0;34m:\u001b[0m\u001b[0;34m\u001b[0m\u001b[0;34m\u001b[0m\u001b[0m\n\u001b[1;32m   1373\u001b[0m                     \u001b[0mkey\u001b[0m \u001b[0;34m=\u001b[0m \u001b[0mlist\u001b[0m\u001b[0;34m(\u001b[0m\u001b[0mkey\u001b[0m\u001b[0;34m)\u001b[0m\u001b[0;34m\u001b[0m\u001b[0;34m\u001b[0m\u001b[0m\n\u001b[0;32m-> 1374\u001b[0;31m                 \u001b[0;32mraise\u001b[0m \u001b[0mKeyError\u001b[0m\u001b[0;34m(\u001b[0m\u001b[0;34mf\"None of [{key}] are in the [{axis_name}]\"\u001b[0m\u001b[0;34m)\u001b[0m\u001b[0;34m\u001b[0m\u001b[0;34m\u001b[0m\u001b[0m\n\u001b[0m\u001b[1;32m   1375\u001b[0m \u001b[0;34m\u001b[0m\u001b[0m\n\u001b[1;32m   1376\u001b[0m             \u001b[0mnot_found\u001b[0m \u001b[0;34m=\u001b[0m \u001b[0mlist\u001b[0m\u001b[0;34m(\u001b[0m\u001b[0mensure_index\u001b[0m\u001b[0;34m(\u001b[0m\u001b[0mkey\u001b[0m\u001b[0;34m)\u001b[0m\u001b[0;34m[\u001b[0m\u001b[0mmissing_mask\u001b[0m\u001b[0;34m.\u001b[0m\u001b[0mnonzero\u001b[0m\u001b[0;34m(\u001b[0m\u001b[0;34m)\u001b[0m\u001b[0;34m[\u001b[0m\u001b[0;36m0\u001b[0m\u001b[0;34m]\u001b[0m\u001b[0;34m]\u001b[0m\u001b[0;34m.\u001b[0m\u001b[0munique\u001b[0m\u001b[0;34m(\u001b[0m\u001b[0;34m)\u001b[0m\u001b[0;34m)\u001b[0m\u001b[0;34m\u001b[0m\u001b[0;34m\u001b[0m\u001b[0m\n",
      "\u001b[0;31mKeyError\u001b[0m: \"None of [Index([('Argentina', 'Australia', 'Brazil', 'Canada', 'China', 'France', 'Germany', 'India', 'Indonesia', 'Italy', 'Japan', 'Mexico', 'Russia', 'Saudi Arabia', 'South Africa', 'South Korea', 'Turkey', 'United Kingdom', 'United States')], dtype='object')] are in the [columns]\""
     ]
    }
   ],
   "source": [
    "import pandas as pd\n",
    "import plotly.graph_objects as go\n",
    "import plotly.express as px\n",
    "import numpy as np\n",
    "\n",
    "df = pd.read_excel('/Users/kalyan/Library/CloudStorage/OneDrive-IIMVIZAG/Kalyan-Research/T20-PolicyBrief-G20/Data/G20.xlsx'\n",
    "                  , sheet_name='G20-EPU', header= 0)\n",
    "df_g20_epu = df.drop(columns=['Year', 'Month'])\n",
    "\n",
    "\n",
    "print(df_g20_epu.columns)\n",
    "g20_countries=[['Argentina','Australia','Brazil','Canada','China','France','Germany','India','Indonesia',\n",
    "     'Italy','Japan','Mexico','Russia','Saudi Arabia','South Africa','South Korea','Turkey',\n",
    "     'United Kingdom','United States',]]\n",
    "\n"
   ]
  },
  {
   "cell_type": "code",
   "execution_count": null,
   "metadata": {},
   "outputs": [],
   "source": []
  },
  {
   "cell_type": "code",
   "execution_count": 30,
   "metadata": {},
   "outputs": [
    {
     "name": "stdout",
     "output_type": "stream",
     "text": [
      "Index(['Australia', 'Brazil', 'Canada', 'China', 'France', 'Germany', 'India',\n",
      "       'Indonesia', 'Italy', 'Japan', 'Mexico', 'Russia', 'Saudi Arabia',\n",
      "       'South Africa', 'South Korea', 'Turkey', 'United Kingdom',\n",
      "       'United States'],\n",
      "      dtype='object')\n"
     ]
    },
    {
     "ename": "ValueError",
     "evalue": "Invalid property specified for object of type plotly.graph_objs.Heatmap: 'annot'\n\nDid you mean \"name\"?\n\n    Valid properties:\n        autocolorscale\n            Determines whether the colorscale is a default palette\n            (`autocolorscale: true`) or the palette determined by\n            `colorscale`. In case `colorscale` is unspecified or\n            `autocolorscale` is true, the default  palette will be\n            chosen according to whether numbers in the `color`\n            array are all positive, all negative or mixed.\n        coloraxis\n            Sets a reference to a shared color axis. References to\n            these shared color axes are \"coloraxis\", \"coloraxis2\",\n            \"coloraxis3\", etc. Settings for these shared color axes\n            are set in the layout, under `layout.coloraxis`,\n            `layout.coloraxis2`, etc. Note that multiple color\n            scales can be linked to the same color axis.\n        colorbar\n            :class:`plotly.graph_objects.heatmap.ColorBar` instance\n            or dict with compatible properties\n        colorscale\n            Sets the colorscale. The colorscale must be an array\n            containing arrays mapping a normalized value to an rgb,\n            rgba, hex, hsl, hsv, or named color string. At minimum,\n            a mapping for the lowest (0) and highest (1) values are\n            required. For example, `[[0, 'rgb(0,0,255)'], [1,\n            'rgb(255,0,0)']]`. To control the bounds of the\n            colorscale in color space, use`zmin` and `zmax`.\n            Alternatively, `colorscale` may be a palette name\n            string of the following list: Greys,YlGnBu,Greens,YlOrR\n            d,Bluered,RdBu,Reds,Blues,Picnic,Rainbow,Portland,Jet,H\n            ot,Blackbody,Earth,Electric,Viridis,Cividis.\n        connectgaps\n            Determines whether or not gaps (i.e. {nan} or missing\n            values) in the `z` data are filled in. It is defaulted\n            to true if `z` is a one dimensional array and `zsmooth`\n            is not false; otherwise it is defaulted to false.\n        customdata\n            Assigns extra data each datum. This may be useful when\n            listening to hover, click and selection events. Note\n            that, \"scatter\" traces also appends customdata items in\n            the markers DOM elements\n        customdatasrc\n            Sets the source reference on Chart Studio Cloud for\n            customdata .\n        dx\n            Sets the x coordinate step. See `x0` for more info.\n        dy\n            Sets the y coordinate step. See `y0` for more info.\n        hoverinfo\n            Determines which trace information appear on hover. If\n            `none` or `skip` are set, no information is displayed\n            upon hovering. But, if `none` is set, click and hover\n            events are still fired.\n        hoverinfosrc\n            Sets the source reference on Chart Studio Cloud for\n            hoverinfo .\n        hoverlabel\n            :class:`plotly.graph_objects.heatmap.Hoverlabel`\n            instance or dict with compatible properties\n        hoverongaps\n            Determines whether or not gaps (i.e. {nan} or missing\n            values) in the `z` data have hover labels associated\n            with them.\n        hovertemplate\n            Template string used for rendering the information that\n            appear on hover box. Note that this will override\n            `hoverinfo`. Variables are inserted using %{variable},\n            for example \"y: %{y}\" as well as %{xother}, {%_xother},\n            {%_xother_}, {%xother_}. When showing info for several\n            points, \"xother\" will be added to those with different\n            x positions from the first point. An underscore before\n            or after \"(x|y)other\" will add a space on that side,\n            only when this field is shown. Numbers are formatted\n            using d3-format's syntax %{variable:d3-format}, for\n            example \"Price: %{y:$.2f}\".\n            https://github.com/d3/d3-3.x-api-\n            reference/blob/master/Formatting.md#d3_format for\n            details on the formatting syntax. Dates are formatted\n            using d3-time-format's syntax %{variable|d3-time-\n            format}, for example \"Day: %{2019-01-01|%A}\".\n            https://github.com/d3/d3-time-format#locale_format for\n            details on the date formatting syntax. The variables\n            available in `hovertemplate` are the ones emitted as\n            event data described at this link\n            https://plotly.com/javascript/plotlyjs-events/#event-\n            data. Additionally, every attributes that can be\n            specified per-point (the ones that are `arrayOk: true`)\n            are available.  Anything contained in tag `<extra>` is\n            displayed in the secondary box, for example\n            \"<extra>{fullData.name}</extra>\". To hide the secondary\n            box completely, use an empty tag `<extra></extra>`.\n        hovertemplatesrc\n            Sets the source reference on Chart Studio Cloud for\n            hovertemplate .\n        hovertext\n            Same as `text`.\n        hovertextsrc\n            Sets the source reference on Chart Studio Cloud for\n            hovertext .\n        ids\n            Assigns id labels to each datum. These ids for object\n            constancy of data points during animation. Should be an\n            array of strings, not numbers or any other type.\n        idssrc\n            Sets the source reference on Chart Studio Cloud for\n            ids .\n        legendgroup\n            Sets the legend group for this trace. Traces part of\n            the same legend group hide/show at the same time when\n            toggling legend items.\n        legendgrouptitle\n            :class:`plotly.graph_objects.heatmap.Legendgrouptitle`\n            instance or dict with compatible properties\n        legendrank\n            Sets the legend rank for this trace. Items and groups\n            with smaller ranks are presented on top/left side while\n            with `*reversed* `legend.traceorder` they are on\n            bottom/right side. The default legendrank is 1000, so\n            that you can use ranks less than 1000 to place certain\n            items before all unranked items, and ranks greater than\n            1000 to go after all unranked items.\n        meta\n            Assigns extra meta information associated with this\n            trace that can be used in various text attributes.\n            Attributes such as trace `name`, graph, axis and\n            colorbar `title.text`, annotation `text`\n            `rangeselector`, `updatemenues` and `sliders` `label`\n            text all support `meta`. To access the trace `meta`\n            values in an attribute in the same trace, simply use\n            `%{meta[i]}` where `i` is the index or key of the\n            `meta` item in question. To access trace `meta` in\n            layout attributes, use `%{data[n[.meta[i]}` where `i`\n            is the index or key of the `meta` and `n` is the trace\n            index.\n        metasrc\n            Sets the source reference on Chart Studio Cloud for\n            meta .\n        name\n            Sets the trace name. The trace name appear as the\n            legend item and on hover.\n        opacity\n            Sets the opacity of the trace.\n        reversescale\n            Reverses the color mapping if true. If true, `zmin`\n            will correspond to the last color in the array and\n            `zmax` will correspond to the first color.\n        showlegend\n            Determines whether or not an item corresponding to this\n            trace is shown in the legend.\n        showscale\n            Determines whether or not a colorbar is displayed for\n            this trace.\n        stream\n            :class:`plotly.graph_objects.heatmap.Stream` instance\n            or dict with compatible properties\n        text\n            Sets the text elements associated with each z value.\n        textsrc\n            Sets the source reference on Chart Studio Cloud for\n            text .\n        transpose\n            Transposes the z data.\n        uid\n            Assign an id to this trace, Use this to provide object\n            constancy between traces during animations and\n            transitions.\n        uirevision\n            Controls persistence of some user-driven changes to the\n            trace: `constraintrange` in `parcoords` traces, as well\n            as some `editable: true` modifications such as `name`\n            and `colorbar.title`. Defaults to `layout.uirevision`.\n            Note that other user-driven trace attribute changes are\n            controlled by `layout` attributes: `trace.visible` is\n            controlled by `layout.legend.uirevision`,\n            `selectedpoints` is controlled by\n            `layout.selectionrevision`, and `colorbar.(x|y)`\n            (accessible with `config: {editable: true}`) is\n            controlled by `layout.editrevision`. Trace changes are\n            tracked by `uid`, which only falls back on trace index\n            if no `uid` is provided. So if your app can add/remove\n            traces before the end of the `data` array, such that\n            the same trace has a different index, you can still\n            preserve user-driven changes if you give each trace a\n            `uid` that stays with it as it moves.\n        visible\n            Determines whether or not this trace is visible. If\n            \"legendonly\", the trace is not drawn, but can appear as\n            a legend item (provided that the legend itself is\n            visible).\n        x\n            Sets the x coordinates.\n        x0\n            Alternate to `x`. Builds a linear space of x\n            coordinates. Use with `dx` where `x0` is the starting\n            coordinate and `dx` the step.\n        xaxis\n            Sets a reference between this trace's x coordinates and\n            a 2D cartesian x axis. If \"x\" (the default value), the\n            x coordinates refer to `layout.xaxis`. If \"x2\", the x\n            coordinates refer to `layout.xaxis2`, and so on.\n        xcalendar\n            Sets the calendar system to use with `x` date data.\n        xgap\n            Sets the horizontal gap (in pixels) between bricks.\n        xhoverformat\n            Sets the hover text formatting rulefor `x`  using d3\n            formatting mini-languages which are very similar to\n            those in Python. For numbers, see:\n            https://github.com/d3/d3-3.x-api-\n            reference/blob/master/Formatting.md#d3_format. And for\n            dates see: https://github.com/d3/d3-time-\n            format#locale_format. We add two items to d3's date\n            formatter: \"%h\" for half of the year as a decimal\n            number as well as \"%{n}f\" for fractional seconds with n\n            digits. For example, *2016-10-13 09:15:23.456* with\n            tickformat \"%H~%M~%S.%2f\" would display *09~15~23.46*By\n            default the values are formatted using\n            `xaxis.hoverformat`.\n        xperiod\n            Only relevant when the axis `type` is \"date\". Sets the\n            period positioning in milliseconds or \"M<n>\" on the x\n            axis. Special values in the form of \"M<n>\" could be\n            used to declare the number of months. In this case `n`\n            must be a positive integer.\n        xperiod0\n            Only relevant when the axis `type` is \"date\". Sets the\n            base for period positioning in milliseconds or date\n            string on the x0 axis. When `x0period` is round number\n            of weeks, the `x0period0` by default would be on a\n            Sunday i.e. 2000-01-02, otherwise it would be at\n            2000-01-01.\n        xperiodalignment\n            Only relevant when the axis `type` is \"date\". Sets the\n            alignment of data points on the x axis.\n        xsrc\n            Sets the source reference on Chart Studio Cloud for  x\n            .\n        xtype\n            If \"array\", the heatmap's x coordinates are given by\n            \"x\" (the default behavior when `x` is provided). If\n            \"scaled\", the heatmap's x coordinates are given by \"x0\"\n            and \"dx\" (the default behavior when `x` is not\n            provided).\n        y\n            Sets the y coordinates.\n        y0\n            Alternate to `y`. Builds a linear space of y\n            coordinates. Use with `dy` where `y0` is the starting\n            coordinate and `dy` the step.\n        yaxis\n            Sets a reference between this trace's y coordinates and\n            a 2D cartesian y axis. If \"y\" (the default value), the\n            y coordinates refer to `layout.yaxis`. If \"y2\", the y\n            coordinates refer to `layout.yaxis2`, and so on.\n        ycalendar\n            Sets the calendar system to use with `y` date data.\n        ygap\n            Sets the vertical gap (in pixels) between bricks.\n        yhoverformat\n            Sets the hover text formatting rulefor `y`  using d3\n            formatting mini-languages which are very similar to\n            those in Python. For numbers, see:\n            https://github.com/d3/d3-3.x-api-\n            reference/blob/master/Formatting.md#d3_format. And for\n            dates see: https://github.com/d3/d3-time-\n            format#locale_format. We add two items to d3's date\n            formatter: \"%h\" for half of the year as a decimal\n            number as well as \"%{n}f\" for fractional seconds with n\n            digits. For example, *2016-10-13 09:15:23.456* with\n            tickformat \"%H~%M~%S.%2f\" would display *09~15~23.46*By\n            default the values are formatted using\n            `yaxis.hoverformat`.\n        yperiod\n            Only relevant when the axis `type` is \"date\". Sets the\n            period positioning in milliseconds or \"M<n>\" on the y\n            axis. Special values in the form of \"M<n>\" could be\n            used to declare the number of months. In this case `n`\n            must be a positive integer.\n        yperiod0\n            Only relevant when the axis `type` is \"date\". Sets the\n            base for period positioning in milliseconds or date\n            string on the y0 axis. When `y0period` is round number\n            of weeks, the `y0period0` by default would be on a\n            Sunday i.e. 2000-01-02, otherwise it would be at\n            2000-01-01.\n        yperiodalignment\n            Only relevant when the axis `type` is \"date\". Sets the\n            alignment of data points on the y axis.\n        ysrc\n            Sets the source reference on Chart Studio Cloud for  y\n            .\n        ytype\n            If \"array\", the heatmap's y coordinates are given by\n            \"y\" (the default behavior when `y` is provided) If\n            \"scaled\", the heatmap's y coordinates are given by \"y0\"\n            and \"dy\" (the default behavior when `y` is not\n            provided)\n        z\n            Sets the z data.\n        zauto\n            Determines whether or not the color domain is computed\n            with respect to the input data (here in `z`) or the\n            bounds set in `zmin` and `zmax`  Defaults to `false`\n            when `zmin` and `zmax` are set by the user.\n        zhoverformat\n            Sets the hover text formatting rulefor `z`  using d3\n            formatting mini-languages which are very similar to\n            those in Python. For numbers, see:\n            https://github.com/d3/d3-3.x-api-\n            reference/blob/master/Formatting.md#d3_format.By\n            default the values are formatted using generic number\n            format.\n        zmax\n            Sets the upper bound of the color domain. Value should\n            have the same units as in `z` and if set, `zmin` must\n            be set as well.\n        zmid\n            Sets the mid-point of the color domain by scaling\n            `zmin` and/or `zmax` to be equidistant to this point.\n            Value should have the same units as in `z`. Has no\n            effect when `zauto` is `false`.\n        zmin\n            Sets the lower bound of the color domain. Value should\n            have the same units as in `z` and if set, `zmax` must\n            be set as well.\n        zsmooth\n            Picks a smoothing algorithm use to smooth `z` data.\n        zsrc\n            Sets the source reference on Chart Studio Cloud for  z\n            .\n        \nDid you mean \"name\"?\n\nBad property path:\nannot\n^^^^^",
     "output_type": "error",
     "traceback": [
      "\u001b[0;31m---------------------------------------------------------------------------\u001b[0m",
      "\u001b[0;31mValueError\u001b[0m                                Traceback (most recent call last)",
      "\u001b[0;32m<ipython-input-30-9c856420dda4>\u001b[0m in \u001b[0;36m<module>\u001b[0;34m\u001b[0m\n\u001b[1;32m     19\u001b[0m \u001b[0mprint\u001b[0m\u001b[0;34m(\u001b[0m\u001b[0mcorr\u001b[0m\u001b[0;34m.\u001b[0m\u001b[0mcolumns\u001b[0m\u001b[0;34m)\u001b[0m\u001b[0;34m\u001b[0m\u001b[0;34m\u001b[0m\u001b[0m\n\u001b[1;32m     20\u001b[0m \u001b[0;31m# Create the heatmap trace with annotated correlation numbers\u001b[0m\u001b[0;34m\u001b[0m\u001b[0;34m\u001b[0m\u001b[0;34m\u001b[0m\u001b[0m\n\u001b[0;32m---> 21\u001b[0;31m heatmap = go.Heatmap(\n\u001b[0m\u001b[1;32m     22\u001b[0m     \u001b[0mx\u001b[0m\u001b[0;34m=\u001b[0m\u001b[0mcorr\u001b[0m\u001b[0;34m.\u001b[0m\u001b[0mindex\u001b[0m\u001b[0;34m,\u001b[0m\u001b[0;34m\u001b[0m\u001b[0;34m\u001b[0m\u001b[0m\n\u001b[1;32m     23\u001b[0m     \u001b[0my\u001b[0m\u001b[0;34m=\u001b[0m\u001b[0mcorr\u001b[0m\u001b[0;34m.\u001b[0m\u001b[0mcolumns\u001b[0m\u001b[0;34m,\u001b[0m\u001b[0;34m\u001b[0m\u001b[0;34m\u001b[0m\u001b[0m\n",
      "\u001b[0;32m~/opt/anaconda3/lib/python3.8/site-packages/plotly/graph_objs/_heatmap.py\u001b[0m in \u001b[0;36m__init__\u001b[0;34m(self, arg, autocolorscale, coloraxis, colorbar, colorscale, connectgaps, customdata, customdatasrc, dx, dy, hoverinfo, hoverinfosrc, hoverlabel, hoverongaps, hovertemplate, hovertemplatesrc, hovertext, hovertextsrc, ids, idssrc, legendgroup, legendgrouptitle, legendrank, meta, metasrc, name, opacity, reversescale, showlegend, showscale, stream, text, textsrc, transpose, uid, uirevision, visible, x, x0, xaxis, xcalendar, xgap, xhoverformat, xperiod, xperiod0, xperiodalignment, xsrc, xtype, y, y0, yaxis, ycalendar, ygap, yhoverformat, yperiod, yperiod0, yperiodalignment, ysrc, ytype, z, zauto, zhoverformat, zmax, zmid, zmin, zsmooth, zsrc, **kwargs)\u001b[0m\n\u001b[1;32m   2962\u001b[0m         \u001b[0;31m# Process unknown kwargs\u001b[0m\u001b[0;34m\u001b[0m\u001b[0;34m\u001b[0m\u001b[0;34m\u001b[0m\u001b[0m\n\u001b[1;32m   2963\u001b[0m         \u001b[0;31m# ----------------------\u001b[0m\u001b[0;34m\u001b[0m\u001b[0;34m\u001b[0m\u001b[0;34m\u001b[0m\u001b[0m\n\u001b[0;32m-> 2964\u001b[0;31m         \u001b[0mself\u001b[0m\u001b[0;34m.\u001b[0m\u001b[0m_process_kwargs\u001b[0m\u001b[0;34m(\u001b[0m\u001b[0;34m**\u001b[0m\u001b[0mdict\u001b[0m\u001b[0;34m(\u001b[0m\u001b[0marg\u001b[0m\u001b[0;34m,\u001b[0m \u001b[0;34m**\u001b[0m\u001b[0mkwargs\u001b[0m\u001b[0;34m)\u001b[0m\u001b[0;34m)\u001b[0m\u001b[0;34m\u001b[0m\u001b[0;34m\u001b[0m\u001b[0m\n\u001b[0m\u001b[1;32m   2965\u001b[0m \u001b[0;34m\u001b[0m\u001b[0m\n\u001b[1;32m   2966\u001b[0m         \u001b[0;31m# Reset skip_invalid\u001b[0m\u001b[0;34m\u001b[0m\u001b[0;34m\u001b[0m\u001b[0;34m\u001b[0m\u001b[0m\n",
      "\u001b[0;32m~/opt/anaconda3/lib/python3.8/site-packages/plotly/basedatatypes.py\u001b[0m in \u001b[0;36m_process_kwargs\u001b[0;34m(self, **kwargs)\u001b[0m\n\u001b[1;32m   4335\u001b[0m                 \u001b[0mself\u001b[0m\u001b[0;34m[\u001b[0m\u001b[0mk\u001b[0m\u001b[0;34m]\u001b[0m \u001b[0;34m=\u001b[0m \u001b[0mv\u001b[0m\u001b[0;34m\u001b[0m\u001b[0;34m\u001b[0m\u001b[0m\n\u001b[1;32m   4336\u001b[0m             \u001b[0;32melif\u001b[0m \u001b[0;32mnot\u001b[0m \u001b[0mself\u001b[0m\u001b[0;34m.\u001b[0m\u001b[0m_skip_invalid\u001b[0m\u001b[0;34m:\u001b[0m\u001b[0;34m\u001b[0m\u001b[0;34m\u001b[0m\u001b[0m\n\u001b[0;32m-> 4337\u001b[0;31m                 \u001b[0;32mraise\u001b[0m \u001b[0merr\u001b[0m\u001b[0;34m\u001b[0m\u001b[0;34m\u001b[0m\u001b[0m\n\u001b[0m\u001b[1;32m   4338\u001b[0m         \u001b[0;31m# No need to call _raise_on_invalid_property_error here,\u001b[0m\u001b[0;34m\u001b[0m\u001b[0;34m\u001b[0m\u001b[0;34m\u001b[0m\u001b[0m\n\u001b[1;32m   4339\u001b[0m         \u001b[0;31m# because we have it set up so that the singular case of calling\u001b[0m\u001b[0;34m\u001b[0m\u001b[0;34m\u001b[0m\u001b[0;34m\u001b[0m\u001b[0m\n",
      "\u001b[0;31mValueError\u001b[0m: Invalid property specified for object of type plotly.graph_objs.Heatmap: 'annot'\n\nDid you mean \"name\"?\n\n    Valid properties:\n        autocolorscale\n            Determines whether the colorscale is a default palette\n            (`autocolorscale: true`) or the palette determined by\n            `colorscale`. In case `colorscale` is unspecified or\n            `autocolorscale` is true, the default  palette will be\n            chosen according to whether numbers in the `color`\n            array are all positive, all negative or mixed.\n        coloraxis\n            Sets a reference to a shared color axis. References to\n            these shared color axes are \"coloraxis\", \"coloraxis2\",\n            \"coloraxis3\", etc. Settings for these shared color axes\n            are set in the layout, under `layout.coloraxis`,\n            `layout.coloraxis2`, etc. Note that multiple color\n            scales can be linked to the same color axis.\n        colorbar\n            :class:`plotly.graph_objects.heatmap.ColorBar` instance\n            or dict with compatible properties\n        colorscale\n            Sets the colorscale. The colorscale must be an array\n            containing arrays mapping a normalized value to an rgb,\n            rgba, hex, hsl, hsv, or named color string. At minimum,\n            a mapping for the lowest (0) and highest (1) values are\n            required. For example, `[[0, 'rgb(0,0,255)'], [1,\n            'rgb(255,0,0)']]`. To control the bounds of the\n            colorscale in color space, use`zmin` and `zmax`.\n            Alternatively, `colorscale` may be a palette name\n            string of the following list: Greys,YlGnBu,Greens,YlOrR\n            d,Bluered,RdBu,Reds,Blues,Picnic,Rainbow,Portland,Jet,H\n            ot,Blackbody,Earth,Electric,Viridis,Cividis.\n        connectgaps\n            Determines whether or not gaps (i.e. {nan} or missing\n            values) in the `z` data are filled in. It is defaulted\n            to true if `z` is a one dimensional array and `zsmooth`\n            is not false; otherwise it is defaulted to false.\n        customdata\n            Assigns extra data each datum. This may be useful when\n            listening to hover, click and selection events. Note\n            that, \"scatter\" traces also appends customdata items in\n            the markers DOM elements\n        customdatasrc\n            Sets the source reference on Chart Studio Cloud for\n            customdata .\n        dx\n            Sets the x coordinate step. See `x0` for more info.\n        dy\n            Sets the y coordinate step. See `y0` for more info.\n        hoverinfo\n            Determines which trace information appear on hover. If\n            `none` or `skip` are set, no information is displayed\n            upon hovering. But, if `none` is set, click and hover\n            events are still fired.\n        hoverinfosrc\n            Sets the source reference on Chart Studio Cloud for\n            hoverinfo .\n        hoverlabel\n            :class:`plotly.graph_objects.heatmap.Hoverlabel`\n            instance or dict with compatible properties\n        hoverongaps\n            Determines whether or not gaps (i.e. {nan} or missing\n            values) in the `z` data have hover labels associated\n            with them.\n        hovertemplate\n            Template string used for rendering the information that\n            appear on hover box. Note that this will override\n            `hoverinfo`. Variables are inserted using %{variable},\n            for example \"y: %{y}\" as well as %{xother}, {%_xother},\n            {%_xother_}, {%xother_}. When showing info for several\n            points, \"xother\" will be added to those with different\n            x positions from the first point. An underscore before\n            or after \"(x|y)other\" will add a space on that side,\n            only when this field is shown. Numbers are formatted\n            using d3-format's syntax %{variable:d3-format}, for\n            example \"Price: %{y:$.2f}\".\n            https://github.com/d3/d3-3.x-api-\n            reference/blob/master/Formatting.md#d3_format for\n            details on the formatting syntax. Dates are formatted\n            using d3-time-format's syntax %{variable|d3-time-\n            format}, for example \"Day: %{2019-01-01|%A}\".\n            https://github.com/d3/d3-time-format#locale_format for\n            details on the date formatting syntax. The variables\n            available in `hovertemplate` are the ones emitted as\n            event data described at this link\n            https://plotly.com/javascript/plotlyjs-events/#event-\n            data. Additionally, every attributes that can be\n            specified per-point (the ones that are `arrayOk: true`)\n            are available.  Anything contained in tag `<extra>` is\n            displayed in the secondary box, for example\n            \"<extra>{fullData.name}</extra>\". To hide the secondary\n            box completely, use an empty tag `<extra></extra>`.\n        hovertemplatesrc\n            Sets the source reference on Chart Studio Cloud for\n            hovertemplate .\n        hovertext\n            Same as `text`.\n        hovertextsrc\n            Sets the source reference on Chart Studio Cloud for\n            hovertext .\n        ids\n            Assigns id labels to each datum. These ids for object\n            constancy of data points during animation. Should be an\n            array of strings, not numbers or any other type.\n        idssrc\n            Sets the source reference on Chart Studio Cloud for\n            ids .\n        legendgroup\n            Sets the legend group for this trace. Traces part of\n            the same legend group hide/show at the same time when\n            toggling legend items.\n        legendgrouptitle\n            :class:`plotly.graph_objects.heatmap.Legendgrouptitle`\n            instance or dict with compatible properties\n        legendrank\n            Sets the legend rank for this trace. Items and groups\n            with smaller ranks are presented on top/left side while\n            with `*reversed* `legend.traceorder` they are on\n            bottom/right side. The default legendrank is 1000, so\n            that you can use ranks less than 1000 to place certain\n            items before all unranked items, and ranks greater than\n            1000 to go after all unranked items.\n        meta\n            Assigns extra meta information associated with this\n            trace that can be used in various text attributes.\n            Attributes such as trace `name`, graph, axis and\n            colorbar `title.text`, annotation `text`\n            `rangeselector`, `updatemenues` and `sliders` `label`\n            text all support `meta`. To access the trace `meta`\n            values in an attribute in the same trace, simply use\n            `%{meta[i]}` where `i` is the index or key of the\n            `meta` item in question. To access trace `meta` in\n            layout attributes, use `%{data[n[.meta[i]}` where `i`\n            is the index or key of the `meta` and `n` is the trace\n            index.\n        metasrc\n            Sets the source reference on Chart Studio Cloud for\n            meta .\n        name\n            Sets the trace name. The trace name appear as the\n            legend item and on hover.\n        opacity\n            Sets the opacity of the trace.\n        reversescale\n            Reverses the color mapping if true. If true, `zmin`\n            will correspond to the last color in the array and\n            `zmax` will correspond to the first color.\n        showlegend\n            Determines whether or not an item corresponding to this\n            trace is shown in the legend.\n        showscale\n            Determines whether or not a colorbar is displayed for\n            this trace.\n        stream\n            :class:`plotly.graph_objects.heatmap.Stream` instance\n            or dict with compatible properties\n        text\n            Sets the text elements associated with each z value.\n        textsrc\n            Sets the source reference on Chart Studio Cloud for\n            text .\n        transpose\n            Transposes the z data.\n        uid\n            Assign an id to this trace, Use this to provide object\n            constancy between traces during animations and\n            transitions.\n        uirevision\n            Controls persistence of some user-driven changes to the\n            trace: `constraintrange` in `parcoords` traces, as well\n            as some `editable: true` modifications such as `name`\n            and `colorbar.title`. Defaults to `layout.uirevision`.\n            Note that other user-driven trace attribute changes are\n            controlled by `layout` attributes: `trace.visible` is\n            controlled by `layout.legend.uirevision`,\n            `selectedpoints` is controlled by\n            `layout.selectionrevision`, and `colorbar.(x|y)`\n            (accessible with `config: {editable: true}`) is\n            controlled by `layout.editrevision`. Trace changes are\n            tracked by `uid`, which only falls back on trace index\n            if no `uid` is provided. So if your app can add/remove\n            traces before the end of the `data` array, such that\n            the same trace has a different index, you can still\n            preserve user-driven changes if you give each trace a\n            `uid` that stays with it as it moves.\n        visible\n            Determines whether or not this trace is visible. If\n            \"legendonly\", the trace is not drawn, but can appear as\n            a legend item (provided that the legend itself is\n            visible).\n        x\n            Sets the x coordinates.\n        x0\n            Alternate to `x`. Builds a linear space of x\n            coordinates. Use with `dx` where `x0` is the starting\n            coordinate and `dx` the step.\n        xaxis\n            Sets a reference between this trace's x coordinates and\n            a 2D cartesian x axis. If \"x\" (the default value), the\n            x coordinates refer to `layout.xaxis`. If \"x2\", the x\n            coordinates refer to `layout.xaxis2`, and so on.\n        xcalendar\n            Sets the calendar system to use with `x` date data.\n        xgap\n            Sets the horizontal gap (in pixels) between bricks.\n        xhoverformat\n            Sets the hover text formatting rulefor `x`  using d3\n            formatting mini-languages which are very similar to\n            those in Python. For numbers, see:\n            https://github.com/d3/d3-3.x-api-\n            reference/blob/master/Formatting.md#d3_format. And for\n            dates see: https://github.com/d3/d3-time-\n            format#locale_format. We add two items to d3's date\n            formatter: \"%h\" for half of the year as a decimal\n            number as well as \"%{n}f\" for fractional seconds with n\n            digits. For example, *2016-10-13 09:15:23.456* with\n            tickformat \"%H~%M~%S.%2f\" would display *09~15~23.46*By\n            default the values are formatted using\n            `xaxis.hoverformat`.\n        xperiod\n            Only relevant when the axis `type` is \"date\". Sets the\n            period positioning in milliseconds or \"M<n>\" on the x\n            axis. Special values in the form of \"M<n>\" could be\n            used to declare the number of months. In this case `n`\n            must be a positive integer.\n        xperiod0\n            Only relevant when the axis `type` is \"date\". Sets the\n            base for period positioning in milliseconds or date\n            string on the x0 axis. When `x0period` is round number\n            of weeks, the `x0period0` by default would be on a\n            Sunday i.e. 2000-01-02, otherwise it would be at\n            2000-01-01.\n        xperiodalignment\n            Only relevant when the axis `type` is \"date\". Sets the\n            alignment of data points on the x axis.\n        xsrc\n            Sets the source reference on Chart Studio Cloud for  x\n            .\n        xtype\n            If \"array\", the heatmap's x coordinates are given by\n            \"x\" (the default behavior when `x` is provided). If\n            \"scaled\", the heatmap's x coordinates are given by \"x0\"\n            and \"dx\" (the default behavior when `x` is not\n            provided).\n        y\n            Sets the y coordinates.\n        y0\n            Alternate to `y`. Builds a linear space of y\n            coordinates. Use with `dy` where `y0` is the starting\n            coordinate and `dy` the step.\n        yaxis\n            Sets a reference between this trace's y coordinates and\n            a 2D cartesian y axis. If \"y\" (the default value), the\n            y coordinates refer to `layout.yaxis`. If \"y2\", the y\n            coordinates refer to `layout.yaxis2`, and so on.\n        ycalendar\n            Sets the calendar system to use with `y` date data.\n        ygap\n            Sets the vertical gap (in pixels) between bricks.\n        yhoverformat\n            Sets the hover text formatting rulefor `y`  using d3\n            formatting mini-languages which are very similar to\n            those in Python. For numbers, see:\n            https://github.com/d3/d3-3.x-api-\n            reference/blob/master/Formatting.md#d3_format. And for\n            dates see: https://github.com/d3/d3-time-\n            format#locale_format. We add two items to d3's date\n            formatter: \"%h\" for half of the year as a decimal\n            number as well as \"%{n}f\" for fractional seconds with n\n            digits. For example, *2016-10-13 09:15:23.456* with\n            tickformat \"%H~%M~%S.%2f\" would display *09~15~23.46*By\n            default the values are formatted using\n            `yaxis.hoverformat`.\n        yperiod\n            Only relevant when the axis `type` is \"date\". Sets the\n            period positioning in milliseconds or \"M<n>\" on the y\n            axis. Special values in the form of \"M<n>\" could be\n            used to declare the number of months. In this case `n`\n            must be a positive integer.\n        yperiod0\n            Only relevant when the axis `type` is \"date\". Sets the\n            base for period positioning in milliseconds or date\n            string on the y0 axis. When `y0period` is round number\n            of weeks, the `y0period0` by default would be on a\n            Sunday i.e. 2000-01-02, otherwise it would be at\n            2000-01-01.\n        yperiodalignment\n            Only relevant when the axis `type` is \"date\". Sets the\n            alignment of data points on the y axis.\n        ysrc\n            Sets the source reference on Chart Studio Cloud for  y\n            .\n        ytype\n            If \"array\", the heatmap's y coordinates are given by\n            \"y\" (the default behavior when `y` is provided) If\n            \"scaled\", the heatmap's y coordinates are given by \"y0\"\n            and \"dy\" (the default behavior when `y` is not\n            provided)\n        z\n            Sets the z data.\n        zauto\n            Determines whether or not the color domain is computed\n            with respect to the input data (here in `z`) or the\n            bounds set in `zmin` and `zmax`  Defaults to `false`\n            when `zmin` and `zmax` are set by the user.\n        zhoverformat\n            Sets the hover text formatting rulefor `z`  using d3\n            formatting mini-languages which are very similar to\n            those in Python. For numbers, see:\n            https://github.com/d3/d3-3.x-api-\n            reference/blob/master/Formatting.md#d3_format.By\n            default the values are formatted using generic number\n            format.\n        zmax\n            Sets the upper bound of the color domain. Value should\n            have the same units as in `z` and if set, `zmin` must\n            be set as well.\n        zmid\n            Sets the mid-point of the color domain by scaling\n            `zmin` and/or `zmax` to be equidistant to this point.\n            Value should have the same units as in `z`. Has no\n            effect when `zauto` is `false`.\n        zmin\n            Sets the lower bound of the color domain. Value should\n            have the same units as in `z` and if set, `zmax` must\n            be set as well.\n        zsmooth\n            Picks a smoothing algorithm use to smooth `z` data.\n        zsrc\n            Sets the source reference on Chart Studio Cloud for  z\n            .\n        \nDid you mean \"name\"?\n\nBad property path:\nannot\n^^^^^"
     ]
    }
   ],
   "source": [
    "import plotly.graph_objs as go\n",
    "import numpy as np\n",
    "import pandas as pd\n",
    "\n",
    "# Create a dataframe by reading epu data\n",
    "df = pd.read_excel('/Users/kalyan/Library/CloudStorage/OneDrive-IIMVIZAG/Kalyan-Research/T20-PolicyBrief-G20/Data/G20.xlsx'\n",
    "                  , sheet_name='G20-EPU', header= 0)\n",
    "df_g20_epu = df.drop(columns=['Year', 'Month'])\n",
    "\n",
    "\n",
    "#print(df_g20_epu.columns)\n",
    "g20_countries=[['Argentina','Australia','Brazil','Canada','China','France','Germany','India','Indonesia',\n",
    "     'Italy','Japan','Mexico','Russia','Saudi Arabia','South Africa','South Korea','Turkey',\n",
    "     'United Kingdom','United States',]]\n",
    "\n",
    "# Compute the correlation matrix\n",
    "corr = df_g20_epu.corr()\n",
    "\n",
    "print(corr.columns)\n",
    "# Create the heatmap trace with annotated correlation numbers\n",
    "heatmap = go.Heatmap(\n",
    "    x=corr.index.values,\n",
    "    y=corr.columns.values,\n",
    "    z=corr.values,\n",
    "    zmin=-1,\n",
    "    zmax=1,\n",
    "    colorscale='viridis',\n",
    "    colorbar=dict(title='Correlation'),\n",
    "    showscale=True,\n",
    "    annot=True,\n",
    "    annotator='text',\n",
    "    font=dict(color='black', size=12),\n",
    ")\n",
    "\n",
    "# Create the layout\n",
    "layout = go.Layout(\n",
    "    title='Correlation in Economic Policy Uncertainty among select G-20 countries',\n",
    "    width=600,\n",
    "    height=600,\n",
    ")\n",
    "\n",
    "# Create the figure\n",
    "fig = go.Figure(data=[heatmap], layout=layout)\n",
    "\n",
    "# Show the figure\n",
    "fig.show()\n",
    "\n"
   ]
  },
  {
   "cell_type": "code",
   "execution_count": 25,
   "metadata": {},
   "outputs": [
    {
     "data": {
      "application/vnd.plotly.v1+json": {
       "config": {
        "plotlyServerURL": "https://plotly.com"
       },
       "data": [
        {
         "colorbar": {
          "title": {
           "text": "Correlation"
          }
         },
         "colorscale": [
          [
           0,
           "rgb(103,0,31)"
          ],
          [
           0.1,
           "rgb(178,24,43)"
          ],
          [
           0.2,
           "rgb(214,96,77)"
          ],
          [
           0.3,
           "rgb(244,165,130)"
          ],
          [
           0.4,
           "rgb(253,219,199)"
          ],
          [
           0.5,
           "rgb(247,247,247)"
          ],
          [
           0.6,
           "rgb(209,229,240)"
          ],
          [
           0.7,
           "rgb(146,197,222)"
          ],
          [
           0.8,
           "rgb(67,147,195)"
          ],
          [
           0.9,
           "rgb(33,102,172)"
          ],
          [
           1,
           "rgb(5,48,97)"
          ]
         ],
         "type": "heatmap",
         "x": [
          "Var 1",
          "Var 2",
          "Var 3",
          "Var 4",
          "Var 5",
          "Var 6",
          "Var 7",
          "Var 8",
          "Var 9",
          "Var 10"
         ],
         "y": [
          "Var 1",
          "Var 2",
          "Var 3",
          "Var 4",
          "Var 5",
          "Var 6",
          "Var 7",
          "Var 8",
          "Var 9",
          "Var 10"
         ],
         "z": [
          [
           1,
           0.13993310425019562,
           -0.42849150198515323,
           -0.2948103301504767,
           -0.0748208286404531,
           0.09835013948509395,
           0.16150377915669084,
           -0.35305675419858196,
           -0.25917036605766347,
           -0.7675674004222914
          ],
          [
           0.13993310425019562,
           1,
           0.38694866988729504,
           0.3312882130010892,
           -0.525699657637951,
           -0.008571570239191898,
           0.29910572278650616,
           -0.02641837377211763,
           0.09994602533332997,
           0.0607971016765906
          ],
          [
           -0.42849150198515323,
           0.386948669887295,
           1,
           0.40474167078038886,
           -0.13864621482134667,
           -0.2014296596088605,
           -0.25358851539151095,
           0.20227035637106103,
           0.1647598121744527,
           0.23196261499406412
          ],
          [
           -0.2948103301504767,
           0.3312882130010892,
           0.4047416707803888,
           1,
           -0.3520852640557304,
           -0.14300741030935354,
           0.1150321613222934,
           0.027355275138438655,
           0.6946349475940609,
           0.16105176881735017
          ],
          [
           -0.0748208286404531,
           -0.525699657637951,
           -0.1386462148213467,
           -0.35208526405573043,
           1,
           0.22969367456863105,
           -0.302280896835553,
           -0.2207129109902816,
           -0.2784340377361755,
           0.14012459386714746
          ],
          [
           0.09835013948509395,
           -0.008571570239191896,
           -0.2014296596088605,
           -0.14300741030935352,
           0.22969367456863105,
           1,
           -0.3378480809604326,
           0.5728681573304455,
           -0.5431558588075922,
           0.4172682876424888
          ],
          [
           0.16150377915669084,
           0.29910572278650616,
           -0.25358851539151095,
           0.11503216132229341,
           -0.3022808968355529,
           -0.3378480809604326,
           1,
           -0.6406413169468514,
           0.34375469081661797,
           -0.16269112054969642
          ],
          [
           -0.35305675419858196,
           -0.02641837377211763,
           0.20227035637106106,
           0.027355275138438655,
           -0.22071291099028156,
           0.5728681573304455,
           -0.6406413169468516,
           1,
           -0.2711835080577907,
           0.568595707610212
          ],
          [
           -0.25917036605766347,
           0.09994602533332997,
           0.1647598121744527,
           0.6946349475940609,
           -0.2784340377361754,
           -0.5431558588075922,
           0.34375469081661797,
           -0.2711835080577907,
           1,
           0.075270492075742
          ],
          [
           -0.7675674004222914,
           0.06079710167659061,
           0.2319626149940641,
           0.16105176881735017,
           0.14012459386714743,
           0.41726828764248874,
           -0.16269112054969645,
           0.568595707610212,
           0.075270492075742,
           1
          ]
         ],
         "zmax": 1,
         "zmin": -1
        }
       ],
       "layout": {
        "annotations": [
         {
          "font": {
           "color": "black"
          },
          "showarrow": false,
          "text": "1.0",
          "x": 1,
          "xref": "x",
          "y": 1,
          "yref": "y"
         },
         {
          "font": {
           "color": "black"
          },
          "showarrow": false,
          "text": "0.14",
          "x": 0.13993310425019562,
          "xref": "x",
          "y": 0.13993310425019562,
          "yref": "y"
         },
         {
          "font": {
           "color": "black"
          },
          "showarrow": false,
          "text": "-0.43",
          "x": -0.42849150198515323,
          "xref": "x",
          "y": -0.42849150198515323,
          "yref": "y"
         },
         {
          "font": {
           "color": "black"
          },
          "showarrow": false,
          "text": "-0.29",
          "x": -0.2948103301504767,
          "xref": "x",
          "y": -0.2948103301504767,
          "yref": "y"
         },
         {
          "font": {
           "color": "black"
          },
          "showarrow": false,
          "text": "-0.07",
          "x": -0.0748208286404531,
          "xref": "x",
          "y": -0.0748208286404531,
          "yref": "y"
         },
         {
          "font": {
           "color": "black"
          },
          "showarrow": false,
          "text": "0.1",
          "x": 0.09835013948509395,
          "xref": "x",
          "y": 0.09835013948509395,
          "yref": "y"
         },
         {
          "font": {
           "color": "black"
          },
          "showarrow": false,
          "text": "0.16",
          "x": 0.16150377915669084,
          "xref": "x",
          "y": 0.16150377915669084,
          "yref": "y"
         },
         {
          "font": {
           "color": "black"
          },
          "showarrow": false,
          "text": "-0.35",
          "x": -0.35305675419858196,
          "xref": "x",
          "y": -0.35305675419858196,
          "yref": "y"
         },
         {
          "font": {
           "color": "black"
          },
          "showarrow": false,
          "text": "-0.26",
          "x": -0.25917036605766347,
          "xref": "x",
          "y": -0.25917036605766347,
          "yref": "y"
         },
         {
          "font": {
           "color": "black"
          },
          "showarrow": false,
          "text": "-0.77",
          "x": -0.7675674004222914,
          "xref": "x",
          "y": -0.7675674004222914,
          "yref": "y"
         },
         {
          "font": {
           "color": "black"
          },
          "showarrow": false,
          "text": "0.14",
          "x": 0.13993310425019562,
          "xref": "x",
          "y": 0.13993310425019562,
          "yref": "y"
         },
         {
          "font": {
           "color": "black"
          },
          "showarrow": false,
          "text": "1.0",
          "x": 1,
          "xref": "x",
          "y": 1,
          "yref": "y"
         },
         {
          "font": {
           "color": "black"
          },
          "showarrow": false,
          "text": "0.39",
          "x": 0.386948669887295,
          "xref": "x",
          "y": 0.38694866988729504,
          "yref": "y"
         },
         {
          "font": {
           "color": "black"
          },
          "showarrow": false,
          "text": "0.33",
          "x": 0.3312882130010892,
          "xref": "x",
          "y": 0.3312882130010892,
          "yref": "y"
         },
         {
          "font": {
           "color": "black"
          },
          "showarrow": false,
          "text": "-0.53",
          "x": -0.525699657637951,
          "xref": "x",
          "y": -0.525699657637951,
          "yref": "y"
         },
         {
          "font": {
           "color": "black"
          },
          "showarrow": false,
          "text": "-0.01",
          "x": -0.008571570239191896,
          "xref": "x",
          "y": -0.008571570239191898,
          "yref": "y"
         },
         {
          "font": {
           "color": "black"
          },
          "showarrow": false,
          "text": "0.3",
          "x": 0.29910572278650616,
          "xref": "x",
          "y": 0.29910572278650616,
          "yref": "y"
         },
         {
          "font": {
           "color": "black"
          },
          "showarrow": false,
          "text": "-0.03",
          "x": -0.02641837377211763,
          "xref": "x",
          "y": -0.02641837377211763,
          "yref": "y"
         },
         {
          "font": {
           "color": "black"
          },
          "showarrow": false,
          "text": "0.1",
          "x": 0.09994602533332997,
          "xref": "x",
          "y": 0.09994602533332997,
          "yref": "y"
         },
         {
          "font": {
           "color": "black"
          },
          "showarrow": false,
          "text": "0.06",
          "x": 0.06079710167659061,
          "xref": "x",
          "y": 0.0607971016765906,
          "yref": "y"
         },
         {
          "font": {
           "color": "black"
          },
          "showarrow": false,
          "text": "-0.43",
          "x": -0.42849150198515323,
          "xref": "x",
          "y": -0.42849150198515323,
          "yref": "y"
         },
         {
          "font": {
           "color": "black"
          },
          "showarrow": false,
          "text": "0.39",
          "x": 0.38694866988729504,
          "xref": "x",
          "y": 0.386948669887295,
          "yref": "y"
         },
         {
          "font": {
           "color": "black"
          },
          "showarrow": false,
          "text": "1.0",
          "x": 1,
          "xref": "x",
          "y": 1,
          "yref": "y"
         },
         {
          "font": {
           "color": "black"
          },
          "showarrow": false,
          "text": "0.4",
          "x": 0.4047416707803888,
          "xref": "x",
          "y": 0.40474167078038886,
          "yref": "y"
         },
         {
          "font": {
           "color": "black"
          },
          "showarrow": false,
          "text": "-0.14",
          "x": -0.1386462148213467,
          "xref": "x",
          "y": -0.13864621482134667,
          "yref": "y"
         },
         {
          "font": {
           "color": "black"
          },
          "showarrow": false,
          "text": "-0.2",
          "x": -0.2014296596088605,
          "xref": "x",
          "y": -0.2014296596088605,
          "yref": "y"
         },
         {
          "font": {
           "color": "black"
          },
          "showarrow": false,
          "text": "-0.25",
          "x": -0.25358851539151095,
          "xref": "x",
          "y": -0.25358851539151095,
          "yref": "y"
         },
         {
          "font": {
           "color": "black"
          },
          "showarrow": false,
          "text": "0.2",
          "x": 0.20227035637106106,
          "xref": "x",
          "y": 0.20227035637106103,
          "yref": "y"
         },
         {
          "font": {
           "color": "black"
          },
          "showarrow": false,
          "text": "0.16",
          "x": 0.1647598121744527,
          "xref": "x",
          "y": 0.1647598121744527,
          "yref": "y"
         },
         {
          "font": {
           "color": "black"
          },
          "showarrow": false,
          "text": "0.23",
          "x": 0.2319626149940641,
          "xref": "x",
          "y": 0.23196261499406412,
          "yref": "y"
         },
         {
          "font": {
           "color": "black"
          },
          "showarrow": false,
          "text": "-0.29",
          "x": -0.2948103301504767,
          "xref": "x",
          "y": -0.2948103301504767,
          "yref": "y"
         },
         {
          "font": {
           "color": "black"
          },
          "showarrow": false,
          "text": "0.33",
          "x": 0.3312882130010892,
          "xref": "x",
          "y": 0.3312882130010892,
          "yref": "y"
         },
         {
          "font": {
           "color": "black"
          },
          "showarrow": false,
          "text": "0.4",
          "x": 0.40474167078038886,
          "xref": "x",
          "y": 0.4047416707803888,
          "yref": "y"
         },
         {
          "font": {
           "color": "black"
          },
          "showarrow": false,
          "text": "1.0",
          "x": 1,
          "xref": "x",
          "y": 1,
          "yref": "y"
         },
         {
          "font": {
           "color": "black"
          },
          "showarrow": false,
          "text": "-0.35",
          "x": -0.35208526405573043,
          "xref": "x",
          "y": -0.3520852640557304,
          "yref": "y"
         },
         {
          "font": {
           "color": "black"
          },
          "showarrow": false,
          "text": "-0.14",
          "x": -0.14300741030935352,
          "xref": "x",
          "y": -0.14300741030935354,
          "yref": "y"
         },
         {
          "font": {
           "color": "black"
          },
          "showarrow": false,
          "text": "0.12",
          "x": 0.11503216132229341,
          "xref": "x",
          "y": 0.1150321613222934,
          "yref": "y"
         },
         {
          "font": {
           "color": "black"
          },
          "showarrow": false,
          "text": "0.03",
          "x": 0.027355275138438655,
          "xref": "x",
          "y": 0.027355275138438655,
          "yref": "y"
         },
         {
          "font": {
           "color": "black"
          },
          "showarrow": false,
          "text": "0.69",
          "x": 0.6946349475940609,
          "xref": "x",
          "y": 0.6946349475940609,
          "yref": "y"
         },
         {
          "font": {
           "color": "black"
          },
          "showarrow": false,
          "text": "0.16",
          "x": 0.16105176881735017,
          "xref": "x",
          "y": 0.16105176881735017,
          "yref": "y"
         },
         {
          "font": {
           "color": "black"
          },
          "showarrow": false,
          "text": "-0.07",
          "x": -0.0748208286404531,
          "xref": "x",
          "y": -0.0748208286404531,
          "yref": "y"
         },
         {
          "font": {
           "color": "black"
          },
          "showarrow": false,
          "text": "-0.53",
          "x": -0.525699657637951,
          "xref": "x",
          "y": -0.525699657637951,
          "yref": "y"
         },
         {
          "font": {
           "color": "black"
          },
          "showarrow": false,
          "text": "-0.14",
          "x": -0.13864621482134667,
          "xref": "x",
          "y": -0.1386462148213467,
          "yref": "y"
         },
         {
          "font": {
           "color": "black"
          },
          "showarrow": false,
          "text": "-0.35",
          "x": -0.3520852640557304,
          "xref": "x",
          "y": -0.35208526405573043,
          "yref": "y"
         },
         {
          "font": {
           "color": "black"
          },
          "showarrow": false,
          "text": "1.0",
          "x": 1,
          "xref": "x",
          "y": 1,
          "yref": "y"
         },
         {
          "font": {
           "color": "black"
          },
          "showarrow": false,
          "text": "0.23",
          "x": 0.22969367456863105,
          "xref": "x",
          "y": 0.22969367456863105,
          "yref": "y"
         },
         {
          "font": {
           "color": "black"
          },
          "showarrow": false,
          "text": "-0.3",
          "x": -0.3022808968355529,
          "xref": "x",
          "y": -0.302280896835553,
          "yref": "y"
         },
         {
          "font": {
           "color": "black"
          },
          "showarrow": false,
          "text": "-0.22",
          "x": -0.22071291099028156,
          "xref": "x",
          "y": -0.2207129109902816,
          "yref": "y"
         },
         {
          "font": {
           "color": "black"
          },
          "showarrow": false,
          "text": "-0.28",
          "x": -0.2784340377361754,
          "xref": "x",
          "y": -0.2784340377361755,
          "yref": "y"
         },
         {
          "font": {
           "color": "black"
          },
          "showarrow": false,
          "text": "0.14",
          "x": 0.14012459386714743,
          "xref": "x",
          "y": 0.14012459386714746,
          "yref": "y"
         },
         {
          "font": {
           "color": "black"
          },
          "showarrow": false,
          "text": "0.1",
          "x": 0.09835013948509395,
          "xref": "x",
          "y": 0.09835013948509395,
          "yref": "y"
         },
         {
          "font": {
           "color": "black"
          },
          "showarrow": false,
          "text": "-0.01",
          "x": -0.008571570239191898,
          "xref": "x",
          "y": -0.008571570239191896,
          "yref": "y"
         },
         {
          "font": {
           "color": "black"
          },
          "showarrow": false,
          "text": "-0.2",
          "x": -0.2014296596088605,
          "xref": "x",
          "y": -0.2014296596088605,
          "yref": "y"
         },
         {
          "font": {
           "color": "black"
          },
          "showarrow": false,
          "text": "-0.14",
          "x": -0.14300741030935354,
          "xref": "x",
          "y": -0.14300741030935352,
          "yref": "y"
         },
         {
          "font": {
           "color": "black"
          },
          "showarrow": false,
          "text": "0.23",
          "x": 0.22969367456863105,
          "xref": "x",
          "y": 0.22969367456863105,
          "yref": "y"
         },
         {
          "font": {
           "color": "black"
          },
          "showarrow": false,
          "text": "1.0",
          "x": 1,
          "xref": "x",
          "y": 1,
          "yref": "y"
         },
         {
          "font": {
           "color": "black"
          },
          "showarrow": false,
          "text": "-0.34",
          "x": -0.3378480809604326,
          "xref": "x",
          "y": -0.3378480809604326,
          "yref": "y"
         },
         {
          "font": {
           "color": "black"
          },
          "showarrow": false,
          "text": "0.57",
          "x": 0.5728681573304455,
          "xref": "x",
          "y": 0.5728681573304455,
          "yref": "y"
         },
         {
          "font": {
           "color": "black"
          },
          "showarrow": false,
          "text": "-0.54",
          "x": -0.5431558588075922,
          "xref": "x",
          "y": -0.5431558588075922,
          "yref": "y"
         },
         {
          "font": {
           "color": "black"
          },
          "showarrow": false,
          "text": "0.42",
          "x": 0.41726828764248874,
          "xref": "x",
          "y": 0.4172682876424888,
          "yref": "y"
         },
         {
          "font": {
           "color": "black"
          },
          "showarrow": false,
          "text": "0.16",
          "x": 0.16150377915669084,
          "xref": "x",
          "y": 0.16150377915669084,
          "yref": "y"
         },
         {
          "font": {
           "color": "black"
          },
          "showarrow": false,
          "text": "0.3",
          "x": 0.29910572278650616,
          "xref": "x",
          "y": 0.29910572278650616,
          "yref": "y"
         },
         {
          "font": {
           "color": "black"
          },
          "showarrow": false,
          "text": "-0.25",
          "x": -0.25358851539151095,
          "xref": "x",
          "y": -0.25358851539151095,
          "yref": "y"
         },
         {
          "font": {
           "color": "black"
          },
          "showarrow": false,
          "text": "0.12",
          "x": 0.1150321613222934,
          "xref": "x",
          "y": 0.11503216132229341,
          "yref": "y"
         },
         {
          "font": {
           "color": "black"
          },
          "showarrow": false,
          "text": "-0.3",
          "x": -0.302280896835553,
          "xref": "x",
          "y": -0.3022808968355529,
          "yref": "y"
         },
         {
          "font": {
           "color": "black"
          },
          "showarrow": false,
          "text": "-0.34",
          "x": -0.3378480809604326,
          "xref": "x",
          "y": -0.3378480809604326,
          "yref": "y"
         },
         {
          "font": {
           "color": "black"
          },
          "showarrow": false,
          "text": "1.0",
          "x": 1,
          "xref": "x",
          "y": 1,
          "yref": "y"
         },
         {
          "font": {
           "color": "black"
          },
          "showarrow": false,
          "text": "-0.64",
          "x": -0.6406413169468516,
          "xref": "x",
          "y": -0.6406413169468514,
          "yref": "y"
         },
         {
          "font": {
           "color": "black"
          },
          "showarrow": false,
          "text": "0.34",
          "x": 0.34375469081661797,
          "xref": "x",
          "y": 0.34375469081661797,
          "yref": "y"
         },
         {
          "font": {
           "color": "black"
          },
          "showarrow": false,
          "text": "-0.16",
          "x": -0.16269112054969645,
          "xref": "x",
          "y": -0.16269112054969642,
          "yref": "y"
         },
         {
          "font": {
           "color": "black"
          },
          "showarrow": false,
          "text": "-0.35",
          "x": -0.35305675419858196,
          "xref": "x",
          "y": -0.35305675419858196,
          "yref": "y"
         },
         {
          "font": {
           "color": "black"
          },
          "showarrow": false,
          "text": "-0.03",
          "x": -0.02641837377211763,
          "xref": "x",
          "y": -0.02641837377211763,
          "yref": "y"
         },
         {
          "font": {
           "color": "black"
          },
          "showarrow": false,
          "text": "0.2",
          "x": 0.20227035637106103,
          "xref": "x",
          "y": 0.20227035637106106,
          "yref": "y"
         },
         {
          "font": {
           "color": "black"
          },
          "showarrow": false,
          "text": "0.03",
          "x": 0.027355275138438655,
          "xref": "x",
          "y": 0.027355275138438655,
          "yref": "y"
         },
         {
          "font": {
           "color": "black"
          },
          "showarrow": false,
          "text": "-0.22",
          "x": -0.2207129109902816,
          "xref": "x",
          "y": -0.22071291099028156,
          "yref": "y"
         },
         {
          "font": {
           "color": "black"
          },
          "showarrow": false,
          "text": "0.57",
          "x": 0.5728681573304455,
          "xref": "x",
          "y": 0.5728681573304455,
          "yref": "y"
         },
         {
          "font": {
           "color": "black"
          },
          "showarrow": false,
          "text": "-0.64",
          "x": -0.6406413169468514,
          "xref": "x",
          "y": -0.6406413169468516,
          "yref": "y"
         },
         {
          "font": {
           "color": "black"
          },
          "showarrow": false,
          "text": "1.0",
          "x": 1,
          "xref": "x",
          "y": 1,
          "yref": "y"
         },
         {
          "font": {
           "color": "black"
          },
          "showarrow": false,
          "text": "-0.27",
          "x": -0.2711835080577907,
          "xref": "x",
          "y": -0.2711835080577907,
          "yref": "y"
         },
         {
          "font": {
           "color": "black"
          },
          "showarrow": false,
          "text": "0.57",
          "x": 0.568595707610212,
          "xref": "x",
          "y": 0.568595707610212,
          "yref": "y"
         },
         {
          "font": {
           "color": "black"
          },
          "showarrow": false,
          "text": "-0.26",
          "x": -0.25917036605766347,
          "xref": "x",
          "y": -0.25917036605766347,
          "yref": "y"
         },
         {
          "font": {
           "color": "black"
          },
          "showarrow": false,
          "text": "0.1",
          "x": 0.09994602533332997,
          "xref": "x",
          "y": 0.09994602533332997,
          "yref": "y"
         },
         {
          "font": {
           "color": "black"
          },
          "showarrow": false,
          "text": "0.16",
          "x": 0.1647598121744527,
          "xref": "x",
          "y": 0.1647598121744527,
          "yref": "y"
         },
         {
          "font": {
           "color": "black"
          },
          "showarrow": false,
          "text": "0.69",
          "x": 0.6946349475940609,
          "xref": "x",
          "y": 0.6946349475940609,
          "yref": "y"
         },
         {
          "font": {
           "color": "black"
          },
          "showarrow": false,
          "text": "-0.28",
          "x": -0.2784340377361755,
          "xref": "x",
          "y": -0.2784340377361754,
          "yref": "y"
         },
         {
          "font": {
           "color": "black"
          },
          "showarrow": false,
          "text": "-0.54",
          "x": -0.5431558588075922,
          "xref": "x",
          "y": -0.5431558588075922,
          "yref": "y"
         },
         {
          "font": {
           "color": "black"
          },
          "showarrow": false,
          "text": "0.34",
          "x": 0.34375469081661797,
          "xref": "x",
          "y": 0.34375469081661797,
          "yref": "y"
         },
         {
          "font": {
           "color": "black"
          },
          "showarrow": false,
          "text": "-0.27",
          "x": -0.2711835080577907,
          "xref": "x",
          "y": -0.2711835080577907,
          "yref": "y"
         },
         {
          "font": {
           "color": "black"
          },
          "showarrow": false,
          "text": "1.0",
          "x": 1,
          "xref": "x",
          "y": 1,
          "yref": "y"
         },
         {
          "font": {
           "color": "black"
          },
          "showarrow": false,
          "text": "0.08",
          "x": 0.075270492075742,
          "xref": "x",
          "y": 0.075270492075742,
          "yref": "y"
         },
         {
          "font": {
           "color": "black"
          },
          "showarrow": false,
          "text": "-0.77",
          "x": -0.7675674004222914,
          "xref": "x",
          "y": -0.7675674004222914,
          "yref": "y"
         },
         {
          "font": {
           "color": "black"
          },
          "showarrow": false,
          "text": "0.06",
          "x": 0.0607971016765906,
          "xref": "x",
          "y": 0.06079710167659061,
          "yref": "y"
         },
         {
          "font": {
           "color": "black"
          },
          "showarrow": false,
          "text": "0.23",
          "x": 0.23196261499406412,
          "xref": "x",
          "y": 0.2319626149940641,
          "yref": "y"
         },
         {
          "font": {
           "color": "black"
          },
          "showarrow": false,
          "text": "0.16",
          "x": 0.16105176881735017,
          "xref": "x",
          "y": 0.16105176881735017,
          "yref": "y"
         },
         {
          "font": {
           "color": "black"
          },
          "showarrow": false,
          "text": "0.14",
          "x": 0.14012459386714746,
          "xref": "x",
          "y": 0.14012459386714743,
          "yref": "y"
         },
         {
          "font": {
           "color": "black"
          },
          "showarrow": false,
          "text": "0.42",
          "x": 0.4172682876424888,
          "xref": "x",
          "y": 0.41726828764248874,
          "yref": "y"
         },
         {
          "font": {
           "color": "black"
          },
          "showarrow": false,
          "text": "-0.16",
          "x": -0.16269112054969642,
          "xref": "x",
          "y": -0.16269112054969645,
          "yref": "y"
         },
         {
          "font": {
           "color": "black"
          },
          "showarrow": false,
          "text": "0.57",
          "x": 0.568595707610212,
          "xref": "x",
          "y": 0.568595707610212,
          "yref": "y"
         },
         {
          "font": {
           "color": "black"
          },
          "showarrow": false,
          "text": "0.08",
          "x": 0.075270492075742,
          "xref": "x",
          "y": 0.075270492075742,
          "yref": "y"
         },
         {
          "font": {
           "color": "black"
          },
          "showarrow": false,
          "text": "1.0",
          "x": 1,
          "xref": "x",
          "y": 1,
          "yref": "y"
         }
        ],
        "template": {
         "data": {
          "bar": [
           {
            "error_x": {
             "color": "#2a3f5f"
            },
            "error_y": {
             "color": "#2a3f5f"
            },
            "marker": {
             "line": {
              "color": "#E5ECF6",
              "width": 0.5
             },
             "pattern": {
              "fillmode": "overlay",
              "size": 10,
              "solidity": 0.2
             }
            },
            "type": "bar"
           }
          ],
          "barpolar": [
           {
            "marker": {
             "line": {
              "color": "#E5ECF6",
              "width": 0.5
             },
             "pattern": {
              "fillmode": "overlay",
              "size": 10,
              "solidity": 0.2
             }
            },
            "type": "barpolar"
           }
          ],
          "carpet": [
           {
            "aaxis": {
             "endlinecolor": "#2a3f5f",
             "gridcolor": "white",
             "linecolor": "white",
             "minorgridcolor": "white",
             "startlinecolor": "#2a3f5f"
            },
            "baxis": {
             "endlinecolor": "#2a3f5f",
             "gridcolor": "white",
             "linecolor": "white",
             "minorgridcolor": "white",
             "startlinecolor": "#2a3f5f"
            },
            "type": "carpet"
           }
          ],
          "choropleth": [
           {
            "colorbar": {
             "outlinewidth": 0,
             "ticks": ""
            },
            "type": "choropleth"
           }
          ],
          "contour": [
           {
            "colorbar": {
             "outlinewidth": 0,
             "ticks": ""
            },
            "colorscale": [
             [
              0,
              "#0d0887"
             ],
             [
              0.1111111111111111,
              "#46039f"
             ],
             [
              0.2222222222222222,
              "#7201a8"
             ],
             [
              0.3333333333333333,
              "#9c179e"
             ],
             [
              0.4444444444444444,
              "#bd3786"
             ],
             [
              0.5555555555555556,
              "#d8576b"
             ],
             [
              0.6666666666666666,
              "#ed7953"
             ],
             [
              0.7777777777777778,
              "#fb9f3a"
             ],
             [
              0.8888888888888888,
              "#fdca26"
             ],
             [
              1,
              "#f0f921"
             ]
            ],
            "type": "contour"
           }
          ],
          "contourcarpet": [
           {
            "colorbar": {
             "outlinewidth": 0,
             "ticks": ""
            },
            "type": "contourcarpet"
           }
          ],
          "heatmap": [
           {
            "colorbar": {
             "outlinewidth": 0,
             "ticks": ""
            },
            "colorscale": [
             [
              0,
              "#0d0887"
             ],
             [
              0.1111111111111111,
              "#46039f"
             ],
             [
              0.2222222222222222,
              "#7201a8"
             ],
             [
              0.3333333333333333,
              "#9c179e"
             ],
             [
              0.4444444444444444,
              "#bd3786"
             ],
             [
              0.5555555555555556,
              "#d8576b"
             ],
             [
              0.6666666666666666,
              "#ed7953"
             ],
             [
              0.7777777777777778,
              "#fb9f3a"
             ],
             [
              0.8888888888888888,
              "#fdca26"
             ],
             [
              1,
              "#f0f921"
             ]
            ],
            "type": "heatmap"
           }
          ],
          "heatmapgl": [
           {
            "colorbar": {
             "outlinewidth": 0,
             "ticks": ""
            },
            "colorscale": [
             [
              0,
              "#0d0887"
             ],
             [
              0.1111111111111111,
              "#46039f"
             ],
             [
              0.2222222222222222,
              "#7201a8"
             ],
             [
              0.3333333333333333,
              "#9c179e"
             ],
             [
              0.4444444444444444,
              "#bd3786"
             ],
             [
              0.5555555555555556,
              "#d8576b"
             ],
             [
              0.6666666666666666,
              "#ed7953"
             ],
             [
              0.7777777777777778,
              "#fb9f3a"
             ],
             [
              0.8888888888888888,
              "#fdca26"
             ],
             [
              1,
              "#f0f921"
             ]
            ],
            "type": "heatmapgl"
           }
          ],
          "histogram": [
           {
            "marker": {
             "pattern": {
              "fillmode": "overlay",
              "size": 10,
              "solidity": 0.2
             }
            },
            "type": "histogram"
           }
          ],
          "histogram2d": [
           {
            "colorbar": {
             "outlinewidth": 0,
             "ticks": ""
            },
            "colorscale": [
             [
              0,
              "#0d0887"
             ],
             [
              0.1111111111111111,
              "#46039f"
             ],
             [
              0.2222222222222222,
              "#7201a8"
             ],
             [
              0.3333333333333333,
              "#9c179e"
             ],
             [
              0.4444444444444444,
              "#bd3786"
             ],
             [
              0.5555555555555556,
              "#d8576b"
             ],
             [
              0.6666666666666666,
              "#ed7953"
             ],
             [
              0.7777777777777778,
              "#fb9f3a"
             ],
             [
              0.8888888888888888,
              "#fdca26"
             ],
             [
              1,
              "#f0f921"
             ]
            ],
            "type": "histogram2d"
           }
          ],
          "histogram2dcontour": [
           {
            "colorbar": {
             "outlinewidth": 0,
             "ticks": ""
            },
            "colorscale": [
             [
              0,
              "#0d0887"
             ],
             [
              0.1111111111111111,
              "#46039f"
             ],
             [
              0.2222222222222222,
              "#7201a8"
             ],
             [
              0.3333333333333333,
              "#9c179e"
             ],
             [
              0.4444444444444444,
              "#bd3786"
             ],
             [
              0.5555555555555556,
              "#d8576b"
             ],
             [
              0.6666666666666666,
              "#ed7953"
             ],
             [
              0.7777777777777778,
              "#fb9f3a"
             ],
             [
              0.8888888888888888,
              "#fdca26"
             ],
             [
              1,
              "#f0f921"
             ]
            ],
            "type": "histogram2dcontour"
           }
          ],
          "mesh3d": [
           {
            "colorbar": {
             "outlinewidth": 0,
             "ticks": ""
            },
            "type": "mesh3d"
           }
          ],
          "parcoords": [
           {
            "line": {
             "colorbar": {
              "outlinewidth": 0,
              "ticks": ""
             }
            },
            "type": "parcoords"
           }
          ],
          "pie": [
           {
            "automargin": true,
            "type": "pie"
           }
          ],
          "scatter": [
           {
            "marker": {
             "colorbar": {
              "outlinewidth": 0,
              "ticks": ""
             }
            },
            "type": "scatter"
           }
          ],
          "scatter3d": [
           {
            "line": {
             "colorbar": {
              "outlinewidth": 0,
              "ticks": ""
             }
            },
            "marker": {
             "colorbar": {
              "outlinewidth": 0,
              "ticks": ""
             }
            },
            "type": "scatter3d"
           }
          ],
          "scattercarpet": [
           {
            "marker": {
             "colorbar": {
              "outlinewidth": 0,
              "ticks": ""
             }
            },
            "type": "scattercarpet"
           }
          ],
          "scattergeo": [
           {
            "marker": {
             "colorbar": {
              "outlinewidth": 0,
              "ticks": ""
             }
            },
            "type": "scattergeo"
           }
          ],
          "scattergl": [
           {
            "marker": {
             "colorbar": {
              "outlinewidth": 0,
              "ticks": ""
             }
            },
            "type": "scattergl"
           }
          ],
          "scattermapbox": [
           {
            "marker": {
             "colorbar": {
              "outlinewidth": 0,
              "ticks": ""
             }
            },
            "type": "scattermapbox"
           }
          ],
          "scatterpolar": [
           {
            "marker": {
             "colorbar": {
              "outlinewidth": 0,
              "ticks": ""
             }
            },
            "type": "scatterpolar"
           }
          ],
          "scatterpolargl": [
           {
            "marker": {
             "colorbar": {
              "outlinewidth": 0,
              "ticks": ""
             }
            },
            "type": "scatterpolargl"
           }
          ],
          "scatterternary": [
           {
            "marker": {
             "colorbar": {
              "outlinewidth": 0,
              "ticks": ""
             }
            },
            "type": "scatterternary"
           }
          ],
          "surface": [
           {
            "colorbar": {
             "outlinewidth": 0,
             "ticks": ""
            },
            "colorscale": [
             [
              0,
              "#0d0887"
             ],
             [
              0.1111111111111111,
              "#46039f"
             ],
             [
              0.2222222222222222,
              "#7201a8"
             ],
             [
              0.3333333333333333,
              "#9c179e"
             ],
             [
              0.4444444444444444,
              "#bd3786"
             ],
             [
              0.5555555555555556,
              "#d8576b"
             ],
             [
              0.6666666666666666,
              "#ed7953"
             ],
             [
              0.7777777777777778,
              "#fb9f3a"
             ],
             [
              0.8888888888888888,
              "#fdca26"
             ],
             [
              1,
              "#f0f921"
             ]
            ],
            "type": "surface"
           }
          ],
          "table": [
           {
            "cells": {
             "fill": {
              "color": "#EBF0F8"
             },
             "line": {
              "color": "white"
             }
            },
            "header": {
             "fill": {
              "color": "#C8D4E3"
             },
             "line": {
              "color": "white"
             }
            },
            "type": "table"
           }
          ]
         },
         "layout": {
          "annotationdefaults": {
           "arrowcolor": "#2a3f5f",
           "arrowhead": 0,
           "arrowwidth": 1
          },
          "autotypenumbers": "strict",
          "coloraxis": {
           "colorbar": {
            "outlinewidth": 0,
            "ticks": ""
           }
          },
          "colorscale": {
           "diverging": [
            [
             0,
             "#8e0152"
            ],
            [
             0.1,
             "#c51b7d"
            ],
            [
             0.2,
             "#de77ae"
            ],
            [
             0.3,
             "#f1b6da"
            ],
            [
             0.4,
             "#fde0ef"
            ],
            [
             0.5,
             "#f7f7f7"
            ],
            [
             0.6,
             "#e6f5d0"
            ],
            [
             0.7,
             "#b8e186"
            ],
            [
             0.8,
             "#7fbc41"
            ],
            [
             0.9,
             "#4d9221"
            ],
            [
             1,
             "#276419"
            ]
           ],
           "sequential": [
            [
             0,
             "#0d0887"
            ],
            [
             0.1111111111111111,
             "#46039f"
            ],
            [
             0.2222222222222222,
             "#7201a8"
            ],
            [
             0.3333333333333333,
             "#9c179e"
            ],
            [
             0.4444444444444444,
             "#bd3786"
            ],
            [
             0.5555555555555556,
             "#d8576b"
            ],
            [
             0.6666666666666666,
             "#ed7953"
            ],
            [
             0.7777777777777778,
             "#fb9f3a"
            ],
            [
             0.8888888888888888,
             "#fdca26"
            ],
            [
             1,
             "#f0f921"
            ]
           ],
           "sequentialminus": [
            [
             0,
             "#0d0887"
            ],
            [
             0.1111111111111111,
             "#46039f"
            ],
            [
             0.2222222222222222,
             "#7201a8"
            ],
            [
             0.3333333333333333,
             "#9c179e"
            ],
            [
             0.4444444444444444,
             "#bd3786"
            ],
            [
             0.5555555555555556,
             "#d8576b"
            ],
            [
             0.6666666666666666,
             "#ed7953"
            ],
            [
             0.7777777777777778,
             "#fb9f3a"
            ],
            [
             0.8888888888888888,
             "#fdca26"
            ],
            [
             1,
             "#f0f921"
            ]
           ]
          },
          "colorway": [
           "#636efa",
           "#EF553B",
           "#00cc96",
           "#ab63fa",
           "#FFA15A",
           "#19d3f3",
           "#FF6692",
           "#B6E880",
           "#FF97FF",
           "#FECB52"
          ],
          "font": {
           "color": "#2a3f5f"
          },
          "geo": {
           "bgcolor": "white",
           "lakecolor": "white",
           "landcolor": "#E5ECF6",
           "showlakes": true,
           "showland": true,
           "subunitcolor": "white"
          },
          "hoverlabel": {
           "align": "left"
          },
          "hovermode": "closest",
          "mapbox": {
           "style": "light"
          },
          "paper_bgcolor": "white",
          "plot_bgcolor": "#E5ECF6",
          "polar": {
           "angularaxis": {
            "gridcolor": "white",
            "linecolor": "white",
            "ticks": ""
           },
           "bgcolor": "#E5ECF6",
           "radialaxis": {
            "gridcolor": "white",
            "linecolor": "white",
            "ticks": ""
           }
          },
          "scene": {
           "xaxis": {
            "backgroundcolor": "#E5ECF6",
            "gridcolor": "white",
            "gridwidth": 2,
            "linecolor": "white",
            "showbackground": true,
            "ticks": "",
            "zerolinecolor": "white"
           },
           "yaxis": {
            "backgroundcolor": "#E5ECF6",
            "gridcolor": "white",
            "gridwidth": 2,
            "linecolor": "white",
            "showbackground": true,
            "ticks": "",
            "zerolinecolor": "white"
           },
           "zaxis": {
            "backgroundcolor": "#E5ECF6",
            "gridcolor": "white",
            "gridwidth": 2,
            "linecolor": "white",
            "showbackground": true,
            "ticks": "",
            "zerolinecolor": "white"
           }
          },
          "shapedefaults": {
           "line": {
            "color": "#2a3f5f"
           }
          },
          "ternary": {
           "aaxis": {
            "gridcolor": "white",
            "linecolor": "white",
            "ticks": ""
           },
           "baxis": {
            "gridcolor": "white",
            "linecolor": "white",
            "ticks": ""
           },
           "bgcolor": "#E5ECF6",
           "caxis": {
            "gridcolor": "white",
            "linecolor": "white",
            "ticks": ""
           }
          },
          "title": {
           "x": 0.05
          },
          "xaxis": {
           "automargin": true,
           "gridcolor": "white",
           "linecolor": "white",
           "ticks": "",
           "title": {
            "standoff": 15
           },
           "zerolinecolor": "white",
           "zerolinewidth": 2
          },
          "yaxis": {
           "automargin": true,
           "gridcolor": "white",
           "linecolor": "white",
           "ticks": "",
           "title": {
            "standoff": 15
           },
           "zerolinecolor": "white",
           "zerolinewidth": 2
          }
         }
        },
        "title": {
         "text": "Correlation Heatmap"
        }
       }
      },
      "text/html": [
       "<div>                            <div id=\"31c77535-5dec-42bf-b289-2c47067795df\" class=\"plotly-graph-div\" style=\"height:525px; width:100%;\"></div>            <script type=\"text/javascript\">                require([\"plotly\"], function(Plotly) {                    window.PLOTLYENV=window.PLOTLYENV || {};                                    if (document.getElementById(\"31c77535-5dec-42bf-b289-2c47067795df\")) {                    Plotly.newPlot(                        \"31c77535-5dec-42bf-b289-2c47067795df\",                        [{\"colorbar\":{\"title\":{\"text\":\"Correlation\"}},\"colorscale\":[[0.0,\"rgb(103,0,31)\"],[0.1,\"rgb(178,24,43)\"],[0.2,\"rgb(214,96,77)\"],[0.3,\"rgb(244,165,130)\"],[0.4,\"rgb(253,219,199)\"],[0.5,\"rgb(247,247,247)\"],[0.6,\"rgb(209,229,240)\"],[0.7,\"rgb(146,197,222)\"],[0.8,\"rgb(67,147,195)\"],[0.9,\"rgb(33,102,172)\"],[1.0,\"rgb(5,48,97)\"]],\"type\":\"heatmap\",\"x\":[\"Var 1\",\"Var 2\",\"Var 3\",\"Var 4\",\"Var 5\",\"Var 6\",\"Var 7\",\"Var 8\",\"Var 9\",\"Var 10\"],\"y\":[\"Var 1\",\"Var 2\",\"Var 3\",\"Var 4\",\"Var 5\",\"Var 6\",\"Var 7\",\"Var 8\",\"Var 9\",\"Var 10\"],\"z\":[[1.0,0.13993310425019562,-0.42849150198515323,-0.2948103301504767,-0.0748208286404531,0.09835013948509395,0.16150377915669084,-0.35305675419858196,-0.25917036605766347,-0.7675674004222914],[0.13993310425019562,1.0,0.38694866988729504,0.3312882130010892,-0.525699657637951,-0.008571570239191898,0.29910572278650616,-0.02641837377211763,0.09994602533332997,0.0607971016765906],[-0.42849150198515323,0.386948669887295,1.0,0.40474167078038886,-0.13864621482134667,-0.2014296596088605,-0.25358851539151095,0.20227035637106103,0.1647598121744527,0.23196261499406412],[-0.2948103301504767,0.3312882130010892,0.4047416707803888,1.0,-0.3520852640557304,-0.14300741030935354,0.1150321613222934,0.027355275138438655,0.6946349475940609,0.16105176881735017],[-0.0748208286404531,-0.525699657637951,-0.1386462148213467,-0.35208526405573043,1.0,0.22969367456863105,-0.302280896835553,-0.2207129109902816,-0.2784340377361755,0.14012459386714746],[0.09835013948509395,-0.008571570239191896,-0.2014296596088605,-0.14300741030935352,0.22969367456863105,1.0,-0.3378480809604326,0.5728681573304455,-0.5431558588075922,0.4172682876424888],[0.16150377915669084,0.29910572278650616,-0.25358851539151095,0.11503216132229341,-0.3022808968355529,-0.3378480809604326,1.0,-0.6406413169468514,0.34375469081661797,-0.16269112054969642],[-0.35305675419858196,-0.02641837377211763,0.20227035637106106,0.027355275138438655,-0.22071291099028156,0.5728681573304455,-0.6406413169468516,1.0,-0.2711835080577907,0.568595707610212],[-0.25917036605766347,0.09994602533332997,0.1647598121744527,0.6946349475940609,-0.2784340377361754,-0.5431558588075922,0.34375469081661797,-0.2711835080577907,1.0,0.075270492075742],[-0.7675674004222914,0.06079710167659061,0.2319626149940641,0.16105176881735017,0.14012459386714743,0.41726828764248874,-0.16269112054969645,0.568595707610212,0.075270492075742,1.0]],\"zmax\":1,\"zmin\":-1}],                        {\"annotations\":[{\"font\":{\"color\":\"black\"},\"showarrow\":false,\"text\":\"1.0\",\"x\":1.0,\"xref\":\"x\",\"y\":1.0,\"yref\":\"y\"},{\"font\":{\"color\":\"black\"},\"showarrow\":false,\"text\":\"0.14\",\"x\":0.13993310425019562,\"xref\":\"x\",\"y\":0.13993310425019562,\"yref\":\"y\"},{\"font\":{\"color\":\"black\"},\"showarrow\":false,\"text\":\"-0.43\",\"x\":-0.42849150198515323,\"xref\":\"x\",\"y\":-0.42849150198515323,\"yref\":\"y\"},{\"font\":{\"color\":\"black\"},\"showarrow\":false,\"text\":\"-0.29\",\"x\":-0.2948103301504767,\"xref\":\"x\",\"y\":-0.2948103301504767,\"yref\":\"y\"},{\"font\":{\"color\":\"black\"},\"showarrow\":false,\"text\":\"-0.07\",\"x\":-0.0748208286404531,\"xref\":\"x\",\"y\":-0.0748208286404531,\"yref\":\"y\"},{\"font\":{\"color\":\"black\"},\"showarrow\":false,\"text\":\"0.1\",\"x\":0.09835013948509395,\"xref\":\"x\",\"y\":0.09835013948509395,\"yref\":\"y\"},{\"font\":{\"color\":\"black\"},\"showarrow\":false,\"text\":\"0.16\",\"x\":0.16150377915669084,\"xref\":\"x\",\"y\":0.16150377915669084,\"yref\":\"y\"},{\"font\":{\"color\":\"black\"},\"showarrow\":false,\"text\":\"-0.35\",\"x\":-0.35305675419858196,\"xref\":\"x\",\"y\":-0.35305675419858196,\"yref\":\"y\"},{\"font\":{\"color\":\"black\"},\"showarrow\":false,\"text\":\"-0.26\",\"x\":-0.25917036605766347,\"xref\":\"x\",\"y\":-0.25917036605766347,\"yref\":\"y\"},{\"font\":{\"color\":\"black\"},\"showarrow\":false,\"text\":\"-0.77\",\"x\":-0.7675674004222914,\"xref\":\"x\",\"y\":-0.7675674004222914,\"yref\":\"y\"},{\"font\":{\"color\":\"black\"},\"showarrow\":false,\"text\":\"0.14\",\"x\":0.13993310425019562,\"xref\":\"x\",\"y\":0.13993310425019562,\"yref\":\"y\"},{\"font\":{\"color\":\"black\"},\"showarrow\":false,\"text\":\"1.0\",\"x\":1.0,\"xref\":\"x\",\"y\":1.0,\"yref\":\"y\"},{\"font\":{\"color\":\"black\"},\"showarrow\":false,\"text\":\"0.39\",\"x\":0.386948669887295,\"xref\":\"x\",\"y\":0.38694866988729504,\"yref\":\"y\"},{\"font\":{\"color\":\"black\"},\"showarrow\":false,\"text\":\"0.33\",\"x\":0.3312882130010892,\"xref\":\"x\",\"y\":0.3312882130010892,\"yref\":\"y\"},{\"font\":{\"color\":\"black\"},\"showarrow\":false,\"text\":\"-0.53\",\"x\":-0.525699657637951,\"xref\":\"x\",\"y\":-0.525699657637951,\"yref\":\"y\"},{\"font\":{\"color\":\"black\"},\"showarrow\":false,\"text\":\"-0.01\",\"x\":-0.008571570239191896,\"xref\":\"x\",\"y\":-0.008571570239191898,\"yref\":\"y\"},{\"font\":{\"color\":\"black\"},\"showarrow\":false,\"text\":\"0.3\",\"x\":0.29910572278650616,\"xref\":\"x\",\"y\":0.29910572278650616,\"yref\":\"y\"},{\"font\":{\"color\":\"black\"},\"showarrow\":false,\"text\":\"-0.03\",\"x\":-0.02641837377211763,\"xref\":\"x\",\"y\":-0.02641837377211763,\"yref\":\"y\"},{\"font\":{\"color\":\"black\"},\"showarrow\":false,\"text\":\"0.1\",\"x\":0.09994602533332997,\"xref\":\"x\",\"y\":0.09994602533332997,\"yref\":\"y\"},{\"font\":{\"color\":\"black\"},\"showarrow\":false,\"text\":\"0.06\",\"x\":0.06079710167659061,\"xref\":\"x\",\"y\":0.0607971016765906,\"yref\":\"y\"},{\"font\":{\"color\":\"black\"},\"showarrow\":false,\"text\":\"-0.43\",\"x\":-0.42849150198515323,\"xref\":\"x\",\"y\":-0.42849150198515323,\"yref\":\"y\"},{\"font\":{\"color\":\"black\"},\"showarrow\":false,\"text\":\"0.39\",\"x\":0.38694866988729504,\"xref\":\"x\",\"y\":0.386948669887295,\"yref\":\"y\"},{\"font\":{\"color\":\"black\"},\"showarrow\":false,\"text\":\"1.0\",\"x\":1.0,\"xref\":\"x\",\"y\":1.0,\"yref\":\"y\"},{\"font\":{\"color\":\"black\"},\"showarrow\":false,\"text\":\"0.4\",\"x\":0.4047416707803888,\"xref\":\"x\",\"y\":0.40474167078038886,\"yref\":\"y\"},{\"font\":{\"color\":\"black\"},\"showarrow\":false,\"text\":\"-0.14\",\"x\":-0.1386462148213467,\"xref\":\"x\",\"y\":-0.13864621482134667,\"yref\":\"y\"},{\"font\":{\"color\":\"black\"},\"showarrow\":false,\"text\":\"-0.2\",\"x\":-0.2014296596088605,\"xref\":\"x\",\"y\":-0.2014296596088605,\"yref\":\"y\"},{\"font\":{\"color\":\"black\"},\"showarrow\":false,\"text\":\"-0.25\",\"x\":-0.25358851539151095,\"xref\":\"x\",\"y\":-0.25358851539151095,\"yref\":\"y\"},{\"font\":{\"color\":\"black\"},\"showarrow\":false,\"text\":\"0.2\",\"x\":0.20227035637106106,\"xref\":\"x\",\"y\":0.20227035637106103,\"yref\":\"y\"},{\"font\":{\"color\":\"black\"},\"showarrow\":false,\"text\":\"0.16\",\"x\":0.1647598121744527,\"xref\":\"x\",\"y\":0.1647598121744527,\"yref\":\"y\"},{\"font\":{\"color\":\"black\"},\"showarrow\":false,\"text\":\"0.23\",\"x\":0.2319626149940641,\"xref\":\"x\",\"y\":0.23196261499406412,\"yref\":\"y\"},{\"font\":{\"color\":\"black\"},\"showarrow\":false,\"text\":\"-0.29\",\"x\":-0.2948103301504767,\"xref\":\"x\",\"y\":-0.2948103301504767,\"yref\":\"y\"},{\"font\":{\"color\":\"black\"},\"showarrow\":false,\"text\":\"0.33\",\"x\":0.3312882130010892,\"xref\":\"x\",\"y\":0.3312882130010892,\"yref\":\"y\"},{\"font\":{\"color\":\"black\"},\"showarrow\":false,\"text\":\"0.4\",\"x\":0.40474167078038886,\"xref\":\"x\",\"y\":0.4047416707803888,\"yref\":\"y\"},{\"font\":{\"color\":\"black\"},\"showarrow\":false,\"text\":\"1.0\",\"x\":1.0,\"xref\":\"x\",\"y\":1.0,\"yref\":\"y\"},{\"font\":{\"color\":\"black\"},\"showarrow\":false,\"text\":\"-0.35\",\"x\":-0.35208526405573043,\"xref\":\"x\",\"y\":-0.3520852640557304,\"yref\":\"y\"},{\"font\":{\"color\":\"black\"},\"showarrow\":false,\"text\":\"-0.14\",\"x\":-0.14300741030935352,\"xref\":\"x\",\"y\":-0.14300741030935354,\"yref\":\"y\"},{\"font\":{\"color\":\"black\"},\"showarrow\":false,\"text\":\"0.12\",\"x\":0.11503216132229341,\"xref\":\"x\",\"y\":0.1150321613222934,\"yref\":\"y\"},{\"font\":{\"color\":\"black\"},\"showarrow\":false,\"text\":\"0.03\",\"x\":0.027355275138438655,\"xref\":\"x\",\"y\":0.027355275138438655,\"yref\":\"y\"},{\"font\":{\"color\":\"black\"},\"showarrow\":false,\"text\":\"0.69\",\"x\":0.6946349475940609,\"xref\":\"x\",\"y\":0.6946349475940609,\"yref\":\"y\"},{\"font\":{\"color\":\"black\"},\"showarrow\":false,\"text\":\"0.16\",\"x\":0.16105176881735017,\"xref\":\"x\",\"y\":0.16105176881735017,\"yref\":\"y\"},{\"font\":{\"color\":\"black\"},\"showarrow\":false,\"text\":\"-0.07\",\"x\":-0.0748208286404531,\"xref\":\"x\",\"y\":-0.0748208286404531,\"yref\":\"y\"},{\"font\":{\"color\":\"black\"},\"showarrow\":false,\"text\":\"-0.53\",\"x\":-0.525699657637951,\"xref\":\"x\",\"y\":-0.525699657637951,\"yref\":\"y\"},{\"font\":{\"color\":\"black\"},\"showarrow\":false,\"text\":\"-0.14\",\"x\":-0.13864621482134667,\"xref\":\"x\",\"y\":-0.1386462148213467,\"yref\":\"y\"},{\"font\":{\"color\":\"black\"},\"showarrow\":false,\"text\":\"-0.35\",\"x\":-0.3520852640557304,\"xref\":\"x\",\"y\":-0.35208526405573043,\"yref\":\"y\"},{\"font\":{\"color\":\"black\"},\"showarrow\":false,\"text\":\"1.0\",\"x\":1.0,\"xref\":\"x\",\"y\":1.0,\"yref\":\"y\"},{\"font\":{\"color\":\"black\"},\"showarrow\":false,\"text\":\"0.23\",\"x\":0.22969367456863105,\"xref\":\"x\",\"y\":0.22969367456863105,\"yref\":\"y\"},{\"font\":{\"color\":\"black\"},\"showarrow\":false,\"text\":\"-0.3\",\"x\":-0.3022808968355529,\"xref\":\"x\",\"y\":-0.302280896835553,\"yref\":\"y\"},{\"font\":{\"color\":\"black\"},\"showarrow\":false,\"text\":\"-0.22\",\"x\":-0.22071291099028156,\"xref\":\"x\",\"y\":-0.2207129109902816,\"yref\":\"y\"},{\"font\":{\"color\":\"black\"},\"showarrow\":false,\"text\":\"-0.28\",\"x\":-0.2784340377361754,\"xref\":\"x\",\"y\":-0.2784340377361755,\"yref\":\"y\"},{\"font\":{\"color\":\"black\"},\"showarrow\":false,\"text\":\"0.14\",\"x\":0.14012459386714743,\"xref\":\"x\",\"y\":0.14012459386714746,\"yref\":\"y\"},{\"font\":{\"color\":\"black\"},\"showarrow\":false,\"text\":\"0.1\",\"x\":0.09835013948509395,\"xref\":\"x\",\"y\":0.09835013948509395,\"yref\":\"y\"},{\"font\":{\"color\":\"black\"},\"showarrow\":false,\"text\":\"-0.01\",\"x\":-0.008571570239191898,\"xref\":\"x\",\"y\":-0.008571570239191896,\"yref\":\"y\"},{\"font\":{\"color\":\"black\"},\"showarrow\":false,\"text\":\"-0.2\",\"x\":-0.2014296596088605,\"xref\":\"x\",\"y\":-0.2014296596088605,\"yref\":\"y\"},{\"font\":{\"color\":\"black\"},\"showarrow\":false,\"text\":\"-0.14\",\"x\":-0.14300741030935354,\"xref\":\"x\",\"y\":-0.14300741030935352,\"yref\":\"y\"},{\"font\":{\"color\":\"black\"},\"showarrow\":false,\"text\":\"0.23\",\"x\":0.22969367456863105,\"xref\":\"x\",\"y\":0.22969367456863105,\"yref\":\"y\"},{\"font\":{\"color\":\"black\"},\"showarrow\":false,\"text\":\"1.0\",\"x\":1.0,\"xref\":\"x\",\"y\":1.0,\"yref\":\"y\"},{\"font\":{\"color\":\"black\"},\"showarrow\":false,\"text\":\"-0.34\",\"x\":-0.3378480809604326,\"xref\":\"x\",\"y\":-0.3378480809604326,\"yref\":\"y\"},{\"font\":{\"color\":\"black\"},\"showarrow\":false,\"text\":\"0.57\",\"x\":0.5728681573304455,\"xref\":\"x\",\"y\":0.5728681573304455,\"yref\":\"y\"},{\"font\":{\"color\":\"black\"},\"showarrow\":false,\"text\":\"-0.54\",\"x\":-0.5431558588075922,\"xref\":\"x\",\"y\":-0.5431558588075922,\"yref\":\"y\"},{\"font\":{\"color\":\"black\"},\"showarrow\":false,\"text\":\"0.42\",\"x\":0.41726828764248874,\"xref\":\"x\",\"y\":0.4172682876424888,\"yref\":\"y\"},{\"font\":{\"color\":\"black\"},\"showarrow\":false,\"text\":\"0.16\",\"x\":0.16150377915669084,\"xref\":\"x\",\"y\":0.16150377915669084,\"yref\":\"y\"},{\"font\":{\"color\":\"black\"},\"showarrow\":false,\"text\":\"0.3\",\"x\":0.29910572278650616,\"xref\":\"x\",\"y\":0.29910572278650616,\"yref\":\"y\"},{\"font\":{\"color\":\"black\"},\"showarrow\":false,\"text\":\"-0.25\",\"x\":-0.25358851539151095,\"xref\":\"x\",\"y\":-0.25358851539151095,\"yref\":\"y\"},{\"font\":{\"color\":\"black\"},\"showarrow\":false,\"text\":\"0.12\",\"x\":0.1150321613222934,\"xref\":\"x\",\"y\":0.11503216132229341,\"yref\":\"y\"},{\"font\":{\"color\":\"black\"},\"showarrow\":false,\"text\":\"-0.3\",\"x\":-0.302280896835553,\"xref\":\"x\",\"y\":-0.3022808968355529,\"yref\":\"y\"},{\"font\":{\"color\":\"black\"},\"showarrow\":false,\"text\":\"-0.34\",\"x\":-0.3378480809604326,\"xref\":\"x\",\"y\":-0.3378480809604326,\"yref\":\"y\"},{\"font\":{\"color\":\"black\"},\"showarrow\":false,\"text\":\"1.0\",\"x\":1.0,\"xref\":\"x\",\"y\":1.0,\"yref\":\"y\"},{\"font\":{\"color\":\"black\"},\"showarrow\":false,\"text\":\"-0.64\",\"x\":-0.6406413169468516,\"xref\":\"x\",\"y\":-0.6406413169468514,\"yref\":\"y\"},{\"font\":{\"color\":\"black\"},\"showarrow\":false,\"text\":\"0.34\",\"x\":0.34375469081661797,\"xref\":\"x\",\"y\":0.34375469081661797,\"yref\":\"y\"},{\"font\":{\"color\":\"black\"},\"showarrow\":false,\"text\":\"-0.16\",\"x\":-0.16269112054969645,\"xref\":\"x\",\"y\":-0.16269112054969642,\"yref\":\"y\"},{\"font\":{\"color\":\"black\"},\"showarrow\":false,\"text\":\"-0.35\",\"x\":-0.35305675419858196,\"xref\":\"x\",\"y\":-0.35305675419858196,\"yref\":\"y\"},{\"font\":{\"color\":\"black\"},\"showarrow\":false,\"text\":\"-0.03\",\"x\":-0.02641837377211763,\"xref\":\"x\",\"y\":-0.02641837377211763,\"yref\":\"y\"},{\"font\":{\"color\":\"black\"},\"showarrow\":false,\"text\":\"0.2\",\"x\":0.20227035637106103,\"xref\":\"x\",\"y\":0.20227035637106106,\"yref\":\"y\"},{\"font\":{\"color\":\"black\"},\"showarrow\":false,\"text\":\"0.03\",\"x\":0.027355275138438655,\"xref\":\"x\",\"y\":0.027355275138438655,\"yref\":\"y\"},{\"font\":{\"color\":\"black\"},\"showarrow\":false,\"text\":\"-0.22\",\"x\":-0.2207129109902816,\"xref\":\"x\",\"y\":-0.22071291099028156,\"yref\":\"y\"},{\"font\":{\"color\":\"black\"},\"showarrow\":false,\"text\":\"0.57\",\"x\":0.5728681573304455,\"xref\":\"x\",\"y\":0.5728681573304455,\"yref\":\"y\"},{\"font\":{\"color\":\"black\"},\"showarrow\":false,\"text\":\"-0.64\",\"x\":-0.6406413169468514,\"xref\":\"x\",\"y\":-0.6406413169468516,\"yref\":\"y\"},{\"font\":{\"color\":\"black\"},\"showarrow\":false,\"text\":\"1.0\",\"x\":1.0,\"xref\":\"x\",\"y\":1.0,\"yref\":\"y\"},{\"font\":{\"color\":\"black\"},\"showarrow\":false,\"text\":\"-0.27\",\"x\":-0.2711835080577907,\"xref\":\"x\",\"y\":-0.2711835080577907,\"yref\":\"y\"},{\"font\":{\"color\":\"black\"},\"showarrow\":false,\"text\":\"0.57\",\"x\":0.568595707610212,\"xref\":\"x\",\"y\":0.568595707610212,\"yref\":\"y\"},{\"font\":{\"color\":\"black\"},\"showarrow\":false,\"text\":\"-0.26\",\"x\":-0.25917036605766347,\"xref\":\"x\",\"y\":-0.25917036605766347,\"yref\":\"y\"},{\"font\":{\"color\":\"black\"},\"showarrow\":false,\"text\":\"0.1\",\"x\":0.09994602533332997,\"xref\":\"x\",\"y\":0.09994602533332997,\"yref\":\"y\"},{\"font\":{\"color\":\"black\"},\"showarrow\":false,\"text\":\"0.16\",\"x\":0.1647598121744527,\"xref\":\"x\",\"y\":0.1647598121744527,\"yref\":\"y\"},{\"font\":{\"color\":\"black\"},\"showarrow\":false,\"text\":\"0.69\",\"x\":0.6946349475940609,\"xref\":\"x\",\"y\":0.6946349475940609,\"yref\":\"y\"},{\"font\":{\"color\":\"black\"},\"showarrow\":false,\"text\":\"-0.28\",\"x\":-0.2784340377361755,\"xref\":\"x\",\"y\":-0.2784340377361754,\"yref\":\"y\"},{\"font\":{\"color\":\"black\"},\"showarrow\":false,\"text\":\"-0.54\",\"x\":-0.5431558588075922,\"xref\":\"x\",\"y\":-0.5431558588075922,\"yref\":\"y\"},{\"font\":{\"color\":\"black\"},\"showarrow\":false,\"text\":\"0.34\",\"x\":0.34375469081661797,\"xref\":\"x\",\"y\":0.34375469081661797,\"yref\":\"y\"},{\"font\":{\"color\":\"black\"},\"showarrow\":false,\"text\":\"-0.27\",\"x\":-0.2711835080577907,\"xref\":\"x\",\"y\":-0.2711835080577907,\"yref\":\"y\"},{\"font\":{\"color\":\"black\"},\"showarrow\":false,\"text\":\"1.0\",\"x\":1.0,\"xref\":\"x\",\"y\":1.0,\"yref\":\"y\"},{\"font\":{\"color\":\"black\"},\"showarrow\":false,\"text\":\"0.08\",\"x\":0.075270492075742,\"xref\":\"x\",\"y\":0.075270492075742,\"yref\":\"y\"},{\"font\":{\"color\":\"black\"},\"showarrow\":false,\"text\":\"-0.77\",\"x\":-0.7675674004222914,\"xref\":\"x\",\"y\":-0.7675674004222914,\"yref\":\"y\"},{\"font\":{\"color\":\"black\"},\"showarrow\":false,\"text\":\"0.06\",\"x\":0.0607971016765906,\"xref\":\"x\",\"y\":0.06079710167659061,\"yref\":\"y\"},{\"font\":{\"color\":\"black\"},\"showarrow\":false,\"text\":\"0.23\",\"x\":0.23196261499406412,\"xref\":\"x\",\"y\":0.2319626149940641,\"yref\":\"y\"},{\"font\":{\"color\":\"black\"},\"showarrow\":false,\"text\":\"0.16\",\"x\":0.16105176881735017,\"xref\":\"x\",\"y\":0.16105176881735017,\"yref\":\"y\"},{\"font\":{\"color\":\"black\"},\"showarrow\":false,\"text\":\"0.14\",\"x\":0.14012459386714746,\"xref\":\"x\",\"y\":0.14012459386714743,\"yref\":\"y\"},{\"font\":{\"color\":\"black\"},\"showarrow\":false,\"text\":\"0.42\",\"x\":0.4172682876424888,\"xref\":\"x\",\"y\":0.41726828764248874,\"yref\":\"y\"},{\"font\":{\"color\":\"black\"},\"showarrow\":false,\"text\":\"-0.16\",\"x\":-0.16269112054969642,\"xref\":\"x\",\"y\":-0.16269112054969645,\"yref\":\"y\"},{\"font\":{\"color\":\"black\"},\"showarrow\":false,\"text\":\"0.57\",\"x\":0.568595707610212,\"xref\":\"x\",\"y\":0.568595707610212,\"yref\":\"y\"},{\"font\":{\"color\":\"black\"},\"showarrow\":false,\"text\":\"0.08\",\"x\":0.075270492075742,\"xref\":\"x\",\"y\":0.075270492075742,\"yref\":\"y\"},{\"font\":{\"color\":\"black\"},\"showarrow\":false,\"text\":\"1.0\",\"x\":1.0,\"xref\":\"x\",\"y\":1.0,\"yref\":\"y\"}],\"template\":{\"data\":{\"bar\":[{\"error_x\":{\"color\":\"#2a3f5f\"},\"error_y\":{\"color\":\"#2a3f5f\"},\"marker\":{\"line\":{\"color\":\"#E5ECF6\",\"width\":0.5},\"pattern\":{\"fillmode\":\"overlay\",\"size\":10,\"solidity\":0.2}},\"type\":\"bar\"}],\"barpolar\":[{\"marker\":{\"line\":{\"color\":\"#E5ECF6\",\"width\":0.5},\"pattern\":{\"fillmode\":\"overlay\",\"size\":10,\"solidity\":0.2}},\"type\":\"barpolar\"}],\"carpet\":[{\"aaxis\":{\"endlinecolor\":\"#2a3f5f\",\"gridcolor\":\"white\",\"linecolor\":\"white\",\"minorgridcolor\":\"white\",\"startlinecolor\":\"#2a3f5f\"},\"baxis\":{\"endlinecolor\":\"#2a3f5f\",\"gridcolor\":\"white\",\"linecolor\":\"white\",\"minorgridcolor\":\"white\",\"startlinecolor\":\"#2a3f5f\"},\"type\":\"carpet\"}],\"choropleth\":[{\"colorbar\":{\"outlinewidth\":0,\"ticks\":\"\"},\"type\":\"choropleth\"}],\"contour\":[{\"colorbar\":{\"outlinewidth\":0,\"ticks\":\"\"},\"colorscale\":[[0.0,\"#0d0887\"],[0.1111111111111111,\"#46039f\"],[0.2222222222222222,\"#7201a8\"],[0.3333333333333333,\"#9c179e\"],[0.4444444444444444,\"#bd3786\"],[0.5555555555555556,\"#d8576b\"],[0.6666666666666666,\"#ed7953\"],[0.7777777777777778,\"#fb9f3a\"],[0.8888888888888888,\"#fdca26\"],[1.0,\"#f0f921\"]],\"type\":\"contour\"}],\"contourcarpet\":[{\"colorbar\":{\"outlinewidth\":0,\"ticks\":\"\"},\"type\":\"contourcarpet\"}],\"heatmap\":[{\"colorbar\":{\"outlinewidth\":0,\"ticks\":\"\"},\"colorscale\":[[0.0,\"#0d0887\"],[0.1111111111111111,\"#46039f\"],[0.2222222222222222,\"#7201a8\"],[0.3333333333333333,\"#9c179e\"],[0.4444444444444444,\"#bd3786\"],[0.5555555555555556,\"#d8576b\"],[0.6666666666666666,\"#ed7953\"],[0.7777777777777778,\"#fb9f3a\"],[0.8888888888888888,\"#fdca26\"],[1.0,\"#f0f921\"]],\"type\":\"heatmap\"}],\"heatmapgl\":[{\"colorbar\":{\"outlinewidth\":0,\"ticks\":\"\"},\"colorscale\":[[0.0,\"#0d0887\"],[0.1111111111111111,\"#46039f\"],[0.2222222222222222,\"#7201a8\"],[0.3333333333333333,\"#9c179e\"],[0.4444444444444444,\"#bd3786\"],[0.5555555555555556,\"#d8576b\"],[0.6666666666666666,\"#ed7953\"],[0.7777777777777778,\"#fb9f3a\"],[0.8888888888888888,\"#fdca26\"],[1.0,\"#f0f921\"]],\"type\":\"heatmapgl\"}],\"histogram\":[{\"marker\":{\"pattern\":{\"fillmode\":\"overlay\",\"size\":10,\"solidity\":0.2}},\"type\":\"histogram\"}],\"histogram2d\":[{\"colorbar\":{\"outlinewidth\":0,\"ticks\":\"\"},\"colorscale\":[[0.0,\"#0d0887\"],[0.1111111111111111,\"#46039f\"],[0.2222222222222222,\"#7201a8\"],[0.3333333333333333,\"#9c179e\"],[0.4444444444444444,\"#bd3786\"],[0.5555555555555556,\"#d8576b\"],[0.6666666666666666,\"#ed7953\"],[0.7777777777777778,\"#fb9f3a\"],[0.8888888888888888,\"#fdca26\"],[1.0,\"#f0f921\"]],\"type\":\"histogram2d\"}],\"histogram2dcontour\":[{\"colorbar\":{\"outlinewidth\":0,\"ticks\":\"\"},\"colorscale\":[[0.0,\"#0d0887\"],[0.1111111111111111,\"#46039f\"],[0.2222222222222222,\"#7201a8\"],[0.3333333333333333,\"#9c179e\"],[0.4444444444444444,\"#bd3786\"],[0.5555555555555556,\"#d8576b\"],[0.6666666666666666,\"#ed7953\"],[0.7777777777777778,\"#fb9f3a\"],[0.8888888888888888,\"#fdca26\"],[1.0,\"#f0f921\"]],\"type\":\"histogram2dcontour\"}],\"mesh3d\":[{\"colorbar\":{\"outlinewidth\":0,\"ticks\":\"\"},\"type\":\"mesh3d\"}],\"parcoords\":[{\"line\":{\"colorbar\":{\"outlinewidth\":0,\"ticks\":\"\"}},\"type\":\"parcoords\"}],\"pie\":[{\"automargin\":true,\"type\":\"pie\"}],\"scatter\":[{\"marker\":{\"colorbar\":{\"outlinewidth\":0,\"ticks\":\"\"}},\"type\":\"scatter\"}],\"scatter3d\":[{\"line\":{\"colorbar\":{\"outlinewidth\":0,\"ticks\":\"\"}},\"marker\":{\"colorbar\":{\"outlinewidth\":0,\"ticks\":\"\"}},\"type\":\"scatter3d\"}],\"scattercarpet\":[{\"marker\":{\"colorbar\":{\"outlinewidth\":0,\"ticks\":\"\"}},\"type\":\"scattercarpet\"}],\"scattergeo\":[{\"marker\":{\"colorbar\":{\"outlinewidth\":0,\"ticks\":\"\"}},\"type\":\"scattergeo\"}],\"scattergl\":[{\"marker\":{\"colorbar\":{\"outlinewidth\":0,\"ticks\":\"\"}},\"type\":\"scattergl\"}],\"scattermapbox\":[{\"marker\":{\"colorbar\":{\"outlinewidth\":0,\"ticks\":\"\"}},\"type\":\"scattermapbox\"}],\"scatterpolar\":[{\"marker\":{\"colorbar\":{\"outlinewidth\":0,\"ticks\":\"\"}},\"type\":\"scatterpolar\"}],\"scatterpolargl\":[{\"marker\":{\"colorbar\":{\"outlinewidth\":0,\"ticks\":\"\"}},\"type\":\"scatterpolargl\"}],\"scatterternary\":[{\"marker\":{\"colorbar\":{\"outlinewidth\":0,\"ticks\":\"\"}},\"type\":\"scatterternary\"}],\"surface\":[{\"colorbar\":{\"outlinewidth\":0,\"ticks\":\"\"},\"colorscale\":[[0.0,\"#0d0887\"],[0.1111111111111111,\"#46039f\"],[0.2222222222222222,\"#7201a8\"],[0.3333333333333333,\"#9c179e\"],[0.4444444444444444,\"#bd3786\"],[0.5555555555555556,\"#d8576b\"],[0.6666666666666666,\"#ed7953\"],[0.7777777777777778,\"#fb9f3a\"],[0.8888888888888888,\"#fdca26\"],[1.0,\"#f0f921\"]],\"type\":\"surface\"}],\"table\":[{\"cells\":{\"fill\":{\"color\":\"#EBF0F8\"},\"line\":{\"color\":\"white\"}},\"header\":{\"fill\":{\"color\":\"#C8D4E3\"},\"line\":{\"color\":\"white\"}},\"type\":\"table\"}]},\"layout\":{\"annotationdefaults\":{\"arrowcolor\":\"#2a3f5f\",\"arrowhead\":0,\"arrowwidth\":1},\"autotypenumbers\":\"strict\",\"coloraxis\":{\"colorbar\":{\"outlinewidth\":0,\"ticks\":\"\"}},\"colorscale\":{\"diverging\":[[0,\"#8e0152\"],[0.1,\"#c51b7d\"],[0.2,\"#de77ae\"],[0.3,\"#f1b6da\"],[0.4,\"#fde0ef\"],[0.5,\"#f7f7f7\"],[0.6,\"#e6f5d0\"],[0.7,\"#b8e186\"],[0.8,\"#7fbc41\"],[0.9,\"#4d9221\"],[1,\"#276419\"]],\"sequential\":[[0.0,\"#0d0887\"],[0.1111111111111111,\"#46039f\"],[0.2222222222222222,\"#7201a8\"],[0.3333333333333333,\"#9c179e\"],[0.4444444444444444,\"#bd3786\"],[0.5555555555555556,\"#d8576b\"],[0.6666666666666666,\"#ed7953\"],[0.7777777777777778,\"#fb9f3a\"],[0.8888888888888888,\"#fdca26\"],[1.0,\"#f0f921\"]],\"sequentialminus\":[[0.0,\"#0d0887\"],[0.1111111111111111,\"#46039f\"],[0.2222222222222222,\"#7201a8\"],[0.3333333333333333,\"#9c179e\"],[0.4444444444444444,\"#bd3786\"],[0.5555555555555556,\"#d8576b\"],[0.6666666666666666,\"#ed7953\"],[0.7777777777777778,\"#fb9f3a\"],[0.8888888888888888,\"#fdca26\"],[1.0,\"#f0f921\"]]},\"colorway\":[\"#636efa\",\"#EF553B\",\"#00cc96\",\"#ab63fa\",\"#FFA15A\",\"#19d3f3\",\"#FF6692\",\"#B6E880\",\"#FF97FF\",\"#FECB52\"],\"font\":{\"color\":\"#2a3f5f\"},\"geo\":{\"bgcolor\":\"white\",\"lakecolor\":\"white\",\"landcolor\":\"#E5ECF6\",\"showlakes\":true,\"showland\":true,\"subunitcolor\":\"white\"},\"hoverlabel\":{\"align\":\"left\"},\"hovermode\":\"closest\",\"mapbox\":{\"style\":\"light\"},\"paper_bgcolor\":\"white\",\"plot_bgcolor\":\"#E5ECF6\",\"polar\":{\"angularaxis\":{\"gridcolor\":\"white\",\"linecolor\":\"white\",\"ticks\":\"\"},\"bgcolor\":\"#E5ECF6\",\"radialaxis\":{\"gridcolor\":\"white\",\"linecolor\":\"white\",\"ticks\":\"\"}},\"scene\":{\"xaxis\":{\"backgroundcolor\":\"#E5ECF6\",\"gridcolor\":\"white\",\"gridwidth\":2,\"linecolor\":\"white\",\"showbackground\":true,\"ticks\":\"\",\"zerolinecolor\":\"white\"},\"yaxis\":{\"backgroundcolor\":\"#E5ECF6\",\"gridcolor\":\"white\",\"gridwidth\":2,\"linecolor\":\"white\",\"showbackground\":true,\"ticks\":\"\",\"zerolinecolor\":\"white\"},\"zaxis\":{\"backgroundcolor\":\"#E5ECF6\",\"gridcolor\":\"white\",\"gridwidth\":2,\"linecolor\":\"white\",\"showbackground\":true,\"ticks\":\"\",\"zerolinecolor\":\"white\"}},\"shapedefaults\":{\"line\":{\"color\":\"#2a3f5f\"}},\"ternary\":{\"aaxis\":{\"gridcolor\":\"white\",\"linecolor\":\"white\",\"ticks\":\"\"},\"baxis\":{\"gridcolor\":\"white\",\"linecolor\":\"white\",\"ticks\":\"\"},\"bgcolor\":\"#E5ECF6\",\"caxis\":{\"gridcolor\":\"white\",\"linecolor\":\"white\",\"ticks\":\"\"}},\"title\":{\"x\":0.05},\"xaxis\":{\"automargin\":true,\"gridcolor\":\"white\",\"linecolor\":\"white\",\"ticks\":\"\",\"title\":{\"standoff\":15},\"zerolinecolor\":\"white\",\"zerolinewidth\":2},\"yaxis\":{\"automargin\":true,\"gridcolor\":\"white\",\"linecolor\":\"white\",\"ticks\":\"\",\"title\":{\"standoff\":15},\"zerolinecolor\":\"white\",\"zerolinewidth\":2}}},\"title\":{\"text\":\"Correlation Heatmap\"}},                        {\"responsive\": true}                    ).then(function(){\n",
       "                            \n",
       "var gd = document.getElementById('31c77535-5dec-42bf-b289-2c47067795df');\n",
       "var x = new MutationObserver(function (mutations, observer) {{\n",
       "        var display = window.getComputedStyle(gd).display;\n",
       "        if (!display || display === 'none') {{\n",
       "            console.log([gd, 'removed!']);\n",
       "            Plotly.purge(gd);\n",
       "            observer.disconnect();\n",
       "        }}\n",
       "}});\n",
       "\n",
       "// Listen for the removal of the full notebook cells\n",
       "var notebookContainer = gd.closest('#notebook-container');\n",
       "if (notebookContainer) {{\n",
       "    x.observe(notebookContainer, {childList: true});\n",
       "}}\n",
       "\n",
       "// Listen for the clearing of the current output cell\n",
       "var outputEl = gd.closest('.output');\n",
       "if (outputEl) {{\n",
       "    x.observe(outputEl, {childList: true});\n",
       "}}\n",
       "\n",
       "                        })                };                });            </script>        </div>"
      ]
     },
     "metadata": {},
     "output_type": "display_data"
    }
   ],
   "source": [
    "import plotly.graph_objs as go\n",
    "import numpy as np\n",
    "\n",
    "# Create some example data\n",
    "z = np.corrcoef(np.random.rand(10, 10))\n",
    "\n",
    "# Create the heatmap trace\n",
    "heatmap = go.Heatmap(\n",
    "    z=z,\n",
    "    x=['Var 1', 'Var 2', 'Var 3', 'Var 4', 'Var 5', 'Var 6', 'Var 7', 'Var 8', 'Var 9', 'Var 10'],\n",
    "    y=['Var 1', 'Var 2', 'Var 3', 'Var 4', 'Var 5', 'Var 6', 'Var 7', 'Var 8', 'Var 9', 'Var 10'],\n",
    "    colorscale='RdBu',\n",
    "    zmin=-1,\n",
    "    zmax=1,\n",
    "    colorbar=dict(title='Correlation')\n",
    ")\n",
    "\n",
    "# Add annotations\n",
    "annotations = []\n",
    "for i in range(len(z)):\n",
    "    for j in range(len(z)):\n",
    "        annotations.append(\n",
    "            go.layout.Annotation(\n",
    "                x=z[j][i],\n",
    "                y=z[i][j],\n",
    "                text=str(round(z[i][j], 2)),\n",
    "                showarrow=False,\n",
    "                font=dict(color='black'),\n",
    "                xref='x1',\n",
    "                yref='y1'\n",
    "            )\n",
    "        )\n",
    "\n",
    "# Create the layout\n",
    "layout = go.Layout(\n",
    "    title='Correlation Heatmap',\n",
    "    annotations=annotations\n",
    ")\n",
    "\n",
    "# Create the figure\n",
    "fig = go.Figure(data=[heatmap], layout=layout)\n",
    "\n",
    "# Show the figure\n",
    "fig.show()\n"
   ]
  },
  {
   "cell_type": "code",
   "execution_count": 39,
   "metadata": {},
   "outputs": [
    {
     "data": {
      "application/vnd.plotly.v1+json": {
       "config": {
        "plotlyServerURL": "https://plotly.com"
       },
       "data": [
        {
         "colorbar": {
          "title": {
           "text": "Correlation"
          }
         },
         "colorscale": [
          [
           0,
           "rgb(103,0,31)"
          ],
          [
           0.1,
           "rgb(178,24,43)"
          ],
          [
           0.2,
           "rgb(214,96,77)"
          ],
          [
           0.3,
           "rgb(244,165,130)"
          ],
          [
           0.4,
           "rgb(253,219,199)"
          ],
          [
           0.5,
           "rgb(247,247,247)"
          ],
          [
           0.6,
           "rgb(209,229,240)"
          ],
          [
           0.7,
           "rgb(146,197,222)"
          ],
          [
           0.8,
           "rgb(67,147,195)"
          ],
          [
           0.9,
           "rgb(33,102,172)"
          ],
          [
           1,
           "rgb(5,48,97)"
          ]
         ],
         "type": "heatmap",
         "x": [
          "Australia",
          "Brazil",
          "Canada",
          "China",
          "France",
          "Germany",
          "India",
          "Indonesia",
          "Italy",
          "Japan",
          "Mexico",
          "Russia",
          "Saudi Arabia",
          "South Africa",
          "South Korea",
          "Turkey",
          "United Kingdom",
          "United States"
         ],
         "y": [
          "Australia",
          "Brazil",
          "Canada",
          "China",
          "France",
          "Germany",
          "India",
          "Indonesia",
          "Italy",
          "Japan",
          "Mexico",
          "Russia",
          "Saudi Arabia",
          "South Africa",
          "South Korea",
          "Turkey",
          "United Kingdom",
          "United States"
         ],
         "z": [
          [
           1,
           0.9980329266395428,
           0.5867957430160645,
           0.524845408328376,
           0.8933194484622063,
           0.9397019371421607,
           0.7684229998229656,
           0.7804402596886771,
           0.13679761494122797,
           0.748804784284202,
           0.4737274062056085,
           0.38389979547902253,
           0.7711455875488896,
           -0.05967038003247364,
           0.7856542837639875,
           0.7515619752708759,
           0.6842024695949764,
           0.8613789695840384
          ],
          [
           0.9980329266395428,
           1,
           0.5661792060990132,
           0.527417771390648,
           0.8888177029500384,
           0.9536101308788714,
           0.765955418086129,
           0.7752912667843034,
           0.13140827859133447,
           0.7515796137489186,
           0.45991227012481806,
           0.3607558272702929,
           0.7670975243494594,
           -0.08338868565144451,
           0.8007891920624037,
           0.7528434248458349,
           0.6780315979263245,
           0.8400559179911233
          ],
          [
           0.5867957430160645,
           0.5661792060990132,
           1,
           0.2459182470452293,
           0.5576252653515333,
           0.38258397938440875,
           0.4914594623293501,
           0.48741598417953824,
           0.5815807240455092,
           0.38066767359841075,
           0.48218188653998256,
           0.6270879853528416,
           0.554899789232765,
           0.17011131679351296,
           0.3402946535230921,
           0.5725471707733607,
           0.45121273588609173,
           0.6509597038396852
          ],
          [
           0.524845408328376,
           0.527417771390648,
           0.2459182470452293,
           1,
           0.4908202349093225,
           0.4629264591499913,
           0.6075770589850393,
           0.3783310364207248,
           -0.028682377800499332,
           0.4207624192070843,
           0.1573884998960086,
           0.17650795168713204,
           0.415585676532449,
           -0.1929500173628988,
           0.44054066589733426,
           0.40135060733628153,
           0.5520836678732701,
           0.4121666412899757
          ],
          [
           0.8933194484622063,
           0.8888177029500384,
           0.5576252653515333,
           0.4908202349093225,
           1,
           0.8142246259723382,
           0.7280524825485022,
           0.6163237276738904,
           0.17703596665472401,
           0.6476238655823233,
           0.4602636037041317,
           0.34662369749619987,
           0.6466250006488805,
           -0.11895484833565295,
           0.7149218870280275,
           0.7387549662727385,
           0.6932541633409178,
           0.8057982996082511
          ],
          [
           0.9397019371421607,
           0.9536101308788714,
           0.38258397938440875,
           0.4629264591499913,
           0.8142246259723382,
           1,
           0.6744968577822401,
           0.6940822082644922,
           -0.04863975650919586,
           0.6954440573734076,
           0.32581241072729566,
           0.2094065952051806,
           0.6893523616343529,
           -0.14445642437394351,
           0.7481241234608764,
           0.6374697670203188,
           0.6291295345521696,
           0.6956914004998938
          ],
          [
           0.7684229998229656,
           0.765955418086129,
           0.4914594623293501,
           0.6075770589850393,
           0.7280524825485022,
           0.6744968577822401,
           1,
           0.6457381785274899,
           0.15590663248436676,
           0.6835767109255645,
           0.4419770412720791,
           0.23547533285566324,
           0.6861941537441607,
           -0.29812295208698203,
           0.6078600289981847,
           0.7367270138178194,
           0.7568419191979942,
           0.6013595664312766
          ],
          [
           0.7804402596886771,
           0.7752912667843034,
           0.48741598417953824,
           0.3783310364207248,
           0.6163237276738904,
           0.6940822082644922,
           0.6457381785274899,
           1,
           0.061965233979919064,
           0.6894172805868769,
           0.3100758094792302,
           0.2056912515958557,
           0.6484349949205961,
           -0.0794732835334131,
           0.6531329354399196,
           0.6009726676619486,
           0.4749939350578116,
           0.5885616682528044
          ],
          [
           0.13679761494122797,
           0.13140827859133447,
           0.5815807240455092,
           -0.028682377800499332,
           0.17703596665472401,
           -0.04863975650919586,
           0.15590663248436676,
           0.061965233979919064,
           1,
           0.05942532696552297,
           0.3664439361588767,
           0.6097619064425848,
           0.1904077398668048,
           0.09795924856517488,
           0.010038209437970262,
           0.30929958390069634,
           0.06786342198908306,
           0.26801877429746773
          ],
          [
           0.748804784284202,
           0.7515796137489186,
           0.38066767359841075,
           0.4207624192070843,
           0.6476238655823233,
           0.6954440573734076,
           0.6835767109255645,
           0.6894172805868769,
           0.05942532696552297,
           1,
           0.32053043471160103,
           0.18194870385366957,
           0.580812286310055,
           -0.21924517219493192,
           0.6668080936721641,
           0.6443700472980675,
           0.550132740512133,
           0.5961377233918516
          ],
          [
           0.4737274062056085,
           0.45991227012481806,
           0.48218188653998256,
           0.1573884998960086,
           0.4602636037041317,
           0.32581241072729566,
           0.4419770412720791,
           0.3100758094792302,
           0.3664439361588767,
           0.32053043471160103,
           1,
           0.34911604734388674,
           0.3892213821819724,
           0.15140852314715822,
           0.3553187450841252,
           0.47020812700802617,
           0.3083297151569262,
           0.5301373656212736
          ],
          [
           0.38389979547902253,
           0.3607558272702929,
           0.6270879853528416,
           0.17650795168713204,
           0.34662369749619987,
           0.2094065952051806,
           0.23547533285566324,
           0.2056912515958557,
           0.6097619064425848,
           0.18194870385366957,
           0.34911604734388674,
           1,
           0.3200459567591256,
           0.25148489674088587,
           0.14277793487503712,
           0.25396453815066333,
           0.27380045138737125,
           0.4435761794020935
          ],
          [
           0.7711455875488896,
           0.7670975243494594,
           0.554899789232765,
           0.415585676532449,
           0.6466250006488805,
           0.6893523616343529,
           0.6861941537441607,
           0.6484349949205961,
           0.1904077398668048,
           0.580812286310055,
           0.3892213821819724,
           0.3200459567591256,
           1,
           0.05163886094553703,
           0.5355322805608936,
           0.5534906000048408,
           0.5928826380087678,
           0.6756487110845072
          ],
          [
           -0.05967038003247364,
           -0.08338868565144451,
           0.17011131679351296,
           -0.1929500173628988,
           -0.11895484833565295,
           -0.14445642437394351,
           -0.29812295208698203,
           -0.0794732835334131,
           0.09795924856517488,
           -0.21924517219493192,
           0.15140852314715822,
           0.25148489674088587,
           0.05163886094553703,
           1,
           -0.1880409867282436,
           -0.2733573402842121,
           -0.2461388107588147,
           0.12417277706108494
          ],
          [
           0.7856542837639875,
           0.8007891920624037,
           0.3402946535230921,
           0.44054066589733426,
           0.7149218870280275,
           0.7481241234608764,
           0.6078600289981847,
           0.6531329354399196,
           0.010038209437970262,
           0.6668080936721641,
           0.3553187450841252,
           0.14277793487503712,
           0.5355322805608936,
           -0.1880409867282436,
           1,
           0.6882698695026167,
           0.44869858051875355,
           0.6247613107213019
          ],
          [
           0.7515619752708759,
           0.7528434248458349,
           0.5725471707733607,
           0.40135060733628153,
           0.7387549662727385,
           0.6374697670203188,
           0.7367270138178194,
           0.6009726676619486,
           0.30929958390069634,
           0.6443700472980675,
           0.47020812700802617,
           0.25396453815066333,
           0.5534906000048408,
           -0.2733573402842121,
           0.6882698695026167,
           1,
           0.5497686055829981,
           0.6915286433427912
          ],
          [
           0.6842024695949764,
           0.6780315979263245,
           0.45121273588609173,
           0.5520836678732701,
           0.6932541633409178,
           0.6291295345521696,
           0.7568419191979942,
           0.4749939350578116,
           0.06786342198908306,
           0.550132740512133,
           0.3083297151569262,
           0.27380045138737125,
           0.5928826380087678,
           -0.2461388107588147,
           0.44869858051875355,
           0.5497686055829981,
           1,
           0.49853347394185266
          ],
          [
           0.8613789695840384,
           0.8400559179911233,
           0.6509597038396852,
           0.4121666412899757,
           0.8057982996082511,
           0.6956914004998938,
           0.6013595664312766,
           0.5885616682528044,
           0.26801877429746773,
           0.5961377233918516,
           0.5301373656212736,
           0.4435761794020935,
           0.6756487110845072,
           0.12417277706108494,
           0.6247613107213019,
           0.6915286433427912,
           0.49853347394185266,
           1
          ]
         ],
         "zmax": 1,
         "zmin": -1
        }
       ],
       "layout": {
        "annotations": [
         {
          "font": {
           "color": "black",
           "size": 10
          },
          "showarrow": false,
          "text": "1.00",
          "x": "Australia",
          "y": "Australia"
         },
         {
          "font": {
           "color": "black",
           "size": 10
          },
          "showarrow": false,
          "text": "1.00",
          "x": "Brazil",
          "y": "Australia"
         },
         {
          "font": {
           "color": "black",
           "size": 10
          },
          "showarrow": false,
          "text": "0.59",
          "x": "Canada",
          "y": "Australia"
         },
         {
          "font": {
           "color": "black",
           "size": 10
          },
          "showarrow": false,
          "text": "0.52",
          "x": "China",
          "y": "Australia"
         },
         {
          "font": {
           "color": "black",
           "size": 10
          },
          "showarrow": false,
          "text": "0.89",
          "x": "France",
          "y": "Australia"
         },
         {
          "font": {
           "color": "black",
           "size": 10
          },
          "showarrow": false,
          "text": "0.94",
          "x": "Germany",
          "y": "Australia"
         },
         {
          "font": {
           "color": "black",
           "size": 10
          },
          "showarrow": false,
          "text": "0.77",
          "x": "India",
          "y": "Australia"
         },
         {
          "font": {
           "color": "black",
           "size": 10
          },
          "showarrow": false,
          "text": "0.78",
          "x": "Indonesia",
          "y": "Australia"
         },
         {
          "font": {
           "color": "black",
           "size": 10
          },
          "showarrow": false,
          "text": "0.14",
          "x": "Italy",
          "y": "Australia"
         },
         {
          "font": {
           "color": "black",
           "size": 10
          },
          "showarrow": false,
          "text": "0.75",
          "x": "Japan",
          "y": "Australia"
         },
         {
          "font": {
           "color": "black",
           "size": 10
          },
          "showarrow": false,
          "text": "0.47",
          "x": "Mexico",
          "y": "Australia"
         },
         {
          "font": {
           "color": "black",
           "size": 10
          },
          "showarrow": false,
          "text": "0.38",
          "x": "Russia",
          "y": "Australia"
         },
         {
          "font": {
           "color": "black",
           "size": 10
          },
          "showarrow": false,
          "text": "0.77",
          "x": "Saudi Arabia",
          "y": "Australia"
         },
         {
          "font": {
           "color": "black",
           "size": 10
          },
          "showarrow": false,
          "text": "-0.06",
          "x": "South Africa",
          "y": "Australia"
         },
         {
          "font": {
           "color": "black",
           "size": 10
          },
          "showarrow": false,
          "text": "0.79",
          "x": "South Korea",
          "y": "Australia"
         },
         {
          "font": {
           "color": "black",
           "size": 10
          },
          "showarrow": false,
          "text": "0.75",
          "x": "Turkey",
          "y": "Australia"
         },
         {
          "font": {
           "color": "black",
           "size": 10
          },
          "showarrow": false,
          "text": "0.68",
          "x": "United Kingdom",
          "y": "Australia"
         },
         {
          "font": {
           "color": "black",
           "size": 10
          },
          "showarrow": false,
          "text": "0.86",
          "x": "United States",
          "y": "Australia"
         },
         {
          "font": {
           "color": "black",
           "size": 10
          },
          "showarrow": false,
          "text": "1.00",
          "x": "Australia",
          "y": "Brazil"
         },
         {
          "font": {
           "color": "black",
           "size": 10
          },
          "showarrow": false,
          "text": "1.00",
          "x": "Brazil",
          "y": "Brazil"
         },
         {
          "font": {
           "color": "black",
           "size": 10
          },
          "showarrow": false,
          "text": "0.57",
          "x": "Canada",
          "y": "Brazil"
         },
         {
          "font": {
           "color": "black",
           "size": 10
          },
          "showarrow": false,
          "text": "0.53",
          "x": "China",
          "y": "Brazil"
         },
         {
          "font": {
           "color": "black",
           "size": 10
          },
          "showarrow": false,
          "text": "0.89",
          "x": "France",
          "y": "Brazil"
         },
         {
          "font": {
           "color": "black",
           "size": 10
          },
          "showarrow": false,
          "text": "0.95",
          "x": "Germany",
          "y": "Brazil"
         },
         {
          "font": {
           "color": "black",
           "size": 10
          },
          "showarrow": false,
          "text": "0.77",
          "x": "India",
          "y": "Brazil"
         },
         {
          "font": {
           "color": "black",
           "size": 10
          },
          "showarrow": false,
          "text": "0.78",
          "x": "Indonesia",
          "y": "Brazil"
         },
         {
          "font": {
           "color": "black",
           "size": 10
          },
          "showarrow": false,
          "text": "0.13",
          "x": "Italy",
          "y": "Brazil"
         },
         {
          "font": {
           "color": "black",
           "size": 10
          },
          "showarrow": false,
          "text": "0.75",
          "x": "Japan",
          "y": "Brazil"
         },
         {
          "font": {
           "color": "black",
           "size": 10
          },
          "showarrow": false,
          "text": "0.46",
          "x": "Mexico",
          "y": "Brazil"
         },
         {
          "font": {
           "color": "black",
           "size": 10
          },
          "showarrow": false,
          "text": "0.36",
          "x": "Russia",
          "y": "Brazil"
         },
         {
          "font": {
           "color": "black",
           "size": 10
          },
          "showarrow": false,
          "text": "0.77",
          "x": "Saudi Arabia",
          "y": "Brazil"
         },
         {
          "font": {
           "color": "black",
           "size": 10
          },
          "showarrow": false,
          "text": "-0.08",
          "x": "South Africa",
          "y": "Brazil"
         },
         {
          "font": {
           "color": "black",
           "size": 10
          },
          "showarrow": false,
          "text": "0.80",
          "x": "South Korea",
          "y": "Brazil"
         },
         {
          "font": {
           "color": "black",
           "size": 10
          },
          "showarrow": false,
          "text": "0.75",
          "x": "Turkey",
          "y": "Brazil"
         },
         {
          "font": {
           "color": "black",
           "size": 10
          },
          "showarrow": false,
          "text": "0.68",
          "x": "United Kingdom",
          "y": "Brazil"
         },
         {
          "font": {
           "color": "black",
           "size": 10
          },
          "showarrow": false,
          "text": "0.84",
          "x": "United States",
          "y": "Brazil"
         },
         {
          "font": {
           "color": "black",
           "size": 10
          },
          "showarrow": false,
          "text": "0.59",
          "x": "Australia",
          "y": "Canada"
         },
         {
          "font": {
           "color": "black",
           "size": 10
          },
          "showarrow": false,
          "text": "0.57",
          "x": "Brazil",
          "y": "Canada"
         },
         {
          "font": {
           "color": "black",
           "size": 10
          },
          "showarrow": false,
          "text": "1.00",
          "x": "Canada",
          "y": "Canada"
         },
         {
          "font": {
           "color": "black",
           "size": 10
          },
          "showarrow": false,
          "text": "0.25",
          "x": "China",
          "y": "Canada"
         },
         {
          "font": {
           "color": "black",
           "size": 10
          },
          "showarrow": false,
          "text": "0.56",
          "x": "France",
          "y": "Canada"
         },
         {
          "font": {
           "color": "black",
           "size": 10
          },
          "showarrow": false,
          "text": "0.38",
          "x": "Germany",
          "y": "Canada"
         },
         {
          "font": {
           "color": "black",
           "size": 10
          },
          "showarrow": false,
          "text": "0.49",
          "x": "India",
          "y": "Canada"
         },
         {
          "font": {
           "color": "black",
           "size": 10
          },
          "showarrow": false,
          "text": "0.49",
          "x": "Indonesia",
          "y": "Canada"
         },
         {
          "font": {
           "color": "black",
           "size": 10
          },
          "showarrow": false,
          "text": "0.58",
          "x": "Italy",
          "y": "Canada"
         },
         {
          "font": {
           "color": "black",
           "size": 10
          },
          "showarrow": false,
          "text": "0.38",
          "x": "Japan",
          "y": "Canada"
         },
         {
          "font": {
           "color": "black",
           "size": 10
          },
          "showarrow": false,
          "text": "0.48",
          "x": "Mexico",
          "y": "Canada"
         },
         {
          "font": {
           "color": "black",
           "size": 10
          },
          "showarrow": false,
          "text": "0.63",
          "x": "Russia",
          "y": "Canada"
         },
         {
          "font": {
           "color": "black",
           "size": 10
          },
          "showarrow": false,
          "text": "0.55",
          "x": "Saudi Arabia",
          "y": "Canada"
         },
         {
          "font": {
           "color": "black",
           "size": 10
          },
          "showarrow": false,
          "text": "0.17",
          "x": "South Africa",
          "y": "Canada"
         },
         {
          "font": {
           "color": "black",
           "size": 10
          },
          "showarrow": false,
          "text": "0.34",
          "x": "South Korea",
          "y": "Canada"
         },
         {
          "font": {
           "color": "black",
           "size": 10
          },
          "showarrow": false,
          "text": "0.57",
          "x": "Turkey",
          "y": "Canada"
         },
         {
          "font": {
           "color": "black",
           "size": 10
          },
          "showarrow": false,
          "text": "0.45",
          "x": "United Kingdom",
          "y": "Canada"
         },
         {
          "font": {
           "color": "black",
           "size": 10
          },
          "showarrow": false,
          "text": "0.65",
          "x": "United States",
          "y": "Canada"
         },
         {
          "font": {
           "color": "black",
           "size": 10
          },
          "showarrow": false,
          "text": "0.52",
          "x": "Australia",
          "y": "China"
         },
         {
          "font": {
           "color": "black",
           "size": 10
          },
          "showarrow": false,
          "text": "0.53",
          "x": "Brazil",
          "y": "China"
         },
         {
          "font": {
           "color": "black",
           "size": 10
          },
          "showarrow": false,
          "text": "0.25",
          "x": "Canada",
          "y": "China"
         },
         {
          "font": {
           "color": "black",
           "size": 10
          },
          "showarrow": false,
          "text": "1.00",
          "x": "China",
          "y": "China"
         },
         {
          "font": {
           "color": "black",
           "size": 10
          },
          "showarrow": false,
          "text": "0.49",
          "x": "France",
          "y": "China"
         },
         {
          "font": {
           "color": "black",
           "size": 10
          },
          "showarrow": false,
          "text": "0.46",
          "x": "Germany",
          "y": "China"
         },
         {
          "font": {
           "color": "black",
           "size": 10
          },
          "showarrow": false,
          "text": "0.61",
          "x": "India",
          "y": "China"
         },
         {
          "font": {
           "color": "black",
           "size": 10
          },
          "showarrow": false,
          "text": "0.38",
          "x": "Indonesia",
          "y": "China"
         },
         {
          "font": {
           "color": "black",
           "size": 10
          },
          "showarrow": false,
          "text": "-0.03",
          "x": "Italy",
          "y": "China"
         },
         {
          "font": {
           "color": "black",
           "size": 10
          },
          "showarrow": false,
          "text": "0.42",
          "x": "Japan",
          "y": "China"
         },
         {
          "font": {
           "color": "black",
           "size": 10
          },
          "showarrow": false,
          "text": "0.16",
          "x": "Mexico",
          "y": "China"
         },
         {
          "font": {
           "color": "black",
           "size": 10
          },
          "showarrow": false,
          "text": "0.18",
          "x": "Russia",
          "y": "China"
         },
         {
          "font": {
           "color": "black",
           "size": 10
          },
          "showarrow": false,
          "text": "0.42",
          "x": "Saudi Arabia",
          "y": "China"
         },
         {
          "font": {
           "color": "black",
           "size": 10
          },
          "showarrow": false,
          "text": "-0.19",
          "x": "South Africa",
          "y": "China"
         },
         {
          "font": {
           "color": "black",
           "size": 10
          },
          "showarrow": false,
          "text": "0.44",
          "x": "South Korea",
          "y": "China"
         },
         {
          "font": {
           "color": "black",
           "size": 10
          },
          "showarrow": false,
          "text": "0.40",
          "x": "Turkey",
          "y": "China"
         },
         {
          "font": {
           "color": "black",
           "size": 10
          },
          "showarrow": false,
          "text": "0.55",
          "x": "United Kingdom",
          "y": "China"
         },
         {
          "font": {
           "color": "black",
           "size": 10
          },
          "showarrow": false,
          "text": "0.41",
          "x": "United States",
          "y": "China"
         },
         {
          "font": {
           "color": "black",
           "size": 10
          },
          "showarrow": false,
          "text": "0.89",
          "x": "Australia",
          "y": "France"
         },
         {
          "font": {
           "color": "black",
           "size": 10
          },
          "showarrow": false,
          "text": "0.89",
          "x": "Brazil",
          "y": "France"
         },
         {
          "font": {
           "color": "black",
           "size": 10
          },
          "showarrow": false,
          "text": "0.56",
          "x": "Canada",
          "y": "France"
         },
         {
          "font": {
           "color": "black",
           "size": 10
          },
          "showarrow": false,
          "text": "0.49",
          "x": "China",
          "y": "France"
         },
         {
          "font": {
           "color": "black",
           "size": 10
          },
          "showarrow": false,
          "text": "1.00",
          "x": "France",
          "y": "France"
         },
         {
          "font": {
           "color": "black",
           "size": 10
          },
          "showarrow": false,
          "text": "0.81",
          "x": "Germany",
          "y": "France"
         },
         {
          "font": {
           "color": "black",
           "size": 10
          },
          "showarrow": false,
          "text": "0.73",
          "x": "India",
          "y": "France"
         },
         {
          "font": {
           "color": "black",
           "size": 10
          },
          "showarrow": false,
          "text": "0.62",
          "x": "Indonesia",
          "y": "France"
         },
         {
          "font": {
           "color": "black",
           "size": 10
          },
          "showarrow": false,
          "text": "0.18",
          "x": "Italy",
          "y": "France"
         },
         {
          "font": {
           "color": "black",
           "size": 10
          },
          "showarrow": false,
          "text": "0.65",
          "x": "Japan",
          "y": "France"
         },
         {
          "font": {
           "color": "black",
           "size": 10
          },
          "showarrow": false,
          "text": "0.46",
          "x": "Mexico",
          "y": "France"
         },
         {
          "font": {
           "color": "black",
           "size": 10
          },
          "showarrow": false,
          "text": "0.35",
          "x": "Russia",
          "y": "France"
         },
         {
          "font": {
           "color": "black",
           "size": 10
          },
          "showarrow": false,
          "text": "0.65",
          "x": "Saudi Arabia",
          "y": "France"
         },
         {
          "font": {
           "color": "black",
           "size": 10
          },
          "showarrow": false,
          "text": "-0.12",
          "x": "South Africa",
          "y": "France"
         },
         {
          "font": {
           "color": "black",
           "size": 10
          },
          "showarrow": false,
          "text": "0.71",
          "x": "South Korea",
          "y": "France"
         },
         {
          "font": {
           "color": "black",
           "size": 10
          },
          "showarrow": false,
          "text": "0.74",
          "x": "Turkey",
          "y": "France"
         },
         {
          "font": {
           "color": "black",
           "size": 10
          },
          "showarrow": false,
          "text": "0.69",
          "x": "United Kingdom",
          "y": "France"
         },
         {
          "font": {
           "color": "black",
           "size": 10
          },
          "showarrow": false,
          "text": "0.81",
          "x": "United States",
          "y": "France"
         },
         {
          "font": {
           "color": "black",
           "size": 10
          },
          "showarrow": false,
          "text": "0.94",
          "x": "Australia",
          "y": "Germany"
         },
         {
          "font": {
           "color": "black",
           "size": 10
          },
          "showarrow": false,
          "text": "0.95",
          "x": "Brazil",
          "y": "Germany"
         },
         {
          "font": {
           "color": "black",
           "size": 10
          },
          "showarrow": false,
          "text": "0.38",
          "x": "Canada",
          "y": "Germany"
         },
         {
          "font": {
           "color": "black",
           "size": 10
          },
          "showarrow": false,
          "text": "0.46",
          "x": "China",
          "y": "Germany"
         },
         {
          "font": {
           "color": "black",
           "size": 10
          },
          "showarrow": false,
          "text": "0.81",
          "x": "France",
          "y": "Germany"
         },
         {
          "font": {
           "color": "black",
           "size": 10
          },
          "showarrow": false,
          "text": "1.00",
          "x": "Germany",
          "y": "Germany"
         },
         {
          "font": {
           "color": "black",
           "size": 10
          },
          "showarrow": false,
          "text": "0.67",
          "x": "India",
          "y": "Germany"
         },
         {
          "font": {
           "color": "black",
           "size": 10
          },
          "showarrow": false,
          "text": "0.69",
          "x": "Indonesia",
          "y": "Germany"
         },
         {
          "font": {
           "color": "black",
           "size": 10
          },
          "showarrow": false,
          "text": "-0.05",
          "x": "Italy",
          "y": "Germany"
         },
         {
          "font": {
           "color": "black",
           "size": 10
          },
          "showarrow": false,
          "text": "0.70",
          "x": "Japan",
          "y": "Germany"
         },
         {
          "font": {
           "color": "black",
           "size": 10
          },
          "showarrow": false,
          "text": "0.33",
          "x": "Mexico",
          "y": "Germany"
         },
         {
          "font": {
           "color": "black",
           "size": 10
          },
          "showarrow": false,
          "text": "0.21",
          "x": "Russia",
          "y": "Germany"
         },
         {
          "font": {
           "color": "black",
           "size": 10
          },
          "showarrow": false,
          "text": "0.69",
          "x": "Saudi Arabia",
          "y": "Germany"
         },
         {
          "font": {
           "color": "black",
           "size": 10
          },
          "showarrow": false,
          "text": "-0.14",
          "x": "South Africa",
          "y": "Germany"
         },
         {
          "font": {
           "color": "black",
           "size": 10
          },
          "showarrow": false,
          "text": "0.75",
          "x": "South Korea",
          "y": "Germany"
         },
         {
          "font": {
           "color": "black",
           "size": 10
          },
          "showarrow": false,
          "text": "0.64",
          "x": "Turkey",
          "y": "Germany"
         },
         {
          "font": {
           "color": "black",
           "size": 10
          },
          "showarrow": false,
          "text": "0.63",
          "x": "United Kingdom",
          "y": "Germany"
         },
         {
          "font": {
           "color": "black",
           "size": 10
          },
          "showarrow": false,
          "text": "0.70",
          "x": "United States",
          "y": "Germany"
         },
         {
          "font": {
           "color": "black",
           "size": 10
          },
          "showarrow": false,
          "text": "0.77",
          "x": "Australia",
          "y": "India"
         },
         {
          "font": {
           "color": "black",
           "size": 10
          },
          "showarrow": false,
          "text": "0.77",
          "x": "Brazil",
          "y": "India"
         },
         {
          "font": {
           "color": "black",
           "size": 10
          },
          "showarrow": false,
          "text": "0.49",
          "x": "Canada",
          "y": "India"
         },
         {
          "font": {
           "color": "black",
           "size": 10
          },
          "showarrow": false,
          "text": "0.61",
          "x": "China",
          "y": "India"
         },
         {
          "font": {
           "color": "black",
           "size": 10
          },
          "showarrow": false,
          "text": "0.73",
          "x": "France",
          "y": "India"
         },
         {
          "font": {
           "color": "black",
           "size": 10
          },
          "showarrow": false,
          "text": "0.67",
          "x": "Germany",
          "y": "India"
         },
         {
          "font": {
           "color": "black",
           "size": 10
          },
          "showarrow": false,
          "text": "1.00",
          "x": "India",
          "y": "India"
         },
         {
          "font": {
           "color": "black",
           "size": 10
          },
          "showarrow": false,
          "text": "0.65",
          "x": "Indonesia",
          "y": "India"
         },
         {
          "font": {
           "color": "black",
           "size": 10
          },
          "showarrow": false,
          "text": "0.16",
          "x": "Italy",
          "y": "India"
         },
         {
          "font": {
           "color": "black",
           "size": 10
          },
          "showarrow": false,
          "text": "0.68",
          "x": "Japan",
          "y": "India"
         },
         {
          "font": {
           "color": "black",
           "size": 10
          },
          "showarrow": false,
          "text": "0.44",
          "x": "Mexico",
          "y": "India"
         },
         {
          "font": {
           "color": "black",
           "size": 10
          },
          "showarrow": false,
          "text": "0.24",
          "x": "Russia",
          "y": "India"
         },
         {
          "font": {
           "color": "black",
           "size": 10
          },
          "showarrow": false,
          "text": "0.69",
          "x": "Saudi Arabia",
          "y": "India"
         },
         {
          "font": {
           "color": "black",
           "size": 10
          },
          "showarrow": false,
          "text": "-0.30",
          "x": "South Africa",
          "y": "India"
         },
         {
          "font": {
           "color": "black",
           "size": 10
          },
          "showarrow": false,
          "text": "0.61",
          "x": "South Korea",
          "y": "India"
         },
         {
          "font": {
           "color": "black",
           "size": 10
          },
          "showarrow": false,
          "text": "0.74",
          "x": "Turkey",
          "y": "India"
         },
         {
          "font": {
           "color": "black",
           "size": 10
          },
          "showarrow": false,
          "text": "0.76",
          "x": "United Kingdom",
          "y": "India"
         },
         {
          "font": {
           "color": "black",
           "size": 10
          },
          "showarrow": false,
          "text": "0.60",
          "x": "United States",
          "y": "India"
         },
         {
          "font": {
           "color": "black",
           "size": 10
          },
          "showarrow": false,
          "text": "0.78",
          "x": "Australia",
          "y": "Indonesia"
         },
         {
          "font": {
           "color": "black",
           "size": 10
          },
          "showarrow": false,
          "text": "0.78",
          "x": "Brazil",
          "y": "Indonesia"
         },
         {
          "font": {
           "color": "black",
           "size": 10
          },
          "showarrow": false,
          "text": "0.49",
          "x": "Canada",
          "y": "Indonesia"
         },
         {
          "font": {
           "color": "black",
           "size": 10
          },
          "showarrow": false,
          "text": "0.38",
          "x": "China",
          "y": "Indonesia"
         },
         {
          "font": {
           "color": "black",
           "size": 10
          },
          "showarrow": false,
          "text": "0.62",
          "x": "France",
          "y": "Indonesia"
         },
         {
          "font": {
           "color": "black",
           "size": 10
          },
          "showarrow": false,
          "text": "0.69",
          "x": "Germany",
          "y": "Indonesia"
         },
         {
          "font": {
           "color": "black",
           "size": 10
          },
          "showarrow": false,
          "text": "0.65",
          "x": "India",
          "y": "Indonesia"
         },
         {
          "font": {
           "color": "black",
           "size": 10
          },
          "showarrow": false,
          "text": "1.00",
          "x": "Indonesia",
          "y": "Indonesia"
         },
         {
          "font": {
           "color": "black",
           "size": 10
          },
          "showarrow": false,
          "text": "0.06",
          "x": "Italy",
          "y": "Indonesia"
         },
         {
          "font": {
           "color": "black",
           "size": 10
          },
          "showarrow": false,
          "text": "0.69",
          "x": "Japan",
          "y": "Indonesia"
         },
         {
          "font": {
           "color": "black",
           "size": 10
          },
          "showarrow": false,
          "text": "0.31",
          "x": "Mexico",
          "y": "Indonesia"
         },
         {
          "font": {
           "color": "black",
           "size": 10
          },
          "showarrow": false,
          "text": "0.21",
          "x": "Russia",
          "y": "Indonesia"
         },
         {
          "font": {
           "color": "black",
           "size": 10
          },
          "showarrow": false,
          "text": "0.65",
          "x": "Saudi Arabia",
          "y": "Indonesia"
         },
         {
          "font": {
           "color": "black",
           "size": 10
          },
          "showarrow": false,
          "text": "-0.08",
          "x": "South Africa",
          "y": "Indonesia"
         },
         {
          "font": {
           "color": "black",
           "size": 10
          },
          "showarrow": false,
          "text": "0.65",
          "x": "South Korea",
          "y": "Indonesia"
         },
         {
          "font": {
           "color": "black",
           "size": 10
          },
          "showarrow": false,
          "text": "0.60",
          "x": "Turkey",
          "y": "Indonesia"
         },
         {
          "font": {
           "color": "black",
           "size": 10
          },
          "showarrow": false,
          "text": "0.47",
          "x": "United Kingdom",
          "y": "Indonesia"
         },
         {
          "font": {
           "color": "black",
           "size": 10
          },
          "showarrow": false,
          "text": "0.59",
          "x": "United States",
          "y": "Indonesia"
         },
         {
          "font": {
           "color": "black",
           "size": 10
          },
          "showarrow": false,
          "text": "0.14",
          "x": "Australia",
          "y": "Italy"
         },
         {
          "font": {
           "color": "black",
           "size": 10
          },
          "showarrow": false,
          "text": "0.13",
          "x": "Brazil",
          "y": "Italy"
         },
         {
          "font": {
           "color": "black",
           "size": 10
          },
          "showarrow": false,
          "text": "0.58",
          "x": "Canada",
          "y": "Italy"
         },
         {
          "font": {
           "color": "black",
           "size": 10
          },
          "showarrow": false,
          "text": "-0.03",
          "x": "China",
          "y": "Italy"
         },
         {
          "font": {
           "color": "black",
           "size": 10
          },
          "showarrow": false,
          "text": "0.18",
          "x": "France",
          "y": "Italy"
         },
         {
          "font": {
           "color": "black",
           "size": 10
          },
          "showarrow": false,
          "text": "-0.05",
          "x": "Germany",
          "y": "Italy"
         },
         {
          "font": {
           "color": "black",
           "size": 10
          },
          "showarrow": false,
          "text": "0.16",
          "x": "India",
          "y": "Italy"
         },
         {
          "font": {
           "color": "black",
           "size": 10
          },
          "showarrow": false,
          "text": "0.06",
          "x": "Indonesia",
          "y": "Italy"
         },
         {
          "font": {
           "color": "black",
           "size": 10
          },
          "showarrow": false,
          "text": "1.00",
          "x": "Italy",
          "y": "Italy"
         },
         {
          "font": {
           "color": "black",
           "size": 10
          },
          "showarrow": false,
          "text": "0.06",
          "x": "Japan",
          "y": "Italy"
         },
         {
          "font": {
           "color": "black",
           "size": 10
          },
          "showarrow": false,
          "text": "0.37",
          "x": "Mexico",
          "y": "Italy"
         },
         {
          "font": {
           "color": "black",
           "size": 10
          },
          "showarrow": false,
          "text": "0.61",
          "x": "Russia",
          "y": "Italy"
         },
         {
          "font": {
           "color": "black",
           "size": 10
          },
          "showarrow": false,
          "text": "0.19",
          "x": "Saudi Arabia",
          "y": "Italy"
         },
         {
          "font": {
           "color": "black",
           "size": 10
          },
          "showarrow": false,
          "text": "0.10",
          "x": "South Africa",
          "y": "Italy"
         },
         {
          "font": {
           "color": "black",
           "size": 10
          },
          "showarrow": false,
          "text": "0.01",
          "x": "South Korea",
          "y": "Italy"
         },
         {
          "font": {
           "color": "black",
           "size": 10
          },
          "showarrow": false,
          "text": "0.31",
          "x": "Turkey",
          "y": "Italy"
         },
         {
          "font": {
           "color": "black",
           "size": 10
          },
          "showarrow": false,
          "text": "0.07",
          "x": "United Kingdom",
          "y": "Italy"
         },
         {
          "font": {
           "color": "black",
           "size": 10
          },
          "showarrow": false,
          "text": "0.27",
          "x": "United States",
          "y": "Italy"
         },
         {
          "font": {
           "color": "black",
           "size": 10
          },
          "showarrow": false,
          "text": "0.75",
          "x": "Australia",
          "y": "Japan"
         },
         {
          "font": {
           "color": "black",
           "size": 10
          },
          "showarrow": false,
          "text": "0.75",
          "x": "Brazil",
          "y": "Japan"
         },
         {
          "font": {
           "color": "black",
           "size": 10
          },
          "showarrow": false,
          "text": "0.38",
          "x": "Canada",
          "y": "Japan"
         },
         {
          "font": {
           "color": "black",
           "size": 10
          },
          "showarrow": false,
          "text": "0.42",
          "x": "China",
          "y": "Japan"
         },
         {
          "font": {
           "color": "black",
           "size": 10
          },
          "showarrow": false,
          "text": "0.65",
          "x": "France",
          "y": "Japan"
         },
         {
          "font": {
           "color": "black",
           "size": 10
          },
          "showarrow": false,
          "text": "0.70",
          "x": "Germany",
          "y": "Japan"
         },
         {
          "font": {
           "color": "black",
           "size": 10
          },
          "showarrow": false,
          "text": "0.68",
          "x": "India",
          "y": "Japan"
         },
         {
          "font": {
           "color": "black",
           "size": 10
          },
          "showarrow": false,
          "text": "0.69",
          "x": "Indonesia",
          "y": "Japan"
         },
         {
          "font": {
           "color": "black",
           "size": 10
          },
          "showarrow": false,
          "text": "0.06",
          "x": "Italy",
          "y": "Japan"
         },
         {
          "font": {
           "color": "black",
           "size": 10
          },
          "showarrow": false,
          "text": "1.00",
          "x": "Japan",
          "y": "Japan"
         },
         {
          "font": {
           "color": "black",
           "size": 10
          },
          "showarrow": false,
          "text": "0.32",
          "x": "Mexico",
          "y": "Japan"
         },
         {
          "font": {
           "color": "black",
           "size": 10
          },
          "showarrow": false,
          "text": "0.18",
          "x": "Russia",
          "y": "Japan"
         },
         {
          "font": {
           "color": "black",
           "size": 10
          },
          "showarrow": false,
          "text": "0.58",
          "x": "Saudi Arabia",
          "y": "Japan"
         },
         {
          "font": {
           "color": "black",
           "size": 10
          },
          "showarrow": false,
          "text": "-0.22",
          "x": "South Africa",
          "y": "Japan"
         },
         {
          "font": {
           "color": "black",
           "size": 10
          },
          "showarrow": false,
          "text": "0.67",
          "x": "South Korea",
          "y": "Japan"
         },
         {
          "font": {
           "color": "black",
           "size": 10
          },
          "showarrow": false,
          "text": "0.64",
          "x": "Turkey",
          "y": "Japan"
         },
         {
          "font": {
           "color": "black",
           "size": 10
          },
          "showarrow": false,
          "text": "0.55",
          "x": "United Kingdom",
          "y": "Japan"
         },
         {
          "font": {
           "color": "black",
           "size": 10
          },
          "showarrow": false,
          "text": "0.60",
          "x": "United States",
          "y": "Japan"
         },
         {
          "font": {
           "color": "black",
           "size": 10
          },
          "showarrow": false,
          "text": "0.47",
          "x": "Australia",
          "y": "Mexico"
         },
         {
          "font": {
           "color": "black",
           "size": 10
          },
          "showarrow": false,
          "text": "0.46",
          "x": "Brazil",
          "y": "Mexico"
         },
         {
          "font": {
           "color": "black",
           "size": 10
          },
          "showarrow": false,
          "text": "0.48",
          "x": "Canada",
          "y": "Mexico"
         },
         {
          "font": {
           "color": "black",
           "size": 10
          },
          "showarrow": false,
          "text": "0.16",
          "x": "China",
          "y": "Mexico"
         },
         {
          "font": {
           "color": "black",
           "size": 10
          },
          "showarrow": false,
          "text": "0.46",
          "x": "France",
          "y": "Mexico"
         },
         {
          "font": {
           "color": "black",
           "size": 10
          },
          "showarrow": false,
          "text": "0.33",
          "x": "Germany",
          "y": "Mexico"
         },
         {
          "font": {
           "color": "black",
           "size": 10
          },
          "showarrow": false,
          "text": "0.44",
          "x": "India",
          "y": "Mexico"
         },
         {
          "font": {
           "color": "black",
           "size": 10
          },
          "showarrow": false,
          "text": "0.31",
          "x": "Indonesia",
          "y": "Mexico"
         },
         {
          "font": {
           "color": "black",
           "size": 10
          },
          "showarrow": false,
          "text": "0.37",
          "x": "Italy",
          "y": "Mexico"
         },
         {
          "font": {
           "color": "black",
           "size": 10
          },
          "showarrow": false,
          "text": "0.32",
          "x": "Japan",
          "y": "Mexico"
         },
         {
          "font": {
           "color": "black",
           "size": 10
          },
          "showarrow": false,
          "text": "1.00",
          "x": "Mexico",
          "y": "Mexico"
         },
         {
          "font": {
           "color": "black",
           "size": 10
          },
          "showarrow": false,
          "text": "0.35",
          "x": "Russia",
          "y": "Mexico"
         },
         {
          "font": {
           "color": "black",
           "size": 10
          },
          "showarrow": false,
          "text": "0.39",
          "x": "Saudi Arabia",
          "y": "Mexico"
         },
         {
          "font": {
           "color": "black",
           "size": 10
          },
          "showarrow": false,
          "text": "0.15",
          "x": "South Africa",
          "y": "Mexico"
         },
         {
          "font": {
           "color": "black",
           "size": 10
          },
          "showarrow": false,
          "text": "0.36",
          "x": "South Korea",
          "y": "Mexico"
         },
         {
          "font": {
           "color": "black",
           "size": 10
          },
          "showarrow": false,
          "text": "0.47",
          "x": "Turkey",
          "y": "Mexico"
         },
         {
          "font": {
           "color": "black",
           "size": 10
          },
          "showarrow": false,
          "text": "0.31",
          "x": "United Kingdom",
          "y": "Mexico"
         },
         {
          "font": {
           "color": "black",
           "size": 10
          },
          "showarrow": false,
          "text": "0.53",
          "x": "United States",
          "y": "Mexico"
         },
         {
          "font": {
           "color": "black",
           "size": 10
          },
          "showarrow": false,
          "text": "0.38",
          "x": "Australia",
          "y": "Russia"
         },
         {
          "font": {
           "color": "black",
           "size": 10
          },
          "showarrow": false,
          "text": "0.36",
          "x": "Brazil",
          "y": "Russia"
         },
         {
          "font": {
           "color": "black",
           "size": 10
          },
          "showarrow": false,
          "text": "0.63",
          "x": "Canada",
          "y": "Russia"
         },
         {
          "font": {
           "color": "black",
           "size": 10
          },
          "showarrow": false,
          "text": "0.18",
          "x": "China",
          "y": "Russia"
         },
         {
          "font": {
           "color": "black",
           "size": 10
          },
          "showarrow": false,
          "text": "0.35",
          "x": "France",
          "y": "Russia"
         },
         {
          "font": {
           "color": "black",
           "size": 10
          },
          "showarrow": false,
          "text": "0.21",
          "x": "Germany",
          "y": "Russia"
         },
         {
          "font": {
           "color": "black",
           "size": 10
          },
          "showarrow": false,
          "text": "0.24",
          "x": "India",
          "y": "Russia"
         },
         {
          "font": {
           "color": "black",
           "size": 10
          },
          "showarrow": false,
          "text": "0.21",
          "x": "Indonesia",
          "y": "Russia"
         },
         {
          "font": {
           "color": "black",
           "size": 10
          },
          "showarrow": false,
          "text": "0.61",
          "x": "Italy",
          "y": "Russia"
         },
         {
          "font": {
           "color": "black",
           "size": 10
          },
          "showarrow": false,
          "text": "0.18",
          "x": "Japan",
          "y": "Russia"
         },
         {
          "font": {
           "color": "black",
           "size": 10
          },
          "showarrow": false,
          "text": "0.35",
          "x": "Mexico",
          "y": "Russia"
         },
         {
          "font": {
           "color": "black",
           "size": 10
          },
          "showarrow": false,
          "text": "1.00",
          "x": "Russia",
          "y": "Russia"
         },
         {
          "font": {
           "color": "black",
           "size": 10
          },
          "showarrow": false,
          "text": "0.32",
          "x": "Saudi Arabia",
          "y": "Russia"
         },
         {
          "font": {
           "color": "black",
           "size": 10
          },
          "showarrow": false,
          "text": "0.25",
          "x": "South Africa",
          "y": "Russia"
         },
         {
          "font": {
           "color": "black",
           "size": 10
          },
          "showarrow": false,
          "text": "0.14",
          "x": "South Korea",
          "y": "Russia"
         },
         {
          "font": {
           "color": "black",
           "size": 10
          },
          "showarrow": false,
          "text": "0.25",
          "x": "Turkey",
          "y": "Russia"
         },
         {
          "font": {
           "color": "black",
           "size": 10
          },
          "showarrow": false,
          "text": "0.27",
          "x": "United Kingdom",
          "y": "Russia"
         },
         {
          "font": {
           "color": "black",
           "size": 10
          },
          "showarrow": false,
          "text": "0.44",
          "x": "United States",
          "y": "Russia"
         },
         {
          "font": {
           "color": "black",
           "size": 10
          },
          "showarrow": false,
          "text": "0.77",
          "x": "Australia",
          "y": "Saudi Arabia"
         },
         {
          "font": {
           "color": "black",
           "size": 10
          },
          "showarrow": false,
          "text": "0.77",
          "x": "Brazil",
          "y": "Saudi Arabia"
         },
         {
          "font": {
           "color": "black",
           "size": 10
          },
          "showarrow": false,
          "text": "0.55",
          "x": "Canada",
          "y": "Saudi Arabia"
         },
         {
          "font": {
           "color": "black",
           "size": 10
          },
          "showarrow": false,
          "text": "0.42",
          "x": "China",
          "y": "Saudi Arabia"
         },
         {
          "font": {
           "color": "black",
           "size": 10
          },
          "showarrow": false,
          "text": "0.65",
          "x": "France",
          "y": "Saudi Arabia"
         },
         {
          "font": {
           "color": "black",
           "size": 10
          },
          "showarrow": false,
          "text": "0.69",
          "x": "Germany",
          "y": "Saudi Arabia"
         },
         {
          "font": {
           "color": "black",
           "size": 10
          },
          "showarrow": false,
          "text": "0.69",
          "x": "India",
          "y": "Saudi Arabia"
         },
         {
          "font": {
           "color": "black",
           "size": 10
          },
          "showarrow": false,
          "text": "0.65",
          "x": "Indonesia",
          "y": "Saudi Arabia"
         },
         {
          "font": {
           "color": "black",
           "size": 10
          },
          "showarrow": false,
          "text": "0.19",
          "x": "Italy",
          "y": "Saudi Arabia"
         },
         {
          "font": {
           "color": "black",
           "size": 10
          },
          "showarrow": false,
          "text": "0.58",
          "x": "Japan",
          "y": "Saudi Arabia"
         },
         {
          "font": {
           "color": "black",
           "size": 10
          },
          "showarrow": false,
          "text": "0.39",
          "x": "Mexico",
          "y": "Saudi Arabia"
         },
         {
          "font": {
           "color": "black",
           "size": 10
          },
          "showarrow": false,
          "text": "0.32",
          "x": "Russia",
          "y": "Saudi Arabia"
         },
         {
          "font": {
           "color": "black",
           "size": 10
          },
          "showarrow": false,
          "text": "1.00",
          "x": "Saudi Arabia",
          "y": "Saudi Arabia"
         },
         {
          "font": {
           "color": "black",
           "size": 10
          },
          "showarrow": false,
          "text": "0.05",
          "x": "South Africa",
          "y": "Saudi Arabia"
         },
         {
          "font": {
           "color": "black",
           "size": 10
          },
          "showarrow": false,
          "text": "0.54",
          "x": "South Korea",
          "y": "Saudi Arabia"
         },
         {
          "font": {
           "color": "black",
           "size": 10
          },
          "showarrow": false,
          "text": "0.55",
          "x": "Turkey",
          "y": "Saudi Arabia"
         },
         {
          "font": {
           "color": "black",
           "size": 10
          },
          "showarrow": false,
          "text": "0.59",
          "x": "United Kingdom",
          "y": "Saudi Arabia"
         },
         {
          "font": {
           "color": "black",
           "size": 10
          },
          "showarrow": false,
          "text": "0.68",
          "x": "United States",
          "y": "Saudi Arabia"
         },
         {
          "font": {
           "color": "black",
           "size": 10
          },
          "showarrow": false,
          "text": "-0.06",
          "x": "Australia",
          "y": "South Africa"
         },
         {
          "font": {
           "color": "black",
           "size": 10
          },
          "showarrow": false,
          "text": "-0.08",
          "x": "Brazil",
          "y": "South Africa"
         },
         {
          "font": {
           "color": "black",
           "size": 10
          },
          "showarrow": false,
          "text": "0.17",
          "x": "Canada",
          "y": "South Africa"
         },
         {
          "font": {
           "color": "black",
           "size": 10
          },
          "showarrow": false,
          "text": "-0.19",
          "x": "China",
          "y": "South Africa"
         },
         {
          "font": {
           "color": "black",
           "size": 10
          },
          "showarrow": false,
          "text": "-0.12",
          "x": "France",
          "y": "South Africa"
         },
         {
          "font": {
           "color": "black",
           "size": 10
          },
          "showarrow": false,
          "text": "-0.14",
          "x": "Germany",
          "y": "South Africa"
         },
         {
          "font": {
           "color": "black",
           "size": 10
          },
          "showarrow": false,
          "text": "-0.30",
          "x": "India",
          "y": "South Africa"
         },
         {
          "font": {
           "color": "black",
           "size": 10
          },
          "showarrow": false,
          "text": "-0.08",
          "x": "Indonesia",
          "y": "South Africa"
         },
         {
          "font": {
           "color": "black",
           "size": 10
          },
          "showarrow": false,
          "text": "0.10",
          "x": "Italy",
          "y": "South Africa"
         },
         {
          "font": {
           "color": "black",
           "size": 10
          },
          "showarrow": false,
          "text": "-0.22",
          "x": "Japan",
          "y": "South Africa"
         },
         {
          "font": {
           "color": "black",
           "size": 10
          },
          "showarrow": false,
          "text": "0.15",
          "x": "Mexico",
          "y": "South Africa"
         },
         {
          "font": {
           "color": "black",
           "size": 10
          },
          "showarrow": false,
          "text": "0.25",
          "x": "Russia",
          "y": "South Africa"
         },
         {
          "font": {
           "color": "black",
           "size": 10
          },
          "showarrow": false,
          "text": "0.05",
          "x": "Saudi Arabia",
          "y": "South Africa"
         },
         {
          "font": {
           "color": "black",
           "size": 10
          },
          "showarrow": false,
          "text": "1.00",
          "x": "South Africa",
          "y": "South Africa"
         },
         {
          "font": {
           "color": "black",
           "size": 10
          },
          "showarrow": false,
          "text": "-0.19",
          "x": "South Korea",
          "y": "South Africa"
         },
         {
          "font": {
           "color": "black",
           "size": 10
          },
          "showarrow": false,
          "text": "-0.27",
          "x": "Turkey",
          "y": "South Africa"
         },
         {
          "font": {
           "color": "black",
           "size": 10
          },
          "showarrow": false,
          "text": "-0.25",
          "x": "United Kingdom",
          "y": "South Africa"
         },
         {
          "font": {
           "color": "black",
           "size": 10
          },
          "showarrow": false,
          "text": "0.12",
          "x": "United States",
          "y": "South Africa"
         },
         {
          "font": {
           "color": "black",
           "size": 10
          },
          "showarrow": false,
          "text": "0.79",
          "x": "Australia",
          "y": "South Korea"
         },
         {
          "font": {
           "color": "black",
           "size": 10
          },
          "showarrow": false,
          "text": "0.80",
          "x": "Brazil",
          "y": "South Korea"
         },
         {
          "font": {
           "color": "black",
           "size": 10
          },
          "showarrow": false,
          "text": "0.34",
          "x": "Canada",
          "y": "South Korea"
         },
         {
          "font": {
           "color": "black",
           "size": 10
          },
          "showarrow": false,
          "text": "0.44",
          "x": "China",
          "y": "South Korea"
         },
         {
          "font": {
           "color": "black",
           "size": 10
          },
          "showarrow": false,
          "text": "0.71",
          "x": "France",
          "y": "South Korea"
         },
         {
          "font": {
           "color": "black",
           "size": 10
          },
          "showarrow": false,
          "text": "0.75",
          "x": "Germany",
          "y": "South Korea"
         },
         {
          "font": {
           "color": "black",
           "size": 10
          },
          "showarrow": false,
          "text": "0.61",
          "x": "India",
          "y": "South Korea"
         },
         {
          "font": {
           "color": "black",
           "size": 10
          },
          "showarrow": false,
          "text": "0.65",
          "x": "Indonesia",
          "y": "South Korea"
         },
         {
          "font": {
           "color": "black",
           "size": 10
          },
          "showarrow": false,
          "text": "0.01",
          "x": "Italy",
          "y": "South Korea"
         },
         {
          "font": {
           "color": "black",
           "size": 10
          },
          "showarrow": false,
          "text": "0.67",
          "x": "Japan",
          "y": "South Korea"
         },
         {
          "font": {
           "color": "black",
           "size": 10
          },
          "showarrow": false,
          "text": "0.36",
          "x": "Mexico",
          "y": "South Korea"
         },
         {
          "font": {
           "color": "black",
           "size": 10
          },
          "showarrow": false,
          "text": "0.14",
          "x": "Russia",
          "y": "South Korea"
         },
         {
          "font": {
           "color": "black",
           "size": 10
          },
          "showarrow": false,
          "text": "0.54",
          "x": "Saudi Arabia",
          "y": "South Korea"
         },
         {
          "font": {
           "color": "black",
           "size": 10
          },
          "showarrow": false,
          "text": "-0.19",
          "x": "South Africa",
          "y": "South Korea"
         },
         {
          "font": {
           "color": "black",
           "size": 10
          },
          "showarrow": false,
          "text": "1.00",
          "x": "South Korea",
          "y": "South Korea"
         },
         {
          "font": {
           "color": "black",
           "size": 10
          },
          "showarrow": false,
          "text": "0.69",
          "x": "Turkey",
          "y": "South Korea"
         },
         {
          "font": {
           "color": "black",
           "size": 10
          },
          "showarrow": false,
          "text": "0.45",
          "x": "United Kingdom",
          "y": "South Korea"
         },
         {
          "font": {
           "color": "black",
           "size": 10
          },
          "showarrow": false,
          "text": "0.62",
          "x": "United States",
          "y": "South Korea"
         },
         {
          "font": {
           "color": "black",
           "size": 10
          },
          "showarrow": false,
          "text": "0.75",
          "x": "Australia",
          "y": "Turkey"
         },
         {
          "font": {
           "color": "black",
           "size": 10
          },
          "showarrow": false,
          "text": "0.75",
          "x": "Brazil",
          "y": "Turkey"
         },
         {
          "font": {
           "color": "black",
           "size": 10
          },
          "showarrow": false,
          "text": "0.57",
          "x": "Canada",
          "y": "Turkey"
         },
         {
          "font": {
           "color": "black",
           "size": 10
          },
          "showarrow": false,
          "text": "0.40",
          "x": "China",
          "y": "Turkey"
         },
         {
          "font": {
           "color": "black",
           "size": 10
          },
          "showarrow": false,
          "text": "0.74",
          "x": "France",
          "y": "Turkey"
         },
         {
          "font": {
           "color": "black",
           "size": 10
          },
          "showarrow": false,
          "text": "0.64",
          "x": "Germany",
          "y": "Turkey"
         },
         {
          "font": {
           "color": "black",
           "size": 10
          },
          "showarrow": false,
          "text": "0.74",
          "x": "India",
          "y": "Turkey"
         },
         {
          "font": {
           "color": "black",
           "size": 10
          },
          "showarrow": false,
          "text": "0.60",
          "x": "Indonesia",
          "y": "Turkey"
         },
         {
          "font": {
           "color": "black",
           "size": 10
          },
          "showarrow": false,
          "text": "0.31",
          "x": "Italy",
          "y": "Turkey"
         },
         {
          "font": {
           "color": "black",
           "size": 10
          },
          "showarrow": false,
          "text": "0.64",
          "x": "Japan",
          "y": "Turkey"
         },
         {
          "font": {
           "color": "black",
           "size": 10
          },
          "showarrow": false,
          "text": "0.47",
          "x": "Mexico",
          "y": "Turkey"
         },
         {
          "font": {
           "color": "black",
           "size": 10
          },
          "showarrow": false,
          "text": "0.25",
          "x": "Russia",
          "y": "Turkey"
         },
         {
          "font": {
           "color": "black",
           "size": 10
          },
          "showarrow": false,
          "text": "0.55",
          "x": "Saudi Arabia",
          "y": "Turkey"
         },
         {
          "font": {
           "color": "black",
           "size": 10
          },
          "showarrow": false,
          "text": "-0.27",
          "x": "South Africa",
          "y": "Turkey"
         },
         {
          "font": {
           "color": "black",
           "size": 10
          },
          "showarrow": false,
          "text": "0.69",
          "x": "South Korea",
          "y": "Turkey"
         },
         {
          "font": {
           "color": "black",
           "size": 10
          },
          "showarrow": false,
          "text": "1.00",
          "x": "Turkey",
          "y": "Turkey"
         },
         {
          "font": {
           "color": "black",
           "size": 10
          },
          "showarrow": false,
          "text": "0.55",
          "x": "United Kingdom",
          "y": "Turkey"
         },
         {
          "font": {
           "color": "black",
           "size": 10
          },
          "showarrow": false,
          "text": "0.69",
          "x": "United States",
          "y": "Turkey"
         },
         {
          "font": {
           "color": "black",
           "size": 10
          },
          "showarrow": false,
          "text": "0.68",
          "x": "Australia",
          "y": "United Kingdom"
         },
         {
          "font": {
           "color": "black",
           "size": 10
          },
          "showarrow": false,
          "text": "0.68",
          "x": "Brazil",
          "y": "United Kingdom"
         },
         {
          "font": {
           "color": "black",
           "size": 10
          },
          "showarrow": false,
          "text": "0.45",
          "x": "Canada",
          "y": "United Kingdom"
         },
         {
          "font": {
           "color": "black",
           "size": 10
          },
          "showarrow": false,
          "text": "0.55",
          "x": "China",
          "y": "United Kingdom"
         },
         {
          "font": {
           "color": "black",
           "size": 10
          },
          "showarrow": false,
          "text": "0.69",
          "x": "France",
          "y": "United Kingdom"
         },
         {
          "font": {
           "color": "black",
           "size": 10
          },
          "showarrow": false,
          "text": "0.63",
          "x": "Germany",
          "y": "United Kingdom"
         },
         {
          "font": {
           "color": "black",
           "size": 10
          },
          "showarrow": false,
          "text": "0.76",
          "x": "India",
          "y": "United Kingdom"
         },
         {
          "font": {
           "color": "black",
           "size": 10
          },
          "showarrow": false,
          "text": "0.47",
          "x": "Indonesia",
          "y": "United Kingdom"
         },
         {
          "font": {
           "color": "black",
           "size": 10
          },
          "showarrow": false,
          "text": "0.07",
          "x": "Italy",
          "y": "United Kingdom"
         },
         {
          "font": {
           "color": "black",
           "size": 10
          },
          "showarrow": false,
          "text": "0.55",
          "x": "Japan",
          "y": "United Kingdom"
         },
         {
          "font": {
           "color": "black",
           "size": 10
          },
          "showarrow": false,
          "text": "0.31",
          "x": "Mexico",
          "y": "United Kingdom"
         },
         {
          "font": {
           "color": "black",
           "size": 10
          },
          "showarrow": false,
          "text": "0.27",
          "x": "Russia",
          "y": "United Kingdom"
         },
         {
          "font": {
           "color": "black",
           "size": 10
          },
          "showarrow": false,
          "text": "0.59",
          "x": "Saudi Arabia",
          "y": "United Kingdom"
         },
         {
          "font": {
           "color": "black",
           "size": 10
          },
          "showarrow": false,
          "text": "-0.25",
          "x": "South Africa",
          "y": "United Kingdom"
         },
         {
          "font": {
           "color": "black",
           "size": 10
          },
          "showarrow": false,
          "text": "0.45",
          "x": "South Korea",
          "y": "United Kingdom"
         },
         {
          "font": {
           "color": "black",
           "size": 10
          },
          "showarrow": false,
          "text": "0.55",
          "x": "Turkey",
          "y": "United Kingdom"
         },
         {
          "font": {
           "color": "black",
           "size": 10
          },
          "showarrow": false,
          "text": "1.00",
          "x": "United Kingdom",
          "y": "United Kingdom"
         },
         {
          "font": {
           "color": "black",
           "size": 10
          },
          "showarrow": false,
          "text": "0.50",
          "x": "United States",
          "y": "United Kingdom"
         },
         {
          "font": {
           "color": "black",
           "size": 10
          },
          "showarrow": false,
          "text": "0.86",
          "x": "Australia",
          "y": "United States"
         },
         {
          "font": {
           "color": "black",
           "size": 10
          },
          "showarrow": false,
          "text": "0.84",
          "x": "Brazil",
          "y": "United States"
         },
         {
          "font": {
           "color": "black",
           "size": 10
          },
          "showarrow": false,
          "text": "0.65",
          "x": "Canada",
          "y": "United States"
         },
         {
          "font": {
           "color": "black",
           "size": 10
          },
          "showarrow": false,
          "text": "0.41",
          "x": "China",
          "y": "United States"
         },
         {
          "font": {
           "color": "black",
           "size": 10
          },
          "showarrow": false,
          "text": "0.81",
          "x": "France",
          "y": "United States"
         },
         {
          "font": {
           "color": "black",
           "size": 10
          },
          "showarrow": false,
          "text": "0.70",
          "x": "Germany",
          "y": "United States"
         },
         {
          "font": {
           "color": "black",
           "size": 10
          },
          "showarrow": false,
          "text": "0.60",
          "x": "India",
          "y": "United States"
         },
         {
          "font": {
           "color": "black",
           "size": 10
          },
          "showarrow": false,
          "text": "0.59",
          "x": "Indonesia",
          "y": "United States"
         },
         {
          "font": {
           "color": "black",
           "size": 10
          },
          "showarrow": false,
          "text": "0.27",
          "x": "Italy",
          "y": "United States"
         },
         {
          "font": {
           "color": "black",
           "size": 10
          },
          "showarrow": false,
          "text": "0.60",
          "x": "Japan",
          "y": "United States"
         },
         {
          "font": {
           "color": "black",
           "size": 10
          },
          "showarrow": false,
          "text": "0.53",
          "x": "Mexico",
          "y": "United States"
         },
         {
          "font": {
           "color": "black",
           "size": 10
          },
          "showarrow": false,
          "text": "0.44",
          "x": "Russia",
          "y": "United States"
         },
         {
          "font": {
           "color": "black",
           "size": 10
          },
          "showarrow": false,
          "text": "0.68",
          "x": "Saudi Arabia",
          "y": "United States"
         },
         {
          "font": {
           "color": "black",
           "size": 10
          },
          "showarrow": false,
          "text": "0.12",
          "x": "South Africa",
          "y": "United States"
         },
         {
          "font": {
           "color": "black",
           "size": 10
          },
          "showarrow": false,
          "text": "0.62",
          "x": "South Korea",
          "y": "United States"
         },
         {
          "font": {
           "color": "black",
           "size": 10
          },
          "showarrow": false,
          "text": "0.69",
          "x": "Turkey",
          "y": "United States"
         },
         {
          "font": {
           "color": "black",
           "size": 10
          },
          "showarrow": false,
          "text": "0.50",
          "x": "United Kingdom",
          "y": "United States"
         },
         {
          "font": {
           "color": "black",
           "size": 10
          },
          "showarrow": false,
          "text": "1.00",
          "x": "United States",
          "y": "United States"
         }
        ],
        "template": {
         "data": {
          "bar": [
           {
            "error_x": {
             "color": "#2a3f5f"
            },
            "error_y": {
             "color": "#2a3f5f"
            },
            "marker": {
             "line": {
              "color": "#E5ECF6",
              "width": 0.5
             },
             "pattern": {
              "fillmode": "overlay",
              "size": 10,
              "solidity": 0.2
             }
            },
            "type": "bar"
           }
          ],
          "barpolar": [
           {
            "marker": {
             "line": {
              "color": "#E5ECF6",
              "width": 0.5
             },
             "pattern": {
              "fillmode": "overlay",
              "size": 10,
              "solidity": 0.2
             }
            },
            "type": "barpolar"
           }
          ],
          "carpet": [
           {
            "aaxis": {
             "endlinecolor": "#2a3f5f",
             "gridcolor": "white",
             "linecolor": "white",
             "minorgridcolor": "white",
             "startlinecolor": "#2a3f5f"
            },
            "baxis": {
             "endlinecolor": "#2a3f5f",
             "gridcolor": "white",
             "linecolor": "white",
             "minorgridcolor": "white",
             "startlinecolor": "#2a3f5f"
            },
            "type": "carpet"
           }
          ],
          "choropleth": [
           {
            "colorbar": {
             "outlinewidth": 0,
             "ticks": ""
            },
            "type": "choropleth"
           }
          ],
          "contour": [
           {
            "colorbar": {
             "outlinewidth": 0,
             "ticks": ""
            },
            "colorscale": [
             [
              0,
              "#0d0887"
             ],
             [
              0.1111111111111111,
              "#46039f"
             ],
             [
              0.2222222222222222,
              "#7201a8"
             ],
             [
              0.3333333333333333,
              "#9c179e"
             ],
             [
              0.4444444444444444,
              "#bd3786"
             ],
             [
              0.5555555555555556,
              "#d8576b"
             ],
             [
              0.6666666666666666,
              "#ed7953"
             ],
             [
              0.7777777777777778,
              "#fb9f3a"
             ],
             [
              0.8888888888888888,
              "#fdca26"
             ],
             [
              1,
              "#f0f921"
             ]
            ],
            "type": "contour"
           }
          ],
          "contourcarpet": [
           {
            "colorbar": {
             "outlinewidth": 0,
             "ticks": ""
            },
            "type": "contourcarpet"
           }
          ],
          "heatmap": [
           {
            "colorbar": {
             "outlinewidth": 0,
             "ticks": ""
            },
            "colorscale": [
             [
              0,
              "#0d0887"
             ],
             [
              0.1111111111111111,
              "#46039f"
             ],
             [
              0.2222222222222222,
              "#7201a8"
             ],
             [
              0.3333333333333333,
              "#9c179e"
             ],
             [
              0.4444444444444444,
              "#bd3786"
             ],
             [
              0.5555555555555556,
              "#d8576b"
             ],
             [
              0.6666666666666666,
              "#ed7953"
             ],
             [
              0.7777777777777778,
              "#fb9f3a"
             ],
             [
              0.8888888888888888,
              "#fdca26"
             ],
             [
              1,
              "#f0f921"
             ]
            ],
            "type": "heatmap"
           }
          ],
          "heatmapgl": [
           {
            "colorbar": {
             "outlinewidth": 0,
             "ticks": ""
            },
            "colorscale": [
             [
              0,
              "#0d0887"
             ],
             [
              0.1111111111111111,
              "#46039f"
             ],
             [
              0.2222222222222222,
              "#7201a8"
             ],
             [
              0.3333333333333333,
              "#9c179e"
             ],
             [
              0.4444444444444444,
              "#bd3786"
             ],
             [
              0.5555555555555556,
              "#d8576b"
             ],
             [
              0.6666666666666666,
              "#ed7953"
             ],
             [
              0.7777777777777778,
              "#fb9f3a"
             ],
             [
              0.8888888888888888,
              "#fdca26"
             ],
             [
              1,
              "#f0f921"
             ]
            ],
            "type": "heatmapgl"
           }
          ],
          "histogram": [
           {
            "marker": {
             "pattern": {
              "fillmode": "overlay",
              "size": 10,
              "solidity": 0.2
             }
            },
            "type": "histogram"
           }
          ],
          "histogram2d": [
           {
            "colorbar": {
             "outlinewidth": 0,
             "ticks": ""
            },
            "colorscale": [
             [
              0,
              "#0d0887"
             ],
             [
              0.1111111111111111,
              "#46039f"
             ],
             [
              0.2222222222222222,
              "#7201a8"
             ],
             [
              0.3333333333333333,
              "#9c179e"
             ],
             [
              0.4444444444444444,
              "#bd3786"
             ],
             [
              0.5555555555555556,
              "#d8576b"
             ],
             [
              0.6666666666666666,
              "#ed7953"
             ],
             [
              0.7777777777777778,
              "#fb9f3a"
             ],
             [
              0.8888888888888888,
              "#fdca26"
             ],
             [
              1,
              "#f0f921"
             ]
            ],
            "type": "histogram2d"
           }
          ],
          "histogram2dcontour": [
           {
            "colorbar": {
             "outlinewidth": 0,
             "ticks": ""
            },
            "colorscale": [
             [
              0,
              "#0d0887"
             ],
             [
              0.1111111111111111,
              "#46039f"
             ],
             [
              0.2222222222222222,
              "#7201a8"
             ],
             [
              0.3333333333333333,
              "#9c179e"
             ],
             [
              0.4444444444444444,
              "#bd3786"
             ],
             [
              0.5555555555555556,
              "#d8576b"
             ],
             [
              0.6666666666666666,
              "#ed7953"
             ],
             [
              0.7777777777777778,
              "#fb9f3a"
             ],
             [
              0.8888888888888888,
              "#fdca26"
             ],
             [
              1,
              "#f0f921"
             ]
            ],
            "type": "histogram2dcontour"
           }
          ],
          "mesh3d": [
           {
            "colorbar": {
             "outlinewidth": 0,
             "ticks": ""
            },
            "type": "mesh3d"
           }
          ],
          "parcoords": [
           {
            "line": {
             "colorbar": {
              "outlinewidth": 0,
              "ticks": ""
             }
            },
            "type": "parcoords"
           }
          ],
          "pie": [
           {
            "automargin": true,
            "type": "pie"
           }
          ],
          "scatter": [
           {
            "marker": {
             "colorbar": {
              "outlinewidth": 0,
              "ticks": ""
             }
            },
            "type": "scatter"
           }
          ],
          "scatter3d": [
           {
            "line": {
             "colorbar": {
              "outlinewidth": 0,
              "ticks": ""
             }
            },
            "marker": {
             "colorbar": {
              "outlinewidth": 0,
              "ticks": ""
             }
            },
            "type": "scatter3d"
           }
          ],
          "scattercarpet": [
           {
            "marker": {
             "colorbar": {
              "outlinewidth": 0,
              "ticks": ""
             }
            },
            "type": "scattercarpet"
           }
          ],
          "scattergeo": [
           {
            "marker": {
             "colorbar": {
              "outlinewidth": 0,
              "ticks": ""
             }
            },
            "type": "scattergeo"
           }
          ],
          "scattergl": [
           {
            "marker": {
             "colorbar": {
              "outlinewidth": 0,
              "ticks": ""
             }
            },
            "type": "scattergl"
           }
          ],
          "scattermapbox": [
           {
            "marker": {
             "colorbar": {
              "outlinewidth": 0,
              "ticks": ""
             }
            },
            "type": "scattermapbox"
           }
          ],
          "scatterpolar": [
           {
            "marker": {
             "colorbar": {
              "outlinewidth": 0,
              "ticks": ""
             }
            },
            "type": "scatterpolar"
           }
          ],
          "scatterpolargl": [
           {
            "marker": {
             "colorbar": {
              "outlinewidth": 0,
              "ticks": ""
             }
            },
            "type": "scatterpolargl"
           }
          ],
          "scatterternary": [
           {
            "marker": {
             "colorbar": {
              "outlinewidth": 0,
              "ticks": ""
             }
            },
            "type": "scatterternary"
           }
          ],
          "surface": [
           {
            "colorbar": {
             "outlinewidth": 0,
             "ticks": ""
            },
            "colorscale": [
             [
              0,
              "#0d0887"
             ],
             [
              0.1111111111111111,
              "#46039f"
             ],
             [
              0.2222222222222222,
              "#7201a8"
             ],
             [
              0.3333333333333333,
              "#9c179e"
             ],
             [
              0.4444444444444444,
              "#bd3786"
             ],
             [
              0.5555555555555556,
              "#d8576b"
             ],
             [
              0.6666666666666666,
              "#ed7953"
             ],
             [
              0.7777777777777778,
              "#fb9f3a"
             ],
             [
              0.8888888888888888,
              "#fdca26"
             ],
             [
              1,
              "#f0f921"
             ]
            ],
            "type": "surface"
           }
          ],
          "table": [
           {
            "cells": {
             "fill": {
              "color": "#EBF0F8"
             },
             "line": {
              "color": "white"
             }
            },
            "header": {
             "fill": {
              "color": "#C8D4E3"
             },
             "line": {
              "color": "white"
             }
            },
            "type": "table"
           }
          ]
         },
         "layout": {
          "annotationdefaults": {
           "arrowcolor": "#2a3f5f",
           "arrowhead": 0,
           "arrowwidth": 1
          },
          "autotypenumbers": "strict",
          "coloraxis": {
           "colorbar": {
            "outlinewidth": 0,
            "ticks": ""
           }
          },
          "colorscale": {
           "diverging": [
            [
             0,
             "#8e0152"
            ],
            [
             0.1,
             "#c51b7d"
            ],
            [
             0.2,
             "#de77ae"
            ],
            [
             0.3,
             "#f1b6da"
            ],
            [
             0.4,
             "#fde0ef"
            ],
            [
             0.5,
             "#f7f7f7"
            ],
            [
             0.6,
             "#e6f5d0"
            ],
            [
             0.7,
             "#b8e186"
            ],
            [
             0.8,
             "#7fbc41"
            ],
            [
             0.9,
             "#4d9221"
            ],
            [
             1,
             "#276419"
            ]
           ],
           "sequential": [
            [
             0,
             "#0d0887"
            ],
            [
             0.1111111111111111,
             "#46039f"
            ],
            [
             0.2222222222222222,
             "#7201a8"
            ],
            [
             0.3333333333333333,
             "#9c179e"
            ],
            [
             0.4444444444444444,
             "#bd3786"
            ],
            [
             0.5555555555555556,
             "#d8576b"
            ],
            [
             0.6666666666666666,
             "#ed7953"
            ],
            [
             0.7777777777777778,
             "#fb9f3a"
            ],
            [
             0.8888888888888888,
             "#fdca26"
            ],
            [
             1,
             "#f0f921"
            ]
           ],
           "sequentialminus": [
            [
             0,
             "#0d0887"
            ],
            [
             0.1111111111111111,
             "#46039f"
            ],
            [
             0.2222222222222222,
             "#7201a8"
            ],
            [
             0.3333333333333333,
             "#9c179e"
            ],
            [
             0.4444444444444444,
             "#bd3786"
            ],
            [
             0.5555555555555556,
             "#d8576b"
            ],
            [
             0.6666666666666666,
             "#ed7953"
            ],
            [
             0.7777777777777778,
             "#fb9f3a"
            ],
            [
             0.8888888888888888,
             "#fdca26"
            ],
            [
             1,
             "#f0f921"
            ]
           ]
          },
          "colorway": [
           "#636efa",
           "#EF553B",
           "#00cc96",
           "#ab63fa",
           "#FFA15A",
           "#19d3f3",
           "#FF6692",
           "#B6E880",
           "#FF97FF",
           "#FECB52"
          ],
          "font": {
           "color": "#2a3f5f"
          },
          "geo": {
           "bgcolor": "white",
           "lakecolor": "white",
           "landcolor": "#E5ECF6",
           "showlakes": true,
           "showland": true,
           "subunitcolor": "white"
          },
          "hoverlabel": {
           "align": "left"
          },
          "hovermode": "closest",
          "mapbox": {
           "style": "light"
          },
          "paper_bgcolor": "white",
          "plot_bgcolor": "#E5ECF6",
          "polar": {
           "angularaxis": {
            "gridcolor": "white",
            "linecolor": "white",
            "ticks": ""
           },
           "bgcolor": "#E5ECF6",
           "radialaxis": {
            "gridcolor": "white",
            "linecolor": "white",
            "ticks": ""
           }
          },
          "scene": {
           "xaxis": {
            "backgroundcolor": "#E5ECF6",
            "gridcolor": "white",
            "gridwidth": 2,
            "linecolor": "white",
            "showbackground": true,
            "ticks": "",
            "zerolinecolor": "white"
           },
           "yaxis": {
            "backgroundcolor": "#E5ECF6",
            "gridcolor": "white",
            "gridwidth": 2,
            "linecolor": "white",
            "showbackground": true,
            "ticks": "",
            "zerolinecolor": "white"
           },
           "zaxis": {
            "backgroundcolor": "#E5ECF6",
            "gridcolor": "white",
            "gridwidth": 2,
            "linecolor": "white",
            "showbackground": true,
            "ticks": "",
            "zerolinecolor": "white"
           }
          },
          "shapedefaults": {
           "line": {
            "color": "#2a3f5f"
           }
          },
          "ternary": {
           "aaxis": {
            "gridcolor": "white",
            "linecolor": "white",
            "ticks": ""
           },
           "baxis": {
            "gridcolor": "white",
            "linecolor": "white",
            "ticks": ""
           },
           "bgcolor": "#E5ECF6",
           "caxis": {
            "gridcolor": "white",
            "linecolor": "white",
            "ticks": ""
           }
          },
          "title": {
           "x": 0.05
          },
          "xaxis": {
           "automargin": true,
           "gridcolor": "white",
           "linecolor": "white",
           "ticks": "",
           "title": {
            "standoff": 15
           },
           "zerolinecolor": "white",
           "zerolinewidth": 2
          },
          "yaxis": {
           "automargin": true,
           "gridcolor": "white",
           "linecolor": "white",
           "ticks": "",
           "title": {
            "standoff": 15
           },
           "zerolinecolor": "white",
           "zerolinewidth": 2
          }
         }
        },
        "title": {
         "text": "Correlation in Economic Policy Uncertainty among select G-20 countries"
        }
       }
      },
      "text/html": [
       "<div>                            <div id=\"cf21a745-f2d3-45ed-bc07-f28a9d28e1a6\" class=\"plotly-graph-div\" style=\"height:525px; width:100%;\"></div>            <script type=\"text/javascript\">                require([\"plotly\"], function(Plotly) {                    window.PLOTLYENV=window.PLOTLYENV || {};                                    if (document.getElementById(\"cf21a745-f2d3-45ed-bc07-f28a9d28e1a6\")) {                    Plotly.newPlot(                        \"cf21a745-f2d3-45ed-bc07-f28a9d28e1a6\",                        [{\"colorbar\":{\"title\":{\"text\":\"Correlation\"}},\"colorscale\":[[0.0,\"rgb(103,0,31)\"],[0.1,\"rgb(178,24,43)\"],[0.2,\"rgb(214,96,77)\"],[0.3,\"rgb(244,165,130)\"],[0.4,\"rgb(253,219,199)\"],[0.5,\"rgb(247,247,247)\"],[0.6,\"rgb(209,229,240)\"],[0.7,\"rgb(146,197,222)\"],[0.8,\"rgb(67,147,195)\"],[0.9,\"rgb(33,102,172)\"],[1.0,\"rgb(5,48,97)\"]],\"type\":\"heatmap\",\"x\":[\"Australia\",\"Brazil\",\"Canada\",\"China\",\"France\",\"Germany\",\"India\",\"Indonesia\",\"Italy\",\"Japan\",\"Mexico\",\"Russia\",\"Saudi Arabia\",\"South Africa\",\"South Korea\",\"Turkey\",\"United Kingdom\",\"United States\"],\"y\":[\"Australia\",\"Brazil\",\"Canada\",\"China\",\"France\",\"Germany\",\"India\",\"Indonesia\",\"Italy\",\"Japan\",\"Mexico\",\"Russia\",\"Saudi Arabia\",\"South Africa\",\"South Korea\",\"Turkey\",\"United Kingdom\",\"United States\"],\"z\":[[1.0,0.9980329266395428,0.5867957430160645,0.524845408328376,0.8933194484622063,0.9397019371421607,0.7684229998229656,0.7804402596886771,0.13679761494122797,0.748804784284202,0.4737274062056085,0.38389979547902253,0.7711455875488896,-0.05967038003247364,0.7856542837639875,0.7515619752708759,0.6842024695949764,0.8613789695840384],[0.9980329266395428,1.0,0.5661792060990132,0.527417771390648,0.8888177029500384,0.9536101308788714,0.765955418086129,0.7752912667843034,0.13140827859133447,0.7515796137489186,0.45991227012481806,0.3607558272702929,0.7670975243494594,-0.08338868565144451,0.8007891920624037,0.7528434248458349,0.6780315979263245,0.8400559179911233],[0.5867957430160645,0.5661792060990132,1.0,0.2459182470452293,0.5576252653515333,0.38258397938440875,0.4914594623293501,0.48741598417953824,0.5815807240455092,0.38066767359841075,0.48218188653998256,0.6270879853528416,0.554899789232765,0.17011131679351296,0.3402946535230921,0.5725471707733607,0.45121273588609173,0.6509597038396852],[0.524845408328376,0.527417771390648,0.2459182470452293,1.0,0.4908202349093225,0.4629264591499913,0.6075770589850393,0.3783310364207248,-0.028682377800499332,0.4207624192070843,0.1573884998960086,0.17650795168713204,0.415585676532449,-0.1929500173628988,0.44054066589733426,0.40135060733628153,0.5520836678732701,0.4121666412899757],[0.8933194484622063,0.8888177029500384,0.5576252653515333,0.4908202349093225,1.0,0.8142246259723382,0.7280524825485022,0.6163237276738904,0.17703596665472401,0.6476238655823233,0.4602636037041317,0.34662369749619987,0.6466250006488805,-0.11895484833565295,0.7149218870280275,0.7387549662727385,0.6932541633409178,0.8057982996082511],[0.9397019371421607,0.9536101308788714,0.38258397938440875,0.4629264591499913,0.8142246259723382,1.0,0.6744968577822401,0.6940822082644922,-0.04863975650919586,0.6954440573734076,0.32581241072729566,0.2094065952051806,0.6893523616343529,-0.14445642437394351,0.7481241234608764,0.6374697670203188,0.6291295345521696,0.6956914004998938],[0.7684229998229656,0.765955418086129,0.4914594623293501,0.6075770589850393,0.7280524825485022,0.6744968577822401,1.0,0.6457381785274899,0.15590663248436676,0.6835767109255645,0.4419770412720791,0.23547533285566324,0.6861941537441607,-0.29812295208698203,0.6078600289981847,0.7367270138178194,0.7568419191979942,0.6013595664312766],[0.7804402596886771,0.7752912667843034,0.48741598417953824,0.3783310364207248,0.6163237276738904,0.6940822082644922,0.6457381785274899,1.0,0.061965233979919064,0.6894172805868769,0.3100758094792302,0.2056912515958557,0.6484349949205961,-0.0794732835334131,0.6531329354399196,0.6009726676619486,0.4749939350578116,0.5885616682528044],[0.13679761494122797,0.13140827859133447,0.5815807240455092,-0.028682377800499332,0.17703596665472401,-0.04863975650919586,0.15590663248436676,0.061965233979919064,1.0,0.05942532696552297,0.3664439361588767,0.6097619064425848,0.1904077398668048,0.09795924856517488,0.010038209437970262,0.30929958390069634,0.06786342198908306,0.26801877429746773],[0.748804784284202,0.7515796137489186,0.38066767359841075,0.4207624192070843,0.6476238655823233,0.6954440573734076,0.6835767109255645,0.6894172805868769,0.05942532696552297,1.0,0.32053043471160103,0.18194870385366957,0.580812286310055,-0.21924517219493192,0.6668080936721641,0.6443700472980675,0.550132740512133,0.5961377233918516],[0.4737274062056085,0.45991227012481806,0.48218188653998256,0.1573884998960086,0.4602636037041317,0.32581241072729566,0.4419770412720791,0.3100758094792302,0.3664439361588767,0.32053043471160103,1.0,0.34911604734388674,0.3892213821819724,0.15140852314715822,0.3553187450841252,0.47020812700802617,0.3083297151569262,0.5301373656212736],[0.38389979547902253,0.3607558272702929,0.6270879853528416,0.17650795168713204,0.34662369749619987,0.2094065952051806,0.23547533285566324,0.2056912515958557,0.6097619064425848,0.18194870385366957,0.34911604734388674,1.0,0.3200459567591256,0.25148489674088587,0.14277793487503712,0.25396453815066333,0.27380045138737125,0.4435761794020935],[0.7711455875488896,0.7670975243494594,0.554899789232765,0.415585676532449,0.6466250006488805,0.6893523616343529,0.6861941537441607,0.6484349949205961,0.1904077398668048,0.580812286310055,0.3892213821819724,0.3200459567591256,1.0,0.05163886094553703,0.5355322805608936,0.5534906000048408,0.5928826380087678,0.6756487110845072],[-0.05967038003247364,-0.08338868565144451,0.17011131679351296,-0.1929500173628988,-0.11895484833565295,-0.14445642437394351,-0.29812295208698203,-0.0794732835334131,0.09795924856517488,-0.21924517219493192,0.15140852314715822,0.25148489674088587,0.05163886094553703,1.0,-0.1880409867282436,-0.2733573402842121,-0.2461388107588147,0.12417277706108494],[0.7856542837639875,0.8007891920624037,0.3402946535230921,0.44054066589733426,0.7149218870280275,0.7481241234608764,0.6078600289981847,0.6531329354399196,0.010038209437970262,0.6668080936721641,0.3553187450841252,0.14277793487503712,0.5355322805608936,-0.1880409867282436,1.0,0.6882698695026167,0.44869858051875355,0.6247613107213019],[0.7515619752708759,0.7528434248458349,0.5725471707733607,0.40135060733628153,0.7387549662727385,0.6374697670203188,0.7367270138178194,0.6009726676619486,0.30929958390069634,0.6443700472980675,0.47020812700802617,0.25396453815066333,0.5534906000048408,-0.2733573402842121,0.6882698695026167,1.0,0.5497686055829981,0.6915286433427912],[0.6842024695949764,0.6780315979263245,0.45121273588609173,0.5520836678732701,0.6932541633409178,0.6291295345521696,0.7568419191979942,0.4749939350578116,0.06786342198908306,0.550132740512133,0.3083297151569262,0.27380045138737125,0.5928826380087678,-0.2461388107588147,0.44869858051875355,0.5497686055829981,1.0,0.49853347394185266],[0.8613789695840384,0.8400559179911233,0.6509597038396852,0.4121666412899757,0.8057982996082511,0.6956914004998938,0.6013595664312766,0.5885616682528044,0.26801877429746773,0.5961377233918516,0.5301373656212736,0.4435761794020935,0.6756487110845072,0.12417277706108494,0.6247613107213019,0.6915286433427912,0.49853347394185266,1.0]],\"zmax\":1,\"zmin\":-1}],                        {\"annotations\":[{\"font\":{\"color\":\"black\",\"size\":10},\"showarrow\":false,\"text\":\"1.00\",\"x\":\"Australia\",\"y\":\"Australia\"},{\"font\":{\"color\":\"black\",\"size\":10},\"showarrow\":false,\"text\":\"1.00\",\"x\":\"Brazil\",\"y\":\"Australia\"},{\"font\":{\"color\":\"black\",\"size\":10},\"showarrow\":false,\"text\":\"0.59\",\"x\":\"Canada\",\"y\":\"Australia\"},{\"font\":{\"color\":\"black\",\"size\":10},\"showarrow\":false,\"text\":\"0.52\",\"x\":\"China\",\"y\":\"Australia\"},{\"font\":{\"color\":\"black\",\"size\":10},\"showarrow\":false,\"text\":\"0.89\",\"x\":\"France\",\"y\":\"Australia\"},{\"font\":{\"color\":\"black\",\"size\":10},\"showarrow\":false,\"text\":\"0.94\",\"x\":\"Germany\",\"y\":\"Australia\"},{\"font\":{\"color\":\"black\",\"size\":10},\"showarrow\":false,\"text\":\"0.77\",\"x\":\"India\",\"y\":\"Australia\"},{\"font\":{\"color\":\"black\",\"size\":10},\"showarrow\":false,\"text\":\"0.78\",\"x\":\"Indonesia\",\"y\":\"Australia\"},{\"font\":{\"color\":\"black\",\"size\":10},\"showarrow\":false,\"text\":\"0.14\",\"x\":\"Italy\",\"y\":\"Australia\"},{\"font\":{\"color\":\"black\",\"size\":10},\"showarrow\":false,\"text\":\"0.75\",\"x\":\"Japan\",\"y\":\"Australia\"},{\"font\":{\"color\":\"black\",\"size\":10},\"showarrow\":false,\"text\":\"0.47\",\"x\":\"Mexico\",\"y\":\"Australia\"},{\"font\":{\"color\":\"black\",\"size\":10},\"showarrow\":false,\"text\":\"0.38\",\"x\":\"Russia\",\"y\":\"Australia\"},{\"font\":{\"color\":\"black\",\"size\":10},\"showarrow\":false,\"text\":\"0.77\",\"x\":\"Saudi Arabia\",\"y\":\"Australia\"},{\"font\":{\"color\":\"black\",\"size\":10},\"showarrow\":false,\"text\":\"-0.06\",\"x\":\"South Africa\",\"y\":\"Australia\"},{\"font\":{\"color\":\"black\",\"size\":10},\"showarrow\":false,\"text\":\"0.79\",\"x\":\"South Korea\",\"y\":\"Australia\"},{\"font\":{\"color\":\"black\",\"size\":10},\"showarrow\":false,\"text\":\"0.75\",\"x\":\"Turkey\",\"y\":\"Australia\"},{\"font\":{\"color\":\"black\",\"size\":10},\"showarrow\":false,\"text\":\"0.68\",\"x\":\"United Kingdom\",\"y\":\"Australia\"},{\"font\":{\"color\":\"black\",\"size\":10},\"showarrow\":false,\"text\":\"0.86\",\"x\":\"United States\",\"y\":\"Australia\"},{\"font\":{\"color\":\"black\",\"size\":10},\"showarrow\":false,\"text\":\"1.00\",\"x\":\"Australia\",\"y\":\"Brazil\"},{\"font\":{\"color\":\"black\",\"size\":10},\"showarrow\":false,\"text\":\"1.00\",\"x\":\"Brazil\",\"y\":\"Brazil\"},{\"font\":{\"color\":\"black\",\"size\":10},\"showarrow\":false,\"text\":\"0.57\",\"x\":\"Canada\",\"y\":\"Brazil\"},{\"font\":{\"color\":\"black\",\"size\":10},\"showarrow\":false,\"text\":\"0.53\",\"x\":\"China\",\"y\":\"Brazil\"},{\"font\":{\"color\":\"black\",\"size\":10},\"showarrow\":false,\"text\":\"0.89\",\"x\":\"France\",\"y\":\"Brazil\"},{\"font\":{\"color\":\"black\",\"size\":10},\"showarrow\":false,\"text\":\"0.95\",\"x\":\"Germany\",\"y\":\"Brazil\"},{\"font\":{\"color\":\"black\",\"size\":10},\"showarrow\":false,\"text\":\"0.77\",\"x\":\"India\",\"y\":\"Brazil\"},{\"font\":{\"color\":\"black\",\"size\":10},\"showarrow\":false,\"text\":\"0.78\",\"x\":\"Indonesia\",\"y\":\"Brazil\"},{\"font\":{\"color\":\"black\",\"size\":10},\"showarrow\":false,\"text\":\"0.13\",\"x\":\"Italy\",\"y\":\"Brazil\"},{\"font\":{\"color\":\"black\",\"size\":10},\"showarrow\":false,\"text\":\"0.75\",\"x\":\"Japan\",\"y\":\"Brazil\"},{\"font\":{\"color\":\"black\",\"size\":10},\"showarrow\":false,\"text\":\"0.46\",\"x\":\"Mexico\",\"y\":\"Brazil\"},{\"font\":{\"color\":\"black\",\"size\":10},\"showarrow\":false,\"text\":\"0.36\",\"x\":\"Russia\",\"y\":\"Brazil\"},{\"font\":{\"color\":\"black\",\"size\":10},\"showarrow\":false,\"text\":\"0.77\",\"x\":\"Saudi Arabia\",\"y\":\"Brazil\"},{\"font\":{\"color\":\"black\",\"size\":10},\"showarrow\":false,\"text\":\"-0.08\",\"x\":\"South Africa\",\"y\":\"Brazil\"},{\"font\":{\"color\":\"black\",\"size\":10},\"showarrow\":false,\"text\":\"0.80\",\"x\":\"South Korea\",\"y\":\"Brazil\"},{\"font\":{\"color\":\"black\",\"size\":10},\"showarrow\":false,\"text\":\"0.75\",\"x\":\"Turkey\",\"y\":\"Brazil\"},{\"font\":{\"color\":\"black\",\"size\":10},\"showarrow\":false,\"text\":\"0.68\",\"x\":\"United Kingdom\",\"y\":\"Brazil\"},{\"font\":{\"color\":\"black\",\"size\":10},\"showarrow\":false,\"text\":\"0.84\",\"x\":\"United States\",\"y\":\"Brazil\"},{\"font\":{\"color\":\"black\",\"size\":10},\"showarrow\":false,\"text\":\"0.59\",\"x\":\"Australia\",\"y\":\"Canada\"},{\"font\":{\"color\":\"black\",\"size\":10},\"showarrow\":false,\"text\":\"0.57\",\"x\":\"Brazil\",\"y\":\"Canada\"},{\"font\":{\"color\":\"black\",\"size\":10},\"showarrow\":false,\"text\":\"1.00\",\"x\":\"Canada\",\"y\":\"Canada\"},{\"font\":{\"color\":\"black\",\"size\":10},\"showarrow\":false,\"text\":\"0.25\",\"x\":\"China\",\"y\":\"Canada\"},{\"font\":{\"color\":\"black\",\"size\":10},\"showarrow\":false,\"text\":\"0.56\",\"x\":\"France\",\"y\":\"Canada\"},{\"font\":{\"color\":\"black\",\"size\":10},\"showarrow\":false,\"text\":\"0.38\",\"x\":\"Germany\",\"y\":\"Canada\"},{\"font\":{\"color\":\"black\",\"size\":10},\"showarrow\":false,\"text\":\"0.49\",\"x\":\"India\",\"y\":\"Canada\"},{\"font\":{\"color\":\"black\",\"size\":10},\"showarrow\":false,\"text\":\"0.49\",\"x\":\"Indonesia\",\"y\":\"Canada\"},{\"font\":{\"color\":\"black\",\"size\":10},\"showarrow\":false,\"text\":\"0.58\",\"x\":\"Italy\",\"y\":\"Canada\"},{\"font\":{\"color\":\"black\",\"size\":10},\"showarrow\":false,\"text\":\"0.38\",\"x\":\"Japan\",\"y\":\"Canada\"},{\"font\":{\"color\":\"black\",\"size\":10},\"showarrow\":false,\"text\":\"0.48\",\"x\":\"Mexico\",\"y\":\"Canada\"},{\"font\":{\"color\":\"black\",\"size\":10},\"showarrow\":false,\"text\":\"0.63\",\"x\":\"Russia\",\"y\":\"Canada\"},{\"font\":{\"color\":\"black\",\"size\":10},\"showarrow\":false,\"text\":\"0.55\",\"x\":\"Saudi Arabia\",\"y\":\"Canada\"},{\"font\":{\"color\":\"black\",\"size\":10},\"showarrow\":false,\"text\":\"0.17\",\"x\":\"South Africa\",\"y\":\"Canada\"},{\"font\":{\"color\":\"black\",\"size\":10},\"showarrow\":false,\"text\":\"0.34\",\"x\":\"South Korea\",\"y\":\"Canada\"},{\"font\":{\"color\":\"black\",\"size\":10},\"showarrow\":false,\"text\":\"0.57\",\"x\":\"Turkey\",\"y\":\"Canada\"},{\"font\":{\"color\":\"black\",\"size\":10},\"showarrow\":false,\"text\":\"0.45\",\"x\":\"United Kingdom\",\"y\":\"Canada\"},{\"font\":{\"color\":\"black\",\"size\":10},\"showarrow\":false,\"text\":\"0.65\",\"x\":\"United States\",\"y\":\"Canada\"},{\"font\":{\"color\":\"black\",\"size\":10},\"showarrow\":false,\"text\":\"0.52\",\"x\":\"Australia\",\"y\":\"China\"},{\"font\":{\"color\":\"black\",\"size\":10},\"showarrow\":false,\"text\":\"0.53\",\"x\":\"Brazil\",\"y\":\"China\"},{\"font\":{\"color\":\"black\",\"size\":10},\"showarrow\":false,\"text\":\"0.25\",\"x\":\"Canada\",\"y\":\"China\"},{\"font\":{\"color\":\"black\",\"size\":10},\"showarrow\":false,\"text\":\"1.00\",\"x\":\"China\",\"y\":\"China\"},{\"font\":{\"color\":\"black\",\"size\":10},\"showarrow\":false,\"text\":\"0.49\",\"x\":\"France\",\"y\":\"China\"},{\"font\":{\"color\":\"black\",\"size\":10},\"showarrow\":false,\"text\":\"0.46\",\"x\":\"Germany\",\"y\":\"China\"},{\"font\":{\"color\":\"black\",\"size\":10},\"showarrow\":false,\"text\":\"0.61\",\"x\":\"India\",\"y\":\"China\"},{\"font\":{\"color\":\"black\",\"size\":10},\"showarrow\":false,\"text\":\"0.38\",\"x\":\"Indonesia\",\"y\":\"China\"},{\"font\":{\"color\":\"black\",\"size\":10},\"showarrow\":false,\"text\":\"-0.03\",\"x\":\"Italy\",\"y\":\"China\"},{\"font\":{\"color\":\"black\",\"size\":10},\"showarrow\":false,\"text\":\"0.42\",\"x\":\"Japan\",\"y\":\"China\"},{\"font\":{\"color\":\"black\",\"size\":10},\"showarrow\":false,\"text\":\"0.16\",\"x\":\"Mexico\",\"y\":\"China\"},{\"font\":{\"color\":\"black\",\"size\":10},\"showarrow\":false,\"text\":\"0.18\",\"x\":\"Russia\",\"y\":\"China\"},{\"font\":{\"color\":\"black\",\"size\":10},\"showarrow\":false,\"text\":\"0.42\",\"x\":\"Saudi Arabia\",\"y\":\"China\"},{\"font\":{\"color\":\"black\",\"size\":10},\"showarrow\":false,\"text\":\"-0.19\",\"x\":\"South Africa\",\"y\":\"China\"},{\"font\":{\"color\":\"black\",\"size\":10},\"showarrow\":false,\"text\":\"0.44\",\"x\":\"South Korea\",\"y\":\"China\"},{\"font\":{\"color\":\"black\",\"size\":10},\"showarrow\":false,\"text\":\"0.40\",\"x\":\"Turkey\",\"y\":\"China\"},{\"font\":{\"color\":\"black\",\"size\":10},\"showarrow\":false,\"text\":\"0.55\",\"x\":\"United Kingdom\",\"y\":\"China\"},{\"font\":{\"color\":\"black\",\"size\":10},\"showarrow\":false,\"text\":\"0.41\",\"x\":\"United States\",\"y\":\"China\"},{\"font\":{\"color\":\"black\",\"size\":10},\"showarrow\":false,\"text\":\"0.89\",\"x\":\"Australia\",\"y\":\"France\"},{\"font\":{\"color\":\"black\",\"size\":10},\"showarrow\":false,\"text\":\"0.89\",\"x\":\"Brazil\",\"y\":\"France\"},{\"font\":{\"color\":\"black\",\"size\":10},\"showarrow\":false,\"text\":\"0.56\",\"x\":\"Canada\",\"y\":\"France\"},{\"font\":{\"color\":\"black\",\"size\":10},\"showarrow\":false,\"text\":\"0.49\",\"x\":\"China\",\"y\":\"France\"},{\"font\":{\"color\":\"black\",\"size\":10},\"showarrow\":false,\"text\":\"1.00\",\"x\":\"France\",\"y\":\"France\"},{\"font\":{\"color\":\"black\",\"size\":10},\"showarrow\":false,\"text\":\"0.81\",\"x\":\"Germany\",\"y\":\"France\"},{\"font\":{\"color\":\"black\",\"size\":10},\"showarrow\":false,\"text\":\"0.73\",\"x\":\"India\",\"y\":\"France\"},{\"font\":{\"color\":\"black\",\"size\":10},\"showarrow\":false,\"text\":\"0.62\",\"x\":\"Indonesia\",\"y\":\"France\"},{\"font\":{\"color\":\"black\",\"size\":10},\"showarrow\":false,\"text\":\"0.18\",\"x\":\"Italy\",\"y\":\"France\"},{\"font\":{\"color\":\"black\",\"size\":10},\"showarrow\":false,\"text\":\"0.65\",\"x\":\"Japan\",\"y\":\"France\"},{\"font\":{\"color\":\"black\",\"size\":10},\"showarrow\":false,\"text\":\"0.46\",\"x\":\"Mexico\",\"y\":\"France\"},{\"font\":{\"color\":\"black\",\"size\":10},\"showarrow\":false,\"text\":\"0.35\",\"x\":\"Russia\",\"y\":\"France\"},{\"font\":{\"color\":\"black\",\"size\":10},\"showarrow\":false,\"text\":\"0.65\",\"x\":\"Saudi Arabia\",\"y\":\"France\"},{\"font\":{\"color\":\"black\",\"size\":10},\"showarrow\":false,\"text\":\"-0.12\",\"x\":\"South Africa\",\"y\":\"France\"},{\"font\":{\"color\":\"black\",\"size\":10},\"showarrow\":false,\"text\":\"0.71\",\"x\":\"South Korea\",\"y\":\"France\"},{\"font\":{\"color\":\"black\",\"size\":10},\"showarrow\":false,\"text\":\"0.74\",\"x\":\"Turkey\",\"y\":\"France\"},{\"font\":{\"color\":\"black\",\"size\":10},\"showarrow\":false,\"text\":\"0.69\",\"x\":\"United Kingdom\",\"y\":\"France\"},{\"font\":{\"color\":\"black\",\"size\":10},\"showarrow\":false,\"text\":\"0.81\",\"x\":\"United States\",\"y\":\"France\"},{\"font\":{\"color\":\"black\",\"size\":10},\"showarrow\":false,\"text\":\"0.94\",\"x\":\"Australia\",\"y\":\"Germany\"},{\"font\":{\"color\":\"black\",\"size\":10},\"showarrow\":false,\"text\":\"0.95\",\"x\":\"Brazil\",\"y\":\"Germany\"},{\"font\":{\"color\":\"black\",\"size\":10},\"showarrow\":false,\"text\":\"0.38\",\"x\":\"Canada\",\"y\":\"Germany\"},{\"font\":{\"color\":\"black\",\"size\":10},\"showarrow\":false,\"text\":\"0.46\",\"x\":\"China\",\"y\":\"Germany\"},{\"font\":{\"color\":\"black\",\"size\":10},\"showarrow\":false,\"text\":\"0.81\",\"x\":\"France\",\"y\":\"Germany\"},{\"font\":{\"color\":\"black\",\"size\":10},\"showarrow\":false,\"text\":\"1.00\",\"x\":\"Germany\",\"y\":\"Germany\"},{\"font\":{\"color\":\"black\",\"size\":10},\"showarrow\":false,\"text\":\"0.67\",\"x\":\"India\",\"y\":\"Germany\"},{\"font\":{\"color\":\"black\",\"size\":10},\"showarrow\":false,\"text\":\"0.69\",\"x\":\"Indonesia\",\"y\":\"Germany\"},{\"font\":{\"color\":\"black\",\"size\":10},\"showarrow\":false,\"text\":\"-0.05\",\"x\":\"Italy\",\"y\":\"Germany\"},{\"font\":{\"color\":\"black\",\"size\":10},\"showarrow\":false,\"text\":\"0.70\",\"x\":\"Japan\",\"y\":\"Germany\"},{\"font\":{\"color\":\"black\",\"size\":10},\"showarrow\":false,\"text\":\"0.33\",\"x\":\"Mexico\",\"y\":\"Germany\"},{\"font\":{\"color\":\"black\",\"size\":10},\"showarrow\":false,\"text\":\"0.21\",\"x\":\"Russia\",\"y\":\"Germany\"},{\"font\":{\"color\":\"black\",\"size\":10},\"showarrow\":false,\"text\":\"0.69\",\"x\":\"Saudi Arabia\",\"y\":\"Germany\"},{\"font\":{\"color\":\"black\",\"size\":10},\"showarrow\":false,\"text\":\"-0.14\",\"x\":\"South Africa\",\"y\":\"Germany\"},{\"font\":{\"color\":\"black\",\"size\":10},\"showarrow\":false,\"text\":\"0.75\",\"x\":\"South Korea\",\"y\":\"Germany\"},{\"font\":{\"color\":\"black\",\"size\":10},\"showarrow\":false,\"text\":\"0.64\",\"x\":\"Turkey\",\"y\":\"Germany\"},{\"font\":{\"color\":\"black\",\"size\":10},\"showarrow\":false,\"text\":\"0.63\",\"x\":\"United Kingdom\",\"y\":\"Germany\"},{\"font\":{\"color\":\"black\",\"size\":10},\"showarrow\":false,\"text\":\"0.70\",\"x\":\"United States\",\"y\":\"Germany\"},{\"font\":{\"color\":\"black\",\"size\":10},\"showarrow\":false,\"text\":\"0.77\",\"x\":\"Australia\",\"y\":\"India\"},{\"font\":{\"color\":\"black\",\"size\":10},\"showarrow\":false,\"text\":\"0.77\",\"x\":\"Brazil\",\"y\":\"India\"},{\"font\":{\"color\":\"black\",\"size\":10},\"showarrow\":false,\"text\":\"0.49\",\"x\":\"Canada\",\"y\":\"India\"},{\"font\":{\"color\":\"black\",\"size\":10},\"showarrow\":false,\"text\":\"0.61\",\"x\":\"China\",\"y\":\"India\"},{\"font\":{\"color\":\"black\",\"size\":10},\"showarrow\":false,\"text\":\"0.73\",\"x\":\"France\",\"y\":\"India\"},{\"font\":{\"color\":\"black\",\"size\":10},\"showarrow\":false,\"text\":\"0.67\",\"x\":\"Germany\",\"y\":\"India\"},{\"font\":{\"color\":\"black\",\"size\":10},\"showarrow\":false,\"text\":\"1.00\",\"x\":\"India\",\"y\":\"India\"},{\"font\":{\"color\":\"black\",\"size\":10},\"showarrow\":false,\"text\":\"0.65\",\"x\":\"Indonesia\",\"y\":\"India\"},{\"font\":{\"color\":\"black\",\"size\":10},\"showarrow\":false,\"text\":\"0.16\",\"x\":\"Italy\",\"y\":\"India\"},{\"font\":{\"color\":\"black\",\"size\":10},\"showarrow\":false,\"text\":\"0.68\",\"x\":\"Japan\",\"y\":\"India\"},{\"font\":{\"color\":\"black\",\"size\":10},\"showarrow\":false,\"text\":\"0.44\",\"x\":\"Mexico\",\"y\":\"India\"},{\"font\":{\"color\":\"black\",\"size\":10},\"showarrow\":false,\"text\":\"0.24\",\"x\":\"Russia\",\"y\":\"India\"},{\"font\":{\"color\":\"black\",\"size\":10},\"showarrow\":false,\"text\":\"0.69\",\"x\":\"Saudi Arabia\",\"y\":\"India\"},{\"font\":{\"color\":\"black\",\"size\":10},\"showarrow\":false,\"text\":\"-0.30\",\"x\":\"South Africa\",\"y\":\"India\"},{\"font\":{\"color\":\"black\",\"size\":10},\"showarrow\":false,\"text\":\"0.61\",\"x\":\"South Korea\",\"y\":\"India\"},{\"font\":{\"color\":\"black\",\"size\":10},\"showarrow\":false,\"text\":\"0.74\",\"x\":\"Turkey\",\"y\":\"India\"},{\"font\":{\"color\":\"black\",\"size\":10},\"showarrow\":false,\"text\":\"0.76\",\"x\":\"United Kingdom\",\"y\":\"India\"},{\"font\":{\"color\":\"black\",\"size\":10},\"showarrow\":false,\"text\":\"0.60\",\"x\":\"United States\",\"y\":\"India\"},{\"font\":{\"color\":\"black\",\"size\":10},\"showarrow\":false,\"text\":\"0.78\",\"x\":\"Australia\",\"y\":\"Indonesia\"},{\"font\":{\"color\":\"black\",\"size\":10},\"showarrow\":false,\"text\":\"0.78\",\"x\":\"Brazil\",\"y\":\"Indonesia\"},{\"font\":{\"color\":\"black\",\"size\":10},\"showarrow\":false,\"text\":\"0.49\",\"x\":\"Canada\",\"y\":\"Indonesia\"},{\"font\":{\"color\":\"black\",\"size\":10},\"showarrow\":false,\"text\":\"0.38\",\"x\":\"China\",\"y\":\"Indonesia\"},{\"font\":{\"color\":\"black\",\"size\":10},\"showarrow\":false,\"text\":\"0.62\",\"x\":\"France\",\"y\":\"Indonesia\"},{\"font\":{\"color\":\"black\",\"size\":10},\"showarrow\":false,\"text\":\"0.69\",\"x\":\"Germany\",\"y\":\"Indonesia\"},{\"font\":{\"color\":\"black\",\"size\":10},\"showarrow\":false,\"text\":\"0.65\",\"x\":\"India\",\"y\":\"Indonesia\"},{\"font\":{\"color\":\"black\",\"size\":10},\"showarrow\":false,\"text\":\"1.00\",\"x\":\"Indonesia\",\"y\":\"Indonesia\"},{\"font\":{\"color\":\"black\",\"size\":10},\"showarrow\":false,\"text\":\"0.06\",\"x\":\"Italy\",\"y\":\"Indonesia\"},{\"font\":{\"color\":\"black\",\"size\":10},\"showarrow\":false,\"text\":\"0.69\",\"x\":\"Japan\",\"y\":\"Indonesia\"},{\"font\":{\"color\":\"black\",\"size\":10},\"showarrow\":false,\"text\":\"0.31\",\"x\":\"Mexico\",\"y\":\"Indonesia\"},{\"font\":{\"color\":\"black\",\"size\":10},\"showarrow\":false,\"text\":\"0.21\",\"x\":\"Russia\",\"y\":\"Indonesia\"},{\"font\":{\"color\":\"black\",\"size\":10},\"showarrow\":false,\"text\":\"0.65\",\"x\":\"Saudi Arabia\",\"y\":\"Indonesia\"},{\"font\":{\"color\":\"black\",\"size\":10},\"showarrow\":false,\"text\":\"-0.08\",\"x\":\"South Africa\",\"y\":\"Indonesia\"},{\"font\":{\"color\":\"black\",\"size\":10},\"showarrow\":false,\"text\":\"0.65\",\"x\":\"South Korea\",\"y\":\"Indonesia\"},{\"font\":{\"color\":\"black\",\"size\":10},\"showarrow\":false,\"text\":\"0.60\",\"x\":\"Turkey\",\"y\":\"Indonesia\"},{\"font\":{\"color\":\"black\",\"size\":10},\"showarrow\":false,\"text\":\"0.47\",\"x\":\"United Kingdom\",\"y\":\"Indonesia\"},{\"font\":{\"color\":\"black\",\"size\":10},\"showarrow\":false,\"text\":\"0.59\",\"x\":\"United States\",\"y\":\"Indonesia\"},{\"font\":{\"color\":\"black\",\"size\":10},\"showarrow\":false,\"text\":\"0.14\",\"x\":\"Australia\",\"y\":\"Italy\"},{\"font\":{\"color\":\"black\",\"size\":10},\"showarrow\":false,\"text\":\"0.13\",\"x\":\"Brazil\",\"y\":\"Italy\"},{\"font\":{\"color\":\"black\",\"size\":10},\"showarrow\":false,\"text\":\"0.58\",\"x\":\"Canada\",\"y\":\"Italy\"},{\"font\":{\"color\":\"black\",\"size\":10},\"showarrow\":false,\"text\":\"-0.03\",\"x\":\"China\",\"y\":\"Italy\"},{\"font\":{\"color\":\"black\",\"size\":10},\"showarrow\":false,\"text\":\"0.18\",\"x\":\"France\",\"y\":\"Italy\"},{\"font\":{\"color\":\"black\",\"size\":10},\"showarrow\":false,\"text\":\"-0.05\",\"x\":\"Germany\",\"y\":\"Italy\"},{\"font\":{\"color\":\"black\",\"size\":10},\"showarrow\":false,\"text\":\"0.16\",\"x\":\"India\",\"y\":\"Italy\"},{\"font\":{\"color\":\"black\",\"size\":10},\"showarrow\":false,\"text\":\"0.06\",\"x\":\"Indonesia\",\"y\":\"Italy\"},{\"font\":{\"color\":\"black\",\"size\":10},\"showarrow\":false,\"text\":\"1.00\",\"x\":\"Italy\",\"y\":\"Italy\"},{\"font\":{\"color\":\"black\",\"size\":10},\"showarrow\":false,\"text\":\"0.06\",\"x\":\"Japan\",\"y\":\"Italy\"},{\"font\":{\"color\":\"black\",\"size\":10},\"showarrow\":false,\"text\":\"0.37\",\"x\":\"Mexico\",\"y\":\"Italy\"},{\"font\":{\"color\":\"black\",\"size\":10},\"showarrow\":false,\"text\":\"0.61\",\"x\":\"Russia\",\"y\":\"Italy\"},{\"font\":{\"color\":\"black\",\"size\":10},\"showarrow\":false,\"text\":\"0.19\",\"x\":\"Saudi Arabia\",\"y\":\"Italy\"},{\"font\":{\"color\":\"black\",\"size\":10},\"showarrow\":false,\"text\":\"0.10\",\"x\":\"South Africa\",\"y\":\"Italy\"},{\"font\":{\"color\":\"black\",\"size\":10},\"showarrow\":false,\"text\":\"0.01\",\"x\":\"South Korea\",\"y\":\"Italy\"},{\"font\":{\"color\":\"black\",\"size\":10},\"showarrow\":false,\"text\":\"0.31\",\"x\":\"Turkey\",\"y\":\"Italy\"},{\"font\":{\"color\":\"black\",\"size\":10},\"showarrow\":false,\"text\":\"0.07\",\"x\":\"United Kingdom\",\"y\":\"Italy\"},{\"font\":{\"color\":\"black\",\"size\":10},\"showarrow\":false,\"text\":\"0.27\",\"x\":\"United States\",\"y\":\"Italy\"},{\"font\":{\"color\":\"black\",\"size\":10},\"showarrow\":false,\"text\":\"0.75\",\"x\":\"Australia\",\"y\":\"Japan\"},{\"font\":{\"color\":\"black\",\"size\":10},\"showarrow\":false,\"text\":\"0.75\",\"x\":\"Brazil\",\"y\":\"Japan\"},{\"font\":{\"color\":\"black\",\"size\":10},\"showarrow\":false,\"text\":\"0.38\",\"x\":\"Canada\",\"y\":\"Japan\"},{\"font\":{\"color\":\"black\",\"size\":10},\"showarrow\":false,\"text\":\"0.42\",\"x\":\"China\",\"y\":\"Japan\"},{\"font\":{\"color\":\"black\",\"size\":10},\"showarrow\":false,\"text\":\"0.65\",\"x\":\"France\",\"y\":\"Japan\"},{\"font\":{\"color\":\"black\",\"size\":10},\"showarrow\":false,\"text\":\"0.70\",\"x\":\"Germany\",\"y\":\"Japan\"},{\"font\":{\"color\":\"black\",\"size\":10},\"showarrow\":false,\"text\":\"0.68\",\"x\":\"India\",\"y\":\"Japan\"},{\"font\":{\"color\":\"black\",\"size\":10},\"showarrow\":false,\"text\":\"0.69\",\"x\":\"Indonesia\",\"y\":\"Japan\"},{\"font\":{\"color\":\"black\",\"size\":10},\"showarrow\":false,\"text\":\"0.06\",\"x\":\"Italy\",\"y\":\"Japan\"},{\"font\":{\"color\":\"black\",\"size\":10},\"showarrow\":false,\"text\":\"1.00\",\"x\":\"Japan\",\"y\":\"Japan\"},{\"font\":{\"color\":\"black\",\"size\":10},\"showarrow\":false,\"text\":\"0.32\",\"x\":\"Mexico\",\"y\":\"Japan\"},{\"font\":{\"color\":\"black\",\"size\":10},\"showarrow\":false,\"text\":\"0.18\",\"x\":\"Russia\",\"y\":\"Japan\"},{\"font\":{\"color\":\"black\",\"size\":10},\"showarrow\":false,\"text\":\"0.58\",\"x\":\"Saudi Arabia\",\"y\":\"Japan\"},{\"font\":{\"color\":\"black\",\"size\":10},\"showarrow\":false,\"text\":\"-0.22\",\"x\":\"South Africa\",\"y\":\"Japan\"},{\"font\":{\"color\":\"black\",\"size\":10},\"showarrow\":false,\"text\":\"0.67\",\"x\":\"South Korea\",\"y\":\"Japan\"},{\"font\":{\"color\":\"black\",\"size\":10},\"showarrow\":false,\"text\":\"0.64\",\"x\":\"Turkey\",\"y\":\"Japan\"},{\"font\":{\"color\":\"black\",\"size\":10},\"showarrow\":false,\"text\":\"0.55\",\"x\":\"United Kingdom\",\"y\":\"Japan\"},{\"font\":{\"color\":\"black\",\"size\":10},\"showarrow\":false,\"text\":\"0.60\",\"x\":\"United States\",\"y\":\"Japan\"},{\"font\":{\"color\":\"black\",\"size\":10},\"showarrow\":false,\"text\":\"0.47\",\"x\":\"Australia\",\"y\":\"Mexico\"},{\"font\":{\"color\":\"black\",\"size\":10},\"showarrow\":false,\"text\":\"0.46\",\"x\":\"Brazil\",\"y\":\"Mexico\"},{\"font\":{\"color\":\"black\",\"size\":10},\"showarrow\":false,\"text\":\"0.48\",\"x\":\"Canada\",\"y\":\"Mexico\"},{\"font\":{\"color\":\"black\",\"size\":10},\"showarrow\":false,\"text\":\"0.16\",\"x\":\"China\",\"y\":\"Mexico\"},{\"font\":{\"color\":\"black\",\"size\":10},\"showarrow\":false,\"text\":\"0.46\",\"x\":\"France\",\"y\":\"Mexico\"},{\"font\":{\"color\":\"black\",\"size\":10},\"showarrow\":false,\"text\":\"0.33\",\"x\":\"Germany\",\"y\":\"Mexico\"},{\"font\":{\"color\":\"black\",\"size\":10},\"showarrow\":false,\"text\":\"0.44\",\"x\":\"India\",\"y\":\"Mexico\"},{\"font\":{\"color\":\"black\",\"size\":10},\"showarrow\":false,\"text\":\"0.31\",\"x\":\"Indonesia\",\"y\":\"Mexico\"},{\"font\":{\"color\":\"black\",\"size\":10},\"showarrow\":false,\"text\":\"0.37\",\"x\":\"Italy\",\"y\":\"Mexico\"},{\"font\":{\"color\":\"black\",\"size\":10},\"showarrow\":false,\"text\":\"0.32\",\"x\":\"Japan\",\"y\":\"Mexico\"},{\"font\":{\"color\":\"black\",\"size\":10},\"showarrow\":false,\"text\":\"1.00\",\"x\":\"Mexico\",\"y\":\"Mexico\"},{\"font\":{\"color\":\"black\",\"size\":10},\"showarrow\":false,\"text\":\"0.35\",\"x\":\"Russia\",\"y\":\"Mexico\"},{\"font\":{\"color\":\"black\",\"size\":10},\"showarrow\":false,\"text\":\"0.39\",\"x\":\"Saudi Arabia\",\"y\":\"Mexico\"},{\"font\":{\"color\":\"black\",\"size\":10},\"showarrow\":false,\"text\":\"0.15\",\"x\":\"South Africa\",\"y\":\"Mexico\"},{\"font\":{\"color\":\"black\",\"size\":10},\"showarrow\":false,\"text\":\"0.36\",\"x\":\"South Korea\",\"y\":\"Mexico\"},{\"font\":{\"color\":\"black\",\"size\":10},\"showarrow\":false,\"text\":\"0.47\",\"x\":\"Turkey\",\"y\":\"Mexico\"},{\"font\":{\"color\":\"black\",\"size\":10},\"showarrow\":false,\"text\":\"0.31\",\"x\":\"United Kingdom\",\"y\":\"Mexico\"},{\"font\":{\"color\":\"black\",\"size\":10},\"showarrow\":false,\"text\":\"0.53\",\"x\":\"United States\",\"y\":\"Mexico\"},{\"font\":{\"color\":\"black\",\"size\":10},\"showarrow\":false,\"text\":\"0.38\",\"x\":\"Australia\",\"y\":\"Russia\"},{\"font\":{\"color\":\"black\",\"size\":10},\"showarrow\":false,\"text\":\"0.36\",\"x\":\"Brazil\",\"y\":\"Russia\"},{\"font\":{\"color\":\"black\",\"size\":10},\"showarrow\":false,\"text\":\"0.63\",\"x\":\"Canada\",\"y\":\"Russia\"},{\"font\":{\"color\":\"black\",\"size\":10},\"showarrow\":false,\"text\":\"0.18\",\"x\":\"China\",\"y\":\"Russia\"},{\"font\":{\"color\":\"black\",\"size\":10},\"showarrow\":false,\"text\":\"0.35\",\"x\":\"France\",\"y\":\"Russia\"},{\"font\":{\"color\":\"black\",\"size\":10},\"showarrow\":false,\"text\":\"0.21\",\"x\":\"Germany\",\"y\":\"Russia\"},{\"font\":{\"color\":\"black\",\"size\":10},\"showarrow\":false,\"text\":\"0.24\",\"x\":\"India\",\"y\":\"Russia\"},{\"font\":{\"color\":\"black\",\"size\":10},\"showarrow\":false,\"text\":\"0.21\",\"x\":\"Indonesia\",\"y\":\"Russia\"},{\"font\":{\"color\":\"black\",\"size\":10},\"showarrow\":false,\"text\":\"0.61\",\"x\":\"Italy\",\"y\":\"Russia\"},{\"font\":{\"color\":\"black\",\"size\":10},\"showarrow\":false,\"text\":\"0.18\",\"x\":\"Japan\",\"y\":\"Russia\"},{\"font\":{\"color\":\"black\",\"size\":10},\"showarrow\":false,\"text\":\"0.35\",\"x\":\"Mexico\",\"y\":\"Russia\"},{\"font\":{\"color\":\"black\",\"size\":10},\"showarrow\":false,\"text\":\"1.00\",\"x\":\"Russia\",\"y\":\"Russia\"},{\"font\":{\"color\":\"black\",\"size\":10},\"showarrow\":false,\"text\":\"0.32\",\"x\":\"Saudi Arabia\",\"y\":\"Russia\"},{\"font\":{\"color\":\"black\",\"size\":10},\"showarrow\":false,\"text\":\"0.25\",\"x\":\"South Africa\",\"y\":\"Russia\"},{\"font\":{\"color\":\"black\",\"size\":10},\"showarrow\":false,\"text\":\"0.14\",\"x\":\"South Korea\",\"y\":\"Russia\"},{\"font\":{\"color\":\"black\",\"size\":10},\"showarrow\":false,\"text\":\"0.25\",\"x\":\"Turkey\",\"y\":\"Russia\"},{\"font\":{\"color\":\"black\",\"size\":10},\"showarrow\":false,\"text\":\"0.27\",\"x\":\"United Kingdom\",\"y\":\"Russia\"},{\"font\":{\"color\":\"black\",\"size\":10},\"showarrow\":false,\"text\":\"0.44\",\"x\":\"United States\",\"y\":\"Russia\"},{\"font\":{\"color\":\"black\",\"size\":10},\"showarrow\":false,\"text\":\"0.77\",\"x\":\"Australia\",\"y\":\"Saudi Arabia\"},{\"font\":{\"color\":\"black\",\"size\":10},\"showarrow\":false,\"text\":\"0.77\",\"x\":\"Brazil\",\"y\":\"Saudi Arabia\"},{\"font\":{\"color\":\"black\",\"size\":10},\"showarrow\":false,\"text\":\"0.55\",\"x\":\"Canada\",\"y\":\"Saudi Arabia\"},{\"font\":{\"color\":\"black\",\"size\":10},\"showarrow\":false,\"text\":\"0.42\",\"x\":\"China\",\"y\":\"Saudi Arabia\"},{\"font\":{\"color\":\"black\",\"size\":10},\"showarrow\":false,\"text\":\"0.65\",\"x\":\"France\",\"y\":\"Saudi Arabia\"},{\"font\":{\"color\":\"black\",\"size\":10},\"showarrow\":false,\"text\":\"0.69\",\"x\":\"Germany\",\"y\":\"Saudi Arabia\"},{\"font\":{\"color\":\"black\",\"size\":10},\"showarrow\":false,\"text\":\"0.69\",\"x\":\"India\",\"y\":\"Saudi Arabia\"},{\"font\":{\"color\":\"black\",\"size\":10},\"showarrow\":false,\"text\":\"0.65\",\"x\":\"Indonesia\",\"y\":\"Saudi Arabia\"},{\"font\":{\"color\":\"black\",\"size\":10},\"showarrow\":false,\"text\":\"0.19\",\"x\":\"Italy\",\"y\":\"Saudi Arabia\"},{\"font\":{\"color\":\"black\",\"size\":10},\"showarrow\":false,\"text\":\"0.58\",\"x\":\"Japan\",\"y\":\"Saudi Arabia\"},{\"font\":{\"color\":\"black\",\"size\":10},\"showarrow\":false,\"text\":\"0.39\",\"x\":\"Mexico\",\"y\":\"Saudi Arabia\"},{\"font\":{\"color\":\"black\",\"size\":10},\"showarrow\":false,\"text\":\"0.32\",\"x\":\"Russia\",\"y\":\"Saudi Arabia\"},{\"font\":{\"color\":\"black\",\"size\":10},\"showarrow\":false,\"text\":\"1.00\",\"x\":\"Saudi Arabia\",\"y\":\"Saudi Arabia\"},{\"font\":{\"color\":\"black\",\"size\":10},\"showarrow\":false,\"text\":\"0.05\",\"x\":\"South Africa\",\"y\":\"Saudi Arabia\"},{\"font\":{\"color\":\"black\",\"size\":10},\"showarrow\":false,\"text\":\"0.54\",\"x\":\"South Korea\",\"y\":\"Saudi Arabia\"},{\"font\":{\"color\":\"black\",\"size\":10},\"showarrow\":false,\"text\":\"0.55\",\"x\":\"Turkey\",\"y\":\"Saudi Arabia\"},{\"font\":{\"color\":\"black\",\"size\":10},\"showarrow\":false,\"text\":\"0.59\",\"x\":\"United Kingdom\",\"y\":\"Saudi Arabia\"},{\"font\":{\"color\":\"black\",\"size\":10},\"showarrow\":false,\"text\":\"0.68\",\"x\":\"United States\",\"y\":\"Saudi Arabia\"},{\"font\":{\"color\":\"black\",\"size\":10},\"showarrow\":false,\"text\":\"-0.06\",\"x\":\"Australia\",\"y\":\"South Africa\"},{\"font\":{\"color\":\"black\",\"size\":10},\"showarrow\":false,\"text\":\"-0.08\",\"x\":\"Brazil\",\"y\":\"South Africa\"},{\"font\":{\"color\":\"black\",\"size\":10},\"showarrow\":false,\"text\":\"0.17\",\"x\":\"Canada\",\"y\":\"South Africa\"},{\"font\":{\"color\":\"black\",\"size\":10},\"showarrow\":false,\"text\":\"-0.19\",\"x\":\"China\",\"y\":\"South Africa\"},{\"font\":{\"color\":\"black\",\"size\":10},\"showarrow\":false,\"text\":\"-0.12\",\"x\":\"France\",\"y\":\"South Africa\"},{\"font\":{\"color\":\"black\",\"size\":10},\"showarrow\":false,\"text\":\"-0.14\",\"x\":\"Germany\",\"y\":\"South Africa\"},{\"font\":{\"color\":\"black\",\"size\":10},\"showarrow\":false,\"text\":\"-0.30\",\"x\":\"India\",\"y\":\"South Africa\"},{\"font\":{\"color\":\"black\",\"size\":10},\"showarrow\":false,\"text\":\"-0.08\",\"x\":\"Indonesia\",\"y\":\"South Africa\"},{\"font\":{\"color\":\"black\",\"size\":10},\"showarrow\":false,\"text\":\"0.10\",\"x\":\"Italy\",\"y\":\"South Africa\"},{\"font\":{\"color\":\"black\",\"size\":10},\"showarrow\":false,\"text\":\"-0.22\",\"x\":\"Japan\",\"y\":\"South Africa\"},{\"font\":{\"color\":\"black\",\"size\":10},\"showarrow\":false,\"text\":\"0.15\",\"x\":\"Mexico\",\"y\":\"South Africa\"},{\"font\":{\"color\":\"black\",\"size\":10},\"showarrow\":false,\"text\":\"0.25\",\"x\":\"Russia\",\"y\":\"South Africa\"},{\"font\":{\"color\":\"black\",\"size\":10},\"showarrow\":false,\"text\":\"0.05\",\"x\":\"Saudi Arabia\",\"y\":\"South Africa\"},{\"font\":{\"color\":\"black\",\"size\":10},\"showarrow\":false,\"text\":\"1.00\",\"x\":\"South Africa\",\"y\":\"South Africa\"},{\"font\":{\"color\":\"black\",\"size\":10},\"showarrow\":false,\"text\":\"-0.19\",\"x\":\"South Korea\",\"y\":\"South Africa\"},{\"font\":{\"color\":\"black\",\"size\":10},\"showarrow\":false,\"text\":\"-0.27\",\"x\":\"Turkey\",\"y\":\"South Africa\"},{\"font\":{\"color\":\"black\",\"size\":10},\"showarrow\":false,\"text\":\"-0.25\",\"x\":\"United Kingdom\",\"y\":\"South Africa\"},{\"font\":{\"color\":\"black\",\"size\":10},\"showarrow\":false,\"text\":\"0.12\",\"x\":\"United States\",\"y\":\"South Africa\"},{\"font\":{\"color\":\"black\",\"size\":10},\"showarrow\":false,\"text\":\"0.79\",\"x\":\"Australia\",\"y\":\"South Korea\"},{\"font\":{\"color\":\"black\",\"size\":10},\"showarrow\":false,\"text\":\"0.80\",\"x\":\"Brazil\",\"y\":\"South Korea\"},{\"font\":{\"color\":\"black\",\"size\":10},\"showarrow\":false,\"text\":\"0.34\",\"x\":\"Canada\",\"y\":\"South Korea\"},{\"font\":{\"color\":\"black\",\"size\":10},\"showarrow\":false,\"text\":\"0.44\",\"x\":\"China\",\"y\":\"South Korea\"},{\"font\":{\"color\":\"black\",\"size\":10},\"showarrow\":false,\"text\":\"0.71\",\"x\":\"France\",\"y\":\"South Korea\"},{\"font\":{\"color\":\"black\",\"size\":10},\"showarrow\":false,\"text\":\"0.75\",\"x\":\"Germany\",\"y\":\"South Korea\"},{\"font\":{\"color\":\"black\",\"size\":10},\"showarrow\":false,\"text\":\"0.61\",\"x\":\"India\",\"y\":\"South Korea\"},{\"font\":{\"color\":\"black\",\"size\":10},\"showarrow\":false,\"text\":\"0.65\",\"x\":\"Indonesia\",\"y\":\"South Korea\"},{\"font\":{\"color\":\"black\",\"size\":10},\"showarrow\":false,\"text\":\"0.01\",\"x\":\"Italy\",\"y\":\"South Korea\"},{\"font\":{\"color\":\"black\",\"size\":10},\"showarrow\":false,\"text\":\"0.67\",\"x\":\"Japan\",\"y\":\"South Korea\"},{\"font\":{\"color\":\"black\",\"size\":10},\"showarrow\":false,\"text\":\"0.36\",\"x\":\"Mexico\",\"y\":\"South Korea\"},{\"font\":{\"color\":\"black\",\"size\":10},\"showarrow\":false,\"text\":\"0.14\",\"x\":\"Russia\",\"y\":\"South Korea\"},{\"font\":{\"color\":\"black\",\"size\":10},\"showarrow\":false,\"text\":\"0.54\",\"x\":\"Saudi Arabia\",\"y\":\"South Korea\"},{\"font\":{\"color\":\"black\",\"size\":10},\"showarrow\":false,\"text\":\"-0.19\",\"x\":\"South Africa\",\"y\":\"South Korea\"},{\"font\":{\"color\":\"black\",\"size\":10},\"showarrow\":false,\"text\":\"1.00\",\"x\":\"South Korea\",\"y\":\"South Korea\"},{\"font\":{\"color\":\"black\",\"size\":10},\"showarrow\":false,\"text\":\"0.69\",\"x\":\"Turkey\",\"y\":\"South Korea\"},{\"font\":{\"color\":\"black\",\"size\":10},\"showarrow\":false,\"text\":\"0.45\",\"x\":\"United Kingdom\",\"y\":\"South Korea\"},{\"font\":{\"color\":\"black\",\"size\":10},\"showarrow\":false,\"text\":\"0.62\",\"x\":\"United States\",\"y\":\"South Korea\"},{\"font\":{\"color\":\"black\",\"size\":10},\"showarrow\":false,\"text\":\"0.75\",\"x\":\"Australia\",\"y\":\"Turkey\"},{\"font\":{\"color\":\"black\",\"size\":10},\"showarrow\":false,\"text\":\"0.75\",\"x\":\"Brazil\",\"y\":\"Turkey\"},{\"font\":{\"color\":\"black\",\"size\":10},\"showarrow\":false,\"text\":\"0.57\",\"x\":\"Canada\",\"y\":\"Turkey\"},{\"font\":{\"color\":\"black\",\"size\":10},\"showarrow\":false,\"text\":\"0.40\",\"x\":\"China\",\"y\":\"Turkey\"},{\"font\":{\"color\":\"black\",\"size\":10},\"showarrow\":false,\"text\":\"0.74\",\"x\":\"France\",\"y\":\"Turkey\"},{\"font\":{\"color\":\"black\",\"size\":10},\"showarrow\":false,\"text\":\"0.64\",\"x\":\"Germany\",\"y\":\"Turkey\"},{\"font\":{\"color\":\"black\",\"size\":10},\"showarrow\":false,\"text\":\"0.74\",\"x\":\"India\",\"y\":\"Turkey\"},{\"font\":{\"color\":\"black\",\"size\":10},\"showarrow\":false,\"text\":\"0.60\",\"x\":\"Indonesia\",\"y\":\"Turkey\"},{\"font\":{\"color\":\"black\",\"size\":10},\"showarrow\":false,\"text\":\"0.31\",\"x\":\"Italy\",\"y\":\"Turkey\"},{\"font\":{\"color\":\"black\",\"size\":10},\"showarrow\":false,\"text\":\"0.64\",\"x\":\"Japan\",\"y\":\"Turkey\"},{\"font\":{\"color\":\"black\",\"size\":10},\"showarrow\":false,\"text\":\"0.47\",\"x\":\"Mexico\",\"y\":\"Turkey\"},{\"font\":{\"color\":\"black\",\"size\":10},\"showarrow\":false,\"text\":\"0.25\",\"x\":\"Russia\",\"y\":\"Turkey\"},{\"font\":{\"color\":\"black\",\"size\":10},\"showarrow\":false,\"text\":\"0.55\",\"x\":\"Saudi Arabia\",\"y\":\"Turkey\"},{\"font\":{\"color\":\"black\",\"size\":10},\"showarrow\":false,\"text\":\"-0.27\",\"x\":\"South Africa\",\"y\":\"Turkey\"},{\"font\":{\"color\":\"black\",\"size\":10},\"showarrow\":false,\"text\":\"0.69\",\"x\":\"South Korea\",\"y\":\"Turkey\"},{\"font\":{\"color\":\"black\",\"size\":10},\"showarrow\":false,\"text\":\"1.00\",\"x\":\"Turkey\",\"y\":\"Turkey\"},{\"font\":{\"color\":\"black\",\"size\":10},\"showarrow\":false,\"text\":\"0.55\",\"x\":\"United Kingdom\",\"y\":\"Turkey\"},{\"font\":{\"color\":\"black\",\"size\":10},\"showarrow\":false,\"text\":\"0.69\",\"x\":\"United States\",\"y\":\"Turkey\"},{\"font\":{\"color\":\"black\",\"size\":10},\"showarrow\":false,\"text\":\"0.68\",\"x\":\"Australia\",\"y\":\"United Kingdom\"},{\"font\":{\"color\":\"black\",\"size\":10},\"showarrow\":false,\"text\":\"0.68\",\"x\":\"Brazil\",\"y\":\"United Kingdom\"},{\"font\":{\"color\":\"black\",\"size\":10},\"showarrow\":false,\"text\":\"0.45\",\"x\":\"Canada\",\"y\":\"United Kingdom\"},{\"font\":{\"color\":\"black\",\"size\":10},\"showarrow\":false,\"text\":\"0.55\",\"x\":\"China\",\"y\":\"United Kingdom\"},{\"font\":{\"color\":\"black\",\"size\":10},\"showarrow\":false,\"text\":\"0.69\",\"x\":\"France\",\"y\":\"United Kingdom\"},{\"font\":{\"color\":\"black\",\"size\":10},\"showarrow\":false,\"text\":\"0.63\",\"x\":\"Germany\",\"y\":\"United Kingdom\"},{\"font\":{\"color\":\"black\",\"size\":10},\"showarrow\":false,\"text\":\"0.76\",\"x\":\"India\",\"y\":\"United Kingdom\"},{\"font\":{\"color\":\"black\",\"size\":10},\"showarrow\":false,\"text\":\"0.47\",\"x\":\"Indonesia\",\"y\":\"United Kingdom\"},{\"font\":{\"color\":\"black\",\"size\":10},\"showarrow\":false,\"text\":\"0.07\",\"x\":\"Italy\",\"y\":\"United Kingdom\"},{\"font\":{\"color\":\"black\",\"size\":10},\"showarrow\":false,\"text\":\"0.55\",\"x\":\"Japan\",\"y\":\"United Kingdom\"},{\"font\":{\"color\":\"black\",\"size\":10},\"showarrow\":false,\"text\":\"0.31\",\"x\":\"Mexico\",\"y\":\"United Kingdom\"},{\"font\":{\"color\":\"black\",\"size\":10},\"showarrow\":false,\"text\":\"0.27\",\"x\":\"Russia\",\"y\":\"United Kingdom\"},{\"font\":{\"color\":\"black\",\"size\":10},\"showarrow\":false,\"text\":\"0.59\",\"x\":\"Saudi Arabia\",\"y\":\"United Kingdom\"},{\"font\":{\"color\":\"black\",\"size\":10},\"showarrow\":false,\"text\":\"-0.25\",\"x\":\"South Africa\",\"y\":\"United Kingdom\"},{\"font\":{\"color\":\"black\",\"size\":10},\"showarrow\":false,\"text\":\"0.45\",\"x\":\"South Korea\",\"y\":\"United Kingdom\"},{\"font\":{\"color\":\"black\",\"size\":10},\"showarrow\":false,\"text\":\"0.55\",\"x\":\"Turkey\",\"y\":\"United Kingdom\"},{\"font\":{\"color\":\"black\",\"size\":10},\"showarrow\":false,\"text\":\"1.00\",\"x\":\"United Kingdom\",\"y\":\"United Kingdom\"},{\"font\":{\"color\":\"black\",\"size\":10},\"showarrow\":false,\"text\":\"0.50\",\"x\":\"United States\",\"y\":\"United Kingdom\"},{\"font\":{\"color\":\"black\",\"size\":10},\"showarrow\":false,\"text\":\"0.86\",\"x\":\"Australia\",\"y\":\"United States\"},{\"font\":{\"color\":\"black\",\"size\":10},\"showarrow\":false,\"text\":\"0.84\",\"x\":\"Brazil\",\"y\":\"United States\"},{\"font\":{\"color\":\"black\",\"size\":10},\"showarrow\":false,\"text\":\"0.65\",\"x\":\"Canada\",\"y\":\"United States\"},{\"font\":{\"color\":\"black\",\"size\":10},\"showarrow\":false,\"text\":\"0.41\",\"x\":\"China\",\"y\":\"United States\"},{\"font\":{\"color\":\"black\",\"size\":10},\"showarrow\":false,\"text\":\"0.81\",\"x\":\"France\",\"y\":\"United States\"},{\"font\":{\"color\":\"black\",\"size\":10},\"showarrow\":false,\"text\":\"0.70\",\"x\":\"Germany\",\"y\":\"United States\"},{\"font\":{\"color\":\"black\",\"size\":10},\"showarrow\":false,\"text\":\"0.60\",\"x\":\"India\",\"y\":\"United States\"},{\"font\":{\"color\":\"black\",\"size\":10},\"showarrow\":false,\"text\":\"0.59\",\"x\":\"Indonesia\",\"y\":\"United States\"},{\"font\":{\"color\":\"black\",\"size\":10},\"showarrow\":false,\"text\":\"0.27\",\"x\":\"Italy\",\"y\":\"United States\"},{\"font\":{\"color\":\"black\",\"size\":10},\"showarrow\":false,\"text\":\"0.60\",\"x\":\"Japan\",\"y\":\"United States\"},{\"font\":{\"color\":\"black\",\"size\":10},\"showarrow\":false,\"text\":\"0.53\",\"x\":\"Mexico\",\"y\":\"United States\"},{\"font\":{\"color\":\"black\",\"size\":10},\"showarrow\":false,\"text\":\"0.44\",\"x\":\"Russia\",\"y\":\"United States\"},{\"font\":{\"color\":\"black\",\"size\":10},\"showarrow\":false,\"text\":\"0.68\",\"x\":\"Saudi Arabia\",\"y\":\"United States\"},{\"font\":{\"color\":\"black\",\"size\":10},\"showarrow\":false,\"text\":\"0.12\",\"x\":\"South Africa\",\"y\":\"United States\"},{\"font\":{\"color\":\"black\",\"size\":10},\"showarrow\":false,\"text\":\"0.62\",\"x\":\"South Korea\",\"y\":\"United States\"},{\"font\":{\"color\":\"black\",\"size\":10},\"showarrow\":false,\"text\":\"0.69\",\"x\":\"Turkey\",\"y\":\"United States\"},{\"font\":{\"color\":\"black\",\"size\":10},\"showarrow\":false,\"text\":\"0.50\",\"x\":\"United Kingdom\",\"y\":\"United States\"},{\"font\":{\"color\":\"black\",\"size\":10},\"showarrow\":false,\"text\":\"1.00\",\"x\":\"United States\",\"y\":\"United States\"}],\"template\":{\"data\":{\"bar\":[{\"error_x\":{\"color\":\"#2a3f5f\"},\"error_y\":{\"color\":\"#2a3f5f\"},\"marker\":{\"line\":{\"color\":\"#E5ECF6\",\"width\":0.5},\"pattern\":{\"fillmode\":\"overlay\",\"size\":10,\"solidity\":0.2}},\"type\":\"bar\"}],\"barpolar\":[{\"marker\":{\"line\":{\"color\":\"#E5ECF6\",\"width\":0.5},\"pattern\":{\"fillmode\":\"overlay\",\"size\":10,\"solidity\":0.2}},\"type\":\"barpolar\"}],\"carpet\":[{\"aaxis\":{\"endlinecolor\":\"#2a3f5f\",\"gridcolor\":\"white\",\"linecolor\":\"white\",\"minorgridcolor\":\"white\",\"startlinecolor\":\"#2a3f5f\"},\"baxis\":{\"endlinecolor\":\"#2a3f5f\",\"gridcolor\":\"white\",\"linecolor\":\"white\",\"minorgridcolor\":\"white\",\"startlinecolor\":\"#2a3f5f\"},\"type\":\"carpet\"}],\"choropleth\":[{\"colorbar\":{\"outlinewidth\":0,\"ticks\":\"\"},\"type\":\"choropleth\"}],\"contour\":[{\"colorbar\":{\"outlinewidth\":0,\"ticks\":\"\"},\"colorscale\":[[0.0,\"#0d0887\"],[0.1111111111111111,\"#46039f\"],[0.2222222222222222,\"#7201a8\"],[0.3333333333333333,\"#9c179e\"],[0.4444444444444444,\"#bd3786\"],[0.5555555555555556,\"#d8576b\"],[0.6666666666666666,\"#ed7953\"],[0.7777777777777778,\"#fb9f3a\"],[0.8888888888888888,\"#fdca26\"],[1.0,\"#f0f921\"]],\"type\":\"contour\"}],\"contourcarpet\":[{\"colorbar\":{\"outlinewidth\":0,\"ticks\":\"\"},\"type\":\"contourcarpet\"}],\"heatmap\":[{\"colorbar\":{\"outlinewidth\":0,\"ticks\":\"\"},\"colorscale\":[[0.0,\"#0d0887\"],[0.1111111111111111,\"#46039f\"],[0.2222222222222222,\"#7201a8\"],[0.3333333333333333,\"#9c179e\"],[0.4444444444444444,\"#bd3786\"],[0.5555555555555556,\"#d8576b\"],[0.6666666666666666,\"#ed7953\"],[0.7777777777777778,\"#fb9f3a\"],[0.8888888888888888,\"#fdca26\"],[1.0,\"#f0f921\"]],\"type\":\"heatmap\"}],\"heatmapgl\":[{\"colorbar\":{\"outlinewidth\":0,\"ticks\":\"\"},\"colorscale\":[[0.0,\"#0d0887\"],[0.1111111111111111,\"#46039f\"],[0.2222222222222222,\"#7201a8\"],[0.3333333333333333,\"#9c179e\"],[0.4444444444444444,\"#bd3786\"],[0.5555555555555556,\"#d8576b\"],[0.6666666666666666,\"#ed7953\"],[0.7777777777777778,\"#fb9f3a\"],[0.8888888888888888,\"#fdca26\"],[1.0,\"#f0f921\"]],\"type\":\"heatmapgl\"}],\"histogram\":[{\"marker\":{\"pattern\":{\"fillmode\":\"overlay\",\"size\":10,\"solidity\":0.2}},\"type\":\"histogram\"}],\"histogram2d\":[{\"colorbar\":{\"outlinewidth\":0,\"ticks\":\"\"},\"colorscale\":[[0.0,\"#0d0887\"],[0.1111111111111111,\"#46039f\"],[0.2222222222222222,\"#7201a8\"],[0.3333333333333333,\"#9c179e\"],[0.4444444444444444,\"#bd3786\"],[0.5555555555555556,\"#d8576b\"],[0.6666666666666666,\"#ed7953\"],[0.7777777777777778,\"#fb9f3a\"],[0.8888888888888888,\"#fdca26\"],[1.0,\"#f0f921\"]],\"type\":\"histogram2d\"}],\"histogram2dcontour\":[{\"colorbar\":{\"outlinewidth\":0,\"ticks\":\"\"},\"colorscale\":[[0.0,\"#0d0887\"],[0.1111111111111111,\"#46039f\"],[0.2222222222222222,\"#7201a8\"],[0.3333333333333333,\"#9c179e\"],[0.4444444444444444,\"#bd3786\"],[0.5555555555555556,\"#d8576b\"],[0.6666666666666666,\"#ed7953\"],[0.7777777777777778,\"#fb9f3a\"],[0.8888888888888888,\"#fdca26\"],[1.0,\"#f0f921\"]],\"type\":\"histogram2dcontour\"}],\"mesh3d\":[{\"colorbar\":{\"outlinewidth\":0,\"ticks\":\"\"},\"type\":\"mesh3d\"}],\"parcoords\":[{\"line\":{\"colorbar\":{\"outlinewidth\":0,\"ticks\":\"\"}},\"type\":\"parcoords\"}],\"pie\":[{\"automargin\":true,\"type\":\"pie\"}],\"scatter\":[{\"marker\":{\"colorbar\":{\"outlinewidth\":0,\"ticks\":\"\"}},\"type\":\"scatter\"}],\"scatter3d\":[{\"line\":{\"colorbar\":{\"outlinewidth\":0,\"ticks\":\"\"}},\"marker\":{\"colorbar\":{\"outlinewidth\":0,\"ticks\":\"\"}},\"type\":\"scatter3d\"}],\"scattercarpet\":[{\"marker\":{\"colorbar\":{\"outlinewidth\":0,\"ticks\":\"\"}},\"type\":\"scattercarpet\"}],\"scattergeo\":[{\"marker\":{\"colorbar\":{\"outlinewidth\":0,\"ticks\":\"\"}},\"type\":\"scattergeo\"}],\"scattergl\":[{\"marker\":{\"colorbar\":{\"outlinewidth\":0,\"ticks\":\"\"}},\"type\":\"scattergl\"}],\"scattermapbox\":[{\"marker\":{\"colorbar\":{\"outlinewidth\":0,\"ticks\":\"\"}},\"type\":\"scattermapbox\"}],\"scatterpolar\":[{\"marker\":{\"colorbar\":{\"outlinewidth\":0,\"ticks\":\"\"}},\"type\":\"scatterpolar\"}],\"scatterpolargl\":[{\"marker\":{\"colorbar\":{\"outlinewidth\":0,\"ticks\":\"\"}},\"type\":\"scatterpolargl\"}],\"scatterternary\":[{\"marker\":{\"colorbar\":{\"outlinewidth\":0,\"ticks\":\"\"}},\"type\":\"scatterternary\"}],\"surface\":[{\"colorbar\":{\"outlinewidth\":0,\"ticks\":\"\"},\"colorscale\":[[0.0,\"#0d0887\"],[0.1111111111111111,\"#46039f\"],[0.2222222222222222,\"#7201a8\"],[0.3333333333333333,\"#9c179e\"],[0.4444444444444444,\"#bd3786\"],[0.5555555555555556,\"#d8576b\"],[0.6666666666666666,\"#ed7953\"],[0.7777777777777778,\"#fb9f3a\"],[0.8888888888888888,\"#fdca26\"],[1.0,\"#f0f921\"]],\"type\":\"surface\"}],\"table\":[{\"cells\":{\"fill\":{\"color\":\"#EBF0F8\"},\"line\":{\"color\":\"white\"}},\"header\":{\"fill\":{\"color\":\"#C8D4E3\"},\"line\":{\"color\":\"white\"}},\"type\":\"table\"}]},\"layout\":{\"annotationdefaults\":{\"arrowcolor\":\"#2a3f5f\",\"arrowhead\":0,\"arrowwidth\":1},\"autotypenumbers\":\"strict\",\"coloraxis\":{\"colorbar\":{\"outlinewidth\":0,\"ticks\":\"\"}},\"colorscale\":{\"diverging\":[[0,\"#8e0152\"],[0.1,\"#c51b7d\"],[0.2,\"#de77ae\"],[0.3,\"#f1b6da\"],[0.4,\"#fde0ef\"],[0.5,\"#f7f7f7\"],[0.6,\"#e6f5d0\"],[0.7,\"#b8e186\"],[0.8,\"#7fbc41\"],[0.9,\"#4d9221\"],[1,\"#276419\"]],\"sequential\":[[0.0,\"#0d0887\"],[0.1111111111111111,\"#46039f\"],[0.2222222222222222,\"#7201a8\"],[0.3333333333333333,\"#9c179e\"],[0.4444444444444444,\"#bd3786\"],[0.5555555555555556,\"#d8576b\"],[0.6666666666666666,\"#ed7953\"],[0.7777777777777778,\"#fb9f3a\"],[0.8888888888888888,\"#fdca26\"],[1.0,\"#f0f921\"]],\"sequentialminus\":[[0.0,\"#0d0887\"],[0.1111111111111111,\"#46039f\"],[0.2222222222222222,\"#7201a8\"],[0.3333333333333333,\"#9c179e\"],[0.4444444444444444,\"#bd3786\"],[0.5555555555555556,\"#d8576b\"],[0.6666666666666666,\"#ed7953\"],[0.7777777777777778,\"#fb9f3a\"],[0.8888888888888888,\"#fdca26\"],[1.0,\"#f0f921\"]]},\"colorway\":[\"#636efa\",\"#EF553B\",\"#00cc96\",\"#ab63fa\",\"#FFA15A\",\"#19d3f3\",\"#FF6692\",\"#B6E880\",\"#FF97FF\",\"#FECB52\"],\"font\":{\"color\":\"#2a3f5f\"},\"geo\":{\"bgcolor\":\"white\",\"lakecolor\":\"white\",\"landcolor\":\"#E5ECF6\",\"showlakes\":true,\"showland\":true,\"subunitcolor\":\"white\"},\"hoverlabel\":{\"align\":\"left\"},\"hovermode\":\"closest\",\"mapbox\":{\"style\":\"light\"},\"paper_bgcolor\":\"white\",\"plot_bgcolor\":\"#E5ECF6\",\"polar\":{\"angularaxis\":{\"gridcolor\":\"white\",\"linecolor\":\"white\",\"ticks\":\"\"},\"bgcolor\":\"#E5ECF6\",\"radialaxis\":{\"gridcolor\":\"white\",\"linecolor\":\"white\",\"ticks\":\"\"}},\"scene\":{\"xaxis\":{\"backgroundcolor\":\"#E5ECF6\",\"gridcolor\":\"white\",\"gridwidth\":2,\"linecolor\":\"white\",\"showbackground\":true,\"ticks\":\"\",\"zerolinecolor\":\"white\"},\"yaxis\":{\"backgroundcolor\":\"#E5ECF6\",\"gridcolor\":\"white\",\"gridwidth\":2,\"linecolor\":\"white\",\"showbackground\":true,\"ticks\":\"\",\"zerolinecolor\":\"white\"},\"zaxis\":{\"backgroundcolor\":\"#E5ECF6\",\"gridcolor\":\"white\",\"gridwidth\":2,\"linecolor\":\"white\",\"showbackground\":true,\"ticks\":\"\",\"zerolinecolor\":\"white\"}},\"shapedefaults\":{\"line\":{\"color\":\"#2a3f5f\"}},\"ternary\":{\"aaxis\":{\"gridcolor\":\"white\",\"linecolor\":\"white\",\"ticks\":\"\"},\"baxis\":{\"gridcolor\":\"white\",\"linecolor\":\"white\",\"ticks\":\"\"},\"bgcolor\":\"#E5ECF6\",\"caxis\":{\"gridcolor\":\"white\",\"linecolor\":\"white\",\"ticks\":\"\"}},\"title\":{\"x\":0.05},\"xaxis\":{\"automargin\":true,\"gridcolor\":\"white\",\"linecolor\":\"white\",\"ticks\":\"\",\"title\":{\"standoff\":15},\"zerolinecolor\":\"white\",\"zerolinewidth\":2},\"yaxis\":{\"automargin\":true,\"gridcolor\":\"white\",\"linecolor\":\"white\",\"ticks\":\"\",\"title\":{\"standoff\":15},\"zerolinecolor\":\"white\",\"zerolinewidth\":2}}},\"title\":{\"text\":\"Correlation in Economic Policy Uncertainty among select G-20 countries\"}},                        {\"responsive\": true}                    ).then(function(){\n",
       "                            \n",
       "var gd = document.getElementById('cf21a745-f2d3-45ed-bc07-f28a9d28e1a6');\n",
       "var x = new MutationObserver(function (mutations, observer) {{\n",
       "        var display = window.getComputedStyle(gd).display;\n",
       "        if (!display || display === 'none') {{\n",
       "            console.log([gd, 'removed!']);\n",
       "            Plotly.purge(gd);\n",
       "            observer.disconnect();\n",
       "        }}\n",
       "}});\n",
       "\n",
       "// Listen for the removal of the full notebook cells\n",
       "var notebookContainer = gd.closest('#notebook-container');\n",
       "if (notebookContainer) {{\n",
       "    x.observe(notebookContainer, {childList: true});\n",
       "}}\n",
       "\n",
       "// Listen for the clearing of the current output cell\n",
       "var outputEl = gd.closest('.output');\n",
       "if (outputEl) {{\n",
       "    x.observe(outputEl, {childList: true});\n",
       "}}\n",
       "\n",
       "                        })                };                });            </script>        </div>"
      ]
     },
     "metadata": {},
     "output_type": "display_data"
    }
   ],
   "source": [
    "import plotly.graph_objs as go\n",
    "import pandas as pd\n",
    "import numpy as np\n",
    "\n",
    "# Create some example data\n",
    "#df = pd.DataFrame(np.random.randn(10, 10), columns=list('abcdefghij'))\n",
    "# Create a dataframe by reading epu data\n",
    "df = pd.read_excel('/Users/kalyan/Library/CloudStorage/OneDrive-IIMVIZAG/Kalyan-Research/T20-PolicyBrief-G20/Data/G20.xlsx'\n",
    "                  , sheet_name='G20-EPU', header= 0)\n",
    "df_g20_epu = df.drop(columns=['Year', 'Month'])\n",
    "\n",
    "\n",
    "#print(df_g20_epu.columns)\n",
    "g20_countries=[['Argentina','Australia','Brazil','Canada','China','France','Germany','India','Indonesia',\n",
    "     'Italy','Japan','Mexico','Russia','Saudi Arabia','South Africa','South Korea','Turkey',\n",
    "     'United Kingdom','United States',]]\n",
    "\n",
    "\n",
    "# Compute the correlation matrix\n",
    "corr_matrix = df_g20_epu.corr()\n",
    "\n",
    "# Create the heatmap trace\n",
    "heatmap = go.Heatmap(z=corr_matrix.values,\n",
    "                      x=corr_matrix.index.values,\n",
    "                      y=corr_matrix.columns.values,\n",
    "                      colorscale='RdBu',\n",
    "                      colorbar=dict(title='Correlation'),\n",
    "                     zmin= -1, zmax=1)\n",
    "\n",
    "# Create the annotations\n",
    "annotations = []\n",
    "for i, row in enumerate(corr_matrix.values):\n",
    "    for j, value in enumerate(row):\n",
    "        annotations.append(\n",
    "            go.layout.Annotation(\n",
    "                x=corr_matrix.columns[j],\n",
    "                y=corr_matrix.index[i],\n",
    "                text=f'{value:.2f}',\n",
    "                showarrow=False,\n",
    "                font=dict(color='black', size=10)\n",
    "            )\n",
    "        )\n",
    "\n",
    "# Create the layout\n",
    "layout = go.Layout(\n",
    "    title='Correlation in Economic Policy Uncertainty among select G-20 countries',\n",
    "    annotations=annotations,\n",
    ")\n",
    "\n",
    "# Create the figure\n",
    "fig = go.Figure(data=[heatmap], layout=layout)\n",
    "\n",
    "# Show the figure\n",
    "fig.show()\n"
   ]
  },
  {
   "cell_type": "code",
   "execution_count": null,
   "metadata": {},
   "outputs": [],
   "source": []
  }
 ],
 "metadata": {
  "kernelspec": {
   "display_name": "Python 3",
   "language": "python",
   "name": "python3"
  },
  "language_info": {
   "codemirror_mode": {
    "name": "ipython",
    "version": 3
   },
   "file_extension": ".py",
   "mimetype": "text/x-python",
   "name": "python",
   "nbconvert_exporter": "python",
   "pygments_lexer": "ipython3",
   "version": "3.8.5"
  }
 },
 "nbformat": 4,
 "nbformat_minor": 4
}
