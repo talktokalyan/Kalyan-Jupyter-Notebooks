{
 "cells": [
  {
   "cell_type": "code",
   "execution_count": 70,
   "metadata": {},
   "outputs": [
    {
     "name": "stdout",
     "output_type": "stream",
     "text": [
      "3\n"
     ]
    },
    {
     "data": {
      "text/plain": [
       "[<matplotlib.collections.PolyCollection at 0x7ff7539f6790>,\n",
       " <matplotlib.collections.PolyCollection at 0x7ff7539f6ad0>,\n",
       " <matplotlib.collections.PolyCollection at 0x7ff7539f6290>,\n",
       " <matplotlib.collections.PolyCollection at 0x7ff7525549d0>,\n",
       " <matplotlib.collections.PolyCollection at 0x7ff752554610>,\n",
       " <matplotlib.collections.PolyCollection at 0x7ff752554090>,\n",
       " <matplotlib.collections.PolyCollection at 0x7ff7525542d0>,\n",
       " <matplotlib.collections.PolyCollection at 0x7ff752554390>,\n",
       " <matplotlib.collections.PolyCollection at 0x7ff7539f66d0>,\n",
       " <matplotlib.collections.PolyCollection at 0x7ff754dd88d0>,\n",
       " <matplotlib.collections.PolyCollection at 0x7ff7539f6710>,\n",
       " <matplotlib.collections.PolyCollection at 0x7ff752586ed0>,\n",
       " <matplotlib.collections.PolyCollection at 0x7ff7534af090>,\n",
       " <matplotlib.collections.PolyCollection at 0x7ff7534af2d0>,\n",
       " <matplotlib.collections.PolyCollection at 0x7ff75525c9d0>,\n",
       " <matplotlib.collections.PolyCollection at 0x7ff7552813d0>,\n",
       " <matplotlib.collections.PolyCollection at 0x7ff755281490>,\n",
       " <matplotlib.collections.PolyCollection at 0x7ff753ba8410>,\n",
       " <matplotlib.collections.PolyCollection at 0x7ff7539f3550>,\n",
       " <matplotlib.collections.PolyCollection at 0x7ff7539f3190>,\n",
       " <matplotlib.collections.PolyCollection at 0x7ff7550b2ed0>,\n",
       " <matplotlib.collections.PolyCollection at 0x7ff7550b2e50>,\n",
       " <matplotlib.collections.PolyCollection at 0x7ff754ee3350>,\n",
       " <matplotlib.collections.PolyCollection at 0x7ff754ee3950>,\n",
       " <matplotlib.collections.PolyCollection at 0x7ff754ee3150>,\n",
       " <matplotlib.collections.PolyCollection at 0x7ff754ee3410>,\n",
       " <matplotlib.collections.PolyCollection at 0x7ff753a00a10>,\n",
       " <matplotlib.collections.PolyCollection at 0x7ff753a00950>,\n",
       " <matplotlib.collections.PolyCollection at 0x7ff754f3b090>,\n",
       " <matplotlib.collections.PolyCollection at 0x7ff754f3bb10>,\n",
       " <matplotlib.collections.PolyCollection at 0x7ff7539b4590>,\n",
       " <matplotlib.collections.PolyCollection at 0x7ff754f26310>,\n",
       " <matplotlib.collections.PolyCollection at 0x7ff755718fd0>,\n",
       " <matplotlib.collections.PolyCollection at 0x7ff755718750>,\n",
       " <matplotlib.collections.PolyCollection at 0x7ff755718710>,\n",
       " <matplotlib.collections.PolyCollection at 0x7ff753c030d0>,\n",
       " <matplotlib.collections.PolyCollection at 0x7ff753c035d0>,\n",
       " <matplotlib.collections.PolyCollection at 0x7ff752520a10>,\n",
       " <matplotlib.collections.PolyCollection at 0x7ff754d2df10>,\n",
       " <matplotlib.collections.PolyCollection at 0x7ff7525068d0>,\n",
       " <matplotlib.collections.PolyCollection at 0x7ff75252e910>,\n",
       " <matplotlib.collections.PolyCollection at 0x7ff752448590>,\n",
       " <matplotlib.collections.PolyCollection at 0x7ff752448f10>,\n",
       " <matplotlib.collections.PolyCollection at 0x7ff75237d950>,\n",
       " <matplotlib.collections.PolyCollection at 0x7ff75237d390>,\n",
       " <matplotlib.collections.PolyCollection at 0x7ff75237dfd0>,\n",
       " <matplotlib.collections.PolyCollection at 0x7ff75237df10>,\n",
       " <matplotlib.collections.PolyCollection at 0x7ff752346c90>,\n",
       " <matplotlib.collections.PolyCollection at 0x7ff750f81e90>,\n",
       " <matplotlib.collections.PolyCollection at 0x7ff7524431d0>,\n",
       " <matplotlib.collections.PolyCollection at 0x7ff7523f80d0>,\n",
       " <matplotlib.collections.PolyCollection at 0x7ff75277ffd0>,\n",
       " <matplotlib.collections.PolyCollection at 0x7ff752d88210>,\n",
       " <matplotlib.collections.PolyCollection at 0x7ff753b6ae10>,\n",
       " <matplotlib.collections.PolyCollection at 0x7ff75342fa50>,\n",
       " <matplotlib.collections.PolyCollection at 0x7ff7538f8390>,\n",
       " <matplotlib.collections.PolyCollection at 0x7ff75391cd90>,\n",
       " <matplotlib.collections.PolyCollection at 0x7ff754e6b850>,\n",
       " <matplotlib.collections.PolyCollection at 0x7ff754e740d0>,\n",
       " <matplotlib.collections.PolyCollection at 0x7ff7537bcc10>,\n",
       " <matplotlib.collections.PolyCollection at 0x7ff753941450>,\n",
       " <matplotlib.collections.PolyCollection at 0x7ff753941390>,\n",
       " <matplotlib.collections.PolyCollection at 0x7ff755693350>,\n",
       " <matplotlib.collections.PolyCollection at 0x7ff7556936d0>,\n",
       " <matplotlib.collections.PolyCollection at 0x7ff753474f10>,\n",
       " <matplotlib.collections.PolyCollection at 0x7ff7534748d0>,\n",
       " <matplotlib.collections.PolyCollection at 0x7ff753474550>,\n",
       " <matplotlib.collections.PolyCollection at 0x7ff753474210>,\n",
       " <matplotlib.collections.PolyCollection at 0x7ff753474150>,\n",
       " <matplotlib.collections.PolyCollection at 0x7ff753494bd0>,\n",
       " <matplotlib.collections.PolyCollection at 0x7ff753494890>,\n",
       " <matplotlib.collections.PolyCollection at 0x7ff753494450>,\n",
       " <matplotlib.collections.PolyCollection at 0x7ff753494110>,\n",
       " <matplotlib.collections.PolyCollection at 0x7ff753494050>,\n",
       " <matplotlib.collections.PolyCollection at 0x7ff75348cad0>,\n",
       " <matplotlib.collections.PolyCollection at 0x7ff75348c790>,\n",
       " <matplotlib.collections.PolyCollection at 0x7ff75348c390>,\n",
       " <matplotlib.collections.PolyCollection at 0x7ff75348c050>,\n",
       " <matplotlib.collections.PolyCollection at 0x7ff755d85d10>,\n",
       " <matplotlib.collections.PolyCollection at 0x7ff755d85890>,\n",
       " <matplotlib.collections.PolyCollection at 0x7ff755d85550>,\n",
       " <matplotlib.collections.PolyCollection at 0x7ff755d85210>,\n",
       " <matplotlib.collections.PolyCollection at 0x7ff755d85150>,\n",
       " <matplotlib.collections.PolyCollection at 0x7ff7560cab50>,\n",
       " <matplotlib.collections.PolyCollection at 0x7ff7560ca810>,\n",
       " <matplotlib.collections.PolyCollection at 0x7ff7560ca490>,\n",
       " <matplotlib.collections.PolyCollection at 0x7ff7560ca150>,\n",
       " <matplotlib.collections.PolyCollection at 0x7ff7560ca090>,\n",
       " <matplotlib.collections.PolyCollection at 0x7ff756098a90>,\n",
       " <matplotlib.collections.PolyCollection at 0x7ff756098750>,\n",
       " <matplotlib.collections.PolyCollection at 0x7ff756098410>,\n",
       " <matplotlib.collections.PolyCollection at 0x7ff756098250>,\n",
       " <matplotlib.collections.PolyCollection at 0x7ff75608fc50>,\n",
       " <matplotlib.collections.PolyCollection at 0x7ff75608f910>,\n",
       " <matplotlib.collections.PolyCollection at 0x7ff75608f110>,\n",
       " <matplotlib.collections.PolyCollection at 0x7ff7560b0b10>,\n",
       " <matplotlib.collections.PolyCollection at 0x7ff7560b07d0>,\n",
       " <matplotlib.collections.PolyCollection at 0x7ff7560a6110>,\n",
       " <matplotlib.collections.PolyCollection at 0x7ff7560a6050>,\n",
       " <matplotlib.collections.PolyCollection at 0x7ff755d9e2d0>,\n",
       " <matplotlib.collections.PolyCollection at 0x7ff755d9e790>,\n",
       " <matplotlib.collections.PolyCollection at 0x7ff755d9eb50>,\n",
       " <matplotlib.collections.PolyCollection at 0x7ff755d9edd0>,\n",
       " <matplotlib.collections.PolyCollection at 0x7ff755da0b10>,\n",
       " <matplotlib.collections.PolyCollection at 0x7ff755da0c50>,\n",
       " <matplotlib.collections.PolyCollection at 0x7ff755da0810>,\n",
       " <matplotlib.collections.PolyCollection at 0x7ff755da0910>,\n",
       " <matplotlib.collections.PolyCollection at 0x7ff7539f67d0>,\n",
       " <matplotlib.collections.PolyCollection at 0x7ff7525730d0>,\n",
       " <matplotlib.collections.PolyCollection at 0x7ff752573790>,\n",
       " <matplotlib.collections.PolyCollection at 0x7ff7550d2ed0>,\n",
       " <matplotlib.collections.PolyCollection at 0x7ff7550d2710>,\n",
       " <matplotlib.collections.PolyCollection at 0x7ff7550d20d0>,\n",
       " <matplotlib.collections.PolyCollection at 0x7ff7550d2910>,\n",
       " <matplotlib.collections.PolyCollection at 0x7ff7550d2a10>,\n",
       " <matplotlib.collections.PolyCollection at 0x7ff756821610>,\n",
       " <matplotlib.collections.PolyCollection at 0x7ff756821e90>,\n",
       " <matplotlib.collections.PolyCollection at 0x7ff756821b50>,\n",
       " <matplotlib.collections.PolyCollection at 0x7ff756821a50>,\n",
       " <matplotlib.collections.PolyCollection at 0x7ff7559f49d0>,\n",
       " <matplotlib.collections.PolyCollection at 0x7ff7559f4090>,\n",
       " <matplotlib.collections.PolyCollection at 0x7ff7559f4e90>,\n",
       " <matplotlib.collections.PolyCollection at 0x7ff7559f4510>,\n",
       " <matplotlib.collections.PolyCollection at 0x7ff7559f48d0>,\n",
       " <matplotlib.collections.PolyCollection at 0x7ff754faf490>,\n",
       " <matplotlib.collections.PolyCollection at 0x7ff754faf510>,\n",
       " <matplotlib.collections.PolyCollection at 0x7ff754fafa90>,\n",
       " <matplotlib.collections.PolyCollection at 0x7ff754faf990>,\n",
       " <matplotlib.collections.PolyCollection at 0x7ff755dafd10>,\n",
       " <matplotlib.collections.PolyCollection at 0x7ff755daf410>,\n",
       " <matplotlib.collections.PolyCollection at 0x7ff755daf890>,\n",
       " <matplotlib.collections.PolyCollection at 0x7ff755daf6d0>,\n",
       " <matplotlib.collections.PolyCollection at 0x7ff754fa00d0>,\n",
       " <matplotlib.collections.PolyCollection at 0x7ff754fa0910>,\n",
       " <matplotlib.collections.PolyCollection at 0x7ff754fa0a90>,\n",
       " <matplotlib.collections.PolyCollection at 0x7ff754fa0b90>,\n",
       " <matplotlib.collections.PolyCollection at 0x7ff754fa0a10>,\n",
       " <matplotlib.collections.PolyCollection at 0x7ff752582610>,\n",
       " <matplotlib.collections.PolyCollection at 0x7ff752582c50>,\n",
       " <matplotlib.collections.PolyCollection at 0x7ff752582290>,\n",
       " <matplotlib.collections.PolyCollection at 0x7ff752582ad0>,\n",
       " <matplotlib.collections.PolyCollection at 0x7ff753a02f50>,\n",
       " <matplotlib.collections.PolyCollection at 0x7ff753a02350>,\n",
       " <matplotlib.collections.PolyCollection at 0x7ff753a028d0>,\n",
       " <matplotlib.collections.PolyCollection at 0x7ff753a02a50>]"
      ]
     },
     "execution_count": 70,
     "metadata": {},
     "output_type": "execute_result"
    },
    {
     "data": {
      "image/png": "[encoded data removed]",
      "text/plain": [
       "<Figure size 432x288 with 1 Axes>"
      ]
     },
     "metadata": {
      "needs_background": "light"
     },
     "output_type": "display_data"
    }
   ],
   "source": [
    "import pandas as pd\n",
    "df = pd.read_stata(\"/Users/kalyan/OneDrive-IIMV/OneDrive - IIM VIZAG/Python-Exercise-KK/base-data/mpd2018.dta\")\n",
    "df.columns\n",
    "df.dropna(subset=[\"cgdppc\"],inplace=True)\n",
    "country_list = ['IND','CHN','USA']\n",
    "x = df['year']\n",
    "x\n",
    "#y = [df[['countrycode','year','cgdppc']][df['countrycode']==i] for i in country_list]\n",
    "y = [df[['cgdppc']][df['countrycode']==i] for i in country_list]\n",
    "fig, ax = plt.subplots()\n",
    "ax.stackplot(x, y[0],labels =labels)"
   ]
  },
  {
   "cell_type": "code",
   "execution_count": 3,
   "metadata": {},
   "outputs": [
    {
     "data": {
      "text/plain": [
       "Index(['countrycode', 'country', 'year', 'cgdppc', 'rgdpnapc', 'pop', 'i_cig',\n",
       "       'i_bm'],\n",
       "      dtype='object')"
      ]
     },
     "execution_count": 3,
     "metadata": {},
     "output_type": "execute_result"
    }
   ],
   "source": [
    "df.columns\n"
   ]
  },
  {
   "cell_type": "code",
   "execution_count": 14,
   "metadata": {},
   "outputs": [
    {
     "data": {
      "image/png": "[encoded data removed]",
      "text/plain": [
       "<Figure size 432x288 with 1 Axes>"
      ]
     },
     "metadata": {
      "needs_background": "light"
     },
     "output_type": "display_data"
    },
    {
     "data": {
      "text/plain": [
       "array([[1, 1, 2, 3, 5],\n",
       "       [0, 4, 2, 6, 8],\n",
       "       [1, 3, 5, 7, 9]])"
      ]
     },
     "execution_count": 14,
     "metadata": {},
     "output_type": "execute_result"
    }
   ],
   "source": [
    "import numpy as np\n",
    "import matplotlib.pyplot as plt\n",
    "\n",
    "x = [1, 2, 3, 4, 5]\n",
    "y1 = [1, 1, 2, 3, 5]\n",
    "y2 = [0, 4, 2, 6, 8]\n",
    "y3 = [1, 3, 5, 7, 9]\n",
    "\n",
    "y = np.vstack([y1, y2, y3])\n",
    "\n",
    "labels = [\"Fibonacci \", \"Evens\", \"Odds\"]\n",
    "\n",
    "fig, ax = plt.subplots()\n",
    "ax.stackplot(x, y1, y2, y3, labels=labels)\n",
    "ax.legend(loc='upper left')\n",
    "plt.show()\n",
    "\n",
    "y"
   ]
  },
  {
   "cell_type": "code",
   "execution_count": 10,
   "metadata": {},
   "outputs": [
    {
     "name": "stdout",
     "output_type": "stream",
     "text": [
      "Object `plt.stackplot` not found.\n"
     ]
    }
   ],
   "source": [
    "?plt.stackplot"
   ]
  },
  {
   "cell_type": "code",
   "execution_count": 24,
   "metadata": {},
   "outputs": [
    {
     "data": {
      "application/vnd.plotly.v1+json": {
       "config": {
        "plotlyServerURL": "https://plot.ly"
       },
       "data": [
        {
         "hovertemplate": "country=Afghanistan<br>continent=Asia<br>year=%{x}<br>gdpPercap=%{y}<extra></extra>",
         "legendgroup": "Afghanistan",
         "line": {
          "color": "#636efa"
         },
         "mode": "lines",
         "name": "Afghanistan",
         "orientation": "v",
         "showlegend": true,
         "stackgroup": "1",
         "type": "scatter",
         "x": [
          1952,
          1957,
          1962,
          1967,
          1972,
          1977,
          1982,
          1987,
          1992,
          1997,
          2002,
          2007
         ],
         "xaxis": "x",
         "y": [
          779.4453145,
          820.8530296,
          853.1007099999999,
          836.1971382,
          739.9811057999999,
          786.11336,
          978.0114388000001,
          852.3959447999999,
          649.3413952000001,
          635.341351,
          726.7340548,
          974.5803384
         ],
         "yaxis": "y"
        },
        {
         "hovertemplate": "country=Albania<br>continent=Europe<br>year=%{x}<br>gdpPercap=%{y}<extra></extra>",
         "legendgroup": "Albania",
         "line": {
          "color": "#EF553B"
         },
         "mode": "lines",
         "name": "Albania",
         "orientation": "v",
         "showlegend": true,
         "stackgroup": "1",
         "type": "scatter",
         "x": [
          1952,
          1957,
          1962,
          1967,
          1972,
          1977,
          1982,
          1987,
          1992,
          1997,
          2002,
          2007
         ],
         "xaxis": "x",
         "y": [
          1601.056136,
          1942.2842440000002,
          2312.888958,
          2760.196931,
          3313.422188,
          3533.0039100000004,
          3630.880722,
          3738.9327350000003,
          2497.4379010000002,
          3193.054604,
          4604.211737,
          5937.029525999999
         ],
         "yaxis": "y"
        },
        {
         "hovertemplate": "country=Algeria<br>continent=Africa<br>year=%{x}<br>gdpPercap=%{y}<extra></extra>",
         "legendgroup": "Algeria",
         "line": {
          "color": "#00cc96"
         },
         "mode": "lines",
         "name": "Algeria",
         "orientation": "v",
         "showlegend": true,
         "stackgroup": "1",
         "type": "scatter",
         "x": [
          1952,
          1957,
          1962,
          1967,
          1972,
          1977,
          1982,
          1987,
          1992,
          1997,
          2002,
          2007
         ],
         "xaxis": "x",
         "y": [
          2449.008185,
          3013.976023,
          2550.81688,
          3246.991771,
          4182.663766,
          4910.4167560000005,
          5745.160213,
          5681.358539,
          5023.216647,
          4797.295051,
          5288.040382,
          6223.367465
         ],
         "yaxis": "y"
        },
        {
         "hovertemplate": "country=Angola<br>continent=Africa<br>year=%{x}<br>gdpPercap=%{y}<extra></extra>",
         "legendgroup": "Angola",
         "line": {
          "color": "#ab63fa"
         },
         "mode": "lines",
         "name": "Angola",
         "orientation": "v",
         "showlegend": true,
         "stackgroup": "1",
         "type": "scatter",
         "x": [
          1952,
          1957,
          1962,
          1967,
          1972,
          1977,
          1982,
          1987,
          1992,
          1997,
          2002,
          2007
         ],
         "xaxis": "x",
         "y": [
          3520.610273,
          3827.9404649999997,
          4269.276742,
          5522.776375,
          5473.288004999999,
          3008.647355,
          2756.953672,
          2430.208311,
          2627.8456850000002,
          2277.140884,
          2773.287312,
          4797.231267
         ],
         "yaxis": "y"
        },
        {
         "hovertemplate": "country=Argentina<br>continent=Americas<br>year=%{x}<br>gdpPercap=%{y}<extra></extra>",
         "legendgroup": "Argentina",
         "line": {
          "color": "#FFA15A"
         },
         "mode": "lines",
         "name": "Argentina",
         "orientation": "v",
         "showlegend": true,
         "stackgroup": "1",
         "type": "scatter",
         "x": [
          1952,
          1957,
          1962,
          1967,
          1972,
          1977,
          1982,
          1987,
          1992,
          1997,
          2002,
          2007
         ],
         "xaxis": "x",
         "y": [
          5911.315053,
          6856.856212000001,
          7133.166023000001,
          8052.953020999999,
          9443.038526,
          10079.026740000001,
          8997.897412,
          9139.671389,
          9308.41871,
          10967.28195,
          8797.640716,
          12779.379640000001
         ],
         "yaxis": "y"
        },
        {
         "hovertemplate": "country=Australia<br>continent=Oceania<br>year=%{x}<br>gdpPercap=%{y}<extra></extra>",
         "legendgroup": "Australia",
         "line": {
          "color": "#19d3f3"
         },
         "mode": "lines",
         "name": "Australia",
         "orientation": "v",
         "showlegend": true,
         "stackgroup": "1",
         "type": "scatter",
         "x": [
          1952,
          1957,
          1962,
          1967,
          1972,
          1977,
          1982,
          1987,
          1992,
          1997,
          2002,
          2007
         ],
         "xaxis": "x",
         "y": [
          10039.595640000001,
          10949.64959,
          12217.226859999999,
          14526.12465,
          16788.62948,
          18334.197509999998,
          19477.009280000002,
          21888.889030000002,
          23424.76683,
          26997.936569999998,
          30687.75473,
          34435.367439999995
         ],
         "yaxis": "y"
        },
        {
         "hovertemplate": "country=Austria<br>continent=Europe<br>year=%{x}<br>gdpPercap=%{y}<extra></extra>",
         "legendgroup": "Austria",
         "line": {
          "color": "#FF6692"
         },
         "mode": "lines",
         "name": "Austria",
         "orientation": "v",
         "showlegend": true,
         "stackgroup": "1",
         "type": "scatter",
         "x": [
          1952,
          1957,
          1962,
          1967,
          1972,
          1977,
          1982,
          1987,
          1992,
          1997,
          2002,
          2007
         ],
         "xaxis": "x",
         "y": [
          6137.076492,
          8842.59803,
          10750.721109999999,
          12834.6024,
          16661.6256,
          19749.4223,
          21597.083619999998,
          23687.82607,
          27042.01868,
          29095.920660000003,
          32417.607689999997,
          36126.4927
         ],
         "yaxis": "y"
        },
        {
         "hovertemplate": "country=Bahrain<br>continent=Asia<br>year=%{x}<br>gdpPercap=%{y}<extra></extra>",
         "legendgroup": "Bahrain",
         "line": {
          "color": "#B6E880"
         },
         "mode": "lines",
         "name": "Bahrain",
         "orientation": "v",
         "showlegend": true,
         "stackgroup": "1",
         "type": "scatter",
         "x": [
          1952,
          1957,
          1962,
          1967,
          1972,
          1977,
          1982,
          1987,
          1992,
          1997,
          2002,
          2007
         ],
         "xaxis": "x",
         "y": [
          9867.084765000001,
          11635.79945,
          12753.27514,
          14804.6727,
          18268.65839,
          19340.10196,
          19211.14731,
          18524.02406,
          19035.579169999997,
          20292.01679,
          23403.559269999998,
          29796.048339999998
         ],
         "yaxis": "y"
        },
        {
         "hovertemplate": "country=Bangladesh<br>continent=Asia<br>year=%{x}<br>gdpPercap=%{y}<extra></extra>",
         "legendgroup": "Bangladesh",
         "line": {
          "color": "#FF97FF"
         },
         "mode": "lines",
         "name": "Bangladesh",
         "orientation": "v",
         "showlegend": true,
         "stackgroup": "1",
         "type": "scatter",
         "x": [
          1952,
          1957,
          1962,
          1967,
          1972,
          1977,
          1982,
          1987,
          1992,
          1997,
          2002,
          2007
         ],
         "xaxis": "x",
         "y": [
          684.2441716,
          661.6374577,
          686.3415537999999,
          721.1860862000001,
          630.2336265,
          659.8772322000001,
          676.9818656,
          751.9794035,
          837.8101642999999,
          972.7700352,
          1136.3904300000002,
          1391.253792
         ],
         "yaxis": "y"
        },
        {
         "hovertemplate": "country=Belgium<br>continent=Europe<br>year=%{x}<br>gdpPercap=%{y}<extra></extra>",
         "legendgroup": "Belgium",
         "line": {
          "color": "#FECB52"
         },
         "mode": "lines",
         "name": "Belgium",
         "orientation": "v",
         "showlegend": true,
         "stackgroup": "1",
         "type": "scatter",
         "x": [
          1952,
          1957,
          1962,
          1967,
          1972,
          1977,
          1982,
          1987,
          1992,
          1997,
          2002,
          2007
         ],
         "xaxis": "x",
         "y": [
          8343.105126999999,
          9714.960623,
          10991.20676,
          13149.04119,
          16672.14356,
          19117.97448,
          20979.84589,
          22525.56308,
          25575.57069,
          27561.196630000002,
          30485.88375,
          33692.60508
         ],
         "yaxis": "y"
        },
        {
         "hovertemplate": "country=Benin<br>continent=Africa<br>year=%{x}<br>gdpPercap=%{y}<extra></extra>",
         "legendgroup": "Benin",
         "line": {
          "color": "#636efa"
         },
         "mode": "lines",
         "name": "Benin",
         "orientation": "v",
         "showlegend": true,
         "stackgroup": "1",
         "type": "scatter",
         "x": [
          1952,
          1957,
          1962,
          1967,
          1972,
          1977,
          1982,
          1987,
          1992,
          1997,
          2002,
          2007
         ],
         "xaxis": "x",
         "y": [
          1062.7522,
          959.6010805,
          949.4990641,
          1035.831411,
          1085.796879,
          1029.161251,
          1277.897616,
          1225.85601,
          1191.207681,
          1232.975292,
          1372.877931,
          1441.284873
         ],
         "yaxis": "y"
        },
        {
         "hovertemplate": "country=Bolivia<br>continent=Americas<br>year=%{x}<br>gdpPercap=%{y}<extra></extra>",
         "legendgroup": "Bolivia",
         "line": {
          "color": "#EF553B"
         },
         "mode": "lines",
         "name": "Bolivia",
         "orientation": "v",
         "showlegend": true,
         "stackgroup": "1",
         "type": "scatter",
         "x": [
          1952,
          1957,
          1962,
          1967,
          1972,
          1977,
          1982,
          1987,
          1992,
          1997,
          2002,
          2007
         ],
         "xaxis": "x",
         "y": [
          2677.3263469999997,
          2127.686326,
          2180.972546,
          2586.886053,
          2980.331339,
          3548.097832,
          3156.510452,
          2753.6914899999997,
          2961.699694,
          3326.143191,
          3413.26269,
          3822.1370840000004
         ],
         "yaxis": "y"
        },
        {
         "hovertemplate": "country=Bosnia and Herzegovina<br>continent=Europe<br>year=%{x}<br>gdpPercap=%{y}<extra></extra>",
         "legendgroup": "Bosnia and Herzegovina",
         "line": {
          "color": "#00cc96"
         },
         "mode": "lines",
         "name": "Bosnia and Herzegovina",
         "orientation": "v",
         "showlegend": true,
         "stackgroup": "1",
         "type": "scatter",
         "x": [
          1952,
          1957,
          1962,
          1967,
          1972,
          1977,
          1982,
          1987,
          1992,
          1997,
          2002,
          2007
         ],
         "xaxis": "x",
         "y": [
          973.5331947999999,
          1353.989176,
          1709.683679,
          2172.3524230000003,
          2860.16975,
          3528.481305,
          4126.613157,
          4314.114757,
          2546.781445,
          4766.355904,
          6018.975239,
          7446.298803
         ],
         "yaxis": "y"
        },
        {
         "hovertemplate": "country=Botswana<br>continent=Africa<br>year=%{x}<br>gdpPercap=%{y}<extra></extra>",
         "legendgroup": "Botswana",
         "line": {
          "color": "#ab63fa"
         },
         "mode": "lines",
         "name": "Botswana",
         "orientation": "v",
         "showlegend": true,
         "stackgroup": "1",
         "type": "scatter",
         "x": [
          1952,
          1957,
          1962,
          1967,
          1972,
          1977,
          1982,
          1987,
          1992,
          1997,
          2002,
          2007
         ],
         "xaxis": "x",
         "y": [
          851.2411407,
          918.2325348999999,
          983.6539764,
          1214.709294,
          2263.6111140000003,
          3214.857818,
          4551.14215,
          6205.88385,
          7954.111645,
          8647.142313,
          11003.60508,
          12569.851770000001
         ],
         "yaxis": "y"
        },
        {
         "hovertemplate": "country=Brazil<br>continent=Americas<br>year=%{x}<br>gdpPercap=%{y}<extra></extra>",
         "legendgroup": "Brazil",
         "line": {
          "color": "#FFA15A"
         },
         "mode": "lines",
         "name": "Brazil",
         "orientation": "v",
         "showlegend": true,
         "stackgroup": "1",
         "type": "scatter",
         "x": [
          1952,
          1957,
          1962,
          1967,
          1972,
          1977,
          1982,
          1987,
          1992,
          1997,
          2002,
          2007
         ],
         "xaxis": "x",
         "y": [
          2108.944355,
          2487.365989,
          3336.585802,
          3429.864357,
          4985.711467,
          6660.118654,
          7030.835878,
          7807.095818000001,
          6950.283020999999,
          7957.980823999999,
          8131.212843000001,
          9065.800825
         ],
         "yaxis": "y"
        },
        {
         "hovertemplate": "country=Bulgaria<br>continent=Europe<br>year=%{x}<br>gdpPercap=%{y}<extra></extra>",
         "legendgroup": "Bulgaria",
         "line": {
          "color": "#19d3f3"
         },
         "mode": "lines",
         "name": "Bulgaria",
         "orientation": "v",
         "showlegend": true,
         "stackgroup": "1",
         "type": "scatter",
         "x": [
          1952,
          1957,
          1962,
          1967,
          1972,
          1977,
          1982,
          1987,
          1992,
          1997,
          2002,
          2007
         ],
         "xaxis": "x",
         "y": [
          2444.2866480000002,
          3008.670727,
          4254.337839,
          5577.0028,
          6597.494398,
          7612.240438,
          8224.191647,
          8239.854824,
          6302.6234380000005,
          5970.38876,
          7696.777725,
          10680.79282
         ],
         "yaxis": "y"
        },
        {
         "hovertemplate": "country=Burkina Faso<br>continent=Africa<br>year=%{x}<br>gdpPercap=%{y}<extra></extra>",
         "legendgroup": "Burkina Faso",
         "line": {
          "color": "#FF6692"
         },
         "mode": "lines",
         "name": "Burkina Faso",
         "orientation": "v",
         "showlegend": true,
         "stackgroup": "1",
         "type": "scatter",
         "x": [
          1952,
          1957,
          1962,
          1967,
          1972,
          1977,
          1982,
          1987,
          1992,
          1997,
          2002,
          2007
         ],
         "xaxis": "x",
         "y": [
          543.2552413,
          617.1834647999999,
          722.5120206,
          794.8265597,
          854.7359763000001,
          743.3870368,
          807.1985855,
          912.0631417000001,
          931.7527731,
          946.2949617999999,
          1037.645221,
          1217.032994
         ],
         "yaxis": "y"
        },
        {
         "hovertemplate": "country=Burundi<br>continent=Africa<br>year=%{x}<br>gdpPercap=%{y}<extra></extra>",
         "legendgroup": "Burundi",
         "line": {
          "color": "#B6E880"
         },
         "mode": "lines",
         "name": "Burundi",
         "orientation": "v",
         "showlegend": true,
         "stackgroup": "1",
         "type": "scatter",
         "x": [
          1952,
          1957,
          1962,
          1967,
          1972,
          1977,
          1982,
          1987,
          1992,
          1997,
          2002,
          2007
         ],
         "xaxis": "x",
         "y": [
          339.29645869999996,
          379.56462810000005,
          355.2032273,
          412.97751360000007,
          464.0995039,
          556.1032651,
          559.6032309999999,
          621.8188188999999,
          631.6998778,
          463.1151478,
          446.4035126,
          430.07069160000003
         ],
         "yaxis": "y"
        },
        {
         "hovertemplate": "country=Cambodia<br>continent=Asia<br>year=%{x}<br>gdpPercap=%{y}<extra></extra>",
         "legendgroup": "Cambodia",
         "line": {
          "color": "#FF97FF"
         },
         "mode": "lines",
         "name": "Cambodia",
         "orientation": "v",
         "showlegend": true,
         "stackgroup": "1",
         "type": "scatter",
         "x": [
          1952,
          1957,
          1962,
          1967,
          1972,
          1977,
          1982,
          1987,
          1992,
          1997,
          2002,
          2007
         ],
         "xaxis": "x",
         "y": [
          368.46928560000003,
          434.0383364,
          496.9136476,
          523.4323142,
          421.6240257,
          524.9721831999999,
          624.4754784,
          683.8955732000001,
          682.3031755,
          734.28517,
          896.2260152999999,
          1713.7786859999999
         ],
         "yaxis": "y"
        },
        {
         "hovertemplate": "country=Cameroon<br>continent=Africa<br>year=%{x}<br>gdpPercap=%{y}<extra></extra>",
         "legendgroup": "Cameroon",
         "line": {
          "color": "#FECB52"
         },
         "mode": "lines",
         "name": "Cameroon",
         "orientation": "v",
         "showlegend": true,
         "stackgroup": "1",
         "type": "scatter",
         "x": [
          1952,
          1957,
          1962,
          1967,
          1972,
          1977,
          1982,
          1987,
          1992,
          1997,
          2002,
          2007
         ],
         "xaxis": "x",
         "y": [
          1172.667655,
          1313.048099,
          1399.607441,
          1508.453148,
          1684.1465280000002,
          1783.432873,
          2367.983282,
          2602.664206,
          1793.1632780000002,
          1694.337469,
          1934.0114489999999,
          2042.0952399999999
         ],
         "yaxis": "y"
        },
        {
         "hovertemplate": "country=Canada<br>continent=Americas<br>year=%{x}<br>gdpPercap=%{y}<extra></extra>",
         "legendgroup": "Canada",
         "line": {
          "color": "#636efa"
         },
         "mode": "lines",
         "name": "Canada",
         "orientation": "v",
         "showlegend": true,
         "stackgroup": "1",
         "type": "scatter",
         "x": [
          1952,
          1957,
          1962,
          1967,
          1972,
          1977,
          1982,
          1987,
          1992,
          1997,
          2002,
          2007
         ],
         "xaxis": "x",
         "y": [
          11367.16112,
          12489.95006,
          13462.48555,
          16076.58803,
          18970.57086,
          22090.88306,
          22898.79214,
          26626.515030000002,
          26342.88426,
          28954.92589,
          33328.96507,
          36319.235010000004
         ],
         "yaxis": "y"
        },
        {
         "hovertemplate": "country=Central African Republic<br>continent=Africa<br>year=%{x}<br>gdpPercap=%{y}<extra></extra>",
         "legendgroup": "Central African Republic",
         "line": {
          "color": "#EF553B"
         },
         "mode": "lines",
         "name": "Central African Republic",
         "orientation": "v",
         "showlegend": true,
         "stackgroup": "1",
         "type": "scatter",
         "x": [
          1952,
          1957,
          1962,
          1967,
          1972,
          1977,
          1982,
          1987,
          1992,
          1997,
          2002,
          2007
         ],
         "xaxis": "x",
         "y": [
          1071.310713,
          1190.844328,
          1193.068753,
          1136.056615,
          1070.013275,
          1109.374338,
          956.7529906999999,
          844.8763504000001,
          747.9055252,
          740.5063317,
          738.6906068,
          706.016537
         ],
         "yaxis": "y"
        },
        {
         "hovertemplate": "country=Chad<br>continent=Africa<br>year=%{x}<br>gdpPercap=%{y}<extra></extra>",
         "legendgroup": "Chad",
         "line": {
          "color": "#00cc96"
         },
         "mode": "lines",
         "name": "Chad",
         "orientation": "v",
         "showlegend": true,
         "stackgroup": "1",
         "type": "scatter",
         "x": [
          1952,
          1957,
          1962,
          1967,
          1972,
          1977,
          1982,
          1987,
          1992,
          1997,
          2002,
          2007
         ],
         "xaxis": "x",
         "y": [
          1178.665927,
          1308.495577,
          1389.817618,
          1196.810565,
          1104.103987,
          1133.98495,
          797.9081006,
          952.3861289999999,
          1058.0643,
          1004.9613529999999,
          1156.18186,
          1704.0637239999999
         ],
         "yaxis": "y"
        },
        {
         "hovertemplate": "country=Chile<br>continent=Americas<br>year=%{x}<br>gdpPercap=%{y}<extra></extra>",
         "legendgroup": "Chile",
         "line": {
          "color": "#ab63fa"
         },
         "mode": "lines",
         "name": "Chile",
         "orientation": "v",
         "showlegend": true,
         "stackgroup": "1",
         "type": "scatter",
         "x": [
          1952,
          1957,
          1962,
          1967,
          1972,
          1977,
          1982,
          1987,
          1992,
          1997,
          2002,
          2007
         ],
         "xaxis": "x",
         "y": [
          3939.9787890000002,
          4315.6227229999995,
          4519.094331,
          5106.654313,
          5494.024437,
          4756.763836,
          5095.665738000001,
          5547.063754,
          7596.125964,
          10118.053179999999,
          10778.78385,
          13171.63885
         ],
         "yaxis": "y"
        },
        {
         "hovertemplate": "country=China<br>continent=Asia<br>year=%{x}<br>gdpPercap=%{y}<extra></extra>",
         "legendgroup": "China",
         "line": {
          "color": "#FFA15A"
         },
         "mode": "lines",
         "name": "China",
         "orientation": "v",
         "showlegend": true,
         "stackgroup": "1",
         "type": "scatter",
         "x": [
          1952,
          1957,
          1962,
          1967,
          1972,
          1977,
          1982,
          1987,
          1992,
          1997,
          2002,
          2007
         ],
         "xaxis": "x",
         "y": [
          400.44861099999997,
          575.9870009,
          487.6740183,
          612.7056934,
          676.9000921,
          741.2374699,
          962.4213804999999,
          1378.904018,
          1655.784158,
          2289.234136,
          3119.280896,
          4959.1148539999995
         ],
         "yaxis": "y"
        },
        {
         "hovertemplate": "country=Colombia<br>continent=Americas<br>year=%{x}<br>gdpPercap=%{y}<extra></extra>",
         "legendgroup": "Colombia",
         "line": {
          "color": "#19d3f3"
         },
         "mode": "lines",
         "name": "Colombia",
         "orientation": "v",
         "showlegend": true,
         "stackgroup": "1",
         "type": "scatter",
         "x": [
          1952,
          1957,
          1962,
          1967,
          1972,
          1977,
          1982,
          1987,
          1992,
          1997,
          2002,
          2007
         ],
         "xaxis": "x",
         "y": [
          2144.115096,
          2323.805581,
          2492.351109,
          2678.729839,
          3264.660041,
          3815.80787,
          4397.575659,
          4903.2191,
          5444.648617,
          6117.3617460000005,
          5755.259962,
          7006.580419
         ],
         "yaxis": "y"
        },
        {
         "hovertemplate": "country=Comoros<br>continent=Africa<br>year=%{x}<br>gdpPercap=%{y}<extra></extra>",
         "legendgroup": "Comoros",
         "line": {
          "color": "#FF6692"
         },
         "mode": "lines",
         "name": "Comoros",
         "orientation": "v",
         "showlegend": true,
         "stackgroup": "1",
         "type": "scatter",
         "x": [
          1952,
          1957,
          1962,
          1967,
          1972,
          1977,
          1982,
          1987,
          1992,
          1997,
          2002,
          2007
         ],
         "xaxis": "x",
         "y": [
          1102.990936,
          1211.1485480000001,
          1406.648278,
          1876.029643,
          1937.577675,
          1172.603047,
          1267.100083,
          1315.980812,
          1246.90737,
          1173.618235,
          1075.811558,
          986.1478792000001
         ],
         "yaxis": "y"
        },
        {
         "hovertemplate": "country=Congo, Dem. Rep.<br>continent=Africa<br>year=%{x}<br>gdpPercap=%{y}<extra></extra>",
         "legendgroup": "Congo, Dem. Rep.",
         "line": {
          "color": "#B6E880"
         },
         "mode": "lines",
         "name": "Congo, Dem. Rep.",
         "orientation": "v",
         "showlegend": true,
         "stackgroup": "1",
         "type": "scatter",
         "x": [
          1952,
          1957,
          1962,
          1967,
          1972,
          1977,
          1982,
          1987,
          1992,
          1997,
          2002,
          2007
         ],
         "xaxis": "x",
         "y": [
          780.5423257,
          905.8602302999999,
          896.3146335000001,
          861.5932424,
          904.8960685000001,
          795.757282,
          673.7478181,
          672.774812,
          457.7191807,
          312.188423,
          241.16587650000002,
          277.55185869999997
         ],
         "yaxis": "y"
        },
        {
         "hovertemplate": "country=Congo, Rep.<br>continent=Africa<br>year=%{x}<br>gdpPercap=%{y}<extra></extra>",
         "legendgroup": "Congo, Rep.",
         "line": {
          "color": "#FF97FF"
         },
         "mode": "lines",
         "name": "Congo, Rep.",
         "orientation": "v",
         "showlegend": true,
         "stackgroup": "1",
         "type": "scatter",
         "x": [
          1952,
          1957,
          1962,
          1967,
          1972,
          1977,
          1982,
          1987,
          1992,
          1997,
          2002,
          2007
         ],
         "xaxis": "x",
         "y": [
          2125.621418,
          2315.056572,
          2464.783157,
          2677.9396420000003,
          3213.152683,
          3259.178978,
          4879.507522,
          4201.194936999999,
          4016.239529,
          3484.1643759999997,
          3484.06197,
          3632.557798
         ],
         "yaxis": "y"
        },
        {
         "hovertemplate": "country=Costa Rica<br>continent=Americas<br>year=%{x}<br>gdpPercap=%{y}<extra></extra>",
         "legendgroup": "Costa Rica",
         "line": {
          "color": "#FECB52"
         },
         "mode": "lines",
         "name": "Costa Rica",
         "orientation": "v",
         "showlegend": true,
         "stackgroup": "1",
         "type": "scatter",
         "x": [
          1952,
          1957,
          1962,
          1967,
          1972,
          1977,
          1982,
          1987,
          1992,
          1997,
          2002,
          2007
         ],
         "xaxis": "x",
         "y": [
          2627.0094710000003,
          2990.010802,
          3460.937025,
          4161.727834,
          5118.146939,
          5926.876967,
          5262.734751,
          5629.915318,
          6160.416317,
          6677.045314,
          7723.447195000001,
          9645.06142
         ],
         "yaxis": "y"
        },
        {
         "hovertemplate": "country=Cote d'Ivoire<br>continent=Africa<br>year=%{x}<br>gdpPercap=%{y}<extra></extra>",
         "legendgroup": "Cote d'Ivoire",
         "line": {
          "color": "#636efa"
         },
         "mode": "lines",
         "name": "Cote d'Ivoire",
         "orientation": "v",
         "showlegend": true,
         "stackgroup": "1",
         "type": "scatter",
         "x": [
          1952,
          1957,
          1962,
          1967,
          1972,
          1977,
          1982,
          1987,
          1992,
          1997,
          2002,
          2007
         ],
         "xaxis": "x",
         "y": [
          1388.594732,
          1500.895925,
          1728.8694280000002,
          2052.0504730000002,
          2378.201111,
          2517.736547,
          2602.710169,
          2156.9560690000003,
          1648.073791,
          1786.265407,
          1648.800823,
          1544.750112
         ],
         "yaxis": "y"
        },
        {
         "hovertemplate": "country=Croatia<br>continent=Europe<br>year=%{x}<br>gdpPercap=%{y}<extra></extra>",
         "legendgroup": "Croatia",
         "line": {
          "color": "#EF553B"
         },
         "mode": "lines",
         "name": "Croatia",
         "orientation": "v",
         "showlegend": true,
         "stackgroup": "1",
         "type": "scatter",
         "x": [
          1952,
          1957,
          1962,
          1967,
          1972,
          1977,
          1982,
          1987,
          1992,
          1997,
          2002,
          2007
         ],
         "xaxis": "x",
         "y": [
          3119.23652,
          4338.231617,
          5477.890018,
          6960.297861,
          9164.090127,
          11305.38517,
          13221.82184,
          13822.58394,
          8447.794873,
          9875.604515,
          11628.38895,
          14619.222719999998
         ],
         "yaxis": "y"
        },
        {
         "hovertemplate": "country=Cuba<br>continent=Americas<br>year=%{x}<br>gdpPercap=%{y}<extra></extra>",
         "legendgroup": "Cuba",
         "line": {
          "color": "#00cc96"
         },
         "mode": "lines",
         "name": "Cuba",
         "orientation": "v",
         "showlegend": true,
         "stackgroup": "1",
         "type": "scatter",
         "x": [
          1952,
          1957,
          1962,
          1967,
          1972,
          1977,
          1982,
          1987,
          1992,
          1997,
          2002,
          2007
         ],
         "xaxis": "x",
         "y": [
          5586.53878,
          6092.174359000001,
          5180.75591,
          5690.268015,
          5305.445256,
          6380.494965999999,
          7316.9181069999995,
          7532.924762999999,
          5592.843963,
          5431.990415,
          6340.646683,
          8948.102923
         ],
         "yaxis": "y"
        },
        {
         "hovertemplate": "country=Czech Republic<br>continent=Europe<br>year=%{x}<br>gdpPercap=%{y}<extra></extra>",
         "legendgroup": "Czech Republic",
         "line": {
          "color": "#ab63fa"
         },
         "mode": "lines",
         "name": "Czech Republic",
         "orientation": "v",
         "showlegend": true,
         "stackgroup": "1",
         "type": "scatter",
         "x": [
          1952,
          1957,
          1962,
          1967,
          1972,
          1977,
          1982,
          1987,
          1992,
          1997,
          2002,
          2007
         ],
         "xaxis": "x",
         "y": [
          6876.14025,
          8256.343918,
          10136.86713,
          11399.44489,
          13108.4536,
          14800.160619999999,
          15377.22855,
          16310.4434,
          14297.021219999999,
          16048.51424,
          17596.210219999997,
          22833.30851
         ],
         "yaxis": "y"
        },
        {
         "hovertemplate": "country=Denmark<br>continent=Europe<br>year=%{x}<br>gdpPercap=%{y}<extra></extra>",
         "legendgroup": "Denmark",
         "line": {
          "color": "#FFA15A"
         },
         "mode": "lines",
         "name": "Denmark",
         "orientation": "v",
         "showlegend": true,
         "stackgroup": "1",
         "type": "scatter",
         "x": [
          1952,
          1957,
          1962,
          1967,
          1972,
          1977,
          1982,
          1987,
          1992,
          1997,
          2002,
          2007
         ],
         "xaxis": "x",
         "y": [
          9692.385245,
          11099.65935,
          13583.31351,
          15937.21123,
          18866.20721,
          20422.9015,
          21688.04048,
          25116.17581,
          26406.73985,
          29804.34567,
          32166.500060000002,
          35278.41874
         ],
         "yaxis": "y"
        },
        {
         "hovertemplate": "country=Djibouti<br>continent=Africa<br>year=%{x}<br>gdpPercap=%{y}<extra></extra>",
         "legendgroup": "Djibouti",
         "line": {
          "color": "#19d3f3"
         },
         "mode": "lines",
         "name": "Djibouti",
         "orientation": "v",
         "showlegend": true,
         "stackgroup": "1",
         "type": "scatter",
         "x": [
          1952,
          1957,
          1962,
          1967,
          1972,
          1977,
          1982,
          1987,
          1992,
          1997,
          2002,
          2007
         ],
         "xaxis": "x",
         "y": [
          2669.529475,
          2864.9690760000003,
          3020.989263,
          3020.0505129999997,
          3694.2123520000005,
          3081.7610219999997,
          2879.4680670000002,
          2880.102568,
          2377.1561920000004,
          1895.016984,
          1908.2608670000002,
          2082.4815670000003
         ],
         "yaxis": "y"
        },
        {
         "hovertemplate": "country=Dominican Republic<br>continent=Americas<br>year=%{x}<br>gdpPercap=%{y}<extra></extra>",
         "legendgroup": "Dominican Republic",
         "line": {
          "color": "#FF6692"
         },
         "mode": "lines",
         "name": "Dominican Republic",
         "orientation": "v",
         "showlegend": true,
         "stackgroup": "1",
         "type": "scatter",
         "x": [
          1952,
          1957,
          1962,
          1967,
          1972,
          1977,
          1982,
          1987,
          1992,
          1997,
          2002,
          2007
         ],
         "xaxis": "x",
         "y": [
          1397.7171369999999,
          1544.402995,
          1662.137359,
          1653.7230029999998,
          2189.874499,
          2681.9889,
          2861.092386,
          2899.842175,
          3044.214214,
          3614.101285,
          4563.808154,
          6025.374752000001
         ],
         "yaxis": "y"
        },
        {
         "hovertemplate": "country=Ecuador<br>continent=Americas<br>year=%{x}<br>gdpPercap=%{y}<extra></extra>",
         "legendgroup": "Ecuador",
         "line": {
          "color": "#B6E880"
         },
         "mode": "lines",
         "name": "Ecuador",
         "orientation": "v",
         "showlegend": true,
         "stackgroup": "1",
         "type": "scatter",
         "x": [
          1952,
          1957,
          1962,
          1967,
          1972,
          1977,
          1982,
          1987,
          1992,
          1997,
          2002,
          2007
         ],
         "xaxis": "x",
         "y": [
          3522.110717,
          3780.5466509999997,
          4086.114078,
          4579.074215,
          5280.99471,
          6679.62326,
          7213.7912670000005,
          6481.776993,
          7103.702595000001,
          7429.455876999999,
          5773.0445119999995,
          6873.262326000001
         ],
         "yaxis": "y"
        },
        {
         "hovertemplate": "country=Egypt<br>continent=Africa<br>year=%{x}<br>gdpPercap=%{y}<extra></extra>",
         "legendgroup": "Egypt",
         "line": {
          "color": "#FF97FF"
         },
         "mode": "lines",
         "name": "Egypt",
         "orientation": "v",
         "showlegend": true,
         "stackgroup": "1",
         "type": "scatter",
         "x": [
          1952,
          1957,
          1962,
          1967,
          1972,
          1977,
          1982,
          1987,
          1992,
          1997,
          2002,
          2007
         ],
         "xaxis": "x",
         "y": [
          1418.822445,
          1458.915272,
          1693.335853,
          1814.880728,
          2024.0081469999998,
          2785.493582,
          3503.729636,
          3885.4607100000003,
          3794.755195,
          4173.181797,
          4754.604414,
          5581.180998
         ],
         "yaxis": "y"
        },
        {
         "hovertemplate": "country=El Salvador<br>continent=Americas<br>year=%{x}<br>gdpPercap=%{y}<extra></extra>",
         "legendgroup": "El Salvador",
         "line": {
          "color": "#FECB52"
         },
         "mode": "lines",
         "name": "El Salvador",
         "orientation": "v",
         "showlegend": true,
         "stackgroup": "1",
         "type": "scatter",
         "x": [
          1952,
          1957,
          1962,
          1967,
          1972,
          1977,
          1982,
          1987,
          1992,
          1997,
          2002,
          2007
         ],
         "xaxis": "x",
         "y": [
          3048.3029,
          3421.523218,
          3776.8036270000002,
          4358.595393,
          4520.246008,
          5138.922374,
          4098.344175,
          4140.442097,
          4444.2317,
          5154.825496,
          5351.568665999999,
          5728.353514
         ],
         "yaxis": "y"
        },
        {
         "hovertemplate": "country=Equatorial Guinea<br>continent=Africa<br>year=%{x}<br>gdpPercap=%{y}<extra></extra>",
         "legendgroup": "Equatorial Guinea",
         "line": {
          "color": "#636efa"
         },
         "mode": "lines",
         "name": "Equatorial Guinea",
         "orientation": "v",
         "showlegend": true,
         "stackgroup": "1",
         "type": "scatter",
         "x": [
          1952,
          1957,
          1962,
          1967,
          1972,
          1977,
          1982,
          1987,
          1992,
          1997,
          2002,
          2007
         ],
         "xaxis": "x",
         "y": [
          375.6431231,
          426.0964081,
          582.8419713999999,
          915.5960025,
          672.4122571,
          958.5668124,
          927.8253427000001,
          966.8968149,
          1132.055034,
          2814.480755,
          7703.4959,
          12154.08975
         ],
         "yaxis": "y"
        },
        {
         "hovertemplate": "country=Eritrea<br>continent=Africa<br>year=%{x}<br>gdpPercap=%{y}<extra></extra>",
         "legendgroup": "Eritrea",
         "line": {
          "color": "#EF553B"
         },
         "mode": "lines",
         "name": "Eritrea",
         "orientation": "v",
         "showlegend": true,
         "stackgroup": "1",
         "type": "scatter",
         "x": [
          1952,
          1957,
          1962,
          1967,
          1972,
          1977,
          1982,
          1987,
          1992,
          1997,
          2002,
          2007
         ],
         "xaxis": "x",
         "y": [
          328.94055710000004,
          344.16188589999996,
          380.99584330000005,
          468.7949699,
          514.3242081999999,
          505.7538077,
          524.8758493,
          521.1341333,
          582.8585102000001,
          913.4707900000001,
          765.3500015,
          641.3695236000001
         ],
         "yaxis": "y"
        },
        {
         "hovertemplate": "country=Ethiopia<br>continent=Africa<br>year=%{x}<br>gdpPercap=%{y}<extra></extra>",
         "legendgroup": "Ethiopia",
         "line": {
          "color": "#00cc96"
         },
         "mode": "lines",
         "name": "Ethiopia",
         "orientation": "v",
         "showlegend": true,
         "stackgroup": "1",
         "type": "scatter",
         "x": [
          1952,
          1957,
          1962,
          1967,
          1972,
          1977,
          1982,
          1987,
          1992,
          1997,
          2002,
          2007
         ],
         "xaxis": "x",
         "y": [
          362.1462796,
          378.90416319999997,
          419.4564161,
          516.1186438,
          566.2439442000001,
          556.8083834,
          577.8607471,
          573.7413142000001,
          421.3534653,
          515.8894013,
          530.0535319,
          690.8055759
         ],
         "yaxis": "y"
        },
        {
         "hovertemplate": "country=Finland<br>continent=Europe<br>year=%{x}<br>gdpPercap=%{y}<extra></extra>",
         "legendgroup": "Finland",
         "line": {
          "color": "#ab63fa"
         },
         "mode": "lines",
         "name": "Finland",
         "orientation": "v",
         "showlegend": true,
         "stackgroup": "1",
         "type": "scatter",
         "x": [
          1952,
          1957,
          1962,
          1967,
          1972,
          1977,
          1982,
          1987,
          1992,
          1997,
          2002,
          2007
         ],
         "xaxis": "x",
         "y": [
          6424.519071,
          7545.415386,
          9371.842561,
          10921.63626,
          14358.8759,
          15605.422830000001,
          18533.15761,
          21141.01223,
          20647.16499,
          23723.9502,
          28204.59057,
          33207.0844
         ],
         "yaxis": "y"
        },
        {
         "hovertemplate": "country=France<br>continent=Europe<br>year=%{x}<br>gdpPercap=%{y}<extra></extra>",
         "legendgroup": "France",
         "line": {
          "color": "#FFA15A"
         },
         "mode": "lines",
         "name": "France",
         "orientation": "v",
         "showlegend": true,
         "stackgroup": "1",
         "type": "scatter",
         "x": [
          1952,
          1957,
          1962,
          1967,
          1972,
          1977,
          1982,
          1987,
          1992,
          1997,
          2002,
          2007
         ],
         "xaxis": "x",
         "y": [
          7029.809327,
          8662.834898000001,
          10560.48553,
          12999.91766,
          16107.19171,
          18292.635140000002,
          20293.89746,
          22066.44214,
          24703.79615,
          25889.78487,
          28926.032339999998,
          30470.0167
         ],
         "yaxis": "y"
        },
        {
         "hovertemplate": "country=Gabon<br>continent=Africa<br>year=%{x}<br>gdpPercap=%{y}<extra></extra>",
         "legendgroup": "Gabon",
         "line": {
          "color": "#19d3f3"
         },
         "mode": "lines",
         "name": "Gabon",
         "orientation": "v",
         "showlegend": true,
         "stackgroup": "1",
         "type": "scatter",
         "x": [
          1952,
          1957,
          1962,
          1967,
          1972,
          1977,
          1982,
          1987,
          1992,
          1997,
          2002,
          2007
         ],
         "xaxis": "x",
         "y": [
          4293.476475,
          4976.198099,
          6631.4592219999995,
          8358.761987,
          11401.948409999999,
          21745.57328,
          15113.36194,
          11864.408440000001,
          13522.157519999999,
          14722.841880000002,
          12521.71392,
          13206.48452
         ],
         "yaxis": "y"
        },
        {
         "hovertemplate": "country=Gambia<br>continent=Africa<br>year=%{x}<br>gdpPercap=%{y}<extra></extra>",
         "legendgroup": "Gambia",
         "line": {
          "color": "#FF6692"
         },
         "mode": "lines",
         "name": "Gambia",
         "orientation": "v",
         "showlegend": true,
         "stackgroup": "1",
         "type": "scatter",
         "x": [
          1952,
          1957,
          1962,
          1967,
          1972,
          1977,
          1982,
          1987,
          1992,
          1997,
          2002,
          2007
         ],
         "xaxis": "x",
         "y": [
          485.2306591,
          520.9267111,
          599.650276,
          734.7829124,
          756.0868363,
          884.7552507000001,
          835.8096107999999,
          611.6588611000001,
          665.6244126,
          653.7301704,
          660.5855997,
          752.7497265
         ],
         "yaxis": "y"
        },
        {
         "hovertemplate": "country=Germany<br>continent=Europe<br>year=%{x}<br>gdpPercap=%{y}<extra></extra>",
         "legendgroup": "Germany",
         "line": {
          "color": "#B6E880"
         },
         "mode": "lines",
         "name": "Germany",
         "orientation": "v",
         "showlegend": true,
         "stackgroup": "1",
         "type": "scatter",
         "x": [
          1952,
          1957,
          1962,
          1967,
          1972,
          1977,
          1982,
          1987,
          1992,
          1997,
          2002,
          2007
         ],
         "xaxis": "x",
         "y": [
          7144.114393000001,
          10187.82665,
          12902.46291,
          14745.62561,
          18016.180269999997,
          20512.92123,
          22031.532740000002,
          24639.18566,
          26505.30317,
          27788.88416,
          30035.80198,
          32170.37442
         ],
         "yaxis": "y"
        },
        {
         "hovertemplate": "country=Ghana<br>continent=Africa<br>year=%{x}<br>gdpPercap=%{y}<extra></extra>",
         "legendgroup": "Ghana",
         "line": {
          "color": "#FF97FF"
         },
         "mode": "lines",
         "name": "Ghana",
         "orientation": "v",
         "showlegend": true,
         "stackgroup": "1",
         "type": "scatter",
         "x": [
          1952,
          1957,
          1962,
          1967,
          1972,
          1977,
          1982,
          1987,
          1992,
          1997,
          2002,
          2007
         ],
         "xaxis": "x",
         "y": [
          911.2989371,
          1043.5615369999998,
          1190.0411179999999,
          1125.69716,
          1178.223708,
          993.2239571,
          876.032569,
          847.0061135,
          925.0601539999999,
          1005.2458119999999,
          1111.9845779999998,
          1327.60891
         ],
         "yaxis": "y"
        },
        {
         "hovertemplate": "country=Greece<br>continent=Europe<br>year=%{x}<br>gdpPercap=%{y}<extra></extra>",
         "legendgroup": "Greece",
         "line": {
          "color": "#FECB52"
         },
         "mode": "lines",
         "name": "Greece",
         "orientation": "v",
         "showlegend": true,
         "stackgroup": "1",
         "type": "scatter",
         "x": [
          1952,
          1957,
          1962,
          1967,
          1972,
          1977,
          1982,
          1987,
          1992,
          1997,
          2002,
          2007
         ],
         "xaxis": "x",
         "y": [
          3530.690067,
          4916.299889,
          6017.190732999999,
          8513.097016,
          12724.82957,
          14195.524280000001,
          15268.420890000001,
          16120.528390000001,
          17541.49634,
          18747.69814,
          22514.2548,
          27538.41188
         ],
         "yaxis": "y"
        },
        {
         "hovertemplate": "country=Guatemala<br>continent=Americas<br>year=%{x}<br>gdpPercap=%{y}<extra></extra>",
         "legendgroup": "Guatemala",
         "line": {
          "color": "#636efa"
         },
         "mode": "lines",
         "name": "Guatemala",
         "orientation": "v",
         "showlegend": true,
         "stackgroup": "1",
         "type": "scatter",
         "x": [
          1952,
          1957,
          1962,
          1967,
          1972,
          1977,
          1982,
          1987,
          1992,
          1997,
          2002,
          2007
         ],
         "xaxis": "x",
         "y": [
          2428.2377690000003,
          2617.155967,
          2750.364446,
          3242.5311469999997,
          4031.4082710000002,
          4879.992748,
          4820.49479,
          4246.485974,
          4439.4508399999995,
          4684.313807,
          4858.347495,
          5186.050003
         ],
         "yaxis": "y"
        },
        {
         "hovertemplate": "country=Guinea<br>continent=Africa<br>year=%{x}<br>gdpPercap=%{y}<extra></extra>",
         "legendgroup": "Guinea",
         "line": {
          "color": "#EF553B"
         },
         "mode": "lines",
         "name": "Guinea",
         "orientation": "v",
         "showlegend": true,
         "stackgroup": "1",
         "type": "scatter",
         "x": [
          1952,
          1957,
          1962,
          1967,
          1972,
          1977,
          1982,
          1987,
          1992,
          1997,
          2002,
          2007
         ],
         "xaxis": "x",
         "y": [
          510.19649230000005,
          576.2670245,
          686.3736739,
          708.7595409,
          741.6662307,
          874.6858642999999,
          857.2503577,
          805.5724717999999,
          794.3484384,
          869.4497667999999,
          945.5835837000001,
          942.6542111
         ],
         "yaxis": "y"
        },
        {
         "hovertemplate": "country=Guinea-Bissau<br>continent=Africa<br>year=%{x}<br>gdpPercap=%{y}<extra></extra>",
         "legendgroup": "Guinea-Bissau",
         "line": {
          "color": "#00cc96"
         },
         "mode": "lines",
         "name": "Guinea-Bissau",
         "orientation": "v",
         "showlegend": true,
         "stackgroup": "1",
         "type": "scatter",
         "x": [
          1952,
          1957,
          1962,
          1967,
          1972,
          1977,
          1982,
          1987,
          1992,
          1997,
          2002,
          2007
         ],
         "xaxis": "x",
         "y": [
          299.850319,
          431.7904566000001,
          522.0343725,
          715.5806402000001,
          820.2245876000001,
          764.7259627999999,
          838.1239671,
          736.4153921,
          745.5398706,
          796.6644681,
          575.7047176,
          579.2317429999999
         ],
         "yaxis": "y"
        },
        {
         "hovertemplate": "country=Haiti<br>continent=Americas<br>year=%{x}<br>gdpPercap=%{y}<extra></extra>",
         "legendgroup": "Haiti",
         "line": {
          "color": "#ab63fa"
         },
         "mode": "lines",
         "name": "Haiti",
         "orientation": "v",
         "showlegend": true,
         "stackgroup": "1",
         "type": "scatter",
         "x": [
          1952,
          1957,
          1962,
          1967,
          1972,
          1977,
          1982,
          1987,
          1992,
          1997,
          2002,
          2007
         ],
         "xaxis": "x",
         "y": [
          1840.366939,
          1726.887882,
          1796.589032,
          1452.057666,
          1654.456946,
          1874.2989309999998,
          2011.1595489999997,
          1823.015995,
          1456.309517,
          1341.7269310000001,
          1270.364932,
          1201.637154
         ],
         "yaxis": "y"
        },
        {
         "hovertemplate": "country=Honduras<br>continent=Americas<br>year=%{x}<br>gdpPercap=%{y}<extra></extra>",
         "legendgroup": "Honduras",
         "line": {
          "color": "#FFA15A"
         },
         "mode": "lines",
         "name": "Honduras",
         "orientation": "v",
         "showlegend": true,
         "stackgroup": "1",
         "type": "scatter",
         "x": [
          1952,
          1957,
          1962,
          1967,
          1972,
          1977,
          1982,
          1987,
          1992,
          1997,
          2002,
          2007
         ],
         "xaxis": "x",
         "y": [
          2194.926204,
          2220.487682,
          2291.1568350000002,
          2538.269358,
          2529.842345,
          3203.208066,
          3121.7607940000003,
          3023.0966989999997,
          3081.694603,
          3160.454906,
          3099.72866,
          3548.3308460000003
         ],
         "yaxis": "y"
        },
        {
         "hovertemplate": "country=Hong Kong, China<br>continent=Asia<br>year=%{x}<br>gdpPercap=%{y}<extra></extra>",
         "legendgroup": "Hong Kong, China",
         "line": {
          "color": "#19d3f3"
         },
         "mode": "lines",
         "name": "Hong Kong, China",
         "orientation": "v",
         "showlegend": true,
         "stackgroup": "1",
         "type": "scatter",
         "x": [
          1952,
          1957,
          1962,
          1967,
          1972,
          1977,
          1982,
          1987,
          1992,
          1997,
          2002,
          2007
         ],
         "xaxis": "x",
         "y": [
          3054.421209,
          3629.076457,
          4692.648271999999,
          6197.962814,
          8315.928145,
          11186.14125,
          14560.530509999999,
          20038.472690000002,
          24757.60301,
          28377.632189999997,
          30209.015160000003,
          39724.97867
         ],
         "yaxis": "y"
        },
        {
         "hovertemplate": "country=Hungary<br>continent=Europe<br>year=%{x}<br>gdpPercap=%{y}<extra></extra>",
         "legendgroup": "Hungary",
         "line": {
          "color": "#FF6692"
         },
         "mode": "lines",
         "name": "Hungary",
         "orientation": "v",
         "showlegend": true,
         "stackgroup": "1",
         "type": "scatter",
         "x": [
          1952,
          1957,
          1962,
          1967,
          1972,
          1977,
          1982,
          1987,
          1992,
          1997,
          2002,
          2007
         ],
         "xaxis": "x",
         "y": [
          5263.6738159999995,
          6040.180011,
          7550.359877,
          9326.64467,
          10168.65611,
          11674.837370000001,
          12545.99066,
          12986.47998,
          10535.62855,
          11712.7768,
          14843.93556,
          18008.94444
         ],
         "yaxis": "y"
        },
        {
         "hovertemplate": "country=Iceland<br>continent=Europe<br>year=%{x}<br>gdpPercap=%{y}<extra></extra>",
         "legendgroup": "Iceland",
         "line": {
          "color": "#B6E880"
         },
         "mode": "lines",
         "name": "Iceland",
         "orientation": "v",
         "showlegend": true,
         "stackgroup": "1",
         "type": "scatter",
         "x": [
          1952,
          1957,
          1962,
          1967,
          1972,
          1977,
          1982,
          1987,
          1992,
          1997,
          2002,
          2007
         ],
         "xaxis": "x",
         "y": [
          7267.688428,
          9244.001412,
          10350.15906,
          13319.89568,
          15798.063619999999,
          19654.96247,
          23269.6075,
          26923.206280000002,
          25144.39201,
          28061.099660000003,
          31163.201960000002,
          36180.789189999996
         ],
         "yaxis": "y"
        },
        {
         "hovertemplate": "country=India<br>continent=Asia<br>year=%{x}<br>gdpPercap=%{y}<extra></extra>",
         "legendgroup": "India",
         "line": {
          "color": "#FF97FF"
         },
         "mode": "lines",
         "name": "India",
         "orientation": "v",
         "showlegend": true,
         "stackgroup": "1",
         "type": "scatter",
         "x": [
          1952,
          1957,
          1962,
          1967,
          1972,
          1977,
          1982,
          1987,
          1992,
          1997,
          2002,
          2007
         ],
         "xaxis": "x",
         "y": [
          546.5657493,
          590.061996,
          658.3471509,
          700.7706107000001,
          724.032527,
          813.3373230000001,
          855.7235377000001,
          976.5126756000001,
          1164.406809,
          1458.817442,
          1746.769454,
          2452.210407
         ],
         "yaxis": "y"
        },
        {
         "hovertemplate": "country=Indonesia<br>continent=Asia<br>year=%{x}<br>gdpPercap=%{y}<extra></extra>",
         "legendgroup": "Indonesia",
         "line": {
          "color": "#FECB52"
         },
         "mode": "lines",
         "name": "Indonesia",
         "orientation": "v",
         "showlegend": true,
         "stackgroup": "1",
         "type": "scatter",
         "x": [
          1952,
          1957,
          1962,
          1967,
          1972,
          1977,
          1982,
          1987,
          1992,
          1997,
          2002,
          2007
         ],
         "xaxis": "x",
         "y": [
          749.6816546,
          858.9002707000001,
          849.2897700999999,
          762.4317721,
          1111.107907,
          1382.702056,
          1516.872988,
          1748.356961,
          2383.140898,
          3119.335603,
          2873.91287,
          3540.6515640000002
         ],
         "yaxis": "y"
        },
        {
         "hovertemplate": "country=Iran<br>continent=Asia<br>year=%{x}<br>gdpPercap=%{y}<extra></extra>",
         "legendgroup": "Iran",
         "line": {
          "color": "#636efa"
         },
         "mode": "lines",
         "name": "Iran",
         "orientation": "v",
         "showlegend": true,
         "stackgroup": "1",
         "type": "scatter",
         "x": [
          1952,
          1957,
          1962,
          1967,
          1972,
          1977,
          1982,
          1987,
          1992,
          1997,
          2002,
          2007
         ],
         "xaxis": "x",
         "y": [
          3035.326002,
          3290.257643,
          4187.329802,
          5906.731804999999,
          9613.818607,
          11888.59508,
          7608.334602,
          6642.881371,
          7235.653187999999,
          8263.590301,
          9240.761975,
          11605.71449
         ],
         "yaxis": "y"
        },
        {
         "hovertemplate": "country=Iraq<br>continent=Asia<br>year=%{x}<br>gdpPercap=%{y}<extra></extra>",
         "legendgroup": "Iraq",
         "line": {
          "color": "#EF553B"
         },
         "mode": "lines",
         "name": "Iraq",
         "orientation": "v",
         "showlegend": true,
         "stackgroup": "1",
         "type": "scatter",
         "x": [
          1952,
          1957,
          1962,
          1967,
          1972,
          1977,
          1982,
          1987,
          1992,
          1997,
          2002,
          2007
         ],
         "xaxis": "x",
         "y": [
          4129.766056,
          6229.333562,
          8341.737815,
          8931.459811,
          9576.037596,
          14688.235069999999,
          14517.90711,
          11643.57268,
          3745.6406869999996,
          3076.239795,
          4390.717312,
          4471.061906
         ],
         "yaxis": "y"
        },
        {
         "hovertemplate": "country=Ireland<br>continent=Europe<br>year=%{x}<br>gdpPercap=%{y}<extra></extra>",
         "legendgroup": "Ireland",
         "line": {
          "color": "#00cc96"
         },
         "mode": "lines",
         "name": "Ireland",
         "orientation": "v",
         "showlegend": true,
         "stackgroup": "1",
         "type": "scatter",
         "x": [
          1952,
          1957,
          1962,
          1967,
          1972,
          1977,
          1982,
          1987,
          1992,
          1997,
          2002,
          2007
         ],
         "xaxis": "x",
         "y": [
          5210.280328,
          5599.077872,
          6631.597314,
          7655.568963,
          9530.772895999999,
          11150.98113,
          12618.321409999999,
          13872.86652,
          17558.81555,
          24521.94713,
          34077.04939,
          40675.99635
         ],
         "yaxis": "y"
        },
        {
         "hovertemplate": "country=Israel<br>continent=Asia<br>year=%{x}<br>gdpPercap=%{y}<extra></extra>",
         "legendgroup": "Israel",
         "line": {
          "color": "#ab63fa"
         },
         "mode": "lines",
         "name": "Israel",
         "orientation": "v",
         "showlegend": true,
         "stackgroup": "1",
         "type": "scatter",
         "x": [
          1952,
          1957,
          1962,
          1967,
          1972,
          1977,
          1982,
          1987,
          1992,
          1997,
          2002,
          2007
         ],
         "xaxis": "x",
         "y": [
          4086.522128,
          5385.278451,
          7105.630706,
          8393.741404,
          12786.93223,
          13306.619209999999,
          15367.0292,
          17122.47986,
          18051.52254,
          20896.60924,
          21905.59514,
          25523.2771
         ],
         "yaxis": "y"
        },
        {
         "hovertemplate": "country=Italy<br>continent=Europe<br>year=%{x}<br>gdpPercap=%{y}<extra></extra>",
         "legendgroup": "Italy",
         "line": {
          "color": "#FFA15A"
         },
         "mode": "lines",
         "name": "Italy",
         "orientation": "v",
         "showlegend": true,
         "stackgroup": "1",
         "type": "scatter",
         "x": [
          1952,
          1957,
          1962,
          1967,
          1972,
          1977,
          1982,
          1987,
          1992,
          1997,
          2002,
          2007
         ],
         "xaxis": "x",
         "y": [
          4931.404154999999,
          6248.656232,
          8243.58234,
          10022.40131,
          12269.27378,
          14255.98475,
          16537.4835,
          19207.234819999998,
          22013.64486,
          24675.02446,
          27968.098169999997,
          28569.7197
         ],
         "yaxis": "y"
        },
        {
         "hovertemplate": "country=Jamaica<br>continent=Americas<br>year=%{x}<br>gdpPercap=%{y}<extra></extra>",
         "legendgroup": "Jamaica",
         "line": {
          "color": "#19d3f3"
         },
         "mode": "lines",
         "name": "Jamaica",
         "orientation": "v",
         "showlegend": true,
         "stackgroup": "1",
         "type": "scatter",
         "x": [
          1952,
          1957,
          1962,
          1967,
          1972,
          1977,
          1982,
          1987,
          1992,
          1997,
          2002,
          2007
         ],
         "xaxis": "x",
         "y": [
          2898.5308809999997,
          4756.525781,
          5246.107524,
          6124.703450999999,
          7433.889293000001,
          6650.195573,
          6068.05135,
          6351.237495,
          7404.923685,
          7121.924704000001,
          6994.774861,
          7320.880262000001
         ],
         "yaxis": "y"
        },
        {
         "hovertemplate": "country=Japan<br>continent=Asia<br>year=%{x}<br>gdpPercap=%{y}<extra></extra>",
         "legendgroup": "Japan",
         "line": {
          "color": "#FF6692"
         },
         "mode": "lines",
         "name": "Japan",
         "orientation": "v",
         "showlegend": true,
         "stackgroup": "1",
         "type": "scatter",
         "x": [
          1952,
          1957,
          1962,
          1967,
          1972,
          1977,
          1982,
          1987,
          1992,
          1997,
          2002,
          2007
         ],
         "xaxis": "x",
         "y": [
          3216.956347,
          4317.694365,
          6576.649461,
          9847.788606999999,
          14778.78636,
          16610.37701,
          19384.10571,
          22375.941890000002,
          26824.895109999998,
          28816.58499,
          28604.5919,
          31656.06806
         ],
         "yaxis": "y"
        },
        {
         "hovertemplate": "country=Jordan<br>continent=Asia<br>year=%{x}<br>gdpPercap=%{y}<extra></extra>",
         "legendgroup": "Jordan",
         "line": {
          "color": "#B6E880"
         },
         "mode": "lines",
         "name": "Jordan",
         "orientation": "v",
         "showlegend": true,
         "stackgroup": "1",
         "type": "scatter",
         "x": [
          1952,
          1957,
          1962,
          1967,
          1972,
          1977,
          1982,
          1987,
          1992,
          1997,
          2002,
          2007
         ],
         "xaxis": "x",
         "y": [
          1546.907807,
          1886.080591,
          2348.009158,
          2741.796252,
          2110.856309,
          2852.351568,
          4161.415959,
          4448.679912,
          3431.5936469999997,
          3645.379572,
          3844.9171939999997,
          4519.461171
         ],
         "yaxis": "y"
        },
        {
         "hovertemplate": "country=Kenya<br>continent=Africa<br>year=%{x}<br>gdpPercap=%{y}<extra></extra>",
         "legendgroup": "Kenya",
         "line": {
          "color": "#FF97FF"
         },
         "mode": "lines",
         "name": "Kenya",
         "orientation": "v",
         "showlegend": true,
         "stackgroup": "1",
         "type": "scatter",
         "x": [
          1952,
          1957,
          1962,
          1967,
          1972,
          1977,
          1982,
          1987,
          1992,
          1997,
          2002,
          2007
         ],
         "xaxis": "x",
         "y": [
          853.5409189999999,
          944.4383152,
          896.9663732,
          1056.736457,
          1222.359968,
          1267.613204,
          1348.225791,
          1361.936856,
          1341.9217210000002,
          1360.4850210000002,
          1287.514732,
          1463.249282
         ],
         "yaxis": "y"
        },
        {
         "hovertemplate": "country=Korea, Dem. Rep.<br>continent=Asia<br>year=%{x}<br>gdpPercap=%{y}<extra></extra>",
         "legendgroup": "Korea, Dem. Rep.",
         "line": {
          "color": "#FECB52"
         },
         "mode": "lines",
         "name": "Korea, Dem. Rep.",
         "orientation": "v",
         "showlegend": true,
         "stackgroup": "1",
         "type": "scatter",
         "x": [
          1952,
          1957,
          1962,
          1967,
          1972,
          1977,
          1982,
          1987,
          1992,
          1997,
          2002,
          2007
         ],
         "xaxis": "x",
         "y": [
          1088.277758,
          1571.134655,
          1621.693598,
          2143.540609,
          3701.6215030000003,
          4106.301249,
          4106.525293,
          4106.4923149999995,
          3726.063507,
          1690.756814,
          1646.758151,
          1593.06548
         ],
         "yaxis": "y"
        },
        {
         "hovertemplate": "country=Korea, Rep.<br>continent=Asia<br>year=%{x}<br>gdpPercap=%{y}<extra></extra>",
         "legendgroup": "Korea, Rep.",
         "line": {
          "color": "#636efa"
         },
         "mode": "lines",
         "name": "Korea, Rep.",
         "orientation": "v",
         "showlegend": true,
         "stackgroup": "1",
         "type": "scatter",
         "x": [
          1952,
          1957,
          1962,
          1967,
          1972,
          1977,
          1982,
          1987,
          1992,
          1997,
          2002,
          2007
         ],
         "xaxis": "x",
         "y": [
          1030.592226,
          1487.593537,
          1536.3443869999999,
          2029.2281420000002,
          3030.87665,
          4657.22102,
          5622.942464,
          8533.088805,
          12104.27872,
          15993.52796,
          19233.98818,
          23348.139730000003
         ],
         "yaxis": "y"
        },
        {
         "hovertemplate": "country=Kuwait<br>continent=Asia<br>year=%{x}<br>gdpPercap=%{y}<extra></extra>",
         "legendgroup": "Kuwait",
         "line": {
          "color": "#EF553B"
         },
         "mode": "lines",
         "name": "Kuwait",
         "orientation": "v",
         "showlegend": true,
         "stackgroup": "1",
         "type": "scatter",
         "x": [
          1952,
          1957,
          1962,
          1967,
          1972,
          1977,
          1982,
          1987,
          1992,
          1997,
          2002,
          2007
         ],
         "xaxis": "x",
         "y": [
          108382.3529,
          113523.1329,
          95458.11176,
          80894.88326,
          109347.867,
          59265.477139999995,
          31354.03573,
          28118.42998,
          34932.91959,
          40300.61996,
          35110.10566,
          47306.98978
         ],
         "yaxis": "y"
        },
        {
         "hovertemplate": "country=Lebanon<br>continent=Asia<br>year=%{x}<br>gdpPercap=%{y}<extra></extra>",
         "legendgroup": "Lebanon",
         "line": {
          "color": "#00cc96"
         },
         "mode": "lines",
         "name": "Lebanon",
         "orientation": "v",
         "showlegend": true,
         "stackgroup": "1",
         "type": "scatter",
         "x": [
          1952,
          1957,
          1962,
          1967,
          1972,
          1977,
          1982,
          1987,
          1992,
          1997,
          2002,
          2007
         ],
         "xaxis": "x",
         "y": [
          4834.804067,
          6089.786934000001,
          5714.560611,
          6006.983042,
          7486.384341,
          8659.696836,
          7640.519520999999,
          5377.091329,
          6890.806854,
          8754.96385,
          9313.93883,
          10461.05868
         ],
         "yaxis": "y"
        },
        {
         "hovertemplate": "country=Lesotho<br>continent=Africa<br>year=%{x}<br>gdpPercap=%{y}<extra></extra>",
         "legendgroup": "Lesotho",
         "line": {
          "color": "#ab63fa"
         },
         "mode": "lines",
         "name": "Lesotho",
         "orientation": "v",
         "showlegend": true,
         "stackgroup": "1",
         "type": "scatter",
         "x": [
          1952,
          1957,
          1962,
          1967,
          1972,
          1977,
          1982,
          1987,
          1992,
          1997,
          2002,
          2007
         ],
         "xaxis": "x",
         "y": [
          298.8462121,
          335.99711510000003,
          411.80062660000004,
          498.63902649999994,
          496.58159220000005,
          745.3695408,
          797.2631074,
          773.9932140999999,
          977.4862724999999,
          1186.147994,
          1275.184575,
          1569.331442
         ],
         "yaxis": "y"
        },
        {
         "hovertemplate": "country=Liberia<br>continent=Africa<br>year=%{x}<br>gdpPercap=%{y}<extra></extra>",
         "legendgroup": "Liberia",
         "line": {
          "color": "#FFA15A"
         },
         "mode": "lines",
         "name": "Liberia",
         "orientation": "v",
         "showlegend": true,
         "stackgroup": "1",
         "type": "scatter",
         "x": [
          1952,
          1957,
          1962,
          1967,
          1972,
          1977,
          1982,
          1987,
          1992,
          1997,
          2002,
          2007
         ],
         "xaxis": "x",
         "y": [
          575.5729961000001,
          620.9699901,
          634.1951625,
          713.6036482999999,
          803.0054535,
          640.3224382999999,
          572.1995694,
          506.1138573,
          636.6229191000001,
          609.1739508,
          531.4823679,
          414.5073415
         ],
         "yaxis": "y"
        },
        {
         "hovertemplate": "country=Libya<br>continent=Africa<br>year=%{x}<br>gdpPercap=%{y}<extra></extra>",
         "legendgroup": "Libya",
         "line": {
          "color": "#19d3f3"
         },
         "mode": "lines",
         "name": "Libya",
         "orientation": "v",
         "showlegend": true,
         "stackgroup": "1",
         "type": "scatter",
         "x": [
          1952,
          1957,
          1962,
          1967,
          1972,
          1977,
          1982,
          1987,
          1992,
          1997,
          2002,
          2007
         ],
         "xaxis": "x",
         "y": [
          2387.54806,
          3448.284395,
          6757.0308159999995,
          18772.75169,
          21011.497209999998,
          21951.21176,
          17364.275380000003,
          11770.5898,
          9640.138501000001,
          9467.446056,
          9534.677467,
          12057.49928
         ],
         "yaxis": "y"
        },
        {
         "hovertemplate": "country=Madagascar<br>continent=Africa<br>year=%{x}<br>gdpPercap=%{y}<extra></extra>",
         "legendgroup": "Madagascar",
         "line": {
          "color": "#FF6692"
         },
         "mode": "lines",
         "name": "Madagascar",
         "orientation": "v",
         "showlegend": true,
         "stackgroup": "1",
         "type": "scatter",
         "x": [
          1952,
          1957,
          1962,
          1967,
          1972,
          1977,
          1982,
          1987,
          1992,
          1997,
          2002,
          2007
         ],
         "xaxis": "x",
         "y": [
          1443.011715,
          1589.20275,
          1643.38711,
          1634.047282,
          1748.562982,
          1544.228586,
          1302.878658,
          1155.4419480000001,
          1040.6761900000001,
          986.2958956,
          894.6370822,
          1044.770126
         ],
         "yaxis": "y"
        },
        {
         "hovertemplate": "country=Malawi<br>continent=Africa<br>year=%{x}<br>gdpPercap=%{y}<extra></extra>",
         "legendgroup": "Malawi",
         "line": {
          "color": "#B6E880"
         },
         "mode": "lines",
         "name": "Malawi",
         "orientation": "v",
         "showlegend": true,
         "stackgroup": "1",
         "type": "scatter",
         "x": [
          1952,
          1957,
          1962,
          1967,
          1972,
          1977,
          1982,
          1987,
          1992,
          1997,
          2002,
          2007
         ],
         "xaxis": "x",
         "y": [
          369.1650802,
          416.36980639999996,
          427.90108560000004,
          495.5147806,
          584.6219709,
          663.2236766,
          632.8039209,
          635.5173633999999,
          563.2000145,
          692.2758102999999,
          665.4231186000001,
          759.3499101
         ],
         "yaxis": "y"
        },
        {
         "hovertemplate": "country=Malaysia<br>continent=Asia<br>year=%{x}<br>gdpPercap=%{y}<extra></extra>",
         "legendgroup": "Malaysia",
         "line": {
          "color": "#FF97FF"
         },
         "mode": "lines",
         "name": "Malaysia",
         "orientation": "v",
         "showlegend": true,
         "stackgroup": "1",
         "type": "scatter",
         "x": [
          1952,
          1957,
          1962,
          1967,
          1972,
          1977,
          1982,
          1987,
          1992,
          1997,
          2002,
          2007
         ],
         "xaxis": "x",
         "y": [
          1831.132894,
          1810.0669920000003,
          2036.8849440000001,
          2277.742396,
          2849.09478,
          3827.9215710000003,
          4920.355951,
          5249.802653,
          7277.912802,
          10132.90964,
          10206.97794,
          12451.6558
         ],
         "yaxis": "y"
        },
        {
         "hovertemplate": "country=Mali<br>continent=Africa<br>year=%{x}<br>gdpPercap=%{y}<extra></extra>",
         "legendgroup": "Mali",
         "line": {
          "color": "#FECB52"
         },
         "mode": "lines",
         "name": "Mali",
         "orientation": "v",
         "showlegend": true,
         "stackgroup": "1",
         "type": "scatter",
         "x": [
          1952,
          1957,
          1962,
          1967,
          1972,
          1977,
          1982,
          1987,
          1992,
          1997,
          2002,
          2007
         ],
         "xaxis": "x",
         "y": [
          452.3369807,
          490.3821867,
          496.17434280000003,
          545.0098873,
          581.3688761,
          686.3952693,
          618.0140640999999,
          684.1715576,
          739.014375,
          790.2579846,
          951.4097517999999,
          1042.581557
         ],
         "yaxis": "y"
        },
        {
         "hovertemplate": "country=Mauritania<br>continent=Africa<br>year=%{x}<br>gdpPercap=%{y}<extra></extra>",
         "legendgroup": "Mauritania",
         "line": {
          "color": "#636efa"
         },
         "mode": "lines",
         "name": "Mauritania",
         "orientation": "v",
         "showlegend": true,
         "stackgroup": "1",
         "type": "scatter",
         "x": [
          1952,
          1957,
          1962,
          1967,
          1972,
          1977,
          1982,
          1987,
          1992,
          1997,
          2002,
          2007
         ],
         "xaxis": "x",
         "y": [
          743.1159097,
          846.1202613,
          1055.8960359999999,
          1421.145193,
          1586.851781,
          1497.492223,
          1481.150189,
          1421.603576,
          1361.369784,
          1483.1361359999999,
          1579.0195429999999,
          1803.1514960000002
         ],
         "yaxis": "y"
        },
        {
         "hovertemplate": "country=Mauritius<br>continent=Africa<br>year=%{x}<br>gdpPercap=%{y}<extra></extra>",
         "legendgroup": "Mauritius",
         "line": {
          "color": "#EF553B"
         },
         "mode": "lines",
         "name": "Mauritius",
         "orientation": "v",
         "showlegend": true,
         "stackgroup": "1",
         "type": "scatter",
         "x": [
          1952,
          1957,
          1962,
          1967,
          1972,
          1977,
          1982,
          1987,
          1992,
          1997,
          2002,
          2007
         ],
         "xaxis": "x",
         "y": [
          1967.955707,
          2034.037981,
          2529.0674870000003,
          2475.387562,
          2575.4841579999998,
          3710.9829630000004,
          3688.037739,
          4783.586903,
          6058.2538460000005,
          7425.705295000001,
          9021.815894,
          10956.99112
         ],
         "yaxis": "y"
        },
        {
         "hovertemplate": "country=Mexico<br>continent=Americas<br>year=%{x}<br>gdpPercap=%{y}<extra></extra>",
         "legendgroup": "Mexico",
         "line": {
          "color": "#00cc96"
         },
         "mode": "lines",
         "name": "Mexico",
         "orientation": "v",
         "showlegend": true,
         "stackgroup": "1",
         "type": "scatter",
         "x": [
          1952,
          1957,
          1962,
          1967,
          1972,
          1977,
          1982,
          1987,
          1992,
          1997,
          2002,
          2007
         ],
         "xaxis": "x",
         "y": [
          3478.125529,
          4131.546641,
          4581.609385,
          5754.733883,
          6809.406690000001,
          7674.929108,
          9611.147541,
          8688.156003,
          9472.384295,
          9767.29753,
          10742.44053,
          11977.57496
         ],
         "yaxis": "y"
        },
        {
         "hovertemplate": "country=Mongolia<br>continent=Asia<br>year=%{x}<br>gdpPercap=%{y}<extra></extra>",
         "legendgroup": "Mongolia",
         "line": {
          "color": "#ab63fa"
         },
         "mode": "lines",
         "name": "Mongolia",
         "orientation": "v",
         "showlegend": true,
         "stackgroup": "1",
         "type": "scatter",
         "x": [
          1952,
          1957,
          1962,
          1967,
          1972,
          1977,
          1982,
          1987,
          1992,
          1997,
          2002,
          2007
         ],
         "xaxis": "x",
         "y": [
          786.5668575,
          912.6626085,
          1056.353958,
          1226.04113,
          1421.741975,
          1647.511665,
          2000.603139,
          2338.008304,
          1785.402016,
          1902.2521,
          2140.7393230000002,
          3095.7722710000003
         ],
         "yaxis": "y"
        },
        {
         "hovertemplate": "country=Montenegro<br>continent=Europe<br>year=%{x}<br>gdpPercap=%{y}<extra></extra>",
         "legendgroup": "Montenegro",
         "line": {
          "color": "#FFA15A"
         },
         "mode": "lines",
         "name": "Montenegro",
         "orientation": "v",
         "showlegend": true,
         "stackgroup": "1",
         "type": "scatter",
         "x": [
          1952,
          1957,
          1962,
          1967,
          1972,
          1977,
          1982,
          1987,
          1992,
          1997,
          2002,
          2007
         ],
         "xaxis": "x",
         "y": [
          2647.585601,
          3682.259903,
          4649.593785,
          5907.850937,
          7778.414017,
          9595.929904999999,
          11222.58762,
          11732.51017,
          7003.339037000001,
          6465.613349,
          6557.194282,
          9253.896111
         ],
         "yaxis": "y"
        },
        {
         "hovertemplate": "country=Morocco<br>continent=Africa<br>year=%{x}<br>gdpPercap=%{y}<extra></extra>",
         "legendgroup": "Morocco",
         "line": {
          "color": "#19d3f3"
         },
         "mode": "lines",
         "name": "Morocco",
         "orientation": "v",
         "showlegend": true,
         "stackgroup": "1",
         "type": "scatter",
         "x": [
          1952,
          1957,
          1962,
          1967,
          1972,
          1977,
          1982,
          1987,
          1992,
          1997,
          2002,
          2007
         ],
         "xaxis": "x",
         "y": [
          1688.20357,
          1642.002314,
          1566.353493,
          1711.04477,
          1930.194975,
          2370.619976,
          2702.620356,
          2755.046991,
          2948.047252,
          2982.101858,
          3258.495584,
          3820.17523
         ],
         "yaxis": "y"
        },
        {
         "hovertemplate": "country=Mozambique<br>continent=Africa<br>year=%{x}<br>gdpPercap=%{y}<extra></extra>",
         "legendgroup": "Mozambique",
         "line": {
          "color": "#FF6692"
         },
         "mode": "lines",
         "name": "Mozambique",
         "orientation": "v",
         "showlegend": true,
         "stackgroup": "1",
         "type": "scatter",
         "x": [
          1952,
          1957,
          1962,
          1967,
          1972,
          1977,
          1982,
          1987,
          1992,
          1997,
          2002,
          2007
         ],
         "xaxis": "x",
         "y": [
          468.5260381,
          495.5868333000001,
          556.6863539,
          566.6691539,
          724.9178037,
          502.31973339999996,
          462.2114149,
          389.87618460000004,
          410.89682389999996,
          472.34607710000006,
          633.6179466,
          823.6856205
         ],
         "yaxis": "y"
        },
        {
         "hovertemplate": "country=Myanmar<br>continent=Asia<br>year=%{x}<br>gdpPercap=%{y}<extra></extra>",
         "legendgroup": "Myanmar",
         "line": {
          "color": "#B6E880"
         },
         "mode": "lines",
         "name": "Myanmar",
         "orientation": "v",
         "showlegend": true,
         "stackgroup": "1",
         "type": "scatter",
         "x": [
          1952,
          1957,
          1962,
          1967,
          1972,
          1977,
          1982,
          1987,
          1992,
          1997,
          2002,
          2007
         ],
         "xaxis": "x",
         "y": [
          331,
          350,
          388,
          349,
          357,
          371,
          424,
          385,
          347,
          415,
          611,
          944
         ],
         "yaxis": "y"
        },
        {
         "hovertemplate": "country=Namibia<br>continent=Africa<br>year=%{x}<br>gdpPercap=%{y}<extra></extra>",
         "legendgroup": "Namibia",
         "line": {
          "color": "#FF97FF"
         },
         "mode": "lines",
         "name": "Namibia",
         "orientation": "v",
         "showlegend": true,
         "stackgroup": "1",
         "type": "scatter",
         "x": [
          1952,
          1957,
          1962,
          1967,
          1972,
          1977,
          1982,
          1987,
          1992,
          1997,
          2002,
          2007
         ],
         "xaxis": "x",
         "y": [
          2423.780443,
          2621.448058,
          3173.215595,
          3793.694753,
          3746.080948,
          3876.4859579999998,
          4191.100511,
          3693.7313369999997,
          3804.537999,
          3899.52426,
          4072.3247509999997,
          4811.060429
         ],
         "yaxis": "y"
        },
        {
         "hovertemplate": "country=Nepal<br>continent=Asia<br>year=%{x}<br>gdpPercap=%{y}<extra></extra>",
         "legendgroup": "Nepal",
         "line": {
          "color": "#FECB52"
         },
         "mode": "lines",
         "name": "Nepal",
         "orientation": "v",
         "showlegend": true,
         "stackgroup": "1",
         "type": "scatter",
         "x": [
          1952,
          1957,
          1962,
          1967,
          1972,
          1977,
          1982,
          1987,
          1992,
          1997,
          2002,
          2007
         ],
         "xaxis": "x",
         "y": [
          545.8657228999999,
          597.9363557999999,
          652.3968593,
          676.4422254,
          674.7881296,
          694.1124398,
          718.3730947,
          775.6324501,
          897.7403604,
          1010.892138,
          1057.206311,
          1091.359778
         ],
         "yaxis": "y"
        },
        {
         "hovertemplate": "country=Netherlands<br>continent=Europe<br>year=%{x}<br>gdpPercap=%{y}<extra></extra>",
         "legendgroup": "Netherlands",
         "line": {
          "color": "#636efa"
         },
         "mode": "lines",
         "name": "Netherlands",
         "orientation": "v",
         "showlegend": true,
         "stackgroup": "1",
         "type": "scatter",
         "x": [
          1952,
          1957,
          1962,
          1967,
          1972,
          1977,
          1982,
          1987,
          1992,
          1997,
          2002,
          2007
         ],
         "xaxis": "x",
         "y": [
          8941.571858,
          11276.193440000001,
          12790.849559999999,
          15363.25136,
          18794.74567,
          21209.0592,
          21399.46046,
          23651.32361,
          26790.94961,
          30246.13063,
          33724.75778,
          36797.93332
         ],
         "yaxis": "y"
        },
        {
         "hovertemplate": "country=New Zealand<br>continent=Oceania<br>year=%{x}<br>gdpPercap=%{y}<extra></extra>",
         "legendgroup": "New Zealand",
         "line": {
          "color": "#EF553B"
         },
         "mode": "lines",
         "name": "New Zealand",
         "orientation": "v",
         "showlegend": true,
         "stackgroup": "1",
         "type": "scatter",
         "x": [
          1952,
          1957,
          1962,
          1967,
          1972,
          1977,
          1982,
          1987,
          1992,
          1997,
          2002,
          2007
         ],
         "xaxis": "x",
         "y": [
          10556.575659999999,
          12247.39532,
          13175.678,
          14463.918930000002,
          16046.03728,
          16233.7177,
          17632.4104,
          19007.19129,
          18363.324940000002,
          21050.41377,
          23189.80135,
          25185.00911
         ],
         "yaxis": "y"
        },
        {
         "hovertemplate": "country=Nicaragua<br>continent=Americas<br>year=%{x}<br>gdpPercap=%{y}<extra></extra>",
         "legendgroup": "Nicaragua",
         "line": {
          "color": "#00cc96"
         },
         "mode": "lines",
         "name": "Nicaragua",
         "orientation": "v",
         "showlegend": true,
         "stackgroup": "1",
         "type": "scatter",
         "x": [
          1952,
          1957,
          1962,
          1967,
          1972,
          1977,
          1982,
          1987,
          1992,
          1997,
          2002,
          2007
         ],
         "xaxis": "x",
         "y": [
          3112.363948,
          3457.415947,
          3634.364406,
          4643.393534000001,
          4688.593267,
          5486.371089,
          3470.3381560000003,
          2955.984375,
          2170.151724,
          2253.023004,
          2474.548819,
          2749.320965
         ],
         "yaxis": "y"
        },
        {
         "hovertemplate": "country=Niger<br>continent=Africa<br>year=%{x}<br>gdpPercap=%{y}<extra></extra>",
         "legendgroup": "Niger",
         "line": {
          "color": "#ab63fa"
         },
         "mode": "lines",
         "name": "Niger",
         "orientation": "v",
         "showlegend": true,
         "stackgroup": "1",
         "type": "scatter",
         "x": [
          1952,
          1957,
          1962,
          1967,
          1972,
          1977,
          1982,
          1987,
          1992,
          1997,
          2002,
          2007
         ],
         "xaxis": "x",
         "y": [
          761.879376,
          835.5234025000001,
          997.7661127,
          1054.384891,
          954.2092363,
          808.8970727999999,
          909.7221354000001,
          668.3000228,
          581.182725,
          580.3052092,
          601.0745012,
          619.6768923999999
         ],
         "yaxis": "y"
        },
        {
         "hovertemplate": "country=Nigeria<br>continent=Africa<br>year=%{x}<br>gdpPercap=%{y}<extra></extra>",
         "legendgroup": "Nigeria",
         "line": {
          "color": "#FFA15A"
         },
         "mode": "lines",
         "name": "Nigeria",
         "orientation": "v",
         "showlegend": true,
         "stackgroup": "1",
         "type": "scatter",
         "x": [
          1952,
          1957,
          1962,
          1967,
          1972,
          1977,
          1982,
          1987,
          1992,
          1997,
          2002,
          2007
         ],
         "xaxis": "x",
         "y": [
          1077.281856,
          1100.5925630000002,
          1150.9274779999998,
          1014.5141039999999,
          1698.3888379999999,
          1981.9518059999998,
          1576.97375,
          1385.029563,
          1619.848217,
          1624.941275,
          1615.2863949999999,
          2013.9773050000001
         ],
         "yaxis": "y"
        },
        {
         "hovertemplate": "country=Norway<br>continent=Europe<br>year=%{x}<br>gdpPercap=%{y}<extra></extra>",
         "legendgroup": "Norway",
         "line": {
          "color": "#19d3f3"
         },
         "mode": "lines",
         "name": "Norway",
         "orientation": "v",
         "showlegend": true,
         "stackgroup": "1",
         "type": "scatter",
         "x": [
          1952,
          1957,
          1962,
          1967,
          1972,
          1977,
          1982,
          1987,
          1992,
          1997,
          2002,
          2007
         ],
         "xaxis": "x",
         "y": [
          10095.42172,
          11653.97304,
          13450.40151,
          16361.87647,
          18965.05551,
          23311.34939,
          26298.635309999998,
          31540.9748,
          33965.66115,
          41283.16433,
          44683.97525,
          49357.19017
         ],
         "yaxis": "y"
        },
        {
         "hovertemplate": "country=Oman<br>continent=Asia<br>year=%{x}<br>gdpPercap=%{y}<extra></extra>",
         "legendgroup": "Oman",
         "line": {
          "color": "#FF6692"
         },
         "mode": "lines",
         "name": "Oman",
         "orientation": "v",
         "showlegend": true,
         "stackgroup": "1",
         "type": "scatter",
         "x": [
          1952,
          1957,
          1962,
          1967,
          1972,
          1977,
          1982,
          1987,
          1992,
          1997,
          2002,
          2007
         ],
         "xaxis": "x",
         "y": [
          1828.230307,
          2242.746551,
          2924.638113,
          4720.942687,
          10618.03855,
          11848.343920000001,
          12954.791009999999,
          18115.223130000002,
          18616.70691,
          19702.055809999998,
          19774.83687,
          22316.19287
         ],
         "yaxis": "y"
        },
        {
         "hovertemplate": "country=Pakistan<br>continent=Asia<br>year=%{x}<br>gdpPercap=%{y}<extra></extra>",
         "legendgroup": "Pakistan",
         "line": {
          "color": "#B6E880"
         },
         "mode": "lines",
         "name": "Pakistan",
         "orientation": "v",
         "showlegend": true,
         "stackgroup": "1",
         "type": "scatter",
         "x": [
          1952,
          1957,
          1962,
          1967,
          1972,
          1977,
          1982,
          1987,
          1992,
          1997,
          2002,
          2007
         ],
         "xaxis": "x",
         "y": [
          684.5971437999999,
          747.0835292,
          803.3427418,
          942.4082588,
          1049.938981,
          1175.921193,
          1443.429832,
          1704.686583,
          1971.8294640000001,
          2049.3505210000003,
          2092.712441,
          2605.94758
         ],
         "yaxis": "y"
        },
        {
         "hovertemplate": "country=Panama<br>continent=Americas<br>year=%{x}<br>gdpPercap=%{y}<extra></extra>",
         "legendgroup": "Panama",
         "line": {
          "color": "#FF97FF"
         },
         "mode": "lines",
         "name": "Panama",
         "orientation": "v",
         "showlegend": true,
         "stackgroup": "1",
         "type": "scatter",
         "x": [
          1952,
          1957,
          1962,
          1967,
          1972,
          1977,
          1982,
          1987,
          1992,
          1997,
          2002,
          2007
         ],
         "xaxis": "x",
         "y": [
          2480.380334,
          2961.800905,
          3536.540301,
          4421.009084,
          5364.2496630000005,
          5351.912144,
          7009.601598,
          7034.779161,
          6618.74305,
          7113.692252,
          7356.031934000001,
          9809.185636
         ],
         "yaxis": "y"
        },
        {
         "hovertemplate": "country=Paraguay<br>continent=Americas<br>year=%{x}<br>gdpPercap=%{y}<extra></extra>",
         "legendgroup": "Paraguay",
         "line": {
          "color": "#FECB52"
         },
         "mode": "lines",
         "name": "Paraguay",
         "orientation": "v",
         "showlegend": true,
         "stackgroup": "1",
         "type": "scatter",
         "x": [
          1952,
          1957,
          1962,
          1967,
          1972,
          1977,
          1982,
          1987,
          1992,
          1997,
          2002,
          2007
         ],
         "xaxis": "x",
         "y": [
          1952.3087010000002,
          2046.1547059999998,
          2148.027146,
          2299.376311,
          2523.337977,
          3248.373311,
          4258.5036039999995,
          3998.875695,
          4196.411078,
          4247.400261,
          3783.674243,
          4172.838464
         ],
         "yaxis": "y"
        },
        {
         "hovertemplate": "country=Peru<br>continent=Americas<br>year=%{x}<br>gdpPercap=%{y}<extra></extra>",
         "legendgroup": "Peru",
         "line": {
          "color": "#636efa"
         },
         "mode": "lines",
         "name": "Peru",
         "orientation": "v",
         "showlegend": true,
         "stackgroup": "1",
         "type": "scatter",
         "x": [
          1952,
          1957,
          1962,
          1967,
          1972,
          1977,
          1982,
          1987,
          1992,
          1997,
          2002,
          2007
         ],
         "xaxis": "x",
         "y": [
          3758.523437,
          4245.256697999999,
          4957.037982,
          5788.09333,
          5937.827283,
          6281.290854999999,
          6434.501797,
          6360.9434439999995,
          4446.380924,
          5838.347657,
          5909.020073,
          7408.905561
         ],
         "yaxis": "y"
        },
        {
         "hovertemplate": "country=Philippines<br>continent=Asia<br>year=%{x}<br>gdpPercap=%{y}<extra></extra>",
         "legendgroup": "Philippines",
         "line": {
          "color": "#EF553B"
         },
         "mode": "lines",
         "name": "Philippines",
         "orientation": "v",
         "showlegend": true,
         "stackgroup": "1",
         "type": "scatter",
         "x": [
          1952,
          1957,
          1962,
          1967,
          1972,
          1977,
          1982,
          1987,
          1992,
          1997,
          2002,
          2007
         ],
         "xaxis": "x",
         "y": [
          1272.880995,
          1547.9448439999999,
          1649.5521529999999,
          1814.12743,
          1989.3740699999998,
          2373.204287,
          2603.273765,
          2189.634995,
          2279.3240170000004,
          2536.534925,
          2650.921068,
          3190.481016
         ],
         "yaxis": "y"
        },
        {
         "hovertemplate": "country=Poland<br>continent=Europe<br>year=%{x}<br>gdpPercap=%{y}<extra></extra>",
         "legendgroup": "Poland",
         "line": {
          "color": "#00cc96"
         },
         "mode": "lines",
         "name": "Poland",
         "orientation": "v",
         "showlegend": true,
         "stackgroup": "1",
         "type": "scatter",
         "x": [
          1952,
          1957,
          1962,
          1967,
          1972,
          1977,
          1982,
          1987,
          1992,
          1997,
          2002,
          2007
         ],
         "xaxis": "x",
         "y": [
          4029.3296990000003,
          4734.253019,
          5338.752143,
          6557.152776,
          8006.506993000001,
          9508.141454,
          8451.531004,
          9082.351172,
          7738.881247,
          10159.58368,
          12002.23908,
          15389.924680000002
         ],
         "yaxis": "y"
        },
        {
         "hovertemplate": "country=Portugal<br>continent=Europe<br>year=%{x}<br>gdpPercap=%{y}<extra></extra>",
         "legendgroup": "Portugal",
         "line": {
          "color": "#ab63fa"
         },
         "mode": "lines",
         "name": "Portugal",
         "orientation": "v",
         "showlegend": true,
         "stackgroup": "1",
         "type": "scatter",
         "x": [
          1952,
          1957,
          1962,
          1967,
          1972,
          1977,
          1982,
          1987,
          1992,
          1997,
          2002,
          2007
         ],
         "xaxis": "x",
         "y": [
          3068.319867,
          3774.571743,
          4727.954889,
          6361.517993,
          9022.247417,
          10172.48572,
          11753.84291,
          13039.30876,
          16207.266630000002,
          17641.03156,
          19970.90787,
          20509.64777
         ],
         "yaxis": "y"
        },
        {
         "hovertemplate": "country=Puerto Rico<br>continent=Americas<br>year=%{x}<br>gdpPercap=%{y}<extra></extra>",
         "legendgroup": "Puerto Rico",
         "line": {
          "color": "#FFA15A"
         },
         "mode": "lines",
         "name": "Puerto Rico",
         "orientation": "v",
         "showlegend": true,
         "stackgroup": "1",
         "type": "scatter",
         "x": [
          1952,
          1957,
          1962,
          1967,
          1972,
          1977,
          1982,
          1987,
          1992,
          1997,
          2002,
          2007
         ],
         "xaxis": "x",
         "y": [
          3081.959785,
          3907.1561890000003,
          5108.34463,
          6929.277714,
          9123.041742,
          9770.524921,
          10330.98915,
          12281.34191,
          14641.587109999999,
          16999.4333,
          18855.606180000002,
          19328.70901
         ],
         "yaxis": "y"
        },
        {
         "hovertemplate": "country=Reunion<br>continent=Africa<br>year=%{x}<br>gdpPercap=%{y}<extra></extra>",
         "legendgroup": "Reunion",
         "line": {
          "color": "#19d3f3"
         },
         "mode": "lines",
         "name": "Reunion",
         "orientation": "v",
         "showlegend": true,
         "stackgroup": "1",
         "type": "scatter",
         "x": [
          1952,
          1957,
          1962,
          1967,
          1972,
          1977,
          1982,
          1987,
          1992,
          1997,
          2002,
          2007
         ],
         "xaxis": "x",
         "y": [
          2718.885295,
          2769.451844,
          3173.72334,
          4021.1757390000002,
          5047.658563,
          4319.804067,
          5267.219353,
          5303.377488,
          6101.2558229999995,
          6071.941411,
          6316.1652,
          7670.122558
         ],
         "yaxis": "y"
        },
        {
         "hovertemplate": "country=Romania<br>continent=Europe<br>year=%{x}<br>gdpPercap=%{y}<extra></extra>",
         "legendgroup": "Romania",
         "line": {
          "color": "#FF6692"
         },
         "mode": "lines",
         "name": "Romania",
         "orientation": "v",
         "showlegend": true,
         "stackgroup": "1",
         "type": "scatter",
         "x": [
          1952,
          1957,
          1962,
          1967,
          1972,
          1977,
          1982,
          1987,
          1992,
          1997,
          2002,
          2007
         ],
         "xaxis": "x",
         "y": [
          3144.613186,
          3943.370225,
          4734.9975859999995,
          6470.866545,
          8011.414401999999,
          9356.39724,
          9605.314053,
          9696.273295,
          6598.409903,
          7346.547556999999,
          7885.360081,
          10808.47561
         ],
         "yaxis": "y"
        },
        {
         "hovertemplate": "country=Rwanda<br>continent=Africa<br>year=%{x}<br>gdpPercap=%{y}<extra></extra>",
         "legendgroup": "Rwanda",
         "line": {
          "color": "#B6E880"
         },
         "mode": "lines",
         "name": "Rwanda",
         "orientation": "v",
         "showlegend": true,
         "stackgroup": "1",
         "type": "scatter",
         "x": [
          1952,
          1957,
          1962,
          1967,
          1972,
          1977,
          1982,
          1987,
          1992,
          1997,
          2002,
          2007
         ],
         "xaxis": "x",
         "y": [
          493.32387520000003,
          540.2893982999999,
          597.4730727000001,
          510.9637142,
          590.5806637999999,
          670.0806011,
          881.5706467,
          847.991217,
          737.0685949,
          589.9445051,
          785.6537647999999,
          863.0884639000001
         ],
         "yaxis": "y"
        },
        {
         "hovertemplate": "country=Sao Tome and Principe<br>continent=Africa<br>year=%{x}<br>gdpPercap=%{y}<extra></extra>",
         "legendgroup": "Sao Tome and Principe",
         "line": {
          "color": "#FF97FF"
         },
         "mode": "lines",
         "name": "Sao Tome and Principe",
         "orientation": "v",
         "showlegend": true,
         "stackgroup": "1",
         "type": "scatter",
         "x": [
          1952,
          1957,
          1962,
          1967,
          1972,
          1977,
          1982,
          1987,
          1992,
          1997,
          2002,
          2007
         ],
         "xaxis": "x",
         "y": [
          879.5835855,
          860.7369026,
          1071.551119,
          1384.840593,
          1532.985254,
          1737.561657,
          1890.2181170000001,
          1516.525457,
          1428.777814,
          1339.076036,
          1353.09239,
          1598.435089
         ],
         "yaxis": "y"
        },
        {
         "hovertemplate": "country=Saudi Arabia<br>continent=Asia<br>year=%{x}<br>gdpPercap=%{y}<extra></extra>",
         "legendgroup": "Saudi Arabia",
         "line": {
          "color": "#FECB52"
         },
         "mode": "lines",
         "name": "Saudi Arabia",
         "orientation": "v",
         "showlegend": true,
         "stackgroup": "1",
         "type": "scatter",
         "x": [
          1952,
          1957,
          1962,
          1967,
          1972,
          1977,
          1982,
          1987,
          1992,
          1997,
          2002,
          2007
         ],
         "xaxis": "x",
         "y": [
          6459.5548229999995,
          8157.591248000001,
          11626.41975,
          16903.04886,
          24837.42865,
          34167.7626,
          33693.17525,
          21198.26136,
          24841.617769999997,
          20586.69019,
          19014.54118,
          21654.83194
         ],
         "yaxis": "y"
        },
        {
         "hovertemplate": "country=Senegal<br>continent=Africa<br>year=%{x}<br>gdpPercap=%{y}<extra></extra>",
         "legendgroup": "Senegal",
         "line": {
          "color": "#636efa"
         },
         "mode": "lines",
         "name": "Senegal",
         "orientation": "v",
         "showlegend": true,
         "stackgroup": "1",
         "type": "scatter",
         "x": [
          1952,
          1957,
          1962,
          1967,
          1972,
          1977,
          1982,
          1987,
          1992,
          1997,
          2002,
          2007
         ],
         "xaxis": "x",
         "y": [
          1450.356983,
          1567.653006,
          1654.988723,
          1612.404632,
          1597.712056,
          1561.769116,
          1518.479984,
          1441.72072,
          1367.899369,
          1392.368347,
          1519.635262,
          1712.4721359999999
         ],
         "yaxis": "y"
        },
        {
         "hovertemplate": "country=Serbia<br>continent=Europe<br>year=%{x}<br>gdpPercap=%{y}<extra></extra>",
         "legendgroup": "Serbia",
         "line": {
          "color": "#EF553B"
         },
         "mode": "lines",
         "name": "Serbia",
         "orientation": "v",
         "showlegend": true,
         "stackgroup": "1",
         "type": "scatter",
         "x": [
          1952,
          1957,
          1962,
          1967,
          1972,
          1977,
          1982,
          1987,
          1992,
          1997,
          2002,
          2007
         ],
         "xaxis": "x",
         "y": [
          3581.4594479999996,
          4981.090891,
          6289.629157,
          7991.707066,
          10522.067490000001,
          12980.66956,
          15181.0927,
          15870.878509999999,
          9325.068238,
          7914.320304000001,
          7236.075251,
          9786.534714
         ],
         "yaxis": "y"
        },
        {
         "hovertemplate": "country=Sierra Leone<br>continent=Africa<br>year=%{x}<br>gdpPercap=%{y}<extra></extra>",
         "legendgroup": "Sierra Leone",
         "line": {
          "color": "#00cc96"
         },
         "mode": "lines",
         "name": "Sierra Leone",
         "orientation": "v",
         "showlegend": true,
         "stackgroup": "1",
         "type": "scatter",
         "x": [
          1952,
          1957,
          1962,
          1967,
          1972,
          1977,
          1982,
          1987,
          1992,
          1997,
          2002,
          2007
         ],
         "xaxis": "x",
         "y": [
          879.7877358,
          1004.484437,
          1116.6398769999998,
          1206.043465,
          1353.759762,
          1348.285159,
          1465.010784,
          1294.4477880000002,
          1068.696278,
          574.6481576,
          699.4897129999999,
          862.5407561000001
         ],
         "yaxis": "y"
        },
        {
         "hovertemplate": "country=Singapore<br>continent=Asia<br>year=%{x}<br>gdpPercap=%{y}<extra></extra>",
         "legendgroup": "Singapore",
         "line": {
          "color": "#ab63fa"
         },
         "mode": "lines",
         "name": "Singapore",
         "orientation": "v",
         "showlegend": true,
         "stackgroup": "1",
         "type": "scatter",
         "x": [
          1952,
          1957,
          1962,
          1967,
          1972,
          1977,
          1982,
          1987,
          1992,
          1997,
          2002,
          2007
         ],
         "xaxis": "x",
         "y": [
          2315.138227,
          2843.104409,
          3674.735572,
          4977.41854,
          8597.756202,
          11210.08948,
          15169.161119999999,
          18861.53081,
          24769.8912,
          33519.4766,
          36023.1054,
          47143.179639999995
         ],
         "yaxis": "y"
        },
        {
         "hovertemplate": "country=Slovak Republic<br>continent=Europe<br>year=%{x}<br>gdpPercap=%{y}<extra></extra>",
         "legendgroup": "Slovak Republic",
         "line": {
          "color": "#FFA15A"
         },
         "mode": "lines",
         "name": "Slovak Republic",
         "orientation": "v",
         "showlegend": true,
         "stackgroup": "1",
         "type": "scatter",
         "x": [
          1952,
          1957,
          1962,
          1967,
          1972,
          1977,
          1982,
          1987,
          1992,
          1997,
          2002,
          2007
         ],
         "xaxis": "x",
         "y": [
          5074.659104,
          6093.2629799999995,
          7481.1075980000005,
          8412.902397,
          9674.167626,
          10922.664040000001,
          11348.54585,
          12037.26758,
          9498.467723,
          12126.23065,
          13638.778369999998,
          18678.31435
         ],
         "yaxis": "y"
        },
        {
         "hovertemplate": "country=Slovenia<br>continent=Europe<br>year=%{x}<br>gdpPercap=%{y}<extra></extra>",
         "legendgroup": "Slovenia",
         "line": {
          "color": "#19d3f3"
         },
         "mode": "lines",
         "name": "Slovenia",
         "orientation": "v",
         "showlegend": true,
         "stackgroup": "1",
         "type": "scatter",
         "x": [
          1952,
          1957,
          1962,
          1967,
          1972,
          1977,
          1982,
          1987,
          1992,
          1997,
          2002,
          2007
         ],
         "xaxis": "x",
         "y": [
          4215.041741,
          5862.276629,
          7402.303395,
          9405.489397,
          12383.4862,
          15277.030169999998,
          17866.72175,
          18678.53492,
          14214.71681,
          17161.10735,
          20660.01936,
          25768.25759
         ],
         "yaxis": "y"
        },
        {
         "hovertemplate": "country=Somalia<br>continent=Africa<br>year=%{x}<br>gdpPercap=%{y}<extra></extra>",
         "legendgroup": "Somalia",
         "line": {
          "color": "#FF6692"
         },
         "mode": "lines",
         "name": "Somalia",
         "orientation": "v",
         "showlegend": true,
         "stackgroup": "1",
         "type": "scatter",
         "x": [
          1952,
          1957,
          1962,
          1967,
          1972,
          1977,
          1982,
          1987,
          1992,
          1997,
          2002,
          2007
         ],
         "xaxis": "x",
         "y": [
          1135.749842,
          1258.1474130000001,
          1369.488336,
          1284.7331800000002,
          1254.576127,
          1450.9925130000001,
          1176.807031,
          1093.244963,
          926.9602964,
          930.5964284,
          882.0818218000001,
          926.1410683
         ],
         "yaxis": "y"
        },
        {
         "hovertemplate": "country=South Africa<br>continent=Africa<br>year=%{x}<br>gdpPercap=%{y}<extra></extra>",
         "legendgroup": "South Africa",
         "line": {
          "color": "#B6E880"
         },
         "mode": "lines",
         "name": "South Africa",
         "orientation": "v",
         "showlegend": true,
         "stackgroup": "1",
         "type": "scatter",
         "x": [
          1952,
          1957,
          1962,
          1967,
          1972,
          1977,
          1982,
          1987,
          1992,
          1997,
          2002,
          2007
         ],
         "xaxis": "x",
         "y": [
          4725.295531000001,
          5487.104219,
          5768.729717,
          7114.477970999999,
          7765.962636,
          8028.651439,
          8568.266228,
          7825.823398,
          7225.0692579999995,
          7479.188244,
          7710.946444,
          9269.657808
         ],
         "yaxis": "y"
        },
        {
         "hovertemplate": "country=Spain<br>continent=Europe<br>year=%{x}<br>gdpPercap=%{y}<extra></extra>",
         "legendgroup": "Spain",
         "line": {
          "color": "#FF97FF"
         },
         "mode": "lines",
         "name": "Spain",
         "orientation": "v",
         "showlegend": true,
         "stackgroup": "1",
         "type": "scatter",
         "x": [
          1952,
          1957,
          1962,
          1967,
          1972,
          1977,
          1982,
          1987,
          1992,
          1997,
          2002,
          2007
         ],
         "xaxis": "x",
         "y": [
          3834.0347420000003,
          4564.80241,
          5693.843879,
          7993.512294,
          10638.75131,
          13236.92117,
          13926.169969999999,
          15764.98313,
          18603.06452,
          20445.29896,
          24835.47166,
          28821.0637
         ],
         "yaxis": "y"
        },
        {
         "hovertemplate": "country=Sri Lanka<br>continent=Asia<br>year=%{x}<br>gdpPercap=%{y}<extra></extra>",
         "legendgroup": "Sri Lanka",
         "line": {
          "color": "#FECB52"
         },
         "mode": "lines",
         "name": "Sri Lanka",
         "orientation": "v",
         "showlegend": true,
         "stackgroup": "1",
         "type": "scatter",
         "x": [
          1952,
          1957,
          1962,
          1967,
          1972,
          1977,
          1982,
          1987,
          1992,
          1997,
          2002,
          2007
         ],
         "xaxis": "x",
         "y": [
          1083.53203,
          1072.546602,
          1074.4719599999999,
          1135.514326,
          1213.39553,
          1348.775651,
          1648.0797890000001,
          1876.766827,
          2153.7392219999997,
          2664.477257,
          3015.3788329999998,
          3970.0954070000003
         ],
         "yaxis": "y"
        },
        {
         "hovertemplate": "country=Sudan<br>continent=Africa<br>year=%{x}<br>gdpPercap=%{y}<extra></extra>",
         "legendgroup": "Sudan",
         "line": {
          "color": "#636efa"
         },
         "mode": "lines",
         "name": "Sudan",
         "orientation": "v",
         "showlegend": true,
         "stackgroup": "1",
         "type": "scatter",
         "x": [
          1952,
          1957,
          1962,
          1967,
          1972,
          1977,
          1982,
          1987,
          1992,
          1997,
          2002,
          2007
         ],
         "xaxis": "x",
         "y": [
          1615.991129,
          1770.3370739999998,
          1959.593767,
          1687.997641,
          1659.652775,
          2202.9884230000002,
          1895.544073,
          1507.819159,
          1492.197043,
          1632.2107640000002,
          1993.398314,
          2602.394995
         ],
         "yaxis": "y"
        },
        {
         "hovertemplate": "country=Swaziland<br>continent=Africa<br>year=%{x}<br>gdpPercap=%{y}<extra></extra>",
         "legendgroup": "Swaziland",
         "line": {
          "color": "#EF553B"
         },
         "mode": "lines",
         "name": "Swaziland",
         "orientation": "v",
         "showlegend": true,
         "stackgroup": "1",
         "type": "scatter",
         "x": [
          1952,
          1957,
          1962,
          1967,
          1972,
          1977,
          1982,
          1987,
          1992,
          1997,
          2002,
          2007
         ],
         "xaxis": "x",
         "y": [
          1148.376626,
          1244.708364,
          1856.182125,
          2613.1016649999997,
          3364.836625,
          3781.410618,
          3895.384018,
          3984.8398119999997,
          3553.0224,
          3876.7684600000002,
          4128.116943,
          4513.480643
         ],
         "yaxis": "y"
        },
        {
         "hovertemplate": "country=Sweden<br>continent=Europe<br>year=%{x}<br>gdpPercap=%{y}<extra></extra>",
         "legendgroup": "Sweden",
         "line": {
          "color": "#00cc96"
         },
         "mode": "lines",
         "name": "Sweden",
         "orientation": "v",
         "showlegend": true,
         "stackgroup": "1",
         "type": "scatter",
         "x": [
          1952,
          1957,
          1962,
          1967,
          1972,
          1977,
          1982,
          1987,
          1992,
          1997,
          2002,
          2007
         ],
         "xaxis": "x",
         "y": [
          8527.844662000001,
          9911.878226,
          12329.441920000001,
          15258.29697,
          17832.02464,
          18855.72521,
          20667.38125,
          23586.92927,
          23880.01683,
          25266.59499,
          29341.630930000003,
          33859.74835
         ],
         "yaxis": "y"
        },
        {
         "hovertemplate": "country=Switzerland<br>continent=Europe<br>year=%{x}<br>gdpPercap=%{y}<extra></extra>",
         "legendgroup": "Switzerland",
         "line": {
          "color": "#ab63fa"
         },
         "mode": "lines",
         "name": "Switzerland",
         "orientation": "v",
         "showlegend": true,
         "stackgroup": "1",
         "type": "scatter",
         "x": [
          1952,
          1957,
          1962,
          1967,
          1972,
          1977,
          1982,
          1987,
          1992,
          1997,
          2002,
          2007
         ],
         "xaxis": "x",
         "y": [
          14734.23275,
          17909.48973,
          20431.0927,
          22966.14432,
          27195.113039999997,
          26982.29052,
          28397.715119999997,
          30281.704589999998,
          31871.5303,
          32135.323010000004,
          34480.95771,
          37506.419069999996
         ],
         "yaxis": "y"
        },
        {
         "hovertemplate": "country=Syria<br>continent=Asia<br>year=%{x}<br>gdpPercap=%{y}<extra></extra>",
         "legendgroup": "Syria",
         "line": {
          "color": "#FFA15A"
         },
         "mode": "lines",
         "name": "Syria",
         "orientation": "v",
         "showlegend": true,
         "stackgroup": "1",
         "type": "scatter",
         "x": [
          1952,
          1957,
          1962,
          1967,
          1972,
          1977,
          1982,
          1987,
          1992,
          1997,
          2002,
          2007
         ],
         "xaxis": "x",
         "y": [
          1643.485354,
          2117.234893,
          2193.037133,
          1881.923632,
          2571.423014,
          3195.484582,
          3761.8377149999997,
          3116.774285,
          3340.542768,
          4014.238972,
          4090.9253310000004,
          4184.548089
         ],
         "yaxis": "y"
        },
        {
         "hovertemplate": "country=Taiwan<br>continent=Asia<br>year=%{x}<br>gdpPercap=%{y}<extra></extra>",
         "legendgroup": "Taiwan",
         "line": {
          "color": "#19d3f3"
         },
         "mode": "lines",
         "name": "Taiwan",
         "orientation": "v",
         "showlegend": true,
         "stackgroup": "1",
         "type": "scatter",
         "x": [
          1952,
          1957,
          1962,
          1967,
          1972,
          1977,
          1982,
          1987,
          1992,
          1997,
          2002,
          2007
         ],
         "xaxis": "x",
         "y": [
          1206.947913,
          1507.86129,
          1822.879028,
          2643.8586809999997,
          4062.523897,
          5596.519826,
          7426.354773999999,
          11054.56175,
          15215.6579,
          20206.82098,
          23235.42329,
          28718.27684
         ],
         "yaxis": "y"
        },
        {
         "hovertemplate": "country=Tanzania<br>continent=Africa<br>year=%{x}<br>gdpPercap=%{y}<extra></extra>",
         "legendgroup": "Tanzania",
         "line": {
          "color": "#FF6692"
         },
         "mode": "lines",
         "name": "Tanzania",
         "orientation": "v",
         "showlegend": true,
         "stackgroup": "1",
         "type": "scatter",
         "x": [
          1952,
          1957,
          1962,
          1967,
          1972,
          1977,
          1982,
          1987,
          1992,
          1997,
          2002,
          2007
         ],
         "xaxis": "x",
         "y": [
          716.6500721,
          698.5356073,
          722.0038073,
          848.2186575,
          915.9850592,
          962.4922932,
          874.2426069,
          831.8220794,
          825.682454,
          789.1862231,
          899.0742111,
          1107.482182
         ],
         "yaxis": "y"
        },
        {
         "hovertemplate": "country=Thailand<br>continent=Asia<br>year=%{x}<br>gdpPercap=%{y}<extra></extra>",
         "legendgroup": "Thailand",
         "line": {
          "color": "#B6E880"
         },
         "mode": "lines",
         "name": "Thailand",
         "orientation": "v",
         "showlegend": true,
         "stackgroup": "1",
         "type": "scatter",
         "x": [
          1952,
          1957,
          1962,
          1967,
          1972,
          1977,
          1982,
          1987,
          1992,
          1997,
          2002,
          2007
         ],
         "xaxis": "x",
         "y": [
          757.7974177,
          793.5774147999999,
          1002.1991720000001,
          1295.46066,
          1524.3589359999999,
          1961.2246350000003,
          2393.219781,
          2982.653773,
          4616.8965450000005,
          5852.625497,
          5913.187529,
          7458.3963269999995
         ],
         "yaxis": "y"
        },
        {
         "hovertemplate": "country=Togo<br>continent=Africa<br>year=%{x}<br>gdpPercap=%{y}<extra></extra>",
         "legendgroup": "Togo",
         "line": {
          "color": "#FF97FF"
         },
         "mode": "lines",
         "name": "Togo",
         "orientation": "v",
         "showlegend": true,
         "stackgroup": "1",
         "type": "scatter",
         "x": [
          1952,
          1957,
          1962,
          1967,
          1972,
          1977,
          1982,
          1987,
          1992,
          1997,
          2002,
          2007
         ],
         "xaxis": "x",
         "y": [
          859.8086567,
          925.9083201999999,
          1067.5348099999999,
          1477.59676,
          1649.660188,
          1532.776998,
          1344.577953,
          1202.201361,
          1034.298904,
          982.2869242999999,
          886.2205765000001,
          882.9699437999999
         ],
         "yaxis": "y"
        },
        {
         "hovertemplate": "country=Trinidad and Tobago<br>continent=Americas<br>year=%{x}<br>gdpPercap=%{y}<extra></extra>",
         "legendgroup": "Trinidad and Tobago",
         "line": {
          "color": "#FECB52"
         },
         "mode": "lines",
         "name": "Trinidad and Tobago",
         "orientation": "v",
         "showlegend": true,
         "stackgroup": "1",
         "type": "scatter",
         "x": [
          1952,
          1957,
          1962,
          1967,
          1972,
          1977,
          1982,
          1987,
          1992,
          1997,
          2002,
          2007
         ],
         "xaxis": "x",
         "y": [
          3023.271928,
          4100.3934,
          4997.5239710000005,
          5621.368472,
          6619.551418999999,
          7899.554209000001,
          9119.528607,
          7388.597823,
          7370.990932,
          8792.573126000001,
          11460.60023,
          18008.50924
         ],
         "yaxis": "y"
        },
        {
         "hovertemplate": "country=Tunisia<br>continent=Africa<br>year=%{x}<br>gdpPercap=%{y}<extra></extra>",
         "legendgroup": "Tunisia",
         "line": {
          "color": "#636efa"
         },
         "mode": "lines",
         "name": "Tunisia",
         "orientation": "v",
         "showlegend": true,
         "stackgroup": "1",
         "type": "scatter",
         "x": [
          1952,
          1957,
          1962,
          1967,
          1972,
          1977,
          1982,
          1987,
          1992,
          1997,
          2002,
          2007
         ],
         "xaxis": "x",
         "y": [
          1468.475631,
          1395.232468,
          1660.30321,
          1932.3601670000003,
          2753.2859940000003,
          3120.876811,
          3560.2331740000004,
          3810.419296,
          4332.720164,
          4876.798614,
          5722.895654999999,
          7092.923025
         ],
         "yaxis": "y"
        },
        {
         "hovertemplate": "country=Turkey<br>continent=Europe<br>year=%{x}<br>gdpPercap=%{y}<extra></extra>",
         "legendgroup": "Turkey",
         "line": {
          "color": "#EF553B"
         },
         "mode": "lines",
         "name": "Turkey",
         "orientation": "v",
         "showlegend": true,
         "stackgroup": "1",
         "type": "scatter",
         "x": [
          1952,
          1957,
          1962,
          1967,
          1972,
          1977,
          1982,
          1987,
          1992,
          1997,
          2002,
          2007
         ],
         "xaxis": "x",
         "y": [
          1969.1009800000002,
          2218.754257,
          2322.8699079999997,
          2826.3563870000003,
          3450.69638,
          4269.122326,
          4241.356344,
          5089.043686,
          5678.348271,
          6601.429915,
          6508.085718,
          8458.276384
         ],
         "yaxis": "y"
        },
        {
         "hovertemplate": "country=Uganda<br>continent=Africa<br>year=%{x}<br>gdpPercap=%{y}<extra></extra>",
         "legendgroup": "Uganda",
         "line": {
          "color": "#00cc96"
         },
         "mode": "lines",
         "name": "Uganda",
         "orientation": "v",
         "showlegend": true,
         "stackgroup": "1",
         "type": "scatter",
         "x": [
          1952,
          1957,
          1962,
          1967,
          1972,
          1977,
          1982,
          1987,
          1992,
          1997,
          2002,
          2007
         ],
         "xaxis": "x",
         "y": [
          734.753484,
          774.3710692000001,
          767.2717397999999,
          908.9185217,
          950.735869,
          843.7331372000001,
          682.2662267999999,
          617.7244065,
          644.1707968999999,
          816.559081,
          927.7210018,
          1056.3801210000001
         ],
         "yaxis": "y"
        },
        {
         "hovertemplate": "country=United Kingdom<br>continent=Europe<br>year=%{x}<br>gdpPercap=%{y}<extra></extra>",
         "legendgroup": "United Kingdom",
         "line": {
          "color": "#ab63fa"
         },
         "mode": "lines",
         "name": "United Kingdom",
         "orientation": "v",
         "showlegend": true,
         "stackgroup": "1",
         "type": "scatter",
         "x": [
          1952,
          1957,
          1962,
          1967,
          1972,
          1977,
          1982,
          1987,
          1992,
          1997,
          2002,
          2007
         ],
         "xaxis": "x",
         "y": [
          9979.508487000001,
          11283.17795,
          12477.17707,
          14142.85089,
          15895.116409999999,
          17428.74846,
          18232.42452,
          21664.787669999998,
          22705.09254,
          26074.53136,
          29478.99919,
          33203.26128
         ],
         "yaxis": "y"
        },
        {
         "hovertemplate": "country=United States<br>continent=Americas<br>year=%{x}<br>gdpPercap=%{y}<extra></extra>",
         "legendgroup": "United States",
         "line": {
          "color": "#FFA15A"
         },
         "mode": "lines",
         "name": "United States",
         "orientation": "v",
         "showlegend": true,
         "stackgroup": "1",
         "type": "scatter",
         "x": [
          1952,
          1957,
          1962,
          1967,
          1972,
          1977,
          1982,
          1987,
          1992,
          1997,
          2002,
          2007
         ],
         "xaxis": "x",
         "y": [
          13990.482080000002,
          14847.12712,
          16173.145859999999,
          19530.365569999998,
          21806.03594,
          24072.63213,
          25009.55914,
          29884.350410000003,
          32003.93224,
          35767.43303,
          39097.09955,
          42951.65309
         ],
         "yaxis": "y"
        },
        {
         "hovertemplate": "country=Uruguay<br>continent=Americas<br>year=%{x}<br>gdpPercap=%{y}<extra></extra>",
         "legendgroup": "Uruguay",
         "line": {
          "color": "#19d3f3"
         },
         "mode": "lines",
         "name": "Uruguay",
         "orientation": "v",
         "showlegend": true,
         "stackgroup": "1",
         "type": "scatter",
         "x": [
          1952,
          1957,
          1962,
          1967,
          1972,
          1977,
          1982,
          1987,
          1992,
          1997,
          2002,
          2007
         ],
         "xaxis": "x",
         "y": [
          5716.766744,
          6150.772969,
          5603.357717,
          5444.61962,
          5703.408898,
          6504.339663000001,
          6920.223051000001,
          7452.398969,
          8137.004775,
          9230.240708,
          7727.002004000001,
          10611.46299
         ],
         "yaxis": "y"
        },
        {
         "hovertemplate": "country=Venezuela<br>continent=Americas<br>year=%{x}<br>gdpPercap=%{y}<extra></extra>",
         "legendgroup": "Venezuela",
         "line": {
          "color": "#FF6692"
         },
         "mode": "lines",
         "name": "Venezuela",
         "orientation": "v",
         "showlegend": true,
         "stackgroup": "1",
         "type": "scatter",
         "x": [
          1952,
          1957,
          1962,
          1967,
          1972,
          1977,
          1982,
          1987,
          1992,
          1997,
          2002,
          2007
         ],
         "xaxis": "x",
         "y": [
          7689.799761,
          9802.466526,
          8422.974165000001,
          9541.474188,
          10505.25966,
          13143.95095,
          11152.410109999999,
          9883.584648,
          10733.926309999999,
          10165.49518,
          8605.047831,
          11415.805690000001
         ],
         "yaxis": "y"
        },
        {
         "hovertemplate": "country=Vietnam<br>continent=Asia<br>year=%{x}<br>gdpPercap=%{y}<extra></extra>",
         "legendgroup": "Vietnam",
         "line": {
          "color": "#B6E880"
         },
         "mode": "lines",
         "name": "Vietnam",
         "orientation": "v",
         "showlegend": true,
         "stackgroup": "1",
         "type": "scatter",
         "x": [
          1952,
          1957,
          1962,
          1967,
          1972,
          1977,
          1982,
          1987,
          1992,
          1997,
          2002,
          2007
         ],
         "xaxis": "x",
         "y": [
          605.0664917,
          676.2854477999999,
          772.0491602000001,
          637.1232887,
          699.5016441,
          713.5371196000001,
          707.2357863,
          820.7994449,
          989.0231487,
          1385.896769,
          1764.456677,
          2441.576404
         ],
         "yaxis": "y"
        },
        {
         "hovertemplate": "country=West Bank and Gaza<br>continent=Asia<br>year=%{x}<br>gdpPercap=%{y}<extra></extra>",
         "legendgroup": "West Bank and Gaza",
         "line": {
          "color": "#FF97FF"
         },
         "mode": "lines",
         "name": "West Bank and Gaza",
         "orientation": "v",
         "showlegend": true,
         "stackgroup": "1",
         "type": "scatter",
         "x": [
          1952,
          1957,
          1962,
          1967,
          1972,
          1977,
          1982,
          1987,
          1992,
          1997,
          2002,
          2007
         ],
         "xaxis": "x",
         "y": [
          1515.5923289999998,
          1827.0677420000002,
          2198.9563120000003,
          2649.7150070000002,
          3133.4092769999997,
          3682.8314939999996,
          4336.032082,
          5107.197384,
          6017.654756,
          7110.667619,
          4515.487575,
          3025.349798
         ],
         "yaxis": "y"
        },
        {
         "hovertemplate": "country=Yemen, Rep.<br>continent=Asia<br>year=%{x}<br>gdpPercap=%{y}<extra></extra>",
         "legendgroup": "Yemen, Rep.",
         "line": {
          "color": "#FECB52"
         },
         "mode": "lines",
         "name": "Yemen, Rep.",
         "orientation": "v",
         "showlegend": true,
         "stackgroup": "1",
         "type": "scatter",
         "x": [
          1952,
          1957,
          1962,
          1967,
          1972,
          1977,
          1982,
          1987,
          1992,
          1997,
          2002,
          2007
         ],
         "xaxis": "x",
         "y": [
          781.7175761,
          804.8304547,
          825.6232006,
          862.4421463,
          1265.047031,
          1829.765177,
          1977.5570100000002,
          1971.741538,
          1879.496673,
          2117.484526,
          2234.820827,
          2280.769906
         ],
         "yaxis": "y"
        },
        {
         "hovertemplate": "country=Zambia<br>continent=Africa<br>year=%{x}<br>gdpPercap=%{y}<extra></extra>",
         "legendgroup": "Zambia",
         "line": {
          "color": "#636efa"
         },
         "mode": "lines",
         "name": "Zambia",
         "orientation": "v",
         "showlegend": true,
         "stackgroup": "1",
         "type": "scatter",
         "x": [
          1952,
          1957,
          1962,
          1967,
          1972,
          1977,
          1982,
          1987,
          1992,
          1997,
          2002,
          2007
         ],
         "xaxis": "x",
         "y": [
          1147.388831,
          1311.956766,
          1452.725766,
          1777.0773179999999,
          1773.498265,
          1588.688299,
          1408.678565,
          1213.315116,
          1210.884633,
          1071.353818,
          1071.6139380000002,
          1271.211593
         ],
         "yaxis": "y"
        },
        {
         "hovertemplate": "country=Zimbabwe<br>continent=Africa<br>year=%{x}<br>gdpPercap=%{y}<extra></extra>",
         "legendgroup": "Zimbabwe",
         "line": {
          "color": "#EF553B"
         },
         "mode": "lines",
         "name": "Zimbabwe",
         "orientation": "v",
         "showlegend": true,
         "stackgroup": "1",
         "type": "scatter",
         "x": [
          1952,
          1957,
          1962,
          1967,
          1972,
          1977,
          1982,
          1987,
          1992,
          1997,
          2002,
          2007
         ],
         "xaxis": "x",
         "y": [
          406.8841148,
          518.7642681,
          527.2721818,
          569.7950712,
          799.3621757999999,
          685.5876821,
          788.8550411,
          706.1573059,
          693.4207856,
          792.4499602999999,
          672.0386227000001,
          469.70929810000007
         ],
         "yaxis": "y"
        }
       ],
       "layout": {
        "legend": {
         "title": {
          "text": "country"
         },
         "tracegroupgap": 0
        },
        "margin": {
         "t": 60
        },
        "template": {
         "data": {
          "bar": [
           {
            "error_x": {
             "color": "#2a3f5f"
            },
            "error_y": {
             "color": "#2a3f5f"
            },
            "marker": {
             "line": {
              "color": "#E5ECF6",
              "width": 0.5
             }
            },
            "type": "bar"
           }
          ],
          "barpolar": [
           {
            "marker": {
             "line": {
              "color": "#E5ECF6",
              "width": 0.5
             }
            },
            "type": "barpolar"
           }
          ],
          "carpet": [
           {
            "aaxis": {
             "endlinecolor": "#2a3f5f",
             "gridcolor": "white",
             "linecolor": "white",
             "minorgridcolor": "white",
             "startlinecolor": "#2a3f5f"
            },
            "baxis": {
             "endlinecolor": "#2a3f5f",
             "gridcolor": "white",
             "linecolor": "white",
             "minorgridcolor": "white",
             "startlinecolor": "#2a3f5f"
            },
            "type": "carpet"
           }
          ],
          "choropleth": [
           {
            "colorbar": {
             "outlinewidth": 0,
             "ticks": ""
            },
            "type": "choropleth"
           }
          ],
          "contour": [
           {
            "colorbar": {
             "outlinewidth": 0,
             "ticks": ""
            },
            "colorscale": [
             [
              0,
              "#0d0887"
             ],
             [
              0.1111111111111111,
              "#46039f"
             ],
             [
              0.2222222222222222,
              "#7201a8"
             ],
             [
              0.3333333333333333,
              "#9c179e"
             ],
             [
              0.4444444444444444,
              "#bd3786"
             ],
             [
              0.5555555555555556,
              "#d8576b"
             ],
             [
              0.6666666666666666,
              "#ed7953"
             ],
             [
              0.7777777777777778,
              "#fb9f3a"
             ],
             [
              0.8888888888888888,
              "#fdca26"
             ],
             [
              1,
              "#f0f921"
             ]
            ],
            "type": "contour"
           }
          ],
          "contourcarpet": [
           {
            "colorbar": {
             "outlinewidth": 0,
             "ticks": ""
            },
            "type": "contourcarpet"
           }
          ],
          "heatmap": [
           {
            "colorbar": {
             "outlinewidth": 0,
             "ticks": ""
            },
            "colorscale": [
             [
              0,
              "#0d0887"
             ],
             [
              0.1111111111111111,
              "#46039f"
             ],
             [
              0.2222222222222222,
              "#7201a8"
             ],
             [
              0.3333333333333333,
              "#9c179e"
             ],
             [
              0.4444444444444444,
              "#bd3786"
             ],
             [
              0.5555555555555556,
              "#d8576b"
             ],
             [
              0.6666666666666666,
              "#ed7953"
             ],
             [
              0.7777777777777778,
              "#fb9f3a"
             ],
             [
              0.8888888888888888,
              "#fdca26"
             ],
             [
              1,
              "#f0f921"
             ]
            ],
            "type": "heatmap"
           }
          ],
          "heatmapgl": [
           {
            "colorbar": {
             "outlinewidth": 0,
             "ticks": ""
            },
            "colorscale": [
             [
              0,
              "#0d0887"
             ],
             [
              0.1111111111111111,
              "#46039f"
             ],
             [
              0.2222222222222222,
              "#7201a8"
             ],
             [
              0.3333333333333333,
              "#9c179e"
             ],
             [
              0.4444444444444444,
              "#bd3786"
             ],
             [
              0.5555555555555556,
              "#d8576b"
             ],
             [
              0.6666666666666666,
              "#ed7953"
             ],
             [
              0.7777777777777778,
              "#fb9f3a"
             ],
             [
              0.8888888888888888,
              "#fdca26"
             ],
             [
              1,
              "#f0f921"
             ]
            ],
            "type": "heatmapgl"
           }
          ],
          "histogram": [
           {
            "marker": {
             "colorbar": {
              "outlinewidth": 0,
              "ticks": ""
             }
            },
            "type": "histogram"
           }
          ],
          "histogram2d": [
           {
            "colorbar": {
             "outlinewidth": 0,
             "ticks": ""
            },
            "colorscale": [
             [
              0,
              "#0d0887"
             ],
             [
              0.1111111111111111,
              "#46039f"
             ],
             [
              0.2222222222222222,
              "#7201a8"
             ],
             [
              0.3333333333333333,
              "#9c179e"
             ],
             [
              0.4444444444444444,
              "#bd3786"
             ],
             [
              0.5555555555555556,
              "#d8576b"
             ],
             [
              0.6666666666666666,
              "#ed7953"
             ],
             [
              0.7777777777777778,
              "#fb9f3a"
             ],
             [
              0.8888888888888888,
              "#fdca26"
             ],
             [
              1,
              "#f0f921"
             ]
            ],
            "type": "histogram2d"
           }
          ],
          "histogram2dcontour": [
           {
            "colorbar": {
             "outlinewidth": 0,
             "ticks": ""
            },
            "colorscale": [
             [
              0,
              "#0d0887"
             ],
             [
              0.1111111111111111,
              "#46039f"
             ],
             [
              0.2222222222222222,
              "#7201a8"
             ],
             [
              0.3333333333333333,
              "#9c179e"
             ],
             [
              0.4444444444444444,
              "#bd3786"
             ],
             [
              0.5555555555555556,
              "#d8576b"
             ],
             [
              0.6666666666666666,
              "#ed7953"
             ],
             [
              0.7777777777777778,
              "#fb9f3a"
             ],
             [
              0.8888888888888888,
              "#fdca26"
             ],
             [
              1,
              "#f0f921"
             ]
            ],
            "type": "histogram2dcontour"
           }
          ],
          "mesh3d": [
           {
            "colorbar": {
             "outlinewidth": 0,
             "ticks": ""
            },
            "type": "mesh3d"
           }
          ],
          "parcoords": [
           {
            "line": {
             "colorbar": {
              "outlinewidth": 0,
              "ticks": ""
             }
            },
            "type": "parcoords"
           }
          ],
          "pie": [
           {
            "automargin": true,
            "type": "pie"
           }
          ],
          "scatter": [
           {
            "marker": {
             "colorbar": {
              "outlinewidth": 0,
              "ticks": ""
             }
            },
            "type": "scatter"
           }
          ],
          "scatter3d": [
           {
            "line": {
             "colorbar": {
              "outlinewidth": 0,
              "ticks": ""
             }
            },
            "marker": {
             "colorbar": {
              "outlinewidth": 0,
              "ticks": ""
             }
            },
            "type": "scatter3d"
           }
          ],
          "scattercarpet": [
           {
            "marker": {
             "colorbar": {
              "outlinewidth": 0,
              "ticks": ""
             }
            },
            "type": "scattercarpet"
           }
          ],
          "scattergeo": [
           {
            "marker": {
             "colorbar": {
              "outlinewidth": 0,
              "ticks": ""
             }
            },
            "type": "scattergeo"
           }
          ],
          "scattergl": [
           {
            "marker": {
             "colorbar": {
              "outlinewidth": 0,
              "ticks": ""
             }
            },
            "type": "scattergl"
           }
          ],
          "scattermapbox": [
           {
            "marker": {
             "colorbar": {
              "outlinewidth": 0,
              "ticks": ""
             }
            },
            "type": "scattermapbox"
           }
          ],
          "scatterpolar": [
           {
            "marker": {
             "colorbar": {
              "outlinewidth": 0,
              "ticks": ""
             }
            },
            "type": "scatterpolar"
           }
          ],
          "scatterpolargl": [
           {
            "marker": {
             "colorbar": {
              "outlinewidth": 0,
              "ticks": ""
             }
            },
            "type": "scatterpolargl"
           }
          ],
          "scatterternary": [
           {
            "marker": {
             "colorbar": {
              "outlinewidth": 0,
              "ticks": ""
             }
            },
            "type": "scatterternary"
           }
          ],
          "surface": [
           {
            "colorbar": {
             "outlinewidth": 0,
             "ticks": ""
            },
            "colorscale": [
             [
              0,
              "#0d0887"
             ],
             [
              0.1111111111111111,
              "#46039f"
             ],
             [
              0.2222222222222222,
              "#7201a8"
             ],
             [
              0.3333333333333333,
              "#9c179e"
             ],
             [
              0.4444444444444444,
              "#bd3786"
             ],
             [
              0.5555555555555556,
              "#d8576b"
             ],
             [
              0.6666666666666666,
              "#ed7953"
             ],
             [
              0.7777777777777778,
              "#fb9f3a"
             ],
             [
              0.8888888888888888,
              "#fdca26"
             ],
             [
              1,
              "#f0f921"
             ]
            ],
            "type": "surface"
           }
          ],
          "table": [
           {
            "cells": {
             "fill": {
              "color": "#EBF0F8"
             },
             "line": {
              "color": "white"
             }
            },
            "header": {
             "fill": {
              "color": "#C8D4E3"
             },
             "line": {
              "color": "white"
             }
            },
            "type": "table"
           }
          ]
         },
         "layout": {
          "annotationdefaults": {
           "arrowcolor": "#2a3f5f",
           "arrowhead": 0,
           "arrowwidth": 1
          },
          "coloraxis": {
           "colorbar": {
            "outlinewidth": 0,
            "ticks": ""
           }
          },
          "colorscale": {
           "diverging": [
            [
             0,
             "#8e0152"
            ],
            [
             0.1,
             "#c51b7d"
            ],
            [
             0.2,
             "#de77ae"
            ],
            [
             0.3,
             "#f1b6da"
            ],
            [
             0.4,
             "#fde0ef"
            ],
            [
             0.5,
             "#f7f7f7"
            ],
            [
             0.6,
             "#e6f5d0"
            ],
            [
             0.7,
             "#b8e186"
            ],
            [
             0.8,
             "#7fbc41"
            ],
            [
             0.9,
             "#4d9221"
            ],
            [
             1,
             "#276419"
            ]
           ],
           "sequential": [
            [
             0,
             "#0d0887"
            ],
            [
             0.1111111111111111,
             "#46039f"
            ],
            [
             0.2222222222222222,
             "#7201a8"
            ],
            [
             0.3333333333333333,
             "#9c179e"
            ],
            [
             0.4444444444444444,
             "#bd3786"
            ],
            [
             0.5555555555555556,
             "#d8576b"
            ],
            [
             0.6666666666666666,
             "#ed7953"
            ],
            [
             0.7777777777777778,
             "#fb9f3a"
            ],
            [
             0.8888888888888888,
             "#fdca26"
            ],
            [
             1,
             "#f0f921"
            ]
           ],
           "sequentialminus": [
            [
             0,
             "#0d0887"
            ],
            [
             0.1111111111111111,
             "#46039f"
            ],
            [
             0.2222222222222222,
             "#7201a8"
            ],
            [
             0.3333333333333333,
             "#9c179e"
            ],
            [
             0.4444444444444444,
             "#bd3786"
            ],
            [
             0.5555555555555556,
             "#d8576b"
            ],
            [
             0.6666666666666666,
             "#ed7953"
            ],
            [
             0.7777777777777778,
             "#fb9f3a"
            ],
            [
             0.8888888888888888,
             "#fdca26"
            ],
            [
             1,
             "#f0f921"
            ]
           ]
          },
          "colorway": [
           "#636efa",
           "#EF553B",
           "#00cc96",
           "#ab63fa",
           "#FFA15A",
           "#19d3f3",
           "#FF6692",
           "#B6E880",
           "#FF97FF",
           "#FECB52"
          ],
          "font": {
           "color": "#2a3f5f"
          },
          "geo": {
           "bgcolor": "white",
           "lakecolor": "white",
           "landcolor": "#E5ECF6",
           "showlakes": true,
           "showland": true,
           "subunitcolor": "white"
          },
          "hoverlabel": {
           "align": "left"
          },
          "hovermode": "closest",
          "mapbox": {
           "style": "light"
          },
          "paper_bgcolor": "white",
          "plot_bgcolor": "#E5ECF6",
          "polar": {
           "angularaxis": {
            "gridcolor": "white",
            "linecolor": "white",
            "ticks": ""
           },
           "bgcolor": "#E5ECF6",
           "radialaxis": {
            "gridcolor": "white",
            "linecolor": "white",
            "ticks": ""
           }
          },
          "scene": {
           "xaxis": {
            "backgroundcolor": "#E5ECF6",
            "gridcolor": "white",
            "gridwidth": 2,
            "linecolor": "white",
            "showbackground": true,
            "ticks": "",
            "zerolinecolor": "white"
           },
           "yaxis": {
            "backgroundcolor": "#E5ECF6",
            "gridcolor": "white",
            "gridwidth": 2,
            "linecolor": "white",
            "showbackground": true,
            "ticks": "",
            "zerolinecolor": "white"
           },
           "zaxis": {
            "backgroundcolor": "#E5ECF6",
            "gridcolor": "white",
            "gridwidth": 2,
            "linecolor": "white",
            "showbackground": true,
            "ticks": "",
            "zerolinecolor": "white"
           }
          },
          "shapedefaults": {
           "line": {
            "color": "#2a3f5f"
           }
          },
          "ternary": {
           "aaxis": {
            "gridcolor": "white",
            "linecolor": "white",
            "ticks": ""
           },
           "baxis": {
            "gridcolor": "white",
            "linecolor": "white",
            "ticks": ""
           },
           "bgcolor": "#E5ECF6",
           "caxis": {
            "gridcolor": "white",
            "linecolor": "white",
            "ticks": ""
           }
          },
          "title": {
           "x": 0.05
          },
          "xaxis": {
           "automargin": true,
           "gridcolor": "white",
           "linecolor": "white",
           "ticks": "",
           "title": {
            "standoff": 15
           },
           "zerolinecolor": "white",
           "zerolinewidth": 2
          },
          "yaxis": {
           "automargin": true,
           "gridcolor": "white",
           "linecolor": "white",
           "ticks": "",
           "title": {
            "standoff": 15
           },
           "zerolinecolor": "white",
           "zerolinewidth": 2
          }
         }
        },
        "xaxis": {
         "anchor": "y",
         "domain": [
          0,
          1
         ],
         "title": {
          "text": "year"
         }
        },
        "yaxis": {
         "anchor": "x",
         "domain": [
          0,
          1
         ],
         "title": {
          "text": "gdpPercap"
         }
        }
       }
      },
      "text/html": [
       "<div>\n",
       "        \n",
       "        \n",
       "            <div id=\"024e1601-b895-4617-b440-bc31c40dd701\" class=\"plotly-graph-div\" style=\"height:525px; width:100%;\"></div>\n",
       "            <script type=\"text/javascript\">\n",
       "                require([\"plotly\"], function(Plotly) {\n",
       "                    window.PLOTLYENV=window.PLOTLYENV || {};\n",
       "                    \n",
       "                if (document.getElementById(\"024e1601-b895-4617-b440-bc31c40dd701\")) {\n",
       "                    Plotly.newPlot(\n",
       "                        '024e1601-b895-4617-b440-bc31c40dd701',\n",
       "                        [{\"hovertemplate\": \"country=Afghanistan<br>continent=Asia<br>year=%{x}<br>gdpPercap=%{y}<extra></extra>\", \"legendgroup\": \"Afghanistan\", \"line\": {\"color\": \"#636efa\"}, \"mode\": \"lines\", \"name\": \"Afghanistan\", \"orientation\": \"v\", \"showlegend\": true, \"stackgroup\": \"1\", \"type\": \"scatter\", \"x\": [1952, 1957, 1962, 1967, 1972, 1977, 1982, 1987, 1992, 1997, 2002, 2007], \"xaxis\": \"x\", \"y\": [779.4453145, 820.8530296, 853.1007099999999, 836.1971382, 739.9811057999999, 786.11336, 978.0114388000001, 852.3959447999999, 649.3413952000001, 635.341351, 726.7340548, 974.5803384], \"yaxis\": \"y\"}, {\"hovertemplate\": \"country=Albania<br>continent=Europe<br>year=%{x}<br>gdpPercap=%{y}<extra></extra>\", \"legendgroup\": \"Albania\", \"line\": {\"color\": \"#EF553B\"}, \"mode\": \"lines\", \"name\": \"Albania\", \"orientation\": \"v\", \"showlegend\": true, \"stackgroup\": \"1\", \"type\": \"scatter\", \"x\": [1952, 1957, 1962, 1967, 1972, 1977, 1982, 1987, 1992, 1997, 2002, 2007], \"xaxis\": \"x\", \"y\": [1601.056136, 1942.2842440000002, 2312.888958, 2760.196931, 3313.422188, 3533.0039100000004, 3630.880722, 3738.9327350000003, 2497.4379010000002, 3193.054604, 4604.211737, 5937.029525999999], \"yaxis\": \"y\"}, {\"hovertemplate\": \"country=Algeria<br>continent=Africa<br>year=%{x}<br>gdpPercap=%{y}<extra></extra>\", \"legendgroup\": \"Algeria\", \"line\": {\"color\": \"#00cc96\"}, \"mode\": \"lines\", \"name\": \"Algeria\", \"orientation\": \"v\", \"showlegend\": true, \"stackgroup\": \"1\", \"type\": \"scatter\", \"x\": [1952, 1957, 1962, 1967, 1972, 1977, 1982, 1987, 1992, 1997, 2002, 2007], \"xaxis\": \"x\", \"y\": [2449.008185, 3013.976023, 2550.81688, 3246.991771, 4182.663766, 4910.4167560000005, 5745.160213, 5681.358539, 5023.216647, 4797.295051, 5288.040382, 6223.367465], \"yaxis\": \"y\"}, {\"hovertemplate\": \"country=Angola<br>continent=Africa<br>year=%{x}<br>gdpPercap=%{y}<extra></extra>\", \"legendgroup\": \"Angola\", \"line\": {\"color\": \"#ab63fa\"}, \"mode\": \"lines\", \"name\": \"Angola\", \"orientation\": \"v\", \"showlegend\": true, \"stackgroup\": \"1\", \"type\": \"scatter\", \"x\": [1952, 1957, 1962, 1967, 1972, 1977, 1982, 1987, 1992, 1997, 2002, 2007], \"xaxis\": \"x\", \"y\": [3520.610273, 3827.9404649999997, 4269.276742, 5522.776375, 5473.288004999999, 3008.647355, 2756.953672, 2430.208311, 2627.8456850000002, 2277.140884, 2773.287312, 4797.231267], \"yaxis\": \"y\"}, {\"hovertemplate\": \"country=Argentina<br>continent=Americas<br>year=%{x}<br>gdpPercap=%{y}<extra></extra>\", \"legendgroup\": \"Argentina\", \"line\": {\"color\": \"#FFA15A\"}, \"mode\": \"lines\", \"name\": \"Argentina\", \"orientation\": \"v\", \"showlegend\": true, \"stackgroup\": \"1\", \"type\": \"scatter\", \"x\": [1952, 1957, 1962, 1967, 1972, 1977, 1982, 1987, 1992, 1997, 2002, 2007], \"xaxis\": \"x\", \"y\": [5911.315053, 6856.856212000001, 7133.166023000001, 8052.953020999999, 9443.038526, 10079.026740000001, 8997.897412, 9139.671389, 9308.41871, 10967.28195, 8797.640716, 12779.379640000001], \"yaxis\": \"y\"}, {\"hovertemplate\": \"country=Australia<br>continent=Oceania<br>year=%{x}<br>gdpPercap=%{y}<extra></extra>\", \"legendgroup\": \"Australia\", \"line\": {\"color\": \"#19d3f3\"}, \"mode\": \"lines\", \"name\": \"Australia\", \"orientation\": \"v\", \"showlegend\": true, \"stackgroup\": \"1\", \"type\": \"scatter\", \"x\": [1952, 1957, 1962, 1967, 1972, 1977, 1982, 1987, 1992, 1997, 2002, 2007], \"xaxis\": \"x\", \"y\": [10039.595640000001, 10949.64959, 12217.226859999999, 14526.12465, 16788.62948, 18334.197509999998, 19477.009280000002, 21888.889030000002, 23424.76683, 26997.936569999998, 30687.75473, 34435.367439999995], \"yaxis\": \"y\"}, {\"hovertemplate\": \"country=Austria<br>continent=Europe<br>year=%{x}<br>gdpPercap=%{y}<extra></extra>\", \"legendgroup\": \"Austria\", \"line\": {\"color\": \"#FF6692\"}, \"mode\": \"lines\", \"name\": \"Austria\", \"orientation\": \"v\", \"showlegend\": true, \"stackgroup\": \"1\", \"type\": \"scatter\", \"x\": [1952, 1957, 1962, 1967, 1972, 1977, 1982, 1987, 1992, 1997, 2002, 2007], \"xaxis\": \"x\", \"y\": [6137.076492, 8842.59803, 10750.721109999999, 12834.6024, 16661.6256, 19749.4223, 21597.083619999998, 23687.82607, 27042.01868, 29095.920660000003, 32417.607689999997, 36126.4927], \"yaxis\": \"y\"}, {\"hovertemplate\": \"country=Bahrain<br>continent=Asia<br>year=%{x}<br>gdpPercap=%{y}<extra></extra>\", \"legendgroup\": \"Bahrain\", \"line\": {\"color\": \"#B6E880\"}, \"mode\": \"lines\", \"name\": \"Bahrain\", \"orientation\": \"v\", \"showlegend\": true, \"stackgroup\": \"1\", \"type\": \"scatter\", \"x\": [1952, 1957, 1962, 1967, 1972, 1977, 1982, 1987, 1992, 1997, 2002, 2007], \"xaxis\": \"x\", \"y\": [9867.084765000001, 11635.79945, 12753.27514, 14804.6727, 18268.65839, 19340.10196, 19211.14731, 18524.02406, 19035.579169999997, 20292.01679, 23403.559269999998, 29796.048339999998], \"yaxis\": \"y\"}, {\"hovertemplate\": \"country=Bangladesh<br>continent=Asia<br>year=%{x}<br>gdpPercap=%{y}<extra></extra>\", \"legendgroup\": \"Bangladesh\", \"line\": {\"color\": \"#FF97FF\"}, \"mode\": \"lines\", \"name\": \"Bangladesh\", \"orientation\": \"v\", \"showlegend\": true, \"stackgroup\": \"1\", \"type\": \"scatter\", \"x\": [1952, 1957, 1962, 1967, 1972, 1977, 1982, 1987, 1992, 1997, 2002, 2007], \"xaxis\": \"x\", \"y\": [684.2441716, 661.6374577, 686.3415537999999, 721.1860862000001, 630.2336265, 659.8772322000001, 676.9818656, 751.9794035, 837.8101642999999, 972.7700352, 1136.3904300000002, 1391.253792], \"yaxis\": \"y\"}, {\"hovertemplate\": \"country=Belgium<br>continent=Europe<br>year=%{x}<br>gdpPercap=%{y}<extra></extra>\", \"legendgroup\": \"Belgium\", \"line\": {\"color\": \"#FECB52\"}, \"mode\": \"lines\", \"name\": \"Belgium\", \"orientation\": \"v\", \"showlegend\": true, \"stackgroup\": \"1\", \"type\": \"scatter\", \"x\": [1952, 1957, 1962, 1967, 1972, 1977, 1982, 1987, 1992, 1997, 2002, 2007], \"xaxis\": \"x\", \"y\": [8343.105126999999, 9714.960623, 10991.20676, 13149.04119, 16672.14356, 19117.97448, 20979.84589, 22525.56308, 25575.57069, 27561.196630000002, 30485.88375, 33692.60508], \"yaxis\": \"y\"}, {\"hovertemplate\": \"country=Benin<br>continent=Africa<br>year=%{x}<br>gdpPercap=%{y}<extra></extra>\", \"legendgroup\": \"Benin\", \"line\": {\"color\": \"#636efa\"}, \"mode\": \"lines\", \"name\": \"Benin\", \"orientation\": \"v\", \"showlegend\": true, \"stackgroup\": \"1\", \"type\": \"scatter\", \"x\": [1952, 1957, 1962, 1967, 1972, 1977, 1982, 1987, 1992, 1997, 2002, 2007], \"xaxis\": \"x\", \"y\": [1062.7522, 959.6010805, 949.4990641, 1035.831411, 1085.796879, 1029.161251, 1277.897616, 1225.85601, 1191.207681, 1232.975292, 1372.877931, 1441.284873], \"yaxis\": \"y\"}, {\"hovertemplate\": \"country=Bolivia<br>continent=Americas<br>year=%{x}<br>gdpPercap=%{y}<extra></extra>\", \"legendgroup\": \"Bolivia\", \"line\": {\"color\": \"#EF553B\"}, \"mode\": \"lines\", \"name\": \"Bolivia\", \"orientation\": \"v\", \"showlegend\": true, \"stackgroup\": \"1\", \"type\": \"scatter\", \"x\": [1952, 1957, 1962, 1967, 1972, 1977, 1982, 1987, 1992, 1997, 2002, 2007], \"xaxis\": \"x\", \"y\": [2677.3263469999997, 2127.686326, 2180.972546, 2586.886053, 2980.331339, 3548.097832, 3156.510452, 2753.6914899999997, 2961.699694, 3326.143191, 3413.26269, 3822.1370840000004], \"yaxis\": \"y\"}, {\"hovertemplate\": \"country=Bosnia and Herzegovina<br>continent=Europe<br>year=%{x}<br>gdpPercap=%{y}<extra></extra>\", \"legendgroup\": \"Bosnia and Herzegovina\", \"line\": {\"color\": \"#00cc96\"}, \"mode\": \"lines\", \"name\": \"Bosnia and Herzegovina\", \"orientation\": \"v\", \"showlegend\": true, \"stackgroup\": \"1\", \"type\": \"scatter\", \"x\": [1952, 1957, 1962, 1967, 1972, 1977, 1982, 1987, 1992, 1997, 2002, 2007], \"xaxis\": \"x\", \"y\": [973.5331947999999, 1353.989176, 1709.683679, 2172.3524230000003, 2860.16975, 3528.481305, 4126.613157, 4314.114757, 2546.781445, 4766.355904, 6018.975239, 7446.298803], \"yaxis\": \"y\"}, {\"hovertemplate\": \"country=Botswana<br>continent=Africa<br>year=%{x}<br>gdpPercap=%{y}<extra></extra>\", \"legendgroup\": \"Botswana\", \"line\": {\"color\": \"#ab63fa\"}, \"mode\": \"lines\", \"name\": \"Botswana\", \"orientation\": \"v\", \"showlegend\": true, \"stackgroup\": \"1\", \"type\": \"scatter\", \"x\": [1952, 1957, 1962, 1967, 1972, 1977, 1982, 1987, 1992, 1997, 2002, 2007], \"xaxis\": \"x\", \"y\": [851.2411407, 918.2325348999999, 983.6539764, 1214.709294, 2263.6111140000003, 3214.857818, 4551.14215, 6205.88385, 7954.111645, 8647.142313, 11003.60508, 12569.851770000001], \"yaxis\": \"y\"}, {\"hovertemplate\": \"country=Brazil<br>continent=Americas<br>year=%{x}<br>gdpPercap=%{y}<extra></extra>\", \"legendgroup\": \"Brazil\", \"line\": {\"color\": \"#FFA15A\"}, \"mode\": \"lines\", \"name\": \"Brazil\", \"orientation\": \"v\", \"showlegend\": true, \"stackgroup\": \"1\", \"type\": \"scatter\", \"x\": [1952, 1957, 1962, 1967, 1972, 1977, 1982, 1987, 1992, 1997, 2002, 2007], \"xaxis\": \"x\", \"y\": [2108.944355, 2487.365989, 3336.585802, 3429.864357, 4985.711467, 6660.118654, 7030.835878, 7807.095818000001, 6950.283020999999, 7957.980823999999, 8131.212843000001, 9065.800825], \"yaxis\": \"y\"}, {\"hovertemplate\": \"country=Bulgaria<br>continent=Europe<br>year=%{x}<br>gdpPercap=%{y}<extra></extra>\", \"legendgroup\": \"Bulgaria\", \"line\": {\"color\": \"#19d3f3\"}, \"mode\": \"lines\", \"name\": \"Bulgaria\", \"orientation\": \"v\", \"showlegend\": true, \"stackgroup\": \"1\", \"type\": \"scatter\", \"x\": [1952, 1957, 1962, 1967, 1972, 1977, 1982, 1987, 1992, 1997, 2002, 2007], \"xaxis\": \"x\", \"y\": [2444.2866480000002, 3008.670727, 4254.337839, 5577.0028, 6597.494398, 7612.240438, 8224.191647, 8239.854824, 6302.6234380000005, 5970.38876, 7696.777725, 10680.79282], \"yaxis\": \"y\"}, {\"hovertemplate\": \"country=Burkina Faso<br>continent=Africa<br>year=%{x}<br>gdpPercap=%{y}<extra></extra>\", \"legendgroup\": \"Burkina Faso\", \"line\": {\"color\": \"#FF6692\"}, \"mode\": \"lines\", \"name\": \"Burkina Faso\", \"orientation\": \"v\", \"showlegend\": true, \"stackgroup\": \"1\", \"type\": \"scatter\", \"x\": [1952, 1957, 1962, 1967, 1972, 1977, 1982, 1987, 1992, 1997, 2002, 2007], \"xaxis\": \"x\", \"y\": [543.2552413, 617.1834647999999, 722.5120206, 794.8265597, 854.7359763000001, 743.3870368, 807.1985855, 912.0631417000001, 931.7527731, 946.2949617999999, 1037.645221, 1217.032994], \"yaxis\": \"y\"}, {\"hovertemplate\": \"country=Burundi<br>continent=Africa<br>year=%{x}<br>gdpPercap=%{y}<extra></extra>\", \"legendgroup\": \"Burundi\", \"line\": {\"color\": \"#B6E880\"}, \"mode\": \"lines\", \"name\": \"Burundi\", \"orientation\": \"v\", \"showlegend\": true, \"stackgroup\": \"1\", \"type\": \"scatter\", \"x\": [1952, 1957, 1962, 1967, 1972, 1977, 1982, 1987, 1992, 1997, 2002, 2007], \"xaxis\": \"x\", \"y\": [339.29645869999996, 379.56462810000005, 355.2032273, 412.97751360000007, 464.0995039, 556.1032651, 559.6032309999999, 621.8188188999999, 631.6998778, 463.1151478, 446.4035126, 430.07069160000003], \"yaxis\": \"y\"}, {\"hovertemplate\": \"country=Cambodia<br>continent=Asia<br>year=%{x}<br>gdpPercap=%{y}<extra></extra>\", \"legendgroup\": \"Cambodia\", \"line\": {\"color\": \"#FF97FF\"}, \"mode\": \"lines\", \"name\": \"Cambodia\", \"orientation\": \"v\", \"showlegend\": true, \"stackgroup\": \"1\", \"type\": \"scatter\", \"x\": [1952, 1957, 1962, 1967, 1972, 1977, 1982, 1987, 1992, 1997, 2002, 2007], \"xaxis\": \"x\", \"y\": [368.46928560000003, 434.0383364, 496.9136476, 523.4323142, 421.6240257, 524.9721831999999, 624.4754784, 683.8955732000001, 682.3031755, 734.28517, 896.2260152999999, 1713.7786859999999], \"yaxis\": \"y\"}, {\"hovertemplate\": \"country=Cameroon<br>continent=Africa<br>year=%{x}<br>gdpPercap=%{y}<extra></extra>\", \"legendgroup\": \"Cameroon\", \"line\": {\"color\": \"#FECB52\"}, \"mode\": \"lines\", \"name\": \"Cameroon\", \"orientation\": \"v\", \"showlegend\": true, \"stackgroup\": \"1\", \"type\": \"scatter\", \"x\": [1952, 1957, 1962, 1967, 1972, 1977, 1982, 1987, 1992, 1997, 2002, 2007], \"xaxis\": \"x\", \"y\": [1172.667655, 1313.048099, 1399.607441, 1508.453148, 1684.1465280000002, 1783.432873, 2367.983282, 2602.664206, 1793.1632780000002, 1694.337469, 1934.0114489999999, 2042.0952399999999], \"yaxis\": \"y\"}, {\"hovertemplate\": \"country=Canada<br>continent=Americas<br>year=%{x}<br>gdpPercap=%{y}<extra></extra>\", \"legendgroup\": \"Canada\", \"line\": {\"color\": \"#636efa\"}, \"mode\": \"lines\", \"name\": \"Canada\", \"orientation\": \"v\", \"showlegend\": true, \"stackgroup\": \"1\", \"type\": \"scatter\", \"x\": [1952, 1957, 1962, 1967, 1972, 1977, 1982, 1987, 1992, 1997, 2002, 2007], \"xaxis\": \"x\", \"y\": [11367.16112, 12489.95006, 13462.48555, 16076.58803, 18970.57086, 22090.88306, 22898.79214, 26626.515030000002, 26342.88426, 28954.92589, 33328.96507, 36319.235010000004], \"yaxis\": \"y\"}, {\"hovertemplate\": \"country=Central African Republic<br>continent=Africa<br>year=%{x}<br>gdpPercap=%{y}<extra></extra>\", \"legendgroup\": \"Central African Republic\", \"line\": {\"color\": \"#EF553B\"}, \"mode\": \"lines\", \"name\": \"Central African Republic\", \"orientation\": \"v\", \"showlegend\": true, \"stackgroup\": \"1\", \"type\": \"scatter\", \"x\": [1952, 1957, 1962, 1967, 1972, 1977, 1982, 1987, 1992, 1997, 2002, 2007], \"xaxis\": \"x\", \"y\": [1071.310713, 1190.844328, 1193.068753, 1136.056615, 1070.013275, 1109.374338, 956.7529906999999, 844.8763504000001, 747.9055252, 740.5063317, 738.6906068, 706.016537], \"yaxis\": \"y\"}, {\"hovertemplate\": \"country=Chad<br>continent=Africa<br>year=%{x}<br>gdpPercap=%{y}<extra></extra>\", \"legendgroup\": \"Chad\", \"line\": {\"color\": \"#00cc96\"}, \"mode\": \"lines\", \"name\": \"Chad\", \"orientation\": \"v\", \"showlegend\": true, \"stackgroup\": \"1\", \"type\": \"scatter\", \"x\": [1952, 1957, 1962, 1967, 1972, 1977, 1982, 1987, 1992, 1997, 2002, 2007], \"xaxis\": \"x\", \"y\": [1178.665927, 1308.495577, 1389.817618, 1196.810565, 1104.103987, 1133.98495, 797.9081006, 952.3861289999999, 1058.0643, 1004.9613529999999, 1156.18186, 1704.0637239999999], \"yaxis\": \"y\"}, {\"hovertemplate\": \"country=Chile<br>continent=Americas<br>year=%{x}<br>gdpPercap=%{y}<extra></extra>\", \"legendgroup\": \"Chile\", \"line\": {\"color\": \"#ab63fa\"}, \"mode\": \"lines\", \"name\": \"Chile\", \"orientation\": \"v\", \"showlegend\": true, \"stackgroup\": \"1\", \"type\": \"scatter\", \"x\": [1952, 1957, 1962, 1967, 1972, 1977, 1982, 1987, 1992, 1997, 2002, 2007], \"xaxis\": \"x\", \"y\": [3939.9787890000002, 4315.6227229999995, 4519.094331, 5106.654313, 5494.024437, 4756.763836, 5095.665738000001, 5547.063754, 7596.125964, 10118.053179999999, 10778.78385, 13171.63885], \"yaxis\": \"y\"}, {\"hovertemplate\": \"country=China<br>continent=Asia<br>year=%{x}<br>gdpPercap=%{y}<extra></extra>\", \"legendgroup\": \"China\", \"line\": {\"color\": \"#FFA15A\"}, \"mode\": \"lines\", \"name\": \"China\", \"orientation\": \"v\", \"showlegend\": true, \"stackgroup\": \"1\", \"type\": \"scatter\", \"x\": [1952, 1957, 1962, 1967, 1972, 1977, 1982, 1987, 1992, 1997, 2002, 2007], \"xaxis\": \"x\", \"y\": [400.44861099999997, 575.9870009, 487.6740183, 612.7056934, 676.9000921, 741.2374699, 962.4213804999999, 1378.904018, 1655.784158, 2289.234136, 3119.280896, 4959.1148539999995], \"yaxis\": \"y\"}, {\"hovertemplate\": \"country=Colombia<br>continent=Americas<br>year=%{x}<br>gdpPercap=%{y}<extra></extra>\", \"legendgroup\": \"Colombia\", \"line\": {\"color\": \"#19d3f3\"}, \"mode\": \"lines\", \"name\": \"Colombia\", \"orientation\": \"v\", \"showlegend\": true, \"stackgroup\": \"1\", \"type\": \"scatter\", \"x\": [1952, 1957, 1962, 1967, 1972, 1977, 1982, 1987, 1992, 1997, 2002, 2007], \"xaxis\": \"x\", \"y\": [2144.115096, 2323.805581, 2492.351109, 2678.729839, 3264.660041, 3815.80787, 4397.575659, 4903.2191, 5444.648617, 6117.3617460000005, 5755.259962, 7006.580419], \"yaxis\": \"y\"}, {\"hovertemplate\": \"country=Comoros<br>continent=Africa<br>year=%{x}<br>gdpPercap=%{y}<extra></extra>\", \"legendgroup\": \"Comoros\", \"line\": {\"color\": \"#FF6692\"}, \"mode\": \"lines\", \"name\": \"Comoros\", \"orientation\": \"v\", \"showlegend\": true, \"stackgroup\": \"1\", \"type\": \"scatter\", \"x\": [1952, 1957, 1962, 1967, 1972, 1977, 1982, 1987, 1992, 1997, 2002, 2007], \"xaxis\": \"x\", \"y\": [1102.990936, 1211.1485480000001, 1406.648278, 1876.029643, 1937.577675, 1172.603047, 1267.100083, 1315.980812, 1246.90737, 1173.618235, 1075.811558, 986.1478792000001], \"yaxis\": \"y\"}, {\"hovertemplate\": \"country=Congo, Dem. Rep.<br>continent=Africa<br>year=%{x}<br>gdpPercap=%{y}<extra></extra>\", \"legendgroup\": \"Congo, Dem. Rep.\", \"line\": {\"color\": \"#B6E880\"}, \"mode\": \"lines\", \"name\": \"Congo, Dem. Rep.\", \"orientation\": \"v\", \"showlegend\": true, \"stackgroup\": \"1\", \"type\": \"scatter\", \"x\": [1952, 1957, 1962, 1967, 1972, 1977, 1982, 1987, 1992, 1997, 2002, 2007], \"xaxis\": \"x\", \"y\": [780.5423257, 905.8602302999999, 896.3146335000001, 861.5932424, 904.8960685000001, 795.757282, 673.7478181, 672.774812, 457.7191807, 312.188423, 241.16587650000002, 277.55185869999997], \"yaxis\": \"y\"}, {\"hovertemplate\": \"country=Congo, Rep.<br>continent=Africa<br>year=%{x}<br>gdpPercap=%{y}<extra></extra>\", \"legendgroup\": \"Congo, Rep.\", \"line\": {\"color\": \"#FF97FF\"}, \"mode\": \"lines\", \"name\": \"Congo, Rep.\", \"orientation\": \"v\", \"showlegend\": true, \"stackgroup\": \"1\", \"type\": \"scatter\", \"x\": [1952, 1957, 1962, 1967, 1972, 1977, 1982, 1987, 1992, 1997, 2002, 2007], \"xaxis\": \"x\", \"y\": [2125.621418, 2315.056572, 2464.783157, 2677.9396420000003, 3213.152683, 3259.178978, 4879.507522, 4201.194936999999, 4016.239529, 3484.1643759999997, 3484.06197, 3632.557798], \"yaxis\": \"y\"}, {\"hovertemplate\": \"country=Costa Rica<br>continent=Americas<br>year=%{x}<br>gdpPercap=%{y}<extra></extra>\", \"legendgroup\": \"Costa Rica\", \"line\": {\"color\": \"#FECB52\"}, \"mode\": \"lines\", \"name\": \"Costa Rica\", \"orientation\": \"v\", \"showlegend\": true, \"stackgroup\": \"1\", \"type\": \"scatter\", \"x\": [1952, 1957, 1962, 1967, 1972, 1977, 1982, 1987, 1992, 1997, 2002, 2007], \"xaxis\": \"x\", \"y\": [2627.0094710000003, 2990.010802, 3460.937025, 4161.727834, 5118.146939, 5926.876967, 5262.734751, 5629.915318, 6160.416317, 6677.045314, 7723.447195000001, 9645.06142], \"yaxis\": \"y\"}, {\"hovertemplate\": \"country=Cote d'Ivoire<br>continent=Africa<br>year=%{x}<br>gdpPercap=%{y}<extra></extra>\", \"legendgroup\": \"Cote d'Ivoire\", \"line\": {\"color\": \"#636efa\"}, \"mode\": \"lines\", \"name\": \"Cote d'Ivoire\", \"orientation\": \"v\", \"showlegend\": true, \"stackgroup\": \"1\", \"type\": \"scatter\", \"x\": [1952, 1957, 1962, 1967, 1972, 1977, 1982, 1987, 1992, 1997, 2002, 2007], \"xaxis\": \"x\", \"y\": [1388.594732, 1500.895925, 1728.8694280000002, 2052.0504730000002, 2378.201111, 2517.736547, 2602.710169, 2156.9560690000003, 1648.073791, 1786.265407, 1648.800823, 1544.750112], \"yaxis\": \"y\"}, {\"hovertemplate\": \"country=Croatia<br>continent=Europe<br>year=%{x}<br>gdpPercap=%{y}<extra></extra>\", \"legendgroup\": \"Croatia\", \"line\": {\"color\": \"#EF553B\"}, \"mode\": \"lines\", \"name\": \"Croatia\", \"orientation\": \"v\", \"showlegend\": true, \"stackgroup\": \"1\", \"type\": \"scatter\", \"x\": [1952, 1957, 1962, 1967, 1972, 1977, 1982, 1987, 1992, 1997, 2002, 2007], \"xaxis\": \"x\", \"y\": [3119.23652, 4338.231617, 5477.890018, 6960.297861, 9164.090127, 11305.38517, 13221.82184, 13822.58394, 8447.794873, 9875.604515, 11628.38895, 14619.222719999998], \"yaxis\": \"y\"}, {\"hovertemplate\": \"country=Cuba<br>continent=Americas<br>year=%{x}<br>gdpPercap=%{y}<extra></extra>\", \"legendgroup\": \"Cuba\", \"line\": {\"color\": \"#00cc96\"}, \"mode\": \"lines\", \"name\": \"Cuba\", \"orientation\": \"v\", \"showlegend\": true, \"stackgroup\": \"1\", \"type\": \"scatter\", \"x\": [1952, 1957, 1962, 1967, 1972, 1977, 1982, 1987, 1992, 1997, 2002, 2007], \"xaxis\": \"x\", \"y\": [5586.53878, 6092.174359000001, 5180.75591, 5690.268015, 5305.445256, 6380.494965999999, 7316.9181069999995, 7532.924762999999, 5592.843963, 5431.990415, 6340.646683, 8948.102923], \"yaxis\": \"y\"}, {\"hovertemplate\": \"country=Czech Republic<br>continent=Europe<br>year=%{x}<br>gdpPercap=%{y}<extra></extra>\", \"legendgroup\": \"Czech Republic\", \"line\": {\"color\": \"#ab63fa\"}, \"mode\": \"lines\", \"name\": \"Czech Republic\", \"orientation\": \"v\", \"showlegend\": true, \"stackgroup\": \"1\", \"type\": \"scatter\", \"x\": [1952, 1957, 1962, 1967, 1972, 1977, 1982, 1987, 1992, 1997, 2002, 2007], \"xaxis\": \"x\", \"y\": [6876.14025, 8256.343918, 10136.86713, 11399.44489, 13108.4536, 14800.160619999999, 15377.22855, 16310.4434, 14297.021219999999, 16048.51424, 17596.210219999997, 22833.30851], \"yaxis\": \"y\"}, {\"hovertemplate\": \"country=Denmark<br>continent=Europe<br>year=%{x}<br>gdpPercap=%{y}<extra></extra>\", \"legendgroup\": \"Denmark\", \"line\": {\"color\": \"#FFA15A\"}, \"mode\": \"lines\", \"name\": \"Denmark\", \"orientation\": \"v\", \"showlegend\": true, \"stackgroup\": \"1\", \"type\": \"scatter\", \"x\": [1952, 1957, 1962, 1967, 1972, 1977, 1982, 1987, 1992, 1997, 2002, 2007], \"xaxis\": \"x\", \"y\": [9692.385245, 11099.65935, 13583.31351, 15937.21123, 18866.20721, 20422.9015, 21688.04048, 25116.17581, 26406.73985, 29804.34567, 32166.500060000002, 35278.41874], \"yaxis\": \"y\"}, {\"hovertemplate\": \"country=Djibouti<br>continent=Africa<br>year=%{x}<br>gdpPercap=%{y}<extra></extra>\", \"legendgroup\": \"Djibouti\", \"line\": {\"color\": \"#19d3f3\"}, \"mode\": \"lines\", \"name\": \"Djibouti\", \"orientation\": \"v\", \"showlegend\": true, \"stackgroup\": \"1\", \"type\": \"scatter\", \"x\": [1952, 1957, 1962, 1967, 1972, 1977, 1982, 1987, 1992, 1997, 2002, 2007], \"xaxis\": \"x\", \"y\": [2669.529475, 2864.9690760000003, 3020.989263, 3020.0505129999997, 3694.2123520000005, 3081.7610219999997, 2879.4680670000002, 2880.102568, 2377.1561920000004, 1895.016984, 1908.2608670000002, 2082.4815670000003], \"yaxis\": \"y\"}, {\"hovertemplate\": \"country=Dominican Republic<br>continent=Americas<br>year=%{x}<br>gdpPercap=%{y}<extra></extra>\", \"legendgroup\": \"Dominican Republic\", \"line\": {\"color\": \"#FF6692\"}, \"mode\": \"lines\", \"name\": \"Dominican Republic\", \"orientation\": \"v\", \"showlegend\": true, \"stackgroup\": \"1\", \"type\": \"scatter\", \"x\": [1952, 1957, 1962, 1967, 1972, 1977, 1982, 1987, 1992, 1997, 2002, 2007], \"xaxis\": \"x\", \"y\": [1397.7171369999999, 1544.402995, 1662.137359, 1653.7230029999998, 2189.874499, 2681.9889, 2861.092386, 2899.842175, 3044.214214, 3614.101285, 4563.808154, 6025.374752000001], \"yaxis\": \"y\"}, {\"hovertemplate\": \"country=Ecuador<br>continent=Americas<br>year=%{x}<br>gdpPercap=%{y}<extra></extra>\", \"legendgroup\": \"Ecuador\", \"line\": {\"color\": \"#B6E880\"}, \"mode\": \"lines\", \"name\": \"Ecuador\", \"orientation\": \"v\", \"showlegend\": true, \"stackgroup\": \"1\", \"type\": \"scatter\", \"x\": [1952, 1957, 1962, 1967, 1972, 1977, 1982, 1987, 1992, 1997, 2002, 2007], \"xaxis\": \"x\", \"y\": [3522.110717, 3780.5466509999997, 4086.114078, 4579.074215, 5280.99471, 6679.62326, 7213.7912670000005, 6481.776993, 7103.702595000001, 7429.455876999999, 5773.0445119999995, 6873.262326000001], \"yaxis\": \"y\"}, {\"hovertemplate\": \"country=Egypt<br>continent=Africa<br>year=%{x}<br>gdpPercap=%{y}<extra></extra>\", \"legendgroup\": \"Egypt\", \"line\": {\"color\": \"#FF97FF\"}, \"mode\": \"lines\", \"name\": \"Egypt\", \"orientation\": \"v\", \"showlegend\": true, \"stackgroup\": \"1\", \"type\": \"scatter\", \"x\": [1952, 1957, 1962, 1967, 1972, 1977, 1982, 1987, 1992, 1997, 2002, 2007], \"xaxis\": \"x\", \"y\": [1418.822445, 1458.915272, 1693.335853, 1814.880728, 2024.0081469999998, 2785.493582, 3503.729636, 3885.4607100000003, 3794.755195, 4173.181797, 4754.604414, 5581.180998], \"yaxis\": \"y\"}, {\"hovertemplate\": \"country=El Salvador<br>continent=Americas<br>year=%{x}<br>gdpPercap=%{y}<extra></extra>\", \"legendgroup\": \"El Salvador\", \"line\": {\"color\": \"#FECB52\"}, \"mode\": \"lines\", \"name\": \"El Salvador\", \"orientation\": \"v\", \"showlegend\": true, \"stackgroup\": \"1\", \"type\": \"scatter\", \"x\": [1952, 1957, 1962, 1967, 1972, 1977, 1982, 1987, 1992, 1997, 2002, 2007], \"xaxis\": \"x\", \"y\": [3048.3029, 3421.523218, 3776.8036270000002, 4358.595393, 4520.246008, 5138.922374, 4098.344175, 4140.442097, 4444.2317, 5154.825496, 5351.568665999999, 5728.353514], \"yaxis\": \"y\"}, {\"hovertemplate\": \"country=Equatorial Guinea<br>continent=Africa<br>year=%{x}<br>gdpPercap=%{y}<extra></extra>\", \"legendgroup\": \"Equatorial Guinea\", \"line\": {\"color\": \"#636efa\"}, \"mode\": \"lines\", \"name\": \"Equatorial Guinea\", \"orientation\": \"v\", \"showlegend\": true, \"stackgroup\": \"1\", \"type\": \"scatter\", \"x\": [1952, 1957, 1962, 1967, 1972, 1977, 1982, 1987, 1992, 1997, 2002, 2007], \"xaxis\": \"x\", \"y\": [375.6431231, 426.0964081, 582.8419713999999, 915.5960025, 672.4122571, 958.5668124, 927.8253427000001, 966.8968149, 1132.055034, 2814.480755, 7703.4959, 12154.08975], \"yaxis\": \"y\"}, {\"hovertemplate\": \"country=Eritrea<br>continent=Africa<br>year=%{x}<br>gdpPercap=%{y}<extra></extra>\", \"legendgroup\": \"Eritrea\", \"line\": {\"color\": \"#EF553B\"}, \"mode\": \"lines\", \"name\": \"Eritrea\", \"orientation\": \"v\", \"showlegend\": true, \"stackgroup\": \"1\", \"type\": \"scatter\", \"x\": [1952, 1957, 1962, 1967, 1972, 1977, 1982, 1987, 1992, 1997, 2002, 2007], \"xaxis\": \"x\", \"y\": [328.94055710000004, 344.16188589999996, 380.99584330000005, 468.7949699, 514.3242081999999, 505.7538077, 524.8758493, 521.1341333, 582.8585102000001, 913.4707900000001, 765.3500015, 641.3695236000001], \"yaxis\": \"y\"}, {\"hovertemplate\": \"country=Ethiopia<br>continent=Africa<br>year=%{x}<br>gdpPercap=%{y}<extra></extra>\", \"legendgroup\": \"Ethiopia\", \"line\": {\"color\": \"#00cc96\"}, \"mode\": \"lines\", \"name\": \"Ethiopia\", \"orientation\": \"v\", \"showlegend\": true, \"stackgroup\": \"1\", \"type\": \"scatter\", \"x\": [1952, 1957, 1962, 1967, 1972, 1977, 1982, 1987, 1992, 1997, 2002, 2007], \"xaxis\": \"x\", \"y\": [362.1462796, 378.90416319999997, 419.4564161, 516.1186438, 566.2439442000001, 556.8083834, 577.8607471, 573.7413142000001, 421.3534653, 515.8894013, 530.0535319, 690.8055759], \"yaxis\": \"y\"}, {\"hovertemplate\": \"country=Finland<br>continent=Europe<br>year=%{x}<br>gdpPercap=%{y}<extra></extra>\", \"legendgroup\": \"Finland\", \"line\": {\"color\": \"#ab63fa\"}, \"mode\": \"lines\", \"name\": \"Finland\", \"orientation\": \"v\", \"showlegend\": true, \"stackgroup\": \"1\", \"type\": \"scatter\", \"x\": [1952, 1957, 1962, 1967, 1972, 1977, 1982, 1987, 1992, 1997, 2002, 2007], \"xaxis\": \"x\", \"y\": [6424.519071, 7545.415386, 9371.842561, 10921.63626, 14358.8759, 15605.422830000001, 18533.15761, 21141.01223, 20647.16499, 23723.9502, 28204.59057, 33207.0844], \"yaxis\": \"y\"}, {\"hovertemplate\": \"country=France<br>continent=Europe<br>year=%{x}<br>gdpPercap=%{y}<extra></extra>\", \"legendgroup\": \"France\", \"line\": {\"color\": \"#FFA15A\"}, \"mode\": \"lines\", \"name\": \"France\", \"orientation\": \"v\", \"showlegend\": true, \"stackgroup\": \"1\", \"type\": \"scatter\", \"x\": [1952, 1957, 1962, 1967, 1972, 1977, 1982, 1987, 1992, 1997, 2002, 2007], \"xaxis\": \"x\", \"y\": [7029.809327, 8662.834898000001, 10560.48553, 12999.91766, 16107.19171, 18292.635140000002, 20293.89746, 22066.44214, 24703.79615, 25889.78487, 28926.032339999998, 30470.0167], \"yaxis\": \"y\"}, {\"hovertemplate\": \"country=Gabon<br>continent=Africa<br>year=%{x}<br>gdpPercap=%{y}<extra></extra>\", \"legendgroup\": \"Gabon\", \"line\": {\"color\": \"#19d3f3\"}, \"mode\": \"lines\", \"name\": \"Gabon\", \"orientation\": \"v\", \"showlegend\": true, \"stackgroup\": \"1\", \"type\": \"scatter\", \"x\": [1952, 1957, 1962, 1967, 1972, 1977, 1982, 1987, 1992, 1997, 2002, 2007], \"xaxis\": \"x\", \"y\": [4293.476475, 4976.198099, 6631.4592219999995, 8358.761987, 11401.948409999999, 21745.57328, 15113.36194, 11864.408440000001, 13522.157519999999, 14722.841880000002, 12521.71392, 13206.48452], \"yaxis\": \"y\"}, {\"hovertemplate\": \"country=Gambia<br>continent=Africa<br>year=%{x}<br>gdpPercap=%{y}<extra></extra>\", \"legendgroup\": \"Gambia\", \"line\": {\"color\": \"#FF6692\"}, \"mode\": \"lines\", \"name\": \"Gambia\", \"orientation\": \"v\", \"showlegend\": true, \"stackgroup\": \"1\", \"type\": \"scatter\", \"x\": [1952, 1957, 1962, 1967, 1972, 1977, 1982, 1987, 1992, 1997, 2002, 2007], \"xaxis\": \"x\", \"y\": [485.2306591, 520.9267111, 599.650276, 734.7829124, 756.0868363, 884.7552507000001, 835.8096107999999, 611.6588611000001, 665.6244126, 653.7301704, 660.5855997, 752.7497265], \"yaxis\": \"y\"}, {\"hovertemplate\": \"country=Germany<br>continent=Europe<br>year=%{x}<br>gdpPercap=%{y}<extra></extra>\", \"legendgroup\": \"Germany\", \"line\": {\"color\": \"#B6E880\"}, \"mode\": \"lines\", \"name\": \"Germany\", \"orientation\": \"v\", \"showlegend\": true, \"stackgroup\": \"1\", \"type\": \"scatter\", \"x\": [1952, 1957, 1962, 1967, 1972, 1977, 1982, 1987, 1992, 1997, 2002, 2007], \"xaxis\": \"x\", \"y\": [7144.114393000001, 10187.82665, 12902.46291, 14745.62561, 18016.180269999997, 20512.92123, 22031.532740000002, 24639.18566, 26505.30317, 27788.88416, 30035.80198, 32170.37442], \"yaxis\": \"y\"}, {\"hovertemplate\": \"country=Ghana<br>continent=Africa<br>year=%{x}<br>gdpPercap=%{y}<extra></extra>\", \"legendgroup\": \"Ghana\", \"line\": {\"color\": \"#FF97FF\"}, \"mode\": \"lines\", \"name\": \"Ghana\", \"orientation\": \"v\", \"showlegend\": true, \"stackgroup\": \"1\", \"type\": \"scatter\", \"x\": [1952, 1957, 1962, 1967, 1972, 1977, 1982, 1987, 1992, 1997, 2002, 2007], \"xaxis\": \"x\", \"y\": [911.2989371, 1043.5615369999998, 1190.0411179999999, 1125.69716, 1178.223708, 993.2239571, 876.032569, 847.0061135, 925.0601539999999, 1005.2458119999999, 1111.9845779999998, 1327.60891], \"yaxis\": \"y\"}, {\"hovertemplate\": \"country=Greece<br>continent=Europe<br>year=%{x}<br>gdpPercap=%{y}<extra></extra>\", \"legendgroup\": \"Greece\", \"line\": {\"color\": \"#FECB52\"}, \"mode\": \"lines\", \"name\": \"Greece\", \"orientation\": \"v\", \"showlegend\": true, \"stackgroup\": \"1\", \"type\": \"scatter\", \"x\": [1952, 1957, 1962, 1967, 1972, 1977, 1982, 1987, 1992, 1997, 2002, 2007], \"xaxis\": \"x\", \"y\": [3530.690067, 4916.299889, 6017.190732999999, 8513.097016, 12724.82957, 14195.524280000001, 15268.420890000001, 16120.528390000001, 17541.49634, 18747.69814, 22514.2548, 27538.41188], \"yaxis\": \"y\"}, {\"hovertemplate\": \"country=Guatemala<br>continent=Americas<br>year=%{x}<br>gdpPercap=%{y}<extra></extra>\", \"legendgroup\": \"Guatemala\", \"line\": {\"color\": \"#636efa\"}, \"mode\": \"lines\", \"name\": \"Guatemala\", \"orientation\": \"v\", \"showlegend\": true, \"stackgroup\": \"1\", \"type\": \"scatter\", \"x\": [1952, 1957, 1962, 1967, 1972, 1977, 1982, 1987, 1992, 1997, 2002, 2007], \"xaxis\": \"x\", \"y\": [2428.2377690000003, 2617.155967, 2750.364446, 3242.5311469999997, 4031.4082710000002, 4879.992748, 4820.49479, 4246.485974, 4439.4508399999995, 4684.313807, 4858.347495, 5186.050003], \"yaxis\": \"y\"}, {\"hovertemplate\": \"country=Guinea<br>continent=Africa<br>year=%{x}<br>gdpPercap=%{y}<extra></extra>\", \"legendgroup\": \"Guinea\", \"line\": {\"color\": \"#EF553B\"}, \"mode\": \"lines\", \"name\": \"Guinea\", \"orientation\": \"v\", \"showlegend\": true, \"stackgroup\": \"1\", \"type\": \"scatter\", \"x\": [1952, 1957, 1962, 1967, 1972, 1977, 1982, 1987, 1992, 1997, 2002, 2007], \"xaxis\": \"x\", \"y\": [510.19649230000005, 576.2670245, 686.3736739, 708.7595409, 741.6662307, 874.6858642999999, 857.2503577, 805.5724717999999, 794.3484384, 869.4497667999999, 945.5835837000001, 942.6542111], \"yaxis\": \"y\"}, {\"hovertemplate\": \"country=Guinea-Bissau<br>continent=Africa<br>year=%{x}<br>gdpPercap=%{y}<extra></extra>\", \"legendgroup\": \"Guinea-Bissau\", \"line\": {\"color\": \"#00cc96\"}, \"mode\": \"lines\", \"name\": \"Guinea-Bissau\", \"orientation\": \"v\", \"showlegend\": true, \"stackgroup\": \"1\", \"type\": \"scatter\", \"x\": [1952, 1957, 1962, 1967, 1972, 1977, 1982, 1987, 1992, 1997, 2002, 2007], \"xaxis\": \"x\", \"y\": [299.850319, 431.7904566000001, 522.0343725, 715.5806402000001, 820.2245876000001, 764.7259627999999, 838.1239671, 736.4153921, 745.5398706, 796.6644681, 575.7047176, 579.2317429999999], \"yaxis\": \"y\"}, {\"hovertemplate\": \"country=Haiti<br>continent=Americas<br>year=%{x}<br>gdpPercap=%{y}<extra></extra>\", \"legendgroup\": \"Haiti\", \"line\": {\"color\": \"#ab63fa\"}, \"mode\": \"lines\", \"name\": \"Haiti\", \"orientation\": \"v\", \"showlegend\": true, \"stackgroup\": \"1\", \"type\": \"scatter\", \"x\": [1952, 1957, 1962, 1967, 1972, 1977, 1982, 1987, 1992, 1997, 2002, 2007], \"xaxis\": \"x\", \"y\": [1840.366939, 1726.887882, 1796.589032, 1452.057666, 1654.456946, 1874.2989309999998, 2011.1595489999997, 1823.015995, 1456.309517, 1341.7269310000001, 1270.364932, 1201.637154], \"yaxis\": \"y\"}, {\"hovertemplate\": \"country=Honduras<br>continent=Americas<br>year=%{x}<br>gdpPercap=%{y}<extra></extra>\", \"legendgroup\": \"Honduras\", \"line\": {\"color\": \"#FFA15A\"}, \"mode\": \"lines\", \"name\": \"Honduras\", \"orientation\": \"v\", \"showlegend\": true, \"stackgroup\": \"1\", \"type\": \"scatter\", \"x\": [1952, 1957, 1962, 1967, 1972, 1977, 1982, 1987, 1992, 1997, 2002, 2007], \"xaxis\": \"x\", \"y\": [2194.926204, 2220.487682, 2291.1568350000002, 2538.269358, 2529.842345, 3203.208066, 3121.7607940000003, 3023.0966989999997, 3081.694603, 3160.454906, 3099.72866, 3548.3308460000003], \"yaxis\": \"y\"}, {\"hovertemplate\": \"country=Hong Kong, China<br>continent=Asia<br>year=%{x}<br>gdpPercap=%{y}<extra></extra>\", \"legendgroup\": \"Hong Kong, China\", \"line\": {\"color\": \"#19d3f3\"}, \"mode\": \"lines\", \"name\": \"Hong Kong, China\", \"orientation\": \"v\", \"showlegend\": true, \"stackgroup\": \"1\", \"type\": \"scatter\", \"x\": [1952, 1957, 1962, 1967, 1972, 1977, 1982, 1987, 1992, 1997, 2002, 2007], \"xaxis\": \"x\", \"y\": [3054.421209, 3629.076457, 4692.648271999999, 6197.962814, 8315.928145, 11186.14125, 14560.530509999999, 20038.472690000002, 24757.60301, 28377.632189999997, 30209.015160000003, 39724.97867], \"yaxis\": \"y\"}, {\"hovertemplate\": \"country=Hungary<br>continent=Europe<br>year=%{x}<br>gdpPercap=%{y}<extra></extra>\", \"legendgroup\": \"Hungary\", \"line\": {\"color\": \"#FF6692\"}, \"mode\": \"lines\", \"name\": \"Hungary\", \"orientation\": \"v\", \"showlegend\": true, \"stackgroup\": \"1\", \"type\": \"scatter\", \"x\": [1952, 1957, 1962, 1967, 1972, 1977, 1982, 1987, 1992, 1997, 2002, 2007], \"xaxis\": \"x\", \"y\": [5263.6738159999995, 6040.180011, 7550.359877, 9326.64467, 10168.65611, 11674.837370000001, 12545.99066, 12986.47998, 10535.62855, 11712.7768, 14843.93556, 18008.94444], \"yaxis\": \"y\"}, {\"hovertemplate\": \"country=Iceland<br>continent=Europe<br>year=%{x}<br>gdpPercap=%{y}<extra></extra>\", \"legendgroup\": \"Iceland\", \"line\": {\"color\": \"#B6E880\"}, \"mode\": \"lines\", \"name\": \"Iceland\", \"orientation\": \"v\", \"showlegend\": true, \"stackgroup\": \"1\", \"type\": \"scatter\", \"x\": [1952, 1957, 1962, 1967, 1972, 1977, 1982, 1987, 1992, 1997, 2002, 2007], \"xaxis\": \"x\", \"y\": [7267.688428, 9244.001412, 10350.15906, 13319.89568, 15798.063619999999, 19654.96247, 23269.6075, 26923.206280000002, 25144.39201, 28061.099660000003, 31163.201960000002, 36180.789189999996], \"yaxis\": \"y\"}, {\"hovertemplate\": \"country=India<br>continent=Asia<br>year=%{x}<br>gdpPercap=%{y}<extra></extra>\", \"legendgroup\": \"India\", \"line\": {\"color\": \"#FF97FF\"}, \"mode\": \"lines\", \"name\": \"India\", \"orientation\": \"v\", \"showlegend\": true, \"stackgroup\": \"1\", \"type\": \"scatter\", \"x\": [1952, 1957, 1962, 1967, 1972, 1977, 1982, 1987, 1992, 1997, 2002, 2007], \"xaxis\": \"x\", \"y\": [546.5657493, 590.061996, 658.3471509, 700.7706107000001, 724.032527, 813.3373230000001, 855.7235377000001, 976.5126756000001, 1164.406809, 1458.817442, 1746.769454, 2452.210407], \"yaxis\": \"y\"}, {\"hovertemplate\": \"country=Indonesia<br>continent=Asia<br>year=%{x}<br>gdpPercap=%{y}<extra></extra>\", \"legendgroup\": \"Indonesia\", \"line\": {\"color\": \"#FECB52\"}, \"mode\": \"lines\", \"name\": \"Indonesia\", \"orientation\": \"v\", \"showlegend\": true, \"stackgroup\": \"1\", \"type\": \"scatter\", \"x\": [1952, 1957, 1962, 1967, 1972, 1977, 1982, 1987, 1992, 1997, 2002, 2007], \"xaxis\": \"x\", \"y\": [749.6816546, 858.9002707000001, 849.2897700999999, 762.4317721, 1111.107907, 1382.702056, 1516.872988, 1748.356961, 2383.140898, 3119.335603, 2873.91287, 3540.6515640000002], \"yaxis\": \"y\"}, {\"hovertemplate\": \"country=Iran<br>continent=Asia<br>year=%{x}<br>gdpPercap=%{y}<extra></extra>\", \"legendgroup\": \"Iran\", \"line\": {\"color\": \"#636efa\"}, \"mode\": \"lines\", \"name\": \"Iran\", \"orientation\": \"v\", \"showlegend\": true, \"stackgroup\": \"1\", \"type\": \"scatter\", \"x\": [1952, 1957, 1962, 1967, 1972, 1977, 1982, 1987, 1992, 1997, 2002, 2007], \"xaxis\": \"x\", \"y\": [3035.326002, 3290.257643, 4187.329802, 5906.731804999999, 9613.818607, 11888.59508, 7608.334602, 6642.881371, 7235.653187999999, 8263.590301, 9240.761975, 11605.71449], \"yaxis\": \"y\"}, {\"hovertemplate\": \"country=Iraq<br>continent=Asia<br>year=%{x}<br>gdpPercap=%{y}<extra></extra>\", \"legendgroup\": \"Iraq\", \"line\": {\"color\": \"#EF553B\"}, \"mode\": \"lines\", \"name\": \"Iraq\", \"orientation\": \"v\", \"showlegend\": true, \"stackgroup\": \"1\", \"type\": \"scatter\", \"x\": [1952, 1957, 1962, 1967, 1972, 1977, 1982, 1987, 1992, 1997, 2002, 2007], \"xaxis\": \"x\", \"y\": [4129.766056, 6229.333562, 8341.737815, 8931.459811, 9576.037596, 14688.235069999999, 14517.90711, 11643.57268, 3745.6406869999996, 3076.239795, 4390.717312, 4471.061906], \"yaxis\": \"y\"}, {\"hovertemplate\": \"country=Ireland<br>continent=Europe<br>year=%{x}<br>gdpPercap=%{y}<extra></extra>\", \"legendgroup\": \"Ireland\", \"line\": {\"color\": \"#00cc96\"}, \"mode\": \"lines\", \"name\": \"Ireland\", \"orientation\": \"v\", \"showlegend\": true, \"stackgroup\": \"1\", \"type\": \"scatter\", \"x\": [1952, 1957, 1962, 1967, 1972, 1977, 1982, 1987, 1992, 1997, 2002, 2007], \"xaxis\": \"x\", \"y\": [5210.280328, 5599.077872, 6631.597314, 7655.568963, 9530.772895999999, 11150.98113, 12618.321409999999, 13872.86652, 17558.81555, 24521.94713, 34077.04939, 40675.99635], \"yaxis\": \"y\"}, {\"hovertemplate\": \"country=Israel<br>continent=Asia<br>year=%{x}<br>gdpPercap=%{y}<extra></extra>\", \"legendgroup\": \"Israel\", \"line\": {\"color\": \"#ab63fa\"}, \"mode\": \"lines\", \"name\": \"Israel\", \"orientation\": \"v\", \"showlegend\": true, \"stackgroup\": \"1\", \"type\": \"scatter\", \"x\": [1952, 1957, 1962, 1967, 1972, 1977, 1982, 1987, 1992, 1997, 2002, 2007], \"xaxis\": \"x\", \"y\": [4086.522128, 5385.278451, 7105.630706, 8393.741404, 12786.93223, 13306.619209999999, 15367.0292, 17122.47986, 18051.52254, 20896.60924, 21905.59514, 25523.2771], \"yaxis\": \"y\"}, {\"hovertemplate\": \"country=Italy<br>continent=Europe<br>year=%{x}<br>gdpPercap=%{y}<extra></extra>\", \"legendgroup\": \"Italy\", \"line\": {\"color\": \"#FFA15A\"}, \"mode\": \"lines\", \"name\": \"Italy\", \"orientation\": \"v\", \"showlegend\": true, \"stackgroup\": \"1\", \"type\": \"scatter\", \"x\": [1952, 1957, 1962, 1967, 1972, 1977, 1982, 1987, 1992, 1997, 2002, 2007], \"xaxis\": \"x\", \"y\": [4931.404154999999, 6248.656232, 8243.58234, 10022.40131, 12269.27378, 14255.98475, 16537.4835, 19207.234819999998, 22013.64486, 24675.02446, 27968.098169999997, 28569.7197], \"yaxis\": \"y\"}, {\"hovertemplate\": \"country=Jamaica<br>continent=Americas<br>year=%{x}<br>gdpPercap=%{y}<extra></extra>\", \"legendgroup\": \"Jamaica\", \"line\": {\"color\": \"#19d3f3\"}, \"mode\": \"lines\", \"name\": \"Jamaica\", \"orientation\": \"v\", \"showlegend\": true, \"stackgroup\": \"1\", \"type\": \"scatter\", \"x\": [1952, 1957, 1962, 1967, 1972, 1977, 1982, 1987, 1992, 1997, 2002, 2007], \"xaxis\": \"x\", \"y\": [2898.5308809999997, 4756.525781, 5246.107524, 6124.703450999999, 7433.889293000001, 6650.195573, 6068.05135, 6351.237495, 7404.923685, 7121.924704000001, 6994.774861, 7320.880262000001], \"yaxis\": \"y\"}, {\"hovertemplate\": \"country=Japan<br>continent=Asia<br>year=%{x}<br>gdpPercap=%{y}<extra></extra>\", \"legendgroup\": \"Japan\", \"line\": {\"color\": \"#FF6692\"}, \"mode\": \"lines\", \"name\": \"Japan\", \"orientation\": \"v\", \"showlegend\": true, \"stackgroup\": \"1\", \"type\": \"scatter\", \"x\": [1952, 1957, 1962, 1967, 1972, 1977, 1982, 1987, 1992, 1997, 2002, 2007], \"xaxis\": \"x\", \"y\": [3216.956347, 4317.694365, 6576.649461, 9847.788606999999, 14778.78636, 16610.37701, 19384.10571, 22375.941890000002, 26824.895109999998, 28816.58499, 28604.5919, 31656.06806], \"yaxis\": \"y\"}, {\"hovertemplate\": \"country=Jordan<br>continent=Asia<br>year=%{x}<br>gdpPercap=%{y}<extra></extra>\", \"legendgroup\": \"Jordan\", \"line\": {\"color\": \"#B6E880\"}, \"mode\": \"lines\", \"name\": \"Jordan\", \"orientation\": \"v\", \"showlegend\": true, \"stackgroup\": \"1\", \"type\": \"scatter\", \"x\": [1952, 1957, 1962, 1967, 1972, 1977, 1982, 1987, 1992, 1997, 2002, 2007], \"xaxis\": \"x\", \"y\": [1546.907807, 1886.080591, 2348.009158, 2741.796252, 2110.856309, 2852.351568, 4161.415959, 4448.679912, 3431.5936469999997, 3645.379572, 3844.9171939999997, 4519.461171], \"yaxis\": \"y\"}, {\"hovertemplate\": \"country=Kenya<br>continent=Africa<br>year=%{x}<br>gdpPercap=%{y}<extra></extra>\", \"legendgroup\": \"Kenya\", \"line\": {\"color\": \"#FF97FF\"}, \"mode\": \"lines\", \"name\": \"Kenya\", \"orientation\": \"v\", \"showlegend\": true, \"stackgroup\": \"1\", \"type\": \"scatter\", \"x\": [1952, 1957, 1962, 1967, 1972, 1977, 1982, 1987, 1992, 1997, 2002, 2007], \"xaxis\": \"x\", \"y\": [853.5409189999999, 944.4383152, 896.9663732, 1056.736457, 1222.359968, 1267.613204, 1348.225791, 1361.936856, 1341.9217210000002, 1360.4850210000002, 1287.514732, 1463.249282], \"yaxis\": \"y\"}, {\"hovertemplate\": \"country=Korea, Dem. Rep.<br>continent=Asia<br>year=%{x}<br>gdpPercap=%{y}<extra></extra>\", \"legendgroup\": \"Korea, Dem. Rep.\", \"line\": {\"color\": \"#FECB52\"}, \"mode\": \"lines\", \"name\": \"Korea, Dem. Rep.\", \"orientation\": \"v\", \"showlegend\": true, \"stackgroup\": \"1\", \"type\": \"scatter\", \"x\": [1952, 1957, 1962, 1967, 1972, 1977, 1982, 1987, 1992, 1997, 2002, 2007], \"xaxis\": \"x\", \"y\": [1088.277758, 1571.134655, 1621.693598, 2143.540609, 3701.6215030000003, 4106.301249, 4106.525293, 4106.4923149999995, 3726.063507, 1690.756814, 1646.758151, 1593.06548], \"yaxis\": \"y\"}, {\"hovertemplate\": \"country=Korea, Rep.<br>continent=Asia<br>year=%{x}<br>gdpPercap=%{y}<extra></extra>\", \"legendgroup\": \"Korea, Rep.\", \"line\": {\"color\": \"#636efa\"}, \"mode\": \"lines\", \"name\": \"Korea, Rep.\", \"orientation\": \"v\", \"showlegend\": true, \"stackgroup\": \"1\", \"type\": \"scatter\", \"x\": [1952, 1957, 1962, 1967, 1972, 1977, 1982, 1987, 1992, 1997, 2002, 2007], \"xaxis\": \"x\", \"y\": [1030.592226, 1487.593537, 1536.3443869999999, 2029.2281420000002, 3030.87665, 4657.22102, 5622.942464, 8533.088805, 12104.27872, 15993.52796, 19233.98818, 23348.139730000003], \"yaxis\": \"y\"}, {\"hovertemplate\": \"country=Kuwait<br>continent=Asia<br>year=%{x}<br>gdpPercap=%{y}<extra></extra>\", \"legendgroup\": \"Kuwait\", \"line\": {\"color\": \"#EF553B\"}, \"mode\": \"lines\", \"name\": \"Kuwait\", \"orientation\": \"v\", \"showlegend\": true, \"stackgroup\": \"1\", \"type\": \"scatter\", \"x\": [1952, 1957, 1962, 1967, 1972, 1977, 1982, 1987, 1992, 1997, 2002, 2007], \"xaxis\": \"x\", \"y\": [108382.3529, 113523.1329, 95458.11176, 80894.88326, 109347.867, 59265.477139999995, 31354.03573, 28118.42998, 34932.91959, 40300.61996, 35110.10566, 47306.98978], \"yaxis\": \"y\"}, {\"hovertemplate\": \"country=Lebanon<br>continent=Asia<br>year=%{x}<br>gdpPercap=%{y}<extra></extra>\", \"legendgroup\": \"Lebanon\", \"line\": {\"color\": \"#00cc96\"}, \"mode\": \"lines\", \"name\": \"Lebanon\", \"orientation\": \"v\", \"showlegend\": true, \"stackgroup\": \"1\", \"type\": \"scatter\", \"x\": [1952, 1957, 1962, 1967, 1972, 1977, 1982, 1987, 1992, 1997, 2002, 2007], \"xaxis\": \"x\", \"y\": [4834.804067, 6089.786934000001, 5714.560611, 6006.983042, 7486.384341, 8659.696836, 7640.519520999999, 5377.091329, 6890.806854, 8754.96385, 9313.93883, 10461.05868], \"yaxis\": \"y\"}, {\"hovertemplate\": \"country=Lesotho<br>continent=Africa<br>year=%{x}<br>gdpPercap=%{y}<extra></extra>\", \"legendgroup\": \"Lesotho\", \"line\": {\"color\": \"#ab63fa\"}, \"mode\": \"lines\", \"name\": \"Lesotho\", \"orientation\": \"v\", \"showlegend\": true, \"stackgroup\": \"1\", \"type\": \"scatter\", \"x\": [1952, 1957, 1962, 1967, 1972, 1977, 1982, 1987, 1992, 1997, 2002, 2007], \"xaxis\": \"x\", \"y\": [298.8462121, 335.99711510000003, 411.80062660000004, 498.63902649999994, 496.58159220000005, 745.3695408, 797.2631074, 773.9932140999999, 977.4862724999999, 1186.147994, 1275.184575, 1569.331442], \"yaxis\": \"y\"}, {\"hovertemplate\": \"country=Liberia<br>continent=Africa<br>year=%{x}<br>gdpPercap=%{y}<extra></extra>\", \"legendgroup\": \"Liberia\", \"line\": {\"color\": \"#FFA15A\"}, \"mode\": \"lines\", \"name\": \"Liberia\", \"orientation\": \"v\", \"showlegend\": true, \"stackgroup\": \"1\", \"type\": \"scatter\", \"x\": [1952, 1957, 1962, 1967, 1972, 1977, 1982, 1987, 1992, 1997, 2002, 2007], \"xaxis\": \"x\", \"y\": [575.5729961000001, 620.9699901, 634.1951625, 713.6036482999999, 803.0054535, 640.3224382999999, 572.1995694, 506.1138573, 636.6229191000001, 609.1739508, 531.4823679, 414.5073415], \"yaxis\": \"y\"}, {\"hovertemplate\": \"country=Libya<br>continent=Africa<br>year=%{x}<br>gdpPercap=%{y}<extra></extra>\", \"legendgroup\": \"Libya\", \"line\": {\"color\": \"#19d3f3\"}, \"mode\": \"lines\", \"name\": \"Libya\", \"orientation\": \"v\", \"showlegend\": true, \"stackgroup\": \"1\", \"type\": \"scatter\", \"x\": [1952, 1957, 1962, 1967, 1972, 1977, 1982, 1987, 1992, 1997, 2002, 2007], \"xaxis\": \"x\", \"y\": [2387.54806, 3448.284395, 6757.0308159999995, 18772.75169, 21011.497209999998, 21951.21176, 17364.275380000003, 11770.5898, 9640.138501000001, 9467.446056, 9534.677467, 12057.49928], \"yaxis\": \"y\"}, {\"hovertemplate\": \"country=Madagascar<br>continent=Africa<br>year=%{x}<br>gdpPercap=%{y}<extra></extra>\", \"legendgroup\": \"Madagascar\", \"line\": {\"color\": \"#FF6692\"}, \"mode\": \"lines\", \"name\": \"Madagascar\", \"orientation\": \"v\", \"showlegend\": true, \"stackgroup\": \"1\", \"type\": \"scatter\", \"x\": [1952, 1957, 1962, 1967, 1972, 1977, 1982, 1987, 1992, 1997, 2002, 2007], \"xaxis\": \"x\", \"y\": [1443.011715, 1589.20275, 1643.38711, 1634.047282, 1748.562982, 1544.228586, 1302.878658, 1155.4419480000001, 1040.6761900000001, 986.2958956, 894.6370822, 1044.770126], \"yaxis\": \"y\"}, {\"hovertemplate\": \"country=Malawi<br>continent=Africa<br>year=%{x}<br>gdpPercap=%{y}<extra></extra>\", \"legendgroup\": \"Malawi\", \"line\": {\"color\": \"#B6E880\"}, \"mode\": \"lines\", \"name\": \"Malawi\", \"orientation\": \"v\", \"showlegend\": true, \"stackgroup\": \"1\", \"type\": \"scatter\", \"x\": [1952, 1957, 1962, 1967, 1972, 1977, 1982, 1987, 1992, 1997, 2002, 2007], \"xaxis\": \"x\", \"y\": [369.1650802, 416.36980639999996, 427.90108560000004, 495.5147806, 584.6219709, 663.2236766, 632.8039209, 635.5173633999999, 563.2000145, 692.2758102999999, 665.4231186000001, 759.3499101], \"yaxis\": \"y\"}, {\"hovertemplate\": \"country=Malaysia<br>continent=Asia<br>year=%{x}<br>gdpPercap=%{y}<extra></extra>\", \"legendgroup\": \"Malaysia\", \"line\": {\"color\": \"#FF97FF\"}, \"mode\": \"lines\", \"name\": \"Malaysia\", \"orientation\": \"v\", \"showlegend\": true, \"stackgroup\": \"1\", \"type\": \"scatter\", \"x\": [1952, 1957, 1962, 1967, 1972, 1977, 1982, 1987, 1992, 1997, 2002, 2007], \"xaxis\": \"x\", \"y\": [1831.132894, 1810.0669920000003, 2036.8849440000001, 2277.742396, 2849.09478, 3827.9215710000003, 4920.355951, 5249.802653, 7277.912802, 10132.90964, 10206.97794, 12451.6558], \"yaxis\": \"y\"}, {\"hovertemplate\": \"country=Mali<br>continent=Africa<br>year=%{x}<br>gdpPercap=%{y}<extra></extra>\", \"legendgroup\": \"Mali\", \"line\": {\"color\": \"#FECB52\"}, \"mode\": \"lines\", \"name\": \"Mali\", \"orientation\": \"v\", \"showlegend\": true, \"stackgroup\": \"1\", \"type\": \"scatter\", \"x\": [1952, 1957, 1962, 1967, 1972, 1977, 1982, 1987, 1992, 1997, 2002, 2007], \"xaxis\": \"x\", \"y\": [452.3369807, 490.3821867, 496.17434280000003, 545.0098873, 581.3688761, 686.3952693, 618.0140640999999, 684.1715576, 739.014375, 790.2579846, 951.4097517999999, 1042.581557], \"yaxis\": \"y\"}, {\"hovertemplate\": \"country=Mauritania<br>continent=Africa<br>year=%{x}<br>gdpPercap=%{y}<extra></extra>\", \"legendgroup\": \"Mauritania\", \"line\": {\"color\": \"#636efa\"}, \"mode\": \"lines\", \"name\": \"Mauritania\", \"orientation\": \"v\", \"showlegend\": true, \"stackgroup\": \"1\", \"type\": \"scatter\", \"x\": [1952, 1957, 1962, 1967, 1972, 1977, 1982, 1987, 1992, 1997, 2002, 2007], \"xaxis\": \"x\", \"y\": [743.1159097, 846.1202613, 1055.8960359999999, 1421.145193, 1586.851781, 1497.492223, 1481.150189, 1421.603576, 1361.369784, 1483.1361359999999, 1579.0195429999999, 1803.1514960000002], \"yaxis\": \"y\"}, {\"hovertemplate\": \"country=Mauritius<br>continent=Africa<br>year=%{x}<br>gdpPercap=%{y}<extra></extra>\", \"legendgroup\": \"Mauritius\", \"line\": {\"color\": \"#EF553B\"}, \"mode\": \"lines\", \"name\": \"Mauritius\", \"orientation\": \"v\", \"showlegend\": true, \"stackgroup\": \"1\", \"type\": \"scatter\", \"x\": [1952, 1957, 1962, 1967, 1972, 1977, 1982, 1987, 1992, 1997, 2002, 2007], \"xaxis\": \"x\", \"y\": [1967.955707, 2034.037981, 2529.0674870000003, 2475.387562, 2575.4841579999998, 3710.9829630000004, 3688.037739, 4783.586903, 6058.2538460000005, 7425.705295000001, 9021.815894, 10956.99112], \"yaxis\": \"y\"}, {\"hovertemplate\": \"country=Mexico<br>continent=Americas<br>year=%{x}<br>gdpPercap=%{y}<extra></extra>\", \"legendgroup\": \"Mexico\", \"line\": {\"color\": \"#00cc96\"}, \"mode\": \"lines\", \"name\": \"Mexico\", \"orientation\": \"v\", \"showlegend\": true, \"stackgroup\": \"1\", \"type\": \"scatter\", \"x\": [1952, 1957, 1962, 1967, 1972, 1977, 1982, 1987, 1992, 1997, 2002, 2007], \"xaxis\": \"x\", \"y\": [3478.125529, 4131.546641, 4581.609385, 5754.733883, 6809.406690000001, 7674.929108, 9611.147541, 8688.156003, 9472.384295, 9767.29753, 10742.44053, 11977.57496], \"yaxis\": \"y\"}, {\"hovertemplate\": \"country=Mongolia<br>continent=Asia<br>year=%{x}<br>gdpPercap=%{y}<extra></extra>\", \"legendgroup\": \"Mongolia\", \"line\": {\"color\": \"#ab63fa\"}, \"mode\": \"lines\", \"name\": \"Mongolia\", \"orientation\": \"v\", \"showlegend\": true, \"stackgroup\": \"1\", \"type\": \"scatter\", \"x\": [1952, 1957, 1962, 1967, 1972, 1977, 1982, 1987, 1992, 1997, 2002, 2007], \"xaxis\": \"x\", \"y\": [786.5668575, 912.6626085, 1056.353958, 1226.04113, 1421.741975, 1647.511665, 2000.603139, 2338.008304, 1785.402016, 1902.2521, 2140.7393230000002, 3095.7722710000003], \"yaxis\": \"y\"}, {\"hovertemplate\": \"country=Montenegro<br>continent=Europe<br>year=%{x}<br>gdpPercap=%{y}<extra></extra>\", \"legendgroup\": \"Montenegro\", \"line\": {\"color\": \"#FFA15A\"}, \"mode\": \"lines\", \"name\": \"Montenegro\", \"orientation\": \"v\", \"showlegend\": true, \"stackgroup\": \"1\", \"type\": \"scatter\", \"x\": [1952, 1957, 1962, 1967, 1972, 1977, 1982, 1987, 1992, 1997, 2002, 2007], \"xaxis\": \"x\", \"y\": [2647.585601, 3682.259903, 4649.593785, 5907.850937, 7778.414017, 9595.929904999999, 11222.58762, 11732.51017, 7003.339037000001, 6465.613349, 6557.194282, 9253.896111], \"yaxis\": \"y\"}, {\"hovertemplate\": \"country=Morocco<br>continent=Africa<br>year=%{x}<br>gdpPercap=%{y}<extra></extra>\", \"legendgroup\": \"Morocco\", \"line\": {\"color\": \"#19d3f3\"}, \"mode\": \"lines\", \"name\": \"Morocco\", \"orientation\": \"v\", \"showlegend\": true, \"stackgroup\": \"1\", \"type\": \"scatter\", \"x\": [1952, 1957, 1962, 1967, 1972, 1977, 1982, 1987, 1992, 1997, 2002, 2007], \"xaxis\": \"x\", \"y\": [1688.20357, 1642.002314, 1566.353493, 1711.04477, 1930.194975, 2370.619976, 2702.620356, 2755.046991, 2948.047252, 2982.101858, 3258.495584, 3820.17523], \"yaxis\": \"y\"}, {\"hovertemplate\": \"country=Mozambique<br>continent=Africa<br>year=%{x}<br>gdpPercap=%{y}<extra></extra>\", \"legendgroup\": \"Mozambique\", \"line\": {\"color\": \"#FF6692\"}, \"mode\": \"lines\", \"name\": \"Mozambique\", \"orientation\": \"v\", \"showlegend\": true, \"stackgroup\": \"1\", \"type\": \"scatter\", \"x\": [1952, 1957, 1962, 1967, 1972, 1977, 1982, 1987, 1992, 1997, 2002, 2007], \"xaxis\": \"x\", \"y\": [468.5260381, 495.5868333000001, 556.6863539, 566.6691539, 724.9178037, 502.31973339999996, 462.2114149, 389.87618460000004, 410.89682389999996, 472.34607710000006, 633.6179466, 823.6856205], \"yaxis\": \"y\"}, {\"hovertemplate\": \"country=Myanmar<br>continent=Asia<br>year=%{x}<br>gdpPercap=%{y}<extra></extra>\", \"legendgroup\": \"Myanmar\", \"line\": {\"color\": \"#B6E880\"}, \"mode\": \"lines\", \"name\": \"Myanmar\", \"orientation\": \"v\", \"showlegend\": true, \"stackgroup\": \"1\", \"type\": \"scatter\", \"x\": [1952, 1957, 1962, 1967, 1972, 1977, 1982, 1987, 1992, 1997, 2002, 2007], \"xaxis\": \"x\", \"y\": [331.0, 350.0, 388.0, 349.0, 357.0, 371.0, 424.0, 385.0, 347.0, 415.0, 611.0, 944.0], \"yaxis\": \"y\"}, {\"hovertemplate\": \"country=Namibia<br>continent=Africa<br>year=%{x}<br>gdpPercap=%{y}<extra></extra>\", \"legendgroup\": \"Namibia\", \"line\": {\"color\": \"#FF97FF\"}, \"mode\": \"lines\", \"name\": \"Namibia\", \"orientation\": \"v\", \"showlegend\": true, \"stackgroup\": \"1\", \"type\": \"scatter\", \"x\": [1952, 1957, 1962, 1967, 1972, 1977, 1982, 1987, 1992, 1997, 2002, 2007], \"xaxis\": \"x\", \"y\": [2423.780443, 2621.448058, 3173.215595, 3793.694753, 3746.080948, 3876.4859579999998, 4191.100511, 3693.7313369999997, 3804.537999, 3899.52426, 4072.3247509999997, 4811.060429], \"yaxis\": \"y\"}, {\"hovertemplate\": \"country=Nepal<br>continent=Asia<br>year=%{x}<br>gdpPercap=%{y}<extra></extra>\", \"legendgroup\": \"Nepal\", \"line\": {\"color\": \"#FECB52\"}, \"mode\": \"lines\", \"name\": \"Nepal\", \"orientation\": \"v\", \"showlegend\": true, \"stackgroup\": \"1\", \"type\": \"scatter\", \"x\": [1952, 1957, 1962, 1967, 1972, 1977, 1982, 1987, 1992, 1997, 2002, 2007], \"xaxis\": \"x\", \"y\": [545.8657228999999, 597.9363557999999, 652.3968593, 676.4422254, 674.7881296, 694.1124398, 718.3730947, 775.6324501, 897.7403604, 1010.892138, 1057.206311, 1091.359778], \"yaxis\": \"y\"}, {\"hovertemplate\": \"country=Netherlands<br>continent=Europe<br>year=%{x}<br>gdpPercap=%{y}<extra></extra>\", \"legendgroup\": \"Netherlands\", \"line\": {\"color\": \"#636efa\"}, \"mode\": \"lines\", \"name\": \"Netherlands\", \"orientation\": \"v\", \"showlegend\": true, \"stackgroup\": \"1\", \"type\": \"scatter\", \"x\": [1952, 1957, 1962, 1967, 1972, 1977, 1982, 1987, 1992, 1997, 2002, 2007], \"xaxis\": \"x\", \"y\": [8941.571858, 11276.193440000001, 12790.849559999999, 15363.25136, 18794.74567, 21209.0592, 21399.46046, 23651.32361, 26790.94961, 30246.13063, 33724.75778, 36797.93332], \"yaxis\": \"y\"}, {\"hovertemplate\": \"country=New Zealand<br>continent=Oceania<br>year=%{x}<br>gdpPercap=%{y}<extra></extra>\", \"legendgroup\": \"New Zealand\", \"line\": {\"color\": \"#EF553B\"}, \"mode\": \"lines\", \"name\": \"New Zealand\", \"orientation\": \"v\", \"showlegend\": true, \"stackgroup\": \"1\", \"type\": \"scatter\", \"x\": [1952, 1957, 1962, 1967, 1972, 1977, 1982, 1987, 1992, 1997, 2002, 2007], \"xaxis\": \"x\", \"y\": [10556.575659999999, 12247.39532, 13175.678, 14463.918930000002, 16046.03728, 16233.7177, 17632.4104, 19007.19129, 18363.324940000002, 21050.41377, 23189.80135, 25185.00911], \"yaxis\": \"y\"}, {\"hovertemplate\": \"country=Nicaragua<br>continent=Americas<br>year=%{x}<br>gdpPercap=%{y}<extra></extra>\", \"legendgroup\": \"Nicaragua\", \"line\": {\"color\": \"#00cc96\"}, \"mode\": \"lines\", \"name\": \"Nicaragua\", \"orientation\": \"v\", \"showlegend\": true, \"stackgroup\": \"1\", \"type\": \"scatter\", \"x\": [1952, 1957, 1962, 1967, 1972, 1977, 1982, 1987, 1992, 1997, 2002, 2007], \"xaxis\": \"x\", \"y\": [3112.363948, 3457.415947, 3634.364406, 4643.393534000001, 4688.593267, 5486.371089, 3470.3381560000003, 2955.984375, 2170.151724, 2253.023004, 2474.548819, 2749.320965], \"yaxis\": \"y\"}, {\"hovertemplate\": \"country=Niger<br>continent=Africa<br>year=%{x}<br>gdpPercap=%{y}<extra></extra>\", \"legendgroup\": \"Niger\", \"line\": {\"color\": \"#ab63fa\"}, \"mode\": \"lines\", \"name\": \"Niger\", \"orientation\": \"v\", \"showlegend\": true, \"stackgroup\": \"1\", \"type\": \"scatter\", \"x\": [1952, 1957, 1962, 1967, 1972, 1977, 1982, 1987, 1992, 1997, 2002, 2007], \"xaxis\": \"x\", \"y\": [761.879376, 835.5234025000001, 997.7661127, 1054.384891, 954.2092363, 808.8970727999999, 909.7221354000001, 668.3000228, 581.182725, 580.3052092, 601.0745012, 619.6768923999999], \"yaxis\": \"y\"}, {\"hovertemplate\": \"country=Nigeria<br>continent=Africa<br>year=%{x}<br>gdpPercap=%{y}<extra></extra>\", \"legendgroup\": \"Nigeria\", \"line\": {\"color\": \"#FFA15A\"}, \"mode\": \"lines\", \"name\": \"Nigeria\", \"orientation\": \"v\", \"showlegend\": true, \"stackgroup\": \"1\", \"type\": \"scatter\", \"x\": [1952, 1957, 1962, 1967, 1972, 1977, 1982, 1987, 1992, 1997, 2002, 2007], \"xaxis\": \"x\", \"y\": [1077.281856, 1100.5925630000002, 1150.9274779999998, 1014.5141039999999, 1698.3888379999999, 1981.9518059999998, 1576.97375, 1385.029563, 1619.848217, 1624.941275, 1615.2863949999999, 2013.9773050000001], \"yaxis\": \"y\"}, {\"hovertemplate\": \"country=Norway<br>continent=Europe<br>year=%{x}<br>gdpPercap=%{y}<extra></extra>\", \"legendgroup\": \"Norway\", \"line\": {\"color\": \"#19d3f3\"}, \"mode\": \"lines\", \"name\": \"Norway\", \"orientation\": \"v\", \"showlegend\": true, \"stackgroup\": \"1\", \"type\": \"scatter\", \"x\": [1952, 1957, 1962, 1967, 1972, 1977, 1982, 1987, 1992, 1997, 2002, 2007], \"xaxis\": \"x\", \"y\": [10095.42172, 11653.97304, 13450.40151, 16361.87647, 18965.05551, 23311.34939, 26298.635309999998, 31540.9748, 33965.66115, 41283.16433, 44683.97525, 49357.19017], \"yaxis\": \"y\"}, {\"hovertemplate\": \"country=Oman<br>continent=Asia<br>year=%{x}<br>gdpPercap=%{y}<extra></extra>\", \"legendgroup\": \"Oman\", \"line\": {\"color\": \"#FF6692\"}, \"mode\": \"lines\", \"name\": \"Oman\", \"orientation\": \"v\", \"showlegend\": true, \"stackgroup\": \"1\", \"type\": \"scatter\", \"x\": [1952, 1957, 1962, 1967, 1972, 1977, 1982, 1987, 1992, 1997, 2002, 2007], \"xaxis\": \"x\", \"y\": [1828.230307, 2242.746551, 2924.638113, 4720.942687, 10618.03855, 11848.343920000001, 12954.791009999999, 18115.223130000002, 18616.70691, 19702.055809999998, 19774.83687, 22316.19287], \"yaxis\": \"y\"}, {\"hovertemplate\": \"country=Pakistan<br>continent=Asia<br>year=%{x}<br>gdpPercap=%{y}<extra></extra>\", \"legendgroup\": \"Pakistan\", \"line\": {\"color\": \"#B6E880\"}, \"mode\": \"lines\", \"name\": \"Pakistan\", \"orientation\": \"v\", \"showlegend\": true, \"stackgroup\": \"1\", \"type\": \"scatter\", \"x\": [1952, 1957, 1962, 1967, 1972, 1977, 1982, 1987, 1992, 1997, 2002, 2007], \"xaxis\": \"x\", \"y\": [684.5971437999999, 747.0835292, 803.3427418, 942.4082588, 1049.938981, 1175.921193, 1443.429832, 1704.686583, 1971.8294640000001, 2049.3505210000003, 2092.712441, 2605.94758], \"yaxis\": \"y\"}, {\"hovertemplate\": \"country=Panama<br>continent=Americas<br>year=%{x}<br>gdpPercap=%{y}<extra></extra>\", \"legendgroup\": \"Panama\", \"line\": {\"color\": \"#FF97FF\"}, \"mode\": \"lines\", \"name\": \"Panama\", \"orientation\": \"v\", \"showlegend\": true, \"stackgroup\": \"1\", \"type\": \"scatter\", \"x\": [1952, 1957, 1962, 1967, 1972, 1977, 1982, 1987, 1992, 1997, 2002, 2007], \"xaxis\": \"x\", \"y\": [2480.380334, 2961.800905, 3536.540301, 4421.009084, 5364.2496630000005, 5351.912144, 7009.601598, 7034.779161, 6618.74305, 7113.692252, 7356.031934000001, 9809.185636], \"yaxis\": \"y\"}, {\"hovertemplate\": \"country=Paraguay<br>continent=Americas<br>year=%{x}<br>gdpPercap=%{y}<extra></extra>\", \"legendgroup\": \"Paraguay\", \"line\": {\"color\": \"#FECB52\"}, \"mode\": \"lines\", \"name\": \"Paraguay\", \"orientation\": \"v\", \"showlegend\": true, \"stackgroup\": \"1\", \"type\": \"scatter\", \"x\": [1952, 1957, 1962, 1967, 1972, 1977, 1982, 1987, 1992, 1997, 2002, 2007], \"xaxis\": \"x\", \"y\": [1952.3087010000002, 2046.1547059999998, 2148.027146, 2299.376311, 2523.337977, 3248.373311, 4258.5036039999995, 3998.875695, 4196.411078, 4247.400261, 3783.674243, 4172.838464], \"yaxis\": \"y\"}, {\"hovertemplate\": \"country=Peru<br>continent=Americas<br>year=%{x}<br>gdpPercap=%{y}<extra></extra>\", \"legendgroup\": \"Peru\", \"line\": {\"color\": \"#636efa\"}, \"mode\": \"lines\", \"name\": \"Peru\", \"orientation\": \"v\", \"showlegend\": true, \"stackgroup\": \"1\", \"type\": \"scatter\", \"x\": [1952, 1957, 1962, 1967, 1972, 1977, 1982, 1987, 1992, 1997, 2002, 2007], \"xaxis\": \"x\", \"y\": [3758.523437, 4245.256697999999, 4957.037982, 5788.09333, 5937.827283, 6281.290854999999, 6434.501797, 6360.9434439999995, 4446.380924, 5838.347657, 5909.020073, 7408.905561], \"yaxis\": \"y\"}, {\"hovertemplate\": \"country=Philippines<br>continent=Asia<br>year=%{x}<br>gdpPercap=%{y}<extra></extra>\", \"legendgroup\": \"Philippines\", \"line\": {\"color\": \"#EF553B\"}, \"mode\": \"lines\", \"name\": \"Philippines\", \"orientation\": \"v\", \"showlegend\": true, \"stackgroup\": \"1\", \"type\": \"scatter\", \"x\": [1952, 1957, 1962, 1967, 1972, 1977, 1982, 1987, 1992, 1997, 2002, 2007], \"xaxis\": \"x\", \"y\": [1272.880995, 1547.9448439999999, 1649.5521529999999, 1814.12743, 1989.3740699999998, 2373.204287, 2603.273765, 2189.634995, 2279.3240170000004, 2536.534925, 2650.921068, 3190.481016], \"yaxis\": \"y\"}, {\"hovertemplate\": \"country=Poland<br>continent=Europe<br>year=%{x}<br>gdpPercap=%{y}<extra></extra>\", \"legendgroup\": \"Poland\", \"line\": {\"color\": \"#00cc96\"}, \"mode\": \"lines\", \"name\": \"Poland\", \"orientation\": \"v\", \"showlegend\": true, \"stackgroup\": \"1\", \"type\": \"scatter\", \"x\": [1952, 1957, 1962, 1967, 1972, 1977, 1982, 1987, 1992, 1997, 2002, 2007], \"xaxis\": \"x\", \"y\": [4029.3296990000003, 4734.253019, 5338.752143, 6557.152776, 8006.506993000001, 9508.141454, 8451.531004, 9082.351172, 7738.881247, 10159.58368, 12002.23908, 15389.924680000002], \"yaxis\": \"y\"}, {\"hovertemplate\": \"country=Portugal<br>continent=Europe<br>year=%{x}<br>gdpPercap=%{y}<extra></extra>\", \"legendgroup\": \"Portugal\", \"line\": {\"color\": \"#ab63fa\"}, \"mode\": \"lines\", \"name\": \"Portugal\", \"orientation\": \"v\", \"showlegend\": true, \"stackgroup\": \"1\", \"type\": \"scatter\", \"x\": [1952, 1957, 1962, 1967, 1972, 1977, 1982, 1987, 1992, 1997, 2002, 2007], \"xaxis\": \"x\", \"y\": [3068.319867, 3774.571743, 4727.954889, 6361.517993, 9022.247417, 10172.48572, 11753.84291, 13039.30876, 16207.266630000002, 17641.03156, 19970.90787, 20509.64777], \"yaxis\": \"y\"}, {\"hovertemplate\": \"country=Puerto Rico<br>continent=Americas<br>year=%{x}<br>gdpPercap=%{y}<extra></extra>\", \"legendgroup\": \"Puerto Rico\", \"line\": {\"color\": \"#FFA15A\"}, \"mode\": \"lines\", \"name\": \"Puerto Rico\", \"orientation\": \"v\", \"showlegend\": true, \"stackgroup\": \"1\", \"type\": \"scatter\", \"x\": [1952, 1957, 1962, 1967, 1972, 1977, 1982, 1987, 1992, 1997, 2002, 2007], \"xaxis\": \"x\", \"y\": [3081.959785, 3907.1561890000003, 5108.34463, 6929.277714, 9123.041742, 9770.524921, 10330.98915, 12281.34191, 14641.587109999999, 16999.4333, 18855.606180000002, 19328.70901], \"yaxis\": \"y\"}, {\"hovertemplate\": \"country=Reunion<br>continent=Africa<br>year=%{x}<br>gdpPercap=%{y}<extra></extra>\", \"legendgroup\": \"Reunion\", \"line\": {\"color\": \"#19d3f3\"}, \"mode\": \"lines\", \"name\": \"Reunion\", \"orientation\": \"v\", \"showlegend\": true, \"stackgroup\": \"1\", \"type\": \"scatter\", \"x\": [1952, 1957, 1962, 1967, 1972, 1977, 1982, 1987, 1992, 1997, 2002, 2007], \"xaxis\": \"x\", \"y\": [2718.885295, 2769.451844, 3173.72334, 4021.1757390000002, 5047.658563, 4319.804067, 5267.219353, 5303.377488, 6101.2558229999995, 6071.941411, 6316.1652, 7670.122558], \"yaxis\": \"y\"}, {\"hovertemplate\": \"country=Romania<br>continent=Europe<br>year=%{x}<br>gdpPercap=%{y}<extra></extra>\", \"legendgroup\": \"Romania\", \"line\": {\"color\": \"#FF6692\"}, \"mode\": \"lines\", \"name\": \"Romania\", \"orientation\": \"v\", \"showlegend\": true, \"stackgroup\": \"1\", \"type\": \"scatter\", \"x\": [1952, 1957, 1962, 1967, 1972, 1977, 1982, 1987, 1992, 1997, 2002, 2007], \"xaxis\": \"x\", \"y\": [3144.613186, 3943.370225, 4734.9975859999995, 6470.866545, 8011.414401999999, 9356.39724, 9605.314053, 9696.273295, 6598.409903, 7346.547556999999, 7885.360081, 10808.47561], \"yaxis\": \"y\"}, {\"hovertemplate\": \"country=Rwanda<br>continent=Africa<br>year=%{x}<br>gdpPercap=%{y}<extra></extra>\", \"legendgroup\": \"Rwanda\", \"line\": {\"color\": \"#B6E880\"}, \"mode\": \"lines\", \"name\": \"Rwanda\", \"orientation\": \"v\", \"showlegend\": true, \"stackgroup\": \"1\", \"type\": \"scatter\", \"x\": [1952, 1957, 1962, 1967, 1972, 1977, 1982, 1987, 1992, 1997, 2002, 2007], \"xaxis\": \"x\", \"y\": [493.32387520000003, 540.2893982999999, 597.4730727000001, 510.9637142, 590.5806637999999, 670.0806011, 881.5706467, 847.991217, 737.0685949, 589.9445051, 785.6537647999999, 863.0884639000001], \"yaxis\": \"y\"}, {\"hovertemplate\": \"country=Sao Tome and Principe<br>continent=Africa<br>year=%{x}<br>gdpPercap=%{y}<extra></extra>\", \"legendgroup\": \"Sao Tome and Principe\", \"line\": {\"color\": \"#FF97FF\"}, \"mode\": \"lines\", \"name\": \"Sao Tome and Principe\", \"orientation\": \"v\", \"showlegend\": true, \"stackgroup\": \"1\", \"type\": \"scatter\", \"x\": [1952, 1957, 1962, 1967, 1972, 1977, 1982, 1987, 1992, 1997, 2002, 2007], \"xaxis\": \"x\", \"y\": [879.5835855, 860.7369026, 1071.551119, 1384.840593, 1532.985254, 1737.561657, 1890.2181170000001, 1516.525457, 1428.777814, 1339.076036, 1353.09239, 1598.435089], \"yaxis\": \"y\"}, {\"hovertemplate\": \"country=Saudi Arabia<br>continent=Asia<br>year=%{x}<br>gdpPercap=%{y}<extra></extra>\", \"legendgroup\": \"Saudi Arabia\", \"line\": {\"color\": \"#FECB52\"}, \"mode\": \"lines\", \"name\": \"Saudi Arabia\", \"orientation\": \"v\", \"showlegend\": true, \"stackgroup\": \"1\", \"type\": \"scatter\", \"x\": [1952, 1957, 1962, 1967, 1972, 1977, 1982, 1987, 1992, 1997, 2002, 2007], \"xaxis\": \"x\", \"y\": [6459.5548229999995, 8157.591248000001, 11626.41975, 16903.04886, 24837.42865, 34167.7626, 33693.17525, 21198.26136, 24841.617769999997, 20586.69019, 19014.54118, 21654.83194], \"yaxis\": \"y\"}, {\"hovertemplate\": \"country=Senegal<br>continent=Africa<br>year=%{x}<br>gdpPercap=%{y}<extra></extra>\", \"legendgroup\": \"Senegal\", \"line\": {\"color\": \"#636efa\"}, \"mode\": \"lines\", \"name\": \"Senegal\", \"orientation\": \"v\", \"showlegend\": true, \"stackgroup\": \"1\", \"type\": \"scatter\", \"x\": [1952, 1957, 1962, 1967, 1972, 1977, 1982, 1987, 1992, 1997, 2002, 2007], \"xaxis\": \"x\", \"y\": [1450.356983, 1567.653006, 1654.988723, 1612.404632, 1597.712056, 1561.769116, 1518.479984, 1441.72072, 1367.899369, 1392.368347, 1519.635262, 1712.4721359999999], \"yaxis\": \"y\"}, {\"hovertemplate\": \"country=Serbia<br>continent=Europe<br>year=%{x}<br>gdpPercap=%{y}<extra></extra>\", \"legendgroup\": \"Serbia\", \"line\": {\"color\": \"#EF553B\"}, \"mode\": \"lines\", \"name\": \"Serbia\", \"orientation\": \"v\", \"showlegend\": true, \"stackgroup\": \"1\", \"type\": \"scatter\", \"x\": [1952, 1957, 1962, 1967, 1972, 1977, 1982, 1987, 1992, 1997, 2002, 2007], \"xaxis\": \"x\", \"y\": [3581.4594479999996, 4981.090891, 6289.629157, 7991.707066, 10522.067490000001, 12980.66956, 15181.0927, 15870.878509999999, 9325.068238, 7914.320304000001, 7236.075251, 9786.534714], \"yaxis\": \"y\"}, {\"hovertemplate\": \"country=Sierra Leone<br>continent=Africa<br>year=%{x}<br>gdpPercap=%{y}<extra></extra>\", \"legendgroup\": \"Sierra Leone\", \"line\": {\"color\": \"#00cc96\"}, \"mode\": \"lines\", \"name\": \"Sierra Leone\", \"orientation\": \"v\", \"showlegend\": true, \"stackgroup\": \"1\", \"type\": \"scatter\", \"x\": [1952, 1957, 1962, 1967, 1972, 1977, 1982, 1987, 1992, 1997, 2002, 2007], \"xaxis\": \"x\", \"y\": [879.7877358, 1004.484437, 1116.6398769999998, 1206.043465, 1353.759762, 1348.285159, 1465.010784, 1294.4477880000002, 1068.696278, 574.6481576, 699.4897129999999, 862.5407561000001], \"yaxis\": \"y\"}, {\"hovertemplate\": \"country=Singapore<br>continent=Asia<br>year=%{x}<br>gdpPercap=%{y}<extra></extra>\", \"legendgroup\": \"Singapore\", \"line\": {\"color\": \"#ab63fa\"}, \"mode\": \"lines\", \"name\": \"Singapore\", \"orientation\": \"v\", \"showlegend\": true, \"stackgroup\": \"1\", \"type\": \"scatter\", \"x\": [1952, 1957, 1962, 1967, 1972, 1977, 1982, 1987, 1992, 1997, 2002, 2007], \"xaxis\": \"x\", \"y\": [2315.138227, 2843.104409, 3674.735572, 4977.41854, 8597.756202, 11210.08948, 15169.161119999999, 18861.53081, 24769.8912, 33519.4766, 36023.1054, 47143.179639999995], \"yaxis\": \"y\"}, {\"hovertemplate\": \"country=Slovak Republic<br>continent=Europe<br>year=%{x}<br>gdpPercap=%{y}<extra></extra>\", \"legendgroup\": \"Slovak Republic\", \"line\": {\"color\": \"#FFA15A\"}, \"mode\": \"lines\", \"name\": \"Slovak Republic\", \"orientation\": \"v\", \"showlegend\": true, \"stackgroup\": \"1\", \"type\": \"scatter\", \"x\": [1952, 1957, 1962, 1967, 1972, 1977, 1982, 1987, 1992, 1997, 2002, 2007], \"xaxis\": \"x\", \"y\": [5074.659104, 6093.2629799999995, 7481.1075980000005, 8412.902397, 9674.167626, 10922.664040000001, 11348.54585, 12037.26758, 9498.467723, 12126.23065, 13638.778369999998, 18678.31435], \"yaxis\": \"y\"}, {\"hovertemplate\": \"country=Slovenia<br>continent=Europe<br>year=%{x}<br>gdpPercap=%{y}<extra></extra>\", \"legendgroup\": \"Slovenia\", \"line\": {\"color\": \"#19d3f3\"}, \"mode\": \"lines\", \"name\": \"Slovenia\", \"orientation\": \"v\", \"showlegend\": true, \"stackgroup\": \"1\", \"type\": \"scatter\", \"x\": [1952, 1957, 1962, 1967, 1972, 1977, 1982, 1987, 1992, 1997, 2002, 2007], \"xaxis\": \"x\", \"y\": [4215.041741, 5862.276629, 7402.303395, 9405.489397, 12383.4862, 15277.030169999998, 17866.72175, 18678.53492, 14214.71681, 17161.10735, 20660.01936, 25768.25759], \"yaxis\": \"y\"}, {\"hovertemplate\": \"country=Somalia<br>continent=Africa<br>year=%{x}<br>gdpPercap=%{y}<extra></extra>\", \"legendgroup\": \"Somalia\", \"line\": {\"color\": \"#FF6692\"}, \"mode\": \"lines\", \"name\": \"Somalia\", \"orientation\": \"v\", \"showlegend\": true, \"stackgroup\": \"1\", \"type\": \"scatter\", \"x\": [1952, 1957, 1962, 1967, 1972, 1977, 1982, 1987, 1992, 1997, 2002, 2007], \"xaxis\": \"x\", \"y\": [1135.749842, 1258.1474130000001, 1369.488336, 1284.7331800000002, 1254.576127, 1450.9925130000001, 1176.807031, 1093.244963, 926.9602964, 930.5964284, 882.0818218000001, 926.1410683], \"yaxis\": \"y\"}, {\"hovertemplate\": \"country=South Africa<br>continent=Africa<br>year=%{x}<br>gdpPercap=%{y}<extra></extra>\", \"legendgroup\": \"South Africa\", \"line\": {\"color\": \"#B6E880\"}, \"mode\": \"lines\", \"name\": \"South Africa\", \"orientation\": \"v\", \"showlegend\": true, \"stackgroup\": \"1\", \"type\": \"scatter\", \"x\": [1952, 1957, 1962, 1967, 1972, 1977, 1982, 1987, 1992, 1997, 2002, 2007], \"xaxis\": \"x\", \"y\": [4725.295531000001, 5487.104219, 5768.729717, 7114.477970999999, 7765.962636, 8028.651439, 8568.266228, 7825.823398, 7225.0692579999995, 7479.188244, 7710.946444, 9269.657808], \"yaxis\": \"y\"}, {\"hovertemplate\": \"country=Spain<br>continent=Europe<br>year=%{x}<br>gdpPercap=%{y}<extra></extra>\", \"legendgroup\": \"Spain\", \"line\": {\"color\": \"#FF97FF\"}, \"mode\": \"lines\", \"name\": \"Spain\", \"orientation\": \"v\", \"showlegend\": true, \"stackgroup\": \"1\", \"type\": \"scatter\", \"x\": [1952, 1957, 1962, 1967, 1972, 1977, 1982, 1987, 1992, 1997, 2002, 2007], \"xaxis\": \"x\", \"y\": [3834.0347420000003, 4564.80241, 5693.843879, 7993.512294, 10638.75131, 13236.92117, 13926.169969999999, 15764.98313, 18603.06452, 20445.29896, 24835.47166, 28821.0637], \"yaxis\": \"y\"}, {\"hovertemplate\": \"country=Sri Lanka<br>continent=Asia<br>year=%{x}<br>gdpPercap=%{y}<extra></extra>\", \"legendgroup\": \"Sri Lanka\", \"line\": {\"color\": \"#FECB52\"}, \"mode\": \"lines\", \"name\": \"Sri Lanka\", \"orientation\": \"v\", \"showlegend\": true, \"stackgroup\": \"1\", \"type\": \"scatter\", \"x\": [1952, 1957, 1962, 1967, 1972, 1977, 1982, 1987, 1992, 1997, 2002, 2007], \"xaxis\": \"x\", \"y\": [1083.53203, 1072.546602, 1074.4719599999999, 1135.514326, 1213.39553, 1348.775651, 1648.0797890000001, 1876.766827, 2153.7392219999997, 2664.477257, 3015.3788329999998, 3970.0954070000003], \"yaxis\": \"y\"}, {\"hovertemplate\": \"country=Sudan<br>continent=Africa<br>year=%{x}<br>gdpPercap=%{y}<extra></extra>\", \"legendgroup\": \"Sudan\", \"line\": {\"color\": \"#636efa\"}, \"mode\": \"lines\", \"name\": \"Sudan\", \"orientation\": \"v\", \"showlegend\": true, \"stackgroup\": \"1\", \"type\": \"scatter\", \"x\": [1952, 1957, 1962, 1967, 1972, 1977, 1982, 1987, 1992, 1997, 2002, 2007], \"xaxis\": \"x\", \"y\": [1615.991129, 1770.3370739999998, 1959.593767, 1687.997641, 1659.652775, 2202.9884230000002, 1895.544073, 1507.819159, 1492.197043, 1632.2107640000002, 1993.398314, 2602.394995], \"yaxis\": \"y\"}, {\"hovertemplate\": \"country=Swaziland<br>continent=Africa<br>year=%{x}<br>gdpPercap=%{y}<extra></extra>\", \"legendgroup\": \"Swaziland\", \"line\": {\"color\": \"#EF553B\"}, \"mode\": \"lines\", \"name\": \"Swaziland\", \"orientation\": \"v\", \"showlegend\": true, \"stackgroup\": \"1\", \"type\": \"scatter\", \"x\": [1952, 1957, 1962, 1967, 1972, 1977, 1982, 1987, 1992, 1997, 2002, 2007], \"xaxis\": \"x\", \"y\": [1148.376626, 1244.708364, 1856.182125, 2613.1016649999997, 3364.836625, 3781.410618, 3895.384018, 3984.8398119999997, 3553.0224, 3876.7684600000002, 4128.116943, 4513.480643], \"yaxis\": \"y\"}, {\"hovertemplate\": \"country=Sweden<br>continent=Europe<br>year=%{x}<br>gdpPercap=%{y}<extra></extra>\", \"legendgroup\": \"Sweden\", \"line\": {\"color\": \"#00cc96\"}, \"mode\": \"lines\", \"name\": \"Sweden\", \"orientation\": \"v\", \"showlegend\": true, \"stackgroup\": \"1\", \"type\": \"scatter\", \"x\": [1952, 1957, 1962, 1967, 1972, 1977, 1982, 1987, 1992, 1997, 2002, 2007], \"xaxis\": \"x\", \"y\": [8527.844662000001, 9911.878226, 12329.441920000001, 15258.29697, 17832.02464, 18855.72521, 20667.38125, 23586.92927, 23880.01683, 25266.59499, 29341.630930000003, 33859.74835], \"yaxis\": \"y\"}, {\"hovertemplate\": \"country=Switzerland<br>continent=Europe<br>year=%{x}<br>gdpPercap=%{y}<extra></extra>\", \"legendgroup\": \"Switzerland\", \"line\": {\"color\": \"#ab63fa\"}, \"mode\": \"lines\", \"name\": \"Switzerland\", \"orientation\": \"v\", \"showlegend\": true, \"stackgroup\": \"1\", \"type\": \"scatter\", \"x\": [1952, 1957, 1962, 1967, 1972, 1977, 1982, 1987, 1992, 1997, 2002, 2007], \"xaxis\": \"x\", \"y\": [14734.23275, 17909.48973, 20431.0927, 22966.14432, 27195.113039999997, 26982.29052, 28397.715119999997, 30281.704589999998, 31871.5303, 32135.323010000004, 34480.95771, 37506.419069999996], \"yaxis\": \"y\"}, {\"hovertemplate\": \"country=Syria<br>continent=Asia<br>year=%{x}<br>gdpPercap=%{y}<extra></extra>\", \"legendgroup\": \"Syria\", \"line\": {\"color\": \"#FFA15A\"}, \"mode\": \"lines\", \"name\": \"Syria\", \"orientation\": \"v\", \"showlegend\": true, \"stackgroup\": \"1\", \"type\": \"scatter\", \"x\": [1952, 1957, 1962, 1967, 1972, 1977, 1982, 1987, 1992, 1997, 2002, 2007], \"xaxis\": \"x\", \"y\": [1643.485354, 2117.234893, 2193.037133, 1881.923632, 2571.423014, 3195.484582, 3761.8377149999997, 3116.774285, 3340.542768, 4014.238972, 4090.9253310000004, 4184.548089], \"yaxis\": \"y\"}, {\"hovertemplate\": \"country=Taiwan<br>continent=Asia<br>year=%{x}<br>gdpPercap=%{y}<extra></extra>\", \"legendgroup\": \"Taiwan\", \"line\": {\"color\": \"#19d3f3\"}, \"mode\": \"lines\", \"name\": \"Taiwan\", \"orientation\": \"v\", \"showlegend\": true, \"stackgroup\": \"1\", \"type\": \"scatter\", \"x\": [1952, 1957, 1962, 1967, 1972, 1977, 1982, 1987, 1992, 1997, 2002, 2007], \"xaxis\": \"x\", \"y\": [1206.947913, 1507.86129, 1822.879028, 2643.8586809999997, 4062.523897, 5596.519826, 7426.354773999999, 11054.56175, 15215.6579, 20206.82098, 23235.42329, 28718.27684], \"yaxis\": \"y\"}, {\"hovertemplate\": \"country=Tanzania<br>continent=Africa<br>year=%{x}<br>gdpPercap=%{y}<extra></extra>\", \"legendgroup\": \"Tanzania\", \"line\": {\"color\": \"#FF6692\"}, \"mode\": \"lines\", \"name\": \"Tanzania\", \"orientation\": \"v\", \"showlegend\": true, \"stackgroup\": \"1\", \"type\": \"scatter\", \"x\": [1952, 1957, 1962, 1967, 1972, 1977, 1982, 1987, 1992, 1997, 2002, 2007], \"xaxis\": \"x\", \"y\": [716.6500721, 698.5356073, 722.0038073, 848.2186575, 915.9850592, 962.4922932, 874.2426069, 831.8220794, 825.682454, 789.1862231, 899.0742111, 1107.482182], \"yaxis\": \"y\"}, {\"hovertemplate\": \"country=Thailand<br>continent=Asia<br>year=%{x}<br>gdpPercap=%{y}<extra></extra>\", \"legendgroup\": \"Thailand\", \"line\": {\"color\": \"#B6E880\"}, \"mode\": \"lines\", \"name\": \"Thailand\", \"orientation\": \"v\", \"showlegend\": true, \"stackgroup\": \"1\", \"type\": \"scatter\", \"x\": [1952, 1957, 1962, 1967, 1972, 1977, 1982, 1987, 1992, 1997, 2002, 2007], \"xaxis\": \"x\", \"y\": [757.7974177, 793.5774147999999, 1002.1991720000001, 1295.46066, 1524.3589359999999, 1961.2246350000003, 2393.219781, 2982.653773, 4616.8965450000005, 5852.625497, 5913.187529, 7458.3963269999995], \"yaxis\": \"y\"}, {\"hovertemplate\": \"country=Togo<br>continent=Africa<br>year=%{x}<br>gdpPercap=%{y}<extra></extra>\", \"legendgroup\": \"Togo\", \"line\": {\"color\": \"#FF97FF\"}, \"mode\": \"lines\", \"name\": \"Togo\", \"orientation\": \"v\", \"showlegend\": true, \"stackgroup\": \"1\", \"type\": \"scatter\", \"x\": [1952, 1957, 1962, 1967, 1972, 1977, 1982, 1987, 1992, 1997, 2002, 2007], \"xaxis\": \"x\", \"y\": [859.8086567, 925.9083201999999, 1067.5348099999999, 1477.59676, 1649.660188, 1532.776998, 1344.577953, 1202.201361, 1034.298904, 982.2869242999999, 886.2205765000001, 882.9699437999999], \"yaxis\": \"y\"}, {\"hovertemplate\": \"country=Trinidad and Tobago<br>continent=Americas<br>year=%{x}<br>gdpPercap=%{y}<extra></extra>\", \"legendgroup\": \"Trinidad and Tobago\", \"line\": {\"color\": \"#FECB52\"}, \"mode\": \"lines\", \"name\": \"Trinidad and Tobago\", \"orientation\": \"v\", \"showlegend\": true, \"stackgroup\": \"1\", \"type\": \"scatter\", \"x\": [1952, 1957, 1962, 1967, 1972, 1977, 1982, 1987, 1992, 1997, 2002, 2007], \"xaxis\": \"x\", \"y\": [3023.271928, 4100.3934, 4997.5239710000005, 5621.368472, 6619.551418999999, 7899.554209000001, 9119.528607, 7388.597823, 7370.990932, 8792.573126000001, 11460.60023, 18008.50924], \"yaxis\": \"y\"}, {\"hovertemplate\": \"country=Tunisia<br>continent=Africa<br>year=%{x}<br>gdpPercap=%{y}<extra></extra>\", \"legendgroup\": \"Tunisia\", \"line\": {\"color\": \"#636efa\"}, \"mode\": \"lines\", \"name\": \"Tunisia\", \"orientation\": \"v\", \"showlegend\": true, \"stackgroup\": \"1\", \"type\": \"scatter\", \"x\": [1952, 1957, 1962, 1967, 1972, 1977, 1982, 1987, 1992, 1997, 2002, 2007], \"xaxis\": \"x\", \"y\": [1468.475631, 1395.232468, 1660.30321, 1932.3601670000003, 2753.2859940000003, 3120.876811, 3560.2331740000004, 3810.419296, 4332.720164, 4876.798614, 5722.895654999999, 7092.923025], \"yaxis\": \"y\"}, {\"hovertemplate\": \"country=Turkey<br>continent=Europe<br>year=%{x}<br>gdpPercap=%{y}<extra></extra>\", \"legendgroup\": \"Turkey\", \"line\": {\"color\": \"#EF553B\"}, \"mode\": \"lines\", \"name\": \"Turkey\", \"orientation\": \"v\", \"showlegend\": true, \"stackgroup\": \"1\", \"type\": \"scatter\", \"x\": [1952, 1957, 1962, 1967, 1972, 1977, 1982, 1987, 1992, 1997, 2002, 2007], \"xaxis\": \"x\", \"y\": [1969.1009800000002, 2218.754257, 2322.8699079999997, 2826.3563870000003, 3450.69638, 4269.122326, 4241.356344, 5089.043686, 5678.348271, 6601.429915, 6508.085718, 8458.276384], \"yaxis\": \"y\"}, {\"hovertemplate\": \"country=Uganda<br>continent=Africa<br>year=%{x}<br>gdpPercap=%{y}<extra></extra>\", \"legendgroup\": \"Uganda\", \"line\": {\"color\": \"#00cc96\"}, \"mode\": \"lines\", \"name\": \"Uganda\", \"orientation\": \"v\", \"showlegend\": true, \"stackgroup\": \"1\", \"type\": \"scatter\", \"x\": [1952, 1957, 1962, 1967, 1972, 1977, 1982, 1987, 1992, 1997, 2002, 2007], \"xaxis\": \"x\", \"y\": [734.753484, 774.3710692000001, 767.2717397999999, 908.9185217, 950.735869, 843.7331372000001, 682.2662267999999, 617.7244065, 644.1707968999999, 816.559081, 927.7210018, 1056.3801210000001], \"yaxis\": \"y\"}, {\"hovertemplate\": \"country=United Kingdom<br>continent=Europe<br>year=%{x}<br>gdpPercap=%{y}<extra></extra>\", \"legendgroup\": \"United Kingdom\", \"line\": {\"color\": \"#ab63fa\"}, \"mode\": \"lines\", \"name\": \"United Kingdom\", \"orientation\": \"v\", \"showlegend\": true, \"stackgroup\": \"1\", \"type\": \"scatter\", \"x\": [1952, 1957, 1962, 1967, 1972, 1977, 1982, 1987, 1992, 1997, 2002, 2007], \"xaxis\": \"x\", \"y\": [9979.508487000001, 11283.17795, 12477.17707, 14142.85089, 15895.116409999999, 17428.74846, 18232.42452, 21664.787669999998, 22705.09254, 26074.53136, 29478.99919, 33203.26128], \"yaxis\": \"y\"}, {\"hovertemplate\": \"country=United States<br>continent=Americas<br>year=%{x}<br>gdpPercap=%{y}<extra></extra>\", \"legendgroup\": \"United States\", \"line\": {\"color\": \"#FFA15A\"}, \"mode\": \"lines\", \"name\": \"United States\", \"orientation\": \"v\", \"showlegend\": true, \"stackgroup\": \"1\", \"type\": \"scatter\", \"x\": [1952, 1957, 1962, 1967, 1972, 1977, 1982, 1987, 1992, 1997, 2002, 2007], \"xaxis\": \"x\", \"y\": [13990.482080000002, 14847.12712, 16173.145859999999, 19530.365569999998, 21806.03594, 24072.63213, 25009.55914, 29884.350410000003, 32003.93224, 35767.43303, 39097.09955, 42951.65309], \"yaxis\": \"y\"}, {\"hovertemplate\": \"country=Uruguay<br>continent=Americas<br>year=%{x}<br>gdpPercap=%{y}<extra></extra>\", \"legendgroup\": \"Uruguay\", \"line\": {\"color\": \"#19d3f3\"}, \"mode\": \"lines\", \"name\": \"Uruguay\", \"orientation\": \"v\", \"showlegend\": true, \"stackgroup\": \"1\", \"type\": \"scatter\", \"x\": [1952, 1957, 1962, 1967, 1972, 1977, 1982, 1987, 1992, 1997, 2002, 2007], \"xaxis\": \"x\", \"y\": [5716.766744, 6150.772969, 5603.357717, 5444.61962, 5703.408898, 6504.339663000001, 6920.223051000001, 7452.398969, 8137.004775, 9230.240708, 7727.002004000001, 10611.46299], \"yaxis\": \"y\"}, {\"hovertemplate\": \"country=Venezuela<br>continent=Americas<br>year=%{x}<br>gdpPercap=%{y}<extra></extra>\", \"legendgroup\": \"Venezuela\", \"line\": {\"color\": \"#FF6692\"}, \"mode\": \"lines\", \"name\": \"Venezuela\", \"orientation\": \"v\", \"showlegend\": true, \"stackgroup\": \"1\", \"type\": \"scatter\", \"x\": [1952, 1957, 1962, 1967, 1972, 1977, 1982, 1987, 1992, 1997, 2002, 2007], \"xaxis\": \"x\", \"y\": [7689.799761, 9802.466526, 8422.974165000001, 9541.474188, 10505.25966, 13143.95095, 11152.410109999999, 9883.584648, 10733.926309999999, 10165.49518, 8605.047831, 11415.805690000001], \"yaxis\": \"y\"}, {\"hovertemplate\": \"country=Vietnam<br>continent=Asia<br>year=%{x}<br>gdpPercap=%{y}<extra></extra>\", \"legendgroup\": \"Vietnam\", \"line\": {\"color\": \"#B6E880\"}, \"mode\": \"lines\", \"name\": \"Vietnam\", \"orientation\": \"v\", \"showlegend\": true, \"stackgroup\": \"1\", \"type\": \"scatter\", \"x\": [1952, 1957, 1962, 1967, 1972, 1977, 1982, 1987, 1992, 1997, 2002, 2007], \"xaxis\": \"x\", \"y\": [605.0664917, 676.2854477999999, 772.0491602000001, 637.1232887, 699.5016441, 713.5371196000001, 707.2357863, 820.7994449, 989.0231487, 1385.896769, 1764.456677, 2441.576404], \"yaxis\": \"y\"}, {\"hovertemplate\": \"country=West Bank and Gaza<br>continent=Asia<br>year=%{x}<br>gdpPercap=%{y}<extra></extra>\", \"legendgroup\": \"West Bank and Gaza\", \"line\": {\"color\": \"#FF97FF\"}, \"mode\": \"lines\", \"name\": \"West Bank and Gaza\", \"orientation\": \"v\", \"showlegend\": true, \"stackgroup\": \"1\", \"type\": \"scatter\", \"x\": [1952, 1957, 1962, 1967, 1972, 1977, 1982, 1987, 1992, 1997, 2002, 2007], \"xaxis\": \"x\", \"y\": [1515.5923289999998, 1827.0677420000002, 2198.9563120000003, 2649.7150070000002, 3133.4092769999997, 3682.8314939999996, 4336.032082, 5107.197384, 6017.654756, 7110.667619, 4515.487575, 3025.349798], \"yaxis\": \"y\"}, {\"hovertemplate\": \"country=Yemen, Rep.<br>continent=Asia<br>year=%{x}<br>gdpPercap=%{y}<extra></extra>\", \"legendgroup\": \"Yemen, Rep.\", \"line\": {\"color\": \"#FECB52\"}, \"mode\": \"lines\", \"name\": \"Yemen, Rep.\", \"orientation\": \"v\", \"showlegend\": true, \"stackgroup\": \"1\", \"type\": \"scatter\", \"x\": [1952, 1957, 1962, 1967, 1972, 1977, 1982, 1987, 1992, 1997, 2002, 2007], \"xaxis\": \"x\", \"y\": [781.7175761, 804.8304547, 825.6232006, 862.4421463, 1265.047031, 1829.765177, 1977.5570100000002, 1971.741538, 1879.496673, 2117.484526, 2234.820827, 2280.769906], \"yaxis\": \"y\"}, {\"hovertemplate\": \"country=Zambia<br>continent=Africa<br>year=%{x}<br>gdpPercap=%{y}<extra></extra>\", \"legendgroup\": \"Zambia\", \"line\": {\"color\": \"#636efa\"}, \"mode\": \"lines\", \"name\": \"Zambia\", \"orientation\": \"v\", \"showlegend\": true, \"stackgroup\": \"1\", \"type\": \"scatter\", \"x\": [1952, 1957, 1962, 1967, 1972, 1977, 1982, 1987, 1992, 1997, 2002, 2007], \"xaxis\": \"x\", \"y\": [1147.388831, 1311.956766, 1452.725766, 1777.0773179999999, 1773.498265, 1588.688299, 1408.678565, 1213.315116, 1210.884633, 1071.353818, 1071.6139380000002, 1271.211593], \"yaxis\": \"y\"}, {\"hovertemplate\": \"country=Zimbabwe<br>continent=Africa<br>year=%{x}<br>gdpPercap=%{y}<extra></extra>\", \"legendgroup\": \"Zimbabwe\", \"line\": {\"color\": \"#EF553B\"}, \"mode\": \"lines\", \"name\": \"Zimbabwe\", \"orientation\": \"v\", \"showlegend\": true, \"stackgroup\": \"1\", \"type\": \"scatter\", \"x\": [1952, 1957, 1962, 1967, 1972, 1977, 1982, 1987, 1992, 1997, 2002, 2007], \"xaxis\": \"x\", \"y\": [406.8841148, 518.7642681, 527.2721818, 569.7950712, 799.3621757999999, 685.5876821, 788.8550411, 706.1573059, 693.4207856, 792.4499602999999, 672.0386227000001, 469.70929810000007], \"yaxis\": \"y\"}],\n",
       "                        {\"legend\": {\"title\": {\"text\": \"country\"}, \"tracegroupgap\": 0}, \"margin\": {\"t\": 60}, \"template\": {\"data\": {\"bar\": [{\"error_x\": {\"color\": \"#2a3f5f\"}, \"error_y\": {\"color\": \"#2a3f5f\"}, \"marker\": {\"line\": {\"color\": \"#E5ECF6\", \"width\": 0.5}}, \"type\": \"bar\"}], \"barpolar\": [{\"marker\": {\"line\": {\"color\": \"#E5ECF6\", \"width\": 0.5}}, \"type\": \"barpolar\"}], \"carpet\": [{\"aaxis\": {\"endlinecolor\": \"#2a3f5f\", \"gridcolor\": \"white\", \"linecolor\": \"white\", \"minorgridcolor\": \"white\", \"startlinecolor\": \"#2a3f5f\"}, \"baxis\": {\"endlinecolor\": \"#2a3f5f\", \"gridcolor\": \"white\", \"linecolor\": \"white\", \"minorgridcolor\": \"white\", \"startlinecolor\": \"#2a3f5f\"}, \"type\": \"carpet\"}], \"choropleth\": [{\"colorbar\": {\"outlinewidth\": 0, \"ticks\": \"\"}, \"type\": \"choropleth\"}], \"contour\": [{\"colorbar\": {\"outlinewidth\": 0, \"ticks\": \"\"}, \"colorscale\": [[0.0, \"#0d0887\"], [0.1111111111111111, \"#46039f\"], [0.2222222222222222, \"#7201a8\"], [0.3333333333333333, \"#9c179e\"], [0.4444444444444444, \"#bd3786\"], [0.5555555555555556, \"#d8576b\"], [0.6666666666666666, \"#ed7953\"], [0.7777777777777778, \"#fb9f3a\"], [0.8888888888888888, \"#fdca26\"], [1.0, \"#f0f921\"]], \"type\": \"contour\"}], \"contourcarpet\": [{\"colorbar\": {\"outlinewidth\": 0, \"ticks\": \"\"}, \"type\": \"contourcarpet\"}], \"heatmap\": [{\"colorbar\": {\"outlinewidth\": 0, \"ticks\": \"\"}, \"colorscale\": [[0.0, \"#0d0887\"], [0.1111111111111111, \"#46039f\"], [0.2222222222222222, \"#7201a8\"], [0.3333333333333333, \"#9c179e\"], [0.4444444444444444, \"#bd3786\"], [0.5555555555555556, \"#d8576b\"], [0.6666666666666666, \"#ed7953\"], [0.7777777777777778, \"#fb9f3a\"], [0.8888888888888888, \"#fdca26\"], [1.0, \"#f0f921\"]], \"type\": \"heatmap\"}], \"heatmapgl\": [{\"colorbar\": {\"outlinewidth\": 0, \"ticks\": \"\"}, \"colorscale\": [[0.0, \"#0d0887\"], [0.1111111111111111, \"#46039f\"], [0.2222222222222222, \"#7201a8\"], [0.3333333333333333, \"#9c179e\"], [0.4444444444444444, \"#bd3786\"], [0.5555555555555556, \"#d8576b\"], [0.6666666666666666, \"#ed7953\"], [0.7777777777777778, \"#fb9f3a\"], [0.8888888888888888, \"#fdca26\"], [1.0, \"#f0f921\"]], \"type\": \"heatmapgl\"}], \"histogram\": [{\"marker\": {\"colorbar\": {\"outlinewidth\": 0, \"ticks\": \"\"}}, \"type\": \"histogram\"}], \"histogram2d\": [{\"colorbar\": {\"outlinewidth\": 0, \"ticks\": \"\"}, \"colorscale\": [[0.0, \"#0d0887\"], [0.1111111111111111, \"#46039f\"], [0.2222222222222222, \"#7201a8\"], [0.3333333333333333, \"#9c179e\"], [0.4444444444444444, \"#bd3786\"], [0.5555555555555556, \"#d8576b\"], [0.6666666666666666, \"#ed7953\"], [0.7777777777777778, \"#fb9f3a\"], [0.8888888888888888, \"#fdca26\"], [1.0, \"#f0f921\"]], \"type\": \"histogram2d\"}], \"histogram2dcontour\": [{\"colorbar\": {\"outlinewidth\": 0, \"ticks\": \"\"}, \"colorscale\": [[0.0, \"#0d0887\"], [0.1111111111111111, \"#46039f\"], [0.2222222222222222, \"#7201a8\"], [0.3333333333333333, \"#9c179e\"], [0.4444444444444444, \"#bd3786\"], [0.5555555555555556, \"#d8576b\"], [0.6666666666666666, \"#ed7953\"], [0.7777777777777778, \"#fb9f3a\"], [0.8888888888888888, \"#fdca26\"], [1.0, \"#f0f921\"]], \"type\": \"histogram2dcontour\"}], \"mesh3d\": [{\"colorbar\": {\"outlinewidth\": 0, \"ticks\": \"\"}, \"type\": \"mesh3d\"}], \"parcoords\": [{\"line\": {\"colorbar\": {\"outlinewidth\": 0, \"ticks\": \"\"}}, \"type\": \"parcoords\"}], \"pie\": [{\"automargin\": true, \"type\": \"pie\"}], \"scatter\": [{\"marker\": {\"colorbar\": {\"outlinewidth\": 0, \"ticks\": \"\"}}, \"type\": \"scatter\"}], \"scatter3d\": [{\"line\": {\"colorbar\": {\"outlinewidth\": 0, \"ticks\": \"\"}}, \"marker\": {\"colorbar\": {\"outlinewidth\": 0, \"ticks\": \"\"}}, \"type\": \"scatter3d\"}], \"scattercarpet\": [{\"marker\": {\"colorbar\": {\"outlinewidth\": 0, \"ticks\": \"\"}}, \"type\": \"scattercarpet\"}], \"scattergeo\": [{\"marker\": {\"colorbar\": {\"outlinewidth\": 0, \"ticks\": \"\"}}, \"type\": \"scattergeo\"}], \"scattergl\": [{\"marker\": {\"colorbar\": {\"outlinewidth\": 0, \"ticks\": \"\"}}, \"type\": \"scattergl\"}], \"scattermapbox\": [{\"marker\": {\"colorbar\": {\"outlinewidth\": 0, \"ticks\": \"\"}}, \"type\": \"scattermapbox\"}], \"scatterpolar\": [{\"marker\": {\"colorbar\": {\"outlinewidth\": 0, \"ticks\": \"\"}}, \"type\": \"scatterpolar\"}], \"scatterpolargl\": [{\"marker\": {\"colorbar\": {\"outlinewidth\": 0, \"ticks\": \"\"}}, \"type\": \"scatterpolargl\"}], \"scatterternary\": [{\"marker\": {\"colorbar\": {\"outlinewidth\": 0, \"ticks\": \"\"}}, \"type\": \"scatterternary\"}], \"surface\": [{\"colorbar\": {\"outlinewidth\": 0, \"ticks\": \"\"}, \"colorscale\": [[0.0, \"#0d0887\"], [0.1111111111111111, \"#46039f\"], [0.2222222222222222, \"#7201a8\"], [0.3333333333333333, \"#9c179e\"], [0.4444444444444444, \"#bd3786\"], [0.5555555555555556, \"#d8576b\"], [0.6666666666666666, \"#ed7953\"], [0.7777777777777778, \"#fb9f3a\"], [0.8888888888888888, \"#fdca26\"], [1.0, \"#f0f921\"]], \"type\": \"surface\"}], \"table\": [{\"cells\": {\"fill\": {\"color\": \"#EBF0F8\"}, \"line\": {\"color\": \"white\"}}, \"header\": {\"fill\": {\"color\": \"#C8D4E3\"}, \"line\": {\"color\": \"white\"}}, \"type\": \"table\"}]}, \"layout\": {\"annotationdefaults\": {\"arrowcolor\": \"#2a3f5f\", \"arrowhead\": 0, \"arrowwidth\": 1}, \"coloraxis\": {\"colorbar\": {\"outlinewidth\": 0, \"ticks\": \"\"}}, \"colorscale\": {\"diverging\": [[0, \"#8e0152\"], [0.1, \"#c51b7d\"], [0.2, \"#de77ae\"], [0.3, \"#f1b6da\"], [0.4, \"#fde0ef\"], [0.5, \"#f7f7f7\"], [0.6, \"#e6f5d0\"], [0.7, \"#b8e186\"], [0.8, \"#7fbc41\"], [0.9, \"#4d9221\"], [1, \"#276419\"]], \"sequential\": [[0.0, \"#0d0887\"], [0.1111111111111111, \"#46039f\"], [0.2222222222222222, \"#7201a8\"], [0.3333333333333333, \"#9c179e\"], [0.4444444444444444, \"#bd3786\"], [0.5555555555555556, \"#d8576b\"], [0.6666666666666666, \"#ed7953\"], [0.7777777777777778, \"#fb9f3a\"], [0.8888888888888888, \"#fdca26\"], [1.0, \"#f0f921\"]], \"sequentialminus\": [[0.0, \"#0d0887\"], [0.1111111111111111, \"#46039f\"], [0.2222222222222222, \"#7201a8\"], [0.3333333333333333, \"#9c179e\"], [0.4444444444444444, \"#bd3786\"], [0.5555555555555556, \"#d8576b\"], [0.6666666666666666, \"#ed7953\"], [0.7777777777777778, \"#fb9f3a\"], [0.8888888888888888, \"#fdca26\"], [1.0, \"#f0f921\"]]}, \"colorway\": [\"#636efa\", \"#EF553B\", \"#00cc96\", \"#ab63fa\", \"#FFA15A\", \"#19d3f3\", \"#FF6692\", \"#B6E880\", \"#FF97FF\", \"#FECB52\"], \"font\": {\"color\": \"#2a3f5f\"}, \"geo\": {\"bgcolor\": \"white\", \"lakecolor\": \"white\", \"landcolor\": \"#E5ECF6\", \"showlakes\": true, \"showland\": true, \"subunitcolor\": \"white\"}, \"hoverlabel\": {\"align\": \"left\"}, \"hovermode\": \"closest\", \"mapbox\": {\"style\": \"light\"}, \"paper_bgcolor\": \"white\", \"plot_bgcolor\": \"#E5ECF6\", \"polar\": {\"angularaxis\": {\"gridcolor\": \"white\", \"linecolor\": \"white\", \"ticks\": \"\"}, \"bgcolor\": \"#E5ECF6\", \"radialaxis\": {\"gridcolor\": \"white\", \"linecolor\": \"white\", \"ticks\": \"\"}}, \"scene\": {\"xaxis\": {\"backgroundcolor\": \"#E5ECF6\", \"gridcolor\": \"white\", \"gridwidth\": 2, \"linecolor\": \"white\", \"showbackground\": true, \"ticks\": \"\", \"zerolinecolor\": \"white\"}, \"yaxis\": {\"backgroundcolor\": \"#E5ECF6\", \"gridcolor\": \"white\", \"gridwidth\": 2, \"linecolor\": \"white\", \"showbackground\": true, \"ticks\": \"\", \"zerolinecolor\": \"white\"}, \"zaxis\": {\"backgroundcolor\": \"#E5ECF6\", \"gridcolor\": \"white\", \"gridwidth\": 2, \"linecolor\": \"white\", \"showbackground\": true, \"ticks\": \"\", \"zerolinecolor\": \"white\"}}, \"shapedefaults\": {\"line\": {\"color\": \"#2a3f5f\"}}, \"ternary\": {\"aaxis\": {\"gridcolor\": \"white\", \"linecolor\": \"white\", \"ticks\": \"\"}, \"baxis\": {\"gridcolor\": \"white\", \"linecolor\": \"white\", \"ticks\": \"\"}, \"bgcolor\": \"#E5ECF6\", \"caxis\": {\"gridcolor\": \"white\", \"linecolor\": \"white\", \"ticks\": \"\"}}, \"title\": {\"x\": 0.05}, \"xaxis\": {\"automargin\": true, \"gridcolor\": \"white\", \"linecolor\": \"white\", \"ticks\": \"\", \"title\": {\"standoff\": 15}, \"zerolinecolor\": \"white\", \"zerolinewidth\": 2}, \"yaxis\": {\"automargin\": true, \"gridcolor\": \"white\", \"linecolor\": \"white\", \"ticks\": \"\", \"title\": {\"standoff\": 15}, \"zerolinecolor\": \"white\", \"zerolinewidth\": 2}}}, \"xaxis\": {\"anchor\": \"y\", \"domain\": [0.0, 1.0], \"title\": {\"text\": \"year\"}}, \"yaxis\": {\"anchor\": \"x\", \"domain\": [0.0, 1.0], \"title\": {\"text\": \"gdpPercap\"}}},\n",
       "                        {\"responsive\": true}\n",
       "                    ).then(function(){\n",
       "                            \n",
       "var gd = document.getElementById('024e1601-b895-4617-b440-bc31c40dd701');\n",
       "var x = new MutationObserver(function (mutations, observer) {{\n",
       "        var display = window.getComputedStyle(gd).display;\n",
       "        if (!display || display === 'none') {{\n",
       "            console.log([gd, 'removed!']);\n",
       "            Plotly.purge(gd);\n",
       "            observer.disconnect();\n",
       "        }}\n",
       "}});\n",
       "\n",
       "// Listen for the removal of the full notebook cells\n",
       "var notebookContainer = gd.closest('#notebook-container');\n",
       "if (notebookContainer) {{\n",
       "    x.observe(notebookContainer, {childList: true});\n",
       "}}\n",
       "\n",
       "// Listen for the clearing of the current output cell\n",
       "var outputEl = gd.closest('.output');\n",
       "if (outputEl) {{\n",
       "    x.observe(outputEl, {childList: true});\n",
       "}}\n",
       "\n",
       "                        })\n",
       "                };\n",
       "                });\n",
       "            </script>\n",
       "        </div>"
      ]
     },
     "metadata": {},
     "output_type": "display_data"
    }
   ],
   "source": [
    "## Plotly express & Gap Minder Data\n",
    "\n",
    "import plotly.express as px\n",
    "df = px.data.gapminder()\n",
    "df\n",
    "fig = px.area(df, x=\"year\", y=\"gdpPercap\", color=\"country\",  line_group=\"continent\")\n",
    "fig.show()"
   ]
  },
  {
   "cell_type": "code",
   "execution_count": 7,
   "metadata": {},
   "outputs": [
    {
     "name": "stdout",
     "output_type": "stream",
     "text": [
      "Index(['countrycode', 'country', 'year', 'cgdppc', 'rgdpnapc', 'pop', 'i_cig',\n",
      "       'i_bm'],\n",
      "      dtype='object')\n"
     ]
    },
    {
     "data": {
      "application/vnd.plotly.v1+json": {
       "config": {
        "plotlyServerURL": "https://plot.ly"
       },
       "data": [
        {
         "hovertemplate": "countrycode=CHN<br>year=%{x}<br>cgdppc=%{y}<extra></extra>",
         "legendgroup": "CHN",
         "line": {
          "color": "#636efa",
          "dash": "solid"
         },
         "mode": "lines",
         "name": "CHN",
         "orientation": "v",
         "showlegend": true,
         "type": "scatter",
         "x": [
          1950,
          1951,
          1952,
          1953,
          1954,
          1955,
          1956,
          1957,
          1958,
          1959,
          1960,
          1961,
          1962,
          1963,
          1964,
          1965,
          1966,
          1967,
          1968,
          1969,
          1970,
          1971,
          1972,
          1973,
          1974,
          1975,
          1976,
          1977,
          1978,
          1979,
          1980,
          1981,
          1982,
          1983,
          1984,
          1985,
          1986,
          1987,
          1988,
          1989,
          1990,
          1991,
          1992,
          1993,
          1994,
          1995,
          1996,
          1997,
          1998,
          1999,
          2000,
          2001,
          2002,
          2003,
          2004,
          2005,
          2006,
          2007,
          2008,
          2009,
          2010,
          2011,
          2012,
          2013,
          2014,
          2015,
          2016
         ],
         "xaxis": "x",
         "y": [
          757,
          899,
          989,
          1098,
          989,
          1062,
          1101,
          1103,
          1073,
          988,
          923,
          799,
          866,
          950,
          1050,
          1134,
          1147,
          1151,
          1093,
          1172,
          1291,
          1355,
          1307,
          1372,
          1378,
          1425,
          1384,
          1413,
          1583,
          1648,
          1690,
          1675,
          1826,
          1907,
          2120,
          2310,
          2409,
          2510,
          2571,
          2509,
          2460,
          2550,
          2731,
          2997,
          3135,
          3302,
          3494,
          3540,
          3554,
          3765,
          4071,
          4400,
          4793,
          5122,
          5595,
          6338,
          6937,
          7482,
          7741,
          8394,
          9475,
          10221,
          10654,
          11088,
          11708,
          12002,
          12320
         ],
         "yaxis": "y"
        },
        {
         "hovertemplate": "countrycode=GBR<br>year=%{x}<br>cgdppc=%{y}<extra></extra>",
         "legendgroup": "GBR",
         "line": {
          "color": "#EF553B",
          "dash": "solid"
         },
         "mode": "lines",
         "name": "GBR",
         "orientation": "v",
         "showlegend": true,
         "type": "scatter",
         "x": [
          1948,
          1949,
          1950,
          1951,
          1952,
          1953,
          1954,
          1955,
          1956,
          1957,
          1958,
          1959,
          1960,
          1961,
          1962,
          1963,
          1964,
          1965,
          1966,
          1967,
          1968,
          1969,
          1970,
          1971,
          1972,
          1973,
          1974,
          1975,
          1976,
          1977,
          1978,
          1979,
          1980,
          1981,
          1982,
          1983,
          1984,
          1985,
          1986,
          1987,
          1988,
          1989,
          1990,
          1991,
          1992,
          1993,
          1994,
          1995,
          1996,
          1997,
          1998,
          1999,
          2000,
          2001,
          2002,
          2003,
          2004,
          2005,
          2006,
          2007,
          2008,
          2009,
          2010,
          2011,
          2012,
          2013,
          2014,
          2015,
          2016
         ],
         "xaxis": "x",
         "y": [
          9165,
          9457,
          9441,
          9599,
          9507,
          9957,
          10400,
          10779,
          10944,
          11127,
          11132,
          11525,
          12000,
          12385,
          12426,
          12849,
          13513,
          13802,
          14099,
          14440,
          14610,
          15241,
          15715,
          15703,
          16053,
          17116,
          16824,
          16745,
          17398,
          18138,
          19124,
          20129,
          20593,
          19975,
          19865,
          20105,
          20270,
          20712,
          21303,
          22246,
          23075,
          23642,
          24002,
          23696,
          23812,
          24481,
          25353,
          26500,
          27775,
          29840,
          30978,
          32245,
          34390,
          35182,
          35384,
          35354,
          36320,
          37724,
          38251,
          38071,
          37657,
          35730,
          35116,
          34971,
          35784,
          37702,
          38220,
          38749,
          39162
         ],
         "yaxis": "y"
        },
        {
         "hovertemplate": "countrycode=IND<br>year=%{x}<br>cgdppc=%{y}<extra></extra>",
         "legendgroup": "IND",
         "line": {
          "color": "#00cc96",
          "dash": "solid"
         },
         "mode": "lines",
         "name": "IND",
         "orientation": "v",
         "showlegend": true,
         "type": "scatter",
         "x": [
          1948,
          1949,
          1950,
          1951,
          1952,
          1953,
          1954,
          1955,
          1956,
          1957,
          1958,
          1959,
          1960,
          1961,
          1962,
          1963,
          1964,
          1965,
          1966,
          1967,
          1968,
          1969,
          1970,
          1971,
          1972,
          1973,
          1974,
          1975,
          1976,
          1977,
          1978,
          1979,
          1980,
          1981,
          1982,
          1983,
          1984,
          1985,
          1986,
          1987,
          1988,
          1989,
          1990,
          1991,
          1992,
          1993,
          1994,
          1995,
          1996,
          1997,
          1998,
          1999,
          2000,
          2001,
          2002,
          2003,
          2004,
          2005,
          2006,
          2007,
          2008,
          2009,
          2010,
          2011,
          2012,
          2013,
          2014,
          2015,
          2016
         ],
         "xaxis": "x",
         "y": [
          1403,
          1425,
          1417,
          1426,
          1380,
          1411,
          1419,
          1392,
          1430,
          1359,
          1393,
          1353,
          1403,
          1378,
          1356,
          1356,
          1389,
          1277,
          1233,
          1272,
          1233,
          1239,
          1234,
          1237,
          1238,
          1301,
          1264,
          1362,
          1304,
          1283,
          1238,
          1131,
          1143,
          1109,
          1066,
          1059,
          1035,
          1021,
          1054,
          1094,
          1168,
          1228,
          1283,
          1297,
          1354,
          1428,
          1484,
          1565,
          1677,
          1742,
          1845,
          1935,
          2003,
          2086,
          2177,
          2351,
          2502,
          2789,
          3060,
          3333,
          3754,
          3936,
          4353,
          4768,
          4974,
          5052,
          5312,
          5639,
          5961
         ],
         "yaxis": "y"
        },
        {
         "hovertemplate": "countrycode=JPN<br>year=%{x}<br>cgdppc=%{y}<extra></extra>",
         "legendgroup": "JPN",
         "line": {
          "color": "#ab63fa",
          "dash": "solid"
         },
         "mode": "lines",
         "name": "JPN",
         "orientation": "v",
         "showlegend": true,
         "type": "scatter",
         "x": [
          1948,
          1949,
          1950,
          1951,
          1952,
          1953,
          1954,
          1955,
          1956,
          1957,
          1958,
          1959,
          1960,
          1961,
          1962,
          1963,
          1964,
          1965,
          1966,
          1967,
          1968,
          1969,
          1970,
          1971,
          1972,
          1973,
          1974,
          1975,
          1976,
          1977,
          1978,
          1979,
          1980,
          1981,
          1982,
          1983,
          1984,
          1985,
          1986,
          1987,
          1988,
          1989,
          1990,
          1991,
          1992,
          1993,
          1994,
          1995,
          1996,
          1997,
          1998,
          1999,
          2000,
          2001,
          2002,
          2003,
          2004,
          2005,
          2006,
          2007,
          2008,
          2009,
          2010,
          2011,
          2012,
          2013,
          2014,
          2015,
          2016
         ],
         "xaxis": "x",
         "y": [
          2268,
          2363,
          2519,
          2853,
          3086,
          3217,
          3357,
          3631,
          3841,
          4067,
          4324,
          4652,
          5185,
          5730,
          6261,
          6668,
          7371,
          7753,
          8526,
          9364,
          10536,
          11753,
          12904,
          13521,
          14548,
          15453,
          15101,
          15703,
          16508,
          17403,
          18504,
          19490,
          20408,
          19954,
          19602,
          19052,
          18897,
          19017,
          20373,
          21518,
          23400,
          24869,
          26341,
          28111,
          29064,
          29967,
          30728,
          32146,
          32540,
          32662,
          32132,
          31980,
          33294,
          33086,
          33215,
          33576,
          34354,
          35292,
          35572,
          36054,
          35257,
          33798,
          35477,
          34979,
          35143,
          35494,
          35550,
          36030,
          36452
         ],
         "yaxis": "y"
        },
        {
         "hovertemplate": "countrycode=USA<br>year=%{x}<br>cgdppc=%{y}<extra></extra>",
         "legendgroup": "USA",
         "line": {
          "color": "#FFA15A",
          "dash": "solid"
         },
         "mode": "lines",
         "name": "USA",
         "orientation": "v",
         "showlegend": true,
         "type": "scatter",
         "x": [
          1948,
          1949,
          1950,
          1951,
          1952,
          1953,
          1954,
          1955,
          1956,
          1957,
          1958,
          1959,
          1960,
          1961,
          1962,
          1963,
          1964,
          1965,
          1966,
          1967,
          1968,
          1969,
          1970,
          1971,
          1972,
          1973,
          1974,
          1975,
          1976,
          1977,
          1978,
          1979,
          1980,
          1981,
          1982,
          1983,
          1984,
          1985,
          1986,
          1987,
          1988,
          1989,
          1990,
          1991,
          1992,
          1993,
          1994,
          1995,
          1996,
          1997,
          1998,
          1999,
          2000,
          2001,
          2002,
          2003,
          2004,
          2005,
          2006,
          2007,
          2008,
          2009,
          2010,
          2011,
          2012,
          2013,
          2014,
          2015,
          2016
         ],
         "xaxis": "x",
         "y": [
          14559,
          14112,
          15241,
          16126,
          16443,
          16917,
          16513,
          17370,
          17398,
          17407,
          16945,
          17901,
          18058,
          18175,
          18977,
          19515,
          20360,
          21390,
          22529,
          22842,
          23692,
          24196,
          23958,
          24395,
          25415,
          26603,
          26287,
          25956,
          27059,
          28001,
          29287,
          29951,
          29613,
          30056,
          29211,
          30159,
          32076,
          33024,
          33851,
          34730,
          35865,
          36757,
          36982,
          36464,
          37241,
          37762,
          38808,
          39391,
          40414,
          41723,
          43073,
          44576,
          45887,
          45878,
          46267,
          47158,
          48493,
          49655,
          50490,
          50902,
          50276,
          48453,
          49267,
          49675,
          50394,
          50863,
          51664,
          52591,
          53015
         ],
         "yaxis": "y"
        }
       ],
       "layout": {
        "legend": {
         "title": {
          "text": "countrycode"
         },
         "tracegroupgap": 0
        },
        "margin": {
         "t": 60
        },
        "template": {
         "data": {
          "bar": [
           {
            "error_x": {
             "color": "#2a3f5f"
            },
            "error_y": {
             "color": "#2a3f5f"
            },
            "marker": {
             "line": {
              "color": "#E5ECF6",
              "width": 0.5
             }
            },
            "type": "bar"
           }
          ],
          "barpolar": [
           {
            "marker": {
             "line": {
              "color": "#E5ECF6",
              "width": 0.5
             }
            },
            "type": "barpolar"
           }
          ],
          "carpet": [
           {
            "aaxis": {
             "endlinecolor": "#2a3f5f",
             "gridcolor": "white",
             "linecolor": "white",
             "minorgridcolor": "white",
             "startlinecolor": "#2a3f5f"
            },
            "baxis": {
             "endlinecolor": "#2a3f5f",
             "gridcolor": "white",
             "linecolor": "white",
             "minorgridcolor": "white",
             "startlinecolor": "#2a3f5f"
            },
            "type": "carpet"
           }
          ],
          "choropleth": [
           {
            "colorbar": {
             "outlinewidth": 0,
             "ticks": ""
            },
            "type": "choropleth"
           }
          ],
          "contour": [
           {
            "colorbar": {
             "outlinewidth": 0,
             "ticks": ""
            },
            "colorscale": [
             [
              0,
              "#0d0887"
             ],
             [
              0.1111111111111111,
              "#46039f"
             ],
             [
              0.2222222222222222,
              "#7201a8"
             ],
             [
              0.3333333333333333,
              "#9c179e"
             ],
             [
              0.4444444444444444,
              "#bd3786"
             ],
             [
              0.5555555555555556,
              "#d8576b"
             ],
             [
              0.6666666666666666,
              "#ed7953"
             ],
             [
              0.7777777777777778,
              "#fb9f3a"
             ],
             [
              0.8888888888888888,
              "#fdca26"
             ],
             [
              1,
              "#f0f921"
             ]
            ],
            "type": "contour"
           }
          ],
          "contourcarpet": [
           {
            "colorbar": {
             "outlinewidth": 0,
             "ticks": ""
            },
            "type": "contourcarpet"
           }
          ],
          "heatmap": [
           {
            "colorbar": {
             "outlinewidth": 0,
             "ticks": ""
            },
            "colorscale": [
             [
              0,
              "#0d0887"
             ],
             [
              0.1111111111111111,
              "#46039f"
             ],
             [
              0.2222222222222222,
              "#7201a8"
             ],
             [
              0.3333333333333333,
              "#9c179e"
             ],
             [
              0.4444444444444444,
              "#bd3786"
             ],
             [
              0.5555555555555556,
              "#d8576b"
             ],
             [
              0.6666666666666666,
              "#ed7953"
             ],
             [
              0.7777777777777778,
              "#fb9f3a"
             ],
             [
              0.8888888888888888,
              "#fdca26"
             ],
             [
              1,
              "#f0f921"
             ]
            ],
            "type": "heatmap"
           }
          ],
          "heatmapgl": [
           {
            "colorbar": {
             "outlinewidth": 0,
             "ticks": ""
            },
            "colorscale": [
             [
              0,
              "#0d0887"
             ],
             [
              0.1111111111111111,
              "#46039f"
             ],
             [
              0.2222222222222222,
              "#7201a8"
             ],
             [
              0.3333333333333333,
              "#9c179e"
             ],
             [
              0.4444444444444444,
              "#bd3786"
             ],
             [
              0.5555555555555556,
              "#d8576b"
             ],
             [
              0.6666666666666666,
              "#ed7953"
             ],
             [
              0.7777777777777778,
              "#fb9f3a"
             ],
             [
              0.8888888888888888,
              "#fdca26"
             ],
             [
              1,
              "#f0f921"
             ]
            ],
            "type": "heatmapgl"
           }
          ],
          "histogram": [
           {
            "marker": {
             "colorbar": {
              "outlinewidth": 0,
              "ticks": ""
             }
            },
            "type": "histogram"
           }
          ],
          "histogram2d": [
           {
            "colorbar": {
             "outlinewidth": 0,
             "ticks": ""
            },
            "colorscale": [
             [
              0,
              "#0d0887"
             ],
             [
              0.1111111111111111,
              "#46039f"
             ],
             [
              0.2222222222222222,
              "#7201a8"
             ],
             [
              0.3333333333333333,
              "#9c179e"
             ],
             [
              0.4444444444444444,
              "#bd3786"
             ],
             [
              0.5555555555555556,
              "#d8576b"
             ],
             [
              0.6666666666666666,
              "#ed7953"
             ],
             [
              0.7777777777777778,
              "#fb9f3a"
             ],
             [
              0.8888888888888888,
              "#fdca26"
             ],
             [
              1,
              "#f0f921"
             ]
            ],
            "type": "histogram2d"
           }
          ],
          "histogram2dcontour": [
           {
            "colorbar": {
             "outlinewidth": 0,
             "ticks": ""
            },
            "colorscale": [
             [
              0,
              "#0d0887"
             ],
             [
              0.1111111111111111,
              "#46039f"
             ],
             [
              0.2222222222222222,
              "#7201a8"
             ],
             [
              0.3333333333333333,
              "#9c179e"
             ],
             [
              0.4444444444444444,
              "#bd3786"
             ],
             [
              0.5555555555555556,
              "#d8576b"
             ],
             [
              0.6666666666666666,
              "#ed7953"
             ],
             [
              0.7777777777777778,
              "#fb9f3a"
             ],
             [
              0.8888888888888888,
              "#fdca26"
             ],
             [
              1,
              "#f0f921"
             ]
            ],
            "type": "histogram2dcontour"
           }
          ],
          "mesh3d": [
           {
            "colorbar": {
             "outlinewidth": 0,
             "ticks": ""
            },
            "type": "mesh3d"
           }
          ],
          "parcoords": [
           {
            "line": {
             "colorbar": {
              "outlinewidth": 0,
              "ticks": ""
             }
            },
            "type": "parcoords"
           }
          ],
          "pie": [
           {
            "automargin": true,
            "type": "pie"
           }
          ],
          "scatter": [
           {
            "marker": {
             "colorbar": {
              "outlinewidth": 0,
              "ticks": ""
             }
            },
            "type": "scatter"
           }
          ],
          "scatter3d": [
           {
            "line": {
             "colorbar": {
              "outlinewidth": 0,
              "ticks": ""
             }
            },
            "marker": {
             "colorbar": {
              "outlinewidth": 0,
              "ticks": ""
             }
            },
            "type": "scatter3d"
           }
          ],
          "scattercarpet": [
           {
            "marker": {
             "colorbar": {
              "outlinewidth": 0,
              "ticks": ""
             }
            },
            "type": "scattercarpet"
           }
          ],
          "scattergeo": [
           {
            "marker": {
             "colorbar": {
              "outlinewidth": 0,
              "ticks": ""
             }
            },
            "type": "scattergeo"
           }
          ],
          "scattergl": [
           {
            "marker": {
             "colorbar": {
              "outlinewidth": 0,
              "ticks": ""
             }
            },
            "type": "scattergl"
           }
          ],
          "scattermapbox": [
           {
            "marker": {
             "colorbar": {
              "outlinewidth": 0,
              "ticks": ""
             }
            },
            "type": "scattermapbox"
           }
          ],
          "scatterpolar": [
           {
            "marker": {
             "colorbar": {
              "outlinewidth": 0,
              "ticks": ""
             }
            },
            "type": "scatterpolar"
           }
          ],
          "scatterpolargl": [
           {
            "marker": {
             "colorbar": {
              "outlinewidth": 0,
              "ticks": ""
             }
            },
            "type": "scatterpolargl"
           }
          ],
          "scatterternary": [
           {
            "marker": {
             "colorbar": {
              "outlinewidth": 0,
              "ticks": ""
             }
            },
            "type": "scatterternary"
           }
          ],
          "surface": [
           {
            "colorbar": {
             "outlinewidth": 0,
             "ticks": ""
            },
            "colorscale": [
             [
              0,
              "#0d0887"
             ],
             [
              0.1111111111111111,
              "#46039f"
             ],
             [
              0.2222222222222222,
              "#7201a8"
             ],
             [
              0.3333333333333333,
              "#9c179e"
             ],
             [
              0.4444444444444444,
              "#bd3786"
             ],
             [
              0.5555555555555556,
              "#d8576b"
             ],
             [
              0.6666666666666666,
              "#ed7953"
             ],
             [
              0.7777777777777778,
              "#fb9f3a"
             ],
             [
              0.8888888888888888,
              "#fdca26"
             ],
             [
              1,
              "#f0f921"
             ]
            ],
            "type": "surface"
           }
          ],
          "table": [
           {
            "cells": {
             "fill": {
              "color": "#EBF0F8"
             },
             "line": {
              "color": "white"
             }
            },
            "header": {
             "fill": {
              "color": "#C8D4E3"
             },
             "line": {
              "color": "white"
             }
            },
            "type": "table"
           }
          ]
         },
         "layout": {
          "annotationdefaults": {
           "arrowcolor": "#2a3f5f",
           "arrowhead": 0,
           "arrowwidth": 1
          },
          "coloraxis": {
           "colorbar": {
            "outlinewidth": 0,
            "ticks": ""
           }
          },
          "colorscale": {
           "diverging": [
            [
             0,
             "#8e0152"
            ],
            [
             0.1,
             "#c51b7d"
            ],
            [
             0.2,
             "#de77ae"
            ],
            [
             0.3,
             "#f1b6da"
            ],
            [
             0.4,
             "#fde0ef"
            ],
            [
             0.5,
             "#f7f7f7"
            ],
            [
             0.6,
             "#e6f5d0"
            ],
            [
             0.7,
             "#b8e186"
            ],
            [
             0.8,
             "#7fbc41"
            ],
            [
             0.9,
             "#4d9221"
            ],
            [
             1,
             "#276419"
            ]
           ],
           "sequential": [
            [
             0,
             "#0d0887"
            ],
            [
             0.1111111111111111,
             "#46039f"
            ],
            [
             0.2222222222222222,
             "#7201a8"
            ],
            [
             0.3333333333333333,
             "#9c179e"
            ],
            [
             0.4444444444444444,
             "#bd3786"
            ],
            [
             0.5555555555555556,
             "#d8576b"
            ],
            [
             0.6666666666666666,
             "#ed7953"
            ],
            [
             0.7777777777777778,
             "#fb9f3a"
            ],
            [
             0.8888888888888888,
             "#fdca26"
            ],
            [
             1,
             "#f0f921"
            ]
           ],
           "sequentialminus": [
            [
             0,
             "#0d0887"
            ],
            [
             0.1111111111111111,
             "#46039f"
            ],
            [
             0.2222222222222222,
             "#7201a8"
            ],
            [
             0.3333333333333333,
             "#9c179e"
            ],
            [
             0.4444444444444444,
             "#bd3786"
            ],
            [
             0.5555555555555556,
             "#d8576b"
            ],
            [
             0.6666666666666666,
             "#ed7953"
            ],
            [
             0.7777777777777778,
             "#fb9f3a"
            ],
            [
             0.8888888888888888,
             "#fdca26"
            ],
            [
             1,
             "#f0f921"
            ]
           ]
          },
          "colorway": [
           "#636efa",
           "#EF553B",
           "#00cc96",
           "#ab63fa",
           "#FFA15A",
           "#19d3f3",
           "#FF6692",
           "#B6E880",
           "#FF97FF",
           "#FECB52"
          ],
          "font": {
           "color": "#2a3f5f"
          },
          "geo": {
           "bgcolor": "white",
           "lakecolor": "white",
           "landcolor": "#E5ECF6",
           "showlakes": true,
           "showland": true,
           "subunitcolor": "white"
          },
          "hoverlabel": {
           "align": "left"
          },
          "hovermode": "closest",
          "mapbox": {
           "style": "light"
          },
          "paper_bgcolor": "white",
          "plot_bgcolor": "#E5ECF6",
          "polar": {
           "angularaxis": {
            "gridcolor": "white",
            "linecolor": "white",
            "ticks": ""
           },
           "bgcolor": "#E5ECF6",
           "radialaxis": {
            "gridcolor": "white",
            "linecolor": "white",
            "ticks": ""
           }
          },
          "scene": {
           "xaxis": {
            "backgroundcolor": "#E5ECF6",
            "gridcolor": "white",
            "gridwidth": 2,
            "linecolor": "white",
            "showbackground": true,
            "ticks": "",
            "zerolinecolor": "white"
           },
           "yaxis": {
            "backgroundcolor": "#E5ECF6",
            "gridcolor": "white",
            "gridwidth": 2,
            "linecolor": "white",
            "showbackground": true,
            "ticks": "",
            "zerolinecolor": "white"
           },
           "zaxis": {
            "backgroundcolor": "#E5ECF6",
            "gridcolor": "white",
            "gridwidth": 2,
            "linecolor": "white",
            "showbackground": true,
            "ticks": "",
            "zerolinecolor": "white"
           }
          },
          "shapedefaults": {
           "line": {
            "color": "#2a3f5f"
           }
          },
          "ternary": {
           "aaxis": {
            "gridcolor": "white",
            "linecolor": "white",
            "ticks": ""
           },
           "baxis": {
            "gridcolor": "white",
            "linecolor": "white",
            "ticks": ""
           },
           "bgcolor": "#E5ECF6",
           "caxis": {
            "gridcolor": "white",
            "linecolor": "white",
            "ticks": ""
           }
          },
          "title": {
           "x": 0.05
          },
          "xaxis": {
           "automargin": true,
           "gridcolor": "white",
           "linecolor": "white",
           "ticks": "",
           "title": {
            "standoff": 15
           },
           "zerolinecolor": "white",
           "zerolinewidth": 2
          },
          "yaxis": {
           "automargin": true,
           "gridcolor": "white",
           "linecolor": "white",
           "ticks": "",
           "title": {
            "standoff": 15
           },
           "zerolinecolor": "white",
           "zerolinewidth": 2
          }
         }
        },
        "xaxis": {
         "anchor": "y",
         "domain": [
          0,
          1
         ],
         "title": {
          "text": "year"
         }
        },
        "yaxis": {
         "anchor": "x",
         "domain": [
          0,
          1
         ],
         "title": {
          "text": "cgdppc"
         }
        }
       }
      },
      "text/html": [
       "<div>\n",
       "        \n",
       "        \n",
       "            <div id=\"8f69e329-506f-4ddb-ad93-2ad834b831a4\" class=\"plotly-graph-div\" style=\"height:525px; width:100%;\"></div>\n",
       "            <script type=\"text/javascript\">\n",
       "                require([\"plotly\"], function(Plotly) {\n",
       "                    window.PLOTLYENV=window.PLOTLYENV || {};\n",
       "                    \n",
       "                if (document.getElementById(\"8f69e329-506f-4ddb-ad93-2ad834b831a4\")) {\n",
       "                    Plotly.newPlot(\n",
       "                        '8f69e329-506f-4ddb-ad93-2ad834b831a4',\n",
       "                        [{\"hovertemplate\": \"countrycode=CHN<br>year=%{x}<br>cgdppc=%{y}<extra></extra>\", \"legendgroup\": \"CHN\", \"line\": {\"color\": \"#636efa\", \"dash\": \"solid\"}, \"mode\": \"lines\", \"name\": \"CHN\", \"orientation\": \"v\", \"showlegend\": true, \"type\": \"scatter\", \"x\": [1950.0, 1951.0, 1952.0, 1953.0, 1954.0, 1955.0, 1956.0, 1957.0, 1958.0, 1959.0, 1960.0, 1961.0, 1962.0, 1963.0, 1964.0, 1965.0, 1966.0, 1967.0, 1968.0, 1969.0, 1970.0, 1971.0, 1972.0, 1973.0, 1974.0, 1975.0, 1976.0, 1977.0, 1978.0, 1979.0, 1980.0, 1981.0, 1982.0, 1983.0, 1984.0, 1985.0, 1986.0, 1987.0, 1988.0, 1989.0, 1990.0, 1991.0, 1992.0, 1993.0, 1994.0, 1995.0, 1996.0, 1997.0, 1998.0, 1999.0, 2000.0, 2001.0, 2002.0, 2003.0, 2004.0, 2005.0, 2006.0, 2007.0, 2008.0, 2009.0, 2010.0, 2011.0, 2012.0, 2013.0, 2014.0, 2015.0, 2016.0], \"xaxis\": \"x\", \"y\": [757.0, 899.0, 989.0, 1098.0, 989.0, 1062.0, 1101.0, 1103.0, 1073.0, 988.0, 923.0, 799.0, 866.0, 950.0, 1050.0, 1134.0, 1147.0, 1151.0, 1093.0, 1172.0, 1291.0, 1355.0, 1307.0, 1372.0, 1378.0, 1425.0, 1384.0, 1413.0, 1583.0, 1648.0, 1690.0, 1675.0, 1826.0, 1907.0, 2120.0, 2310.0, 2409.0, 2510.0, 2571.0, 2509.0, 2460.0, 2550.0, 2731.0, 2997.0, 3135.0, 3302.0, 3494.0, 3540.0, 3554.0, 3765.0, 4071.0, 4400.0, 4793.0, 5122.0, 5595.0, 6338.0, 6937.0, 7482.0, 7741.0, 8394.0, 9475.0, 10221.0, 10654.0, 11088.0, 11708.0, 12002.0, 12320.0], \"yaxis\": \"y\"}, {\"hovertemplate\": \"countrycode=GBR<br>year=%{x}<br>cgdppc=%{y}<extra></extra>\", \"legendgroup\": \"GBR\", \"line\": {\"color\": \"#EF553B\", \"dash\": \"solid\"}, \"mode\": \"lines\", \"name\": \"GBR\", \"orientation\": \"v\", \"showlegend\": true, \"type\": \"scatter\", \"x\": [1948.0, 1949.0, 1950.0, 1951.0, 1952.0, 1953.0, 1954.0, 1955.0, 1956.0, 1957.0, 1958.0, 1959.0, 1960.0, 1961.0, 1962.0, 1963.0, 1964.0, 1965.0, 1966.0, 1967.0, 1968.0, 1969.0, 1970.0, 1971.0, 1972.0, 1973.0, 1974.0, 1975.0, 1976.0, 1977.0, 1978.0, 1979.0, 1980.0, 1981.0, 1982.0, 1983.0, 1984.0, 1985.0, 1986.0, 1987.0, 1988.0, 1989.0, 1990.0, 1991.0, 1992.0, 1993.0, 1994.0, 1995.0, 1996.0, 1997.0, 1998.0, 1999.0, 2000.0, 2001.0, 2002.0, 2003.0, 2004.0, 2005.0, 2006.0, 2007.0, 2008.0, 2009.0, 2010.0, 2011.0, 2012.0, 2013.0, 2014.0, 2015.0, 2016.0], \"xaxis\": \"x\", \"y\": [9165.0, 9457.0, 9441.0, 9599.0, 9507.0, 9957.0, 10400.0, 10779.0, 10944.0, 11127.0, 11132.0, 11525.0, 12000.0, 12385.0, 12426.0, 12849.0, 13513.0, 13802.0, 14099.0, 14440.0, 14610.0, 15241.0, 15715.0, 15703.0, 16053.0, 17116.0, 16824.0, 16745.0, 17398.0, 18138.0, 19124.0, 20129.0, 20593.0, 19975.0, 19865.0, 20105.0, 20270.0, 20712.0, 21303.0, 22246.0, 23075.0, 23642.0, 24002.0, 23696.0, 23812.0, 24481.0, 25353.0, 26500.0, 27775.0, 29840.0, 30978.0, 32245.0, 34390.0, 35182.0, 35384.0, 35354.0, 36320.0, 37724.0, 38251.0, 38071.0, 37657.0, 35730.0, 35116.0, 34971.0, 35784.0, 37702.0, 38220.0, 38749.0, 39162.0], \"yaxis\": \"y\"}, {\"hovertemplate\": \"countrycode=IND<br>year=%{x}<br>cgdppc=%{y}<extra></extra>\", \"legendgroup\": \"IND\", \"line\": {\"color\": \"#00cc96\", \"dash\": \"solid\"}, \"mode\": \"lines\", \"name\": \"IND\", \"orientation\": \"v\", \"showlegend\": true, \"type\": \"scatter\", \"x\": [1948.0, 1949.0, 1950.0, 1951.0, 1952.0, 1953.0, 1954.0, 1955.0, 1956.0, 1957.0, 1958.0, 1959.0, 1960.0, 1961.0, 1962.0, 1963.0, 1964.0, 1965.0, 1966.0, 1967.0, 1968.0, 1969.0, 1970.0, 1971.0, 1972.0, 1973.0, 1974.0, 1975.0, 1976.0, 1977.0, 1978.0, 1979.0, 1980.0, 1981.0, 1982.0, 1983.0, 1984.0, 1985.0, 1986.0, 1987.0, 1988.0, 1989.0, 1990.0, 1991.0, 1992.0, 1993.0, 1994.0, 1995.0, 1996.0, 1997.0, 1998.0, 1999.0, 2000.0, 2001.0, 2002.0, 2003.0, 2004.0, 2005.0, 2006.0, 2007.0, 2008.0, 2009.0, 2010.0, 2011.0, 2012.0, 2013.0, 2014.0, 2015.0, 2016.0], \"xaxis\": \"x\", \"y\": [1403.0, 1425.0, 1417.0, 1426.0, 1380.0, 1411.0, 1419.0, 1392.0, 1430.0, 1359.0, 1393.0, 1353.0, 1403.0, 1378.0, 1356.0, 1356.0, 1389.0, 1277.0, 1233.0, 1272.0, 1233.0, 1239.0, 1234.0, 1237.0, 1238.0, 1301.0, 1264.0, 1362.0, 1304.0, 1283.0, 1238.0, 1131.0, 1143.0, 1109.0, 1066.0, 1059.0, 1035.0, 1021.0, 1054.0, 1094.0, 1168.0, 1228.0, 1283.0, 1297.0, 1354.0, 1428.0, 1484.0, 1565.0, 1677.0, 1742.0, 1845.0, 1935.0, 2003.0, 2086.0, 2177.0, 2351.0, 2502.0, 2789.0, 3060.0, 3333.0, 3754.0, 3936.0, 4353.0, 4768.0, 4974.0, 5052.0, 5312.0, 5639.0, 5961.0], \"yaxis\": \"y\"}, {\"hovertemplate\": \"countrycode=JPN<br>year=%{x}<br>cgdppc=%{y}<extra></extra>\", \"legendgroup\": \"JPN\", \"line\": {\"color\": \"#ab63fa\", \"dash\": \"solid\"}, \"mode\": \"lines\", \"name\": \"JPN\", \"orientation\": \"v\", \"showlegend\": true, \"type\": \"scatter\", \"x\": [1948.0, 1949.0, 1950.0, 1951.0, 1952.0, 1953.0, 1954.0, 1955.0, 1956.0, 1957.0, 1958.0, 1959.0, 1960.0, 1961.0, 1962.0, 1963.0, 1964.0, 1965.0, 1966.0, 1967.0, 1968.0, 1969.0, 1970.0, 1971.0, 1972.0, 1973.0, 1974.0, 1975.0, 1976.0, 1977.0, 1978.0, 1979.0, 1980.0, 1981.0, 1982.0, 1983.0, 1984.0, 1985.0, 1986.0, 1987.0, 1988.0, 1989.0, 1990.0, 1991.0, 1992.0, 1993.0, 1994.0, 1995.0, 1996.0, 1997.0, 1998.0, 1999.0, 2000.0, 2001.0, 2002.0, 2003.0, 2004.0, 2005.0, 2006.0, 2007.0, 2008.0, 2009.0, 2010.0, 2011.0, 2012.0, 2013.0, 2014.0, 2015.0, 2016.0], \"xaxis\": \"x\", \"y\": [2268.0, 2363.0, 2519.0, 2853.0, 3086.0, 3217.0, 3357.0, 3631.0, 3841.0, 4067.0, 4324.0, 4652.0, 5185.0, 5730.0, 6261.0, 6668.0, 7371.0, 7753.0, 8526.0, 9364.0, 10536.0, 11753.0, 12904.0, 13521.0, 14548.0, 15453.0, 15101.0, 15703.0, 16508.0, 17403.0, 18504.0, 19490.0, 20408.0, 19954.0, 19602.0, 19052.0, 18897.0, 19017.0, 20373.0, 21518.0, 23400.0, 24869.0, 26341.0, 28111.0, 29064.0, 29967.0, 30728.0, 32146.0, 32540.0, 32662.0, 32132.0, 31980.0, 33294.0, 33086.0, 33215.0, 33576.0, 34354.0, 35292.0, 35572.0, 36054.0, 35257.0, 33798.0, 35477.0, 34979.0, 35143.0, 35494.0, 35550.0, 36030.0, 36452.0], \"yaxis\": \"y\"}, {\"hovertemplate\": \"countrycode=USA<br>year=%{x}<br>cgdppc=%{y}<extra></extra>\", \"legendgroup\": \"USA\", \"line\": {\"color\": \"#FFA15A\", \"dash\": \"solid\"}, \"mode\": \"lines\", \"name\": \"USA\", \"orientation\": \"v\", \"showlegend\": true, \"type\": \"scatter\", \"x\": [1948.0, 1949.0, 1950.0, 1951.0, 1952.0, 1953.0, 1954.0, 1955.0, 1956.0, 1957.0, 1958.0, 1959.0, 1960.0, 1961.0, 1962.0, 1963.0, 1964.0, 1965.0, 1966.0, 1967.0, 1968.0, 1969.0, 1970.0, 1971.0, 1972.0, 1973.0, 1974.0, 1975.0, 1976.0, 1977.0, 1978.0, 1979.0, 1980.0, 1981.0, 1982.0, 1983.0, 1984.0, 1985.0, 1986.0, 1987.0, 1988.0, 1989.0, 1990.0, 1991.0, 1992.0, 1993.0, 1994.0, 1995.0, 1996.0, 1997.0, 1998.0, 1999.0, 2000.0, 2001.0, 2002.0, 2003.0, 2004.0, 2005.0, 2006.0, 2007.0, 2008.0, 2009.0, 2010.0, 2011.0, 2012.0, 2013.0, 2014.0, 2015.0, 2016.0], \"xaxis\": \"x\", \"y\": [14559.0, 14112.0, 15241.0, 16126.0, 16443.0, 16917.0, 16513.0, 17370.0, 17398.0, 17407.0, 16945.0, 17901.0, 18058.0, 18175.0, 18977.0, 19515.0, 20360.0, 21390.0, 22529.0, 22842.0, 23692.0, 24196.0, 23958.0, 24395.0, 25415.0, 26603.0, 26287.0, 25956.0, 27059.0, 28001.0, 29287.0, 29951.0, 29613.0, 30056.0, 29211.0, 30159.0, 32076.0, 33024.0, 33851.0, 34730.0, 35865.0, 36757.0, 36982.0, 36464.0, 37241.0, 37762.0, 38808.0, 39391.0, 40414.0, 41723.0, 43073.0, 44576.0, 45887.0, 45878.0, 46267.0, 47158.0, 48493.0, 49655.0, 50490.0, 50902.0, 50276.0, 48453.0, 49267.0, 49675.0, 50394.0, 50863.0, 51664.0, 52591.0, 53015.0], \"yaxis\": \"y\"}],\n",
       "                        {\"legend\": {\"title\": {\"text\": \"countrycode\"}, \"tracegroupgap\": 0}, \"margin\": {\"t\": 60}, \"template\": {\"data\": {\"bar\": [{\"error_x\": {\"color\": \"#2a3f5f\"}, \"error_y\": {\"color\": \"#2a3f5f\"}, \"marker\": {\"line\": {\"color\": \"#E5ECF6\", \"width\": 0.5}}, \"type\": \"bar\"}], \"barpolar\": [{\"marker\": {\"line\": {\"color\": \"#E5ECF6\", \"width\": 0.5}}, \"type\": \"barpolar\"}], \"carpet\": [{\"aaxis\": {\"endlinecolor\": \"#2a3f5f\", \"gridcolor\": \"white\", \"linecolor\": \"white\", \"minorgridcolor\": \"white\", \"startlinecolor\": \"#2a3f5f\"}, \"baxis\": {\"endlinecolor\": \"#2a3f5f\", \"gridcolor\": \"white\", \"linecolor\": \"white\", \"minorgridcolor\": \"white\", \"startlinecolor\": \"#2a3f5f\"}, \"type\": \"carpet\"}], \"choropleth\": [{\"colorbar\": {\"outlinewidth\": 0, \"ticks\": \"\"}, \"type\": \"choropleth\"}], \"contour\": [{\"colorbar\": {\"outlinewidth\": 0, \"ticks\": \"\"}, \"colorscale\": [[0.0, \"#0d0887\"], [0.1111111111111111, \"#46039f\"], [0.2222222222222222, \"#7201a8\"], [0.3333333333333333, \"#9c179e\"], [0.4444444444444444, \"#bd3786\"], [0.5555555555555556, \"#d8576b\"], [0.6666666666666666, \"#ed7953\"], [0.7777777777777778, \"#fb9f3a\"], [0.8888888888888888, \"#fdca26\"], [1.0, \"#f0f921\"]], \"type\": \"contour\"}], \"contourcarpet\": [{\"colorbar\": {\"outlinewidth\": 0, \"ticks\": \"\"}, \"type\": \"contourcarpet\"}], \"heatmap\": [{\"colorbar\": {\"outlinewidth\": 0, \"ticks\": \"\"}, \"colorscale\": [[0.0, \"#0d0887\"], [0.1111111111111111, \"#46039f\"], [0.2222222222222222, \"#7201a8\"], [0.3333333333333333, \"#9c179e\"], [0.4444444444444444, \"#bd3786\"], [0.5555555555555556, \"#d8576b\"], [0.6666666666666666, \"#ed7953\"], [0.7777777777777778, \"#fb9f3a\"], [0.8888888888888888, \"#fdca26\"], [1.0, \"#f0f921\"]], \"type\": \"heatmap\"}], \"heatmapgl\": [{\"colorbar\": {\"outlinewidth\": 0, \"ticks\": \"\"}, \"colorscale\": [[0.0, \"#0d0887\"], [0.1111111111111111, \"#46039f\"], [0.2222222222222222, \"#7201a8\"], [0.3333333333333333, \"#9c179e\"], [0.4444444444444444, \"#bd3786\"], [0.5555555555555556, \"#d8576b\"], [0.6666666666666666, \"#ed7953\"], [0.7777777777777778, \"#fb9f3a\"], [0.8888888888888888, \"#fdca26\"], [1.0, \"#f0f921\"]], \"type\": \"heatmapgl\"}], \"histogram\": [{\"marker\": {\"colorbar\": {\"outlinewidth\": 0, \"ticks\": \"\"}}, \"type\": \"histogram\"}], \"histogram2d\": [{\"colorbar\": {\"outlinewidth\": 0, \"ticks\": \"\"}, \"colorscale\": [[0.0, \"#0d0887\"], [0.1111111111111111, \"#46039f\"], [0.2222222222222222, \"#7201a8\"], [0.3333333333333333, \"#9c179e\"], [0.4444444444444444, \"#bd3786\"], [0.5555555555555556, \"#d8576b\"], [0.6666666666666666, \"#ed7953\"], [0.7777777777777778, \"#fb9f3a\"], [0.8888888888888888, \"#fdca26\"], [1.0, \"#f0f921\"]], \"type\": \"histogram2d\"}], \"histogram2dcontour\": [{\"colorbar\": {\"outlinewidth\": 0, \"ticks\": \"\"}, \"colorscale\": [[0.0, \"#0d0887\"], [0.1111111111111111, \"#46039f\"], [0.2222222222222222, \"#7201a8\"], [0.3333333333333333, \"#9c179e\"], [0.4444444444444444, \"#bd3786\"], [0.5555555555555556, \"#d8576b\"], [0.6666666666666666, \"#ed7953\"], [0.7777777777777778, \"#fb9f3a\"], [0.8888888888888888, \"#fdca26\"], [1.0, \"#f0f921\"]], \"type\": \"histogram2dcontour\"}], \"mesh3d\": [{\"colorbar\": {\"outlinewidth\": 0, \"ticks\": \"\"}, \"type\": \"mesh3d\"}], \"parcoords\": [{\"line\": {\"colorbar\": {\"outlinewidth\": 0, \"ticks\": \"\"}}, \"type\": \"parcoords\"}], \"pie\": [{\"automargin\": true, \"type\": \"pie\"}], \"scatter\": [{\"marker\": {\"colorbar\": {\"outlinewidth\": 0, \"ticks\": \"\"}}, \"type\": \"scatter\"}], \"scatter3d\": [{\"line\": {\"colorbar\": {\"outlinewidth\": 0, \"ticks\": \"\"}}, \"marker\": {\"colorbar\": {\"outlinewidth\": 0, \"ticks\": \"\"}}, \"type\": \"scatter3d\"}], \"scattercarpet\": [{\"marker\": {\"colorbar\": {\"outlinewidth\": 0, \"ticks\": \"\"}}, \"type\": \"scattercarpet\"}], \"scattergeo\": [{\"marker\": {\"colorbar\": {\"outlinewidth\": 0, \"ticks\": \"\"}}, \"type\": \"scattergeo\"}], \"scattergl\": [{\"marker\": {\"colorbar\": {\"outlinewidth\": 0, \"ticks\": \"\"}}, \"type\": \"scattergl\"}], \"scattermapbox\": [{\"marker\": {\"colorbar\": {\"outlinewidth\": 0, \"ticks\": \"\"}}, \"type\": \"scattermapbox\"}], \"scatterpolar\": [{\"marker\": {\"colorbar\": {\"outlinewidth\": 0, \"ticks\": \"\"}}, \"type\": \"scatterpolar\"}], \"scatterpolargl\": [{\"marker\": {\"colorbar\": {\"outlinewidth\": 0, \"ticks\": \"\"}}, \"type\": \"scatterpolargl\"}], \"scatterternary\": [{\"marker\": {\"colorbar\": {\"outlinewidth\": 0, \"ticks\": \"\"}}, \"type\": \"scatterternary\"}], \"surface\": [{\"colorbar\": {\"outlinewidth\": 0, \"ticks\": \"\"}, \"colorscale\": [[0.0, \"#0d0887\"], [0.1111111111111111, \"#46039f\"], [0.2222222222222222, \"#7201a8\"], [0.3333333333333333, \"#9c179e\"], [0.4444444444444444, \"#bd3786\"], [0.5555555555555556, \"#d8576b\"], [0.6666666666666666, \"#ed7953\"], [0.7777777777777778, \"#fb9f3a\"], [0.8888888888888888, \"#fdca26\"], [1.0, \"#f0f921\"]], \"type\": \"surface\"}], \"table\": [{\"cells\": {\"fill\": {\"color\": \"#EBF0F8\"}, \"line\": {\"color\": \"white\"}}, \"header\": {\"fill\": {\"color\": \"#C8D4E3\"}, \"line\": {\"color\": \"white\"}}, \"type\": \"table\"}]}, \"layout\": {\"annotationdefaults\": {\"arrowcolor\": \"#2a3f5f\", \"arrowhead\": 0, \"arrowwidth\": 1}, \"coloraxis\": {\"colorbar\": {\"outlinewidth\": 0, \"ticks\": \"\"}}, \"colorscale\": {\"diverging\": [[0, \"#8e0152\"], [0.1, \"#c51b7d\"], [0.2, \"#de77ae\"], [0.3, \"#f1b6da\"], [0.4, \"#fde0ef\"], [0.5, \"#f7f7f7\"], [0.6, \"#e6f5d0\"], [0.7, \"#b8e186\"], [0.8, \"#7fbc41\"], [0.9, \"#4d9221\"], [1, \"#276419\"]], \"sequential\": [[0.0, \"#0d0887\"], [0.1111111111111111, \"#46039f\"], [0.2222222222222222, \"#7201a8\"], [0.3333333333333333, \"#9c179e\"], [0.4444444444444444, \"#bd3786\"], [0.5555555555555556, \"#d8576b\"], [0.6666666666666666, \"#ed7953\"], [0.7777777777777778, \"#fb9f3a\"], [0.8888888888888888, \"#fdca26\"], [1.0, \"#f0f921\"]], \"sequentialminus\": [[0.0, \"#0d0887\"], [0.1111111111111111, \"#46039f\"], [0.2222222222222222, \"#7201a8\"], [0.3333333333333333, \"#9c179e\"], [0.4444444444444444, \"#bd3786\"], [0.5555555555555556, \"#d8576b\"], [0.6666666666666666, \"#ed7953\"], [0.7777777777777778, \"#fb9f3a\"], [0.8888888888888888, \"#fdca26\"], [1.0, \"#f0f921\"]]}, \"colorway\": [\"#636efa\", \"#EF553B\", \"#00cc96\", \"#ab63fa\", \"#FFA15A\", \"#19d3f3\", \"#FF6692\", \"#B6E880\", \"#FF97FF\", \"#FECB52\"], \"font\": {\"color\": \"#2a3f5f\"}, \"geo\": {\"bgcolor\": \"white\", \"lakecolor\": \"white\", \"landcolor\": \"#E5ECF6\", \"showlakes\": true, \"showland\": true, \"subunitcolor\": \"white\"}, \"hoverlabel\": {\"align\": \"left\"}, \"hovermode\": \"closest\", \"mapbox\": {\"style\": \"light\"}, \"paper_bgcolor\": \"white\", \"plot_bgcolor\": \"#E5ECF6\", \"polar\": {\"angularaxis\": {\"gridcolor\": \"white\", \"linecolor\": \"white\", \"ticks\": \"\"}, \"bgcolor\": \"#E5ECF6\", \"radialaxis\": {\"gridcolor\": \"white\", \"linecolor\": \"white\", \"ticks\": \"\"}}, \"scene\": {\"xaxis\": {\"backgroundcolor\": \"#E5ECF6\", \"gridcolor\": \"white\", \"gridwidth\": 2, \"linecolor\": \"white\", \"showbackground\": true, \"ticks\": \"\", \"zerolinecolor\": \"white\"}, \"yaxis\": {\"backgroundcolor\": \"#E5ECF6\", \"gridcolor\": \"white\", \"gridwidth\": 2, \"linecolor\": \"white\", \"showbackground\": true, \"ticks\": \"\", \"zerolinecolor\": \"white\"}, \"zaxis\": {\"backgroundcolor\": \"#E5ECF6\", \"gridcolor\": \"white\", \"gridwidth\": 2, \"linecolor\": \"white\", \"showbackground\": true, \"ticks\": \"\", \"zerolinecolor\": \"white\"}}, \"shapedefaults\": {\"line\": {\"color\": \"#2a3f5f\"}}, \"ternary\": {\"aaxis\": {\"gridcolor\": \"white\", \"linecolor\": \"white\", \"ticks\": \"\"}, \"baxis\": {\"gridcolor\": \"white\", \"linecolor\": \"white\", \"ticks\": \"\"}, \"bgcolor\": \"#E5ECF6\", \"caxis\": {\"gridcolor\": \"white\", \"linecolor\": \"white\", \"ticks\": \"\"}}, \"title\": {\"x\": 0.05}, \"xaxis\": {\"automargin\": true, \"gridcolor\": \"white\", \"linecolor\": \"white\", \"ticks\": \"\", \"title\": {\"standoff\": 15}, \"zerolinecolor\": \"white\", \"zerolinewidth\": 2}, \"yaxis\": {\"automargin\": true, \"gridcolor\": \"white\", \"linecolor\": \"white\", \"ticks\": \"\", \"title\": {\"standoff\": 15}, \"zerolinecolor\": \"white\", \"zerolinewidth\": 2}}}, \"xaxis\": {\"anchor\": \"y\", \"domain\": [0.0, 1.0], \"title\": {\"text\": \"year\"}}, \"yaxis\": {\"anchor\": \"x\", \"domain\": [0.0, 1.0], \"title\": {\"text\": \"cgdppc\"}}},\n",
       "                        {\"responsive\": true}\n",
       "                    ).then(function(){\n",
       "                            \n",
       "var gd = document.getElementById('8f69e329-506f-4ddb-ad93-2ad834b831a4');\n",
       "var x = new MutationObserver(function (mutations, observer) {{\n",
       "        var display = window.getComputedStyle(gd).display;\n",
       "        if (!display || display === 'none') {{\n",
       "            console.log([gd, 'removed!']);\n",
       "            Plotly.purge(gd);\n",
       "            observer.disconnect();\n",
       "        }}\n",
       "}});\n",
       "\n",
       "// Listen for the removal of the full notebook cells\n",
       "var notebookContainer = gd.closest('#notebook-container');\n",
       "if (notebookContainer) {{\n",
       "    x.observe(notebookContainer, {childList: true});\n",
       "}}\n",
       "\n",
       "// Listen for the clearing of the current output cell\n",
       "var outputEl = gd.closest('.output');\n",
       "if (outputEl) {{\n",
       "    x.observe(outputEl, {childList: true});\n",
       "}}\n",
       "\n",
       "                        })\n",
       "                };\n",
       "                });\n",
       "            </script>\n",
       "        </div>"
      ]
     },
     "metadata": {},
     "output_type": "display_data"
    }
   ],
   "source": [
    "import pandas as pd\n",
    "import plotly.express as px\n",
    "\n",
    "# Madison Project Historical GDP Data\n",
    "df = pd.read_stata(\"/Users/kalyan/OneDrive-IIMV/OneDrive - IIM VIZAG/Python-Exercise-KK/base-data/mpd2018.dta\")\n",
    "print(df.columns)\n",
    "df.dropna(subset=[\"year\",\"cgdppc\"],inplace=True)\n",
    "#country_list = ['IND','CHN','USA', 'PAK','GBR','JPN']\n",
    "country_list = ['IND','CHN','USA','GBR','JPN']\n",
    "\n",
    "filt = df['countrycode'].isin(country_list) & (df['year'] > 1947)\n",
    "df = df[['year','cgdppc','rgdpnapc','country','countrycode']][filt]\n",
    "df\n",
    "fig = px.line(df, x=\"year\", y=\"cgdppc\", color=\"countrycode\")\n",
    "fig.show()\n"
   ]
  },
  {
   "cell_type": "code",
   "execution_count": 4,
   "metadata": {},
   "outputs": [
    {
     "name": "stdout",
     "output_type": "stream",
     "text": [
      "Index(['countrycode', 'country', 'year', 'cgdppc', 'rgdpnapc', 'pop', 'i_cig',\n",
      "       'i_bm'],\n",
      "      dtype='object')\n"
     ]
    },
    {
     "data": {
      "application/vnd.plotly.v1+json": {
       "config": {
        "plotlyServerURL": "https://plot.ly"
       },
       "data": [
        {
         "hovertemplate": "countrycode=CHN<br>year=%{x}<br>cgdppc=%{y}<extra></extra>",
         "legendgroup": "CHN",
         "line": {
          "color": "#636efa",
          "dash": "solid"
         },
         "mode": "lines",
         "name": "CHN",
         "orientation": "v",
         "showlegend": true,
         "type": "scatter",
         "x": [
          1950,
          1951,
          1952,
          1953,
          1954,
          1955,
          1956,
          1957,
          1958,
          1959,
          1960,
          1961,
          1962,
          1963,
          1964,
          1965,
          1966,
          1967,
          1968,
          1969,
          1970,
          1971,
          1972,
          1973,
          1974,
          1975,
          1976,
          1977,
          1978,
          1979,
          1980,
          1981,
          1982,
          1983,
          1984,
          1985,
          1986,
          1987,
          1988,
          1989,
          1990,
          1991,
          1992,
          1993,
          1994,
          1995,
          1996,
          1997,
          1998,
          1999,
          2000,
          2001,
          2002,
          2003,
          2004,
          2005,
          2006,
          2007,
          2008,
          2009,
          2010,
          2011,
          2012,
          2013,
          2014,
          2015,
          2016
         ],
         "xaxis": "x",
         "y": [
          757,
          899,
          989,
          1098,
          989,
          1062,
          1101,
          1103,
          1073,
          988,
          923,
          799,
          866,
          950,
          1050,
          1134,
          1147,
          1151,
          1093,
          1172,
          1291,
          1355,
          1307,
          1372,
          1378,
          1425,
          1384,
          1413,
          1583,
          1648,
          1690,
          1675,
          1826,
          1907,
          2120,
          2310,
          2409,
          2510,
          2571,
          2509,
          2460,
          2550,
          2731,
          2997,
          3135,
          3302,
          3494,
          3540,
          3554,
          3765,
          4071,
          4400,
          4793,
          5122,
          5595,
          6338,
          6937,
          7482,
          7741,
          8394,
          9475,
          10221,
          10654,
          11088,
          11708,
          12002,
          12320
         ],
         "yaxis": "y"
        },
        {
         "hovertemplate": "countrycode=GBR<br>year=%{x}<br>cgdppc=%{y}<extra></extra>",
         "legendgroup": "GBR",
         "line": {
          "color": "#EF553B",
          "dash": "solid"
         },
         "mode": "lines",
         "name": "GBR",
         "orientation": "v",
         "showlegend": true,
         "type": "scatter",
         "x": [
          1948,
          1949,
          1950,
          1951,
          1952,
          1953,
          1954,
          1955,
          1956,
          1957,
          1958,
          1959,
          1960,
          1961,
          1962,
          1963,
          1964,
          1965,
          1966,
          1967,
          1968,
          1969,
          1970,
          1971,
          1972,
          1973,
          1974,
          1975,
          1976,
          1977,
          1978,
          1979,
          1980,
          1981,
          1982,
          1983,
          1984,
          1985,
          1986,
          1987,
          1988,
          1989,
          1990,
          1991,
          1992,
          1993,
          1994,
          1995,
          1996,
          1997,
          1998,
          1999,
          2000,
          2001,
          2002,
          2003,
          2004,
          2005,
          2006,
          2007,
          2008,
          2009,
          2010,
          2011,
          2012,
          2013,
          2014,
          2015,
          2016
         ],
         "xaxis": "x",
         "y": [
          9165,
          9457,
          9441,
          9599,
          9507,
          9957,
          10400,
          10779,
          10944,
          11127,
          11132,
          11525,
          12000,
          12385,
          12426,
          12849,
          13513,
          13802,
          14099,
          14440,
          14610,
          15241,
          15715,
          15703,
          16053,
          17116,
          16824,
          16745,
          17398,
          18138,
          19124,
          20129,
          20593,
          19975,
          19865,
          20105,
          20270,
          20712,
          21303,
          22246,
          23075,
          23642,
          24002,
          23696,
          23812,
          24481,
          25353,
          26500,
          27775,
          29840,
          30978,
          32245,
          34390,
          35182,
          35384,
          35354,
          36320,
          37724,
          38251,
          38071,
          37657,
          35730,
          35116,
          34971,
          35784,
          37702,
          38220,
          38749,
          39162
         ],
         "yaxis": "y"
        },
        {
         "hovertemplate": "countrycode=IND<br>year=%{x}<br>cgdppc=%{y}<extra></extra>",
         "legendgroup": "IND",
         "line": {
          "color": "#00cc96",
          "dash": "solid"
         },
         "mode": "lines",
         "name": "IND",
         "orientation": "v",
         "showlegend": true,
         "type": "scatter",
         "x": [
          1948,
          1949,
          1950,
          1951,
          1952,
          1953,
          1954,
          1955,
          1956,
          1957,
          1958,
          1959,
          1960,
          1961,
          1962,
          1963,
          1964,
          1965,
          1966,
          1967,
          1968,
          1969,
          1970,
          1971,
          1972,
          1973,
          1974,
          1975,
          1976,
          1977,
          1978,
          1979,
          1980,
          1981,
          1982,
          1983,
          1984,
          1985,
          1986,
          1987,
          1988,
          1989,
          1990,
          1991,
          1992,
          1993,
          1994,
          1995,
          1996,
          1997,
          1998,
          1999,
          2000,
          2001,
          2002,
          2003,
          2004,
          2005,
          2006,
          2007,
          2008,
          2009,
          2010,
          2011,
          2012,
          2013,
          2014,
          2015,
          2016
         ],
         "xaxis": "x",
         "y": [
          1403,
          1425,
          1417,
          1426,
          1380,
          1411,
          1419,
          1392,
          1430,
          1359,
          1393,
          1353,
          1403,
          1378,
          1356,
          1356,
          1389,
          1277,
          1233,
          1272,
          1233,
          1239,
          1234,
          1237,
          1238,
          1301,
          1264,
          1362,
          1304,
          1283,
          1238,
          1131,
          1143,
          1109,
          1066,
          1059,
          1035,
          1021,
          1054,
          1094,
          1168,
          1228,
          1283,
          1297,
          1354,
          1428,
          1484,
          1565,
          1677,
          1742,
          1845,
          1935,
          2003,
          2086,
          2177,
          2351,
          2502,
          2789,
          3060,
          3333,
          3754,
          3936,
          4353,
          4768,
          4974,
          5052,
          5312,
          5639,
          5961
         ],
         "yaxis": "y"
        },
        {
         "hovertemplate": "countrycode=JPN<br>year=%{x}<br>cgdppc=%{y}<extra></extra>",
         "legendgroup": "JPN",
         "line": {
          "color": "#ab63fa",
          "dash": "solid"
         },
         "mode": "lines",
         "name": "JPN",
         "orientation": "v",
         "showlegend": true,
         "type": "scatter",
         "x": [
          1948,
          1949,
          1950,
          1951,
          1952,
          1953,
          1954,
          1955,
          1956,
          1957,
          1958,
          1959,
          1960,
          1961,
          1962,
          1963,
          1964,
          1965,
          1966,
          1967,
          1968,
          1969,
          1970,
          1971,
          1972,
          1973,
          1974,
          1975,
          1976,
          1977,
          1978,
          1979,
          1980,
          1981,
          1982,
          1983,
          1984,
          1985,
          1986,
          1987,
          1988,
          1989,
          1990,
          1991,
          1992,
          1993,
          1994,
          1995,
          1996,
          1997,
          1998,
          1999,
          2000,
          2001,
          2002,
          2003,
          2004,
          2005,
          2006,
          2007,
          2008,
          2009,
          2010,
          2011,
          2012,
          2013,
          2014,
          2015,
          2016
         ],
         "xaxis": "x",
         "y": [
          2268,
          2363,
          2519,
          2853,
          3086,
          3217,
          3357,
          3631,
          3841,
          4067,
          4324,
          4652,
          5185,
          5730,
          6261,
          6668,
          7371,
          7753,
          8526,
          9364,
          10536,
          11753,
          12904,
          13521,
          14548,
          15453,
          15101,
          15703,
          16508,
          17403,
          18504,
          19490,
          20408,
          19954,
          19602,
          19052,
          18897,
          19017,
          20373,
          21518,
          23400,
          24869,
          26341,
          28111,
          29064,
          29967,
          30728,
          32146,
          32540,
          32662,
          32132,
          31980,
          33294,
          33086,
          33215,
          33576,
          34354,
          35292,
          35572,
          36054,
          35257,
          33798,
          35477,
          34979,
          35143,
          35494,
          35550,
          36030,
          36452
         ],
         "yaxis": "y"
        },
        {
         "hovertemplate": "countrycode=USA<br>year=%{x}<br>cgdppc=%{y}<extra></extra>",
         "legendgroup": "USA",
         "line": {
          "color": "#FFA15A",
          "dash": "solid"
         },
         "mode": "lines",
         "name": "USA",
         "orientation": "v",
         "showlegend": true,
         "type": "scatter",
         "x": [
          1948,
          1949,
          1950,
          1951,
          1952,
          1953,
          1954,
          1955,
          1956,
          1957,
          1958,
          1959,
          1960,
          1961,
          1962,
          1963,
          1964,
          1965,
          1966,
          1967,
          1968,
          1969,
          1970,
          1971,
          1972,
          1973,
          1974,
          1975,
          1976,
          1977,
          1978,
          1979,
          1980,
          1981,
          1982,
          1983,
          1984,
          1985,
          1986,
          1987,
          1988,
          1989,
          1990,
          1991,
          1992,
          1993,
          1994,
          1995,
          1996,
          1997,
          1998,
          1999,
          2000,
          2001,
          2002,
          2003,
          2004,
          2005,
          2006,
          2007,
          2008,
          2009,
          2010,
          2011,
          2012,
          2013,
          2014,
          2015,
          2016
         ],
         "xaxis": "x",
         "y": [
          14559,
          14112,
          15241,
          16126,
          16443,
          16917,
          16513,
          17370,
          17398,
          17407,
          16945,
          17901,
          18058,
          18175,
          18977,
          19515,
          20360,
          21390,
          22529,
          22842,
          23692,
          24196,
          23958,
          24395,
          25415,
          26603,
          26287,
          25956,
          27059,
          28001,
          29287,
          29951,
          29613,
          30056,
          29211,
          30159,
          32076,
          33024,
          33851,
          34730,
          35865,
          36757,
          36982,
          36464,
          37241,
          37762,
          38808,
          39391,
          40414,
          41723,
          43073,
          44576,
          45887,
          45878,
          46267,
          47158,
          48493,
          49655,
          50490,
          50902,
          50276,
          48453,
          49267,
          49675,
          50394,
          50863,
          51664,
          52591,
          53015
         ],
         "yaxis": "y"
        }
       ],
       "layout": {
        "legend": {
         "title": {
          "text": "countrycode"
         },
         "tracegroupgap": 0
        },
        "margin": {
         "t": 60
        },
        "shapes": [
         {
          "line": {
           "color": "Black",
           "dash": "dashdot",
           "width": 2
          },
          "type": "line",
          "x0": 2016,
          "x1": 2005,
          "xref": "x",
          "y0": 5961,
          "y1": 5961,
          "yref": "y"
         },
         {
          "line": {
           "color": "Red",
           "dash": "dash",
           "width": 2
          },
          "type": "line",
          "x0": 2016,
          "x1": 1962,
          "xref": "x",
          "y0": 5961,
          "y1": 5961,
          "yref": "y"
         }
        ],
        "template": {
         "data": {
          "bar": [
           {
            "error_x": {
             "color": "#2a3f5f"
            },
            "error_y": {
             "color": "#2a3f5f"
            },
            "marker": {
             "line": {
              "color": "#E5ECF6",
              "width": 0.5
             }
            },
            "type": "bar"
           }
          ],
          "barpolar": [
           {
            "marker": {
             "line": {
              "color": "#E5ECF6",
              "width": 0.5
             }
            },
            "type": "barpolar"
           }
          ],
          "carpet": [
           {
            "aaxis": {
             "endlinecolor": "#2a3f5f",
             "gridcolor": "white",
             "linecolor": "white",
             "minorgridcolor": "white",
             "startlinecolor": "#2a3f5f"
            },
            "baxis": {
             "endlinecolor": "#2a3f5f",
             "gridcolor": "white",
             "linecolor": "white",
             "minorgridcolor": "white",
             "startlinecolor": "#2a3f5f"
            },
            "type": "carpet"
           }
          ],
          "choropleth": [
           {
            "colorbar": {
             "outlinewidth": 0,
             "ticks": ""
            },
            "type": "choropleth"
           }
          ],
          "contour": [
           {
            "colorbar": {
             "outlinewidth": 0,
             "ticks": ""
            },
            "colorscale": [
             [
              0,
              "#0d0887"
             ],
             [
              0.1111111111111111,
              "#46039f"
             ],
             [
              0.2222222222222222,
              "#7201a8"
             ],
             [
              0.3333333333333333,
              "#9c179e"
             ],
             [
              0.4444444444444444,
              "#bd3786"
             ],
             [
              0.5555555555555556,
              "#d8576b"
             ],
             [
              0.6666666666666666,
              "#ed7953"
             ],
             [
              0.7777777777777778,
              "#fb9f3a"
             ],
             [
              0.8888888888888888,
              "#fdca26"
             ],
             [
              1,
              "#f0f921"
             ]
            ],
            "type": "contour"
           }
          ],
          "contourcarpet": [
           {
            "colorbar": {
             "outlinewidth": 0,
             "ticks": ""
            },
            "type": "contourcarpet"
           }
          ],
          "heatmap": [
           {
            "colorbar": {
             "outlinewidth": 0,
             "ticks": ""
            },
            "colorscale": [
             [
              0,
              "#0d0887"
             ],
             [
              0.1111111111111111,
              "#46039f"
             ],
             [
              0.2222222222222222,
              "#7201a8"
             ],
             [
              0.3333333333333333,
              "#9c179e"
             ],
             [
              0.4444444444444444,
              "#bd3786"
             ],
             [
              0.5555555555555556,
              "#d8576b"
             ],
             [
              0.6666666666666666,
              "#ed7953"
             ],
             [
              0.7777777777777778,
              "#fb9f3a"
             ],
             [
              0.8888888888888888,
              "#fdca26"
             ],
             [
              1,
              "#f0f921"
             ]
            ],
            "type": "heatmap"
           }
          ],
          "heatmapgl": [
           {
            "colorbar": {
             "outlinewidth": 0,
             "ticks": ""
            },
            "colorscale": [
             [
              0,
              "#0d0887"
             ],
             [
              0.1111111111111111,
              "#46039f"
             ],
             [
              0.2222222222222222,
              "#7201a8"
             ],
             [
              0.3333333333333333,
              "#9c179e"
             ],
             [
              0.4444444444444444,
              "#bd3786"
             ],
             [
              0.5555555555555556,
              "#d8576b"
             ],
             [
              0.6666666666666666,
              "#ed7953"
             ],
             [
              0.7777777777777778,
              "#fb9f3a"
             ],
             [
              0.8888888888888888,
              "#fdca26"
             ],
             [
              1,
              "#f0f921"
             ]
            ],
            "type": "heatmapgl"
           }
          ],
          "histogram": [
           {
            "marker": {
             "colorbar": {
              "outlinewidth": 0,
              "ticks": ""
             }
            },
            "type": "histogram"
           }
          ],
          "histogram2d": [
           {
            "colorbar": {
             "outlinewidth": 0,
             "ticks": ""
            },
            "colorscale": [
             [
              0,
              "#0d0887"
             ],
             [
              0.1111111111111111,
              "#46039f"
             ],
             [
              0.2222222222222222,
              "#7201a8"
             ],
             [
              0.3333333333333333,
              "#9c179e"
             ],
             [
              0.4444444444444444,
              "#bd3786"
             ],
             [
              0.5555555555555556,
              "#d8576b"
             ],
             [
              0.6666666666666666,
              "#ed7953"
             ],
             [
              0.7777777777777778,
              "#fb9f3a"
             ],
             [
              0.8888888888888888,
              "#fdca26"
             ],
             [
              1,
              "#f0f921"
             ]
            ],
            "type": "histogram2d"
           }
          ],
          "histogram2dcontour": [
           {
            "colorbar": {
             "outlinewidth": 0,
             "ticks": ""
            },
            "colorscale": [
             [
              0,
              "#0d0887"
             ],
             [
              0.1111111111111111,
              "#46039f"
             ],
             [
              0.2222222222222222,
              "#7201a8"
             ],
             [
              0.3333333333333333,
              "#9c179e"
             ],
             [
              0.4444444444444444,
              "#bd3786"
             ],
             [
              0.5555555555555556,
              "#d8576b"
             ],
             [
              0.6666666666666666,
              "#ed7953"
             ],
             [
              0.7777777777777778,
              "#fb9f3a"
             ],
             [
              0.8888888888888888,
              "#fdca26"
             ],
             [
              1,
              "#f0f921"
             ]
            ],
            "type": "histogram2dcontour"
           }
          ],
          "mesh3d": [
           {
            "colorbar": {
             "outlinewidth": 0,
             "ticks": ""
            },
            "type": "mesh3d"
           }
          ],
          "parcoords": [
           {
            "line": {
             "colorbar": {
              "outlinewidth": 0,
              "ticks": ""
             }
            },
            "type": "parcoords"
           }
          ],
          "pie": [
           {
            "automargin": true,
            "type": "pie"
           }
          ],
          "scatter": [
           {
            "marker": {
             "colorbar": {
              "outlinewidth": 0,
              "ticks": ""
             }
            },
            "type": "scatter"
           }
          ],
          "scatter3d": [
           {
            "line": {
             "colorbar": {
              "outlinewidth": 0,
              "ticks": ""
             }
            },
            "marker": {
             "colorbar": {
              "outlinewidth": 0,
              "ticks": ""
             }
            },
            "type": "scatter3d"
           }
          ],
          "scattercarpet": [
           {
            "marker": {
             "colorbar": {
              "outlinewidth": 0,
              "ticks": ""
             }
            },
            "type": "scattercarpet"
           }
          ],
          "scattergeo": [
           {
            "marker": {
             "colorbar": {
              "outlinewidth": 0,
              "ticks": ""
             }
            },
            "type": "scattergeo"
           }
          ],
          "scattergl": [
           {
            "marker": {
             "colorbar": {
              "outlinewidth": 0,
              "ticks": ""
             }
            },
            "type": "scattergl"
           }
          ],
          "scattermapbox": [
           {
            "marker": {
             "colorbar": {
              "outlinewidth": 0,
              "ticks": ""
             }
            },
            "type": "scattermapbox"
           }
          ],
          "scatterpolar": [
           {
            "marker": {
             "colorbar": {
              "outlinewidth": 0,
              "ticks": ""
             }
            },
            "type": "scatterpolar"
           }
          ],
          "scatterpolargl": [
           {
            "marker": {
             "colorbar": {
              "outlinewidth": 0,
              "ticks": ""
             }
            },
            "type": "scatterpolargl"
           }
          ],
          "scatterternary": [
           {
            "marker": {
             "colorbar": {
              "outlinewidth": 0,
              "ticks": ""
             }
            },
            "type": "scatterternary"
           }
          ],
          "surface": [
           {
            "colorbar": {
             "outlinewidth": 0,
             "ticks": ""
            },
            "colorscale": [
             [
              0,
              "#0d0887"
             ],
             [
              0.1111111111111111,
              "#46039f"
             ],
             [
              0.2222222222222222,
              "#7201a8"
             ],
             [
              0.3333333333333333,
              "#9c179e"
             ],
             [
              0.4444444444444444,
              "#bd3786"
             ],
             [
              0.5555555555555556,
              "#d8576b"
             ],
             [
              0.6666666666666666,
              "#ed7953"
             ],
             [
              0.7777777777777778,
              "#fb9f3a"
             ],
             [
              0.8888888888888888,
              "#fdca26"
             ],
             [
              1,
              "#f0f921"
             ]
            ],
            "type": "surface"
           }
          ],
          "table": [
           {
            "cells": {
             "fill": {
              "color": "#EBF0F8"
             },
             "line": {
              "color": "white"
             }
            },
            "header": {
             "fill": {
              "color": "#C8D4E3"
             },
             "line": {
              "color": "white"
             }
            },
            "type": "table"
           }
          ]
         },
         "layout": {
          "annotationdefaults": {
           "arrowcolor": "#2a3f5f",
           "arrowhead": 0,
           "arrowwidth": 1
          },
          "coloraxis": {
           "colorbar": {
            "outlinewidth": 0,
            "ticks": ""
           }
          },
          "colorscale": {
           "diverging": [
            [
             0,
             "#8e0152"
            ],
            [
             0.1,
             "#c51b7d"
            ],
            [
             0.2,
             "#de77ae"
            ],
            [
             0.3,
             "#f1b6da"
            ],
            [
             0.4,
             "#fde0ef"
            ],
            [
             0.5,
             "#f7f7f7"
            ],
            [
             0.6,
             "#e6f5d0"
            ],
            [
             0.7,
             "#b8e186"
            ],
            [
             0.8,
             "#7fbc41"
            ],
            [
             0.9,
             "#4d9221"
            ],
            [
             1,
             "#276419"
            ]
           ],
           "sequential": [
            [
             0,
             "#0d0887"
            ],
            [
             0.1111111111111111,
             "#46039f"
            ],
            [
             0.2222222222222222,
             "#7201a8"
            ],
            [
             0.3333333333333333,
             "#9c179e"
            ],
            [
             0.4444444444444444,
             "#bd3786"
            ],
            [
             0.5555555555555556,
             "#d8576b"
            ],
            [
             0.6666666666666666,
             "#ed7953"
            ],
            [
             0.7777777777777778,
             "#fb9f3a"
            ],
            [
             0.8888888888888888,
             "#fdca26"
            ],
            [
             1,
             "#f0f921"
            ]
           ],
           "sequentialminus": [
            [
             0,
             "#0d0887"
            ],
            [
             0.1111111111111111,
             "#46039f"
            ],
            [
             0.2222222222222222,
             "#7201a8"
            ],
            [
             0.3333333333333333,
             "#9c179e"
            ],
            [
             0.4444444444444444,
             "#bd3786"
            ],
            [
             0.5555555555555556,
             "#d8576b"
            ],
            [
             0.6666666666666666,
             "#ed7953"
            ],
            [
             0.7777777777777778,
             "#fb9f3a"
            ],
            [
             0.8888888888888888,
             "#fdca26"
            ],
            [
             1,
             "#f0f921"
            ]
           ]
          },
          "colorway": [
           "#636efa",
           "#EF553B",
           "#00cc96",
           "#ab63fa",
           "#FFA15A",
           "#19d3f3",
           "#FF6692",
           "#B6E880",
           "#FF97FF",
           "#FECB52"
          ],
          "font": {
           "color": "#2a3f5f"
          },
          "geo": {
           "bgcolor": "white",
           "lakecolor": "white",
           "landcolor": "#E5ECF6",
           "showlakes": true,
           "showland": true,
           "subunitcolor": "white"
          },
          "hoverlabel": {
           "align": "left"
          },
          "hovermode": "closest",
          "mapbox": {
           "style": "light"
          },
          "paper_bgcolor": "white",
          "plot_bgcolor": "#E5ECF6",
          "polar": {
           "angularaxis": {
            "gridcolor": "white",
            "linecolor": "white",
            "ticks": ""
           },
           "bgcolor": "#E5ECF6",
           "radialaxis": {
            "gridcolor": "white",
            "linecolor": "white",
            "ticks": ""
           }
          },
          "scene": {
           "xaxis": {
            "backgroundcolor": "#E5ECF6",
            "gridcolor": "white",
            "gridwidth": 2,
            "linecolor": "white",
            "showbackground": true,
            "ticks": "",
            "zerolinecolor": "white"
           },
           "yaxis": {
            "backgroundcolor": "#E5ECF6",
            "gridcolor": "white",
            "gridwidth": 2,
            "linecolor": "white",
            "showbackground": true,
            "ticks": "",
            "zerolinecolor": "white"
           },
           "zaxis": {
            "backgroundcolor": "#E5ECF6",
            "gridcolor": "white",
            "gridwidth": 2,
            "linecolor": "white",
            "showbackground": true,
            "ticks": "",
            "zerolinecolor": "white"
           }
          },
          "shapedefaults": {
           "line": {
            "color": "#2a3f5f"
           }
          },
          "ternary": {
           "aaxis": {
            "gridcolor": "white",
            "linecolor": "white",
            "ticks": ""
           },
           "baxis": {
            "gridcolor": "white",
            "linecolor": "white",
            "ticks": ""
           },
           "bgcolor": "#E5ECF6",
           "caxis": {
            "gridcolor": "white",
            "linecolor": "white",
            "ticks": ""
           }
          },
          "title": {
           "x": 0.05
          },
          "xaxis": {
           "automargin": true,
           "gridcolor": "white",
           "linecolor": "white",
           "ticks": "",
           "title": {
            "standoff": 15
           },
           "zerolinecolor": "white",
           "zerolinewidth": 2
          },
          "yaxis": {
           "automargin": true,
           "gridcolor": "white",
           "linecolor": "white",
           "ticks": "",
           "title": {
            "standoff": 15
           },
           "zerolinecolor": "white",
           "zerolinewidth": 2
          }
         }
        },
        "title": {
         "text": "Per capita GDP of India, China, USA, UK, Japan (1947-2016)"
        },
        "xaxis": {
         "anchor": "y",
         "domain": [
          0,
          1
         ],
         "title": {
          "text": "Year"
         }
        },
        "yaxis": {
         "anchor": "x",
         "domain": [
          0,
          1
         ],
         "title": {
          "text": "Per capita GDP"
         }
        }
       }
      },
      "text/html": [
       "<div>\n",
       "        \n",
       "        \n",
       "            <div id=\"b8039d17-c6cc-406e-8295-5550ff26c4e8\" class=\"plotly-graph-div\" style=\"height:525px; width:100%;\"></div>\n",
       "            <script type=\"text/javascript\">\n",
       "                require([\"plotly\"], function(Plotly) {\n",
       "                    window.PLOTLYENV=window.PLOTLYENV || {};\n",
       "                    \n",
       "                if (document.getElementById(\"b8039d17-c6cc-406e-8295-5550ff26c4e8\")) {\n",
       "                    Plotly.newPlot(\n",
       "                        'b8039d17-c6cc-406e-8295-5550ff26c4e8',\n",
       "                        [{\"hovertemplate\": \"countrycode=CHN<br>year=%{x}<br>cgdppc=%{y}<extra></extra>\", \"legendgroup\": \"CHN\", \"line\": {\"color\": \"#636efa\", \"dash\": \"solid\"}, \"mode\": \"lines\", \"name\": \"CHN\", \"orientation\": \"v\", \"showlegend\": true, \"type\": \"scatter\", \"x\": [1950.0, 1951.0, 1952.0, 1953.0, 1954.0, 1955.0, 1956.0, 1957.0, 1958.0, 1959.0, 1960.0, 1961.0, 1962.0, 1963.0, 1964.0, 1965.0, 1966.0, 1967.0, 1968.0, 1969.0, 1970.0, 1971.0, 1972.0, 1973.0, 1974.0, 1975.0, 1976.0, 1977.0, 1978.0, 1979.0, 1980.0, 1981.0, 1982.0, 1983.0, 1984.0, 1985.0, 1986.0, 1987.0, 1988.0, 1989.0, 1990.0, 1991.0, 1992.0, 1993.0, 1994.0, 1995.0, 1996.0, 1997.0, 1998.0, 1999.0, 2000.0, 2001.0, 2002.0, 2003.0, 2004.0, 2005.0, 2006.0, 2007.0, 2008.0, 2009.0, 2010.0, 2011.0, 2012.0, 2013.0, 2014.0, 2015.0, 2016.0], \"xaxis\": \"x\", \"y\": [757.0, 899.0, 989.0, 1098.0, 989.0, 1062.0, 1101.0, 1103.0, 1073.0, 988.0, 923.0, 799.0, 866.0, 950.0, 1050.0, 1134.0, 1147.0, 1151.0, 1093.0, 1172.0, 1291.0, 1355.0, 1307.0, 1372.0, 1378.0, 1425.0, 1384.0, 1413.0, 1583.0, 1648.0, 1690.0, 1675.0, 1826.0, 1907.0, 2120.0, 2310.0, 2409.0, 2510.0, 2571.0, 2509.0, 2460.0, 2550.0, 2731.0, 2997.0, 3135.0, 3302.0, 3494.0, 3540.0, 3554.0, 3765.0, 4071.0, 4400.0, 4793.0, 5122.0, 5595.0, 6338.0, 6937.0, 7482.0, 7741.0, 8394.0, 9475.0, 10221.0, 10654.0, 11088.0, 11708.0, 12002.0, 12320.0], \"yaxis\": \"y\"}, {\"hovertemplate\": \"countrycode=GBR<br>year=%{x}<br>cgdppc=%{y}<extra></extra>\", \"legendgroup\": \"GBR\", \"line\": {\"color\": \"#EF553B\", \"dash\": \"solid\"}, \"mode\": \"lines\", \"name\": \"GBR\", \"orientation\": \"v\", \"showlegend\": true, \"type\": \"scatter\", \"x\": [1948.0, 1949.0, 1950.0, 1951.0, 1952.0, 1953.0, 1954.0, 1955.0, 1956.0, 1957.0, 1958.0, 1959.0, 1960.0, 1961.0, 1962.0, 1963.0, 1964.0, 1965.0, 1966.0, 1967.0, 1968.0, 1969.0, 1970.0, 1971.0, 1972.0, 1973.0, 1974.0, 1975.0, 1976.0, 1977.0, 1978.0, 1979.0, 1980.0, 1981.0, 1982.0, 1983.0, 1984.0, 1985.0, 1986.0, 1987.0, 1988.0, 1989.0, 1990.0, 1991.0, 1992.0, 1993.0, 1994.0, 1995.0, 1996.0, 1997.0, 1998.0, 1999.0, 2000.0, 2001.0, 2002.0, 2003.0, 2004.0, 2005.0, 2006.0, 2007.0, 2008.0, 2009.0, 2010.0, 2011.0, 2012.0, 2013.0, 2014.0, 2015.0, 2016.0], \"xaxis\": \"x\", \"y\": [9165.0, 9457.0, 9441.0, 9599.0, 9507.0, 9957.0, 10400.0, 10779.0, 10944.0, 11127.0, 11132.0, 11525.0, 12000.0, 12385.0, 12426.0, 12849.0, 13513.0, 13802.0, 14099.0, 14440.0, 14610.0, 15241.0, 15715.0, 15703.0, 16053.0, 17116.0, 16824.0, 16745.0, 17398.0, 18138.0, 19124.0, 20129.0, 20593.0, 19975.0, 19865.0, 20105.0, 20270.0, 20712.0, 21303.0, 22246.0, 23075.0, 23642.0, 24002.0, 23696.0, 23812.0, 24481.0, 25353.0, 26500.0, 27775.0, 29840.0, 30978.0, 32245.0, 34390.0, 35182.0, 35384.0, 35354.0, 36320.0, 37724.0, 38251.0, 38071.0, 37657.0, 35730.0, 35116.0, 34971.0, 35784.0, 37702.0, 38220.0, 38749.0, 39162.0], \"yaxis\": \"y\"}, {\"hovertemplate\": \"countrycode=IND<br>year=%{x}<br>cgdppc=%{y}<extra></extra>\", \"legendgroup\": \"IND\", \"line\": {\"color\": \"#00cc96\", \"dash\": \"solid\"}, \"mode\": \"lines\", \"name\": \"IND\", \"orientation\": \"v\", \"showlegend\": true, \"type\": \"scatter\", \"x\": [1948.0, 1949.0, 1950.0, 1951.0, 1952.0, 1953.0, 1954.0, 1955.0, 1956.0, 1957.0, 1958.0, 1959.0, 1960.0, 1961.0, 1962.0, 1963.0, 1964.0, 1965.0, 1966.0, 1967.0, 1968.0, 1969.0, 1970.0, 1971.0, 1972.0, 1973.0, 1974.0, 1975.0, 1976.0, 1977.0, 1978.0, 1979.0, 1980.0, 1981.0, 1982.0, 1983.0, 1984.0, 1985.0, 1986.0, 1987.0, 1988.0, 1989.0, 1990.0, 1991.0, 1992.0, 1993.0, 1994.0, 1995.0, 1996.0, 1997.0, 1998.0, 1999.0, 2000.0, 2001.0, 2002.0, 2003.0, 2004.0, 2005.0, 2006.0, 2007.0, 2008.0, 2009.0, 2010.0, 2011.0, 2012.0, 2013.0, 2014.0, 2015.0, 2016.0], \"xaxis\": \"x\", \"y\": [1403.0, 1425.0, 1417.0, 1426.0, 1380.0, 1411.0, 1419.0, 1392.0, 1430.0, 1359.0, 1393.0, 1353.0, 1403.0, 1378.0, 1356.0, 1356.0, 1389.0, 1277.0, 1233.0, 1272.0, 1233.0, 1239.0, 1234.0, 1237.0, 1238.0, 1301.0, 1264.0, 1362.0, 1304.0, 1283.0, 1238.0, 1131.0, 1143.0, 1109.0, 1066.0, 1059.0, 1035.0, 1021.0, 1054.0, 1094.0, 1168.0, 1228.0, 1283.0, 1297.0, 1354.0, 1428.0, 1484.0, 1565.0, 1677.0, 1742.0, 1845.0, 1935.0, 2003.0, 2086.0, 2177.0, 2351.0, 2502.0, 2789.0, 3060.0, 3333.0, 3754.0, 3936.0, 4353.0, 4768.0, 4974.0, 5052.0, 5312.0, 5639.0, 5961.0], \"yaxis\": \"y\"}, {\"hovertemplate\": \"countrycode=JPN<br>year=%{x}<br>cgdppc=%{y}<extra></extra>\", \"legendgroup\": \"JPN\", \"line\": {\"color\": \"#ab63fa\", \"dash\": \"solid\"}, \"mode\": \"lines\", \"name\": \"JPN\", \"orientation\": \"v\", \"showlegend\": true, \"type\": \"scatter\", \"x\": [1948.0, 1949.0, 1950.0, 1951.0, 1952.0, 1953.0, 1954.0, 1955.0, 1956.0, 1957.0, 1958.0, 1959.0, 1960.0, 1961.0, 1962.0, 1963.0, 1964.0, 1965.0, 1966.0, 1967.0, 1968.0, 1969.0, 1970.0, 1971.0, 1972.0, 1973.0, 1974.0, 1975.0, 1976.0, 1977.0, 1978.0, 1979.0, 1980.0, 1981.0, 1982.0, 1983.0, 1984.0, 1985.0, 1986.0, 1987.0, 1988.0, 1989.0, 1990.0, 1991.0, 1992.0, 1993.0, 1994.0, 1995.0, 1996.0, 1997.0, 1998.0, 1999.0, 2000.0, 2001.0, 2002.0, 2003.0, 2004.0, 2005.0, 2006.0, 2007.0, 2008.0, 2009.0, 2010.0, 2011.0, 2012.0, 2013.0, 2014.0, 2015.0, 2016.0], \"xaxis\": \"x\", \"y\": [2268.0, 2363.0, 2519.0, 2853.0, 3086.0, 3217.0, 3357.0, 3631.0, 3841.0, 4067.0, 4324.0, 4652.0, 5185.0, 5730.0, 6261.0, 6668.0, 7371.0, 7753.0, 8526.0, 9364.0, 10536.0, 11753.0, 12904.0, 13521.0, 14548.0, 15453.0, 15101.0, 15703.0, 16508.0, 17403.0, 18504.0, 19490.0, 20408.0, 19954.0, 19602.0, 19052.0, 18897.0, 19017.0, 20373.0, 21518.0, 23400.0, 24869.0, 26341.0, 28111.0, 29064.0, 29967.0, 30728.0, 32146.0, 32540.0, 32662.0, 32132.0, 31980.0, 33294.0, 33086.0, 33215.0, 33576.0, 34354.0, 35292.0, 35572.0, 36054.0, 35257.0, 33798.0, 35477.0, 34979.0, 35143.0, 35494.0, 35550.0, 36030.0, 36452.0], \"yaxis\": \"y\"}, {\"hovertemplate\": \"countrycode=USA<br>year=%{x}<br>cgdppc=%{y}<extra></extra>\", \"legendgroup\": \"USA\", \"line\": {\"color\": \"#FFA15A\", \"dash\": \"solid\"}, \"mode\": \"lines\", \"name\": \"USA\", \"orientation\": \"v\", \"showlegend\": true, \"type\": \"scatter\", \"x\": [1948.0, 1949.0, 1950.0, 1951.0, 1952.0, 1953.0, 1954.0, 1955.0, 1956.0, 1957.0, 1958.0, 1959.0, 1960.0, 1961.0, 1962.0, 1963.0, 1964.0, 1965.0, 1966.0, 1967.0, 1968.0, 1969.0, 1970.0, 1971.0, 1972.0, 1973.0, 1974.0, 1975.0, 1976.0, 1977.0, 1978.0, 1979.0, 1980.0, 1981.0, 1982.0, 1983.0, 1984.0, 1985.0, 1986.0, 1987.0, 1988.0, 1989.0, 1990.0, 1991.0, 1992.0, 1993.0, 1994.0, 1995.0, 1996.0, 1997.0, 1998.0, 1999.0, 2000.0, 2001.0, 2002.0, 2003.0, 2004.0, 2005.0, 2006.0, 2007.0, 2008.0, 2009.0, 2010.0, 2011.0, 2012.0, 2013.0, 2014.0, 2015.0, 2016.0], \"xaxis\": \"x\", \"y\": [14559.0, 14112.0, 15241.0, 16126.0, 16443.0, 16917.0, 16513.0, 17370.0, 17398.0, 17407.0, 16945.0, 17901.0, 18058.0, 18175.0, 18977.0, 19515.0, 20360.0, 21390.0, 22529.0, 22842.0, 23692.0, 24196.0, 23958.0, 24395.0, 25415.0, 26603.0, 26287.0, 25956.0, 27059.0, 28001.0, 29287.0, 29951.0, 29613.0, 30056.0, 29211.0, 30159.0, 32076.0, 33024.0, 33851.0, 34730.0, 35865.0, 36757.0, 36982.0, 36464.0, 37241.0, 37762.0, 38808.0, 39391.0, 40414.0, 41723.0, 43073.0, 44576.0, 45887.0, 45878.0, 46267.0, 47158.0, 48493.0, 49655.0, 50490.0, 50902.0, 50276.0, 48453.0, 49267.0, 49675.0, 50394.0, 50863.0, 51664.0, 52591.0, 53015.0], \"yaxis\": \"y\"}],\n",
       "                        {\"legend\": {\"title\": {\"text\": \"countrycode\"}, \"tracegroupgap\": 0}, \"margin\": {\"t\": 60}, \"shapes\": [{\"line\": {\"color\": \"Black\", \"dash\": \"dashdot\", \"width\": 2}, \"type\": \"line\", \"x0\": 2016, \"x1\": 2005, \"xref\": \"x\", \"y0\": 5961.0, \"y1\": 5961.0, \"yref\": \"y\"}, {\"line\": {\"color\": \"Red\", \"dash\": \"dash\", \"width\": 2}, \"type\": \"line\", \"x0\": 2016, \"x1\": 1962, \"xref\": \"x\", \"y0\": 5961.0, \"y1\": 5961.0, \"yref\": \"y\"}], \"template\": {\"data\": {\"bar\": [{\"error_x\": {\"color\": \"#2a3f5f\"}, \"error_y\": {\"color\": \"#2a3f5f\"}, \"marker\": {\"line\": {\"color\": \"#E5ECF6\", \"width\": 0.5}}, \"type\": \"bar\"}], \"barpolar\": [{\"marker\": {\"line\": {\"color\": \"#E5ECF6\", \"width\": 0.5}}, \"type\": \"barpolar\"}], \"carpet\": [{\"aaxis\": {\"endlinecolor\": \"#2a3f5f\", \"gridcolor\": \"white\", \"linecolor\": \"white\", \"minorgridcolor\": \"white\", \"startlinecolor\": \"#2a3f5f\"}, \"baxis\": {\"endlinecolor\": \"#2a3f5f\", \"gridcolor\": \"white\", \"linecolor\": \"white\", \"minorgridcolor\": \"white\", \"startlinecolor\": \"#2a3f5f\"}, \"type\": \"carpet\"}], \"choropleth\": [{\"colorbar\": {\"outlinewidth\": 0, \"ticks\": \"\"}, \"type\": \"choropleth\"}], \"contour\": [{\"colorbar\": {\"outlinewidth\": 0, \"ticks\": \"\"}, \"colorscale\": [[0.0, \"#0d0887\"], [0.1111111111111111, \"#46039f\"], [0.2222222222222222, \"#7201a8\"], [0.3333333333333333, \"#9c179e\"], [0.4444444444444444, \"#bd3786\"], [0.5555555555555556, \"#d8576b\"], [0.6666666666666666, \"#ed7953\"], [0.7777777777777778, \"#fb9f3a\"], [0.8888888888888888, \"#fdca26\"], [1.0, \"#f0f921\"]], \"type\": \"contour\"}], \"contourcarpet\": [{\"colorbar\": {\"outlinewidth\": 0, \"ticks\": \"\"}, \"type\": \"contourcarpet\"}], \"heatmap\": [{\"colorbar\": {\"outlinewidth\": 0, \"ticks\": \"\"}, \"colorscale\": [[0.0, \"#0d0887\"], [0.1111111111111111, \"#46039f\"], [0.2222222222222222, \"#7201a8\"], [0.3333333333333333, \"#9c179e\"], [0.4444444444444444, \"#bd3786\"], [0.5555555555555556, \"#d8576b\"], [0.6666666666666666, \"#ed7953\"], [0.7777777777777778, \"#fb9f3a\"], [0.8888888888888888, \"#fdca26\"], [1.0, \"#f0f921\"]], \"type\": \"heatmap\"}], \"heatmapgl\": [{\"colorbar\": {\"outlinewidth\": 0, \"ticks\": \"\"}, \"colorscale\": [[0.0, \"#0d0887\"], [0.1111111111111111, \"#46039f\"], [0.2222222222222222, \"#7201a8\"], [0.3333333333333333, \"#9c179e\"], [0.4444444444444444, \"#bd3786\"], [0.5555555555555556, \"#d8576b\"], [0.6666666666666666, \"#ed7953\"], [0.7777777777777778, \"#fb9f3a\"], [0.8888888888888888, \"#fdca26\"], [1.0, \"#f0f921\"]], \"type\": \"heatmapgl\"}], \"histogram\": [{\"marker\": {\"colorbar\": {\"outlinewidth\": 0, \"ticks\": \"\"}}, \"type\": \"histogram\"}], \"histogram2d\": [{\"colorbar\": {\"outlinewidth\": 0, \"ticks\": \"\"}, \"colorscale\": [[0.0, \"#0d0887\"], [0.1111111111111111, \"#46039f\"], [0.2222222222222222, \"#7201a8\"], [0.3333333333333333, \"#9c179e\"], [0.4444444444444444, \"#bd3786\"], [0.5555555555555556, \"#d8576b\"], [0.6666666666666666, \"#ed7953\"], [0.7777777777777778, \"#fb9f3a\"], [0.8888888888888888, \"#fdca26\"], [1.0, \"#f0f921\"]], \"type\": \"histogram2d\"}], \"histogram2dcontour\": [{\"colorbar\": {\"outlinewidth\": 0, \"ticks\": \"\"}, \"colorscale\": [[0.0, \"#0d0887\"], [0.1111111111111111, \"#46039f\"], [0.2222222222222222, \"#7201a8\"], [0.3333333333333333, \"#9c179e\"], [0.4444444444444444, \"#bd3786\"], [0.5555555555555556, \"#d8576b\"], [0.6666666666666666, \"#ed7953\"], [0.7777777777777778, \"#fb9f3a\"], [0.8888888888888888, \"#fdca26\"], [1.0, \"#f0f921\"]], \"type\": \"histogram2dcontour\"}], \"mesh3d\": [{\"colorbar\": {\"outlinewidth\": 0, \"ticks\": \"\"}, \"type\": \"mesh3d\"}], \"parcoords\": [{\"line\": {\"colorbar\": {\"outlinewidth\": 0, \"ticks\": \"\"}}, \"type\": \"parcoords\"}], \"pie\": [{\"automargin\": true, \"type\": \"pie\"}], \"scatter\": [{\"marker\": {\"colorbar\": {\"outlinewidth\": 0, \"ticks\": \"\"}}, \"type\": \"scatter\"}], \"scatter3d\": [{\"line\": {\"colorbar\": {\"outlinewidth\": 0, \"ticks\": \"\"}}, \"marker\": {\"colorbar\": {\"outlinewidth\": 0, \"ticks\": \"\"}}, \"type\": \"scatter3d\"}], \"scattercarpet\": [{\"marker\": {\"colorbar\": {\"outlinewidth\": 0, \"ticks\": \"\"}}, \"type\": \"scattercarpet\"}], \"scattergeo\": [{\"marker\": {\"colorbar\": {\"outlinewidth\": 0, \"ticks\": \"\"}}, \"type\": \"scattergeo\"}], \"scattergl\": [{\"marker\": {\"colorbar\": {\"outlinewidth\": 0, \"ticks\": \"\"}}, \"type\": \"scattergl\"}], \"scattermapbox\": [{\"marker\": {\"colorbar\": {\"outlinewidth\": 0, \"ticks\": \"\"}}, \"type\": \"scattermapbox\"}], \"scatterpolar\": [{\"marker\": {\"colorbar\": {\"outlinewidth\": 0, \"ticks\": \"\"}}, \"type\": \"scatterpolar\"}], \"scatterpolargl\": [{\"marker\": {\"colorbar\": {\"outlinewidth\": 0, \"ticks\": \"\"}}, \"type\": \"scatterpolargl\"}], \"scatterternary\": [{\"marker\": {\"colorbar\": {\"outlinewidth\": 0, \"ticks\": \"\"}}, \"type\": \"scatterternary\"}], \"surface\": [{\"colorbar\": {\"outlinewidth\": 0, \"ticks\": \"\"}, \"colorscale\": [[0.0, \"#0d0887\"], [0.1111111111111111, \"#46039f\"], [0.2222222222222222, \"#7201a8\"], [0.3333333333333333, \"#9c179e\"], [0.4444444444444444, \"#bd3786\"], [0.5555555555555556, \"#d8576b\"], [0.6666666666666666, \"#ed7953\"], [0.7777777777777778, \"#fb9f3a\"], [0.8888888888888888, \"#fdca26\"], [1.0, \"#f0f921\"]], \"type\": \"surface\"}], \"table\": [{\"cells\": {\"fill\": {\"color\": \"#EBF0F8\"}, \"line\": {\"color\": \"white\"}}, \"header\": {\"fill\": {\"color\": \"#C8D4E3\"}, \"line\": {\"color\": \"white\"}}, \"type\": \"table\"}]}, \"layout\": {\"annotationdefaults\": {\"arrowcolor\": \"#2a3f5f\", \"arrowhead\": 0, \"arrowwidth\": 1}, \"coloraxis\": {\"colorbar\": {\"outlinewidth\": 0, \"ticks\": \"\"}}, \"colorscale\": {\"diverging\": [[0, \"#8e0152\"], [0.1, \"#c51b7d\"], [0.2, \"#de77ae\"], [0.3, \"#f1b6da\"], [0.4, \"#fde0ef\"], [0.5, \"#f7f7f7\"], [0.6, \"#e6f5d0\"], [0.7, \"#b8e186\"], [0.8, \"#7fbc41\"], [0.9, \"#4d9221\"], [1, \"#276419\"]], \"sequential\": [[0.0, \"#0d0887\"], [0.1111111111111111, \"#46039f\"], [0.2222222222222222, \"#7201a8\"], [0.3333333333333333, \"#9c179e\"], [0.4444444444444444, \"#bd3786\"], [0.5555555555555556, \"#d8576b\"], [0.6666666666666666, \"#ed7953\"], [0.7777777777777778, \"#fb9f3a\"], [0.8888888888888888, \"#fdca26\"], [1.0, \"#f0f921\"]], \"sequentialminus\": [[0.0, \"#0d0887\"], [0.1111111111111111, \"#46039f\"], [0.2222222222222222, \"#7201a8\"], [0.3333333333333333, \"#9c179e\"], [0.4444444444444444, \"#bd3786\"], [0.5555555555555556, \"#d8576b\"], [0.6666666666666666, \"#ed7953\"], [0.7777777777777778, \"#fb9f3a\"], [0.8888888888888888, \"#fdca26\"], [1.0, \"#f0f921\"]]}, \"colorway\": [\"#636efa\", \"#EF553B\", \"#00cc96\", \"#ab63fa\", \"#FFA15A\", \"#19d3f3\", \"#FF6692\", \"#B6E880\", \"#FF97FF\", \"#FECB52\"], \"font\": {\"color\": \"#2a3f5f\"}, \"geo\": {\"bgcolor\": \"white\", \"lakecolor\": \"white\", \"landcolor\": \"#E5ECF6\", \"showlakes\": true, \"showland\": true, \"subunitcolor\": \"white\"}, \"hoverlabel\": {\"align\": \"left\"}, \"hovermode\": \"closest\", \"mapbox\": {\"style\": \"light\"}, \"paper_bgcolor\": \"white\", \"plot_bgcolor\": \"#E5ECF6\", \"polar\": {\"angularaxis\": {\"gridcolor\": \"white\", \"linecolor\": \"white\", \"ticks\": \"\"}, \"bgcolor\": \"#E5ECF6\", \"radialaxis\": {\"gridcolor\": \"white\", \"linecolor\": \"white\", \"ticks\": \"\"}}, \"scene\": {\"xaxis\": {\"backgroundcolor\": \"#E5ECF6\", \"gridcolor\": \"white\", \"gridwidth\": 2, \"linecolor\": \"white\", \"showbackground\": true, \"ticks\": \"\", \"zerolinecolor\": \"white\"}, \"yaxis\": {\"backgroundcolor\": \"#E5ECF6\", \"gridcolor\": \"white\", \"gridwidth\": 2, \"linecolor\": \"white\", \"showbackground\": true, \"ticks\": \"\", \"zerolinecolor\": \"white\"}, \"zaxis\": {\"backgroundcolor\": \"#E5ECF6\", \"gridcolor\": \"white\", \"gridwidth\": 2, \"linecolor\": \"white\", \"showbackground\": true, \"ticks\": \"\", \"zerolinecolor\": \"white\"}}, \"shapedefaults\": {\"line\": {\"color\": \"#2a3f5f\"}}, \"ternary\": {\"aaxis\": {\"gridcolor\": \"white\", \"linecolor\": \"white\", \"ticks\": \"\"}, \"baxis\": {\"gridcolor\": \"white\", \"linecolor\": \"white\", \"ticks\": \"\"}, \"bgcolor\": \"#E5ECF6\", \"caxis\": {\"gridcolor\": \"white\", \"linecolor\": \"white\", \"ticks\": \"\"}}, \"title\": {\"x\": 0.05}, \"xaxis\": {\"automargin\": true, \"gridcolor\": \"white\", \"linecolor\": \"white\", \"ticks\": \"\", \"title\": {\"standoff\": 15}, \"zerolinecolor\": \"white\", \"zerolinewidth\": 2}, \"yaxis\": {\"automargin\": true, \"gridcolor\": \"white\", \"linecolor\": \"white\", \"ticks\": \"\", \"title\": {\"standoff\": 15}, \"zerolinecolor\": \"white\", \"zerolinewidth\": 2}}}, \"title\": {\"text\": \"Per capita GDP of India, China, USA, UK, Japan (1947-2016)\"}, \"xaxis\": {\"anchor\": \"y\", \"domain\": [0.0, 1.0], \"title\": {\"text\": \"Year\"}}, \"yaxis\": {\"anchor\": \"x\", \"domain\": [0.0, 1.0], \"title\": {\"text\": \"Per capita GDP\"}}},\n",
       "                        {\"responsive\": true}\n",
       "                    ).then(function(){\n",
       "                            \n",
       "var gd = document.getElementById('b8039d17-c6cc-406e-8295-5550ff26c4e8');\n",
       "var x = new MutationObserver(function (mutations, observer) {{\n",
       "        var display = window.getComputedStyle(gd).display;\n",
       "        if (!display || display === 'none') {{\n",
       "            console.log([gd, 'removed!']);\n",
       "            Plotly.purge(gd);\n",
       "            observer.disconnect();\n",
       "        }}\n",
       "}});\n",
       "\n",
       "// Listen for the removal of the full notebook cells\n",
       "var notebookContainer = gd.closest('#notebook-container');\n",
       "if (notebookContainer) {{\n",
       "    x.observe(notebookContainer, {childList: true});\n",
       "}}\n",
       "\n",
       "// Listen for the clearing of the current output cell\n",
       "var outputEl = gd.closest('.output');\n",
       "if (outputEl) {{\n",
       "    x.observe(outputEl, {childList: true});\n",
       "}}\n",
       "\n",
       "                        })\n",
       "                };\n",
       "                });\n",
       "            </script>\n",
       "        </div>"
      ]
     },
     "metadata": {},
     "output_type": "display_data"
    },
    {
     "data": {
      "text/plain": [
       "5961.0"
      ]
     },
     "execution_count": 4,
     "metadata": {},
     "output_type": "execute_result"
    }
   ],
   "source": [
    "import pandas as pd\n",
    "import plotly.express as px\n",
    "import plotly.graph_objects as go\n",
    "\n",
    "# Madison Project Historical GDP Data\n",
    "df = pd.read_stata(\"/Users/kalyan/OneDrive-IIMV/OneDrive - IIM VIZAG/Python-Exercise-KK/base-data/mpd2018.dta\")\n",
    "print(df.columns)\n",
    "df.dropna(subset=[\"year\",\"cgdppc\"],inplace=True)\n",
    "#country_list = ['IND','CHN','USA', 'PAK','GBR','JPN']\n",
    "country_list = ['IND','CHN','USA','GBR','JPN']\n",
    "\n",
    "filt = df['countrycode'].isin(country_list) & (df['year'] > 1947)\n",
    "df = df[['year','cgdppc','rgdpnapc','country','countrycode']][filt]\n",
    "df\n",
    "fig = px.line(df, x=\"year\", y=\"cgdppc\", color=\"countrycode\")\n",
    "\n",
    "df_ind = df[df['countrycode']=='IND']\n",
    "max_gdppc_ind = df_ind['cgdppc'].max()\n",
    "fig.layout.update(\n",
    "                title_text='Per capita GDP of India, China, USA, UK, Japan (1947-2016)', # title of plot\n",
    "                xaxis_title_text='Year', # xaxis label\n",
    "                yaxis_title_text='Per capita GDP', # yaxis label\n",
    "                shapes=[\n",
    "                {'type': 'line',\n",
    "                   'xref': 'x',\n",
    "                   'yref': 'y',\n",
    "                   'x0': 2016,\n",
    "                   'y0': max_gdppc_ind,\n",
    "                   'x1': 2005,\n",
    "                   'y1': max_gdppc_ind,\n",
    "                   'line': {'color': \"Black\", 'width': 2, 'dash': \"dashdot\"},},\n",
    "                {'type': 'line',\n",
    "                   'xref': 'x',\n",
    "                   'yref': 'y',\n",
    "                   'x0': 2016,\n",
    "                   'y0': max_gdppc_ind,\n",
    "                   'x1': 1962,\n",
    "                   'y1': max_gdppc_ind,\n",
    "                   'line': {'color': \"Red\", 'width': 2, 'dash': \"dash\"},}])\n",
    "fig.show()\n",
    "df_ind['cgdppc'].max()"
   ]
  },
  {
   "cell_type": "code",
   "execution_count": 13,
   "metadata": {},
   "outputs": [
    {
     "name": "stdout",
     "output_type": "stream",
     "text": [
      "Index(['countrycode', 'country', 'year', 'cgdppc', 'rgdpnapc', 'pop', 'i_cig',\n",
      "       'i_bm'],\n",
      "      dtype='object')\n"
     ]
    },
    {
     "data": {
      "application/vnd.plotly.v1+json": {
       "config": {
        "plotlyServerURL": "https://plot.ly"
       },
       "data": [
        {
         "hovertemplate": "country=China<br>year=%{x}<br>cgdppc=%{y}<extra></extra>",
         "legendgroup": "China",
         "line": {
          "color": "#636efa",
          "dash": "solid"
         },
         "mode": "lines",
         "name": "China",
         "orientation": "v",
         "showlegend": true,
         "type": "scatter",
         "x": [
          1661,
          1766,
          1812,
          1820,
          1825,
          1850
         ],
         "xaxis": "x",
         "y": [
          940,
          686,
          624,
          741,
          716,
          643
         ],
         "yaxis": "y"
        },
        {
         "hovertemplate": "country=United Kingdom<br>year=%{x}<br>cgdppc=%{y}<extra></extra>",
         "legendgroup": "United Kingdom",
         "line": {
          "color": "#EF553B",
          "dash": "solid"
         },
         "mode": "lines",
         "name": "United Kingdom",
         "orientation": "v",
         "showlegend": true,
         "type": "scatter",
         "x": [
          1700,
          1701,
          1702,
          1703,
          1704,
          1705,
          1706,
          1707,
          1708,
          1709,
          1710,
          1711,
          1712,
          1713,
          1714,
          1715,
          1716,
          1717,
          1718,
          1719,
          1720,
          1721,
          1722,
          1723,
          1724,
          1725,
          1726,
          1727,
          1728,
          1729,
          1730,
          1731,
          1732,
          1733,
          1734,
          1735,
          1736,
          1737,
          1738,
          1739,
          1740,
          1741,
          1742,
          1743,
          1744,
          1745,
          1746,
          1747,
          1748,
          1749,
          1750,
          1751,
          1752,
          1753,
          1754,
          1755,
          1756,
          1757,
          1758,
          1759,
          1760,
          1761,
          1762,
          1763,
          1764,
          1765,
          1766,
          1767,
          1768,
          1769,
          1770,
          1771,
          1772,
          1773,
          1774,
          1775,
          1776,
          1777,
          1778,
          1779,
          1780,
          1781,
          1782,
          1783,
          1784,
          1785,
          1786,
          1787,
          1788,
          1789,
          1790,
          1791,
          1792,
          1793,
          1794,
          1795,
          1796,
          1797,
          1798,
          1799,
          1800,
          1801,
          1802,
          1803,
          1804,
          1805,
          1806,
          1807,
          1808,
          1809,
          1810,
          1811,
          1812,
          1813,
          1814,
          1815,
          1816,
          1817,
          1818,
          1819,
          1820,
          1821,
          1822,
          1823,
          1824,
          1825,
          1826,
          1827,
          1828,
          1829,
          1830,
          1831,
          1832,
          1833,
          1834,
          1835,
          1836,
          1837,
          1838,
          1839,
          1840,
          1841,
          1842,
          1843,
          1844,
          1845,
          1846,
          1847,
          1848,
          1849,
          1850,
          1851,
          1852,
          1853,
          1854,
          1855,
          1856
         ],
         "xaxis": "x",
         "y": [
          1591,
          1723,
          1667,
          1546,
          1832,
          1735,
          1464,
          1639,
          1739,
          1503,
          1363,
          1487,
          1489,
          1422,
          1559,
          1514,
          1561,
          1638,
          1719,
          1677,
          1790,
          1722,
          1739,
          1691,
          1668,
          1705,
          1639,
          1619,
          1685,
          1617,
          1674,
          1649,
          1751,
          1780,
          1756,
          1699,
          1811,
          1703,
          1727,
          1705,
          1667,
          1712,
          1769,
          1728,
          1692,
          1700,
          1742,
          1814,
          1790,
          1768,
          1782,
          1733,
          1807,
          1810,
          1747,
          1788,
          1744,
          1836,
          1857,
          1880,
          1923,
          1986,
          1924,
          1922,
          1912,
          1882,
          1899,
          1907,
          1920,
          2016,
          1947,
          1971,
          1907,
          1926,
          1870,
          1910,
          1953,
          1991,
          1957,
          1933,
          2011,
          2046,
          2010,
          1996,
          1985,
          1953,
          1967,
          1912,
          1888,
          1905,
          2026,
          2010,
          2067,
          2012,
          1930,
          2116,
          2132,
          2089,
          2085,
          2115,
          2205,
          2210,
          2217,
          2145,
          2113,
          2209,
          2168,
          2278,
          2144,
          2182,
          2294,
          2241,
          2116,
          2196,
          2114,
          2302,
          2144,
          2146,
          2112,
          2047,
          2181,
          2182,
          2187,
          2216,
          2304,
          2323,
          2170,
          2308,
          2282,
          2271,
          2342,
          2339,
          2383,
          2374,
          2401,
          2547,
          2597,
          2544,
          2614,
          2560,
          2651,
          2569,
          2512,
          2605,
          2800,
          2894,
          2859,
          2793,
          2877,
          2917,
          2858,
          2953,
          3051,
          3123,
          3239,
          3132,
          3307
         ],
         "yaxis": "y"
        },
        {
         "hovertemplate": "country=India<br>year=%{x}<br>cgdppc=%{y}<extra></extra>",
         "legendgroup": "India",
         "line": {
          "color": "#00cc96",
          "dash": "solid"
         },
         "mode": "lines",
         "name": "India",
         "orientation": "v",
         "showlegend": true,
         "type": "scatter",
         "x": [
          1650,
          1700,
          1750,
          1801,
          1811,
          1821,
          1831,
          1841,
          1851
         ],
         "xaxis": "x",
         "y": [
          1228,
          1200,
          1103,
          1067,
          1016,
          968,
          976,
          975,
          978
         ],
         "yaxis": "y"
        },
        {
         "hovertemplate": "country=Japan<br>year=%{x}<br>cgdppc=%{y}<extra></extra>",
         "legendgroup": "Japan",
         "line": {
          "color": "#ab63fa",
          "dash": "solid"
         },
         "mode": "lines",
         "name": "Japan",
         "orientation": "v",
         "showlegend": true,
         "type": "scatter",
         "x": [
          1650,
          1700,
          1750,
          1800,
          1850
         ],
         "xaxis": "x",
         "y": [
          746,
          840,
          799,
          856,
          910
         ],
         "yaxis": "y"
        },
        {
         "hovertemplate": "country=United States<br>year=%{x}<br>cgdppc=%{y}<extra></extra>",
         "legendgroup": "United States",
         "line": {
          "color": "#FFA15A",
          "dash": "solid"
         },
         "mode": "lines",
         "name": "United States",
         "orientation": "v",
         "showlegend": true,
         "type": "scatter",
         "x": [
          1650,
          1720,
          1775,
          1800,
          1801,
          1802,
          1803,
          1804,
          1805,
          1806,
          1807,
          1808,
          1809,
          1810,
          1811,
          1812,
          1813,
          1814,
          1815,
          1816,
          1817,
          1818,
          1819,
          1820,
          1821,
          1822,
          1823,
          1824,
          1825,
          1826,
          1827,
          1828,
          1829,
          1830,
          1831,
          1832,
          1833,
          1834,
          1835,
          1836,
          1837,
          1838,
          1839,
          1840,
          1841,
          1842,
          1843,
          1844,
          1845,
          1846,
          1847,
          1848,
          1849,
          1850,
          1851,
          1852,
          1853,
          1854,
          1855,
          1856
         ],
         "xaxis": "x",
         "y": [
          897,
          1375,
          1883,
          1980,
          2017,
          2050,
          2015,
          2014,
          2056,
          2094,
          2114,
          1965,
          2062,
          2120,
          2163,
          2125,
          2149,
          2190,
          2180,
          2092,
          2091,
          2097,
          2092,
          2080,
          2113,
          2171,
          2147,
          2205,
          2254,
          2270,
          2279,
          2279,
          2204,
          2364,
          2509,
          2600,
          2691,
          2562,
          2660,
          2699,
          2614,
          2591,
          2717,
          2583,
          2529,
          2507,
          2547,
          2685,
          2728,
          2743,
          2816,
          2888,
          2814,
          2825,
          2940,
          3089,
          3300,
          3310,
          3237,
          3305
         ],
         "yaxis": "y"
        }
       ],
       "layout": {
        "legend": {
         "title": {
          "text": "country"
         },
         "tracegroupgap": 0
        },
        "margin": {
         "t": 60
        },
        "template": {
         "data": {
          "bar": [
           {
            "error_x": {
             "color": "#2a3f5f"
            },
            "error_y": {
             "color": "#2a3f5f"
            },
            "marker": {
             "line": {
              "color": "#E5ECF6",
              "width": 0.5
             }
            },
            "type": "bar"
           }
          ],
          "barpolar": [
           {
            "marker": {
             "line": {
              "color": "#E5ECF6",
              "width": 0.5
             }
            },
            "type": "barpolar"
           }
          ],
          "carpet": [
           {
            "aaxis": {
             "endlinecolor": "#2a3f5f",
             "gridcolor": "white",
             "linecolor": "white",
             "minorgridcolor": "white",
             "startlinecolor": "#2a3f5f"
            },
            "baxis": {
             "endlinecolor": "#2a3f5f",
             "gridcolor": "white",
             "linecolor": "white",
             "minorgridcolor": "white",
             "startlinecolor": "#2a3f5f"
            },
            "type": "carpet"
           }
          ],
          "choropleth": [
           {
            "colorbar": {
             "outlinewidth": 0,
             "ticks": ""
            },
            "type": "choropleth"
           }
          ],
          "contour": [
           {
            "colorbar": {
             "outlinewidth": 0,
             "ticks": ""
            },
            "colorscale": [
             [
              0,
              "#0d0887"
             ],
             [
              0.1111111111111111,
              "#46039f"
             ],
             [
              0.2222222222222222,
              "#7201a8"
             ],
             [
              0.3333333333333333,
              "#9c179e"
             ],
             [
              0.4444444444444444,
              "#bd3786"
             ],
             [
              0.5555555555555556,
              "#d8576b"
             ],
             [
              0.6666666666666666,
              "#ed7953"
             ],
             [
              0.7777777777777778,
              "#fb9f3a"
             ],
             [
              0.8888888888888888,
              "#fdca26"
             ],
             [
              1,
              "#f0f921"
             ]
            ],
            "type": "contour"
           }
          ],
          "contourcarpet": [
           {
            "colorbar": {
             "outlinewidth": 0,
             "ticks": ""
            },
            "type": "contourcarpet"
           }
          ],
          "heatmap": [
           {
            "colorbar": {
             "outlinewidth": 0,
             "ticks": ""
            },
            "colorscale": [
             [
              0,
              "#0d0887"
             ],
             [
              0.1111111111111111,
              "#46039f"
             ],
             [
              0.2222222222222222,
              "#7201a8"
             ],
             [
              0.3333333333333333,
              "#9c179e"
             ],
             [
              0.4444444444444444,
              "#bd3786"
             ],
             [
              0.5555555555555556,
              "#d8576b"
             ],
             [
              0.6666666666666666,
              "#ed7953"
             ],
             [
              0.7777777777777778,
              "#fb9f3a"
             ],
             [
              0.8888888888888888,
              "#fdca26"
             ],
             [
              1,
              "#f0f921"
             ]
            ],
            "type": "heatmap"
           }
          ],
          "heatmapgl": [
           {
            "colorbar": {
             "outlinewidth": 0,
             "ticks": ""
            },
            "colorscale": [
             [
              0,
              "#0d0887"
             ],
             [
              0.1111111111111111,
              "#46039f"
             ],
             [
              0.2222222222222222,
              "#7201a8"
             ],
             [
              0.3333333333333333,
              "#9c179e"
             ],
             [
              0.4444444444444444,
              "#bd3786"
             ],
             [
              0.5555555555555556,
              "#d8576b"
             ],
             [
              0.6666666666666666,
              "#ed7953"
             ],
             [
              0.7777777777777778,
              "#fb9f3a"
             ],
             [
              0.8888888888888888,
              "#fdca26"
             ],
             [
              1,
              "#f0f921"
             ]
            ],
            "type": "heatmapgl"
           }
          ],
          "histogram": [
           {
            "marker": {
             "colorbar": {
              "outlinewidth": 0,
              "ticks": ""
             }
            },
            "type": "histogram"
           }
          ],
          "histogram2d": [
           {
            "colorbar": {
             "outlinewidth": 0,
             "ticks": ""
            },
            "colorscale": [
             [
              0,
              "#0d0887"
             ],
             [
              0.1111111111111111,
              "#46039f"
             ],
             [
              0.2222222222222222,
              "#7201a8"
             ],
             [
              0.3333333333333333,
              "#9c179e"
             ],
             [
              0.4444444444444444,
              "#bd3786"
             ],
             [
              0.5555555555555556,
              "#d8576b"
             ],
             [
              0.6666666666666666,
              "#ed7953"
             ],
             [
              0.7777777777777778,
              "#fb9f3a"
             ],
             [
              0.8888888888888888,
              "#fdca26"
             ],
             [
              1,
              "#f0f921"
             ]
            ],
            "type": "histogram2d"
           }
          ],
          "histogram2dcontour": [
           {
            "colorbar": {
             "outlinewidth": 0,
             "ticks": ""
            },
            "colorscale": [
             [
              0,
              "#0d0887"
             ],
             [
              0.1111111111111111,
              "#46039f"
             ],
             [
              0.2222222222222222,
              "#7201a8"
             ],
             [
              0.3333333333333333,
              "#9c179e"
             ],
             [
              0.4444444444444444,
              "#bd3786"
             ],
             [
              0.5555555555555556,
              "#d8576b"
             ],
             [
              0.6666666666666666,
              "#ed7953"
             ],
             [
              0.7777777777777778,
              "#fb9f3a"
             ],
             [
              0.8888888888888888,
              "#fdca26"
             ],
             [
              1,
              "#f0f921"
             ]
            ],
            "type": "histogram2dcontour"
           }
          ],
          "mesh3d": [
           {
            "colorbar": {
             "outlinewidth": 0,
             "ticks": ""
            },
            "type": "mesh3d"
           }
          ],
          "parcoords": [
           {
            "line": {
             "colorbar": {
              "outlinewidth": 0,
              "ticks": ""
             }
            },
            "type": "parcoords"
           }
          ],
          "pie": [
           {
            "automargin": true,
            "type": "pie"
           }
          ],
          "scatter": [
           {
            "marker": {
             "colorbar": {
              "outlinewidth": 0,
              "ticks": ""
             }
            },
            "type": "scatter"
           }
          ],
          "scatter3d": [
           {
            "line": {
             "colorbar": {
              "outlinewidth": 0,
              "ticks": ""
             }
            },
            "marker": {
             "colorbar": {
              "outlinewidth": 0,
              "ticks": ""
             }
            },
            "type": "scatter3d"
           }
          ],
          "scattercarpet": [
           {
            "marker": {
             "colorbar": {
              "outlinewidth": 0,
              "ticks": ""
             }
            },
            "type": "scattercarpet"
           }
          ],
          "scattergeo": [
           {
            "marker": {
             "colorbar": {
              "outlinewidth": 0,
              "ticks": ""
             }
            },
            "type": "scattergeo"
           }
          ],
          "scattergl": [
           {
            "marker": {
             "colorbar": {
              "outlinewidth": 0,
              "ticks": ""
             }
            },
            "type": "scattergl"
           }
          ],
          "scattermapbox": [
           {
            "marker": {
             "colorbar": {
              "outlinewidth": 0,
              "ticks": ""
             }
            },
            "type": "scattermapbox"
           }
          ],
          "scatterpolar": [
           {
            "marker": {
             "colorbar": {
              "outlinewidth": 0,
              "ticks": ""
             }
            },
            "type": "scatterpolar"
           }
          ],
          "scatterpolargl": [
           {
            "marker": {
             "colorbar": {
              "outlinewidth": 0,
              "ticks": ""
             }
            },
            "type": "scatterpolargl"
           }
          ],
          "scatterternary": [
           {
            "marker": {
             "colorbar": {
              "outlinewidth": 0,
              "ticks": ""
             }
            },
            "type": "scatterternary"
           }
          ],
          "surface": [
           {
            "colorbar": {
             "outlinewidth": 0,
             "ticks": ""
            },
            "colorscale": [
             [
              0,
              "#0d0887"
             ],
             [
              0.1111111111111111,
              "#46039f"
             ],
             [
              0.2222222222222222,
              "#7201a8"
             ],
             [
              0.3333333333333333,
              "#9c179e"
             ],
             [
              0.4444444444444444,
              "#bd3786"
             ],
             [
              0.5555555555555556,
              "#d8576b"
             ],
             [
              0.6666666666666666,
              "#ed7953"
             ],
             [
              0.7777777777777778,
              "#fb9f3a"
             ],
             [
              0.8888888888888888,
              "#fdca26"
             ],
             [
              1,
              "#f0f921"
             ]
            ],
            "type": "surface"
           }
          ],
          "table": [
           {
            "cells": {
             "fill": {
              "color": "#EBF0F8"
             },
             "line": {
              "color": "white"
             }
            },
            "header": {
             "fill": {
              "color": "#C8D4E3"
             },
             "line": {
              "color": "white"
             }
            },
            "type": "table"
           }
          ]
         },
         "layout": {
          "annotationdefaults": {
           "arrowcolor": "#2a3f5f",
           "arrowhead": 0,
           "arrowwidth": 1
          },
          "coloraxis": {
           "colorbar": {
            "outlinewidth": 0,
            "ticks": ""
           }
          },
          "colorscale": {
           "diverging": [
            [
             0,
             "#8e0152"
            ],
            [
             0.1,
             "#c51b7d"
            ],
            [
             0.2,
             "#de77ae"
            ],
            [
             0.3,
             "#f1b6da"
            ],
            [
             0.4,
             "#fde0ef"
            ],
            [
             0.5,
             "#f7f7f7"
            ],
            [
             0.6,
             "#e6f5d0"
            ],
            [
             0.7,
             "#b8e186"
            ],
            [
             0.8,
             "#7fbc41"
            ],
            [
             0.9,
             "#4d9221"
            ],
            [
             1,
             "#276419"
            ]
           ],
           "sequential": [
            [
             0,
             "#0d0887"
            ],
            [
             0.1111111111111111,
             "#46039f"
            ],
            [
             0.2222222222222222,
             "#7201a8"
            ],
            [
             0.3333333333333333,
             "#9c179e"
            ],
            [
             0.4444444444444444,
             "#bd3786"
            ],
            [
             0.5555555555555556,
             "#d8576b"
            ],
            [
             0.6666666666666666,
             "#ed7953"
            ],
            [
             0.7777777777777778,
             "#fb9f3a"
            ],
            [
             0.8888888888888888,
             "#fdca26"
            ],
            [
             1,
             "#f0f921"
            ]
           ],
           "sequentialminus": [
            [
             0,
             "#0d0887"
            ],
            [
             0.1111111111111111,
             "#46039f"
            ],
            [
             0.2222222222222222,
             "#7201a8"
            ],
            [
             0.3333333333333333,
             "#9c179e"
            ],
            [
             0.4444444444444444,
             "#bd3786"
            ],
            [
             0.5555555555555556,
             "#d8576b"
            ],
            [
             0.6666666666666666,
             "#ed7953"
            ],
            [
             0.7777777777777778,
             "#fb9f3a"
            ],
            [
             0.8888888888888888,
             "#fdca26"
            ],
            [
             1,
             "#f0f921"
            ]
           ]
          },
          "colorway": [
           "#636efa",
           "#EF553B",
           "#00cc96",
           "#ab63fa",
           "#FFA15A",
           "#19d3f3",
           "#FF6692",
           "#B6E880",
           "#FF97FF",
           "#FECB52"
          ],
          "font": {
           "color": "#2a3f5f"
          },
          "geo": {
           "bgcolor": "white",
           "lakecolor": "white",
           "landcolor": "#E5ECF6",
           "showlakes": true,
           "showland": true,
           "subunitcolor": "white"
          },
          "hoverlabel": {
           "align": "left"
          },
          "hovermode": "closest",
          "mapbox": {
           "style": "light"
          },
          "paper_bgcolor": "white",
          "plot_bgcolor": "#E5ECF6",
          "polar": {
           "angularaxis": {
            "gridcolor": "white",
            "linecolor": "white",
            "ticks": ""
           },
           "bgcolor": "#E5ECF6",
           "radialaxis": {
            "gridcolor": "white",
            "linecolor": "white",
            "ticks": ""
           }
          },
          "scene": {
           "xaxis": {
            "backgroundcolor": "#E5ECF6",
            "gridcolor": "white",
            "gridwidth": 2,
            "linecolor": "white",
            "showbackground": true,
            "ticks": "",
            "zerolinecolor": "white"
           },
           "yaxis": {
            "backgroundcolor": "#E5ECF6",
            "gridcolor": "white",
            "gridwidth": 2,
            "linecolor": "white",
            "showbackground": true,
            "ticks": "",
            "zerolinecolor": "white"
           },
           "zaxis": {
            "backgroundcolor": "#E5ECF6",
            "gridcolor": "white",
            "gridwidth": 2,
            "linecolor": "white",
            "showbackground": true,
            "ticks": "",
            "zerolinecolor": "white"
           }
          },
          "shapedefaults": {
           "line": {
            "color": "#2a3f5f"
           }
          },
          "ternary": {
           "aaxis": {
            "gridcolor": "white",
            "linecolor": "white",
            "ticks": ""
           },
           "baxis": {
            "gridcolor": "white",
            "linecolor": "white",
            "ticks": ""
           },
           "bgcolor": "#E5ECF6",
           "caxis": {
            "gridcolor": "white",
            "linecolor": "white",
            "ticks": ""
           }
          },
          "title": {
           "x": 0.05
          },
          "xaxis": {
           "automargin": true,
           "gridcolor": "white",
           "linecolor": "white",
           "ticks": "",
           "title": {
            "standoff": 15
           },
           "zerolinecolor": "white",
           "zerolinewidth": 2
          },
          "yaxis": {
           "automargin": true,
           "gridcolor": "white",
           "linecolor": "white",
           "ticks": "",
           "title": {
            "standoff": 15
           },
           "zerolinecolor": "white",
           "zerolinewidth": 2
          }
         }
        },
        "title": {
         "text": "Per capita GDP of India, China, USA, UK, Japan (1600-1857)"
        },
        "xaxis": {
         "anchor": "y",
         "domain": [
          0,
          1
         ],
         "title": {
          "text": "Year"
         }
        },
        "yaxis": {
         "anchor": "x",
         "domain": [
          0,
          1
         ],
         "title": {
          "text": "Per capita GDP"
         }
        }
       }
      },
      "text/html": [
       "<div>\n",
       "        \n",
       "        \n",
       "            <div id=\"ebe21866-9a5e-4624-a352-f70627adca0d\" class=\"plotly-graph-div\" style=\"height:525px; width:100%;\"></div>\n",
       "            <script type=\"text/javascript\">\n",
       "                require([\"plotly\"], function(Plotly) {\n",
       "                    window.PLOTLYENV=window.PLOTLYENV || {};\n",
       "                    \n",
       "                if (document.getElementById(\"ebe21866-9a5e-4624-a352-f70627adca0d\")) {\n",
       "                    Plotly.newPlot(\n",
       "                        'ebe21866-9a5e-4624-a352-f70627adca0d',\n",
       "                        [{\"hovertemplate\": \"country=China<br>year=%{x}<br>cgdppc=%{y}<extra></extra>\", \"legendgroup\": \"China\", \"line\": {\"color\": \"#636efa\", \"dash\": \"solid\"}, \"mode\": \"lines\", \"name\": \"China\", \"orientation\": \"v\", \"showlegend\": true, \"type\": \"scatter\", \"x\": [1661.0, 1766.0, 1812.0, 1820.0, 1825.0, 1850.0], \"xaxis\": \"x\", \"y\": [940.0, 686.0, 624.0, 741.0, 716.0, 643.0], \"yaxis\": \"y\"}, {\"hovertemplate\": \"country=United Kingdom<br>year=%{x}<br>cgdppc=%{y}<extra></extra>\", \"legendgroup\": \"United Kingdom\", \"line\": {\"color\": \"#EF553B\", \"dash\": \"solid\"}, \"mode\": \"lines\", \"name\": \"United Kingdom\", \"orientation\": \"v\", \"showlegend\": true, \"type\": \"scatter\", \"x\": [1700.0, 1701.0, 1702.0, 1703.0, 1704.0, 1705.0, 1706.0, 1707.0, 1708.0, 1709.0, 1710.0, 1711.0, 1712.0, 1713.0, 1714.0, 1715.0, 1716.0, 1717.0, 1718.0, 1719.0, 1720.0, 1721.0, 1722.0, 1723.0, 1724.0, 1725.0, 1726.0, 1727.0, 1728.0, 1729.0, 1730.0, 1731.0, 1732.0, 1733.0, 1734.0, 1735.0, 1736.0, 1737.0, 1738.0, 1739.0, 1740.0, 1741.0, 1742.0, 1743.0, 1744.0, 1745.0, 1746.0, 1747.0, 1748.0, 1749.0, 1750.0, 1751.0, 1752.0, 1753.0, 1754.0, 1755.0, 1756.0, 1757.0, 1758.0, 1759.0, 1760.0, 1761.0, 1762.0, 1763.0, 1764.0, 1765.0, 1766.0, 1767.0, 1768.0, 1769.0, 1770.0, 1771.0, 1772.0, 1773.0, 1774.0, 1775.0, 1776.0, 1777.0, 1778.0, 1779.0, 1780.0, 1781.0, 1782.0, 1783.0, 1784.0, 1785.0, 1786.0, 1787.0, 1788.0, 1789.0, 1790.0, 1791.0, 1792.0, 1793.0, 1794.0, 1795.0, 1796.0, 1797.0, 1798.0, 1799.0, 1800.0, 1801.0, 1802.0, 1803.0, 1804.0, 1805.0, 1806.0, 1807.0, 1808.0, 1809.0, 1810.0, 1811.0, 1812.0, 1813.0, 1814.0, 1815.0, 1816.0, 1817.0, 1818.0, 1819.0, 1820.0, 1821.0, 1822.0, 1823.0, 1824.0, 1825.0, 1826.0, 1827.0, 1828.0, 1829.0, 1830.0, 1831.0, 1832.0, 1833.0, 1834.0, 1835.0, 1836.0, 1837.0, 1838.0, 1839.0, 1840.0, 1841.0, 1842.0, 1843.0, 1844.0, 1845.0, 1846.0, 1847.0, 1848.0, 1849.0, 1850.0, 1851.0, 1852.0, 1853.0, 1854.0, 1855.0, 1856.0], \"xaxis\": \"x\", \"y\": [1591.0, 1723.0, 1667.0, 1546.0, 1832.0, 1735.0, 1464.0, 1639.0, 1739.0, 1503.0, 1363.0, 1487.0, 1489.0, 1422.0, 1559.0, 1514.0, 1561.0, 1638.0, 1719.0, 1677.0, 1790.0, 1722.0, 1739.0, 1691.0, 1668.0, 1705.0, 1639.0, 1619.0, 1685.0, 1617.0, 1674.0, 1649.0, 1751.0, 1780.0, 1756.0, 1699.0, 1811.0, 1703.0, 1727.0, 1705.0, 1667.0, 1712.0, 1769.0, 1728.0, 1692.0, 1700.0, 1742.0, 1814.0, 1790.0, 1768.0, 1782.0, 1733.0, 1807.0, 1810.0, 1747.0, 1788.0, 1744.0, 1836.0, 1857.0, 1880.0, 1923.0, 1986.0, 1924.0, 1922.0, 1912.0, 1882.0, 1899.0, 1907.0, 1920.0, 2016.0, 1947.0, 1971.0, 1907.0, 1926.0, 1870.0, 1910.0, 1953.0, 1991.0, 1957.0, 1933.0, 2011.0, 2046.0, 2010.0, 1996.0, 1985.0, 1953.0, 1967.0, 1912.0, 1888.0, 1905.0, 2026.0, 2010.0, 2067.0, 2012.0, 1930.0, 2116.0, 2132.0, 2089.0, 2085.0, 2115.0, 2205.0, 2210.0, 2217.0, 2145.0, 2113.0, 2209.0, 2168.0, 2278.0, 2144.0, 2182.0, 2294.0, 2241.0, 2116.0, 2196.0, 2114.0, 2302.0, 2144.0, 2146.0, 2112.0, 2047.0, 2181.0, 2182.0, 2187.0, 2216.0, 2304.0, 2323.0, 2170.0, 2308.0, 2282.0, 2271.0, 2342.0, 2339.0, 2383.0, 2374.0, 2401.0, 2547.0, 2597.0, 2544.0, 2614.0, 2560.0, 2651.0, 2569.0, 2512.0, 2605.0, 2800.0, 2894.0, 2859.0, 2793.0, 2877.0, 2917.0, 2858.0, 2953.0, 3051.0, 3123.0, 3239.0, 3132.0, 3307.0], \"yaxis\": \"y\"}, {\"hovertemplate\": \"country=India<br>year=%{x}<br>cgdppc=%{y}<extra></extra>\", \"legendgroup\": \"India\", \"line\": {\"color\": \"#00cc96\", \"dash\": \"solid\"}, \"mode\": \"lines\", \"name\": \"India\", \"orientation\": \"v\", \"showlegend\": true, \"type\": \"scatter\", \"x\": [1650.0, 1700.0, 1750.0, 1801.0, 1811.0, 1821.0, 1831.0, 1841.0, 1851.0], \"xaxis\": \"x\", \"y\": [1228.0, 1200.0, 1103.0, 1067.0, 1016.0, 968.0, 976.0, 975.0, 978.0], \"yaxis\": \"y\"}, {\"hovertemplate\": \"country=Japan<br>year=%{x}<br>cgdppc=%{y}<extra></extra>\", \"legendgroup\": \"Japan\", \"line\": {\"color\": \"#ab63fa\", \"dash\": \"solid\"}, \"mode\": \"lines\", \"name\": \"Japan\", \"orientation\": \"v\", \"showlegend\": true, \"type\": \"scatter\", \"x\": [1650.0, 1700.0, 1750.0, 1800.0, 1850.0], \"xaxis\": \"x\", \"y\": [746.0, 840.0, 799.0, 856.0, 910.0], \"yaxis\": \"y\"}, {\"hovertemplate\": \"country=United States<br>year=%{x}<br>cgdppc=%{y}<extra></extra>\", \"legendgroup\": \"United States\", \"line\": {\"color\": \"#FFA15A\", \"dash\": \"solid\"}, \"mode\": \"lines\", \"name\": \"United States\", \"orientation\": \"v\", \"showlegend\": true, \"type\": \"scatter\", \"x\": [1650.0, 1720.0, 1775.0, 1800.0, 1801.0, 1802.0, 1803.0, 1804.0, 1805.0, 1806.0, 1807.0, 1808.0, 1809.0, 1810.0, 1811.0, 1812.0, 1813.0, 1814.0, 1815.0, 1816.0, 1817.0, 1818.0, 1819.0, 1820.0, 1821.0, 1822.0, 1823.0, 1824.0, 1825.0, 1826.0, 1827.0, 1828.0, 1829.0, 1830.0, 1831.0, 1832.0, 1833.0, 1834.0, 1835.0, 1836.0, 1837.0, 1838.0, 1839.0, 1840.0, 1841.0, 1842.0, 1843.0, 1844.0, 1845.0, 1846.0, 1847.0, 1848.0, 1849.0, 1850.0, 1851.0, 1852.0, 1853.0, 1854.0, 1855.0, 1856.0], \"xaxis\": \"x\", \"y\": [897.0, 1375.0, 1883.0, 1980.0, 2017.0, 2050.0, 2015.0, 2014.0, 2056.0, 2094.0, 2114.0, 1965.0, 2062.0, 2120.0, 2163.0, 2125.0, 2149.0, 2190.0, 2180.0, 2092.0, 2091.0, 2097.0, 2092.0, 2080.0, 2113.0, 2171.0, 2147.0, 2205.0, 2254.0, 2270.0, 2279.0, 2279.0, 2204.0, 2364.0, 2509.0, 2600.0, 2691.0, 2562.0, 2660.0, 2699.0, 2614.0, 2591.0, 2717.0, 2583.0, 2529.0, 2507.0, 2547.0, 2685.0, 2728.0, 2743.0, 2816.0, 2888.0, 2814.0, 2825.0, 2940.0, 3089.0, 3300.0, 3310.0, 3237.0, 3305.0], \"yaxis\": \"y\"}],\n",
       "                        {\"legend\": {\"title\": {\"text\": \"country\"}, \"tracegroupgap\": 0}, \"margin\": {\"t\": 60}, \"template\": {\"data\": {\"bar\": [{\"error_x\": {\"color\": \"#2a3f5f\"}, \"error_y\": {\"color\": \"#2a3f5f\"}, \"marker\": {\"line\": {\"color\": \"#E5ECF6\", \"width\": 0.5}}, \"type\": \"bar\"}], \"barpolar\": [{\"marker\": {\"line\": {\"color\": \"#E5ECF6\", \"width\": 0.5}}, \"type\": \"barpolar\"}], \"carpet\": [{\"aaxis\": {\"endlinecolor\": \"#2a3f5f\", \"gridcolor\": \"white\", \"linecolor\": \"white\", \"minorgridcolor\": \"white\", \"startlinecolor\": \"#2a3f5f\"}, \"baxis\": {\"endlinecolor\": \"#2a3f5f\", \"gridcolor\": \"white\", \"linecolor\": \"white\", \"minorgridcolor\": \"white\", \"startlinecolor\": \"#2a3f5f\"}, \"type\": \"carpet\"}], \"choropleth\": [{\"colorbar\": {\"outlinewidth\": 0, \"ticks\": \"\"}, \"type\": \"choropleth\"}], \"contour\": [{\"colorbar\": {\"outlinewidth\": 0, \"ticks\": \"\"}, \"colorscale\": [[0.0, \"#0d0887\"], [0.1111111111111111, \"#46039f\"], [0.2222222222222222, \"#7201a8\"], [0.3333333333333333, \"#9c179e\"], [0.4444444444444444, \"#bd3786\"], [0.5555555555555556, \"#d8576b\"], [0.6666666666666666, \"#ed7953\"], [0.7777777777777778, \"#fb9f3a\"], [0.8888888888888888, \"#fdca26\"], [1.0, \"#f0f921\"]], \"type\": \"contour\"}], \"contourcarpet\": [{\"colorbar\": {\"outlinewidth\": 0, \"ticks\": \"\"}, \"type\": \"contourcarpet\"}], \"heatmap\": [{\"colorbar\": {\"outlinewidth\": 0, \"ticks\": \"\"}, \"colorscale\": [[0.0, \"#0d0887\"], [0.1111111111111111, \"#46039f\"], [0.2222222222222222, \"#7201a8\"], [0.3333333333333333, \"#9c179e\"], [0.4444444444444444, \"#bd3786\"], [0.5555555555555556, \"#d8576b\"], [0.6666666666666666, \"#ed7953\"], [0.7777777777777778, \"#fb9f3a\"], [0.8888888888888888, \"#fdca26\"], [1.0, \"#f0f921\"]], \"type\": \"heatmap\"}], \"heatmapgl\": [{\"colorbar\": {\"outlinewidth\": 0, \"ticks\": \"\"}, \"colorscale\": [[0.0, \"#0d0887\"], [0.1111111111111111, \"#46039f\"], [0.2222222222222222, \"#7201a8\"], [0.3333333333333333, \"#9c179e\"], [0.4444444444444444, \"#bd3786\"], [0.5555555555555556, \"#d8576b\"], [0.6666666666666666, \"#ed7953\"], [0.7777777777777778, \"#fb9f3a\"], [0.8888888888888888, \"#fdca26\"], [1.0, \"#f0f921\"]], \"type\": \"heatmapgl\"}], \"histogram\": [{\"marker\": {\"colorbar\": {\"outlinewidth\": 0, \"ticks\": \"\"}}, \"type\": \"histogram\"}], \"histogram2d\": [{\"colorbar\": {\"outlinewidth\": 0, \"ticks\": \"\"}, \"colorscale\": [[0.0, \"#0d0887\"], [0.1111111111111111, \"#46039f\"], [0.2222222222222222, \"#7201a8\"], [0.3333333333333333, \"#9c179e\"], [0.4444444444444444, \"#bd3786\"], [0.5555555555555556, \"#d8576b\"], [0.6666666666666666, \"#ed7953\"], [0.7777777777777778, \"#fb9f3a\"], [0.8888888888888888, \"#fdca26\"], [1.0, \"#f0f921\"]], \"type\": \"histogram2d\"}], \"histogram2dcontour\": [{\"colorbar\": {\"outlinewidth\": 0, \"ticks\": \"\"}, \"colorscale\": [[0.0, \"#0d0887\"], [0.1111111111111111, \"#46039f\"], [0.2222222222222222, \"#7201a8\"], [0.3333333333333333, \"#9c179e\"], [0.4444444444444444, \"#bd3786\"], [0.5555555555555556, \"#d8576b\"], [0.6666666666666666, \"#ed7953\"], [0.7777777777777778, \"#fb9f3a\"], [0.8888888888888888, \"#fdca26\"], [1.0, \"#f0f921\"]], \"type\": \"histogram2dcontour\"}], \"mesh3d\": [{\"colorbar\": {\"outlinewidth\": 0, \"ticks\": \"\"}, \"type\": \"mesh3d\"}], \"parcoords\": [{\"line\": {\"colorbar\": {\"outlinewidth\": 0, \"ticks\": \"\"}}, \"type\": \"parcoords\"}], \"pie\": [{\"automargin\": true, \"type\": \"pie\"}], \"scatter\": [{\"marker\": {\"colorbar\": {\"outlinewidth\": 0, \"ticks\": \"\"}}, \"type\": \"scatter\"}], \"scatter3d\": [{\"line\": {\"colorbar\": {\"outlinewidth\": 0, \"ticks\": \"\"}}, \"marker\": {\"colorbar\": {\"outlinewidth\": 0, \"ticks\": \"\"}}, \"type\": \"scatter3d\"}], \"scattercarpet\": [{\"marker\": {\"colorbar\": {\"outlinewidth\": 0, \"ticks\": \"\"}}, \"type\": \"scattercarpet\"}], \"scattergeo\": [{\"marker\": {\"colorbar\": {\"outlinewidth\": 0, \"ticks\": \"\"}}, \"type\": \"scattergeo\"}], \"scattergl\": [{\"marker\": {\"colorbar\": {\"outlinewidth\": 0, \"ticks\": \"\"}}, \"type\": \"scattergl\"}], \"scattermapbox\": [{\"marker\": {\"colorbar\": {\"outlinewidth\": 0, \"ticks\": \"\"}}, \"type\": \"scattermapbox\"}], \"scatterpolar\": [{\"marker\": {\"colorbar\": {\"outlinewidth\": 0, \"ticks\": \"\"}}, \"type\": \"scatterpolar\"}], \"scatterpolargl\": [{\"marker\": {\"colorbar\": {\"outlinewidth\": 0, \"ticks\": \"\"}}, \"type\": \"scatterpolargl\"}], \"scatterternary\": [{\"marker\": {\"colorbar\": {\"outlinewidth\": 0, \"ticks\": \"\"}}, \"type\": \"scatterternary\"}], \"surface\": [{\"colorbar\": {\"outlinewidth\": 0, \"ticks\": \"\"}, \"colorscale\": [[0.0, \"#0d0887\"], [0.1111111111111111, \"#46039f\"], [0.2222222222222222, \"#7201a8\"], [0.3333333333333333, \"#9c179e\"], [0.4444444444444444, \"#bd3786\"], [0.5555555555555556, \"#d8576b\"], [0.6666666666666666, \"#ed7953\"], [0.7777777777777778, \"#fb9f3a\"], [0.8888888888888888, \"#fdca26\"], [1.0, \"#f0f921\"]], \"type\": \"surface\"}], \"table\": [{\"cells\": {\"fill\": {\"color\": \"#EBF0F8\"}, \"line\": {\"color\": \"white\"}}, \"header\": {\"fill\": {\"color\": \"#C8D4E3\"}, \"line\": {\"color\": \"white\"}}, \"type\": \"table\"}]}, \"layout\": {\"annotationdefaults\": {\"arrowcolor\": \"#2a3f5f\", \"arrowhead\": 0, \"arrowwidth\": 1}, \"coloraxis\": {\"colorbar\": {\"outlinewidth\": 0, \"ticks\": \"\"}}, \"colorscale\": {\"diverging\": [[0, \"#8e0152\"], [0.1, \"#c51b7d\"], [0.2, \"#de77ae\"], [0.3, \"#f1b6da\"], [0.4, \"#fde0ef\"], [0.5, \"#f7f7f7\"], [0.6, \"#e6f5d0\"], [0.7, \"#b8e186\"], [0.8, \"#7fbc41\"], [0.9, \"#4d9221\"], [1, \"#276419\"]], \"sequential\": [[0.0, \"#0d0887\"], [0.1111111111111111, \"#46039f\"], [0.2222222222222222, \"#7201a8\"], [0.3333333333333333, \"#9c179e\"], [0.4444444444444444, \"#bd3786\"], [0.5555555555555556, \"#d8576b\"], [0.6666666666666666, \"#ed7953\"], [0.7777777777777778, \"#fb9f3a\"], [0.8888888888888888, \"#fdca26\"], [1.0, \"#f0f921\"]], \"sequentialminus\": [[0.0, \"#0d0887\"], [0.1111111111111111, \"#46039f\"], [0.2222222222222222, \"#7201a8\"], [0.3333333333333333, \"#9c179e\"], [0.4444444444444444, \"#bd3786\"], [0.5555555555555556, \"#d8576b\"], [0.6666666666666666, \"#ed7953\"], [0.7777777777777778, \"#fb9f3a\"], [0.8888888888888888, \"#fdca26\"], [1.0, \"#f0f921\"]]}, \"colorway\": [\"#636efa\", \"#EF553B\", \"#00cc96\", \"#ab63fa\", \"#FFA15A\", \"#19d3f3\", \"#FF6692\", \"#B6E880\", \"#FF97FF\", \"#FECB52\"], \"font\": {\"color\": \"#2a3f5f\"}, \"geo\": {\"bgcolor\": \"white\", \"lakecolor\": \"white\", \"landcolor\": \"#E5ECF6\", \"showlakes\": true, \"showland\": true, \"subunitcolor\": \"white\"}, \"hoverlabel\": {\"align\": \"left\"}, \"hovermode\": \"closest\", \"mapbox\": {\"style\": \"light\"}, \"paper_bgcolor\": \"white\", \"plot_bgcolor\": \"#E5ECF6\", \"polar\": {\"angularaxis\": {\"gridcolor\": \"white\", \"linecolor\": \"white\", \"ticks\": \"\"}, \"bgcolor\": \"#E5ECF6\", \"radialaxis\": {\"gridcolor\": \"white\", \"linecolor\": \"white\", \"ticks\": \"\"}}, \"scene\": {\"xaxis\": {\"backgroundcolor\": \"#E5ECF6\", \"gridcolor\": \"white\", \"gridwidth\": 2, \"linecolor\": \"white\", \"showbackground\": true, \"ticks\": \"\", \"zerolinecolor\": \"white\"}, \"yaxis\": {\"backgroundcolor\": \"#E5ECF6\", \"gridcolor\": \"white\", \"gridwidth\": 2, \"linecolor\": \"white\", \"showbackground\": true, \"ticks\": \"\", \"zerolinecolor\": \"white\"}, \"zaxis\": {\"backgroundcolor\": \"#E5ECF6\", \"gridcolor\": \"white\", \"gridwidth\": 2, \"linecolor\": \"white\", \"showbackground\": true, \"ticks\": \"\", \"zerolinecolor\": \"white\"}}, \"shapedefaults\": {\"line\": {\"color\": \"#2a3f5f\"}}, \"ternary\": {\"aaxis\": {\"gridcolor\": \"white\", \"linecolor\": \"white\", \"ticks\": \"\"}, \"baxis\": {\"gridcolor\": \"white\", \"linecolor\": \"white\", \"ticks\": \"\"}, \"bgcolor\": \"#E5ECF6\", \"caxis\": {\"gridcolor\": \"white\", \"linecolor\": \"white\", \"ticks\": \"\"}}, \"title\": {\"x\": 0.05}, \"xaxis\": {\"automargin\": true, \"gridcolor\": \"white\", \"linecolor\": \"white\", \"ticks\": \"\", \"title\": {\"standoff\": 15}, \"zerolinecolor\": \"white\", \"zerolinewidth\": 2}, \"yaxis\": {\"automargin\": true, \"gridcolor\": \"white\", \"linecolor\": \"white\", \"ticks\": \"\", \"title\": {\"standoff\": 15}, \"zerolinecolor\": \"white\", \"zerolinewidth\": 2}}}, \"title\": {\"text\": \"Per capita GDP of India, China, USA, UK, Japan (1600-1857)\"}, \"xaxis\": {\"anchor\": \"y\", \"domain\": [0.0, 1.0], \"title\": {\"text\": \"Year\"}}, \"yaxis\": {\"anchor\": \"x\", \"domain\": [0.0, 1.0], \"title\": {\"text\": \"Per capita GDP\"}}},\n",
       "                        {\"responsive\": true}\n",
       "                    ).then(function(){\n",
       "                            \n",
       "var gd = document.getElementById('ebe21866-9a5e-4624-a352-f70627adca0d');\n",
       "var x = new MutationObserver(function (mutations, observer) {{\n",
       "        var display = window.getComputedStyle(gd).display;\n",
       "        if (!display || display === 'none') {{\n",
       "            console.log([gd, 'removed!']);\n",
       "            Plotly.purge(gd);\n",
       "            observer.disconnect();\n",
       "        }}\n",
       "}});\n",
       "\n",
       "// Listen for the removal of the full notebook cells\n",
       "var notebookContainer = gd.closest('#notebook-container');\n",
       "if (notebookContainer) {{\n",
       "    x.observe(notebookContainer, {childList: true});\n",
       "}}\n",
       "\n",
       "// Listen for the clearing of the current output cell\n",
       "var outputEl = gd.closest('.output');\n",
       "if (outputEl) {{\n",
       "    x.observe(outputEl, {childList: true});\n",
       "}}\n",
       "\n",
       "                        })\n",
       "                };\n",
       "                });\n",
       "            </script>\n",
       "        </div>"
      ]
     },
     "metadata": {},
     "output_type": "display_data"
    },
    {
     "data": {
      "text/plain": [
       "1228.0"
      ]
     },
     "execution_count": 13,
     "metadata": {},
     "output_type": "execute_result"
    }
   ],
   "source": [
    "import pandas as pd\n",
    "import plotly.express as px\n",
    "import plotly.graph_objects as go\n",
    "\n",
    "# Madison Project Historical GDP Data\n",
    "df = pd.read_stata(\"/Users/kalyan/OneDrive-IIMV/OneDrive - IIM VIZAG/Python-Exercise-KK/base-data/mpd2018.dta\")\n",
    "print(df.columns)\n",
    "df.dropna(subset=[\"year\",\"cgdppc\"],inplace=True)\n",
    "#country_list = ['IND','CHN','USA', 'PAK','GBR','JPN']\n",
    "country_list = ['IND','CHN','USA','GBR','JPN']\n",
    "\n",
    "filt = df['countrycode'].isin(country_list) & (df['year'] > 1600) & (df['year'] < 1857)\n",
    "df = df[['year','cgdppc','rgdpnapc','country','countrycode']][filt]\n",
    "df\n",
    "fig = px.line(df, x=\"year\", y=\"cgdppc\", color=\"country\")\n",
    "\n",
    "df_ind = df[df['countrycode']=='IND']\n",
    "max_gdppc_ind = df_ind['cgdppc'].max()\n",
    "fig.layout.update(\n",
    "                title_text='Per capita GDP of India, China, USA, UK, Japan (1600-1857)', # title of plot\n",
    "                xaxis_title_text='Year', # xaxis label\n",
    "                yaxis_title_text='Per capita GDP', # yaxis label\n",
    "               )\n",
    "fig.show()\n",
    "df_ind['cgdppc'].max()"
   ]
  },
  {
   "cell_type": "code",
   "execution_count": null,
   "metadata": {},
   "outputs": [],
   "source": []
  }
 ],
 "metadata": {
  "kernelspec": {
   "display_name": "Python 3",
   "language": "python",
   "name": "python3"
  },
  "language_info": {
   "codemirror_mode": {
    "name": "ipython",
    "version": 3
   },
   "file_extension": ".py",
   "mimetype": "text/x-python",
   "name": "python",
   "nbconvert_exporter": "python",
   "pygments_lexer": "ipython3",
   "version": "3.7.7"
  }
 },
 "nbformat": 4,
 "nbformat_minor": 4
}
