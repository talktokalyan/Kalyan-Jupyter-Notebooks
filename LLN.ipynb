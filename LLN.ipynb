{
 "cells": [
  {
   "cell_type": "markdown",
   "metadata": {},
   "source": [
    "# Law of Large Numbers"
   ]
  },
  {
   "cell_type": "markdown",
   "metadata": {},
   "source": [
    "%%latex\n",
    "\\textbf{Strong Law (LLN):} Sample average converges \\textit{almost surely a.s} to population mean. \n",
    "Mathematically speaking, as N $\\to \\infty$\n",
    "\n",
    "\\begin{equation} \\bar{X}_N=\\frac{X_1 +X_2+...+X_N}{N} \\to \\mu \\end{equation} \n",
    "\n",
    "The probability that, as the number of trials N goes to infinity, the average of the observations converges to the expected value, is equal to one\n",
    "\\\\ $$Pr(\\lim_{N\\to\\infty} \\bar{X}_N = \\mu)=1 $$\n",
    "\\textbf{Weak Law (LLN) Khinchin law :}  The sample average converges in \\textit{probability} towards the expected value. \n",
    "$$\\lim_{N\\to\\infty} Pr(| \\bar{X}_N - \\mu|>\\epsilon) = 0$$"
   ]
  },
  {
   "cell_type": "code",
   "execution_count": 5,
   "metadata": {},
   "outputs": [],
   "source": [
    "## LAW OF LARGE NUMBERS\n",
    "\n",
    "import numpy as np\n",
    "import matplotlib.pyplot as plt\n",
    "import scipy.stats as stats\n",
    "import seaborn as sns\n",
    "\n",
    "\n",
    "def lln(ssize,dist):\n",
    "    print(ssize,dist)\n",
    "    print(type(ssize),type(dist))\n",
    "    \n",
    "    np.random.seed(200) # set seed for reproducability of results\n",
    "    \n",
    "    \"PLOT SAMPLE DISTRIBUTION\"\n",
    "    ss = ssize\n",
    "    dist_type = dist\n",
    "    \n",
    "    def normal():\n",
    "        tmp = np.random.normal(size=ss)\n",
    "        return tmp \n",
    "    def uniform():\n",
    "        tmp = np.random.uniform(size=ss) #default: a=lowerbound =0.0 ; b=upperbound =1.0\n",
    "        return tmp \n",
    "    def binomial():\n",
    "        tmp = np.random.binomial(n=10,p=0.5,size=ss) # Num trials = 10, prob= 0.5\n",
    "        return tmp \n",
    "    def poisson():\n",
    "        tmp = np.random.poisson(lam=2,size=ss) #lam = average occurence of discrete event\n",
    "        return tmp \n",
    "    def logistic():\n",
    "        tmp = np.random.logistic(loc=0,scale=2,size=ss) #default: loc =mean of the peak= 0; scale =standard deviation=1\n",
    "        return tmp \n",
    "    def multinomial():\n",
    "        tmp = np.random.multinomial(n=6,pvals=[1/6, 1/6, 1/6, 1/6, 1/6, 1/6],size=ss) #default(dice roll): n= numoutcomes=6; pvals=[1/6, 1/6, 1/6, 1/6, 1/6, 1/6]\n",
    "        return tmp \n",
    "    def exponential():\n",
    "        tmp = np.random.exponential(scale=1,size=ss) #default: scale =inverse of rate =1.0.\n",
    "        return tmp \n",
    "    def chisquare():\n",
    "        tmp = np.random.chisquare(df=2,size=ss) #df - (degree of freedom).\n",
    "        return tmp \n",
    "    def rayleigh():\n",
    "        tmp = np.random.rayleigh(scale=1.0,size=ss) #default:scale - (standard deviation)=1.0\n",
    "        return tmp \n",
    "    def pareto():\n",
    "        tmp = np.random.pareto(a=2,size=ss) # a - shape parameter.\n",
    "        return tmp \n",
    "    def zipf():\n",
    "        tmp = np.random.zipf(a=2, size=ss) # a - shape parameter.\n",
    "        return tmp\n",
    "    def the_count():\n",
    "        print(\"No distribution chosen\")\n",
    "    \n",
    "    # Dispatcher aides in calling different functions based on parameters.    \n",
    "    dispatcher = {\n",
    "        'Normal': normal, 'Uniform': uniform, 'Binomial': binomial, 'Poisson': poisson, 'Logistic': logistic, \n",
    "        'Multinomial': multinomial, 'Exponential': exponential, 'Chi-square': chisquare, 'Rayleigh': rayleigh, \n",
    "        'Pareto': pareto, 'Zipf': zipf, 'The_count': the_count\n",
    "    }\n",
    "\n",
    "    x = dispatcher[dist_type]() # Assign return value of different function calls (normal,uniform,etc.) to x.\n",
    "    #print(x)\n",
    "    \n",
    "    fig, ax = plt.subplots(1,1,sharey=True,figsize = (5,5))\n",
    "\n",
    "    mu = x.mean()\n",
    "    sigma = x.std()\n",
    "    min_xlim, max_xlim = plt.xlim()\n",
    "    min_ylim, max_ylim = plt.ylim()\n",
    "    print(min_xlim, max_xlim,min_ylim, max_ylim)\n",
    "    boxtext = '\\n'.join((\n",
    "    r'Sample Size:%.f ' % (ss, ) ,\n",
    "    r'$\\mu=%.3f$' % (mu, ),\n",
    "    r'$\\sigma=%.3f$' % (sigma, )))\n",
    "    props = dict(boxstyle='round', facecolor='grey', alpha=0.5)\n",
    "    #sns.distplot(x,color='Green')\n",
    "    ax.hist(x,bins=50,color='Green',density=1)\n",
    "    ax.axvline(x.mean(), color='k', linestyle='dashed', linewidth=1)\n",
    "    fig.text(1,1, boxtext, fontsize=12,ha='left', va='top', bbox=props)\n",
    "    ax.set_title(\"Distribution of the Random Sample\")\n",
    "    ax.set_xlabel(\"Outcome (x)\")\n",
    "    ax.set_ylabel(\"Density\")\n",
    "    fig.savefig('lln.png', bbox_inches=\"tight\")\n",
    "    print(type(fig))\n",
    "    print(type(ax))\n",
    "    return x\n"
   ]
  },
  {
   "cell_type": "code",
   "execution_count": 7,
   "metadata": {},
   "outputs": [
    {
     "name": "stdout",
     "output_type": "stream",
     "text": [
      "10000 Normal\n",
      "<class 'int'> <class 'str'>\n",
      "0.0 1.0 0.0 1.0\n",
      "<class 'matplotlib.figure.Figure'>\n",
      "<class 'matplotlib.axes._subplots.AxesSubplot'>\n"
     ]
    },
    {
     "data": {
      "text/plain": [
       "numpy.ndarray"
      ]
     },
     "execution_count": 7,
     "metadata": {},
     "output_type": "execute_result"
    },
    {
     "data": {
      "image/png": "[encoded data removed]",
      "text/plain": [
       "<Figure size 360x360 with 1 Axes>"
      ]
     },
     "metadata": {
      "needs_background": "light"
     },
     "output_type": "display_data"
    }
   ],
   "source": [
    "y= lln(10000,'Normal')\n",
    "type(y)"
   ]
  },
  {
   "cell_type": "code",
   "execution_count": null,
   "metadata": {},
   "outputs": [],
   "source": []
  }
 ],
 "metadata": {
  "kernelspec": {
   "display_name": "Python 3",
   "language": "python",
   "name": "python3"
  },
  "language_info": {
   "codemirror_mode": {
    "name": "ipython",
    "version": 3
   },
   "file_extension": ".py",
   "mimetype": "text/x-python",
   "name": "python",
   "nbconvert_exporter": "python",
   "pygments_lexer": "ipython3",
   "version": "3.7.2"
  }
 },
 "nbformat": 4,
 "nbformat_minor": 4
}
