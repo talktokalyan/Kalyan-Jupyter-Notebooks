{
 "cells": [
  {
   "cell_type": "code",
   "execution_count": 1,
   "metadata": {},
   "outputs": [],
   "source": [
    "#!/usr/bin/env python3\n",
    "# -*- coding: utf-8 -*-\n",
    "\"\"\"\n",
    "Created on Sun Sep 11 2020\n",
    "\n",
    "@author: kalyan\n",
    "\"\"\"\n",
    "\n",
    "## MONEY MULTIPLIER - FRACTIONAL RESERVE BANKING\n",
    "\n",
    "import numpy as np\n",
    "import matplotlib.pyplot as plt\n",
    "import scipy.stats as stats\n",
    "import seaborn as sns\n",
    "import plotly.graph_objects as go\n",
    "\n",
    "# frs = fraction reserve system \n",
    "\n",
    "def frs_banking(rr=0.5,cr=0.5,B=1):\n",
    "    rd_ratio = rr # reserve/deposit R/D\n",
    "    cd_ratio = cr # cash/deposit C/D\n",
    "    money_base = np.int(B) # Money Base C + R\n",
    "    \n",
    "    money_multiplier = [(1+cd_ratio)/(rd_ratio+cd_ratio)]\n",
    "    money_supply = (money_multiplier)*(money_base)\n",
    "    return money_multiplier, money_supply\n"
   ]
  },
  {
   "cell_type": "code",
   "execution_count": 16,
   "metadata": {},
   "outputs": [
    {
     "name": "stdout",
     "output_type": "stream",
     "text": [
      "[1.2] [1.2, 1.2, 1.2, 1.2, 1.2, 1.2, 1.2, 1.2, 1.2, 1.2]\n"
     ]
    }
   ],
   "source": [
    "x,y  = frs_banking(0.8, 0.2,10)\n",
    "print(x,y)"
   ]
  },
  {
   "cell_type": "code",
   "execution_count": null,
   "metadata": {},
   "outputs": [],
   "source": []
  },
  {
   "cell_type": "code",
   "execution_count": null,
   "metadata": {},
   "outputs": [],
   "source": []
  }
 ],
 "metadata": {
  "kernelspec": {
   "display_name": "Python 3",
   "language": "python",
   "name": "python3"
  },
  "language_info": {
   "codemirror_mode": {
    "name": "ipython",
    "version": 3
   },
   "file_extension": ".py",
   "mimetype": "text/x-python",
   "name": "python",
   "nbconvert_exporter": "python",
   "pygments_lexer": "ipython3",
   "version": "3.7.7"
  }
 },
 "nbformat": 4,
 "nbformat_minor": 4
}
