{
 "cells": [
  {
   "cell_type": "code",
   "execution_count": 2,
   "metadata": {},
   "outputs": [],
   "source": [
    "from scipy.integrate import quad\n",
    "\n",
    "class Market:\n",
    "\n",
    "    \"\"\" Demand function: Qd = a - b*(price) ; Supply function: Qs = c + d*(price - tax). \"\"\"\n",
    "    \"\"\" 1. Equilibrium finding methods: price(), quantity(), consumer_surp(), producer_surp(), tax_rev() \"\"\" \n",
    "    \"\"\" 2. Non-equilibrium methods: inv_demand(quantity), inv_supply(quantity), inv_supply_no_tax(quantity)  \"\"\"\n",
    "\n",
    "    def __init__(self, a, b, c, d, tax):\n",
    "        \"\"\"\n",
    "        Set up market parameters.  All parameters are scalars.  See\n",
    "        https://lectures.quantecon.org/py/python_oop.html for interpretation.\n",
    "\n",
    "        \"\"\"\n",
    "        self.a, self.b, self.c, self.d, self.tax = a, b, c, d, tax\n",
    "        if a < c:\n",
    "            raise ValueError('Insufficient demand. a must be greater than c')\n",
    "\n",
    "    def price(self):\n",
    "        \"Return equilibrium price\"\n",
    "        return  (self.a - self.c + self.d * self.tax) / (self.b + self.d)\n",
    "\n",
    "    def quantity(self):\n",
    "        \"Compute equilibrium quantity\"\n",
    "        return  self.a - self.b * self.price()\n",
    "\n",
    "    def consumer_surp(self):\n",
    "        \"Compute consumer surplus\"\n",
    "        # == Compute area under inverse demand function == #\n",
    "        integrand = lambda x: (self.a / self.b) - (1 / self.b) * x\n",
    "        area_u_demand, error = quad(integrand, 0, self.quantity())\n",
    "        return area_u_demand - self.price() * self.quantity()\n",
    "\n",
    "    def producer_surp(self):\n",
    "        \"Compute producer surplus\"\n",
    "        #  == Compute area above inverse supply curve, excluding tax == #\n",
    "        integrand = lambda x: -(self.c / self.d) + (1 / self.d) * x\n",
    "        area_u_supply, error = quad(integrand, 0, self.quantity())\n",
    "        return (self.price() - self.tax) * self.quantity() - area_u_supply\n",
    "\n",
    "    def tax_rev(self):\n",
    "        \"Compute tax revenue\"\n",
    "        return self.tax * self.quantity()\n",
    "\n",
    "    def inv_demand(self, x):\n",
    "        \"Compute inverse demand\"\n",
    "        return self.a / self.b - (1 / self.b)* x\n",
    "\n",
    "    def inv_supply(self, x):\n",
    "        \"Compute inverse supply curve\"\n",
    "        return -(self.c / self.d) + (1 / self.d) * x + self.tax\n",
    "\n",
    "    def inv_supply_no_tax(self, x):\n",
    "        \"Compute inverse supply curve without tax\"\n",
    "        return -(self.c / self.d) + (1 / self.d) * x"
   ]
  },
  {
   "cell_type": "code",
   "execution_count": 3,
   "metadata": {},
   "outputs": [
    {
     "data": {
      "application/vnd.jupyter.widget-view+json": {
       "model_id": "07036c6136fb483fa69b4fe0f67c4223",
       "version_major": 2,
       "version_minor": 0
      },
      "text/plain": [
       "interactive(children=(BoundedFloatText(value=5.0, description='Demand Intercept (a):', min=1.0), BoundedFloatT…"
      ]
     },
     "metadata": {},
     "output_type": "display_data"
    }
   ],
   "source": [
    "import ipywidgets as widgets\n",
    "from IPython.display import display\n",
    "import matplotlib.pyplot as plt\n",
    "import numpy as np\n",
    "\n",
    "%matplotlib nbagg\n",
    "\n",
    "# Define function 'update_plot' to call everytime widget value changes\n",
    "\n",
    "def update_plot(a,b,c,d,tax):\n",
    "        \n",
    "    baseline_params = a, b, c, d, tax\n",
    "    m = Market(*baseline_params)\n",
    "    print(m.quantity(),m.price())\n",
    "    q_max = m.quantity() * 3\n",
    "    p_max = m.price()*3\n",
    "    q_grid = np.linspace(0.0, q_max, 100)\n",
    "    pd = m.inv_demand(q_grid)\n",
    "    ps = m.inv_supply(q_grid)\n",
    "    psno = m.inv_supply_no_tax(q_grid)\n",
    "\n",
    "    fig, ax = plt.subplots()\n",
    "    ax.plot(q_grid, pd, '-',lw=2.5, alpha=0.6, label='Demand: $Q^d$ = {}-{}(P)'.format(a,b))\n",
    "    ax.plot(q_grid, ps, '-',  lw=2.5, alpha=0.6, label='Supply: $Q^s$ = {}+{}(P-{})'.format(c,d,tax))\n",
    "    ax.plot(q_grid, psno, '--', lw=2.5, alpha=0.6, label='Supply w/o tax:$Q^s$ = {}-{}(P)'.format(c,d))\n",
    "    ax.scatter(m.quantity(),m.price(),  label='Equilibrium(Q={},P={})'.format(m.quantity(),m.price()))\n",
    "    ax.vlines(m.quantity(),0,m.price(),linestyle=':',lw=1.5)\n",
    "    ax.hlines(m.price(),0,m.quantity(),linestyle=':',lw=1.5)\n",
    "\n",
    "    ax.set_xlabel('Quantity', fontsize=14)\n",
    "    ax.set_xlim(0,q_max)\n",
    "    ax.set_ylim(0,p_max)\n",
    "    ax.set_ylabel('Price', fontsize=14)\n",
    "    ax.legend(loc='upper center', frameon=True, fontsize=6)\n",
    "    plt.suptitle('Demand and Supply of a Good (Linear Demand)')\n",
    "    plt.fill_between(m.quantity(),)\n",
    "    plt.show()\n",
    "\n",
    "## Declare widgets and assign values to variables\n",
    "\n",
    "a = widgets.BoundedFloatText(min=1, max=100, value= 5, description='Demand Intercept (a):')\n",
    "b = widgets.BoundedFloatText(min=0, max=50, value=1, description='Demand Slope (b):')\n",
    "c = widgets.BoundedFloatText(min=1, max=100, value=2.5, description='Supply Intercept (c):')\n",
    "d = widgets.BoundedFloatText(min=1, max=50, value=1, description='Supply Slope (d):')\n",
    "tax =  widgets.BoundedFloatText(min=1, max=10, value=0.5, description='Unit Tax:') \n",
    "\n",
    "## Layout widgets in two rows and two columns\n",
    "\n",
    "#widgets.HBox(\n",
    "#widgets.VBox([a, b])\n",
    "#widgets.HBox([c,d,tax])\n",
    "\n",
    "\n",
    "## Call plotting function interactively with widget values\n",
    "\n",
    "widgets.interactive(update_plot, a=a, b=b, c=c, d=d, tax=tax)\n",
    "\n"
   ]
  },
  {
   "cell_type": "code",
   "execution_count": 39,
   "metadata": {},
   "outputs": [
    {
     "data": {
      "application/vnd.jupyter.widget-view+json": {
       "model_id": "ff41a15115524a62a50e324f3975b810",
       "version_major": 2,
       "version_minor": 0
      },
      "text/plain": [
       "HBox(children=(Play(value=50, description='Press play', interval=500), IntSlider(value=0)))"
      ]
     },
     "metadata": {},
     "output_type": "display_data"
    }
   ],
   "source": [
    "play = widgets.Play(\n",
    "    value=50,\n",
    "    min=0,\n",
    "    max=100,\n",
    "    step=1,\n",
    "    interval=500,\n",
    "    description=\"Press play\",\n",
    "    disabled=False\n",
    ")\n",
    "slider = widgets.IntSlider()\n",
    "widgets.jslink((play, 'value'), (slider, 'value'))\n",
    "widgets.HBox([play, slider])"
   ]
  },
  {
   "cell_type": "code",
   "execution_count": null,
   "metadata": {},
   "outputs": [],
   "source": []
  }
 ],
 "metadata": {
  "kernelspec": {
   "display_name": "Python 3",
   "language": "python",
   "name": "python3"
  },
  "language_info": {
   "codemirror_mode": {
    "name": "ipython",
    "version": 3
   },
   "file_extension": ".py",
   "mimetype": "text/x-python",
   "name": "python",
   "nbconvert_exporter": "python",
   "pygments_lexer": "ipython3",
   "version": "3.8.5"
  }
 },
 "nbformat": 4,
 "nbformat_minor": 4
}
