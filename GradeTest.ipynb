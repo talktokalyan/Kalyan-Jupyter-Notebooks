{
 "cells": [
  {
   "cell_type": "code",
   "execution_count": 64,
   "metadata": {},
   "outputs": [
    {
     "name": "stdout",
     "output_type": "stream",
     "text": [
      "RangeIndex(start=0, stop=20, step=1)\n",
      "Int64Index([], dtype='int64')\n"
     ]
    }
   ],
   "source": [
    "import numpy as np\n",
    "import pandas as pd\n",
    "\n",
    "answers = pd.read_excel(r'/Users/kalyan/OneDrive-IIMV/OneDrive - IIM VIZAG/IIM Vizag/IIM V - Teaching/MacroEcon-PGPEX2020/Evaluation/PGPEx 2019 Macroeconomics Marks List.xlsx', sheet_name ='EndTermAnswers', nrows=20)\n",
    "answers = answers.T\n",
    "\n",
    "print(answers.columns)\n",
    "answerkey= pd.read_excel(r'/Users/kalyan/OneDrive-IIMV/OneDrive - IIM VIZAG/IIM Vizag/IIM V - Teaching/MacroEcon-PGPEX2020/Evaluation/PGPEx 2019 Macroeconomics Marks List.xlsx', sheet_name ='EndTermAnswers', header=1, usecols='D:R', skiprows= 22, nrows=1)\n",
    "answerkey = answerkey.T\n",
    "answerkey = answerkey.set_index(0)\n",
    "print(answerkey2.columns)\n",
    "\n",
    "df = pd.merge(answers, answerkey, how='inner',on=0,indicator='True')\n",
    "#print(df)"
   ]
  },
  {
   "cell_type": "code",
   "execution_count": null,
   "metadata": {},
   "outputs": [],
   "source": []
  }
 ],
 "metadata": {
  "kernelspec": {
   "display_name": "Python 3",
   "language": "python",
   "name": "python3"
  },
  "language_info": {
   "codemirror_mode": {
    "name": "ipython",
    "version": 3
   },
   "file_extension": ".py",
   "mimetype": "text/x-python",
   "name": "python",
   "nbconvert_exporter": "python",
   "pygments_lexer": "ipython3",
   "version": "3.7.7"
  }
 },
 "nbformat": 4,
 "nbformat_minor": 2
}
