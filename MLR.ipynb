{
 "cells": [
  {
   "cell_type": "markdown",
   "metadata": {},
   "source": [
    "# OLS ESTIMATORS UNBIASED"
   ]
  },
  {
   "cell_type": "markdown",
   "metadata": {},
   "source": [
    "%%latex\n",
    "\\textbf{Unbiasedness of OLS Estimates under Gauss-Markov Assumption:} "
   ]
  },
  {
   "cell_type": "code",
   "execution_count": 1,
   "metadata": {},
   "outputs": [
    {
     "data": {
      "image/png": "[encoded data removed]",
      "text/plain": [
       "<Figure size 432x288 with 1 Axes>"
      ]
     },
     "metadata": {
      "needs_background": "light"
     },
     "output_type": "display_data"
    }
   ],
   "source": [
    "'''## OLS ESTIMATORS (using numpy array)'''\n",
    "\n",
    "import numpy as np\n",
    "import matplotlib.pyplot as plt\n",
    "import statistics as stat # inbuilt function necessary to get mean of a list\n",
    "%matplotlib inline\n",
    "#Define Function '''Sampling Distribution that recreates a sampling distribution'''\n",
    "\n",
    "def sampling_betahat(alpha,beta,rep,ss):\n",
    "        np.random.seed(2000)\n",
    "        α = alpha # Population Reg Func Intercept Parameter\n",
    "        β = beta # Population Reg Func Slope Parameter\n",
    "        R = rep # Number of Replications of the sampling\n",
    "        N = ss # Size of Sample\n",
    "        betahat_array = np.empty(R)\n",
    "        #print('betahat_array',type(betahat_array),betahat_array.shape)\n",
    "\n",
    "        for i in range(R):\n",
    "\n",
    "                # Sample\n",
    "                X = np.array([4*np.random.randn(N)]) # necessary to create 2-D array in Python so as to transpose it\n",
    "                #print('X', type(X), X.shape, X)\n",
    "                ε = np.array([np.random.randn(N)])\n",
    "                #print('ε', type(ε), ε.shape, ε)\n",
    "                Y = α*np.array([np.ones((N), dtype=int)]) + np.dot(β,X) + ε\n",
    "                #Y = α*np.transpose(np.ones((N,), dtype=int)) + β*X + ε\n",
    "                #print('Y', type(Y), Y.shape, Y)\n",
    "                #plt.scatter(X,Y)\n",
    "                Z = np.dot(np.linalg.inv(np.dot(X,np.transpose(X))),np.dot(X,np.transpose(Y)))\n",
    "                #Z = (np.linalg.inv(np.mat(X)*np.transpose(X)))*np.mat(X)*np.transpose(Y)\n",
    "                #print('Z',type(Z), Z.shape, Z)\n",
    "                betahat = np.array(Z)[0]\n",
    "                #print('Loop Num:', i, 'betahat', type(betahat), betahat.shape, betahat)\n",
    "                betahat_array[i] = betahat # Populate consecutive beta estimates into a pre-defined numpy array\n",
    "                #betahat_array[i,:] =np.append(betahat,betahat,axis=0) \n",
    "        return betahat_array,R,ss,α,β\n",
    "\n",
    "betahat_array,R,ss,α,β = sampling_betahat(1,1.45,500,50) # Function call & Assignment: Sampling Means Array \n",
    "\n",
    "#print('betahat_array', type(betahat_array), betahat_array.shape, betahat_array)\n",
    "plt.hist(betahat_array,bins=10,color='black',alpha=0.5, density=1)\n",
    "betahat_mean = np.mean(betahat_array) # Mean of Sample Means\n",
    "betahat_std = np.std(betahat_array) # Analytical Standard error of Sampling Distribution\n",
    "plt.axvline(betahat_mean,color='k',linestyle='dashed',linewidth=1)\n",
    "boxtext = '\\n'.join((\n",
    "    r'Population $\\beta=%3.3f$' % (β, ),\n",
    "    r'Num. Replications(R)=%i' % (R, ),\n",
    "    r'Sample-Size(N)=%i' % (ss, ),\n",
    "    r'Mean of $\\hat{\\beta}=%3.3f$' % (betahat_mean, ),\n",
    "    r'S.E of $\\hat{\\beta}=%.3f$' % (betahat_std, ) \n",
    "    ))\n",
    "min_xlim, max_xlim = plt.xlim()\n",
    "min_ylim, max_ylim = plt.ylim()\n",
    "props = dict(boxstyle='round', facecolor='blue', alpha=0.5)\n",
    "plt.text(min_xlim+0.02,max_ylim*1.55, boxtext, fontsize=12,verticalalignment='top',bbox=props)\n",
    "plt.title('Sampling Distribution of β̂')\n",
    "plt.show()"
   ]
  },
  {
   "cell_type": "code",
   "execution_count": null,
   "metadata": {},
   "outputs": [],
   "source": []
  }
 ],
 "metadata": {
  "kernelspec": {
   "display_name": "Python 3",
   "language": "python",
   "name": "python3"
  },
  "language_info": {
   "codemirror_mode": {
    "name": "ipython",
    "version": 3
   },
   "file_extension": ".py",
   "mimetype": "text/x-python",
   "name": "python",
   "nbconvert_exporter": "python",
   "pygments_lexer": "ipython3",
   "version": "3.8.5"
  }
 },
 "nbformat": 4,
 "nbformat_minor": 4
}
