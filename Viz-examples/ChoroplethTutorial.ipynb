{
 "cells": [
  {
   "cell_type": "markdown",
   "metadata": {},
   "source": [
    "# Plotting Choropleth Maps using Python\n",
    "---\n",
    "A choropleth map uses colour coding to indicate quantitative values across geographical areas on a map.\n",
    "\n",
    "![](https://datavizcatalogue.com/methods/images/anatomy/choropleth.png)\n",
    "\n",
    ">A choropleth map is a type of thematic map in which areas are shaded or patterned in proportion to a statistical variable that represents an aggregate summary of a geographic characteristic within each area, such as population density or per-capita income.\n",
    "\n",
    "## Terminologies\n",
    "---\n",
    "\n",
    "## [Plotly](https://plotly.com/)\n",
    "Plotly is a technical computing company that develops online data analytics and visualization tools. Plotly provides online graphing, analytics, and statistics tools for individuals and collaboration, as well as scientific graphing libraries for Python, R, MATLAB, Perl, Julia, Arduino, and REST.\n",
    "\n",
    "### [plotly.py](https://plotly.com/python/)\n",
    "An interactive, open-source, and browser-based graphing library for Python.\n",
    "\n",
    "```bash\n",
    "$ pip install plotly\n",
    "```\n",
    "\n",
    ">Plotly Express is a new high-level Python visualization library: it's a wrapper for Plotly.py that exposes a simple syntax for complex charts.\n",
    "\n",
    "### [GeoJSON](https://geojson.org/)\n",
    "An open standard format designed for representing simple geographical features, along with their non-spatial attributes.\n",
    "\n",
    "### [Mapbox](https://mapbox.com/)\n",
    "An open source mapping platform for custom designed maps."
   ]
  },
  {
   "cell_type": "code",
   "execution_count": 1,
   "metadata": {},
   "outputs": [],
   "source": [
    "import json\n",
    "import numpy as np\n",
    "import pandas as pd\n",
    "import plotly.express as px"
   ]
  },
  {
   "cell_type": "code",
   "execution_count": 2,
   "metadata": {},
   "outputs": [],
   "source": [
    "import plotly.io as pio\n",
    "pio.renderers.default = 'browser'"
   ]
  },
  {
   "cell_type": "code",
   "execution_count": 29,
   "metadata": {},
   "outputs": [
    {
     "data": {
      "text/plain": [
       "dict_keys(['cartodb_id', 'state_code', 'st_nm'])"
      ]
     },
     "execution_count": 29,
     "metadata": {},
     "output_type": "execute_result"
    }
   ],
   "source": [
    "india_states = json.load(open(\"../data/geom_data/states_india.geojson\", \"r\"))\n",
    "india_states['features'][0]['properties'].keys()"
   ]
  },
  {
   "cell_type": "code",
   "execution_count": 42,
   "metadata": {},
   "outputs": [
    {
     "name": "stdout",
     "output_type": "stream",
     "text": [
      "{'Telangana': 0, 'Andaman & Nicobar Island': 35, 'Andhra Pradesh': 28, 'Arunanchal Pradesh': 12, 'Assam': 18, 'Bihar': 10, 'Chhattisgarh': 22, 'Daman & Diu': 25, 'Goa': 30, 'Gujarat': 24, 'Haryana': 6, 'Himachal Pradesh': 2, 'Jammu & Kashmir': 1, 'Jharkhand': 20, 'Karnataka': 29, 'Kerala': 32, 'Lakshadweep': 31, 'Madhya Pradesh': 23, 'Maharashtra': 27, 'Manipur': 14, 'Chandigarh': 4, 'Puducherry': 34, 'Punjab': 3, 'Rajasthan': 8, 'Sikkim': 11, 'Tamil Nadu': 33, 'Tripura': 16, 'Uttar Pradesh': 9, 'Uttarakhand': 5, 'West Bengal': 19, 'Odisha': 21, 'Dadara & Nagar Havelli': 26, 'Meghalaya': 17, 'Mizoram': 15, 'Nagaland': 13, 'NCT of Delhi': 7}\n"
     ]
    }
   ],
   "source": [
    "state_id_map = {}\n",
    "for feature in india_states[\"features\"]:\n",
    "    feature[\"id\"] = feature[\"properties\"][\"state_code\"]\n",
    "    state_id_map[feature[\"properties\"][\"st_nm\"]] = feature[\"id\"]\n",
    "    \n",
    "print(state_id_map)\n"
   ]
  },
  {
   "cell_type": "code",
   "execution_count": 8,
   "metadata": {},
   "outputs": [],
   "source": [
    "df = pd.read_csv(\"../data/geom_data/india_census.csv\")\n",
    "df[\"Density\"] = df[\"Density[a]\"].apply(lambda x: int(x.split(\"/\")[0].replace(\",\", \"\")))\n",
    "df[\"id\"] = df[\"State or union territory\"].apply(lambda x: state_id_map[x])"
   ]
  },
  {
   "cell_type": "code",
   "execution_count": 9,
   "metadata": {},
   "outputs": [
    {
     "data": {
      "text/html": [
       "<div>\n",
       "<style scoped>\n",
       "    .dataframe tbody tr th:only-of-type {\n",
       "        vertical-align: middle;\n",
       "    }\n",
       "\n",
       "    .dataframe tbody tr th {\n",
       "        vertical-align: top;\n",
       "    }\n",
       "\n",
       "    .dataframe thead th {\n",
       "        text-align: right;\n",
       "    }\n",
       "</style>\n",
       "<table border=\"1\" class=\"dataframe\">\n",
       "  <thead>\n",
       "    <tr style=\"text-align: right;\">\n",
       "      <th></th>\n",
       "      <th>Rank</th>\n",
       "      <th>State or union territory</th>\n",
       "      <th>Population</th>\n",
       "      <th>Population (%)</th>\n",
       "      <th>Decadal growth(2001–2011)</th>\n",
       "      <th>Rural population</th>\n",
       "      <th>Percent rural</th>\n",
       "      <th>Urban population</th>\n",
       "      <th>Percent urban</th>\n",
       "      <th>Area[16]</th>\n",
       "      <th>Density[a]</th>\n",
       "      <th>Sex ratio</th>\n",
       "      <th>Density</th>\n",
       "      <th>id</th>\n",
       "    </tr>\n",
       "  </thead>\n",
       "  <tbody>\n",
       "    <tr>\n",
       "      <th>0</th>\n",
       "      <td>1.0</td>\n",
       "      <td>Uttar Pradesh</td>\n",
       "      <td>199812341</td>\n",
       "      <td>NaN</td>\n",
       "      <td>20.20%</td>\n",
       "      <td>155317278</td>\n",
       "      <td>NaN</td>\n",
       "      <td>44495063</td>\n",
       "      <td>NaN</td>\n",
       "      <td>240,928 km2 (93,023 sq mi)</td>\n",
       "      <td>828/km2 (2,140/sq mi)</td>\n",
       "      <td>912</td>\n",
       "      <td>828</td>\n",
       "      <td>9</td>\n",
       "    </tr>\n",
       "    <tr>\n",
       "      <th>1</th>\n",
       "      <td>2.0</td>\n",
       "      <td>Maharashtra</td>\n",
       "      <td>112374333</td>\n",
       "      <td>NaN</td>\n",
       "      <td>20.00%</td>\n",
       "      <td>61556074</td>\n",
       "      <td>NaN</td>\n",
       "      <td>50818259</td>\n",
       "      <td>NaN</td>\n",
       "      <td>307,713 km2 (118,809 sq mi)</td>\n",
       "      <td>365/km2 (950/sq mi)</td>\n",
       "      <td>929</td>\n",
       "      <td>365</td>\n",
       "      <td>27</td>\n",
       "    </tr>\n",
       "    <tr>\n",
       "      <th>2</th>\n",
       "      <td>3.0</td>\n",
       "      <td>Bihar</td>\n",
       "      <td>104099452</td>\n",
       "      <td>NaN</td>\n",
       "      <td>25.40%</td>\n",
       "      <td>92341436</td>\n",
       "      <td>NaN</td>\n",
       "      <td>11758016</td>\n",
       "      <td>NaN</td>\n",
       "      <td>94,163 km2 (36,357 sq mi)</td>\n",
       "      <td>1,102/km2 (2,850/sq mi)</td>\n",
       "      <td>918</td>\n",
       "      <td>1102</td>\n",
       "      <td>10</td>\n",
       "    </tr>\n",
       "    <tr>\n",
       "      <th>3</th>\n",
       "      <td>4.0</td>\n",
       "      <td>West Bengal</td>\n",
       "      <td>91276115</td>\n",
       "      <td>NaN</td>\n",
       "      <td>13.80%</td>\n",
       "      <td>62183113</td>\n",
       "      <td>NaN</td>\n",
       "      <td>29093002</td>\n",
       "      <td>NaN</td>\n",
       "      <td>88,752 km2 (34,267 sq mi)</td>\n",
       "      <td>1,029/km2 (2,670/sq mi)</td>\n",
       "      <td>953</td>\n",
       "      <td>1029</td>\n",
       "      <td>19</td>\n",
       "    </tr>\n",
       "    <tr>\n",
       "      <th>4</th>\n",
       "      <td>5.0</td>\n",
       "      <td>Madhya Pradesh</td>\n",
       "      <td>72626809</td>\n",
       "      <td>NaN</td>\n",
       "      <td>16.30%</td>\n",
       "      <td>52557404</td>\n",
       "      <td>NaN</td>\n",
       "      <td>20069405</td>\n",
       "      <td>NaN</td>\n",
       "      <td>308,245 km2 (119,014 sq mi)</td>\n",
       "      <td>236/km2 (610/sq mi)</td>\n",
       "      <td>931</td>\n",
       "      <td>236</td>\n",
       "      <td>23</td>\n",
       "    </tr>\n",
       "  </tbody>\n",
       "</table>\n",
       "</div>"
      ],
      "text/plain": [
       "   Rank State or union territory  Population  Population (%)  \\\n",
       "0   1.0            Uttar Pradesh   199812341             NaN   \n",
       "1   2.0              Maharashtra   112374333             NaN   \n",
       "2   3.0                    Bihar   104099452             NaN   \n",
       "3   4.0              West Bengal    91276115             NaN   \n",
       "4   5.0           Madhya Pradesh    72626809             NaN   \n",
       "\n",
       "  Decadal growth(2001–2011)  Rural population  Percent rural  \\\n",
       "0                    20.20%         155317278            NaN   \n",
       "1                    20.00%          61556074            NaN   \n",
       "2                    25.40%          92341436            NaN   \n",
       "3                    13.80%          62183113            NaN   \n",
       "4                    16.30%          52557404            NaN   \n",
       "\n",
       "   Urban population  Percent urban                     Area[16]  \\\n",
       "0          44495063            NaN   240,928 km2 (93,023 sq mi)   \n",
       "1          50818259            NaN  307,713 km2 (118,809 sq mi)   \n",
       "2          11758016            NaN    94,163 km2 (36,357 sq mi)   \n",
       "3          29093002            NaN    88,752 km2 (34,267 sq mi)   \n",
       "4          20069405            NaN  308,245 km2 (119,014 sq mi)   \n",
       "\n",
       "                Density[a]  Sex ratio  Density  id  \n",
       "0    828/km2 (2,140/sq mi)        912      828   9  \n",
       "1      365/km2 (950/sq mi)        929      365  27  \n",
       "2  1,102/km2 (2,850/sq mi)        918     1102  10  \n",
       "3  1,029/km2 (2,670/sq mi)        953     1029  19  \n",
       "4      236/km2 (610/sq mi)        931      236  23  "
      ]
     },
     "execution_count": 9,
     "metadata": {},
     "output_type": "execute_result"
    }
   ],
   "source": [
    "df.head()"
   ]
  },
  {
   "cell_type": "code",
   "execution_count": 10,
   "metadata": {},
   "outputs": [
    {
     "data": {
      "text/plain": [
       "<AxesSubplot:>"
      ]
     },
     "execution_count": 10,
     "metadata": {},
     "output_type": "execute_result"
    },
    {
     "data": {
      "image/png": "[encoded data removed]",
      "text/plain": [
       "<Figure size 432x288 with 1 Axes>"
      ]
     },
     "metadata": {
      "needs_background": "light"
     },
     "output_type": "display_data"
    }
   ],
   "source": [
    "df[\"Density\"].plot()"
   ]
  },
  {
   "cell_type": "code",
   "execution_count": 43,
   "metadata": {},
   "outputs": [
    {
     "data": {
      "text/plain": [
       "<AxesSubplot:>"
      ]
     },
     "execution_count": 43,
     "metadata": {},
     "output_type": "execute_result"
    },
    {
     "data": {
      "image/png": "[encoded data removed]",
      "text/plain": [
       "<Figure size 432x288 with 1 Axes>"
      ]
     },
     "metadata": {
      "needs_background": "light"
     },
     "output_type": "display_data"
    }
   ],
   "source": [
    "df[\"DensityScale\"] = np.log10(df[\"Density\"])\n",
    "df[\"DensityScale\"].plot()"
   ]
  },
  {
   "cell_type": "code",
   "execution_count": 44,
   "metadata": {},
   "outputs": [],
   "source": [
    "fig = px.choropleth(\n",
    "    df,\n",
    "    locations=\"id\",\n",
    "    geojson=india_states,\n",
    "    color=\"DensityScale\",\n",
    "    hover_name=\"State or union territory\",\n",
    "    hover_data=[\"Density\"],\n",
    "    title=\"India Population Density\",\n",
    ")\n",
    "fig.update_geos(fitbounds=\"locations\", visible=False)\n",
    "fig.show()"
   ]
  },
  {
   "cell_type": "markdown",
   "metadata": {},
   "source": [
    "![](https://i.imgur.com/WZWtu67.png)"
   ]
  },
  {
   "cell_type": "code",
   "execution_count": 13,
   "metadata": {},
   "outputs": [],
   "source": [
    "fig = px.choropleth_mapbox(\n",
    "    df,\n",
    "    locations=\"id\",\n",
    "    geojson=india_states,\n",
    "    color=\"DensityScale\",\n",
    "    hover_name=\"State or union territory\",\n",
    "    hover_data=[\"Density\"],\n",
    "    title=\"India Population Density\",\n",
    "    mapbox_style=\"carto-positron\",\n",
    "    center={\"lat\": 24, \"lon\": 78},\n",
    "    zoom=3,\n",
    "    opacity=0.5,\n",
    ")\n",
    "fig.show()"
   ]
  },
  {
   "cell_type": "markdown",
   "metadata": {},
   "source": [
    "![](https://i.imgur.com/az9x32O.png)"
   ]
  },
  {
   "cell_type": "code",
   "execution_count": null,
   "metadata": {},
   "outputs": [],
   "source": []
  },
  {
   "cell_type": "code",
   "execution_count": 14,
   "metadata": {},
   "outputs": [],
   "source": [
    "df[\"SexRatioScale\"] = df[\"Sex ratio\"] - 1000"
   ]
  },
  {
   "cell_type": "code",
   "execution_count": 15,
   "metadata": {},
   "outputs": [],
   "source": [
    "fig = px.choropleth(\n",
    "    df,\n",
    "    locations=\"id\",\n",
    "    geojson=india_states,\n",
    "    color=\"SexRatioScale\",\n",
    "    hover_name=\"State or union territory\",\n",
    "    hover_data=[\"Sex ratio\"],\n",
    "    title=\"India Sex Ratio\",\n",
    "    color_continuous_scale=px.colors.diverging.BrBG,\n",
    "    color_continuous_midpoint=0,\n",
    ")\n",
    "fig.update_geos(fitbounds=\"locations\", visible=False)\n",
    "fig.show()"
   ]
  },
  {
   "cell_type": "markdown",
   "metadata": {},
   "source": [
    "![](https://i.imgur.com/0ZIBaR6.png)"
   ]
  },
  {
   "cell_type": "code",
   "execution_count": null,
   "metadata": {},
   "outputs": [],
   "source": []
  },
  {
   "cell_type": "markdown",
   "metadata": {},
   "source": [
    "## References\n",
    "\n",
    "- https://en.wikipedia.org/wiki/List_of_states_and_union_territories_of_India_by_population\n",
    "\n",
    "- https://un-mapped.carto.com/tables/states_india/public/map\n",
    "\n",
    "- https://plotly.com/python/choropleth-maps/\n",
    "\n",
    "- https://plotly.com/python/colorscales/\n",
    "\n",
    "- https://www.mapbox.com/\n",
    "\n",
    "- https://plotly.com/python/mapbox-county-choropleth/\n",
    "\n",
    "- https://plotly.com/python/mapbox-layers/"
   ]
  }
 ],
 "metadata": {
  "kernelspec": {
   "display_name": "Python 3",
   "language": "python",
   "name": "python3"
  },
  "language_info": {
   "codemirror_mode": {
    "name": "ipython",
    "version": 3
   },
   "file_extension": ".py",
   "mimetype": "text/x-python",
   "name": "python",
   "nbconvert_exporter": "python",
   "pygments_lexer": "ipython3",
   "version": "3.8.5"
  }
 },
 "nbformat": 4,
 "nbformat_minor": 2
}
