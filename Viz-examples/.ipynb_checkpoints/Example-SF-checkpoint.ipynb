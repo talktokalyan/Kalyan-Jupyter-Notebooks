{
 "cells": [
  {
   "cell_type": "code",
   "execution_count": null,
   "metadata": {},
   "outputs": [],
   "source": [
    "# Inspired from: https://github.com/Thiagobc23/plotly-sankey/blob/master/sankey.ipynb\n",
    "\n",
    "import pandas as pd\n",
    "import plotly.graph_objects as go\n",
    "\n",
    "df = pd.read_excel('/Users/kalyan/Library/CloudStorage/OneDrive-IIMVIZAG/IIM Vizag/IIM V - Teaching/Macroeconomics/OLD-PPT-Macro-Kalyan/Lecture-Notes/India-NationalAcc.xlsx'\n",
    "                  , sheet_name='nia-india')\n",
    "#print(df)\n",
    "\n",
    "# Define Link i.e. source-target-value\n",
    "link = dict(source = [2, 3, 4, \n",
    "                      0, 1, 5, 6,\n",
    "                      7, 7, \n",
    "                      9, 9, ],\n",
    "            target = [5, 5, 5,\n",
    "                      7, 7, 7, 7,\n",
    "                      8, 9, \n",
    "                      10, 11,  ],\n",
    "            value = [4730416, 158385, 164527,\n",
    "                     8321701, 1541742, 5304588, 2826639,\n",
    "                     3317165, 14677504, \n",
    "                    141636, 14535868, ],\n",
    "           color = ['#DEE3E9', '#DEE3E9', '#DEE3E9',\n",
    "                   '#EBBAB5', '#FEF3C7', '#A2E3D7', '#CBB4D5',\n",
    "                   '#DEF3C7', '#AEF3C7',\n",
    "                   '#CBB4D5', '#CBB4D5', ])\n",
    "\n",
    "#link = dict( source = df['source'], target = df['target'], value = df['flow_value'])\n",
    "           \n",
    "# Define nodes\n",
    "node = dict(\n",
    "    pad = 10,\n",
    "    thickness = 5,\n",
    "    line = dict(color = \"black\", width = 0.5),\n",
    "#     x = df['node_x'],\n",
    "#     y = df['node_y'],\n",
    "    label =  df['flow_label'],\n",
    "    color =  df['node_color'],) \n",
    "    \n",
    "    \n",
    "fig = go.Figure(go.Sankey(\n",
    "    arrangement = \"freeform\", # other formats include perpendicular, freeform, fixed, snap\n",
    "    node = node, link = link))\n",
    "\n",
    "fig.update_layout(\n",
    "    hovermode = 'x',\n",
    "    title=\"India National Income (Final Expenditure Flows - Constant 2011-12 prices Unit: Rupee Crores)\",\n",
    "    font=dict(size = 12, color = 'white'),\n",
    "    paper_bgcolor= 'grey',)\n",
    "\n",
    "fig.show()\n"
   ]
  }
 ],
 "metadata": {
  "kernelspec": {
   "display_name": "Python 3",
   "language": "python",
   "name": "python3"
  },
  "language_info": {
   "codemirror_mode": {
    "name": "ipython",
    "version": 3
   },
   "file_extension": ".py",
   "mimetype": "text/x-python",
   "name": "python",
   "nbconvert_exporter": "python",
   "pygments_lexer": "ipython3",
   "version": "3.8.5"
  }
 },
 "nbformat": 4,
 "nbformat_minor": 4
}
