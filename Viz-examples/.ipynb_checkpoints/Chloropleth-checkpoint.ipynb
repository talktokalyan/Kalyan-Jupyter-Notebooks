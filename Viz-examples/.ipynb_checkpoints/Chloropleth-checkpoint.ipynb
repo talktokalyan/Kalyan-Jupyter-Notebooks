{
 "cells": [
  {
   "cell_type": "markdown",
   "metadata": {},
   "source": [
    "## Chloropleth example using Capex Data\n",
    "1. PreRequisites:\n",
    "    1. Download Outstanding Capex Investments from IIMV Library -> CMIE Capex -> Outstanding aggregates\n",
    "    2. Keep GeoJSON file in folder downloaded from https://github.com/nikhilkumarsingh/choropleth-python-tutorial/tree/master\n",
    "    3. \n"
   ]
  },
  {
   "cell_type": "code",
   "execution_count": 1,
   "metadata": {},
   "outputs": [
    {
     "ename": "FileNotFoundError",
     "evalue": "[Errno 2] No such file or directory: './states_india.geojson'",
     "output_type": "error",
     "traceback": [
      "\u001b[0;31m---------------------------------------------------------------------------\u001b[0m",
      "\u001b[0;31mFileNotFoundError\u001b[0m                         Traceback (most recent call last)",
      "\u001b[0;32m<ipython-input-1-bd4204b91b43>\u001b[0m in \u001b[0;36m<module>\u001b[0;34m\u001b[0m\n\u001b[1;32m      8\u001b[0m \u001b[0;31m#pio.renderers.default = 'browser'\u001b[0m\u001b[0;34m\u001b[0m\u001b[0;34m\u001b[0m\u001b[0;34m\u001b[0m\u001b[0m\n\u001b[1;32m      9\u001b[0m \u001b[0;34m\u001b[0m\u001b[0m\n\u001b[0;32m---> 10\u001b[0;31m \u001b[0mindia_states\u001b[0m \u001b[0;34m=\u001b[0m \u001b[0mjson\u001b[0m\u001b[0;34m.\u001b[0m\u001b[0mload\u001b[0m\u001b[0;34m(\u001b[0m\u001b[0mopen\u001b[0m\u001b[0;34m(\u001b[0m\u001b[0;34m\"./states_india.geojson\"\u001b[0m\u001b[0;34m,\u001b[0m \u001b[0;34m\"r\"\u001b[0m\u001b[0;34m)\u001b[0m\u001b[0;34m)\u001b[0m\u001b[0;34m\u001b[0m\u001b[0;34m\u001b[0m\u001b[0m\n\u001b[0m\u001b[1;32m     11\u001b[0m \u001b[0mindia_states\u001b[0m\u001b[0;34m[\u001b[0m\u001b[0;34m'features'\u001b[0m\u001b[0;34m]\u001b[0m\u001b[0;34m[\u001b[0m\u001b[0;36m0\u001b[0m\u001b[0;34m]\u001b[0m\u001b[0;34m[\u001b[0m\u001b[0;34m'properties'\u001b[0m\u001b[0;34m]\u001b[0m\u001b[0;34m.\u001b[0m\u001b[0mkeys\u001b[0m\u001b[0;34m(\u001b[0m\u001b[0;34m)\u001b[0m\u001b[0;34m\u001b[0m\u001b[0;34m\u001b[0m\u001b[0m\n\u001b[1;32m     12\u001b[0m \u001b[0mstate_id_map\u001b[0m \u001b[0;34m=\u001b[0m \u001b[0;34m{\u001b[0m\u001b[0;34m}\u001b[0m\u001b[0;34m\u001b[0m\u001b[0;34m\u001b[0m\u001b[0m\n",
      "\u001b[0;31mFileNotFoundError\u001b[0m: [Errno 2] No such file or directory: './states_india.geojson'"
     ]
    }
   ],
   "source": [
    "## https://github.com/nikhilkumarsingh/choropleth-python-tutorial/tree/master\n",
    "    \n",
    "import json\n",
    "import numpy as np\n",
    "import pandas as pd\n",
    "import plotly.express as px\n",
    "import plotly.io as pio\n",
    "#pio.renderers.default = 'browser'\n",
    "\n",
    "india_states = json.load(open(\"./states_india.geojson\", \"r\"))\n",
    "india_states['features'][0]['properties'].keys()\n",
    "state_id_map = {}\n",
    "for feature in india_states[\"features\"]:\n",
    "    feature[\"id\"] = feature[\"properties\"][\"state_code\"]\n",
    "    state_id_map[feature[\"properties\"][\"st_nm\"]] = feature[\"id\"]\n",
    "    \n",
    "df = pd.read_excel(\"./india_census.csv\",skiprows=3)\n",
    "# df[\"Density\"] = df[\"Density[a]\"].apply(lambda x: int(x.split(\"/\")[0].replace(\",\", \"\")))\n",
    "# df[\"id\"] = df[\"State or union territory\"].apply(lambda x: state_id_map[x])\n",
    "# df[\"DensityScale\"] = np.log10(df[\"Density\"])\n",
    "\n",
    "df.head()\n",
    "# fig = px.choropleth(\n",
    "#     df,\n",
    "#     locations=\"id\",\n",
    "#     geojson=india_states,\n",
    "#     color=\"DensityScale\",\n",
    "#     hover_name=\"State or union territory\",\n",
    "#     hover_data=[\"Density\"],\n",
    "#     title=\"India Population Density\",\n",
    "# )\n",
    "# fig.update_geos(fitbounds=\"locations\", visible=False)\n",
    "# fig.show()\n",
    "\n",
    "# fig = px.choropleth_mapbox(\n",
    "#     df,\n",
    "#     locations=\"id\",\n",
    "#     geojson=india_states,\n",
    "#     color=\"DensityScale\",\n",
    "#     hover_name=\"State or union territory\",\n",
    "#     hover_data=[\"Density\"],\n",
    "#     title=\"India Population Density\",\n",
    "#     mapbox_style=\"carto-positron\",\n",
    "#     center={\"lat\": 24, \"lon\": 78},\n",
    "#     zoom=3,\n",
    "#     opacity=0.5,\n",
    "# )\n",
    "# fig.show()\n",
    "\n",
    "\n",
    "# df[\"SexRatioScale\"] = df[\"Sex ratio\"] - 1000\n",
    "# fig = px.choropleth(\n",
    "#     df,\n",
    "#     locations=\"id\",\n",
    "#     geojson=india_states,\n",
    "#     color=\"SexRatioScale\",\n",
    "#     hover_name=\"State or union territory\",\n",
    "#     hover_data=[\"Sex ratio\"],\n",
    "#     title=\"India Sex Ratio\",\n",
    "#     color_continuous_scale=px.colors.diverging.BrBG,\n",
    "#     color_continuous_midpoint=0,\n",
    "# )\n",
    "# fig.update_geos(fitbounds=\"locations\", visible=False)\n",
    "# fig.show()"
   ]
  },
  {
   "cell_type": "code",
   "execution_count": null,
   "metadata": {},
   "outputs": [],
   "source": []
  }
 ],
 "metadata": {
  "kernelspec": {
   "display_name": "Python 3",
   "language": "python",
   "name": "python3"
  },
  "language_info": {
   "codemirror_mode": {
    "name": "ipython",
    "version": 3
   },
   "file_extension": ".py",
   "mimetype": "text/x-python",
   "name": "python",
   "nbconvert_exporter": "python",
   "pygments_lexer": "ipython3",
   "version": "3.8.5"
  }
 },
 "nbformat": 4,
 "nbformat_minor": 4
}
