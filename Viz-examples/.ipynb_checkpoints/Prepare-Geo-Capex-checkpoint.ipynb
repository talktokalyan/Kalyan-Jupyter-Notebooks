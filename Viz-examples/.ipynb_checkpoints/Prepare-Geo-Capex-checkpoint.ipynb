{
 "cells": [
  {
   "cell_type": "markdown",
   "id": "b08469d9",
   "metadata": {},
   "source": [
    "# About this notebook\n",
    "1. This notebook prepares GeoJSON files to match Trivedi Centre for Political Data (TCD) IDs. **To display Election Data and Capex in a Choropleth** \n",
    "2. Load GeoJSON, and Save JSON --> Excel\n",
    "3. In Excel, manually add Unique identifiers for States, Districts, Parliamentary Constituency PC, Assembly AC \n",
    "4. Reload Excel and convert to JSON\n",
    "\n"
   ]
  },
  {
   "cell_type": "code",
   "execution_count": 9,
   "id": "8762d50a",
   "metadata": {},
   "outputs": [],
   "source": [
    "# Project folder\n",
    "proj_folder = \"/Users/kalyan/Library/CloudStorage/OneDrive-Personal/Kalyan/KK-Python/Kalyan-Jupyter-Notebooks/Capex/\"\n",
    "\n",
    "#State files files and folders \n",
    "st_file_name = \"shape-files/cleaned/india_state-V2.json\"\n",
    "\n",
    "# District files and folders \n",
    "dist_file_name = \"shape-files/cleaned/india_2011_district-V2.json\"\n",
    "\n",
    "# Parliament Constituency files and folders \n",
    "pc_file_name = \"shape-files/cleaned/india_2014_parliament-V2.json\"\n",
    "\n",
    "# Assembly Constituency files and folders \n",
    "ac_file_name = \"shape-files/cleaned/india_2012-17_assembly-V2.json\"\n",
    "\n",
    "\n",
    "shapefiles_raw = \"/Users/kalyan/Library/CloudStorage/OneDrive-Personal/Kalyan/KK-Python/Kalyan-Jupyter-Notebooks/Capex/shape-files/raw\"\n",
    "\n"
   ]
  },
  {
   "cell_type": "markdown",
   "id": "439b000b",
   "metadata": {},
   "source": [
    "## Load JSON and Save in Excel: Run Once"
   ]
  },
  {
   "cell_type": "code",
   "execution_count": 10,
   "id": "fe5a61f6",
   "metadata": {},
   "outputs": [],
   "source": [
    "import geopandas as gpd\n",
    "import pandas as pd\n",
    "import matplotlib.pyplot as plt\n",
    "import os\n",
    "\n",
    "# File Name - GeoJSON file\n",
    "st_file_path= os.path.join(proj_folder, st_file_name)\n",
    "dist_file_path= os.path.join(proj_folder, dist_file_name)\n",
    "pc_file_path= os.path.join(proj_folder, pc_file_name)\n",
    "ac_file_path= os.path.join(proj_folder, ac_file_name)\n",
    "\n",
    "\n",
    "# Read the GeoJSON file into a GeoDataFrame\n",
    "st_gdf = gpd.read_file(st_file_path)\n",
    "dist_gdf = gpd.read_file(dist_file_path)\n",
    "pc_gdf = gpd.read_file(pc_file_path)\n",
    "ac_gdf = gpd.read_file(ac_file_path)\n",
    "\n",
    "\n",
    "# Save the unique values to an Excel file\n",
    "\n",
    "st_geo_file = 'st_geo.xlsx'\n",
    "st_gdf.to_excel(os.path.join(shapefiles_raw, st_geo_file), index=False)\n",
    "dist_geo_file = 'dist_geo.xlsx'\n",
    "dist_gdf.to_excel(os.path.join(shapefiles_raw, dist_geo_file), index=False)\n",
    "pc_geo_file = 'pc_geo.xlsx'\n",
    "pc_gdf.to_excel(os.path.join(shapefiles_raw, pc_geo_file), index=False)\n",
    "ac_geo_file = 'ac_geo.xlsx'\n",
    "ac_gdf.to_excel(os.path.join(shapefiles_raw, ac_geo_file), index=False)\n",
    "\n",
    "print('FINITO: JSON ---> Excel')"
   ]
  },
  {
   "cell_type": "markdown",
   "id": "2ca15111",
   "metadata": {},
   "source": [
    "DO MANUAL EDIT TO CREATE Unique Identifiers"
   ]
  },
  {
   "cell_type": "markdown",
   "id": "ef3e6520",
   "metadata": {},
   "source": [
    "## Load Excel. Convert Excel --> New JSON"
   ]
  },
  {
   "cell_type": "code",
   "execution_count": null,
   "id": "11f412bd",
   "metadata": {},
   "outputs": [],
   "source": [
    "import geopandas as gpd\n",
    "import pandas as pd\n",
    "import matplotlib.pyplot as plt\n",
    "import os\n",
    "\n",
    "# File Name - GeoJSON file\n",
    "st_file_path= os.path.join(proj_folder, st_file_name)\n",
    "dist_file_path= os.path.join(proj_folder, dist_file_name)\n",
    "pc_file_path= os.path.join(proj_folder, pc_file_name)\n",
    "ac_file_path= os.path.join(proj_folder, ac_file_name)\n",
    "\n",
    "\n",
    "# Read the GeoJSON file into a GeoDataFrame\n",
    "st_gdf = gpd.read_file(st_file_path)\n",
    "dist_gdf = gpd.read_file(dist_file_path)\n",
    "pc_gdf = gpd.read_file(pc_file_path)\n",
    "ac_gdf = gpd.read_file(ac_file_path)\n",
    "\n",
    "\n",
    "# Save the unique values to an Excel file\n",
    "\n",
    "st_geo_file = 'st_geo.xlsx'\n",
    "st_gdf.to_excel(os.path.join(shapefiles_raw, st_geo_file), index=False)\n",
    "dist_geo_file = 'dist_geo.xlsx'\n",
    "dist_gdf.to_excel(os.path.join(shapefiles_raw, dist_geo_file), index=False)\n",
    "pc_geo_file = 'pc_geo.xlsx'\n",
    "pc_gdf.to_excel(os.path.join(shapefiles_raw, pc_geo_file), index=False)\n",
    "ac_geo_file = 'ac_geo.xlsx'\n",
    "ac_gdf.to_excel(os.path.join(shapefiles_raw, ac_geo_file), index=False)\n",
    "\n",
    "print('FINITO: JSON ---> Excel')"
   ]
  },
  {
   "cell_type": "code",
   "execution_count": null,
   "id": "3514fe82",
   "metadata": {},
   "outputs": [],
   "source": [
    "import pandas\n",
    "\n",
    "excel_data_fragment = pandas.read_excel('excel_form.xlsx', sheet_name='Sheet')\n",
    "\n",
    "json_str = excel_data_fragment.to_json()\n",
    "\n",
    "print('Excel Sheet to JSON:\\n', json_str)"
   ]
  }
 ],
 "metadata": {
  "kernelspec": {
   "display_name": "Python 3 (ipykernel)",
   "language": "python",
   "name": "python3"
  },
  "language_info": {
   "codemirror_mode": {
    "name": "ipython",
    "version": 3
   },
   "file_extension": ".py",
   "mimetype": "text/x-python",
   "name": "python",
   "nbconvert_exporter": "python",
   "pygments_lexer": "ipython3",
   "version": "3.11.9"
  }
 },
 "nbformat": 4,
 "nbformat_minor": 5
}
