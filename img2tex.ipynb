{
 "cells": [
  {
   "cell_type": "code",
   "execution_count": 1,
   "id": "cd808fef",
   "metadata": {},
   "outputs": [
    {
     "name": "stderr",
     "output_type": "stream",
     "text": [
      "/Library/Frameworks/Python.framework/Versions/3.11/lib/python3.11/site-packages/tqdm/auto.py:21: TqdmWarning: IProgress not found. Please update jupyter and ipywidgets. See https://ipywidgets.readthedocs.io/en/stable/user_install.html\n",
      "  from .autonotebook import tqdm as notebook_tqdm\n"
     ]
    },
    {
     "name": "stdout",
     "output_type": "stream",
     "text": [
      "\\begin{array}{c}{{\\left(\\begin{array}{c c c}{{+}}&{{\\left(\\begin{array}{{{}}}{{{}}}&{{{}}}\\end{array}{{{}}}\\end{array}\\right)}^{2}}}\\\\ {{}}&{{}}&{{{\\left(\\begin{array}{{{}}}{{{}}}\\end{array}\\right)}}\\end{array}\n"
     ]
    }
   ],
   "source": [
    "from PIL import Image\n",
    "from pix2tex.cli import LatexOCR\n",
    "\n",
    "img = Image.open('/Users/kalyan/Desktop/Screenshot 2023-07-27 at 11.17.17 PM.png')\n",
    "model = LatexOCR()\n",
    "print(model(img))"
   ]
  },
  {
   "cell_type": "code",
   "execution_count": null,
   "id": "3615f85d",
   "metadata": {},
   "outputs": [],
   "source": []
  }
 ],
 "metadata": {
  "kernelspec": {
   "display_name": "Python 3 (ipykernel)",
   "language": "python",
   "name": "python3"
  },
  "language_info": {
   "codemirror_mode": {
    "name": "ipython",
    "version": 3
   },
   "file_extension": ".py",
   "mimetype": "text/x-python",
   "name": "python",
   "nbconvert_exporter": "python",
   "pygments_lexer": "ipython3",
   "version": "3.11.4"
  }
 },
 "nbformat": 4,
 "nbformat_minor": 5
}
